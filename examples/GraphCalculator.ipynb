{
 "cells": [
  {
   "cell_type": "code",
   "execution_count": 2,
   "metadata": {
    "collapsed": true
   },
   "outputs": [],
   "source": [
    "import sys\n",
    "path =\"/home/sergio/github/shaolin-master\"\n",
    "sys.path.append(path)"
   ]
  },
  {
   "cell_type": "code",
   "execution_count": 23,
   "metadata": {
    "collapsed": false
   },
   "outputs": [
    {
     "data": {
      "text/html": [
       "\n",
       "<style>\n",
       ".container { width:100% !important; }\n",
       ".input{ width:60% !important;\n",
       "       align: center;\n",
       "      }\n",
       ".text_cell{ width:70% !important;\n",
       "            font-size: 16px;}\n",
       ".title {align:center !important;}\n",
       "</style>"
      ],
      "text/plain": [
       "<IPython.core.display.HTML object>"
      ]
     },
     "execution_count": 23,
     "metadata": {},
     "output_type": "execute_result"
    }
   ],
   "source": [
    "#wide screen hack, great for making big plots and have more room for the control panels\n",
    "from IPython.core.display import HTML\n",
    "html ='''\n",
    "<style>\n",
    ".container { width:100% !important; }\n",
    ".input{ width:60% !important;\n",
    "       align: center;\n",
    "      }\n",
    ".text_cell{ width:70% !important;\n",
    "            font-size: 16px;}\n",
    ".title {align:center !important;}\n",
    "</style>'''\n",
    "HTML(html)"
   ]
  },
  {
   "cell_type": "markdown",
   "metadata": {},
   "source": [
    "# Shaolin GraphCalculator tutorial"
   ]
  },
  {
   "cell_type": "markdown",
   "metadata": {},
   "source": [
    "<a id='index'></a>"
   ]
  },
  {
   "cell_type": "markdown",
   "metadata": {},
   "source": [
    "## Index"
   ]
  },
  {
   "cell_type": "markdown",
   "metadata": {},
   "source": [
    "- [1 Introduction](#intro)\n",
    "- [2 Loading the sample data](#sample_data)\n",
    "    - [2.1 Calculating the graph matrices](#sample_matrices)\n",
    "    - [2.2 Calculating some metrics for the nodes](sample_node_metrics)\n",
    "- [3 GraphCalculator componenets](#components)\n",
    "   - [3.1 Graph creation parameters](#gc_parameters)\n",
    "   - [3.2 Matrix transformations](#matrix_transforms)\n",
    "   - [3.3 Graph layout](#graph_layout)\n",
    "\n",
    "- [4 GraphCalculator data](#data)\n",
    "   - [4.1 Node graph metrics](#node_metrics)\n",
    "   - [4.2 Edge metrics](#edge_metrics)\n",
    "   - [4.3 External node metrics](#external_node)\n",
    "   - [4.4 Networkx Graph](#networkx_graph)"
   ]
  },
  {
   "cell_type": "markdown",
   "metadata": {},
   "source": [
    "<a id='introduction'></a>"
   ]
  },
  {
   "cell_type": "markdown",
   "metadata": {},
   "source": [
    "# 1 Introduction"
   ]
  },
  {
   "cell_type": "markdown",
   "metadata": {},
   "source": [
    "In this tutorial we will analyse the structure of the graph resulting from the correlation matrix of the prices of different currency exchanges. We just need time series data and a few lines of code to map matrices into graphs and calculate its metrics."
   ]
  },
  {
   "cell_type": "markdown",
   "metadata": {},
   "source": [
    "<a id='sample_data'></a>"
   ]
  },
  {
   "cell_type": "markdown",
   "metadata": {},
   "source": [
    "# 2 Loading the sample data"
   ]
  },
  {
   "cell_type": "markdown",
   "metadata": {},
   "source": [
    "[Back to top](#index)"
   ]
  },
  {
   "cell_type": "markdown",
   "metadata": {},
   "source": [
    "We are using a week of hourly data data from different to conduct our analysis. Each time series has also its normalized price, its returns and its logarithmic returns so you don't have to calculate it if you want to use it. In this example we will start just with the normalized price values."
   ]
  },
  {
   "cell_type": "code",
   "execution_count": null,
   "metadata": {
    "collapsed": true
   },
   "outputs": [],
   "source": [
    "import numpy as np\n",
    "import pandas as pd\n",
    "from scipy import stats\n",
    "from IPython.display import Image #this is for displaying the widgets in the github repo\n",
    "from shaolin.dashboards.graph import GraphCalculator\n",
    "forex_data = pd.read_hdf('gcalculator_data/forex_sample.h5')\n",
    "forex_data.items,forex_data.minor_axis,forex_data.major_axis"
   ]
  },
  {
   "cell_type": "code",
   "execution_count": 25,
   "metadata": {
    "collapsed": false
   },
   "outputs": [
    {
     "data": {
      "text/html": [
       "<div>\n",
       "<table border=\"1\" class=\"dataframe\">\n",
       "  <thead>\n",
       "    <tr style=\"text-align: right;\">\n",
       "      <th></th>\n",
       "      <th>AUDUSD</th>\n",
       "      <th>EURUSD</th>\n",
       "      <th>GBPUSD</th>\n",
       "      <th>NZDUSD</th>\n",
       "      <th>USDCAD</th>\n",
       "      <th>USDCHF</th>\n",
       "      <th>USDJPY</th>\n",
       "    </tr>\n",
       "  </thead>\n",
       "  <tbody>\n",
       "    <tr>\n",
       "      <th>2016-02-15 00:00:00</th>\n",
       "      <td>1.000000</td>\n",
       "      <td>1.000000</td>\n",
       "      <td>1.000000</td>\n",
       "      <td>1.000000</td>\n",
       "      <td>1.000000</td>\n",
       "      <td>1.000000</td>\n",
       "      <td>1.000000</td>\n",
       "    </tr>\n",
       "    <tr>\n",
       "      <th>2016-02-15 01:00:00</th>\n",
       "      <td>1.000956</td>\n",
       "      <td>0.998559</td>\n",
       "      <td>1.001034</td>\n",
       "      <td>1.001826</td>\n",
       "      <td>0.998471</td>\n",
       "      <td>1.000491</td>\n",
       "      <td>1.001224</td>\n",
       "    </tr>\n",
       "    <tr>\n",
       "      <th>2016-02-15 02:00:00</th>\n",
       "      <td>1.001238</td>\n",
       "      <td>0.999502</td>\n",
       "      <td>1.000462</td>\n",
       "      <td>1.001267</td>\n",
       "      <td>0.998153</td>\n",
       "      <td>0.999530</td>\n",
       "      <td>0.997675</td>\n",
       "    </tr>\n",
       "    <tr>\n",
       "      <th>2016-02-15 03:00:00</th>\n",
       "      <td>1.003418</td>\n",
       "      <td>0.998514</td>\n",
       "      <td>1.000600</td>\n",
       "      <td>1.001750</td>\n",
       "      <td>0.997417</td>\n",
       "      <td>1.000726</td>\n",
       "      <td>1.000643</td>\n",
       "    </tr>\n",
       "    <tr>\n",
       "      <th>2016-02-15 04:00:00</th>\n",
       "      <td>1.004810</td>\n",
       "      <td>0.997972</td>\n",
       "      <td>1.000489</td>\n",
       "      <td>1.002882</td>\n",
       "      <td>0.996746</td>\n",
       "      <td>1.001615</td>\n",
       "      <td>1.002307</td>\n",
       "    </tr>\n",
       "  </tbody>\n",
       "</table>\n",
       "</div>"
      ],
      "text/plain": [
       "                       AUDUSD    EURUSD    GBPUSD    NZDUSD    USDCAD  \\\n",
       "2016-02-15 00:00:00  1.000000  1.000000  1.000000  1.000000  1.000000   \n",
       "2016-02-15 01:00:00  1.000956  0.998559  1.001034  1.001826  0.998471   \n",
       "2016-02-15 02:00:00  1.001238  0.999502  1.000462  1.001267  0.998153   \n",
       "2016-02-15 03:00:00  1.003418  0.998514  1.000600  1.001750  0.997417   \n",
       "2016-02-15 04:00:00  1.004810  0.997972  1.000489  1.002882  0.996746   \n",
       "\n",
       "                       USDCHF    USDJPY  \n",
       "2016-02-15 00:00:00  1.000000  1.000000  \n",
       "2016-02-15 01:00:00  1.000491  1.001224  \n",
       "2016-02-15 02:00:00  0.999530  0.997675  \n",
       "2016-02-15 03:00:00  1.000726  1.000643  \n",
       "2016-02-15 04:00:00  1.001615  1.002307  "
      ]
     },
     "execution_count": 25,
     "metadata": {},
     "output_type": "execute_result"
    }
   ],
   "source": [
    "fund = forex_data['fund']\n",
    "fund.head()"
   ]
  },
  {
   "cell_type": "markdown",
   "metadata": {},
   "source": [
    "<a id='sample_matrices'></a>"
   ]
  },
  {
   "cell_type": "markdown",
   "metadata": {},
   "source": [
    "## 2.1 Calculating the graph matrices"
   ]
  },
  {
   "cell_type": "markdown",
   "metadata": {},
   "source": [
    "[Back to top](#index)"
   ]
  },
  {
   "cell_type": "markdown",
   "metadata": {},
   "source": [
    "In this case we will start calculating the correlation and covariance matrices of the series."
   ]
  },
  {
   "cell_type": "code",
   "execution_count": 6,
   "metadata": {
    "collapsed": false
   },
   "outputs": [],
   "source": [
    "matrices = {}\n",
    "matrices['corr'] = fund.corr()\n",
    "matrices['cov'] = fund.cov()\n",
    "matrices['exchange'] = fund.corr()#alpha version hack, needs to be a matrix called exchange. you dont\n",
    "                                  #need to use it\n",
    "matrix_panel = pd.Panel(matrices)"
   ]
  },
  {
   "cell_type": "code",
   "execution_count": 32,
   "metadata": {
    "collapsed": false
   },
   "outputs": [
    {
     "data": {
      "text/plain": [
       "<class 'pandas.core.panel.Panel'>\n",
       "Dimensions: 3 (items) x 7 (major_axis) x 7 (minor_axis)\n",
       "Items axis: corr to exchange\n",
       "Major_axis axis: AUDUSD to USDJPY\n",
       "Minor_axis axis: AUDUSD to USDJPY"
      ]
     },
     "execution_count": 32,
     "metadata": {},
     "output_type": "execute_result"
    }
   ],
   "source": [
    "matrix_panel"
   ]
  },
  {
   "cell_type": "markdown",
   "metadata": {},
   "source": [
    "<a id='sample_node_metrics'></a>"
   ]
  },
  {
   "cell_type": "markdown",
   "metadata": {},
   "source": [
    "## 2.2 Calculating some metrics for the nodes"
   ]
  },
  {
   "cell_type": "markdown",
   "metadata": {},
   "source": [
    "[Back to top](#index)"
   ]
  },
  {
   "cell_type": "markdown",
   "metadata": {},
   "source": [
    "This data will be used to add additional information to every node of the graph. This information will be included in the GraphCalculator."
   ]
  },
  {
   "cell_type": "code",
   "execution_count": 33,
   "metadata": {
    "collapsed": true
   },
   "outputs": [],
   "source": [
    "def calculate_pdf(x,n=1000):\n",
    "        \"\"\"Fits a Gaussian Kernel, resamples n values and returns (X,p(x=X))\"\"\"\n",
    "        \n",
    "        try:\n",
    "            kernel = stats.gaussian_kde(x,bw_method='scott')\n",
    "            X= kernel.resample(n)\n",
    "            p = kernel(X)\n",
    "        except:\n",
    "            X= x\n",
    "            p = np.ones(len(x))*1.0/len(x)\n",
    "        return X.flatten(),p.flatten()\n",
    "\n",
    "def shannon_entropy(x,n=1000):\n",
    "    X,p = calculate_pdf(x,n)\n",
    "    ent = p*np.log2(p)\n",
    "    return -ent.sum()/(10*n)# this way we dont get values too big. \n",
    "                            #After all, entropy is a purely arbitrary measure ;)\n",
    "\n",
    "def mean_rets(x):\n",
    "     return x.pct_change().mean()*10e4\n",
    "\n",
    "def std_rets(x):\n",
    "     return x.pct_change().mean()*10e4\n",
    "    \n",
    "def total_rets(x):\n",
    "    return x.pct_change().sum()"
   ]
  },
  {
   "cell_type": "code",
   "execution_count": 34,
   "metadata": {
    "collapsed": false
   },
   "outputs": [],
   "source": [
    "node_metrics = pd.DataFrame(columns=fund.columns)\n",
    "funcs = [total_rets, np.mean, np.std, shannon_entropy,mean_rets,std_rets]\n",
    "for fun in funcs:\n",
    "    node_metrics.ix[fun.__name__] = fund.apply(fun)"
   ]
  },
  {
   "cell_type": "code",
   "execution_count": 35,
   "metadata": {
    "collapsed": false
   },
   "outputs": [
    {
     "data": {
      "text/html": [
       "<div>\n",
       "<table border=\"1\" class=\"dataframe\">\n",
       "  <thead>\n",
       "    <tr style=\"text-align: right;\">\n",
       "      <th></th>\n",
       "      <th>AUDUSD</th>\n",
       "      <th>EURUSD</th>\n",
       "      <th>GBPUSD</th>\n",
       "      <th>NZDUSD</th>\n",
       "      <th>USDCAD</th>\n",
       "      <th>USDCHF</th>\n",
       "      <th>USDJPY</th>\n",
       "    </tr>\n",
       "  </thead>\n",
       "  <tbody>\n",
       "    <tr>\n",
       "      <th>total_rets</th>\n",
       "      <td>0.044782</td>\n",
       "      <td>-0.004359</td>\n",
       "      <td>-0.015000</td>\n",
       "      <td>0.005178</td>\n",
       "      <td>-0.034737</td>\n",
       "      <td>0.005485</td>\n",
       "      <td>-0.006254</td>\n",
       "    </tr>\n",
       "    <tr>\n",
       "      <th>mean</th>\n",
       "      <td>1.019019</td>\n",
       "      <td>0.980220</td>\n",
       "      <td>0.975572</td>\n",
       "      <td>1.007091</td>\n",
       "      <td>0.978751</td>\n",
       "      <td>1.015520</td>\n",
       "      <td>0.997831</td>\n",
       "    </tr>\n",
       "    <tr>\n",
       "      <th>std</th>\n",
       "      <td>0.018122</td>\n",
       "      <td>0.008516</td>\n",
       "      <td>0.012586</td>\n",
       "      <td>0.010881</td>\n",
       "      <td>0.013711</td>\n",
       "      <td>0.004247</td>\n",
       "      <td>0.006199</td>\n",
       "    </tr>\n",
       "    <tr>\n",
       "      <th>shannon_entropy</th>\n",
       "      <td>-9.747734</td>\n",
       "      <td>-17.154454</td>\n",
       "      <td>-10.398859</td>\n",
       "      <td>-15.097520</td>\n",
       "      <td>-9.410607</td>\n",
       "      <td>-42.464386</td>\n",
       "      <td>-26.590648</td>\n",
       "    </tr>\n",
       "    <tr>\n",
       "      <th>mean_rets</th>\n",
       "      <td>7.526429</td>\n",
       "      <td>-0.732642</td>\n",
       "      <td>-2.520989</td>\n",
       "      <td>0.870311</td>\n",
       "      <td>-5.838132</td>\n",
       "      <td>0.921772</td>\n",
       "      <td>-1.051116</td>\n",
       "    </tr>\n",
       "    <tr>\n",
       "      <th>std_rets</th>\n",
       "      <td>7.526429</td>\n",
       "      <td>-0.732642</td>\n",
       "      <td>-2.520989</td>\n",
       "      <td>0.870311</td>\n",
       "      <td>-5.838132</td>\n",
       "      <td>0.921772</td>\n",
       "      <td>-1.051116</td>\n",
       "    </tr>\n",
       "  </tbody>\n",
       "</table>\n",
       "</div>"
      ],
      "text/plain": [
       "                   AUDUSD     EURUSD     GBPUSD     NZDUSD    USDCAD  \\\n",
       "total_rets       0.044782  -0.004359  -0.015000   0.005178 -0.034737   \n",
       "mean             1.019019   0.980220   0.975572   1.007091  0.978751   \n",
       "std              0.018122   0.008516   0.012586   0.010881  0.013711   \n",
       "shannon_entropy -9.747734 -17.154454 -10.398859 -15.097520 -9.410607   \n",
       "mean_rets        7.526429  -0.732642  -2.520989   0.870311 -5.838132   \n",
       "std_rets         7.526429  -0.732642  -2.520989   0.870311 -5.838132   \n",
       "\n",
       "                    USDCHF     USDJPY  \n",
       "total_rets        0.005485  -0.006254  \n",
       "mean              1.015520   0.997831  \n",
       "std               0.004247   0.006199  \n",
       "shannon_entropy -42.464386 -26.590648  \n",
       "mean_rets         0.921772  -1.051116  \n",
       "std_rets          0.921772  -1.051116  "
      ]
     },
     "execution_count": 35,
     "metadata": {},
     "output_type": "execute_result"
    }
   ],
   "source": [
    "node_metrics"
   ]
  },
  {
   "cell_type": "markdown",
   "metadata": {},
   "source": [
    "<a id='components'></a>"
   ]
  },
  {
   "cell_type": "markdown",
   "metadata": {},
   "source": [
    "# 3 GraphCalculator components"
   ]
  },
  {
   "cell_type": "markdown",
   "metadata": {},
   "source": [
    "[Back to top](#index)"
   ]
  },
  {
   "cell_type": "markdown",
   "metadata": {},
   "source": [
    "The GraphCalculator lets us have complete control over the process of turning a matrix and arbitrary data into a graph. Although every component can be used as a standalone widget it is recommended to use the *widget* attribute for controlling the GraphCalculator.\n",
    "\n",
    "Every component can be hidden with the toggle buttons situated at the bottom, and every change you make in the widget will take effect after you click the Calculate button."
   ]
  },
  {
   "cell_type": "code",
   "execution_count": 37,
   "metadata": {
    "collapsed": false
   },
   "outputs": [
    {
     "data": {
      "image/png": "[encoded data removed]",
      "text/plain": [
       "<IPython.core.display.Image object>"
      ]
     },
     "execution_count": 37,
     "metadata": {},
     "output_type": "execute_result"
    }
   ],
   "source": [
    "gc = GraphCalculator(node_metrics=node_metrics,matrix_panel=matrix_panel)\n",
    "\n",
    "gc.widget\n",
    "Image(filename='gcalculator_data/img_1.png') "
   ]
  },
  {
   "cell_type": "markdown",
   "metadata": {},
   "source": [
    "<a id='gc_parameters'></a>"
   ]
  },
  {
   "cell_type": "markdown",
   "metadata": {},
   "source": [
    "## 3.1 Graph creation parameters"
   ]
  },
  {
   "cell_type": "markdown",
   "metadata": {},
   "source": [
    "[Back to top](#index)"
   ]
  },
  {
   "cell_type": "markdown",
   "metadata": {},
   "source": [
    "This widget is used to select which kind of graph will be calculated from the supplied matrix."
   ]
  },
  {
   "cell_type": "markdown",
   "metadata": {},
   "source": [
    "<img src='gcalculator_data/creation.png' style=\"height: 450px;\"></img>"
   ]
  },
  {
   "cell_type": "markdown",
   "metadata": {},
   "source": [
    "### Graph type"
   ]
  },
  {
   "cell_type": "markdown",
   "metadata": {},
   "source": [
    "This is how the matrix will be converted into a graph. There are currently three possible options to build a non directed graph:\n",
    "\n",
    "- **Full matrix**: The matrix will be interpreted as the adjacency matrix of a full connected graph.\n",
    "\n",
    "- **MST**: The target graph will be a minimum spanning tree constructed and the data matrix.\n",
    "\n",
    "- **PMFG**: Maximum planary filtered graph, calculated from the data matrix."
   ]
  },
  {
   "cell_type": "markdown",
   "metadata": {},
   "source": [
    "### Absolute value threshold"
   ]
  },
  {
   "cell_type": "markdown",
   "metadata": {},
   "source": [
    "Minimum absolute value forn an element of the matrix needed to be taken into account as a valid edge."
   ]
  },
  {
   "cell_type": "markdown",
   "metadata": {},
   "source": [
    "### Invert distance"
   ]
  },
  {
   "cell_type": "markdown",
   "metadata": {},
   "source": [
    "Use 1/value instead of the original value of the data matrix."
   ]
  },
  {
   "cell_type": "markdown",
   "metadata": {},
   "source": [
    "### Metrics\n",
    "\n"
   ]
  },
  {
   "cell_type": "markdown",
   "metadata": {},
   "source": [
    "Node metrics that will be calculated when the graph is constructed"
   ]
  },
  {
   "cell_type": "markdown",
   "metadata": {},
   "source": [
    "### Target attribute"
   ]
  },
  {
   "cell_type": "markdown",
   "metadata": {},
   "source": [
    "This widget allows us to select which matrix of our matrix panel will be used as an adjacency matrix for the graph. In other words, this will select which data matrix we will convert into a graph."
   ]
  },
  {
   "cell_type": "markdown",
   "metadata": {},
   "source": [
    "<a id='matrix_transforms'></a>"
   ]
  },
  {
   "cell_type": "markdown",
   "metadata": {},
   "source": [
    "## 3.2 Matrix transformations"
   ]
  },
  {
   "cell_type": "markdown",
   "metadata": {},
   "source": [
    "[Back to top](#index)"
   ]
  },
  {
   "cell_type": "markdown",
   "metadata": {},
   "source": [
    "This widget handles the transformations we will apply to the target data matrix before mapping it into a graph. One, or a succession of the following transformations has to be applied to the matrix.\n",
    "\n",
    "- **Raw**: Do not apply any transformation.<br>\n",
    "\n",
    "- **Scale**: Rescale the values of the matrix to match the interval [Rescale min, Rescale max].<br>\n",
    "\n",
    "- **Clip**: All the values lower than Clip min will be changed for Clip min and all the values greater than Clip          max will be changed for Clip max.<br>\n",
    "\n",
    "- **Zscore**: The matrix will be transformed so its elements have mean 0 and a standard deviation of 1.\n",
    "- **Distance**: The matrix will be transformed according to the following distance function: "
   ]
  },
  {
   "cell_type": "raw",
   "metadata": {},
   "source": [
    "np.sqrt(2 * np.clip(1. - correlation_matrix ** 2, 0., 2.))"
   ]
  },
  {
   "cell_type": "markdown",
   "metadata": {},
   "source": [
    "<img src='gcalculator_data/matrix.png' style=\"height: 450px;\"></img>"
   ]
  },
  {
   "cell_type": "markdown",
   "metadata": {},
   "source": [
    "<a id='graph_layout'></a>"
   ]
  },
  {
   "cell_type": "markdown",
   "metadata": {},
   "source": [
    "## 3.3 Graph Layout"
   ]
  },
  {
   "cell_type": "markdown",
   "metadata": {},
   "source": [
    "[Back to top](#index)"
   ]
  },
  {
   "cell_type": "markdown",
   "metadata": {},
   "source": [
    "<img src='gcalculator_data/layout.png' style=\"height: 300px;\"></img>"
   ]
  },
  {
   "cell_type": "markdown",
   "metadata": {},
   "source": [
    "The Layout manager is the widget in charge of managing the layout that we will use to draw our graph. It can calculate the layouts of the selected type. Any layout available in the networkx package is included in the LayoutCalculator and any of its parametrs can be tweaked via a widget.\n",
    "\n",
    "**Alpha version disclaimer**: \n",
    "- Can only calculate both the 3D and the 2D and not only one of them separatedly."
   ]
  },
  {
   "cell_type": "markdown",
   "metadata": {},
   "source": [
    "<a id='data'></a>"
   ]
  },
  {
   "cell_type": "markdown",
   "metadata": {},
   "source": [
    "# 4 GraphCalculator Data"
   ]
  },
  {
   "cell_type": "markdown",
   "metadata": {},
   "source": [
    "[Back to top](#index)"
   ]
  },
  {
   "cell_type": "markdown",
   "metadata": {},
   "source": [
    "The results of running the GraphCalculator will be sored internally in different object attributes as explained below."
   ]
  },
  {
   "cell_type": "markdown",
   "metadata": {},
   "source": [
    "<a id='node_metrics'></a>"
   ]
  },
  {
   "cell_type": "markdown",
   "metadata": {},
   "source": [
    "## 4.1 Node graph metrics"
   ]
  },
  {
   "cell_type": "markdown",
   "metadata": {},
   "source": [
    "[Back to top](#index)"
   ]
  },
  {
   "cell_type": "markdown",
   "metadata": {},
   "source": [
    "The metrics that are graph related are sored as a dataframe in the *node* attribute as a DataFrame."
   ]
  },
  {
   "cell_type": "code",
   "execution_count": 14,
   "metadata": {
    "collapsed": false
   },
   "outputs": [
    {
     "data": {
      "text/html": [
       "<div>\n",
       "<table border=\"1\" class=\"dataframe\">\n",
       "  <thead>\n",
       "    <tr style=\"text-align: right;\">\n",
       "      <th></th>\n",
       "      <th>betweenness</th>\n",
       "      <th>betweenness_centrality</th>\n",
       "      <th>betweenness_weighted</th>\n",
       "      <th>closeness</th>\n",
       "      <th>degree</th>\n",
       "      <th>degree_weighted</th>\n",
       "      <th>eccentricity</th>\n",
       "      <th>eccentricity_weighted</th>\n",
       "      <th>eigenvector</th>\n",
       "      <th>eigenvector_weighted</th>\n",
       "      <th>index</th>\n",
       "    </tr>\n",
       "  </thead>\n",
       "  <tbody>\n",
       "    <tr>\n",
       "      <th>count</th>\n",
       "      <td>7.0</td>\n",
       "      <td>7.000000</td>\n",
       "      <td>7.000000</td>\n",
       "      <td>7.0</td>\n",
       "      <td>7.0</td>\n",
       "      <td>7.0</td>\n",
       "      <td>7.0</td>\n",
       "      <td>7.0</td>\n",
       "      <td>7.000000</td>\n",
       "      <td>7.000000</td>\n",
       "      <td>7.000000</td>\n",
       "    </tr>\n",
       "    <tr>\n",
       "      <th>mean</th>\n",
       "      <td>6.0</td>\n",
       "      <td>3.571429</td>\n",
       "      <td>3.571429</td>\n",
       "      <td>6.0</td>\n",
       "      <td>6.0</td>\n",
       "      <td>6.0</td>\n",
       "      <td>6.0</td>\n",
       "      <td>6.0</td>\n",
       "      <td>3.571429</td>\n",
       "      <td>3.000000</td>\n",
       "      <td>3.000000</td>\n",
       "    </tr>\n",
       "    <tr>\n",
       "      <th>std</th>\n",
       "      <td>0.0</td>\n",
       "      <td>2.225395</td>\n",
       "      <td>2.225395</td>\n",
       "      <td>0.0</td>\n",
       "      <td>0.0</td>\n",
       "      <td>0.0</td>\n",
       "      <td>0.0</td>\n",
       "      <td>0.0</td>\n",
       "      <td>2.225395</td>\n",
       "      <td>2.160247</td>\n",
       "      <td>2.160247</td>\n",
       "    </tr>\n",
       "    <tr>\n",
       "      <th>min</th>\n",
       "      <td>6.0</td>\n",
       "      <td>0.000000</td>\n",
       "      <td>0.000000</td>\n",
       "      <td>6.0</td>\n",
       "      <td>6.0</td>\n",
       "      <td>6.0</td>\n",
       "      <td>6.0</td>\n",
       "      <td>6.0</td>\n",
       "      <td>0.000000</td>\n",
       "      <td>0.000000</td>\n",
       "      <td>0.000000</td>\n",
       "    </tr>\n",
       "    <tr>\n",
       "      <th>25%</th>\n",
       "      <td>6.0</td>\n",
       "      <td>2.000000</td>\n",
       "      <td>2.000000</td>\n",
       "      <td>6.0</td>\n",
       "      <td>6.0</td>\n",
       "      <td>6.0</td>\n",
       "      <td>6.0</td>\n",
       "      <td>6.0</td>\n",
       "      <td>2.000000</td>\n",
       "      <td>1.500000</td>\n",
       "      <td>1.500000</td>\n",
       "    </tr>\n",
       "    <tr>\n",
       "      <th>50%</th>\n",
       "      <td>6.0</td>\n",
       "      <td>5.000000</td>\n",
       "      <td>5.000000</td>\n",
       "      <td>6.0</td>\n",
       "      <td>6.0</td>\n",
       "      <td>6.0</td>\n",
       "      <td>6.0</td>\n",
       "      <td>6.0</td>\n",
       "      <td>5.000000</td>\n",
       "      <td>3.000000</td>\n",
       "      <td>3.000000</td>\n",
       "    </tr>\n",
       "    <tr>\n",
       "      <th>75%</th>\n",
       "      <td>6.0</td>\n",
       "      <td>5.000000</td>\n",
       "      <td>5.000000</td>\n",
       "      <td>6.0</td>\n",
       "      <td>6.0</td>\n",
       "      <td>6.0</td>\n",
       "      <td>6.0</td>\n",
       "      <td>6.0</td>\n",
       "      <td>5.000000</td>\n",
       "      <td>4.500000</td>\n",
       "      <td>4.500000</td>\n",
       "    </tr>\n",
       "    <tr>\n",
       "      <th>max</th>\n",
       "      <td>6.0</td>\n",
       "      <td>6.000000</td>\n",
       "      <td>6.000000</td>\n",
       "      <td>6.0</td>\n",
       "      <td>6.0</td>\n",
       "      <td>6.0</td>\n",
       "      <td>6.0</td>\n",
       "      <td>6.0</td>\n",
       "      <td>6.000000</td>\n",
       "      <td>6.000000</td>\n",
       "      <td>6.000000</td>\n",
       "    </tr>\n",
       "  </tbody>\n",
       "</table>\n",
       "</div>"
      ],
      "text/plain": [
       "       betweenness  betweenness_centrality  betweenness_weighted  closeness  \\\n",
       "count          7.0                7.000000              7.000000        7.0   \n",
       "mean           6.0                3.571429              3.571429        6.0   \n",
       "std            0.0                2.225395              2.225395        0.0   \n",
       "min            6.0                0.000000              0.000000        6.0   \n",
       "25%            6.0                2.000000              2.000000        6.0   \n",
       "50%            6.0                5.000000              5.000000        6.0   \n",
       "75%            6.0                5.000000              5.000000        6.0   \n",
       "max            6.0                6.000000              6.000000        6.0   \n",
       "\n",
       "       degree  degree_weighted  eccentricity  eccentricity_weighted  \\\n",
       "count     7.0              7.0           7.0                    7.0   \n",
       "mean      6.0              6.0           6.0                    6.0   \n",
       "std       0.0              0.0           0.0                    0.0   \n",
       "min       6.0              6.0           6.0                    6.0   \n",
       "25%       6.0              6.0           6.0                    6.0   \n",
       "50%       6.0              6.0           6.0                    6.0   \n",
       "75%       6.0              6.0           6.0                    6.0   \n",
       "max       6.0              6.0           6.0                    6.0   \n",
       "\n",
       "       eigenvector  eigenvector_weighted     index  \n",
       "count     7.000000              7.000000  7.000000  \n",
       "mean      3.571429              3.000000  3.000000  \n",
       "std       2.225395              2.160247  2.160247  \n",
       "min       0.000000              0.000000  0.000000  \n",
       "25%       2.000000              1.500000  1.500000  \n",
       "50%       5.000000              3.000000  3.000000  \n",
       "75%       5.000000              4.500000  4.500000  \n",
       "max       6.000000              6.000000  6.000000  "
      ]
     },
     "execution_count": 14,
     "metadata": {},
     "output_type": "execute_result"
    }
   ],
   "source": [
    "gc.node = gc.node.dropna(axis=1)\n",
    "gc.node.describe()"
   ]
  },
  {
   "cell_type": "code",
   "execution_count": 15,
   "metadata": {
    "collapsed": false
   },
   "outputs": [
    {
     "data": {
      "text/html": [
       "<div>\n",
       "<table border=\"1\" class=\"dataframe\">\n",
       "  <thead>\n",
       "    <tr style=\"text-align: right;\">\n",
       "      <th></th>\n",
       "      <th>betweenness</th>\n",
       "      <th>betweenness_centrality</th>\n",
       "      <th>betweenness_weighted</th>\n",
       "      <th>closeness</th>\n",
       "      <th>degree</th>\n",
       "      <th>degree_weighted</th>\n",
       "      <th>eccentricity</th>\n",
       "      <th>eccentricity_weighted</th>\n",
       "      <th>eigenvector</th>\n",
       "      <th>eigenvector_weighted</th>\n",
       "      <th>label</th>\n",
       "      <th>index</th>\n",
       "    </tr>\n",
       "  </thead>\n",
       "  <tbody>\n",
       "    <tr>\n",
       "      <th>AUDUSD</th>\n",
       "      <td>6.0</td>\n",
       "      <td>5.0</td>\n",
       "      <td>5.0</td>\n",
       "      <td>6.0</td>\n",
       "      <td>6.0</td>\n",
       "      <td>6.0</td>\n",
       "      <td>6.0</td>\n",
       "      <td>6.0</td>\n",
       "      <td>5.0</td>\n",
       "      <td>3.0</td>\n",
       "      <td>AUDUSD</td>\n",
       "      <td>0</td>\n",
       "    </tr>\n",
       "    <tr>\n",
       "      <th>EURUSD</th>\n",
       "      <td>6.0</td>\n",
       "      <td>2.0</td>\n",
       "      <td>2.0</td>\n",
       "      <td>6.0</td>\n",
       "      <td>6.0</td>\n",
       "      <td>6.0</td>\n",
       "      <td>6.0</td>\n",
       "      <td>6.0</td>\n",
       "      <td>2.0</td>\n",
       "      <td>0.0</td>\n",
       "      <td>EURUSD</td>\n",
       "      <td>1</td>\n",
       "    </tr>\n",
       "    <tr>\n",
       "      <th>GBPUSD</th>\n",
       "      <td>6.0</td>\n",
       "      <td>6.0</td>\n",
       "      <td>6.0</td>\n",
       "      <td>6.0</td>\n",
       "      <td>6.0</td>\n",
       "      <td>6.0</td>\n",
       "      <td>6.0</td>\n",
       "      <td>6.0</td>\n",
       "      <td>5.0</td>\n",
       "      <td>1.0</td>\n",
       "      <td>GBPUSD</td>\n",
       "      <td>2</td>\n",
       "    </tr>\n",
       "    <tr>\n",
       "      <th>NZDUSD</th>\n",
       "      <td>6.0</td>\n",
       "      <td>5.0</td>\n",
       "      <td>5.0</td>\n",
       "      <td>6.0</td>\n",
       "      <td>6.0</td>\n",
       "      <td>6.0</td>\n",
       "      <td>6.0</td>\n",
       "      <td>6.0</td>\n",
       "      <td>5.0</td>\n",
       "      <td>4.0</td>\n",
       "      <td>NZDUSD</td>\n",
       "      <td>3</td>\n",
       "    </tr>\n",
       "    <tr>\n",
       "      <th>USDCAD</th>\n",
       "      <td>6.0</td>\n",
       "      <td>2.0</td>\n",
       "      <td>2.0</td>\n",
       "      <td>6.0</td>\n",
       "      <td>6.0</td>\n",
       "      <td>6.0</td>\n",
       "      <td>6.0</td>\n",
       "      <td>6.0</td>\n",
       "      <td>6.0</td>\n",
       "      <td>2.0</td>\n",
       "      <td>USDCAD</td>\n",
       "      <td>4</td>\n",
       "    </tr>\n",
       "  </tbody>\n",
       "</table>\n",
       "</div>"
      ],
      "text/plain": [
       "        betweenness  betweenness_centrality  betweenness_weighted  closeness  \\\n",
       "AUDUSD          6.0                     5.0                   5.0        6.0   \n",
       "EURUSD          6.0                     2.0                   2.0        6.0   \n",
       "GBPUSD          6.0                     6.0                   6.0        6.0   \n",
       "NZDUSD          6.0                     5.0                   5.0        6.0   \n",
       "USDCAD          6.0                     2.0                   2.0        6.0   \n",
       "\n",
       "        degree  degree_weighted  eccentricity  eccentricity_weighted  \\\n",
       "AUDUSD     6.0              6.0           6.0                    6.0   \n",
       "EURUSD     6.0              6.0           6.0                    6.0   \n",
       "GBPUSD     6.0              6.0           6.0                    6.0   \n",
       "NZDUSD     6.0              6.0           6.0                    6.0   \n",
       "USDCAD     6.0              6.0           6.0                    6.0   \n",
       "\n",
       "        eigenvector  eigenvector_weighted   label  index  \n",
       "AUDUSD          5.0                   3.0  AUDUSD      0  \n",
       "EURUSD          2.0                   0.0  EURUSD      1  \n",
       "GBPUSD          5.0                   1.0  GBPUSD      2  \n",
       "NZDUSD          5.0                   4.0  NZDUSD      3  \n",
       "USDCAD          6.0                   2.0  USDCAD      4  "
      ]
     },
     "execution_count": 15,
     "metadata": {},
     "output_type": "execute_result"
    }
   ],
   "source": [
    "gc.node.head()"
   ]
  },
  {
   "cell_type": "markdown",
   "metadata": {},
   "source": [
    "<a id='edge_metrics'></a>"
   ]
  },
  {
   "cell_type": "markdown",
   "metadata": {},
   "source": [
    "## 4.2 Edge metrics"
   ]
  },
  {
   "cell_type": "markdown",
   "metadata": {},
   "source": [
    "[Back to top](#index)"
   ]
  },
  {
   "cell_type": "markdown",
   "metadata": {},
   "source": [
    "The *edge* attribute is a pandas Panel with all the information regarding the edges of the graph. This means that it will contain two kinds of metrics:\n",
    "\n",
    "- **Edge**: All the metrics calculated on the edges of the graph in the form of an adjacency matrix.\n",
    "\n",
    "- **Matrix**: All the matrices that were not used to build the graph are stored in the form of an adjacency matrix."
   ]
  },
  {
   "cell_type": "code",
   "execution_count": 16,
   "metadata": {
    "collapsed": false
   },
   "outputs": [
    {
     "data": {
      "text/plain": [
       "<class 'pandas.core.panel.Panel'>\n",
       "Dimensions: 7 (items) x 7 (major_axis) x 7 (minor_axis)\n",
       "Items axis: corr to weight\n",
       "Major_axis axis: AUDUSD to USDJPY\n",
       "Minor_axis axis: AUDUSD to USDJPY"
      ]
     },
     "execution_count": 16,
     "metadata": {},
     "output_type": "execute_result"
    }
   ],
   "source": [
    "gc.edge"
   ]
  },
  {
   "cell_type": "code",
   "execution_count": 17,
   "metadata": {
    "collapsed": false
   },
   "outputs": [
    {
     "data": {
      "text/plain": [
       "Index(['corr', 'cov', 'edge_betweenness', 'edge_betweenness_centrality',\n",
       "       'edge_current_flow_betweenness_centrality', 'exchange', 'weight'],\n",
       "      dtype='object')"
      ]
     },
     "execution_count": 17,
     "metadata": {},
     "output_type": "execute_result"
    }
   ],
   "source": [
    "gc.edge.items"
   ]
  },
  {
   "cell_type": "code",
   "execution_count": 18,
   "metadata": {
    "collapsed": false
   },
   "outputs": [
    {
     "data": {
      "text/html": [
       "<div>\n",
       "<table border=\"1\" class=\"dataframe\">\n",
       "  <thead>\n",
       "    <tr style=\"text-align: right;\">\n",
       "      <th></th>\n",
       "      <th>AUDUSD</th>\n",
       "      <th>EURUSD</th>\n",
       "      <th>GBPUSD</th>\n",
       "      <th>NZDUSD</th>\n",
       "      <th>USDCAD</th>\n",
       "      <th>USDCHF</th>\n",
       "      <th>USDJPY</th>\n",
       "    </tr>\n",
       "  </thead>\n",
       "  <tbody>\n",
       "    <tr>\n",
       "      <th>AUDUSD</th>\n",
       "      <td>NaN</td>\n",
       "      <td>-0.000039</td>\n",
       "      <td>0.000033</td>\n",
       "      <td>0.000165</td>\n",
       "      <td>-0.000199</td>\n",
       "      <td>0.000018</td>\n",
       "      <td>0.000005</td>\n",
       "    </tr>\n",
       "    <tr>\n",
       "      <th>EURUSD</th>\n",
       "      <td>-0.000039</td>\n",
       "      <td>NaN</td>\n",
       "      <td>0.000085</td>\n",
       "      <td>-0.000010</td>\n",
       "      <td>0.000076</td>\n",
       "      <td>-0.000028</td>\n",
       "      <td>-0.000003</td>\n",
       "    </tr>\n",
       "    <tr>\n",
       "      <th>GBPUSD</th>\n",
       "      <td>0.000033</td>\n",
       "      <td>0.000085</td>\n",
       "      <td>NaN</td>\n",
       "      <td>0.000021</td>\n",
       "      <td>0.000049</td>\n",
       "      <td>-0.000029</td>\n",
       "      <td>0.000012</td>\n",
       "    </tr>\n",
       "    <tr>\n",
       "      <th>NZDUSD</th>\n",
       "      <td>0.000165</td>\n",
       "      <td>-0.000010</td>\n",
       "      <td>0.000021</td>\n",
       "      <td>NaN</td>\n",
       "      <td>-0.000096</td>\n",
       "      <td>0.000002</td>\n",
       "      <td>0.000001</td>\n",
       "    </tr>\n",
       "    <tr>\n",
       "      <th>USDCAD</th>\n",
       "      <td>-0.000199</td>\n",
       "      <td>0.000076</td>\n",
       "      <td>0.000049</td>\n",
       "      <td>-0.000096</td>\n",
       "      <td>NaN</td>\n",
       "      <td>-0.000031</td>\n",
       "      <td>-0.000022</td>\n",
       "    </tr>\n",
       "    <tr>\n",
       "      <th>USDCHF</th>\n",
       "      <td>0.000018</td>\n",
       "      <td>-0.000028</td>\n",
       "      <td>-0.000029</td>\n",
       "      <td>0.000002</td>\n",
       "      <td>-0.000031</td>\n",
       "      <td>NaN</td>\n",
       "      <td>0.000001</td>\n",
       "    </tr>\n",
       "    <tr>\n",
       "      <th>USDJPY</th>\n",
       "      <td>0.000005</td>\n",
       "      <td>-0.000003</td>\n",
       "      <td>0.000012</td>\n",
       "      <td>0.000001</td>\n",
       "      <td>-0.000022</td>\n",
       "      <td>0.000001</td>\n",
       "      <td>NaN</td>\n",
       "    </tr>\n",
       "  </tbody>\n",
       "</table>\n",
       "</div>"
      ],
      "text/plain": [
       "          AUDUSD    EURUSD    GBPUSD    NZDUSD    USDCAD    USDCHF    USDJPY\n",
       "AUDUSD       NaN -0.000039  0.000033  0.000165 -0.000199  0.000018  0.000005\n",
       "EURUSD -0.000039       NaN  0.000085 -0.000010  0.000076 -0.000028 -0.000003\n",
       "GBPUSD  0.000033  0.000085       NaN  0.000021  0.000049 -0.000029  0.000012\n",
       "NZDUSD  0.000165 -0.000010  0.000021       NaN -0.000096  0.000002  0.000001\n",
       "USDCAD -0.000199  0.000076  0.000049 -0.000096       NaN -0.000031 -0.000022\n",
       "USDCHF  0.000018 -0.000028 -0.000029  0.000002 -0.000031       NaN  0.000001\n",
       "USDJPY  0.000005 -0.000003  0.000012  0.000001 -0.000022  0.000001       NaN"
      ]
     },
     "execution_count": 18,
     "metadata": {},
     "output_type": "execute_result"
    }
   ],
   "source": [
    "gc.edge['cov']"
   ]
  },
  {
   "cell_type": "code",
   "execution_count": 19,
   "metadata": {
    "collapsed": false
   },
   "outputs": [
    {
     "data": {
      "text/html": [
       "<div>\n",
       "<table border=\"1\" class=\"dataframe\">\n",
       "  <thead>\n",
       "    <tr style=\"text-align: right;\">\n",
       "      <th></th>\n",
       "      <th>AUDUSD</th>\n",
       "      <th>EURUSD</th>\n",
       "      <th>GBPUSD</th>\n",
       "      <th>NZDUSD</th>\n",
       "      <th>USDCAD</th>\n",
       "      <th>USDCHF</th>\n",
       "      <th>USDJPY</th>\n",
       "    </tr>\n",
       "  </thead>\n",
       "  <tbody>\n",
       "    <tr>\n",
       "      <th>AUDUSD</th>\n",
       "      <td>NaN</td>\n",
       "      <td>0.047619</td>\n",
       "      <td>0.047619</td>\n",
       "      <td>0.047619</td>\n",
       "      <td>0.047619</td>\n",
       "      <td>0.047619</td>\n",
       "      <td>0.047619</td>\n",
       "    </tr>\n",
       "    <tr>\n",
       "      <th>EURUSD</th>\n",
       "      <td>0.047619</td>\n",
       "      <td>NaN</td>\n",
       "      <td>0.047619</td>\n",
       "      <td>0.047619</td>\n",
       "      <td>0.047619</td>\n",
       "      <td>0.047619</td>\n",
       "      <td>0.047619</td>\n",
       "    </tr>\n",
       "    <tr>\n",
       "      <th>GBPUSD</th>\n",
       "      <td>0.047619</td>\n",
       "      <td>0.047619</td>\n",
       "      <td>NaN</td>\n",
       "      <td>0.047619</td>\n",
       "      <td>0.047619</td>\n",
       "      <td>0.047619</td>\n",
       "      <td>0.047619</td>\n",
       "    </tr>\n",
       "    <tr>\n",
       "      <th>NZDUSD</th>\n",
       "      <td>0.047619</td>\n",
       "      <td>0.047619</td>\n",
       "      <td>0.047619</td>\n",
       "      <td>NaN</td>\n",
       "      <td>0.047619</td>\n",
       "      <td>0.047619</td>\n",
       "      <td>0.047619</td>\n",
       "    </tr>\n",
       "    <tr>\n",
       "      <th>USDCAD</th>\n",
       "      <td>0.047619</td>\n",
       "      <td>0.047619</td>\n",
       "      <td>0.047619</td>\n",
       "      <td>0.047619</td>\n",
       "      <td>NaN</td>\n",
       "      <td>0.047619</td>\n",
       "      <td>0.047619</td>\n",
       "    </tr>\n",
       "    <tr>\n",
       "      <th>USDCHF</th>\n",
       "      <td>0.047619</td>\n",
       "      <td>0.047619</td>\n",
       "      <td>0.047619</td>\n",
       "      <td>0.047619</td>\n",
       "      <td>0.047619</td>\n",
       "      <td>NaN</td>\n",
       "      <td>0.047619</td>\n",
       "    </tr>\n",
       "    <tr>\n",
       "      <th>USDJPY</th>\n",
       "      <td>0.047619</td>\n",
       "      <td>0.047619</td>\n",
       "      <td>0.047619</td>\n",
       "      <td>0.047619</td>\n",
       "      <td>0.047619</td>\n",
       "      <td>0.047619</td>\n",
       "      <td>NaN</td>\n",
       "    </tr>\n",
       "  </tbody>\n",
       "</table>\n",
       "</div>"
      ],
      "text/plain": [
       "          AUDUSD    EURUSD    GBPUSD    NZDUSD    USDCAD    USDCHF    USDJPY\n",
       "AUDUSD       NaN  0.047619  0.047619  0.047619  0.047619  0.047619  0.047619\n",
       "EURUSD  0.047619       NaN  0.047619  0.047619  0.047619  0.047619  0.047619\n",
       "GBPUSD  0.047619  0.047619       NaN  0.047619  0.047619  0.047619  0.047619\n",
       "NZDUSD  0.047619  0.047619  0.047619       NaN  0.047619  0.047619  0.047619\n",
       "USDCAD  0.047619  0.047619  0.047619  0.047619       NaN  0.047619  0.047619\n",
       "USDCHF  0.047619  0.047619  0.047619  0.047619  0.047619       NaN  0.047619\n",
       "USDJPY  0.047619  0.047619  0.047619  0.047619  0.047619  0.047619       NaN"
      ]
     },
     "execution_count": 19,
     "metadata": {},
     "output_type": "execute_result"
    }
   ],
   "source": [
    "gc.edge['edge_betweenness']"
   ]
  },
  {
   "cell_type": "markdown",
   "metadata": {},
   "source": [
    "<a id='external_node'></a>"
   ]
  },
  {
   "cell_type": "markdown",
   "metadata": {},
   "source": [
    "## 4.3 External node metrics"
   ]
  },
  {
   "cell_type": "markdown",
   "metadata": {},
   "source": [
    "[Back to top](#index)"
   ]
  },
  {
   "cell_type": "markdown",
   "metadata": {},
   "source": [
    "The node metrics that were passed as a parameter are stored in the *node_metrics* attribute. They are not currently used by the GraphCalculator. This information is currently used only when displaying the node tooltips on a plot."
   ]
  },
  {
   "cell_type": "code",
   "execution_count": 30,
   "metadata": {
    "collapsed": false
   },
   "outputs": [
    {
     "data": {
      "text/html": [
       "<div>\n",
       "<table border=\"1\" class=\"dataframe\">\n",
       "  <thead>\n",
       "    <tr style=\"text-align: right;\">\n",
       "      <th></th>\n",
       "      <th>AUDUSD</th>\n",
       "      <th>EURUSD</th>\n",
       "      <th>GBPUSD</th>\n",
       "      <th>NZDUSD</th>\n",
       "      <th>USDCAD</th>\n",
       "      <th>USDCHF</th>\n",
       "      <th>USDJPY</th>\n",
       "    </tr>\n",
       "  </thead>\n",
       "  <tbody>\n",
       "    <tr>\n",
       "      <th>total_rets</th>\n",
       "      <td>0.044782</td>\n",
       "      <td>-0.004359</td>\n",
       "      <td>-0.015000</td>\n",
       "      <td>0.005178</td>\n",
       "      <td>-0.034737</td>\n",
       "      <td>0.005485</td>\n",
       "      <td>-0.006254</td>\n",
       "    </tr>\n",
       "    <tr>\n",
       "      <th>mean</th>\n",
       "      <td>1.019019</td>\n",
       "      <td>0.980220</td>\n",
       "      <td>0.975572</td>\n",
       "      <td>1.007091</td>\n",
       "      <td>0.978751</td>\n",
       "      <td>1.015520</td>\n",
       "      <td>0.997831</td>\n",
       "    </tr>\n",
       "    <tr>\n",
       "      <th>std</th>\n",
       "      <td>0.018122</td>\n",
       "      <td>0.008516</td>\n",
       "      <td>0.012586</td>\n",
       "      <td>0.010881</td>\n",
       "      <td>0.013711</td>\n",
       "      <td>0.004247</td>\n",
       "      <td>0.006199</td>\n",
       "    </tr>\n",
       "    <tr>\n",
       "      <th>shannon_entropy</th>\n",
       "      <td>-10.101042</td>\n",
       "      <td>-17.269426</td>\n",
       "      <td>-10.302946</td>\n",
       "      <td>-15.579892</td>\n",
       "      <td>-9.508544</td>\n",
       "      <td>-42.435164</td>\n",
       "      <td>-26.678195</td>\n",
       "    </tr>\n",
       "    <tr>\n",
       "      <th>mean_rets</th>\n",
       "      <td>7.526429</td>\n",
       "      <td>-0.732642</td>\n",
       "      <td>-2.520989</td>\n",
       "      <td>0.870311</td>\n",
       "      <td>-5.838132</td>\n",
       "      <td>0.921772</td>\n",
       "      <td>-1.051116</td>\n",
       "    </tr>\n",
       "    <tr>\n",
       "      <th>std_rets</th>\n",
       "      <td>7.526429</td>\n",
       "      <td>-0.732642</td>\n",
       "      <td>-2.520989</td>\n",
       "      <td>0.870311</td>\n",
       "      <td>-5.838132</td>\n",
       "      <td>0.921772</td>\n",
       "      <td>-1.051116</td>\n",
       "    </tr>\n",
       "  </tbody>\n",
       "</table>\n",
       "</div>"
      ],
      "text/plain": [
       "                    AUDUSD     EURUSD     GBPUSD     NZDUSD    USDCAD  \\\n",
       "total_rets        0.044782  -0.004359  -0.015000   0.005178 -0.034737   \n",
       "mean              1.019019   0.980220   0.975572   1.007091  0.978751   \n",
       "std               0.018122   0.008516   0.012586   0.010881  0.013711   \n",
       "shannon_entropy -10.101042 -17.269426 -10.302946 -15.579892 -9.508544   \n",
       "mean_rets         7.526429  -0.732642  -2.520989   0.870311 -5.838132   \n",
       "std_rets          7.526429  -0.732642  -2.520989   0.870311 -5.838132   \n",
       "\n",
       "                    USDCHF     USDJPY  \n",
       "total_rets        0.005485  -0.006254  \n",
       "mean              1.015520   0.997831  \n",
       "std               0.004247   0.006199  \n",
       "shannon_entropy -42.435164 -26.678195  \n",
       "mean_rets         0.921772  -1.051116  \n",
       "std_rets          0.921772  -1.051116  "
      ]
     },
     "execution_count": 30,
     "metadata": {},
     "output_type": "execute_result"
    }
   ],
   "source": [
    "gc.node_metrics"
   ]
  },
  {
   "cell_type": "markdown",
   "metadata": {},
   "source": [
    "<a id='networkx_graph'></a>"
   ]
  },
  {
   "cell_type": "markdown",
   "metadata": {},
   "source": [
    "## 4.4 Networkx Graph"
   ]
  },
  {
   "cell_type": "markdown",
   "metadata": {},
   "source": [
    "[Back to top](#index)"
   ]
  },
  {
   "cell_type": "markdown",
   "metadata": {},
   "source": [
    "All the data is also stored in a networkx graph containing all the DataFrames of the GraphCalculator as node and edge attributes. It is possible to acces the Graph using the *G* attribute."
   ]
  },
  {
   "cell_type": "code",
   "execution_count": 21,
   "metadata": {
    "collapsed": false,
    "scrolled": false
   },
   "outputs": [
    {
     "data": {
      "text/plain": [
       "{'AUDUSD': {'betweenness': 6,\n",
       "  'betweenness_centrality': 5,\n",
       "  'betweenness_weighted': 5,\n",
       "  'closeness': 6,\n",
       "  'closeness_weighted': None,\n",
       "  'degree': 6,\n",
       "  'degree_weighted': 6,\n",
       "  'eccentricity': 6,\n",
       "  'eccentricity_weighted': 6,\n",
       "  'eigenvector': 5,\n",
       "  'eigenvector_weighted': 3},\n",
       " 'EURUSD': {'betweenness': 6,\n",
       "  'betweenness_centrality': 2,\n",
       "  'betweenness_weighted': 2,\n",
       "  'closeness': 6,\n",
       "  'closeness_weighted': None,\n",
       "  'degree': 6,\n",
       "  'degree_weighted': 6,\n",
       "  'eccentricity': 6,\n",
       "  'eccentricity_weighted': 6,\n",
       "  'eigenvector': 2,\n",
       "  'eigenvector_weighted': 0},\n",
       " 'GBPUSD': {'betweenness': 6,\n",
       "  'betweenness_centrality': 6,\n",
       "  'betweenness_weighted': 6,\n",
       "  'closeness': 6,\n",
       "  'closeness_weighted': None,\n",
       "  'degree': 6,\n",
       "  'degree_weighted': 6,\n",
       "  'eccentricity': 6,\n",
       "  'eccentricity_weighted': 6,\n",
       "  'eigenvector': 5,\n",
       "  'eigenvector_weighted': 1},\n",
       " 'NZDUSD': {'betweenness': 6,\n",
       "  'betweenness_centrality': 5,\n",
       "  'betweenness_weighted': 5,\n",
       "  'closeness': 6,\n",
       "  'closeness_weighted': None,\n",
       "  'degree': 6,\n",
       "  'degree_weighted': 6,\n",
       "  'eccentricity': 6,\n",
       "  'eccentricity_weighted': 6,\n",
       "  'eigenvector': 5,\n",
       "  'eigenvector_weighted': 4},\n",
       " 'USDCAD': {'betweenness': 6,\n",
       "  'betweenness_centrality': 2,\n",
       "  'betweenness_weighted': 2,\n",
       "  'closeness': 6,\n",
       "  'closeness_weighted': None,\n",
       "  'degree': 6,\n",
       "  'degree_weighted': 6,\n",
       "  'eccentricity': 6,\n",
       "  'eccentricity_weighted': 6,\n",
       "  'eigenvector': 6,\n",
       "  'eigenvector_weighted': 2},\n",
       " 'USDCHF': {'betweenness': 6,\n",
       "  'betweenness_centrality': 0,\n",
       "  'betweenness_weighted': 0,\n",
       "  'closeness': 6,\n",
       "  'closeness_weighted': None,\n",
       "  'degree': 6,\n",
       "  'degree_weighted': 6,\n",
       "  'eccentricity': 6,\n",
       "  'eccentricity_weighted': 6,\n",
       "  'eigenvector': 0,\n",
       "  'eigenvector_weighted': 6},\n",
       " 'USDJPY': {'betweenness': 6,\n",
       "  'betweenness_centrality': 5,\n",
       "  'betweenness_weighted': 5,\n",
       "  'closeness': 6,\n",
       "  'closeness_weighted': None,\n",
       "  'degree': 6,\n",
       "  'degree_weighted': 6,\n",
       "  'eccentricity': 6,\n",
       "  'eccentricity_weighted': 6,\n",
       "  'eigenvector': 2,\n",
       "  'eigenvector_weighted': 5}}"
      ]
     },
     "execution_count": 21,
     "metadata": {},
     "output_type": "execute_result"
    }
   ],
   "source": [
    "gc.G.node"
   ]
  },
  {
   "cell_type": "code",
   "execution_count": 22,
   "metadata": {
    "collapsed": false
   },
   "outputs": [
    {
     "data": {
      "text/plain": [
       "{'AUDUSD':                                             EURUSD    GBPUSD    NZDUSD  \\\n",
       " corr                                     -0.250899  0.146507  0.833959   \n",
       " cov                                      -0.000039  0.000033  0.000165   \n",
       " edge_betweenness                          0.047619  0.047619  0.047619   \n",
       " edge_betweenness_centrality               0.047619  0.047619  0.047619   \n",
       " edge_current_flow_betweenness_centrality  0.000015  0.211684  0.000016   \n",
       " exchange                                 -0.250899  0.146507  0.833959   \n",
       " weight                                    0.000010  0.146507  0.833959   \n",
       " \n",
       "                                             USDCAD    USDCHF    USDJPY  \n",
       " corr                                     -0.801005  0.234333  0.043249  \n",
       " cov                                      -0.000199  0.000018  0.000005  \n",
       " edge_betweenness                          0.047619  0.047619  0.047619  \n",
       " edge_betweenness_centrality               0.047619  0.047619  0.047619  \n",
       " edge_current_flow_betweenness_centrality  0.034344  0.000015  0.000020  \n",
       " exchange                                 -0.801005  0.234333  0.043249  \n",
       " weight                                    0.000010  0.234333  0.043249  ,\n",
       " 'EURUSD':                                             AUDUSD    GBPUSD    NZDUSD  \\\n",
       " corr                                     -0.250899  0.794830 -0.112556   \n",
       " cov                                      -0.000039  0.000085 -0.000010   \n",
       " edge_betweenness                          0.047619  0.047619  0.047619   \n",
       " edge_betweenness_centrality               0.047619  0.047619  0.047619   \n",
       " edge_current_flow_betweenness_centrality  0.000015  0.024853  0.151452   \n",
       " exchange                                 -0.250899  0.794830 -0.112556   \n",
       " weight                                    0.000010  0.794830  0.000010   \n",
       " \n",
       "                                             USDCAD    USDCHF    USDJPY  \n",
       " corr                                      0.651165 -0.784686 -0.063185  \n",
       " cov                                       0.000076 -0.000028 -0.000003  \n",
       " edge_betweenness                          0.047619  0.047619  0.047619  \n",
       " edge_betweenness_centrality               0.047619  0.047619  0.047619  \n",
       " edge_current_flow_betweenness_centrality  0.053037  0.085802  0.000014  \n",
       " exchange                                  0.651165 -0.784686 -0.063185  \n",
       " weight                                    0.651165  0.000010  0.000010  ,\n",
       " 'GBPUSD':                                             AUDUSD    EURUSD    NZDUSD  \\\n",
       " corr                                      0.146507  0.794830  0.154837   \n",
       " cov                                       0.000033  0.000085  0.000021   \n",
       " edge_betweenness                          0.047619  0.047619  0.047619   \n",
       " edge_betweenness_centrality               0.047619  0.047619  0.047619   \n",
       " edge_current_flow_betweenness_centrality  0.211684  0.024853  0.000014   \n",
       " exchange                                  0.146507  0.794830  0.154837   \n",
       " weight                                    0.146507  0.794830  0.154837   \n",
       " \n",
       "                                             USDCAD    USDCHF    USDJPY  \n",
       " corr                                      0.283081 -0.544016  0.149962  \n",
       " cov                                       0.000049 -0.000029  0.000012  \n",
       " edge_betweenness                          0.047619  0.047619  0.047619  \n",
       " edge_betweenness_centrality               0.047619  0.047619  0.047619  \n",
       " edge_current_flow_betweenness_centrality  0.171534  0.234648  0.000019  \n",
       " exchange                                  0.283081 -0.544016  0.149962  \n",
       " weight                                    0.283081  0.000010  0.149962  ,\n",
       " 'NZDUSD':                                             AUDUSD    EURUSD    GBPUSD  \\\n",
       " corr                                      0.833959 -0.112556  0.154837   \n",
       " cov                                       0.000165 -0.000010  0.000021   \n",
       " edge_betweenness                          0.047619  0.047619  0.047619   \n",
       " edge_betweenness_centrality               0.047619  0.047619  0.047619   \n",
       " edge_current_flow_betweenness_centrality  0.000016  0.151452  0.000014   \n",
       " exchange                                  0.833959 -0.112556  0.154837   \n",
       " weight                                    0.833959  0.000010  0.154837   \n",
       " \n",
       "                                             USDCAD    USDCHF    USDJPY  \n",
       " corr                                     -0.644542  0.039789  0.019937  \n",
       " cov                                      -0.000096  0.000002  0.000001  \n",
       " edge_betweenness                          0.047619  0.047619  0.047619  \n",
       " edge_betweenness_centrality               0.047619  0.047619  0.047619  \n",
       " edge_current_flow_betweenness_centrality  0.000015  0.169252  0.176972  \n",
       " exchange                                 -0.644542  0.039789  0.019937  \n",
       " weight                                    0.000010  0.039789  0.019937  ,\n",
       " 'USDCAD':                                             AUDUSD    EURUSD    GBPUSD  \\\n",
       " corr                                     -0.801005  0.651165  0.283081   \n",
       " cov                                      -0.000199  0.000076  0.000049   \n",
       " edge_betweenness                          0.047619  0.047619  0.047619   \n",
       " edge_betweenness_centrality               0.047619  0.047619  0.047619   \n",
       " edge_current_flow_betweenness_centrality  0.034344  0.053037  0.171534   \n",
       " exchange                                 -0.801005  0.651165  0.283081   \n",
       " weight                                    0.000010  0.651165  0.283081   \n",
       " \n",
       "                                             NZDUSD    USDCHF    USDJPY  \n",
       " corr                                     -0.644542 -0.526196 -0.258134  \n",
       " cov                                      -0.000096 -0.000031 -0.000022  \n",
       " edge_betweenness                          0.047619  0.047619  0.047619  \n",
       " edge_betweenness_centrality               0.047619  0.047619  0.047619  \n",
       " edge_current_flow_betweenness_centrality  0.000015  0.000016  0.114824  \n",
       " exchange                                 -0.644542 -0.526196 -0.258134  \n",
       " weight                                    0.000010  0.000010  0.000010  ,\n",
       " 'USDCHF':                                             AUDUSD    EURUSD    GBPUSD  \\\n",
       " corr                                      0.234333 -0.784686 -0.544016   \n",
       " cov                                       0.000018 -0.000028 -0.000029   \n",
       " edge_betweenness                          0.047619  0.047619  0.047619   \n",
       " edge_betweenness_centrality               0.047619  0.047619  0.047619   \n",
       " edge_current_flow_betweenness_centrality  0.000015  0.085802  0.234648   \n",
       " exchange                                  0.234333 -0.784686 -0.544016   \n",
       " weight                                    0.234333  0.000010  0.000010   \n",
       " \n",
       "                                             NZDUSD    USDCAD    USDJPY  \n",
       " corr                                      0.039789 -0.526196  0.055641  \n",
       " cov                                       0.000002 -0.000031  0.000001  \n",
       " edge_betweenness                          0.047619  0.047619  0.047619  \n",
       " edge_betweenness_centrality               0.047619  0.047619  0.047619  \n",
       " edge_current_flow_betweenness_centrality  0.169252  0.000016  0.162264  \n",
       " exchange                                  0.039789 -0.526196  0.055641  \n",
       " weight                                    0.039789  0.000010  0.055641  ,\n",
       " 'USDJPY':                                             AUDUSD    EURUSD    GBPUSD  \\\n",
       " corr                                      0.043249 -0.063185  0.149962   \n",
       " cov                                       0.000005 -0.000003  0.000012   \n",
       " edge_betweenness                          0.047619  0.047619  0.047619   \n",
       " edge_betweenness_centrality               0.047619  0.047619  0.047619   \n",
       " edge_current_flow_betweenness_centrality  0.000020  0.000014  0.000019   \n",
       " exchange                                  0.043249 -0.063185  0.149962   \n",
       " weight                                    0.043249  0.000010  0.149962   \n",
       " \n",
       "                                             NZDUSD    USDCAD    USDCHF  \n",
       " corr                                      0.019937 -0.258134  0.055641  \n",
       " cov                                       0.000001 -0.000022  0.000001  \n",
       " edge_betweenness                          0.047619  0.047619  0.047619  \n",
       " edge_betweenness_centrality               0.047619  0.047619  0.047619  \n",
       " edge_current_flow_betweenness_centrality  0.176972  0.114824  0.162264  \n",
       " exchange                                  0.019937 -0.258134  0.055641  \n",
       " weight                                    0.019937  0.000010  0.055641  }"
      ]
     },
     "execution_count": 22,
     "metadata": {},
     "output_type": "execute_result"
    }
   ],
   "source": [
    "gc.G.edge"
   ]
  },
  {
   "cell_type": "code",
   "execution_count": null,
   "metadata": {
    "collapsed": true
   },
   "outputs": [],
   "source": []
  },
  {
   "cell_type": "code",
   "execution_count": null,
   "metadata": {
    "collapsed": true
   },
   "outputs": [],
   "source": []
  }
 ],
 "metadata": {
  "kernelspec": {
   "display_name": "Python 3",
   "language": "python",
   "name": "python3"
  },
  "language_info": {
   "codemirror_mode": {
    "name": "ipython",
    "version": 3
   },
   "file_extension": ".py",
   "mimetype": "text/x-python",
   "name": "python",
   "nbconvert_exporter": "python",
   "pygments_lexer": "ipython3",
   "version": "3.5.1"
  },
  "widgets": {
   "state": {
    "003b21b0e6614dd69ef147334b9aa3d5": {
     "views": []
    },
    "0161519f2d314fb5bb57f2fd13cdc8c3": {
     "views": []
    },
    "016ef2ff15194fa4a474bb452c0c32f4": {
     "views": []
    },
    "019935b40a394176907f222838528713": {
     "views": []
    },
    "02a3f1af1c734703820091acd1eeeb0c": {
     "views": []
    },
    "02a74aa64d7c4dddba520f71e2900a33": {
     "views": []
    },
    "035aaa74fb654deabcca534f2b636a2f": {
     "views": []
    },
    "035f986c761d451f9610436a90f515df": {
     "views": []
    },
    "03799abcb5644dcdab4ac61ab60ab827": {
     "views": []
    },
    "0389b41b0ee34743b820f50a6bf7d21c": {
     "views": []
    },
    "03da73bc25b64d919364cac7ea55f66c": {
     "views": []
    },
    "03f9f246d7bd4aff82434fe81747068b": {
     "views": []
    },
    "0402cbc2cd104f5fad95c6310ac38eb1": {
     "views": []
    },
    "0449ac618c3a4640bb093b31f5f52568": {
     "views": []
    },
    "046e50d5519e4f2480d34b0875111adc": {
     "views": []
    },
    "047ee9719a1f485b930427d0aa06013a": {
     "views": []
    },
    "04ad45858ee64cf3acb60b9bd2461d27": {
     "views": []
    },
    "05998cceb3f541c58f8b76531d5fad1d": {
     "views": []
    },
    "05bf19c6ac93470fb3eeec53bba4e9c0": {
     "views": []
    },
    "05e353156a704bf59ad7483ad4209c65": {
     "views": []
    },
    "06260a42a09848e2aa355275bb120d3c": {
     "views": []
    },
    "063f7e1113454f7a9fc56fa34850e44f": {
     "views": []
    },
    "066f53dd61a7412c8380d49c8e04f374": {
     "views": []
    },
    "06b0661bc21845d2b0a39670a2fedfdc": {
     "views": []
    },
    "06cbcc60ef544eb8a21172581b8838de": {
     "views": []
    },
    "06ceaa12d5824002b6955c72a30f66a5": {
     "views": []
    },
    "086e6c05113d4b6bbee5acacfdaef983": {
     "views": []
    },
    "08d6c80fe197464485c538240bd3e4af": {
     "views": []
    },
    "08f7e462cdfa4d8b9342cf9504df6d68": {
     "views": []
    },
    "08ffdab5605f46ad811ec7edf6588385": {
     "views": []
    },
    "0955d0ad67b948d9af44d035fdbb35c6": {
     "views": []
    },
    "0a099907d65b44fe94c0596f7845ae8d": {
     "views": []
    },
    "0a454ff27fbf4fe6a3b8f202550db805": {
     "views": []
    },
    "0a962547840a460b899b53f923ffd88c": {
     "views": []
    },
    "0af4416eb9f049db8d51e3a6e215495b": {
     "views": []
    },
    "0b067e5b9fb9479284614e73e164e3fe": {
     "views": []
    },
    "0b12058ae5144bef9a9f0297dbeacfe8": {
     "views": []
    },
    "0b3023df28144fb59f04ff4781c8074e": {
     "views": []
    },
    "0b57975f58d74e049ca9c0210a42df58": {
     "views": []
    },
    "0b78d1dc7acb467f964662edc434ec76": {
     "views": []
    },
    "0bc9203e163d4f2793435a0e3495749f": {
     "views": []
    },
    "0bf1670b40f0480db09aa2784f6729d2": {
     "views": []
    },
    "0c5437f8233741c9a2a467162442c3d0": {
     "views": []
    },
    "0c79f4b6e8694774876b2d848dd64cdd": {
     "views": []
    },
    "0d1a5466705f447ba3652a4535abb236": {
     "views": []
    },
    "0d99d0c84b8d411a9886548519a5c0fa": {
     "views": []
    },
    "0e08acef1b454c5fab1660d63f8274f4": {
     "views": []
    },
    "0ec1dcf634f54e8c834178639b979e2c": {
     "views": []
    },
    "0ee9458f984144bfbee3e7a8dfabf3a6": {
     "views": []
    },
    "0fcbead3a46148cfb15c15e7069b9749": {
     "views": []
    },
    "10a04e647cb44730b01847c5ca4edde3": {
     "views": []
    },
    "117f0f66ea3c49ccb114b224c41e9c4b": {
     "views": []
    },
    "12466124cd9a4fedbfd02708b6483cc2": {
     "views": []
    },
    "129049c9a11d4933b8329ae24ec2a9f8": {
     "views": []
    },
    "13740c517bc647c48bfa460dc4e63776": {
     "views": []
    },
    "1404cb0a41164dca823da9b16bdc92f4": {
     "views": []
    },
    "14633e6cad6447d9bfa89e8485a8b0b1": {
     "views": []
    },
    "14d7a97364ec4e7b9ed30e354b237381": {
     "views": []
    },
    "14fe998488494bebab5e8cd13b0ea0fd": {
     "views": []
    },
    "1548d6b8ae8548859312951add96a788": {
     "views": []
    },
    "1638d3355b0c45618a1763aa4eb57235": {
     "views": []
    },
    "1863bbc68fe0407e90745e9b7a1e2ef7": {
     "views": []
    },
    "188f55a6689b4763b06cf84a5398a62f": {
     "views": []
    },
    "18e485edeea84fe7b5db211f2816d760": {
     "views": []
    },
    "198cb67dce5143fbb40c32e01c849878": {
     "views": []
    },
    "1a06ca33163a403c98c2a9c6f0ca62b7": {
     "views": []
    },
    "1a1a3fcfa917497b80f554e87a8ae326": {
     "views": []
    },
    "1a80dd46b1734d5ab0797b50488c0600": {
     "views": []
    },
    "1a9324fc4035415db4538a9cd6742812": {
     "views": []
    },
    "1a9ac174bc2b4b28a78658eb6481c84b": {
     "views": []
    },
    "1b6ef8ac9f114c85b0f538bff363a4ee": {
     "views": []
    },
    "1c1c95d1be3e4cc5abdd83ef78d6e7e6": {
     "views": []
    },
    "1cc502a8c085402eb05664477583d60e": {
     "views": []
    },
    "1cd6a4c79a2e435ea5b6a9ed5bb78749": {
     "views": []
    },
    "1d227b7fae51400a8d6e42a092dcaedb": {
     "views": []
    },
    "1d5f9af1a40345d2af318a6533ba9a5b": {
     "views": []
    },
    "1db9781d58c144118cb0b7d9dff99896": {
     "views": []
    },
    "1e083b0e1f904d828ca4a3df31aebbcb": {
     "views": []
    },
    "1e70fd34acc5455591ca2bf080645952": {
     "views": []
    },
    "1f2f231071454e2990bdc2c0391b4ab0": {
     "views": []
    },
    "1f8f4bc8b3fd4a839b0d00b9a5acc24f": {
     "views": []
    },
    "1fb6cf674f6c4e2ea2b98cd8ea6560fb": {
     "views": []
    },
    "1fca51ac16ff4d2f83fe426ba1e5dc7e": {
     "views": []
    },
    "1fe20fb8408a4714b43dd2d2ded7343e": {
     "views": []
    },
    "205c9dbe33f2400888f8cc9f53065624": {
     "views": []
    },
    "20710481a09f4b1bb306d12bfa776c02": {
     "views": []
    },
    "20a3bab7434341a19925aa07a3cdb4a6": {
     "views": []
    },
    "20b9e29f774940cabd4acee2cf8ba585": {
     "views": []
    },
    "21478d4c21ed44b6b3fe09b8b15a9d95": {
     "views": []
    },
    "219b4c4126c44329afdeda9ed9f08ff2": {
     "views": []
    },
    "21f615faeb4f4718a6da9ec75ee97c66": {
     "views": []
    },
    "2309187fd11945e2a5fe128bd5a7ce8e": {
     "views": []
    },
    "232f5b14ebec4a31a99078fa686536a3": {
     "views": []
    },
    "23574db4361e4f73bd944de0f3ea75b6": {
     "views": []
    },
    "24a3f269ee7a4c839a2d2ea46e51cead": {
     "views": []
    },
    "24cd0bd28fb5479eb36e94b35b9b1fb9": {
     "views": []
    },
    "257d5cb116fc423ea4c2e919cb62d647": {
     "views": []
    },
    "25996cfedeb644dc87323ab5aa993b1b": {
     "views": []
    },
    "259c08be00364be5ac07ad34b1ee5ff2": {
     "views": []
    },
    "25bb9210562645eebd97983f76d37a2e": {
     "views": []
    },
    "263ae683634645c4b97dc1ab7a2d9ad1": {
     "views": []
    },
    "265297b2d2344e8c927fbdaa3d8ec947": {
     "views": []
    },
    "265a25b9c2644f22a057e65f84e381c5": {
     "views": []
    },
    "26c820b89beb42099cf4aa76a5015541": {
     "views": []
    },
    "26cf21851600448da4ba50f3f680e0f9": {
     "views": []
    },
    "26e32382b5e047bc8711e54b120f61ac": {
     "views": []
    },
    "2774c50c4f4a410188bedce8d67f71bc": {
     "views": []
    },
    "286cb925ef0e4ee8b29fd58e4f62af3e": {
     "views": []
    },
    "287d791f28834b5884137652fac64ed3": {
     "views": []
    },
    "294f93f85d33458b91bdec7226a567f9": {
     "views": []
    },
    "29b920e8120a48de9cbf749a6c1a32ac": {
     "views": []
    },
    "2a77ab9ae7b84e1eabcba7f989b6724d": {
     "views": []
    },
    "2a7db6ee973d42169d94a6f9c70b7ded": {
     "views": []
    },
    "2ae9140c28d54da995d3e54422a7942e": {
     "views": []
    },
    "2b100df84eb94c7b9bc83bb6ed4f26e6": {
     "views": []
    },
    "2b8f582b45cc4dd1abeb26696c88ff17": {
     "views": []
    },
    "2be1d6bfcc7541548bb9a7bb4b0920a6": {
     "views": []
    },
    "2c10a90282144686aacc78fdb179bca2": {
     "views": []
    },
    "2c65dd8c310e41cd97c7b6674af3ae17": {
     "views": []
    },
    "2cdcbc9455b445bea38084349309cf1f": {
     "views": []
    },
    "2ce503e7177649cfa2600225351255e9": {
     "views": []
    },
    "2d2653659187464995fa1f6f3bef6acb": {
     "views": []
    },
    "2d3ba334ec1549dc92c2ff848ee0bf3f": {
     "views": []
    },
    "2de15ce12ca143b6a928caa17c4b8cc6": {
     "views": []
    },
    "2e1413a6f1e14661b3eba455204fefb6": {
     "views": []
    },
    "2e8dcef14fa346e2b60b7555e99ecbe5": {
     "views": []
    },
    "2e8de388f81d4fdd87d971f25f3345ec": {
     "views": []
    },
    "2ebfdfa8a3ea4e888ff0c8fe1b7c86ac": {
     "views": []
    },
    "2ef43c2afa33465994656ac6ae953133": {
     "views": []
    },
    "2f3ba00ef3e34e029bda0e07e74abf4d": {
     "views": []
    },
    "2f8b9e033cc94c599c01f6f95e38f281": {
     "views": []
    },
    "2fd756ae040940e5808c4e4f66d2c3e7": {
     "views": []
    },
    "2ffbbdc9586b4883b891bb090f562dcf": {
     "views": []
    },
    "30ca0dfb2e8d4d478eafdba1cb7cc8b7": {
     "views": []
    },
    "3108f889f72a4755984dd79abf289494": {
     "views": []
    },
    "31ad2438371144a8889c2e54314f0330": {
     "views": []
    },
    "31fc0d5be49340b7b67c5d0d512e55d1": {
     "views": []
    },
    "3249a6e0a7eb4fc597e957ac77410be3": {
     "views": []
    },
    "32de47ef7fc5490ca27b653912530e4c": {
     "views": []
    },
    "33524ff30119465a966c0c34031210e8": {
     "views": []
    },
    "3394ba95948142c6a3fc33e8a3fb00fe": {
     "views": []
    },
    "33e25628ebea46b388ded63de8a2bca4": {
     "views": []
    },
    "347ad88d19fc44728ce722f2195919f4": {
     "views": []
    },
    "3494eb11b10549db89cdf19acdb2c0ab": {
     "views": []
    },
    "349bee1ec776425aba21962294b8ef0f": {
     "views": []
    },
    "34e3aff7886144a1bada82ca539460f6": {
     "views": []
    },
    "3554e388447944d2a23d8e4211da1a08": {
     "views": []
    },
    "35be9fcb3ccc400bb250bd133a624163": {
     "views": []
    },
    "35f99117e4da476a808a11c889b052b5": {
     "views": []
    },
    "3601d845287442409e214c5488185b58": {
     "views": []
    },
    "36272fcf1f02452e8cbf58a30a282d7e": {
     "views": []
    },
    "36b03904651e48c394e1a7fe94a34442": {
     "views": []
    },
    "37681c64be4c46639cc48761e4ed0c8e": {
     "views": []
    },
    "37ade62d226041fe81567f81c35cea2c": {
     "views": []
    },
    "37be501734224afa96af74ae0dff16be": {
     "views": []
    },
    "37ebed52abe84d5fa17532407d1baac9": {
     "views": []
    },
    "38a053da6cc0421caacd61675ee30fef": {
     "views": []
    },
    "38d2a7fdcf804568ac97e5d6abe443da": {
     "views": []
    },
    "392fde45e1c9400a843c8861c5119681": {
     "views": []
    },
    "398a5b2a9b044558b878568713d3c4f7": {
     "views": []
    },
    "3a82fcdd4e754db29ef4783ab085e8a5": {
     "views": []
    },
    "3aa4db800b264ad8a76a8cc9e2ae0536": {
     "views": []
    },
    "3b8376b7fdfe44148a10daa16a3a8604": {
     "views": []
    },
    "3be8234cb80b428e87258d156df4797e": {
     "views": []
    },
    "3bf21a048d10476b949229c31f47825f": {
     "views": []
    },
    "3c4dd23bc1b94dd8a58e1a032da0d8de": {
     "views": []
    },
    "3c556a20c9e9421baaff3b5c50846b61": {
     "views": []
    },
    "3c7672920cf145cca3c55a02617a7420": {
     "views": []
    },
    "3cf1c9fed9a64ac7a2a8a5996dba9d2a": {
     "views": []
    },
    "3d1057341b8740c2a2a7582a0698099e": {
     "views": []
    },
    "3da13facddc2421d8e3d6a9de27382de": {
     "views": []
    },
    "3df95495e223468687b570bdf2c58d00": {
     "views": []
    },
    "3e45baa6658f48909813b2ab10ba0cc7": {
     "views": []
    },
    "3e8becda6422461a81de7b202224a460": {
     "views": []
    },
    "3ebe5aa26d844664a626b74a6b7454a1": {
     "views": []
    },
    "3ec7c086bf1f4905a091bc0960911bda": {
     "views": []
    },
    "3f17a17f972d41f7b1d48e233d794603": {
     "views": []
    },
    "3f2c5ab24a52422dab79028970581b37": {
     "views": []
    },
    "3f58f9c71aff49c8af591a6c7f0b3cf7": {
     "views": []
    },
    "3fb8b110da3446cd8fbf6eead2c53f72": {
     "views": []
    },
    "3fd419de26e9483f80e722b4f7ff5431": {
     "views": []
    },
    "3fe89945e2174018b37a912051d15a17": {
     "views": []
    },
    "40293b62aed045ce94a85f8abfe23075": {
     "views": []
    },
    "40d171b8b29f48aaa0e74b7c7052dbbf": {
     "views": []
    },
    "41df580ef9554e8db95cb44e3e00d32d": {
     "views": []
    },
    "42898dcba6ff4040962eb357a65f5bf5": {
     "views": []
    },
    "42a3dd1854d64139b7bfa58c021443aa": {
     "views": []
    },
    "4313818421e24882a6a9fed2b88543a5": {
     "views": []
    },
    "433ffa9e66ed48bc89068981595dae1e": {
     "views": []
    },
    "43666dff450a4a16bee355f38e803d28": {
     "views": []
    },
    "43721f24edca452d9b47963750d2c549": {
     "views": []
    },
    "438d7c35cbce45da8618dc9c7f3fe5f4": {
     "views": []
    },
    "443aaad3906e4f328e7f62fd90bb4473": {
     "views": []
    },
    "44759ad929f7440599cfe3f54a9c7af7": {
     "views": []
    },
    "44a3d43198bd40a0b102f9e2779c8a57": {
     "views": []
    },
    "4511e1434c35478a8fcb642b940bfffe": {
     "views": []
    },
    "4542afba35d841a38ac2d134cb3a3cf3": {
     "views": []
    },
    "456cfe0e623146a5a8b57511659da5f8": {
     "views": []
    },
    "45a3cf0919684f0aa8dd5a975cdd7155": {
     "views": []
    },
    "46319f999cd04f1d902873545c3e2975": {
     "views": []
    },
    "46cab5af24b0401699ae91f919142f7f": {
     "views": []
    },
    "46cb90e04e854473afec5a6ba4fcb3fe": {
     "views": []
    },
    "46d6bad3d62f42c1a6adfd64be6e7ed0": {
     "views": []
    },
    "46ffd5104f3f46ffb854d594a14978c8": {
     "views": []
    },
    "47cb4ea426004411b550c64cea32305d": {
     "views": []
    },
    "47df75e93d614398a30a37c5e9a7165a": {
     "views": []
    },
    "48e6208cd4e948ae8976f649a2078f07": {
     "views": []
    },
    "4906460aaee646d1ad11b377b704dd8c": {
     "views": []
    },
    "497fbfeba20d4b20b32c53b68580c5bb": {
     "views": []
    },
    "4a0a6bdfc02d4f86a24dbaa84054b98d": {
     "views": []
    },
    "4aa7b7502bf54def9e4aef46c05d0ebb": {
     "views": []
    },
    "4af69f529c5945d4a2070f65ba5b0093": {
     "views": []
    },
    "4b14802a98b947d6a008ef77741309db": {
     "views": []
    },
    "4bd538aa6ce9434f8fedb5ba346bb88e": {
     "views": []
    },
    "4bd9959077d64c01bd7734f01f1f608d": {
     "views": []
    },
    "4d1b614082fa4211bcff39619ed7831a": {
     "views": []
    },
    "4d6f69d2782d44e6b5fb66b77cac36cd": {
     "views": []
    },
    "4d90f8cb50064b9197d47e07afcf5f74": {
     "views": []
    },
    "4de00e1540804280a3e59a84e59f3091": {
     "views": []
    },
    "4e19de6d58ae4c51bca498849971441b": {
     "views": []
    },
    "4f2d7101d8e041f587de93b903ff5664": {
     "views": []
    },
    "500750ba76a745e098f4bde234a58740": {
     "views": []
    },
    "50b2563a73f64c3695ad137915230920": {
     "views": []
    },
    "50b8b54142294eec9850b24cd8b49c62": {
     "views": []
    },
    "51594cb244e44d7faa7bd987dfb20a8c": {
     "views": []
    },
    "51751882039e4ec48c5f1725aca33fed": {
     "views": []
    },
    "51e55b9a21ab4f95951b9059b6ad1670": {
     "views": []
    },
    "524437814645446fafa69a7dbbaef10b": {
     "views": []
    },
    "5247e0606aa944df8bc3be688e65b3b2": {
     "views": []
    },
    "52514e7a79574244a161ed6ccfd28cac": {
     "views": []
    },
    "52cbaad89680434283751c91b8d50091": {
     "views": []
    },
    "52ed984efaeb4fa1bb7682affb94c7b2": {
     "views": []
    },
    "53196e57cfbe4ff58ac68df60f3341f2": {
     "views": []
    },
    "5351353141454049ac65b21537c4eb52": {
     "views": []
    },
    "537a75d9a2c945cbb561085fc44f1eea": {
     "views": []
    },
    "537e1f7944f74c638a2b6dcd4a4a8440": {
     "views": []
    },
    "54a01be1064744a78a57f20d87557d89": {
     "views": []
    },
    "54f17f5b464844eba7f07a36a0094aa2": {
     "views": []
    },
    "55aed1bc0e5f41d09129ea46b95c81bc": {
     "views": []
    },
    "55f3a2530bb64cb9b8db03bd6a0253c5": {
     "views": []
    },
    "55f783392d524a4a8012b5a54bed53b5": {
     "views": []
    },
    "56790d12ff084e6aa884bcc6f2d8c4f6": {
     "views": []
    },
    "56974e8aa066493e8514856eaffc12f8": {
     "views": []
    },
    "56ceea88d8a54fc49ad60807de20b19d": {
     "views": []
    },
    "56eba73ae65c478d87e3efbb765305f8": {
     "views": []
    },
    "5737a0f2f73c4a53b9c6a0f09fdcf3c7": {
     "views": []
    },
    "57d261450cfb421ba9f65947875266d3": {
     "views": []
    },
    "580fcd3b931d42348a28feccde5afd2b": {
     "views": []
    },
    "582d014a88b14d2ba79c948adf3680a4": {
     "views": []
    },
    "58644a77cfb84cdea04b6105f4562c44": {
     "views": []
    },
    "58c20db4d5d547f59e43dac60be60d9a": {
     "views": []
    },
    "58fdafa87202415f93bfdd7196f3d1ff": {
     "views": []
    },
    "590c30abf9c349d2bf2e4269888c379c": {
     "views": []
    },
    "5924d51a5a564293a79d1a46390e67d5": {
     "views": []
    },
    "598e49b91f4d4ba8a2b0e4df5e7a3dfc": {
     "views": []
    },
    "5a0c62138da243fcb4a2cc4d1bea69ec": {
     "views": []
    },
    "5a6396912ea14f3a94c913eddd4f4892": {
     "views": []
    },
    "5b5c23a8541548fbbc126abf6aa19fd7": {
     "views": []
    },
    "5bc2769f9f6040e59d14d566b5677fd5": {
     "views": []
    },
    "5c5934009cf1428bb6f08ef8a0092590": {
     "views": []
    },
    "5c9856d3e0ef4b6fab4bcf2cf42ea05f": {
     "views": []
    },
    "5ca62e7c02384143b72ba43c0bd851d6": {
     "views": []
    },
    "5d7c9a54753f4abd987ef0e79d08e1d7": {
     "views": []
    },
    "5e05e2caa1af41049ea73a17c918ebad": {
     "views": []
    },
    "5e11a221b6d84674805be3734e010fb5": {
     "views": []
    },
    "5e505f8bd9554a5e839d54a93239ea96": {
     "views": []
    },
    "5f8fc06febc54d698ea7aea11efe907b": {
     "views": []
    },
    "5fbc52159f0744c59e2cec368602cb36": {
     "views": []
    },
    "5fc2a4fc5009464289c8a53495605cf0": {
     "views": []
    },
    "604073bd36f04941813290bed4c84c34": {
     "views": []
    },
    "60818d2a9841432f8025ccf5e3d5b676": {
     "views": []
    },
    "6085905cdb5246a29c8b1ee296b0976e": {
     "views": []
    },
    "608961f4357c48c1877aef6f6c148cd3": {
     "views": []
    },
    "60f8b46b7e1c40fcb177d76d2703ea91": {
     "views": []
    },
    "6144556891a3461a859446050f7f9159": {
     "views": []
    },
    "61c82ea79c9a426e86f15d8e6af3733b": {
     "views": []
    },
    "6272fd1115dd46a8a283afda5d484d6a": {
     "views": []
    },
    "6278a3b82a234520ab0ee98ed638baa8": {
     "views": []
    },
    "63023d24ab1e4360b189ac4f84c9d07d": {
     "views": []
    },
    "6346d57d46d54e75891efeecb7546a90": {
     "views": []
    },
    "63e5476c829d44308d2ba2fd47ea07c6": {
     "views": []
    },
    "6434d701045c49e08e536e647ed64450": {
     "views": []
    },
    "6471c1d0661c4222b45d29e745bdf2ce": {
     "views": []
    },
    "6505277ea2a441faad72d4aa997efbc8": {
     "views": []
    },
    "6586568c37bb4821b90677f58eacd781": {
     "views": []
    },
    "6602bdb13e5f4e8c81cfe8078982a9c2": {
     "views": []
    },
    "661524b7942e4a57942ed36d62366896": {
     "views": []
    },
    "663532512cd94778b932a4c63c31b6b6": {
     "views": []
    },
    "664da037bdff4f23b31c333dbe3ef1a5": {
     "views": []
    },
    "66b515b75cc64b0b9db0fd4cd509cf0d": {
     "views": []
    },
    "66eedfd8be234c548b561c2c921f8c22": {
     "views": []
    },
    "675f9a4245444c618226464eb345227f": {
     "views": []
    },
    "6761923bc7194b05b382e5423e214d34": {
     "views": []
    },
    "67f7a4c6c9a441b6a3fe7a5c703929bd": {
     "views": []
    },
    "6835ef15cfe242a79fb8459598a112ae": {
     "views": []
    },
    "68db4784f27f4a88917a09fbf29c7be4": {
     "views": []
    },
    "690e6ee186fd4eb3aad10b22521733f1": {
     "views": []
    },
    "6996311d8f674d4db477d352446ccffc": {
     "views": []
    },
    "6a01c79c49524d89ae6ea90619a0e11a": {
     "views": []
    },
    "6a5afa15df6c4fe4b5a2b74f03eb9615": {
     "views": []
    },
    "6a8c1aed8fb5407bb34fbe083267cfa8": {
     "views": []
    },
    "6ae494b13f444f8d9cc7d4ac095dae11": {
     "views": []
    },
    "6af504e533c244eeb99f49a3dfa402e5": {
     "views": []
    },
    "6af66179aa7a416fbc54ca9966045ff2": {
     "views": []
    },
    "6b0407b07f8146969b82f91eed9c11ff": {
     "views": []
    },
    "6b263ed54e1e4d278d27730d08f32253": {
     "views": []
    },
    "6b5c32c63f5a411abde24c22eacdf38b": {
     "views": []
    },
    "6bd83ab3d5894b879c5fa4f12e44377b": {
     "views": []
    },
    "6c3dd8e3e4e64e30ae6d249a66a65ea3": {
     "views": []
    },
    "6c474ab1b9a84d14813898de5f359e68": {
     "views": []
    },
    "6d919fb2b8cb401d8544a372e6515c1b": {
     "views": []
    },
    "6dfae806f25640099c6a7aaa82bd7247": {
     "views": []
    },
    "6ebf0f6542da4e68bbf476001cac4318": {
     "views": []
    },
    "6ef3356decad49208a125116e12590b2": {
     "views": []
    },
    "6f18b0d7cbe4485a9dfc7b2312c43314": {
     "views": []
    },
    "6f2d90726dbd4bb39fbf7b367057799f": {
     "views": []
    },
    "6f352bf8abaa4d269544d595d91f5f01": {
     "views": []
    },
    "6f94a6e427c34953a40e71d3e4dafb9d": {
     "views": []
    },
    "7004e6f242334707bff0fe91c6503129": {
     "views": []
    },
    "7017d696b619446685760da6233ba05e": {
     "views": []
    },
    "70209669d25f45c0892c85d69a5cd885": {
     "views": []
    },
    "7023bc6b0d7541458e11c069edc93ec8": {
     "views": []
    },
    "70fd10095f8e439e8b77657b6fd8a1ee": {
     "views": []
    },
    "71d188f2248d4d71ac749ceea432c89d": {
     "views": []
    },
    "7236494ff42f4493b6a4056b571051ed": {
     "views": []
    },
    "72c62aa924dd42eeb3ec0dcf1fb82c04": {
     "views": []
    },
    "72d9326c1efd42edb3a51e67edd4ecb2": {
     "views": []
    },
    "732332891bbb45a9aa1c5dbdcb8c11c9": {
     "views": []
    },
    "73294496d1e7440e8b4c372f161f7476": {
     "views": []
    },
    "732acf37c06449d8bafccc6ee2d270ae": {
     "views": []
    },
    "735f327d9a094847845cb5591c4d0acd": {
     "views": []
    },
    "7361eac8db4b47b99f05ebd9c26096df": {
     "views": []
    },
    "7416eb1194eb49d6bfc8ef45dbc3e687": {
     "views": []
    },
    "741c2be3c2004b5ab7b9652236c53b07": {
     "views": []
    },
    "7553580852b648c687aa95d451a63615": {
     "views": []
    },
    "76699c6d3f67494dacc5fdcf52103e8b": {
     "views": []
    },
    "766baddaf6774d1da77e9c523f676aa0": {
     "views": []
    },
    "7675c5f8b1d8476e9404b100ac4808ec": {
     "views": []
    },
    "7844f3a65be34376a2bd4111bcedf53c": {
     "views": []
    },
    "785c7b7d2ccc44019115c007c43b5548": {
     "views": []
    },
    "797dc06553534e77aa31a3817171a490": {
     "views": []
    },
    "79ab32970a474b848b28aa016bebbf5b": {
     "views": []
    },
    "79fec81e9a50434dabdf3ca631d5a2c7": {
     "views": []
    },
    "7a3ff89bff2b4cdf88f9fded89d47f0b": {
     "views": []
    },
    "7a476bd409f44d45b46547480c9ee35d": {
     "views": []
    },
    "7a6d36710b0242e0b7c2181b183b4820": {
     "views": []
    },
    "7a7581eb4ef447c49b1adbc36aeab1fa": {
     "views": []
    },
    "7b0489099bb04218bfc7dd604e8ee581": {
     "views": []
    },
    "7b9ae6fdaa43415fa34d3f0a4affb0b3": {
     "views": []
    },
    "7c238ae43f724c44ac7f70dfaadf3132": {
     "views": []
    },
    "7c7e1c61ef5346559036342d2dfbc221": {
     "views": []
    },
    "7e5e14dc130d4d298a88f46d39ef39aa": {
     "views": []
    },
    "7ea9d1b5ff6145d081acb1a66f3115d9": {
     "views": []
    },
    "7f8e4ae3c13e4685b38143bf7528246d": {
     "views": []
    },
    "7f91b86fe55046fc87e3004e7ca97021": {
     "views": []
    },
    "7fd65d2a4d574495824a23587089548e": {
     "views": []
    },
    "801545ac70c34b429ba4ec170ddfe546": {
     "views": []
    },
    "8038f1f8b4a04bc28ce55d4b31eadd2d": {
     "views": []
    },
    "806a0602302242548a284bea512ff0c3": {
     "views": []
    },
    "80dd9b8029764007ab672d0fb0b73571": {
     "views": []
    },
    "818550b446fd4269878deb22265e9165": {
     "views": []
    },
    "81a8c293d39b444fb6a01eba7e83b118": {
     "views": []
    },
    "82261d983e6946cd8f3b227411758274": {
     "views": []
    },
    "82a78b7c62ee44849292fc6e8ea61995": {
     "views": []
    },
    "82c8ae32f66e4ed8a0c4c1cd4fc34531": {
     "views": []
    },
    "84042a72817a43b995abde319dca07e2": {
     "views": []
    },
    "842998f109a4426b8d8e57f03115709e": {
     "views": []
    },
    "84ad2f0ae7d947c6bc5cb984c81a1966": {
     "views": []
    },
    "852d7b8cde124b95bbf1b903f8219a41": {
     "views": []
    },
    "859c860fc32b4a4eb63c893b98b77bcb": {
     "views": []
    },
    "85f5e668285d49e3bc1bc9674678a4fc": {
     "views": []
    },
    "860f0339fa90441196aa3e6d20ea5ac3": {
     "views": []
    },
    "8629ec3841374fe098a9e6254ff3fef0": {
     "views": []
    },
    "86a18147aa0443f1b884296ce0ea6ca7": {
     "views": []
    },
    "86a44e6fdff84df6b82b9fa53b823722": {
     "views": []
    },
    "86c2b5803bd0426da3f91367ee691400": {
     "views": []
    },
    "86da50cacac948919948e3d825ebc6b8": {
     "views": []
    },
    "8729de0ee9fd4c4aa25fd984cd0b592b": {
     "views": []
    },
    "875187dfc6ca4ac8b519e1d5069d8c2b": {
     "views": []
    },
    "879cb1249da5475ba67cc6fdc4809d3d": {
     "views": []
    },
    "87afeac25f364fcaa10a726d4c30ef66": {
     "views": []
    },
    "882ada6766b2496cb831ee2d28d87f96": {
     "views": []
    },
    "88cefb31610b45f7aa6362d5506ff107": {
     "views": []
    },
    "89011078daff4855beb60b34c06ab988": {
     "views": []
    },
    "899050e980874a10a3744062f3f12eaa": {
     "views": []
    },
    "899052aebcb84871ae04cc80b1e388e7": {
     "views": []
    },
    "89ea0f64e05c4edaaaee50e991ab4d6c": {
     "views": []
    },
    "8a0120cfba8048d1a054f8ec1adcfded": {
     "views": []
    },
    "8a17bd0a77864834b4d28f7eb37821e3": {
     "views": []
    },
    "8b0f3ae233394e3884af45657f870768": {
     "views": []
    },
    "8b2e042546f44355b378507ce16c921f": {
     "views": []
    },
    "8b30ada0100842b28f1c6077a53ae956": {
     "views": []
    },
    "8bbf2942de744c24aca3c9c4a8725176": {
     "views": []
    },
    "8bc374032c6e4de28c8dced74a3229f7": {
     "views": []
    },
    "8c29fa2b9ca4400eb4a231aa08af85fd": {
     "views": []
    },
    "8c8e3353996145788efbb39a7799f998": {
     "views": []
    },
    "8ca60b3fed8a456f9b4cdad86e438160": {
     "views": []
    },
    "8cfdf13b28134dcc859b1afb2c52cc07": {
     "views": []
    },
    "8db2b3b47d83405b916dcf5daa838cf6": {
     "views": []
    },
    "8e3cab7d43db4694ba1050f301bbae19": {
     "views": []
    },
    "8fe4d9187e3344d09b88e981e8c5e41b": {
     "views": []
    },
    "901e2125ce0f48f6902f8ec1baa9a98d": {
     "views": []
    },
    "902bf6e99e5a4f4c8f04354dd2096d41": {
     "views": []
    },
    "909ea028ff0a4aea9b1350e30ec2602b": {
     "views": []
    },
    "912c3b865ad749898045ec14776d3837": {
     "views": []
    },
    "916a5021fdaa4113ae1f8a0eaf762e2f": {
     "views": []
    },
    "925b85d6a20c4fdaace4c24a7fd68222": {
     "views": []
    },
    "928f7bccb64e45ac9178763686c034c8": {
     "views": []
    },
    "934b2f2eab7d4cde81f3aafb04c7c442": {
     "views": []
    },
    "938b774eeb6742e19391a5bbcaad63c0": {
     "views": []
    },
    "939ca8bc3f1046f2b47913553562786b": {
     "views": []
    },
    "93e4c06b2afc49f6b4adab2290c80268": {
     "views": []
    },
    "93e9f836b878475ab2cd8808c3ad9010": {
     "views": []
    },
    "942bc1fb335046d598332a876734e15b": {
     "views": []
    },
    "944e4c6818ca4308828d4176be23605f": {
     "views": []
    },
    "94d14f99e40e442dbbd68bcbddab041d": {
     "views": []
    },
    "95af14cfe7ee41238ed80f9fdf7d8be7": {
     "views": []
    },
    "96ad525709f9470b876e22013e0ef104": {
     "views": []
    },
    "96e87dacebf34e35920e2dc4f79a2ed3": {
     "views": []
    },
    "97183e06658e475fb6cd0c4f2dd5a63b": {
     "views": []
    },
    "97525617ddc941ffba3dfdc9a37f5118": {
     "views": []
    },
    "980a5780a10e4d269ddd6d1a83984be8": {
     "views": []
    },
    "9832c149e5054d4bb58d773871fe0bd8": {
     "views": []
    },
    "98b4c985952e42069b157a42c0ee1882": {
     "views": []
    },
    "98da2e6148b34b938e9339ef2491b6f3": {
     "views": []
    },
    "9973503c002c4b1da2c257b8f8cd1de3": {
     "views": []
    },
    "99a54663f88646df8e2f6e833bb3680d": {
     "views": []
    },
    "99d54c0ad051455087c5b8bb4dddc622": {
     "views": []
    },
    "99faf0b8294944ae989d978e46349b40": {
     "views": []
    },
    "9a13175e733842329ce61845ff39a468": {
     "views": []
    },
    "9a1c1a3fef7a43e4985eee14d702e625": {
     "views": []
    },
    "9a1db212cf504a5abb16512f5d634f54": {
     "views": []
    },
    "9a30502350d345c897c0757ae773f0f4": {
     "views": []
    },
    "9a37b56b15f542d49c2972d5a1ac5e07": {
     "views": []
    },
    "9a3f5db039574db9843db2233b7a3a45": {
     "views": []
    },
    "9ab6022fcd3a4ef38f866d1413fe9c48": {
     "views": []
    },
    "9b4a9df8aadb491c8f2708ce98ea5c1b": {
     "views": []
    },
    "9bb03ab7493b44bbaf31b1a88eac7831": {
     "views": []
    },
    "9bcc7615f885419ea6760e6bd2595ef8": {
     "views": []
    },
    "9c31e775839f4960aae49b453dccfd26": {
     "views": []
    },
    "9c74c5fd0f324d5c98de158e3cc90bd9": {
     "views": []
    },
    "9d0e409c2546462da410609fc4b825a6": {
     "views": []
    },
    "9daf2ca7d40f452dbeb2f2ba59bcb245": {
     "views": []
    },
    "9ddc028aad5b4a22921a1c75e5ce94e9": {
     "views": []
    },
    "9e0cdcefa8494cac9c7899e7d8ada2ef": {
     "views": []
    },
    "9e4306f681724ec4b2a116b03c7096c4": {
     "views": []
    },
    "9e91757c4ebd4bdd93b5f17f1a14a832": {
     "views": []
    },
    "9ea7fe385d314b17b29d8f207c93becb": {
     "views": []
    },
    "9ee04dd0c7de4e259400fad0901054b5": {
     "views": []
    },
    "9faa93d9b9e049e989efb948d3ed8cce": {
     "views": []
    },
    "a1af5b3fca1948c399aaea99827ce396": {
     "views": []
    },
    "a1f333945e8f4ee8ac8a1e1b850c5a86": {
     "views": []
    },
    "a2229451356344ec88fdba682029c98e": {
     "views": []
    },
    "a2eed6f0fd5e47d78423695db7c89596": {
     "views": []
    },
    "a30933401cc547d5b8a1080d49062320": {
     "views": []
    },
    "a38a7cad0830400e9a005bcfe1993038": {
     "views": []
    },
    "a4a6a005ccbd4ee6bde850be5d0fe82f": {
     "views": []
    },
    "a4b5fd2f99d741f6ad81f2e7a5fc0c0f": {
     "views": []
    },
    "a4b848b6dfa24ef8b1099320eecdbf86": {
     "views": []
    },
    "a507629bfd7442e4be2d5d4e52bbc3b1": {
     "views": []
    },
    "a5b4b56dea6a4b7d93e808f561cbca41": {
     "views": []
    },
    "a5de262e331d441a8d027445255e6c07": {
     "views": []
    },
    "a609945922e84bccaa5a5ef249e260dd": {
     "views": []
    },
    "a6b94c2e98a74813bfb42bd274616f4d": {
     "views": []
    },
    "a6cacfb809064b7f962adc96d5189b29": {
     "views": []
    },
    "a6ddba68a3db4f3eb1cbfa3f86ecc299": {
     "views": []
    },
    "a6df29ad98114f0a8d9d8c350ffeb1c7": {
     "views": []
    },
    "a736da2d1d0f40ea933b0d85517d2b65": {
     "views": []
    },
    "a73a014a426a46a58fbc31587d4b1c36": {
     "views": []
    },
    "a7ae4411c94b425385b28694b019a955": {
     "views": []
    },
    "a824e432d9aa4b8d8aac2c61476e3fed": {
     "views": []
    },
    "a84fed975c954ef38756a3df88f92e35": {
     "views": []
    },
    "a8cdea40db73464bbc46d764b73bb706": {
     "views": []
    },
    "a970fca3bf6c4f6bb6e668182afc962d": {
     "views": []
    },
    "a9e74452c2e645f9873c57fcfa10eefc": {
     "views": []
    },
    "aa00956734894acaac9cd7346325c680": {
     "views": []
    },
    "aa2edfcff9644267bce641355e6c0610": {
     "views": []
    },
    "aa38bd09ae9742c9ae7f93acda271c4f": {
     "views": []
    },
    "aa59a0ae4b5a4fffab79a26fb7763066": {
     "views": []
    },
    "aa6b2146073f4538bc373788517a04a4": {
     "views": []
    },
    "ab2178a19c4842c58a947585446d867e": {
     "views": []
    },
    "ac9e30cc6a6049f4933c18b5c6e2bf75": {
     "views": []
    },
    "acc0794ec6d740b8b8225b629873264e": {
     "views": []
    },
    "ad061102bf7e4610ad7c28cd919d676f": {
     "views": []
    },
    "ad0e378997914c249ceba202aa4c002c": {
     "views": []
    },
    "ad10a0a45b8041e29ae53fe18af359ce": {
     "views": []
    },
    "ad3831cbf1ab443fa44ac868d503cf86": {
     "views": []
    },
    "ad8f6492a07c4366b1df3eaea8d4907d": {
     "views": []
    },
    "ae9cd41380af4e8391680fedeaf3577a": {
     "views": []
    },
    "aea9f5a4937d486ba3f341b9dceefd3e": {
     "views": []
    },
    "aecbb9c0fee3476cb2e92000cdfeffe4": {
     "views": []
    },
    "af30afd15f35400aaae97f243604e806": {
     "views": []
    },
    "af933a03a8e04e148c0f553ed62ff621": {
     "views": []
    },
    "b00c9955dceb4b59ab7517e98c3507e6": {
     "views": []
    },
    "b08d378fee2e4120bf7b5d1e77898e1e": {
     "views": []
    },
    "b16402dc826441c589f70b5de60b6b2f": {
     "views": []
    },
    "b16593580f79473eb4e73b1fc48ae1ee": {
     "views": []
    },
    "b1dc1928fecb411384467e81cfb7c57d": {
     "views": []
    },
    "b20e4bfe8ea54a66b809d8b8b7b3f55a": {
     "views": []
    },
    "b22b39b79296432db37cf641578b12a1": {
     "views": []
    },
    "b2acdc13113a47088c74e119f2f7e39c": {
     "views": []
    },
    "b327ceaefd774543bb102ea25bd36580": {
     "views": []
    },
    "b41fce4eba584497a08a28b4b2fa7ba2": {
     "views": []
    },
    "b464c042993d46daa0c55007a4e6efa9": {
     "views": []
    },
    "b4eb1976560c4715b30a1a1ae6fe3d03": {
     "views": []
    },
    "b585e52fa1c348a1b8e11da8cfbf1e1d": {
     "views": []
    },
    "b5ae99b30d0949fca4bb34ed7a2c8035": {
     "views": []
    },
    "b6408b04534e4932a3951373f52376f4": {
     "views": []
    },
    "b6734cc34df044f3ab6490c08892eb6e": {
     "views": []
    },
    "b6ce192498e94885a5bef2d853886827": {
     "views": []
    },
    "b788d7d0632d4886bbdf4f2264418f1c": {
     "views": []
    },
    "b7936b113a6d484d8c1f63e07aa529b2": {
     "views": []
    },
    "b7cb5cfd781b43c6bcc99db315d2eedf": {
     "views": []
    },
    "b80f2b46232f49e591e3b09a87e7459a": {
     "views": []
    },
    "b928161ee9d94693b8bc327104ec7615": {
     "views": []
    },
    "b94b2073658a473db9de682be98bcbc5": {
     "views": []
    },
    "ba5096de4ccc455db6cf8a6c63f75e1c": {
     "views": []
    },
    "ba5b4dd46fa84f15bd1a7d6c5058591a": {
     "views": []
    },
    "ba860eb12d0a4f73a3417f91b7619a20": {
     "views": []
    },
    "bb1ede204a0642a4bfa06a7f85673285": {
     "views": []
    },
    "bb529e2543154dcfb8bb471883fa3a9c": {
     "views": []
    },
    "bb6f71e3f7de47409347242c7f1b2075": {
     "views": []
    },
    "bb858ba1871343e7bb325f68f19173ad": {
     "views": []
    },
    "bcdb63ce138e4ef99ed59a38232e9afe": {
     "views": []
    },
    "bd092132671543f292f0da80145d20b5": {
     "views": []
    },
    "bd6a9ae2aef74bee8688404da0f0b66f": {
     "views": []
    },
    "bd7ff1c9059943f7838d058989e7791c": {
     "views": []
    },
    "bdb4d85728a84cd3a2bb91743f6d83ff": {
     "views": []
    },
    "bde70d04a00144d69f7a3cf02ba0ac3a": {
     "views": []
    },
    "bf063f93865f46d185e57714fec7d47a": {
     "views": []
    },
    "bf57ef5dccad4a81bc075e52aa96177a": {
     "views": []
    },
    "bf8662bed70248b08013f005b368b792": {
     "views": []
    },
    "bfeee7bc11cd4c80b9c92ac55aa79ca8": {
     "views": []
    },
    "c07409086d1c4d809fd456f14c681691": {
     "views": []
    },
    "c0cb7d0e85e44e418ad60983dd237d16": {
     "views": []
    },
    "c0ef72171d4b4aa0b93b5270e5dd65dc": {
     "views": []
    },
    "c129aaeb3610407db7e911a6255d548a": {
     "views": []
    },
    "c13a3cbcaaf54c23a06462c8ea4bf271": {
     "views": []
    },
    "c1453ce5912b431581507392886930de": {
     "views": []
    },
    "c1516be03c954006873ed9b982fa315f": {
     "views": []
    },
    "c17dbda0ede04ad4bf2622fd2a19e0ba": {
     "views": []
    },
    "c205d5d83cae40d0969c7a6d77e6079b": {
     "views": []
    },
    "c23c6405d26c48cba112bfe2fcd708f8": {
     "views": []
    },
    "c243e50ed5104c99a0db07f9bd586312": {
     "views": []
    },
    "c244e91e17af4231a232664b516512b3": {
     "views": []
    },
    "c290ab243f294ac19213144f0472e126": {
     "views": []
    },
    "c2e7f5c8fb0442f593503cad10f03b4d": {
     "views": []
    },
    "c35c1a8f2dfe4b6a9d12a53233971c09": {
     "views": []
    },
    "c36973baffef481093998b5ffb285417": {
     "views": []
    },
    "c39d6237822e46ff82f319de5cd3d21f": {
     "views": []
    },
    "c3bcca153bab4244845dbe9b9fa66e72": {
     "views": []
    },
    "c40eae146e5041ac8742d70a8622b915": {
     "views": []
    },
    "c414157136c74e638da252b3e8c2e627": {
     "views": []
    },
    "c4628f4e54e548929ce151783a59ecf6": {
     "views": []
    },
    "c4b2a2e2b89e4d57ae99ebb3e059bc81": {
     "views": []
    },
    "c4c836052ba94af49ac926e7ad800005": {
     "views": []
    },
    "c4cfbcac51fb4c47a5470f28ac4889c4": {
     "views": []
    },
    "c51c16cda6be45efa82018f98a93cb45": {
     "views": []
    },
    "c547779be2fb44ae887eb4d14b353aa2": {
     "views": []
    },
    "c555a8c8f7fc44b2bb21cdf2f73b2502": {
     "views": []
    },
    "c5660ccfc09f4bdda90e4723bf1deaec": {
     "views": []
    },
    "c66023d972d3458bbf7c9163b7b3862a": {
     "views": []
    },
    "c6813202a89f4d5fb5ad5c6193eb0217": {
     "views": []
    },
    "c6f85926c55b411fa853d93da6b46a19": {
     "views": []
    },
    "c74c939bf9444614b8da8b8bbb56b1a5": {
     "views": []
    },
    "c7e6c47909e0478ea5ac5659c390bc09": {
     "views": []
    },
    "c826709c97114de7988310736bdcc8b6": {
     "views": []
    },
    "c87f4d1365c9449bb4a2f0de1d701153": {
     "views": []
    },
    "c8e8f2a5973b474384495126b903ec23": {
     "views": []
    },
    "c9710836dab94f41aacc3914c5e5772a": {
     "views": []
    },
    "c9aeb984835e4e828554f6074b274446": {
     "views": []
    },
    "ca1474062ae1485b97aa712a37dc1188": {
     "views": []
    },
    "ca489ba7da1847f08b43a1ec090bf077": {
     "views": []
    },
    "cafeebd475f748308437d7b05f7044f0": {
     "views": []
    },
    "cb3e61d6836747d48a78e426be3f9fa1": {
     "views": []
    },
    "cbc39d98a0144c3985db6f644afb6753": {
     "views": []
    },
    "cbf9c3a1ab274ea79b9e97b5a51542dd": {
     "views": []
    },
    "cc939ce7237c4d708ec80bbbb9fedbba": {
     "views": []
    },
    "ce6fc7b2e7e9459a93f958e435c71016": {
     "views": []
    },
    "ce7ae6d03550446db60ef9807837c263": {
     "views": []
    },
    "ce82de9edd66408f9305f0224facddc8": {
     "views": []
    },
    "cf3ffda6abbd4924816f54c4a9197f07": {
     "views": []
    },
    "d025c95b8778406e847237acb04275db": {
     "views": []
    },
    "d07708d9373046439ddaaced82ddaf22": {
     "views": []
    },
    "d0904a58dadf4f0e9dcae65b17aabde7": {
     "views": []
    },
    "d09795c2285c452aae7bf50796e35048": {
     "views": []
    },
    "d0b4c718a3d04e5c9efd943f44779376": {
     "views": []
    },
    "d1262b3fa9e74870aed9229ba8d3e86d": {
     "views": []
    },
    "d16135a1036f4e4899ca567a65cf8726": {
     "views": []
    },
    "d19763e7c67144dca5a549512f6afab4": {
     "views": []
    },
    "d1cfbaaf7c7b49d39de3503bba7494bb": {
     "views": []
    },
    "d319d297d5b049a9baf09d5fc579a1af": {
     "views": []
    },
    "d354f75aeef74376b92ae0b5bf56e431": {
     "views": []
    },
    "d412c645aada472ebc1b225f79ae94a7": {
     "views": []
    },
    "d4294ac0facd43b48580d4d18dbd4b83": {
     "views": []
    },
    "d466b96d91d74a10aafcd129a8c6af49": {
     "views": []
    },
    "d4cbca3865524edaa388a0de24b95f10": {
     "views": []
    },
    "d52f5ecade254c7e81b44ee087a5093b": {
     "views": []
    },
    "d533187e336e4beb86aca85ec1063e18": {
     "views": []
    },
    "d58e6fac30184e05ae5cfdcf989713d6": {
     "views": []
    },
    "d5dbe75b6e02494cba08aabcf7d539e0": {
     "views": []
    },
    "d61033c4e08c46b5960a290d10a52bf6": {
     "views": []
    },
    "d614d9e8195f4d6db3a5675e7c32404f": {
     "views": []
    },
    "d628fc9b56cd4254b61ede440e13dd4b": {
     "views": []
    },
    "d713ed34b53f472a8290a5d49adaaacd": {
     "views": []
    },
    "d719c406484b41438b1b1b3fcb8c6ec5": {
     "views": []
    },
    "d72992f94b8341ea89a267b7fd38dd5f": {
     "views": []
    },
    "d7d68917b60649628bb8908d9a9d463a": {
     "views": []
    },
    "d89240517d344f6eb4933d3beca2121e": {
     "views": []
    },
    "d8d1c7ceead94275b20954956c129be3": {
     "views": []
    },
    "d8e3ae66bc4b46f589a69cf9df2c86ff": {
     "views": []
    },
    "d9decbc5142441a5b449f0af4f4fd9cc": {
     "views": []
    },
    "d9fa72623f7a43069f43fca9e65b297b": {
     "views": []
    },
    "dae6c812f1dd414eb6729c994687c9a3": {
     "views": []
    },
    "db16dd528f284e6a8eac4a38605544c7": {
     "views": []
    },
    "dbdbbd16a0ff4f63821e773510fc74c1": {
     "views": []
    },
    "dbff449e08aa4e6ab2f9a64156ae5c8f": {
     "views": []
    },
    "dc1463db98ce42d493047b3bbf32de3d": {
     "views": []
    },
    "dc42dbc6afb941d594eeddfb2be2ffab": {
     "views": []
    },
    "dc72a54ddf324794af698c6671305098": {
     "views": []
    },
    "dc986673f50c4b42925e4e38433aa59a": {
     "views": []
    },
    "dcd1f7e88dc54caa8efb6669ff682ada": {
     "views": []
    },
    "dcfb72c30c654c35be0387678ede8f9f": {
     "views": []
    },
    "dd24b4f8560b44d08505ba0d93f478e7": {
     "views": []
    },
    "dd2d40ac700548b29310f6a34e9559b4": {
     "views": []
    },
    "ddbe2a26413049959c7828139d905498": {
     "views": []
    },
    "dddcb6255cba4a86924e5edf256a7937": {
     "views": []
    },
    "de3746432ced4a01acad2537f9984e0d": {
     "views": []
    },
    "de815124c211438b8d7cbd4ad89adc37": {
     "views": []
    },
    "df1418fce1994159a025128f7fe72798": {
     "views": []
    },
    "df1801306a38482d8f3216f6c4253205": {
     "views": []
    },
    "df1f8a31bbf14f33b3947adb9a9105b7": {
     "views": []
    },
    "df373524dd0c46c88b6e686f2660ccdb": {
     "views": []
    },
    "df626b1cb56f49e49657d4a4d2b42726": {
     "views": []
    },
    "df628faccbc44125a41bdced7c79b804": {
     "views": []
    },
    "df8c887c6d6d41f183818b4dc06d12f7": {
     "views": []
    },
    "df927c97e8144c5a999c35d3931e8343": {
     "views": []
    },
    "e04341d1056d452f8a348aba95c0392d": {
     "views": []
    },
    "e074674b1ca24c6b8254539e30ebd30d": {
     "views": []
    },
    "e07ef15c2a8d457daf07ba27e96e61c6": {
     "views": []
    },
    "e0a130ea131742108c95fa65c40ac53e": {
     "views": []
    },
    "e1636d0fbf664ec799c67d3f279c2016": {
     "views": []
    },
    "e2613ac258ba4b4aae026a6c8058d750": {
     "views": []
    },
    "e2634f76c87041ea9ce8a2ac86f3f58c": {
     "views": []
    },
    "e29d10c7539b45b9ad7ba73af89212a6": {
     "views": []
    },
    "e2a83934b703485388cac9504062bbf3": {
     "views": []
    },
    "e2f25fd6e2744a55bfb36c51f7ff9728": {
     "views": []
    },
    "e32eaba693bd43d98b0df01e584bf205": {
     "views": []
    },
    "e43f2bc574bd4ba89779dbb8d8bcc175": {
     "views": []
    },
    "e440feb9c50a4a45b33cbd89efba11af": {
     "views": []
    },
    "e470a8afe76047689302a112ab2097ab": {
     "views": []
    },
    "e57731a3250545adba9ffd3e345e4440": {
     "views": []
    },
    "e632db3079c348d2802a9a3dc8d92985": {
     "views": []
    },
    "e6c033497da94564b767fa72a7a09adb": {
     "views": []
    },
    "e6f4fe547acf4f228ee0d73e32572137": {
     "views": []
    },
    "e713b7778632446586ce7f0f6db9e484": {
     "views": []
    },
    "e9e86ab4ab8d4af98a109a82f6f546eb": {
     "views": []
    },
    "ea2f9815bf484d8a8339d7af7355629e": {
     "views": []
    },
    "ea852073a96b4a64823f3d80cae9fc45": {
     "views": []
    },
    "eaa33d67c79b408f8ea87d9ae79f9ef4": {
     "views": []
    },
    "eacd9cb9a7a64585839a7a21e808b66c": {
     "views": []
    },
    "eaff5ac64ec94a66b67ab9fc896ddaf6": {
     "views": []
    },
    "eb11fc5f8afc4b01ae1d248e3c868d34": {
     "views": []
    },
    "ebcb785b83844004a79935c83a97ec25": {
     "views": []
    },
    "ec90ed1ae27640f09df4eceb54ce6155": {
     "views": []
    },
    "ec9ca0cb4cdc4ba6b181a8a4f2ebd6b3": {
     "views": []
    },
    "ed033bb12d734b28b2e3446cd5828881": {
     "views": []
    },
    "ed2142f4985147b4a4822bd1a906cfae": {
     "views": []
    },
    "ed43614d81354de7a02155dba8419b50": {
     "views": []
    },
    "edd0eccc024b4fd29e709dd6409c6215": {
     "views": []
    },
    "ee2e11b24ebe45c884d70cbe283375f2": {
     "views": []
    },
    "ee66527a757f4f93a1832669830d4166": {
     "views": []
    },
    "ee88f677e94e4a3e854c610e0389e932": {
     "views": []
    },
    "ef21db721af84481928138d867aa21f2": {
     "views": []
    },
    "f00f1a297fc245c9a258a2bf18c0e91d": {
     "views": []
    },
    "f01280da5aab464886903f060ddfd678": {
     "views": []
    },
    "f079dd0f360b4825bd6ae578c31250b4": {
     "views": []
    },
    "f0839985696541d4a0510d434a576404": {
     "views": []
    },
    "f12d25bea4334790849239b349e9df1e": {
     "views": []
    },
    "f17049fbbbb545479c03113f4a10c6ea": {
     "views": []
    },
    "f18dd337518c4f74954f20f0f713e4eb": {
     "views": []
    },
    "f294b62b8f91491a8e2b75d089648b72": {
     "views": []
    },
    "f3070335ed6f45e99ab2d35d2b41938b": {
     "views": []
    },
    "f3c91a53456d4ab6b1fcc6b176b93307": {
     "views": []
    },
    "f436a5a5d0ea46709db803d2dc8a6aac": {
     "views": []
    },
    "f499cdd4cb66460b891bca4d54f7a54a": {
     "views": []
    },
    "f57a3787045143fd8d0bcacbacda71d7": {
     "views": []
    },
    "f5b8568e614a4a2fb2c68e0695481830": {
     "views": []
    },
    "f5d92c7d2f204cfb86a6fd5ab29ce69a": {
     "views": []
    },
    "f6ad5c5561a643749c74e04ef9f1705c": {
     "views": []
    },
    "f6d7ac63cb28460fa26d58f16d58bb83": {
     "views": []
    },
    "f6fab9fd08884f3390970963ec8de661": {
     "views": []
    },
    "f6fc3c56aa7542f99928210bcfd1a0f3": {
     "views": []
    },
    "f73bc1689374487abaa78df33a445086": {
     "views": []
    },
    "f7415f32864b41a2804b7bf662d630b0": {
     "views": []
    },
    "f790758a0f524a4f9d5a407e4537204b": {
     "views": []
    },
    "f7c5720ca2f748c8b3d3ab743177a8e2": {
     "views": []
    },
    "f7e8cced9e26411fb26cc048cbd2524d": {
     "views": []
    },
    "f8003fcf301b4a1587ab6afca0134bc1": {
     "views": []
    },
    "f8878d7e8bab4e0583c7699463ff0da3": {
     "views": []
    },
    "f8aa13856a8543e0abd92a4ef45fca9f": {
     "views": []
    },
    "f9293f3ee5e7431ba56e48a6992e2054": {
     "views": []
    },
    "f9344d80b9864ddbbd26b95df6dd82b6": {
     "views": []
    },
    "f944d0aa5f48417fb35726f2d2908090": {
     "views": []
    },
    "f9d090b3a7204ceea65229c63fd1c181": {
     "views": []
    },
    "fa6edc13cb224c6cb626ef97f6c87a31": {
     "views": []
    },
    "fa8357683957470db1c0f4c2ed19f461": {
     "views": []
    },
    "fb0ea0e0ef564522a5fc80ac15cfafb0": {
     "views": []
    },
    "fb39a7d3d4e4459e83fffc641e43cee1": {
     "views": []
    },
    "fb862526c1c9438aae8a4af181600b39": {
     "views": []
    },
    "fc23edb0363e4f81935d54350e605a7f": {
     "views": []
    },
    "fc2a431b28634cdb912d7c195374fbe8": {
     "views": []
    },
    "fc425c998d23495e9ed5b088470567a0": {
     "views": []
    },
    "fd3ef5214a6240d3afc3297558ba92d2": {
     "views": []
    },
    "fd74ed27ea2246b6940d94355f26e6e9": {
     "views": []
    },
    "fd752322d0bc4a7cb5499ec31aebcfa9": {
     "views": []
    },
    "fdd4d8c76cd148cf8280b52c7d863b7d": {
     "views": []
    },
    "fdd6370ee5c441d3a94e0808dff35359": {
     "views": []
    },
    "ffc9c1d177f94bfba43611f15f2a2adf": {
     "views": []
    },
    "ffd4ee68b6004c98991cc2ab709bb36e": {
     "views": []
    }
   },
   "version": "1.1.2"
  }
 },
 "nbformat": 4,
 "nbformat_minor": 0
}
