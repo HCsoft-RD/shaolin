{
 "cells": [
  {
   "cell_type": "code",
   "execution_count": 2,
   "metadata": {
    "collapsed": true
   },
   "outputs": [],
   "source": [
    "import sys\n",
    "path =\"/home/sergio/github/shaolin-master\"\n",
    "sys.path.append(path)"
   ]
  },
  {
   "cell_type": "code",
   "execution_count": 23,
   "metadata": {
    "collapsed": false
   },
   "outputs": [
    {
     "data": {
      "text/html": [
       "\n",
       "<style>\n",
       ".container { width:100% !important; }\n",
       ".input{ width:60% !important;\n",
       "       align: center;\n",
       "      }\n",
       ".text_cell{ width:70% !important;\n",
       "            font-size: 16px;}\n",
       ".title {align:center !important;}\n",
       "</style>"
      ],
      "text/plain": [
       "<IPython.core.display.HTML object>"
      ]
     },
     "execution_count": 23,
     "metadata": {},
     "output_type": "execute_result"
    }
   ],
   "source": [
    "#wide screen hack, great for making big plots and have more room for the control panels\n",
    "from IPython.core.display import HTML\n",
    "html ='''\n",
    "<style>\n",
    ".container { width:100% !important; }\n",
    ".input{ width:60% !important;\n",
    "       align: center;\n",
    "      }\n",
    ".text_cell{ width:70% !important;\n",
    "            font-size: 16px;}\n",
    ".title {align:center !important;}\n",
    "</style>'''\n",
    "HTML(html)"
   ]
  },
  {
   "cell_type": "markdown",
   "metadata": {},
   "source": [
    "# Shaolin GraphCalculator tutorial"
   ]
  },
  {
   "cell_type": "markdown",
   "metadata": {},
   "source": [
    "<a id='index'></a>"
   ]
  },
  {
   "cell_type": "markdown",
   "metadata": {},
   "source": [
    "## Index"
   ]
  },
  {
   "cell_type": "markdown",
   "metadata": {},
   "source": [
    "- [1 Introduction](#intro)\n",
    "- [2 Loading the sample data](#sample_data)\n",
    "    - [2.1 Calculating the graph matrices](#sample_matrices)\n",
    "    - [2.2 Calculating some metrics for the nodes](sample_node_metrics)\n",
    "- [3 GraphCalculator componenets](#components)\n",
    "   - [3.1 Graph creation parameters](#gc_parameters)\n",
    "   - [3.2 Matrix transformations](#matrix_transforms)\n",
    "   - [3.3 Graph layout](#graph_layout)\n",
    "\n",
    "- [4 GraphCalculator data](#data)\n",
    "   - [4.1 Node graph metrics](#node_metrics)\n",
    "   - [4.2 Edge metrics](#edge_metrics)\n",
    "   - [4.3 External node metrics](#external_node)\n",
    "   - [4.4 Networkx Graph](#networkx_graph)"
   ]
  },
  {
   "cell_type": "markdown",
   "metadata": {},
   "source": [
    "<a id='introduction'></a>"
   ]
  },
  {
   "cell_type": "markdown",
   "metadata": {},
   "source": [
    "# 1 Introduction"
   ]
  },
  {
   "cell_type": "markdown",
   "metadata": {},
   "source": [
    "In this tutorial we will analyse the structure of the graph resulting from the correlation matrix of the prices of different currency exchanges. We just need time series data and a few lines of code to map matrices into graphs and calculate its metrics."
   ]
  },
  {
   "cell_type": "markdown",
   "metadata": {},
   "source": [
    "<a id='sample_data'></a>"
   ]
  },
  {
   "cell_type": "markdown",
   "metadata": {},
   "source": [
    "# 2 Loading the sample data"
   ]
  },
  {
   "cell_type": "markdown",
   "metadata": {},
   "source": [
    "[Back to top](#index)"
   ]
  },
  {
   "cell_type": "markdown",
   "metadata": {},
   "source": [
    "We are using a week of hourly data data from different to conduct our analysis. Each time series has also its normalized price, its returns and its logarithmic returns so you don't have to calculate it if you want to use it. In this example we will start just with the normalized price values."
   ]
  },
  {
   "cell_type": "code",
   "execution_count": null,
   "metadata": {
    "collapsed": true
   },
   "outputs": [],
   "source": [
    "import numpy as np\n",
    "import pandas as pd\n",
    "from scipy import stats\n",
    "from IPython.display import Image #this is for displaying the widgets in the github repo\n",
    "from shaolin.dashboards.graph import GraphCalculator\n",
    "forex_data = pd.read_hdf('gcalculator_data/forex_sample.h5')\n",
    "forex_data.items,forex_data.minor_axis,forex_data.major_axis"
   ]
  },
  {
   "cell_type": "code",
   "execution_count": 25,
   "metadata": {
    "collapsed": false
   },
   "outputs": [
    {
     "data": {
      "text/html": [
       "<div>\n",
       "<table border=\"1\" class=\"dataframe\">\n",
       "  <thead>\n",
       "    <tr style=\"text-align: right;\">\n",
       "      <th></th>\n",
       "      <th>AUDUSD</th>\n",
       "      <th>EURUSD</th>\n",
       "      <th>GBPUSD</th>\n",
       "      <th>NZDUSD</th>\n",
       "      <th>USDCAD</th>\n",
       "      <th>USDCHF</th>\n",
       "      <th>USDJPY</th>\n",
       "    </tr>\n",
       "  </thead>\n",
       "  <tbody>\n",
       "    <tr>\n",
       "      <th>2016-02-15 00:00:00</th>\n",
       "      <td>1.000000</td>\n",
       "      <td>1.000000</td>\n",
       "      <td>1.000000</td>\n",
       "      <td>1.000000</td>\n",
       "      <td>1.000000</td>\n",
       "      <td>1.000000</td>\n",
       "      <td>1.000000</td>\n",
       "    </tr>\n",
       "    <tr>\n",
       "      <th>2016-02-15 01:00:00</th>\n",
       "      <td>1.000956</td>\n",
       "      <td>0.998559</td>\n",
       "      <td>1.001034</td>\n",
       "      <td>1.001826</td>\n",
       "      <td>0.998471</td>\n",
       "      <td>1.000491</td>\n",
       "      <td>1.001224</td>\n",
       "    </tr>\n",
       "    <tr>\n",
       "      <th>2016-02-15 02:00:00</th>\n",
       "      <td>1.001238</td>\n",
       "      <td>0.999502</td>\n",
       "      <td>1.000462</td>\n",
       "      <td>1.001267</td>\n",
       "      <td>0.998153</td>\n",
       "      <td>0.999530</td>\n",
       "      <td>0.997675</td>\n",
       "    </tr>\n",
       "    <tr>\n",
       "      <th>2016-02-15 03:00:00</th>\n",
       "      <td>1.003418</td>\n",
       "      <td>0.998514</td>\n",
       "      <td>1.000600</td>\n",
       "      <td>1.001750</td>\n",
       "      <td>0.997417</td>\n",
       "      <td>1.000726</td>\n",
       "      <td>1.000643</td>\n",
       "    </tr>\n",
       "    <tr>\n",
       "      <th>2016-02-15 04:00:00</th>\n",
       "      <td>1.004810</td>\n",
       "      <td>0.997972</td>\n",
       "      <td>1.000489</td>\n",
       "      <td>1.002882</td>\n",
       "      <td>0.996746</td>\n",
       "      <td>1.001615</td>\n",
       "      <td>1.002307</td>\n",
       "    </tr>\n",
       "  </tbody>\n",
       "</table>\n",
       "</div>"
      ],
      "text/plain": [
       "                       AUDUSD    EURUSD    GBPUSD    NZDUSD    USDCAD  \\\n",
       "2016-02-15 00:00:00  1.000000  1.000000  1.000000  1.000000  1.000000   \n",
       "2016-02-15 01:00:00  1.000956  0.998559  1.001034  1.001826  0.998471   \n",
       "2016-02-15 02:00:00  1.001238  0.999502  1.000462  1.001267  0.998153   \n",
       "2016-02-15 03:00:00  1.003418  0.998514  1.000600  1.001750  0.997417   \n",
       "2016-02-15 04:00:00  1.004810  0.997972  1.000489  1.002882  0.996746   \n",
       "\n",
       "                       USDCHF    USDJPY  \n",
       "2016-02-15 00:00:00  1.000000  1.000000  \n",
       "2016-02-15 01:00:00  1.000491  1.001224  \n",
       "2016-02-15 02:00:00  0.999530  0.997675  \n",
       "2016-02-15 03:00:00  1.000726  1.000643  \n",
       "2016-02-15 04:00:00  1.001615  1.002307  "
      ]
     },
     "execution_count": 25,
     "metadata": {},
     "output_type": "execute_result"
    }
   ],
   "source": [
    "fund = forex_data['fund']\n",
    "fund.head()"
   ]
  },
  {
   "cell_type": "markdown",
   "metadata": {},
   "source": [
    "<a id='sample_matrices'></a>"
   ]
  },
  {
   "cell_type": "markdown",
   "metadata": {},
   "source": [
    "## 2.1 Calculating the graph matrices"
   ]
  },
  {
   "cell_type": "markdown",
   "metadata": {},
   "source": [
    "[Back to top](#index)"
   ]
  },
  {
   "cell_type": "markdown",
   "metadata": {},
   "source": [
    "In this case we will start calculating the correlation and covariance matrices of the series."
   ]
  },
  {
   "cell_type": "code",
   "execution_count": 6,
   "metadata": {
    "collapsed": false
   },
   "outputs": [],
   "source": [
    "matrices = {}\n",
    "matrices['corr'] = fund.corr()\n",
    "matrices['cov'] = fund.cov()\n",
    "matrices['exchange'] = fund.corr()#alpha version hack, needs to be a matrix called exchange. you dont\n",
    "                                  #need to use it\n",
    "matrix_panel = pd.Panel(matrices)"
   ]
  },
  {
   "cell_type": "code",
   "execution_count": 26,
   "metadata": {
    "collapsed": false
   },
   "outputs": [
    {
     "data": {
      "text/plain": [
       "<class 'pandas.core.panel.Panel'>\n",
       "Dimensions: 3 (items) x 7 (major_axis) x 7 (minor_axis)\n",
       "Items axis: corr to exchange\n",
       "Major_axis axis: AUDUSD to USDJPY\n",
       "Minor_axis axis: AUDUSD to USDJPY"
      ]
     },
     "execution_count": 26,
     "metadata": {},
     "output_type": "execute_result"
    }
   ],
   "source": [
    "matrix_panel"
   ]
  },
  {
   "cell_type": "markdown",
   "metadata": {},
   "source": [
    "<a id='sample_node_metrics'></a>"
   ]
  },
  {
   "cell_type": "markdown",
   "metadata": {},
   "source": [
    "## 2.2 Calculating some metrics for the nodes"
   ]
  },
  {
   "cell_type": "markdown",
   "metadata": {},
   "source": [
    "[Back to top](#index)"
   ]
  },
  {
   "cell_type": "markdown",
   "metadata": {},
   "source": [
    "This data will be used to add additional information to every node of the graph. This information will be included in the GraphCalculator."
   ]
  },
  {
   "cell_type": "code",
   "execution_count": 8,
   "metadata": {
    "collapsed": true
   },
   "outputs": [],
   "source": [
    "def calculate_pdf(x,n=1000):\n",
    "        \"\"\"Fits a Gaussian Kernel, resamples n values and returns (X,p(x=X))\"\"\"\n",
    "        \n",
    "        try:\n",
    "            kernel = stats.gaussian_kde(x,bw_method='scott')\n",
    "            X= kernel.resample(n)\n",
    "            p = kernel(X)\n",
    "        except:\n",
    "            X= x\n",
    "            p = np.ones(len(x))*1.0/len(x)\n",
    "        return X.flatten(),p.flatten()\n",
    "\n",
    "def shannon_entropy(x,n=1000):\n",
    "    X,p = calculate_pdf(x,n)\n",
    "    ent = p*np.log2(p)\n",
    "    return -ent.sum()/(10*n)# this way we dont get values too big. \n",
    "                            #After all, entropy is a purely arbitrary measure ;)\n",
    "\n",
    "def mean_rets(x):\n",
    "     return x.pct_change().mean()*10e4\n",
    "\n",
    "def std_rets(x):\n",
    "     return x.pct_change().mean()*10e4\n",
    "    \n",
    "def total_rets(x):\n",
    "    return x.pct_change().sum()"
   ]
  },
  {
   "cell_type": "code",
   "execution_count": 9,
   "metadata": {
    "collapsed": false
   },
   "outputs": [],
   "source": [
    "node_metrics = pd.DataFrame(columns=fund.columns)\n",
    "funcs = [total_rets, np.mean, np.std, shannon_entropy,mean_rets,std_rets]\n",
    "for fun in funcs:\n",
    "    node_metrics.ix[fun.__name__] = fund.apply(fun)"
   ]
  },
  {
   "cell_type": "code",
   "execution_count": 10,
   "metadata": {
    "collapsed": false
   },
   "outputs": [
    {
     "data": {
      "text/html": [
       "<div>\n",
       "<table border=\"1\" class=\"dataframe\">\n",
       "  <thead>\n",
       "    <tr style=\"text-align: right;\">\n",
       "      <th></th>\n",
       "      <th>AUDUSD</th>\n",
       "      <th>EURUSD</th>\n",
       "      <th>GBPUSD</th>\n",
       "      <th>NZDUSD</th>\n",
       "      <th>USDCAD</th>\n",
       "      <th>USDCHF</th>\n",
       "      <th>USDJPY</th>\n",
       "    </tr>\n",
       "  </thead>\n",
       "  <tbody>\n",
       "    <tr>\n",
       "      <th>total_rets</th>\n",
       "      <td>0.044782</td>\n",
       "      <td>-0.004359</td>\n",
       "      <td>-0.015000</td>\n",
       "      <td>0.005178</td>\n",
       "      <td>-0.034737</td>\n",
       "      <td>0.005485</td>\n",
       "      <td>-0.006254</td>\n",
       "    </tr>\n",
       "    <tr>\n",
       "      <th>mean</th>\n",
       "      <td>1.019019</td>\n",
       "      <td>0.980220</td>\n",
       "      <td>0.975572</td>\n",
       "      <td>1.007091</td>\n",
       "      <td>0.978751</td>\n",
       "      <td>1.015520</td>\n",
       "      <td>0.997831</td>\n",
       "    </tr>\n",
       "    <tr>\n",
       "      <th>std</th>\n",
       "      <td>0.018122</td>\n",
       "      <td>0.008516</td>\n",
       "      <td>0.012586</td>\n",
       "      <td>0.010881</td>\n",
       "      <td>0.013711</td>\n",
       "      <td>0.004247</td>\n",
       "      <td>0.006199</td>\n",
       "    </tr>\n",
       "    <tr>\n",
       "      <th>shannon_entropy</th>\n",
       "      <td>-10.101042</td>\n",
       "      <td>-17.269426</td>\n",
       "      <td>-10.302946</td>\n",
       "      <td>-15.579892</td>\n",
       "      <td>-9.508544</td>\n",
       "      <td>-42.435164</td>\n",
       "      <td>-26.678195</td>\n",
       "    </tr>\n",
       "    <tr>\n",
       "      <th>mean_rets</th>\n",
       "      <td>7.526429</td>\n",
       "      <td>-0.732642</td>\n",
       "      <td>-2.520989</td>\n",
       "      <td>0.870311</td>\n",
       "      <td>-5.838132</td>\n",
       "      <td>0.921772</td>\n",
       "      <td>-1.051116</td>\n",
       "    </tr>\n",
       "    <tr>\n",
       "      <th>std_rets</th>\n",
       "      <td>7.526429</td>\n",
       "      <td>-0.732642</td>\n",
       "      <td>-2.520989</td>\n",
       "      <td>0.870311</td>\n",
       "      <td>-5.838132</td>\n",
       "      <td>0.921772</td>\n",
       "      <td>-1.051116</td>\n",
       "    </tr>\n",
       "  </tbody>\n",
       "</table>\n",
       "</div>"
      ],
      "text/plain": [
       "                    AUDUSD     EURUSD     GBPUSD     NZDUSD    USDCAD  \\\n",
       "total_rets        0.044782  -0.004359  -0.015000   0.005178 -0.034737   \n",
       "mean              1.019019   0.980220   0.975572   1.007091  0.978751   \n",
       "std               0.018122   0.008516   0.012586   0.010881  0.013711   \n",
       "shannon_entropy -10.101042 -17.269426 -10.302946 -15.579892 -9.508544   \n",
       "mean_rets         7.526429  -0.732642  -2.520989   0.870311 -5.838132   \n",
       "std_rets          7.526429  -0.732642  -2.520989   0.870311 -5.838132   \n",
       "\n",
       "                    USDCHF     USDJPY  \n",
       "total_rets        0.005485  -0.006254  \n",
       "mean              1.015520   0.997831  \n",
       "std               0.004247   0.006199  \n",
       "shannon_entropy -42.435164 -26.678195  \n",
       "mean_rets         0.921772  -1.051116  \n",
       "std_rets          0.921772  -1.051116  "
      ]
     },
     "execution_count": 10,
     "metadata": {},
     "output_type": "execute_result"
    }
   ],
   "source": [
    "node_metrics"
   ]
  },
  {
   "cell_type": "markdown",
   "metadata": {},
   "source": [
    "<a id='components'></a>"
   ]
  },
  {
   "cell_type": "markdown",
   "metadata": {},
   "source": [
    "# 3 GraphCalculator components"
   ]
  },
  {
   "cell_type": "markdown",
   "metadata": {},
   "source": [
    "[Back to top](#index)"
   ]
  },
  {
   "cell_type": "markdown",
   "metadata": {},
   "source": [
    "The GraphCalculator lets us have complete control over the process of turning a matrix and arbitrary data into a graph. Although every component can be used as a standalone widget it is recommended to use the *widget* attribute for controlling the GraphCalculator.\n",
    "\n",
    "Every component can be hidden with the toggle buttons situated at the bottom, and every change you make in the widget will take effect after you click the Calculate button."
   ]
  },
  {
   "cell_type": "code",
   "execution_count": 11,
   "metadata": {
    "collapsed": false
   },
   "outputs": [
    {
     "data": {
      "image/png": "[encoded data removed]",
      "text/html": [
       "<img src=data:image/png;base64,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 class=\"jupyter-widget\">\n",
       "<script type=\"application/vnd.jupyter-embedded-widgets\">[]</script>"
      ]
     },
     "metadata": {
      "isWidgetSnapshot": true
     },
     "output_type": "display_data"
    },
    {
     "data": {
      "image/png": "[encoded data removed]",
      "text/html": [
       "<img src=data:image/png;base64,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 class=\"jupyter-widget\">\n",
       "<script type=\"application/vnd.jupyter-embedded-widgets\">[]</script>"
      ]
     },
     "metadata": {
      "isWidgetSnapshot": true
     },
     "output_type": "display_data"
    },
    {
     "data": {
      "image/png": "[encoded data removed]",
      "text/html": [
       "<img src=data:image/png;base64,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 class=\"jupyter-widget\">\n",
       "<script type=\"application/vnd.jupyter-embedded-widgets\">[]</script>"
      ]
     },
     "metadata": {
      "isWidgetSnapshot": true
     },
     "output_type": "display_data"
    }
   ],
   "source": [
    "gc = GraphCalculator(node_metrics=node_metrics,matrix_panel=matrix_panel)\n",
    "#Image(filename='gcalculator_data/widget.png') \n",
    "gc.widget"
   ]
  },
  {
   "cell_type": "markdown",
   "metadata": {},
   "source": [
    "<a id='gc_parameters'></a>"
   ]
  },
  {
   "cell_type": "markdown",
   "metadata": {},
   "source": [
    "## 3.1 Graph creation parameters"
   ]
  },
  {
   "cell_type": "markdown",
   "metadata": {},
   "source": [
    "[Back to top](#index)"
   ]
  },
  {
   "cell_type": "markdown",
   "metadata": {},
   "source": [
    "This widget is used to select which kind of graph will be calculated from the supplied matrix."
   ]
  },
  {
   "cell_type": "markdown",
   "metadata": {},
   "source": [
    "<img src='gcalculator_data/creation.png' style=\"height: 450px;\"></img>"
   ]
  },
  {
   "cell_type": "markdown",
   "metadata": {},
   "source": [
    "### Graph type"
   ]
  },
  {
   "cell_type": "markdown",
   "metadata": {},
   "source": [
    "This is how the matrix will be converted into a graph. There are currently three possible options to build a non directed graph:\n",
    "\n",
    "- **Full matrix**: The matrix will be interpreted as the adjacency matrix of a full connected graph.\n",
    "\n",
    "- **MST**: The target graph will be a minimum spanning tree constructed and the data matrix.\n",
    "\n",
    "- **PMFG**: Maximum planary filtered graph, calculated from the data matrix."
   ]
  },
  {
   "cell_type": "markdown",
   "metadata": {},
   "source": [
    "### Absolute value threshold"
   ]
  },
  {
   "cell_type": "markdown",
   "metadata": {},
   "source": [
    "Minimum absolute value forn an element of the matrix needed to be taken into account as a valid edge."
   ]
  },
  {
   "cell_type": "markdown",
   "metadata": {},
   "source": [
    "### Invert distance"
   ]
  },
  {
   "cell_type": "markdown",
   "metadata": {},
   "source": [
    "Use 1/value instead of the original value of the data matrix."
   ]
  },
  {
   "cell_type": "markdown",
   "metadata": {},
   "source": [
    "### Metrics\n",
    "\n"
   ]
  },
  {
   "cell_type": "markdown",
   "metadata": {},
   "source": [
    "Node metrics that will be calculated when the graph is constructed"
   ]
  },
  {
   "cell_type": "markdown",
   "metadata": {},
   "source": [
    "### Target attribute"
   ]
  },
  {
   "cell_type": "markdown",
   "metadata": {},
   "source": [
    "This widget allows us to select which matrix of our matrix panel will be used as an adjacency matrix for the graph. In other words, this will select which data matrix we will convert into a graph."
   ]
  },
  {
   "cell_type": "markdown",
   "metadata": {},
   "source": [
    "<a id='matrix_transforms'></a>"
   ]
  },
  {
   "cell_type": "markdown",
   "metadata": {},
   "source": [
    "## 3.2 Matrix transformations"
   ]
  },
  {
   "cell_type": "markdown",
   "metadata": {},
   "source": [
    "[Back to top](#index)"
   ]
  },
  {
   "cell_type": "markdown",
   "metadata": {},
   "source": [
    "This widget handles the transformations we will apply to the target data matrix before mapping it into a graph. One, or a succession of the following transformations has to be applied to the matrix.\n",
    "\n",
    "- **Raw**: Do not apply any transformation.<br>\n",
    "\n",
    "- **Scale**: Rescale the values of the matrix to match the interval [Rescale min, Rescale max].<br>\n",
    "\n",
    "- **Clip**: All the values lower than Clip min will be changed for Clip min and all the values greater than Clip          max will be changed for Clip max.<br>\n",
    "\n",
    "- **Zscore**: The matrix will be transformed so its elements have mean 0 and a standard deviation of 1.\n",
    "- **Distance**: The matrix will be transformed according to the following distance function: "
   ]
  },
  {
   "cell_type": "raw",
   "metadata": {},
   "source": [
    "np.sqrt(2 * np.clip(1. - correlation_matrix ** 2, 0., 2.))"
   ]
  },
  {
   "cell_type": "markdown",
   "metadata": {},
   "source": [
    "<img src='gcalculator_data/matrix.png' style=\"height: 450px;\"></img>"
   ]
  },
  {
   "cell_type": "markdown",
   "metadata": {},
   "source": [
    "<a id='graph_layout'></a>"
   ]
  },
  {
   "cell_type": "markdown",
   "metadata": {},
   "source": [
    "## 3.3 Graph Layout"
   ]
  },
  {
   "cell_type": "markdown",
   "metadata": {},
   "source": [
    "[Back to top](#index)"
   ]
  },
  {
   "cell_type": "markdown",
   "metadata": {},
   "source": [
    "<img src='gcalculator_data/layout.png' style=\"height: 300px;\"></img>"
   ]
  },
  {
   "cell_type": "markdown",
   "metadata": {},
   "source": [
    "The Layout manager is the widget in charge of managing the layout that we will use to draw our graph. It can calculate the layouts of the selected type. Any layout available in the networkx package is included in the LayoutCalculator and any of its parametrs can be tweaked via a widget.\n",
    "\n",
    "**Alpha version disclaimer**: \n",
    "- Can only calculate both the 3D and the 2D and not only one of them separatedly."
   ]
  },
  {
   "cell_type": "markdown",
   "metadata": {},
   "source": [
    "<a id='data'></a>"
   ]
  },
  {
   "cell_type": "markdown",
   "metadata": {},
   "source": [
    "# 4 GraphCalculator Data"
   ]
  },
  {
   "cell_type": "markdown",
   "metadata": {},
   "source": [
    "[Back to top](#index)"
   ]
  },
  {
   "cell_type": "markdown",
   "metadata": {},
   "source": [
    "The results of running the GraphCalculator will be sored internally in different object attributes as explained below."
   ]
  },
  {
   "cell_type": "markdown",
   "metadata": {},
   "source": [
    "<a id='node_metrics'></a>"
   ]
  },
  {
   "cell_type": "markdown",
   "metadata": {},
   "source": [
    "## 4.1 Node graph metrics"
   ]
  },
  {
   "cell_type": "markdown",
   "metadata": {},
   "source": [
    "[Back to top](#index)"
   ]
  },
  {
   "cell_type": "markdown",
   "metadata": {},
   "source": [
    "The metrics that are graph related are sored as a dataframe in the *node* attribute as a DataFrame."
   ]
  },
  {
   "cell_type": "code",
   "execution_count": 14,
   "metadata": {
    "collapsed": false
   },
   "outputs": [
    {
     "data": {
      "text/html": [
       "<div>\n",
       "<table border=\"1\" class=\"dataframe\">\n",
       "  <thead>\n",
       "    <tr style=\"text-align: right;\">\n",
       "      <th></th>\n",
       "      <th>betweenness</th>\n",
       "      <th>betweenness_centrality</th>\n",
       "      <th>betweenness_weighted</th>\n",
       "      <th>closeness</th>\n",
       "      <th>degree</th>\n",
       "      <th>degree_weighted</th>\n",
       "      <th>eccentricity</th>\n",
       "      <th>eccentricity_weighted</th>\n",
       "      <th>eigenvector</th>\n",
       "      <th>eigenvector_weighted</th>\n",
       "      <th>index</th>\n",
       "    </tr>\n",
       "  </thead>\n",
       "  <tbody>\n",
       "    <tr>\n",
       "      <th>count</th>\n",
       "      <td>7.0</td>\n",
       "      <td>7.000000</td>\n",
       "      <td>7.000000</td>\n",
       "      <td>7.0</td>\n",
       "      <td>7.0</td>\n",
       "      <td>7.0</td>\n",
       "      <td>7.0</td>\n",
       "      <td>7.0</td>\n",
       "      <td>7.000000</td>\n",
       "      <td>7.000000</td>\n",
       "      <td>7.000000</td>\n",
       "    </tr>\n",
       "    <tr>\n",
       "      <th>mean</th>\n",
       "      <td>6.0</td>\n",
       "      <td>3.571429</td>\n",
       "      <td>3.571429</td>\n",
       "      <td>6.0</td>\n",
       "      <td>6.0</td>\n",
       "      <td>6.0</td>\n",
       "      <td>6.0</td>\n",
       "      <td>6.0</td>\n",
       "      <td>3.571429</td>\n",
       "      <td>3.000000</td>\n",
       "      <td>3.000000</td>\n",
       "    </tr>\n",
       "    <tr>\n",
       "      <th>std</th>\n",
       "      <td>0.0</td>\n",
       "      <td>2.225395</td>\n",
       "      <td>2.225395</td>\n",
       "      <td>0.0</td>\n",
       "      <td>0.0</td>\n",
       "      <td>0.0</td>\n",
       "      <td>0.0</td>\n",
       "      <td>0.0</td>\n",
       "      <td>2.225395</td>\n",
       "      <td>2.160247</td>\n",
       "      <td>2.160247</td>\n",
       "    </tr>\n",
       "    <tr>\n",
       "      <th>min</th>\n",
       "      <td>6.0</td>\n",
       "      <td>0.000000</td>\n",
       "      <td>0.000000</td>\n",
       "      <td>6.0</td>\n",
       "      <td>6.0</td>\n",
       "      <td>6.0</td>\n",
       "      <td>6.0</td>\n",
       "      <td>6.0</td>\n",
       "      <td>0.000000</td>\n",
       "      <td>0.000000</td>\n",
       "      <td>0.000000</td>\n",
       "    </tr>\n",
       "    <tr>\n",
       "      <th>25%</th>\n",
       "      <td>6.0</td>\n",
       "      <td>2.000000</td>\n",
       "      <td>2.000000</td>\n",
       "      <td>6.0</td>\n",
       "      <td>6.0</td>\n",
       "      <td>6.0</td>\n",
       "      <td>6.0</td>\n",
       "      <td>6.0</td>\n",
       "      <td>2.000000</td>\n",
       "      <td>1.500000</td>\n",
       "      <td>1.500000</td>\n",
       "    </tr>\n",
       "    <tr>\n",
       "      <th>50%</th>\n",
       "      <td>6.0</td>\n",
       "      <td>5.000000</td>\n",
       "      <td>5.000000</td>\n",
       "      <td>6.0</td>\n",
       "      <td>6.0</td>\n",
       "      <td>6.0</td>\n",
       "      <td>6.0</td>\n",
       "      <td>6.0</td>\n",
       "      <td>5.000000</td>\n",
       "      <td>3.000000</td>\n",
       "      <td>3.000000</td>\n",
       "    </tr>\n",
       "    <tr>\n",
       "      <th>75%</th>\n",
       "      <td>6.0</td>\n",
       "      <td>5.000000</td>\n",
       "      <td>5.000000</td>\n",
       "      <td>6.0</td>\n",
       "      <td>6.0</td>\n",
       "      <td>6.0</td>\n",
       "      <td>6.0</td>\n",
       "      <td>6.0</td>\n",
       "      <td>5.000000</td>\n",
       "      <td>4.500000</td>\n",
       "      <td>4.500000</td>\n",
       "    </tr>\n",
       "    <tr>\n",
       "      <th>max</th>\n",
       "      <td>6.0</td>\n",
       "      <td>6.000000</td>\n",
       "      <td>6.000000</td>\n",
       "      <td>6.0</td>\n",
       "      <td>6.0</td>\n",
       "      <td>6.0</td>\n",
       "      <td>6.0</td>\n",
       "      <td>6.0</td>\n",
       "      <td>6.000000</td>\n",
       "      <td>6.000000</td>\n",
       "      <td>6.000000</td>\n",
       "    </tr>\n",
       "  </tbody>\n",
       "</table>\n",
       "</div>"
      ],
      "text/plain": [
       "       betweenness  betweenness_centrality  betweenness_weighted  closeness  \\\n",
       "count          7.0                7.000000              7.000000        7.0   \n",
       "mean           6.0                3.571429              3.571429        6.0   \n",
       "std            0.0                2.225395              2.225395        0.0   \n",
       "min            6.0                0.000000              0.000000        6.0   \n",
       "25%            6.0                2.000000              2.000000        6.0   \n",
       "50%            6.0                5.000000              5.000000        6.0   \n",
       "75%            6.0                5.000000              5.000000        6.0   \n",
       "max            6.0                6.000000              6.000000        6.0   \n",
       "\n",
       "       degree  degree_weighted  eccentricity  eccentricity_weighted  \\\n",
       "count     7.0              7.0           7.0                    7.0   \n",
       "mean      6.0              6.0           6.0                    6.0   \n",
       "std       0.0              0.0           0.0                    0.0   \n",
       "min       6.0              6.0           6.0                    6.0   \n",
       "25%       6.0              6.0           6.0                    6.0   \n",
       "50%       6.0              6.0           6.0                    6.0   \n",
       "75%       6.0              6.0           6.0                    6.0   \n",
       "max       6.0              6.0           6.0                    6.0   \n",
       "\n",
       "       eigenvector  eigenvector_weighted     index  \n",
       "count     7.000000              7.000000  7.000000  \n",
       "mean      3.571429              3.000000  3.000000  \n",
       "std       2.225395              2.160247  2.160247  \n",
       "min       0.000000              0.000000  0.000000  \n",
       "25%       2.000000              1.500000  1.500000  \n",
       "50%       5.000000              3.000000  3.000000  \n",
       "75%       5.000000              4.500000  4.500000  \n",
       "max       6.000000              6.000000  6.000000  "
      ]
     },
     "execution_count": 14,
     "metadata": {},
     "output_type": "execute_result"
    }
   ],
   "source": [
    "gc.node = gc.node.dropna(axis=1)\n",
    "gc.node.describe()"
   ]
  },
  {
   "cell_type": "code",
   "execution_count": 15,
   "metadata": {
    "collapsed": false
   },
   "outputs": [
    {
     "data": {
      "text/html": [
       "<div>\n",
       "<table border=\"1\" class=\"dataframe\">\n",
       "  <thead>\n",
       "    <tr style=\"text-align: right;\">\n",
       "      <th></th>\n",
       "      <th>betweenness</th>\n",
       "      <th>betweenness_centrality</th>\n",
       "      <th>betweenness_weighted</th>\n",
       "      <th>closeness</th>\n",
       "      <th>degree</th>\n",
       "      <th>degree_weighted</th>\n",
       "      <th>eccentricity</th>\n",
       "      <th>eccentricity_weighted</th>\n",
       "      <th>eigenvector</th>\n",
       "      <th>eigenvector_weighted</th>\n",
       "      <th>label</th>\n",
       "      <th>index</th>\n",
       "    </tr>\n",
       "  </thead>\n",
       "  <tbody>\n",
       "    <tr>\n",
       "      <th>AUDUSD</th>\n",
       "      <td>6.0</td>\n",
       "      <td>5.0</td>\n",
       "      <td>5.0</td>\n",
       "      <td>6.0</td>\n",
       "      <td>6.0</td>\n",
       "      <td>6.0</td>\n",
       "      <td>6.0</td>\n",
       "      <td>6.0</td>\n",
       "      <td>5.0</td>\n",
       "      <td>3.0</td>\n",
       "      <td>AUDUSD</td>\n",
       "      <td>0</td>\n",
       "    </tr>\n",
       "    <tr>\n",
       "      <th>EURUSD</th>\n",
       "      <td>6.0</td>\n",
       "      <td>2.0</td>\n",
       "      <td>2.0</td>\n",
       "      <td>6.0</td>\n",
       "      <td>6.0</td>\n",
       "      <td>6.0</td>\n",
       "      <td>6.0</td>\n",
       "      <td>6.0</td>\n",
       "      <td>2.0</td>\n",
       "      <td>0.0</td>\n",
       "      <td>EURUSD</td>\n",
       "      <td>1</td>\n",
       "    </tr>\n",
       "    <tr>\n",
       "      <th>GBPUSD</th>\n",
       "      <td>6.0</td>\n",
       "      <td>6.0</td>\n",
       "      <td>6.0</td>\n",
       "      <td>6.0</td>\n",
       "      <td>6.0</td>\n",
       "      <td>6.0</td>\n",
       "      <td>6.0</td>\n",
       "      <td>6.0</td>\n",
       "      <td>5.0</td>\n",
       "      <td>1.0</td>\n",
       "      <td>GBPUSD</td>\n",
       "      <td>2</td>\n",
       "    </tr>\n",
       "    <tr>\n",
       "      <th>NZDUSD</th>\n",
       "      <td>6.0</td>\n",
       "      <td>5.0</td>\n",
       "      <td>5.0</td>\n",
       "      <td>6.0</td>\n",
       "      <td>6.0</td>\n",
       "      <td>6.0</td>\n",
       "      <td>6.0</td>\n",
       "      <td>6.0</td>\n",
       "      <td>5.0</td>\n",
       "      <td>4.0</td>\n",
       "      <td>NZDUSD</td>\n",
       "      <td>3</td>\n",
       "    </tr>\n",
       "    <tr>\n",
       "      <th>USDCAD</th>\n",
       "      <td>6.0</td>\n",
       "      <td>2.0</td>\n",
       "      <td>2.0</td>\n",
       "      <td>6.0</td>\n",
       "      <td>6.0</td>\n",
       "      <td>6.0</td>\n",
       "      <td>6.0</td>\n",
       "      <td>6.0</td>\n",
       "      <td>6.0</td>\n",
       "      <td>2.0</td>\n",
       "      <td>USDCAD</td>\n",
       "      <td>4</td>\n",
       "    </tr>\n",
       "  </tbody>\n",
       "</table>\n",
       "</div>"
      ],
      "text/plain": [
       "        betweenness  betweenness_centrality  betweenness_weighted  closeness  \\\n",
       "AUDUSD          6.0                     5.0                   5.0        6.0   \n",
       "EURUSD          6.0                     2.0                   2.0        6.0   \n",
       "GBPUSD          6.0                     6.0                   6.0        6.0   \n",
       "NZDUSD          6.0                     5.0                   5.0        6.0   \n",
       "USDCAD          6.0                     2.0                   2.0        6.0   \n",
       "\n",
       "        degree  degree_weighted  eccentricity  eccentricity_weighted  \\\n",
       "AUDUSD     6.0              6.0           6.0                    6.0   \n",
       "EURUSD     6.0              6.0           6.0                    6.0   \n",
       "GBPUSD     6.0              6.0           6.0                    6.0   \n",
       "NZDUSD     6.0              6.0           6.0                    6.0   \n",
       "USDCAD     6.0              6.0           6.0                    6.0   \n",
       "\n",
       "        eigenvector  eigenvector_weighted   label  index  \n",
       "AUDUSD          5.0                   3.0  AUDUSD      0  \n",
       "EURUSD          2.0                   0.0  EURUSD      1  \n",
       "GBPUSD          5.0                   1.0  GBPUSD      2  \n",
       "NZDUSD          5.0                   4.0  NZDUSD      3  \n",
       "USDCAD          6.0                   2.0  USDCAD      4  "
      ]
     },
     "execution_count": 15,
     "metadata": {},
     "output_type": "execute_result"
    }
   ],
   "source": [
    "gc.node.head()"
   ]
  },
  {
   "cell_type": "markdown",
   "metadata": {},
   "source": [
    "<a id='edge_metrics'></a>"
   ]
  },
  {
   "cell_type": "markdown",
   "metadata": {},
   "source": [
    "## 4.2 Edge metrics"
   ]
  },
  {
   "cell_type": "markdown",
   "metadata": {},
   "source": [
    "[Back to top](#index)"
   ]
  },
  {
   "cell_type": "markdown",
   "metadata": {},
   "source": [
    "The *edge* attribute is a pandas Panel with all the information regarding the edges of the graph. This means that it will contain two kinds of metrics:\n",
    "\n",
    "- **Edge**: All the metrics calculated on the edges of the graph in the form of an adjacency matrix.\n",
    "\n",
    "- **Matrix**: All the matrices that were not used to build the graph are stored in the form of an adjacency matrix."
   ]
  },
  {
   "cell_type": "code",
   "execution_count": 16,
   "metadata": {
    "collapsed": false
   },
   "outputs": [
    {
     "data": {
      "text/plain": [
       "<class 'pandas.core.panel.Panel'>\n",
       "Dimensions: 7 (items) x 7 (major_axis) x 7 (minor_axis)\n",
       "Items axis: corr to weight\n",
       "Major_axis axis: AUDUSD to USDJPY\n",
       "Minor_axis axis: AUDUSD to USDJPY"
      ]
     },
     "execution_count": 16,
     "metadata": {},
     "output_type": "execute_result"
    }
   ],
   "source": [
    "gc.edge"
   ]
  },
  {
   "cell_type": "code",
   "execution_count": 17,
   "metadata": {
    "collapsed": false
   },
   "outputs": [
    {
     "data": {
      "text/plain": [
       "Index(['corr', 'cov', 'edge_betweenness', 'edge_betweenness_centrality',\n",
       "       'edge_current_flow_betweenness_centrality', 'exchange', 'weight'],\n",
       "      dtype='object')"
      ]
     },
     "execution_count": 17,
     "metadata": {},
     "output_type": "execute_result"
    }
   ],
   "source": [
    "gc.edge.items"
   ]
  },
  {
   "cell_type": "code",
   "execution_count": 18,
   "metadata": {
    "collapsed": false
   },
   "outputs": [
    {
     "data": {
      "text/html": [
       "<div>\n",
       "<table border=\"1\" class=\"dataframe\">\n",
       "  <thead>\n",
       "    <tr style=\"text-align: right;\">\n",
       "      <th></th>\n",
       "      <th>AUDUSD</th>\n",
       "      <th>EURUSD</th>\n",
       "      <th>GBPUSD</th>\n",
       "      <th>NZDUSD</th>\n",
       "      <th>USDCAD</th>\n",
       "      <th>USDCHF</th>\n",
       "      <th>USDJPY</th>\n",
       "    </tr>\n",
       "  </thead>\n",
       "  <tbody>\n",
       "    <tr>\n",
       "      <th>AUDUSD</th>\n",
       "      <td>NaN</td>\n",
       "      <td>-0.000039</td>\n",
       "      <td>0.000033</td>\n",
       "      <td>0.000165</td>\n",
       "      <td>-0.000199</td>\n",
       "      <td>0.000018</td>\n",
       "      <td>0.000005</td>\n",
       "    </tr>\n",
       "    <tr>\n",
       "      <th>EURUSD</th>\n",
       "      <td>-0.000039</td>\n",
       "      <td>NaN</td>\n",
       "      <td>0.000085</td>\n",
       "      <td>-0.000010</td>\n",
       "      <td>0.000076</td>\n",
       "      <td>-0.000028</td>\n",
       "      <td>-0.000003</td>\n",
       "    </tr>\n",
       "    <tr>\n",
       "      <th>GBPUSD</th>\n",
       "      <td>0.000033</td>\n",
       "      <td>0.000085</td>\n",
       "      <td>NaN</td>\n",
       "      <td>0.000021</td>\n",
       "      <td>0.000049</td>\n",
       "      <td>-0.000029</td>\n",
       "      <td>0.000012</td>\n",
       "    </tr>\n",
       "    <tr>\n",
       "      <th>NZDUSD</th>\n",
       "      <td>0.000165</td>\n",
       "      <td>-0.000010</td>\n",
       "      <td>0.000021</td>\n",
       "      <td>NaN</td>\n",
       "      <td>-0.000096</td>\n",
       "      <td>0.000002</td>\n",
       "      <td>0.000001</td>\n",
       "    </tr>\n",
       "    <tr>\n",
       "      <th>USDCAD</th>\n",
       "      <td>-0.000199</td>\n",
       "      <td>0.000076</td>\n",
       "      <td>0.000049</td>\n",
       "      <td>-0.000096</td>\n",
       "      <td>NaN</td>\n",
       "      <td>-0.000031</td>\n",
       "      <td>-0.000022</td>\n",
       "    </tr>\n",
       "    <tr>\n",
       "      <th>USDCHF</th>\n",
       "      <td>0.000018</td>\n",
       "      <td>-0.000028</td>\n",
       "      <td>-0.000029</td>\n",
       "      <td>0.000002</td>\n",
       "      <td>-0.000031</td>\n",
       "      <td>NaN</td>\n",
       "      <td>0.000001</td>\n",
       "    </tr>\n",
       "    <tr>\n",
       "      <th>USDJPY</th>\n",
       "      <td>0.000005</td>\n",
       "      <td>-0.000003</td>\n",
       "      <td>0.000012</td>\n",
       "      <td>0.000001</td>\n",
       "      <td>-0.000022</td>\n",
       "      <td>0.000001</td>\n",
       "      <td>NaN</td>\n",
       "    </tr>\n",
       "  </tbody>\n",
       "</table>\n",
       "</div>"
      ],
      "text/plain": [
       "          AUDUSD    EURUSD    GBPUSD    NZDUSD    USDCAD    USDCHF    USDJPY\n",
       "AUDUSD       NaN -0.000039  0.000033  0.000165 -0.000199  0.000018  0.000005\n",
       "EURUSD -0.000039       NaN  0.000085 -0.000010  0.000076 -0.000028 -0.000003\n",
       "GBPUSD  0.000033  0.000085       NaN  0.000021  0.000049 -0.000029  0.000012\n",
       "NZDUSD  0.000165 -0.000010  0.000021       NaN -0.000096  0.000002  0.000001\n",
       "USDCAD -0.000199  0.000076  0.000049 -0.000096       NaN -0.000031 -0.000022\n",
       "USDCHF  0.000018 -0.000028 -0.000029  0.000002 -0.000031       NaN  0.000001\n",
       "USDJPY  0.000005 -0.000003  0.000012  0.000001 -0.000022  0.000001       NaN"
      ]
     },
     "execution_count": 18,
     "metadata": {},
     "output_type": "execute_result"
    }
   ],
   "source": [
    "gc.edge['cov']"
   ]
  },
  {
   "cell_type": "code",
   "execution_count": 19,
   "metadata": {
    "collapsed": false
   },
   "outputs": [
    {
     "data": {
      "text/html": [
       "<div>\n",
       "<table border=\"1\" class=\"dataframe\">\n",
       "  <thead>\n",
       "    <tr style=\"text-align: right;\">\n",
       "      <th></th>\n",
       "      <th>AUDUSD</th>\n",
       "      <th>EURUSD</th>\n",
       "      <th>GBPUSD</th>\n",
       "      <th>NZDUSD</th>\n",
       "      <th>USDCAD</th>\n",
       "      <th>USDCHF</th>\n",
       "      <th>USDJPY</th>\n",
       "    </tr>\n",
       "  </thead>\n",
       "  <tbody>\n",
       "    <tr>\n",
       "      <th>AUDUSD</th>\n",
       "      <td>NaN</td>\n",
       "      <td>0.047619</td>\n",
       "      <td>0.047619</td>\n",
       "      <td>0.047619</td>\n",
       "      <td>0.047619</td>\n",
       "      <td>0.047619</td>\n",
       "      <td>0.047619</td>\n",
       "    </tr>\n",
       "    <tr>\n",
       "      <th>EURUSD</th>\n",
       "      <td>0.047619</td>\n",
       "      <td>NaN</td>\n",
       "      <td>0.047619</td>\n",
       "      <td>0.047619</td>\n",
       "      <td>0.047619</td>\n",
       "      <td>0.047619</td>\n",
       "      <td>0.047619</td>\n",
       "    </tr>\n",
       "    <tr>\n",
       "      <th>GBPUSD</th>\n",
       "      <td>0.047619</td>\n",
       "      <td>0.047619</td>\n",
       "      <td>NaN</td>\n",
       "      <td>0.047619</td>\n",
       "      <td>0.047619</td>\n",
       "      <td>0.047619</td>\n",
       "      <td>0.047619</td>\n",
       "    </tr>\n",
       "    <tr>\n",
       "      <th>NZDUSD</th>\n",
       "      <td>0.047619</td>\n",
       "      <td>0.047619</td>\n",
       "      <td>0.047619</td>\n",
       "      <td>NaN</td>\n",
       "      <td>0.047619</td>\n",
       "      <td>0.047619</td>\n",
       "      <td>0.047619</td>\n",
       "    </tr>\n",
       "    <tr>\n",
       "      <th>USDCAD</th>\n",
       "      <td>0.047619</td>\n",
       "      <td>0.047619</td>\n",
       "      <td>0.047619</td>\n",
       "      <td>0.047619</td>\n",
       "      <td>NaN</td>\n",
       "      <td>0.047619</td>\n",
       "      <td>0.047619</td>\n",
       "    </tr>\n",
       "    <tr>\n",
       "      <th>USDCHF</th>\n",
       "      <td>0.047619</td>\n",
       "      <td>0.047619</td>\n",
       "      <td>0.047619</td>\n",
       "      <td>0.047619</td>\n",
       "      <td>0.047619</td>\n",
       "      <td>NaN</td>\n",
       "      <td>0.047619</td>\n",
       "    </tr>\n",
       "    <tr>\n",
       "      <th>USDJPY</th>\n",
       "      <td>0.047619</td>\n",
       "      <td>0.047619</td>\n",
       "      <td>0.047619</td>\n",
       "      <td>0.047619</td>\n",
       "      <td>0.047619</td>\n",
       "      <td>0.047619</td>\n",
       "      <td>NaN</td>\n",
       "    </tr>\n",
       "  </tbody>\n",
       "</table>\n",
       "</div>"
      ],
      "text/plain": [
       "          AUDUSD    EURUSD    GBPUSD    NZDUSD    USDCAD    USDCHF    USDJPY\n",
       "AUDUSD       NaN  0.047619  0.047619  0.047619  0.047619  0.047619  0.047619\n",
       "EURUSD  0.047619       NaN  0.047619  0.047619  0.047619  0.047619  0.047619\n",
       "GBPUSD  0.047619  0.047619       NaN  0.047619  0.047619  0.047619  0.047619\n",
       "NZDUSD  0.047619  0.047619  0.047619       NaN  0.047619  0.047619  0.047619\n",
       "USDCAD  0.047619  0.047619  0.047619  0.047619       NaN  0.047619  0.047619\n",
       "USDCHF  0.047619  0.047619  0.047619  0.047619  0.047619       NaN  0.047619\n",
       "USDJPY  0.047619  0.047619  0.047619  0.047619  0.047619  0.047619       NaN"
      ]
     },
     "execution_count": 19,
     "metadata": {},
     "output_type": "execute_result"
    }
   ],
   "source": [
    "gc.edge['edge_betweenness']"
   ]
  },
  {
   "cell_type": "markdown",
   "metadata": {},
   "source": [
    "<a id='external_node'></a>"
   ]
  },
  {
   "cell_type": "markdown",
   "metadata": {},
   "source": [
    "## 4.3 External node metrics"
   ]
  },
  {
   "cell_type": "markdown",
   "metadata": {},
   "source": [
    "[Back to top](#index)"
   ]
  },
  {
   "cell_type": "markdown",
   "metadata": {},
   "source": [
    "The node metrics that were passed as a parameter are stored in the *node_metrics* attribute. They are not currently used by the GraphCalculator. This information is currently used only when displaying the node tooltips on a plot."
   ]
  },
  {
   "cell_type": "code",
   "execution_count": 30,
   "metadata": {
    "collapsed": false
   },
   "outputs": [
    {
     "data": {
      "text/html": [
       "<div>\n",
       "<table border=\"1\" class=\"dataframe\">\n",
       "  <thead>\n",
       "    <tr style=\"text-align: right;\">\n",
       "      <th></th>\n",
       "      <th>AUDUSD</th>\n",
       "      <th>EURUSD</th>\n",
       "      <th>GBPUSD</th>\n",
       "      <th>NZDUSD</th>\n",
       "      <th>USDCAD</th>\n",
       "      <th>USDCHF</th>\n",
       "      <th>USDJPY</th>\n",
       "    </tr>\n",
       "  </thead>\n",
       "  <tbody>\n",
       "    <tr>\n",
       "      <th>total_rets</th>\n",
       "      <td>0.044782</td>\n",
       "      <td>-0.004359</td>\n",
       "      <td>-0.015000</td>\n",
       "      <td>0.005178</td>\n",
       "      <td>-0.034737</td>\n",
       "      <td>0.005485</td>\n",
       "      <td>-0.006254</td>\n",
       "    </tr>\n",
       "    <tr>\n",
       "      <th>mean</th>\n",
       "      <td>1.019019</td>\n",
       "      <td>0.980220</td>\n",
       "      <td>0.975572</td>\n",
       "      <td>1.007091</td>\n",
       "      <td>0.978751</td>\n",
       "      <td>1.015520</td>\n",
       "      <td>0.997831</td>\n",
       "    </tr>\n",
       "    <tr>\n",
       "      <th>std</th>\n",
       "      <td>0.018122</td>\n",
       "      <td>0.008516</td>\n",
       "      <td>0.012586</td>\n",
       "      <td>0.010881</td>\n",
       "      <td>0.013711</td>\n",
       "      <td>0.004247</td>\n",
       "      <td>0.006199</td>\n",
       "    </tr>\n",
       "    <tr>\n",
       "      <th>shannon_entropy</th>\n",
       "      <td>-10.101042</td>\n",
       "      <td>-17.269426</td>\n",
       "      <td>-10.302946</td>\n",
       "      <td>-15.579892</td>\n",
       "      <td>-9.508544</td>\n",
       "      <td>-42.435164</td>\n",
       "      <td>-26.678195</td>\n",
       "    </tr>\n",
       "    <tr>\n",
       "      <th>mean_rets</th>\n",
       "      <td>7.526429</td>\n",
       "      <td>-0.732642</td>\n",
       "      <td>-2.520989</td>\n",
       "      <td>0.870311</td>\n",
       "      <td>-5.838132</td>\n",
       "      <td>0.921772</td>\n",
       "      <td>-1.051116</td>\n",
       "    </tr>\n",
       "    <tr>\n",
       "      <th>std_rets</th>\n",
       "      <td>7.526429</td>\n",
       "      <td>-0.732642</td>\n",
       "      <td>-2.520989</td>\n",
       "      <td>0.870311</td>\n",
       "      <td>-5.838132</td>\n",
       "      <td>0.921772</td>\n",
       "      <td>-1.051116</td>\n",
       "    </tr>\n",
       "  </tbody>\n",
       "</table>\n",
       "</div>"
      ],
      "text/plain": [
       "                    AUDUSD     EURUSD     GBPUSD     NZDUSD    USDCAD  \\\n",
       "total_rets        0.044782  -0.004359  -0.015000   0.005178 -0.034737   \n",
       "mean              1.019019   0.980220   0.975572   1.007091  0.978751   \n",
       "std               0.018122   0.008516   0.012586   0.010881  0.013711   \n",
       "shannon_entropy -10.101042 -17.269426 -10.302946 -15.579892 -9.508544   \n",
       "mean_rets         7.526429  -0.732642  -2.520989   0.870311 -5.838132   \n",
       "std_rets          7.526429  -0.732642  -2.520989   0.870311 -5.838132   \n",
       "\n",
       "                    USDCHF     USDJPY  \n",
       "total_rets        0.005485  -0.006254  \n",
       "mean              1.015520   0.997831  \n",
       "std               0.004247   0.006199  \n",
       "shannon_entropy -42.435164 -26.678195  \n",
       "mean_rets         0.921772  -1.051116  \n",
       "std_rets          0.921772  -1.051116  "
      ]
     },
     "execution_count": 30,
     "metadata": {},
     "output_type": "execute_result"
    }
   ],
   "source": [
    "gc.node_metrics"
   ]
  },
  {
   "cell_type": "markdown",
   "metadata": {},
   "source": [
    "<a id='networkx_graph'></a>"
   ]
  },
  {
   "cell_type": "markdown",
   "metadata": {},
   "source": [
    "## 4.4 Networkx Graph"
   ]
  },
  {
   "cell_type": "markdown",
   "metadata": {},
   "source": [
    "[Back to top](#index)"
   ]
  },
  {
   "cell_type": "markdown",
   "metadata": {},
   "source": [
    "All the data is also stored in a networkx graph containing all the DataFrames of the GraphCalculator as node and edge attributes. It is possible to acces the Graph using the *G* attribute."
   ]
  },
  {
   "cell_type": "code",
   "execution_count": 21,
   "metadata": {
    "collapsed": false,
    "scrolled": false
   },
   "outputs": [
    {
     "data": {
      "text/plain": [
       "{'AUDUSD': {'betweenness': 6,\n",
       "  'betweenness_centrality': 5,\n",
       "  'betweenness_weighted': 5,\n",
       "  'closeness': 6,\n",
       "  'closeness_weighted': None,\n",
       "  'degree': 6,\n",
       "  'degree_weighted': 6,\n",
       "  'eccentricity': 6,\n",
       "  'eccentricity_weighted': 6,\n",
       "  'eigenvector': 5,\n",
       "  'eigenvector_weighted': 3},\n",
       " 'EURUSD': {'betweenness': 6,\n",
       "  'betweenness_centrality': 2,\n",
       "  'betweenness_weighted': 2,\n",
       "  'closeness': 6,\n",
       "  'closeness_weighted': None,\n",
       "  'degree': 6,\n",
       "  'degree_weighted': 6,\n",
       "  'eccentricity': 6,\n",
       "  'eccentricity_weighted': 6,\n",
       "  'eigenvector': 2,\n",
       "  'eigenvector_weighted': 0},\n",
       " 'GBPUSD': {'betweenness': 6,\n",
       "  'betweenness_centrality': 6,\n",
       "  'betweenness_weighted': 6,\n",
       "  'closeness': 6,\n",
       "  'closeness_weighted': None,\n",
       "  'degree': 6,\n",
       "  'degree_weighted': 6,\n",
       "  'eccentricity': 6,\n",
       "  'eccentricity_weighted': 6,\n",
       "  'eigenvector': 5,\n",
       "  'eigenvector_weighted': 1},\n",
       " 'NZDUSD': {'betweenness': 6,\n",
       "  'betweenness_centrality': 5,\n",
       "  'betweenness_weighted': 5,\n",
       "  'closeness': 6,\n",
       "  'closeness_weighted': None,\n",
       "  'degree': 6,\n",
       "  'degree_weighted': 6,\n",
       "  'eccentricity': 6,\n",
       "  'eccentricity_weighted': 6,\n",
       "  'eigenvector': 5,\n",
       "  'eigenvector_weighted': 4},\n",
       " 'USDCAD': {'betweenness': 6,\n",
       "  'betweenness_centrality': 2,\n",
       "  'betweenness_weighted': 2,\n",
       "  'closeness': 6,\n",
       "  'closeness_weighted': None,\n",
       "  'degree': 6,\n",
       "  'degree_weighted': 6,\n",
       "  'eccentricity': 6,\n",
       "  'eccentricity_weighted': 6,\n",
       "  'eigenvector': 6,\n",
       "  'eigenvector_weighted': 2},\n",
       " 'USDCHF': {'betweenness': 6,\n",
       "  'betweenness_centrality': 0,\n",
       "  'betweenness_weighted': 0,\n",
       "  'closeness': 6,\n",
       "  'closeness_weighted': None,\n",
       "  'degree': 6,\n",
       "  'degree_weighted': 6,\n",
       "  'eccentricity': 6,\n",
       "  'eccentricity_weighted': 6,\n",
       "  'eigenvector': 0,\n",
       "  'eigenvector_weighted': 6},\n",
       " 'USDJPY': {'betweenness': 6,\n",
       "  'betweenness_centrality': 5,\n",
       "  'betweenness_weighted': 5,\n",
       "  'closeness': 6,\n",
       "  'closeness_weighted': None,\n",
       "  'degree': 6,\n",
       "  'degree_weighted': 6,\n",
       "  'eccentricity': 6,\n",
       "  'eccentricity_weighted': 6,\n",
       "  'eigenvector': 2,\n",
       "  'eigenvector_weighted': 5}}"
      ]
     },
     "execution_count": 21,
     "metadata": {},
     "output_type": "execute_result"
    }
   ],
   "source": [
    "gc.G.node"
   ]
  },
  {
   "cell_type": "code",
   "execution_count": 22,
   "metadata": {
    "collapsed": false
   },
   "outputs": [
    {
     "data": {
      "text/plain": [
       "{'AUDUSD':                                             EURUSD    GBPUSD    NZDUSD  \\\n",
       " corr                                     -0.250899  0.146507  0.833959   \n",
       " cov                                      -0.000039  0.000033  0.000165   \n",
       " edge_betweenness                          0.047619  0.047619  0.047619   \n",
       " edge_betweenness_centrality               0.047619  0.047619  0.047619   \n",
       " edge_current_flow_betweenness_centrality  0.000015  0.211684  0.000016   \n",
       " exchange                                 -0.250899  0.146507  0.833959   \n",
       " weight                                    0.000010  0.146507  0.833959   \n",
       " \n",
       "                                             USDCAD    USDCHF    USDJPY  \n",
       " corr                                     -0.801005  0.234333  0.043249  \n",
       " cov                                      -0.000199  0.000018  0.000005  \n",
       " edge_betweenness                          0.047619  0.047619  0.047619  \n",
       " edge_betweenness_centrality               0.047619  0.047619  0.047619  \n",
       " edge_current_flow_betweenness_centrality  0.034344  0.000015  0.000020  \n",
       " exchange                                 -0.801005  0.234333  0.043249  \n",
       " weight                                    0.000010  0.234333  0.043249  ,\n",
       " 'EURUSD':                                             AUDUSD    GBPUSD    NZDUSD  \\\n",
       " corr                                     -0.250899  0.794830 -0.112556   \n",
       " cov                                      -0.000039  0.000085 -0.000010   \n",
       " edge_betweenness                          0.047619  0.047619  0.047619   \n",
       " edge_betweenness_centrality               0.047619  0.047619  0.047619   \n",
       " edge_current_flow_betweenness_centrality  0.000015  0.024853  0.151452   \n",
       " exchange                                 -0.250899  0.794830 -0.112556   \n",
       " weight                                    0.000010  0.794830  0.000010   \n",
       " \n",
       "                                             USDCAD    USDCHF    USDJPY  \n",
       " corr                                      0.651165 -0.784686 -0.063185  \n",
       " cov                                       0.000076 -0.000028 -0.000003  \n",
       " edge_betweenness                          0.047619  0.047619  0.047619  \n",
       " edge_betweenness_centrality               0.047619  0.047619  0.047619  \n",
       " edge_current_flow_betweenness_centrality  0.053037  0.085802  0.000014  \n",
       " exchange                                  0.651165 -0.784686 -0.063185  \n",
       " weight                                    0.651165  0.000010  0.000010  ,\n",
       " 'GBPUSD':                                             AUDUSD    EURUSD    NZDUSD  \\\n",
       " corr                                      0.146507  0.794830  0.154837   \n",
       " cov                                       0.000033  0.000085  0.000021   \n",
       " edge_betweenness                          0.047619  0.047619  0.047619   \n",
       " edge_betweenness_centrality               0.047619  0.047619  0.047619   \n",
       " edge_current_flow_betweenness_centrality  0.211684  0.024853  0.000014   \n",
       " exchange                                  0.146507  0.794830  0.154837   \n",
       " weight                                    0.146507  0.794830  0.154837   \n",
       " \n",
       "                                             USDCAD    USDCHF    USDJPY  \n",
       " corr                                      0.283081 -0.544016  0.149962  \n",
       " cov                                       0.000049 -0.000029  0.000012  \n",
       " edge_betweenness                          0.047619  0.047619  0.047619  \n",
       " edge_betweenness_centrality               0.047619  0.047619  0.047619  \n",
       " edge_current_flow_betweenness_centrality  0.171534  0.234648  0.000019  \n",
       " exchange                                  0.283081 -0.544016  0.149962  \n",
       " weight                                    0.283081  0.000010  0.149962  ,\n",
       " 'NZDUSD':                                             AUDUSD    EURUSD    GBPUSD  \\\n",
       " corr                                      0.833959 -0.112556  0.154837   \n",
       " cov                                       0.000165 -0.000010  0.000021   \n",
       " edge_betweenness                          0.047619  0.047619  0.047619   \n",
       " edge_betweenness_centrality               0.047619  0.047619  0.047619   \n",
       " edge_current_flow_betweenness_centrality  0.000016  0.151452  0.000014   \n",
       " exchange                                  0.833959 -0.112556  0.154837   \n",
       " weight                                    0.833959  0.000010  0.154837   \n",
       " \n",
       "                                             USDCAD    USDCHF    USDJPY  \n",
       " corr                                     -0.644542  0.039789  0.019937  \n",
       " cov                                      -0.000096  0.000002  0.000001  \n",
       " edge_betweenness                          0.047619  0.047619  0.047619  \n",
       " edge_betweenness_centrality               0.047619  0.047619  0.047619  \n",
       " edge_current_flow_betweenness_centrality  0.000015  0.169252  0.176972  \n",
       " exchange                                 -0.644542  0.039789  0.019937  \n",
       " weight                                    0.000010  0.039789  0.019937  ,\n",
       " 'USDCAD':                                             AUDUSD    EURUSD    GBPUSD  \\\n",
       " corr                                     -0.801005  0.651165  0.283081   \n",
       " cov                                      -0.000199  0.000076  0.000049   \n",
       " edge_betweenness                          0.047619  0.047619  0.047619   \n",
       " edge_betweenness_centrality               0.047619  0.047619  0.047619   \n",
       " edge_current_flow_betweenness_centrality  0.034344  0.053037  0.171534   \n",
       " exchange                                 -0.801005  0.651165  0.283081   \n",
       " weight                                    0.000010  0.651165  0.283081   \n",
       " \n",
       "                                             NZDUSD    USDCHF    USDJPY  \n",
       " corr                                     -0.644542 -0.526196 -0.258134  \n",
       " cov                                      -0.000096 -0.000031 -0.000022  \n",
       " edge_betweenness                          0.047619  0.047619  0.047619  \n",
       " edge_betweenness_centrality               0.047619  0.047619  0.047619  \n",
       " edge_current_flow_betweenness_centrality  0.000015  0.000016  0.114824  \n",
       " exchange                                 -0.644542 -0.526196 -0.258134  \n",
       " weight                                    0.000010  0.000010  0.000010  ,\n",
       " 'USDCHF':                                             AUDUSD    EURUSD    GBPUSD  \\\n",
       " corr                                      0.234333 -0.784686 -0.544016   \n",
       " cov                                       0.000018 -0.000028 -0.000029   \n",
       " edge_betweenness                          0.047619  0.047619  0.047619   \n",
       " edge_betweenness_centrality               0.047619  0.047619  0.047619   \n",
       " edge_current_flow_betweenness_centrality  0.000015  0.085802  0.234648   \n",
       " exchange                                  0.234333 -0.784686 -0.544016   \n",
       " weight                                    0.234333  0.000010  0.000010   \n",
       " \n",
       "                                             NZDUSD    USDCAD    USDJPY  \n",
       " corr                                      0.039789 -0.526196  0.055641  \n",
       " cov                                       0.000002 -0.000031  0.000001  \n",
       " edge_betweenness                          0.047619  0.047619  0.047619  \n",
       " edge_betweenness_centrality               0.047619  0.047619  0.047619  \n",
       " edge_current_flow_betweenness_centrality  0.169252  0.000016  0.162264  \n",
       " exchange                                  0.039789 -0.526196  0.055641  \n",
       " weight                                    0.039789  0.000010  0.055641  ,\n",
       " 'USDJPY':                                             AUDUSD    EURUSD    GBPUSD  \\\n",
       " corr                                      0.043249 -0.063185  0.149962   \n",
       " cov                                       0.000005 -0.000003  0.000012   \n",
       " edge_betweenness                          0.047619  0.047619  0.047619   \n",
       " edge_betweenness_centrality               0.047619  0.047619  0.047619   \n",
       " edge_current_flow_betweenness_centrality  0.000020  0.000014  0.000019   \n",
       " exchange                                  0.043249 -0.063185  0.149962   \n",
       " weight                                    0.043249  0.000010  0.149962   \n",
       " \n",
       "                                             NZDUSD    USDCAD    USDCHF  \n",
       " corr                                      0.019937 -0.258134  0.055641  \n",
       " cov                                       0.000001 -0.000022  0.000001  \n",
       " edge_betweenness                          0.047619  0.047619  0.047619  \n",
       " edge_betweenness_centrality               0.047619  0.047619  0.047619  \n",
       " edge_current_flow_betweenness_centrality  0.176972  0.114824  0.162264  \n",
       " exchange                                  0.019937 -0.258134  0.055641  \n",
       " weight                                    0.019937  0.000010  0.055641  }"
      ]
     },
     "execution_count": 22,
     "metadata": {},
     "output_type": "execute_result"
    }
   ],
   "source": [
    "gc.G.edge"
   ]
  },
  {
   "cell_type": "code",
   "execution_count": null,
   "metadata": {
    "collapsed": true
   },
   "outputs": [],
   "source": []
  },
  {
   "cell_type": "code",
   "execution_count": null,
   "metadata": {
    "collapsed": true
   },
   "outputs": [],
   "source": []
  }
 ],
 "metadata": {
  "kernelspec": {
   "display_name": "Python 3",
   "language": "python",
   "name": "python3"
  },
  "language_info": {
   "codemirror_mode": {
    "name": "ipython",
    "version": 3
   },
   "file_extension": ".py",
   "mimetype": "text/x-python",
   "name": "python",
   "nbconvert_exporter": "python",
   "pygments_lexer": "ipython3",
   "version": "3.5.1"
  },
  "widgets": {
   "state": {
    "003b21b0e6614dd69ef147334b9aa3d5": {
     "views": []
    },
    "016ef2ff15194fa4a474bb452c0c32f4": {
     "views": []
    },
    "02a74aa64d7c4dddba520f71e2900a33": {
     "views": []
    },
    "035f986c761d451f9610436a90f515df": {
     "views": []
    },
    "03799abcb5644dcdab4ac61ab60ab827": {
     "views": []
    },
    "03f9f246d7bd4aff82434fe81747068b": {
     "views": []
    },
    "0402cbc2cd104f5fad95c6310ac38eb1": {
     "views": []
    },
    "05bf19c6ac93470fb3eeec53bba4e9c0": {
     "views": []
    },
    "05e353156a704bf59ad7483ad4209c65": {
     "views": []
    },
    "06ceaa12d5824002b6955c72a30f66a5": {
     "views": []
    },
    "0b067e5b9fb9479284614e73e164e3fe": {
     "views": []
    },
    "0b57975f58d74e049ca9c0210a42df58": {
     "views": []
    },
    "0b78d1dc7acb467f964662edc434ec76": {
     "views": []
    },
    "0bc9203e163d4f2793435a0e3495749f": {
     "views": []
    },
    "0bf1670b40f0480db09aa2784f6729d2": {
     "views": []
    },
    "0c5437f8233741c9a2a467162442c3d0": {
     "views": []
    },
    "0c79f4b6e8694774876b2d848dd64cdd": {
     "views": []
    },
    "0d1a5466705f447ba3652a4535abb236": {
     "views": []
    },
    "0d99d0c84b8d411a9886548519a5c0fa": {
     "views": []
    },
    "0fcbead3a46148cfb15c15e7069b9749": {
     "views": []
    },
    "117f0f66ea3c49ccb114b224c41e9c4b": {
     "views": []
    },
    "14633e6cad6447d9bfa89e8485a8b0b1": {
     "views": []
    },
    "1548d6b8ae8548859312951add96a788": {
     "views": []
    },
    "188f55a6689b4763b06cf84a5398a62f": {
     "views": []
    },
    "198cb67dce5143fbb40c32e01c849878": {
     "views": []
    },
    "1a80dd46b1734d5ab0797b50488c0600": {
     "views": []
    },
    "1c1c95d1be3e4cc5abdd83ef78d6e7e6": {
     "views": []
    },
    "1e083b0e1f904d828ca4a3df31aebbcb": {
     "views": []
    },
    "1f2f231071454e2990bdc2c0391b4ab0": {
     "views": []
    },
    "1f8f4bc8b3fd4a839b0d00b9a5acc24f": {
     "views": []
    },
    "21478d4c21ed44b6b3fe09b8b15a9d95": {
     "views": []
    },
    "23574db4361e4f73bd944de0f3ea75b6": {
     "views": []
    },
    "24a3f269ee7a4c839a2d2ea46e51cead": {
     "views": []
    },
    "257d5cb116fc423ea4c2e919cb62d647": {
     "views": []
    },
    "259c08be00364be5ac07ad34b1ee5ff2": {
     "views": []
    },
    "265a25b9c2644f22a057e65f84e381c5": {
     "views": []
    },
    "26e32382b5e047bc8711e54b120f61ac": {
     "views": []
    },
    "2774c50c4f4a410188bedce8d67f71bc": {
     "views": []
    },
    "2b100df84eb94c7b9bc83bb6ed4f26e6": {
     "views": []
    },
    "2be1d6bfcc7541548bb9a7bb4b0920a6": {
     "views": []
    },
    "2c65dd8c310e41cd97c7b6674af3ae17": {
     "views": []
    },
    "2cdcbc9455b445bea38084349309cf1f": {
     "views": []
    },
    "2d2653659187464995fa1f6f3bef6acb": {
     "views": []
    },
    "2e8dcef14fa346e2b60b7555e99ecbe5": {
     "views": []
    },
    "2ef43c2afa33465994656ac6ae953133": {
     "views": []
    },
    "2f8b9e033cc94c599c01f6f95e38f281": {
     "views": []
    },
    "2fd756ae040940e5808c4e4f66d2c3e7": {
     "views": []
    },
    "30ca0dfb2e8d4d478eafdba1cb7cc8b7": {
     "views": []
    },
    "31fc0d5be49340b7b67c5d0d512e55d1": {
     "views": []
    },
    "3494eb11b10549db89cdf19acdb2c0ab": {
     "views": []
    },
    "3601d845287442409e214c5488185b58": {
     "views": []
    },
    "36272fcf1f02452e8cbf58a30a282d7e": {
     "views": []
    },
    "36b03904651e48c394e1a7fe94a34442": {
     "views": []
    },
    "37681c64be4c46639cc48761e4ed0c8e": {
     "views": []
    },
    "37be501734224afa96af74ae0dff16be": {
     "views": []
    },
    "3a82fcdd4e754db29ef4783ab085e8a5": {
     "views": []
    },
    "3b8376b7fdfe44148a10daa16a3a8604": {
     "views": []
    },
    "3c556a20c9e9421baaff3b5c50846b61": {
     "views": []
    },
    "3d1057341b8740c2a2a7582a0698099e": {
     "views": []
    },
    "3da13facddc2421d8e3d6a9de27382de": {
     "views": []
    },
    "3df95495e223468687b570bdf2c58d00": {
     "views": []
    },
    "3e45baa6658f48909813b2ab10ba0cc7": {
     "views": []
    },
    "3e8becda6422461a81de7b202224a460": {
     "views": []
    },
    "3fd419de26e9483f80e722b4f7ff5431": {
     "views": []
    },
    "40293b62aed045ce94a85f8abfe23075": {
     "views": []
    },
    "41df580ef9554e8db95cb44e3e00d32d": {
     "views": []
    },
    "42898dcba6ff4040962eb357a65f5bf5": {
     "views": []
    },
    "433ffa9e66ed48bc89068981595dae1e": {
     "views": []
    },
    "43721f24edca452d9b47963750d2c549": {
     "views": []
    },
    "44759ad929f7440599cfe3f54a9c7af7": {
     "views": []
    },
    "4542afba35d841a38ac2d134cb3a3cf3": {
     "views": []
    },
    "456cfe0e623146a5a8b57511659da5f8": {
     "views": []
    },
    "46319f999cd04f1d902873545c3e2975": {
     "views": []
    },
    "46ffd5104f3f46ffb854d594a14978c8": {
     "views": []
    },
    "47df75e93d614398a30a37c5e9a7165a": {
     "views": []
    },
    "48e6208cd4e948ae8976f649a2078f07": {
     "views": []
    },
    "4906460aaee646d1ad11b377b704dd8c": {
     "views": []
    },
    "497fbfeba20d4b20b32c53b68580c5bb": {
     "views": []
    },
    "4aa7b7502bf54def9e4aef46c05d0ebb": {
     "views": []
    },
    "4d1b614082fa4211bcff39619ed7831a": {
     "views": []
    },
    "4d90f8cb50064b9197d47e07afcf5f74": {
     "views": []
    },
    "4e19de6d58ae4c51bca498849971441b": {
     "views": []
    },
    "500750ba76a745e098f4bde234a58740": {
     "views": []
    },
    "50b8b54142294eec9850b24cd8b49c62": {
     "views": []
    },
    "51594cb244e44d7faa7bd987dfb20a8c": {
     "views": []
    },
    "51e55b9a21ab4f95951b9059b6ad1670": {
     "views": []
    },
    "5247e0606aa944df8bc3be688e65b3b2": {
     "views": []
    },
    "52cbaad89680434283751c91b8d50091": {
     "views": []
    },
    "5351353141454049ac65b21537c4eb52": {
     "views": []
    },
    "537a75d9a2c945cbb561085fc44f1eea": {
     "views": []
    },
    "537e1f7944f74c638a2b6dcd4a4a8440": {
     "views": []
    },
    "55f783392d524a4a8012b5a54bed53b5": {
     "views": []
    },
    "56eba73ae65c478d87e3efbb765305f8": {
     "views": []
    },
    "58644a77cfb84cdea04b6105f4562c44": {
     "views": []
    },
    "598e49b91f4d4ba8a2b0e4df5e7a3dfc": {
     "views": []
    },
    "5c5934009cf1428bb6f08ef8a0092590": {
     "views": []
    },
    "5d7c9a54753f4abd987ef0e79d08e1d7": {
     "views": []
    },
    "5e05e2caa1af41049ea73a17c918ebad": {
     "views": []
    },
    "5e11a221b6d84674805be3734e010fb5": {
     "views": []
    },
    "5fc2a4fc5009464289c8a53495605cf0": {
     "views": []
    },
    "608961f4357c48c1877aef6f6c148cd3": {
     "views": []
    },
    "6144556891a3461a859446050f7f9159": {
     "views": []
    },
    "6278a3b82a234520ab0ee98ed638baa8": {
     "views": []
    },
    "6346d57d46d54e75891efeecb7546a90": {
     "views": []
    },
    "6471c1d0661c4222b45d29e745bdf2ce": {
     "views": []
    },
    "6505277ea2a441faad72d4aa997efbc8": {
     "views": []
    },
    "6586568c37bb4821b90677f58eacd781": {
     "views": []
    },
    "661524b7942e4a57942ed36d62366896": {
     "views": []
    },
    "66b515b75cc64b0b9db0fd4cd509cf0d": {
     "views": []
    },
    "6835ef15cfe242a79fb8459598a112ae": {
     "views": []
    },
    "6a8c1aed8fb5407bb34fbe083267cfa8": {
     "views": []
    },
    "6af66179aa7a416fbc54ca9966045ff2": {
     "views": []
    },
    "6b263ed54e1e4d278d27730d08f32253": {
     "views": []
    },
    "6bd83ab3d5894b879c5fa4f12e44377b": {
     "views": []
    },
    "6dfae806f25640099c6a7aaa82bd7247": {
     "views": []
    },
    "6ebf0f6542da4e68bbf476001cac4318": {
     "views": []
    },
    "6ef3356decad49208a125116e12590b2": {
     "views": []
    },
    "70209669d25f45c0892c85d69a5cd885": {
     "views": []
    },
    "7023bc6b0d7541458e11c069edc93ec8": {
     "views": []
    },
    "71d188f2248d4d71ac749ceea432c89d": {
     "views": []
    },
    "73294496d1e7440e8b4c372f161f7476": {
     "views": []
    },
    "735f327d9a094847845cb5591c4d0acd": {
     "views": []
    },
    "7553580852b648c687aa95d451a63615": {
     "views": []
    },
    "7844f3a65be34376a2bd4111bcedf53c": {
     "views": []
    },
    "7ea9d1b5ff6145d081acb1a66f3115d9": {
     "views": []
    },
    "80dd9b8029764007ab672d0fb0b73571": {
     "views": []
    },
    "818550b446fd4269878deb22265e9165": {
     "views": []
    },
    "8629ec3841374fe098a9e6254ff3fef0": {
     "views": []
    },
    "86a44e6fdff84df6b82b9fa53b823722": {
     "views": []
    },
    "875187dfc6ca4ac8b519e1d5069d8c2b": {
     "views": []
    },
    "879cb1249da5475ba67cc6fdc4809d3d": {
     "views": []
    },
    "882ada6766b2496cb831ee2d28d87f96": {
     "views": []
    },
    "88cefb31610b45f7aa6362d5506ff107": {
     "views": []
    },
    "899052aebcb84871ae04cc80b1e388e7": {
     "views": []
    },
    "8b0f3ae233394e3884af45657f870768": {
     "views": []
    },
    "8b2e042546f44355b378507ce16c921f": {
     "views": []
    },
    "8bc374032c6e4de28c8dced74a3229f7": {
     "views": []
    },
    "8c8e3353996145788efbb39a7799f998": {
     "views": []
    },
    "8ca60b3fed8a456f9b4cdad86e438160": {
     "views": []
    },
    "902bf6e99e5a4f4c8f04354dd2096d41": {
     "views": []
    },
    "928f7bccb64e45ac9178763686c034c8": {
     "views": []
    },
    "938b774eeb6742e19391a5bbcaad63c0": {
     "views": []
    },
    "939ca8bc3f1046f2b47913553562786b": {
     "views": []
    },
    "93e4c06b2afc49f6b4adab2290c80268": {
     "views": []
    },
    "93e9f836b878475ab2cd8808c3ad9010": {
     "views": []
    },
    "942bc1fb335046d598332a876734e15b": {
     "views": []
    },
    "94d14f99e40e442dbbd68bcbddab041d": {
     "views": []
    },
    "95af14cfe7ee41238ed80f9fdf7d8be7": {
     "views": []
    },
    "96ad525709f9470b876e22013e0ef104": {
     "views": []
    },
    "96e87dacebf34e35920e2dc4f79a2ed3": {
     "views": []
    },
    "980a5780a10e4d269ddd6d1a83984be8": {
     "views": []
    },
    "99faf0b8294944ae989d978e46349b40": {
     "views": []
    },
    "9a1db212cf504a5abb16512f5d634f54": {
     "views": []
    },
    "9a3f5db039574db9843db2233b7a3a45": {
     "views": []
    },
    "9b4a9df8aadb491c8f2708ce98ea5c1b": {
     "views": []
    },
    "9bcc7615f885419ea6760e6bd2595ef8": {
     "views": []
    },
    "9daf2ca7d40f452dbeb2f2ba59bcb245": {
     "views": []
    },
    "9e4306f681724ec4b2a116b03c7096c4": {
     "views": []
    },
    "a1f333945e8f4ee8ac8a1e1b850c5a86": {
     "views": []
    },
    "a609945922e84bccaa5a5ef249e260dd": {
     "views": []
    },
    "a6b94c2e98a74813bfb42bd274616f4d": {
     "views": []
    },
    "a6cacfb809064b7f962adc96d5189b29": {
     "views": []
    },
    "a73a014a426a46a58fbc31587d4b1c36": {
     "views": []
    },
    "aa38bd09ae9742c9ae7f93acda271c4f": {
     "views": []
    },
    "aa59a0ae4b5a4fffab79a26fb7763066": {
     "views": []
    },
    "ac9e30cc6a6049f4933c18b5c6e2bf75": {
     "views": []
    },
    "ad0e378997914c249ceba202aa4c002c": {
     "views": []
    },
    "ad3831cbf1ab443fa44ac868d503cf86": {
     "views": []
    },
    "aea9f5a4937d486ba3f341b9dceefd3e": {
     "views": []
    },
    "aecbb9c0fee3476cb2e92000cdfeffe4": {
     "views": []
    },
    "af30afd15f35400aaae97f243604e806": {
     "views": []
    },
    "b08d378fee2e4120bf7b5d1e77898e1e": {
     "views": []
    },
    "b16593580f79473eb4e73b1fc48ae1ee": {
     "views": []
    },
    "b20e4bfe8ea54a66b809d8b8b7b3f55a": {
     "views": []
    },
    "b22b39b79296432db37cf641578b12a1": {
     "views": []
    },
    "b6734cc34df044f3ab6490c08892eb6e": {
     "views": []
    },
    "ba5096de4ccc455db6cf8a6c63f75e1c": {
     "views": []
    },
    "bd6a9ae2aef74bee8688404da0f0b66f": {
     "views": []
    },
    "bdb4d85728a84cd3a2bb91743f6d83ff": {
     "views": []
    },
    "bf063f93865f46d185e57714fec7d47a": {
     "views": []
    },
    "c07409086d1c4d809fd456f14c681691": {
     "views": []
    },
    "c0cb7d0e85e44e418ad60983dd237d16": {
     "views": []
    },
    "c13a3cbcaaf54c23a06462c8ea4bf271": {
     "views": []
    },
    "c2e7f5c8fb0442f593503cad10f03b4d": {
     "views": [
      {
       "cell_index": 20
      }
     ]
    },
    "c35c1a8f2dfe4b6a9d12a53233971c09": {
     "views": []
    },
    "c39d6237822e46ff82f319de5cd3d21f": {
     "views": []
    },
    "c4628f4e54e548929ce151783a59ecf6": {
     "views": []
    },
    "c555a8c8f7fc44b2bb21cdf2f73b2502": {
     "views": []
    },
    "c6813202a89f4d5fb5ad5c6193eb0217": {
     "views": []
    },
    "c74c939bf9444614b8da8b8bbb56b1a5": {
     "views": []
    },
    "c9710836dab94f41aacc3914c5e5772a": {
     "views": []
    },
    "c9aeb984835e4e828554f6074b274446": {
     "views": []
    },
    "ca489ba7da1847f08b43a1ec090bf077": {
     "views": []
    },
    "cafeebd475f748308437d7b05f7044f0": {
     "views": []
    },
    "ce6fc7b2e7e9459a93f958e435c71016": {
     "views": []
    },
    "d09795c2285c452aae7bf50796e35048": {
     "views": []
    },
    "d0b4c718a3d04e5c9efd943f44779376": {
     "views": []
    },
    "d1262b3fa9e74870aed9229ba8d3e86d": {
     "views": []
    },
    "d319d297d5b049a9baf09d5fc579a1af": {
     "views": []
    },
    "d412c645aada472ebc1b225f79ae94a7": {
     "views": []
    },
    "d4294ac0facd43b48580d4d18dbd4b83": {
     "views": []
    },
    "d4cbca3865524edaa388a0de24b95f10": {
     "views": []
    },
    "d52f5ecade254c7e81b44ee087a5093b": {
     "views": []
    },
    "d58e6fac30184e05ae5cfdcf989713d6": {
     "views": []
    },
    "d5dbe75b6e02494cba08aabcf7d539e0": {
     "views": []
    },
    "d61033c4e08c46b5960a290d10a52bf6": {
     "views": []
    },
    "d713ed34b53f472a8290a5d49adaaacd": {
     "views": []
    },
    "d72992f94b8341ea89a267b7fd38dd5f": {
     "views": []
    },
    "d8e3ae66bc4b46f589a69cf9df2c86ff": {
     "views": []
    },
    "dae6c812f1dd414eb6729c994687c9a3": {
     "views": []
    },
    "dcd1f7e88dc54caa8efb6669ff682ada": {
     "views": []
    },
    "dd24b4f8560b44d08505ba0d93f478e7": {
     "views": []
    },
    "dddcb6255cba4a86924e5edf256a7937": {
     "views": []
    },
    "de815124c211438b8d7cbd4ad89adc37": {
     "views": []
    },
    "df1418fce1994159a025128f7fe72798": {
     "views": []
    },
    "df1f8a31bbf14f33b3947adb9a9105b7": {
     "views": []
    },
    "df373524dd0c46c88b6e686f2660ccdb": {
     "views": []
    },
    "df628faccbc44125a41bdced7c79b804": {
     "views": []
    },
    "e2613ac258ba4b4aae026a6c8058d750": {
     "views": []
    },
    "e29d10c7539b45b9ad7ba73af89212a6": {
     "views": []
    },
    "e2a83934b703485388cac9504062bbf3": {
     "views": []
    },
    "e2f25fd6e2744a55bfb36c51f7ff9728": {
     "views": []
    },
    "e57731a3250545adba9ffd3e345e4440": {
     "views": []
    },
    "e713b7778632446586ce7f0f6db9e484": {
     "views": []
    },
    "e9e86ab4ab8d4af98a109a82f6f546eb": {
     "views": []
    },
    "ea2f9815bf484d8a8339d7af7355629e": {
     "views": []
    },
    "ed2142f4985147b4a4822bd1a906cfae": {
     "views": []
    },
    "ee2e11b24ebe45c884d70cbe283375f2": {
     "views": []
    },
    "ee88f677e94e4a3e854c610e0389e932": {
     "views": []
    },
    "f079dd0f360b4825bd6ae578c31250b4": {
     "views": []
    },
    "f18dd337518c4f74954f20f0f713e4eb": {
     "views": []
    },
    "f3070335ed6f45e99ab2d35d2b41938b": {
     "views": []
    },
    "f436a5a5d0ea46709db803d2dc8a6aac": {
     "views": []
    },
    "f73bc1689374487abaa78df33a445086": {
     "views": []
    },
    "f8003fcf301b4a1587ab6afca0134bc1": {
     "views": []
    },
    "f8878d7e8bab4e0583c7699463ff0da3": {
     "views": []
    },
    "fa8357683957470db1c0f4c2ed19f461": {
     "views": []
    },
    "fb39a7d3d4e4459e83fffc641e43cee1": {
     "views": []
    },
    "fdd4d8c76cd148cf8280b52c7d863b7d": {
     "views": []
    },
    "fdd6370ee5c441d3a94e0808dff35359": {
     "views": []
    }
   },
   "version": "1.1.2"
  }
 },
 "nbformat": 4,
 "nbformat_minor": 0
}
