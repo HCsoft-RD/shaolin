{
 "cells": [
  {
   "cell_type": "code",
   "execution_count": 23,
   "metadata": {
    "collapsed": false
   },
   "outputs": [
    {
     "data": {
      "text/html": [
       "\n",
       "<style>\n",
       ".container { width:100% !important; }\n",
       ".input{ width:60% !important;\n",
       "       align: center;\n",
       "      }\n",
       ".text_cell{ width:70% !important;\n",
       "            font-size: 16px;}\n",
       ".title {align:center !important;}\n",
       "</style>"
      ],
      "text/plain": [
       "<IPython.core.display.HTML object>"
      ]
     },
     "execution_count": 23,
     "metadata": {},
     "output_type": "execute_result"
    }
   ],
   "source": [
    "#wide screen hack, great for making big plots and have more room for the control panels\n",
    "from IPython.core.display import HTML\n",
    "html ='''\n",
    "<style>\n",
    ".container { width:100% !important; }\n",
    ".input{ width:60% !important;\n",
    "       align: center;\n",
    "      }\n",
    ".text_cell{ width:70% !important;\n",
    "            font-size: 16px;}\n",
    ".title {align:center !important;}\n",
    "</style>'''\n",
    "HTML(html)"
   ]
  },
  {
   "cell_type": "markdown",
   "metadata": {},
   "source": [
    "# Shaolin GraphCalculator tutorial"
   ]
  },
  {
   "cell_type": "markdown",
   "metadata": {},
   "source": [
    "<a id='index'></a>"
   ]
  },
  {
   "cell_type": "markdown",
   "metadata": {},
   "source": [
    "## Index"
   ]
  },
  {
   "cell_type": "markdown",
   "metadata": {},
   "source": [
    "- [1 Introduction](#intro)\n",
    "- [2 Loading the sample data](#sample_data)\n",
    "    - [2.1 Calculating the graph matrices](#sample_matrices)\n",
    "    - [2.2 Calculating some metrics for the nodes](sample_node_metrics)\n",
    "- [3 GraphCalculator componenets](#components)\n",
    "   - [3.1 Graph creation parameters](#gc_parameters)\n",
    "   - [3.2 Matrix transformations](#matrix_transforms)\n",
    "   - [3.3 Graph layout](#graph_layout)\n",
    "\n",
    "- [4 GraphCalculator data](#data)\n",
    "   - [4.1 Node graph metrics](#node_metrics)\n",
    "   - [4.2 Edge metrics](#edge_metrics)\n",
    "   - [4.3 External node metrics](#external_node)\n",
    "   - [4.4 Networkx Graph](#networkx_graph)"
   ]
  },
  {
   "cell_type": "markdown",
   "metadata": {},
   "source": [
    "<a id='introduction'></a>"
   ]
  },
  {
   "cell_type": "markdown",
   "metadata": {},
   "source": [
    "# 1 Introduction"
   ]
  },
  {
   "cell_type": "markdown",
   "metadata": {},
   "source": [
    "In this tutorial we will analyse the structure of the graph resulting from the correlation matrix of the prices of different currency exchanges. We just need time series data and a few lines of code to map matrices into graphs and calculate its metrics."
   ]
  },
  {
   "cell_type": "markdown",
   "metadata": {},
   "source": [
    "<a id='sample_data'></a>"
   ]
  },
  {
   "cell_type": "markdown",
   "metadata": {},
   "source": [
    "# 2 Loading the sample data"
   ]
  },
  {
   "cell_type": "markdown",
   "metadata": {},
   "source": [
    "[Back to top](#index)"
   ]
  },
  {
   "cell_type": "markdown",
   "metadata": {},
   "source": [
    "We are using a week of hourly data data from different to conduct our analysis. Each time series has also its normalized price, its returns and its logarithmic returns so you don't have to calculate it if you want to use it. In this example we will start just with the normalized price values."
   ]
  },
  {
   "cell_type": "code",
   "execution_count": null,
   "metadata": {
    "collapsed": true
   },
   "outputs": [],
   "source": [
    "import numpy as np\n",
    "import pandas as pd\n",
    "from scipy import stats\n",
    "from IPython.display import Image #this is for displaying the widgets in the github repo\n",
    "from shaolin.dashboards.graph import GraphCalculator\n",
    "forex_data = pd.read_hdf('gcalculator_data/forex_sample.h5')\n",
    "forex_data.items,forex_data.minor_axis,forex_data.major_axis"
   ]
  },
  {
   "cell_type": "code",
   "execution_count": 25,
   "metadata": {
    "collapsed": false
   },
   "outputs": [
    {
     "data": {
      "text/html": [
       "<div>\n",
       "<table border=\"1\" class=\"dataframe\">\n",
       "  <thead>\n",
       "    <tr style=\"text-align: right;\">\n",
       "      <th></th>\n",
       "      <th>AUDUSD</th>\n",
       "      <th>EURUSD</th>\n",
       "      <th>GBPUSD</th>\n",
       "      <th>NZDUSD</th>\n",
       "      <th>USDCAD</th>\n",
       "      <th>USDCHF</th>\n",
       "      <th>USDJPY</th>\n",
       "    </tr>\n",
       "  </thead>\n",
       "  <tbody>\n",
       "    <tr>\n",
       "      <th>2016-02-15 00:00:00</th>\n",
       "      <td>1.000000</td>\n",
       "      <td>1.000000</td>\n",
       "      <td>1.000000</td>\n",
       "      <td>1.000000</td>\n",
       "      <td>1.000000</td>\n",
       "      <td>1.000000</td>\n",
       "      <td>1.000000</td>\n",
       "    </tr>\n",
       "    <tr>\n",
       "      <th>2016-02-15 01:00:00</th>\n",
       "      <td>1.000956</td>\n",
       "      <td>0.998559</td>\n",
       "      <td>1.001034</td>\n",
       "      <td>1.001826</td>\n",
       "      <td>0.998471</td>\n",
       "      <td>1.000491</td>\n",
       "      <td>1.001224</td>\n",
       "    </tr>\n",
       "    <tr>\n",
       "      <th>2016-02-15 02:00:00</th>\n",
       "      <td>1.001238</td>\n",
       "      <td>0.999502</td>\n",
       "      <td>1.000462</td>\n",
       "      <td>1.001267</td>\n",
       "      <td>0.998153</td>\n",
       "      <td>0.999530</td>\n",
       "      <td>0.997675</td>\n",
       "    </tr>\n",
       "    <tr>\n",
       "      <th>2016-02-15 03:00:00</th>\n",
       "      <td>1.003418</td>\n",
       "      <td>0.998514</td>\n",
       "      <td>1.000600</td>\n",
       "      <td>1.001750</td>\n",
       "      <td>0.997417</td>\n",
       "      <td>1.000726</td>\n",
       "      <td>1.000643</td>\n",
       "    </tr>\n",
       "    <tr>\n",
       "      <th>2016-02-15 04:00:00</th>\n",
       "      <td>1.004810</td>\n",
       "      <td>0.997972</td>\n",
       "      <td>1.000489</td>\n",
       "      <td>1.002882</td>\n",
       "      <td>0.996746</td>\n",
       "      <td>1.001615</td>\n",
       "      <td>1.002307</td>\n",
       "    </tr>\n",
       "  </tbody>\n",
       "</table>\n",
       "</div>"
      ],
      "text/plain": [
       "                       AUDUSD    EURUSD    GBPUSD    NZDUSD    USDCAD  \\\n",
       "2016-02-15 00:00:00  1.000000  1.000000  1.000000  1.000000  1.000000   \n",
       "2016-02-15 01:00:00  1.000956  0.998559  1.001034  1.001826  0.998471   \n",
       "2016-02-15 02:00:00  1.001238  0.999502  1.000462  1.001267  0.998153   \n",
       "2016-02-15 03:00:00  1.003418  0.998514  1.000600  1.001750  0.997417   \n",
       "2016-02-15 04:00:00  1.004810  0.997972  1.000489  1.002882  0.996746   \n",
       "\n",
       "                       USDCHF    USDJPY  \n",
       "2016-02-15 00:00:00  1.000000  1.000000  \n",
       "2016-02-15 01:00:00  1.000491  1.001224  \n",
       "2016-02-15 02:00:00  0.999530  0.997675  \n",
       "2016-02-15 03:00:00  1.000726  1.000643  \n",
       "2016-02-15 04:00:00  1.001615  1.002307  "
      ]
     },
     "execution_count": 25,
     "metadata": {},
     "output_type": "execute_result"
    }
   ],
   "source": [
    "fund = forex_data['fund']\n",
    "fund.head()"
   ]
  },
  {
   "cell_type": "markdown",
   "metadata": {},
   "source": [
    "<a id='sample_matrices'></a>"
   ]
  },
  {
   "cell_type": "markdown",
   "metadata": {},
   "source": [
    "## 2.1 Calculating the graph matrices"
   ]
  },
  {
   "cell_type": "markdown",
   "metadata": {},
   "source": [
    "[Back to top](#index)"
   ]
  },
  {
   "cell_type": "markdown",
   "metadata": {},
   "source": [
    "In this case we will start calculating the correlation and covariance matrices of the series."
   ]
  },
  {
   "cell_type": "code",
   "execution_count": 6,
   "metadata": {
    "collapsed": false
   },
   "outputs": [],
   "source": [
    "matrices = {}\n",
    "matrices['corr'] = fund.corr()\n",
    "matrices['cov'] = fund.cov()\n",
    "matrices['exchange'] = fund.corr()#alpha version hack, needs to be a matrix called exchange. you dont\n",
    "                                  #need to use it\n",
    "matrix_panel = pd.Panel(matrices)"
   ]
  },
  {
   "cell_type": "code",
   "execution_count": 32,
   "metadata": {
    "collapsed": false
   },
   "outputs": [
    {
     "data": {
      "text/plain": [
       "<class 'pandas.core.panel.Panel'>\n",
       "Dimensions: 3 (items) x 7 (major_axis) x 7 (minor_axis)\n",
       "Items axis: corr to exchange\n",
       "Major_axis axis: AUDUSD to USDJPY\n",
       "Minor_axis axis: AUDUSD to USDJPY"
      ]
     },
     "execution_count": 32,
     "metadata": {},
     "output_type": "execute_result"
    }
   ],
   "source": [
    "matrix_panel"
   ]
  },
  {
   "cell_type": "markdown",
   "metadata": {},
   "source": [
    "<a id='sample_node_metrics'></a>"
   ]
  },
  {
   "cell_type": "markdown",
   "metadata": {},
   "source": [
    "## 2.2 Calculating some metrics for the nodes"
   ]
  },
  {
   "cell_type": "markdown",
   "metadata": {},
   "source": [
    "[Back to top](#index)"
   ]
  },
  {
   "cell_type": "markdown",
   "metadata": {},
   "source": [
    "This data will be used to add additional information to every node of the graph. This information will be included in the GraphCalculator."
   ]
  },
  {
   "cell_type": "code",
   "execution_count": 33,
   "metadata": {
    "collapsed": true
   },
   "outputs": [],
   "source": [
    "def calculate_pdf(x,n=1000):\n",
    "        \"\"\"Fits a Gaussian Kernel, resamples n values and returns (X,p(x=X))\"\"\"\n",
    "        \n",
    "        try:\n",
    "            kernel = stats.gaussian_kde(x,bw_method='scott')\n",
    "            X= kernel.resample(n)\n",
    "            p = kernel(X)\n",
    "        except:\n",
    "            X= x\n",
    "            p = np.ones(len(x))*1.0/len(x)\n",
    "        return X.flatten(),p.flatten()\n",
    "\n",
    "def shannon_entropy(x,n=1000):\n",
    "    X,p = calculate_pdf(x,n)\n",
    "    ent = p*np.log2(p)\n",
    "    return -ent.sum()/(10*n)# this way we dont get values too big. \n",
    "                            #After all, entropy is a purely arbitrary measure ;)\n",
    "\n",
    "def mean_rets(x):\n",
    "     return x.pct_change().mean()*10e4\n",
    "\n",
    "def std_rets(x):\n",
    "     return x.pct_change().mean()*10e4\n",
    "    \n",
    "def total_rets(x):\n",
    "    return x.pct_change().sum()"
   ]
  },
  {
   "cell_type": "code",
   "execution_count": 34,
   "metadata": {
    "collapsed": false
   },
   "outputs": [],
   "source": [
    "node_metrics = pd.DataFrame(columns=fund.columns)\n",
    "funcs = [total_rets, np.mean, np.std, shannon_entropy,mean_rets,std_rets]\n",
    "for fun in funcs:\n",
    "    node_metrics.ix[fun.__name__] = fund.apply(fun)"
   ]
  },
  {
   "cell_type": "code",
   "execution_count": 35,
   "metadata": {
    "collapsed": false
   },
   "outputs": [
    {
     "data": {
      "text/html": [
       "<div>\n",
       "<table border=\"1\" class=\"dataframe\">\n",
       "  <thead>\n",
       "    <tr style=\"text-align: right;\">\n",
       "      <th></th>\n",
       "      <th>AUDUSD</th>\n",
       "      <th>EURUSD</th>\n",
       "      <th>GBPUSD</th>\n",
       "      <th>NZDUSD</th>\n",
       "      <th>USDCAD</th>\n",
       "      <th>USDCHF</th>\n",
       "      <th>USDJPY</th>\n",
       "    </tr>\n",
       "  </thead>\n",
       "  <tbody>\n",
       "    <tr>\n",
       "      <th>total_rets</th>\n",
       "      <td>0.044782</td>\n",
       "      <td>-0.004359</td>\n",
       "      <td>-0.015000</td>\n",
       "      <td>0.005178</td>\n",
       "      <td>-0.034737</td>\n",
       "      <td>0.005485</td>\n",
       "      <td>-0.006254</td>\n",
       "    </tr>\n",
       "    <tr>\n",
       "      <th>mean</th>\n",
       "      <td>1.019019</td>\n",
       "      <td>0.980220</td>\n",
       "      <td>0.975572</td>\n",
       "      <td>1.007091</td>\n",
       "      <td>0.978751</td>\n",
       "      <td>1.015520</td>\n",
       "      <td>0.997831</td>\n",
       "    </tr>\n",
       "    <tr>\n",
       "      <th>std</th>\n",
       "      <td>0.018122</td>\n",
       "      <td>0.008516</td>\n",
       "      <td>0.012586</td>\n",
       "      <td>0.010881</td>\n",
       "      <td>0.013711</td>\n",
       "      <td>0.004247</td>\n",
       "      <td>0.006199</td>\n",
       "    </tr>\n",
       "    <tr>\n",
       "      <th>shannon_entropy</th>\n",
       "      <td>-9.747734</td>\n",
       "      <td>-17.154454</td>\n",
       "      <td>-10.398859</td>\n",
       "      <td>-15.097520</td>\n",
       "      <td>-9.410607</td>\n",
       "      <td>-42.464386</td>\n",
       "      <td>-26.590648</td>\n",
       "    </tr>\n",
       "    <tr>\n",
       "      <th>mean_rets</th>\n",
       "      <td>7.526429</td>\n",
       "      <td>-0.732642</td>\n",
       "      <td>-2.520989</td>\n",
       "      <td>0.870311</td>\n",
       "      <td>-5.838132</td>\n",
       "      <td>0.921772</td>\n",
       "      <td>-1.051116</td>\n",
       "    </tr>\n",
       "    <tr>\n",
       "      <th>std_rets</th>\n",
       "      <td>7.526429</td>\n",
       "      <td>-0.732642</td>\n",
       "      <td>-2.520989</td>\n",
       "      <td>0.870311</td>\n",
       "      <td>-5.838132</td>\n",
       "      <td>0.921772</td>\n",
       "      <td>-1.051116</td>\n",
       "    </tr>\n",
       "  </tbody>\n",
       "</table>\n",
       "</div>"
      ],
      "text/plain": [
       "                   AUDUSD     EURUSD     GBPUSD     NZDUSD    USDCAD  \\\n",
       "total_rets       0.044782  -0.004359  -0.015000   0.005178 -0.034737   \n",
       "mean             1.019019   0.980220   0.975572   1.007091  0.978751   \n",
       "std              0.018122   0.008516   0.012586   0.010881  0.013711   \n",
       "shannon_entropy -9.747734 -17.154454 -10.398859 -15.097520 -9.410607   \n",
       "mean_rets        7.526429  -0.732642  -2.520989   0.870311 -5.838132   \n",
       "std_rets         7.526429  -0.732642  -2.520989   0.870311 -5.838132   \n",
       "\n",
       "                    USDCHF     USDJPY  \n",
       "total_rets        0.005485  -0.006254  \n",
       "mean              1.015520   0.997831  \n",
       "std               0.004247   0.006199  \n",
       "shannon_entropy -42.464386 -26.590648  \n",
       "mean_rets         0.921772  -1.051116  \n",
       "std_rets          0.921772  -1.051116  "
      ]
     },
     "execution_count": 35,
     "metadata": {},
     "output_type": "execute_result"
    }
   ],
   "source": [
    "node_metrics"
   ]
  },
  {
   "cell_type": "markdown",
   "metadata": {},
   "source": [
    "<a id='components'></a>"
   ]
  },
  {
   "cell_type": "markdown",
   "metadata": {},
   "source": [
    "# 3 GraphCalculator components"
   ]
  },
  {
   "cell_type": "markdown",
   "metadata": {},
   "source": [
    "[Back to top](#index)"
   ]
  },
  {
   "cell_type": "markdown",
   "metadata": {},
   "source": [
    "The GraphCalculator lets us have complete control over the process of turning a matrix and arbitrary data into a graph. Although every component can be used as a standalone widget it is recommended to use the *widget* attribute for controlling the GraphCalculator.\n",
    "\n",
    "Every component can be hidden with the toggle buttons situated at the bottom, and every change you make in the widget will take effect after you click the Calculate button."
   ]
  },
  {
   "cell_type": "code",
   "execution_count": 37,
   "metadata": {
    "collapsed": false
   },
   "outputs": [
    {
     "data": {
      "image/png": "[encoded data removed]",
      "text/plain": [
       "<IPython.core.display.Image object>"
      ]
     },
     "execution_count": 37,
     "metadata": {},
     "output_type": "execute_result"
    }
   ],
   "source": [
    "gc = GraphCalculator(node_metrics=node_metrics,matrix_panel=matrix_panel)\n",
    "\n",
    "gc.widget\n",
    "Image(filename='gcalculator_data/img_1.png') "
   ]
  },
  {
   "cell_type": "markdown",
   "metadata": {},
   "source": [
    "<a id='gc_parameters'></a>"
   ]
  },
  {
   "cell_type": "markdown",
   "metadata": {},
   "source": [
    "## 3.1 Graph creation parameters"
   ]
  },
  {
   "cell_type": "markdown",
   "metadata": {},
   "source": [
    "[Back to top](#index)"
   ]
  },
  {
   "cell_type": "markdown",
   "metadata": {},
   "source": [
    "This widget is used to select which kind of graph will be calculated from the supplied matrix."
   ]
  },
  {
   "cell_type": "markdown",
   "metadata": {},
   "source": [
    "<img src='gcalculator_data/creation.png' style=\"height: 450px;\"></img>"
   ]
  },
  {
   "cell_type": "markdown",
   "metadata": {},
   "source": [
    "### Graph type"
   ]
  },
  {
   "cell_type": "markdown",
   "metadata": {},
   "source": [
    "This is how the matrix will be converted into a graph. There are currently three possible options to build a non directed graph:\n",
    "\n",
    "- **Full matrix**: The matrix will be interpreted as the adjacency matrix of a full connected graph.\n",
    "\n",
    "- **MST**: The target graph will be a minimum spanning tree constructed and the data matrix.\n",
    "\n",
    "- **PMFG**: Maximum planary filtered graph, calculated from the data matrix."
   ]
  },
  {
   "cell_type": "markdown",
   "metadata": {},
   "source": [
    "### Absolute value threshold"
   ]
  },
  {
   "cell_type": "markdown",
   "metadata": {},
   "source": [
    "Minimum absolute value forn an element of the matrix needed to be taken into account as a valid edge."
   ]
  },
  {
   "cell_type": "markdown",
   "metadata": {},
   "source": [
    "### Invert distance"
   ]
  },
  {
   "cell_type": "markdown",
   "metadata": {},
   "source": [
    "Use 1/value instead of the original value of the data matrix."
   ]
  },
  {
   "cell_type": "markdown",
   "metadata": {},
   "source": [
    "### Metrics\n",
    "\n"
   ]
  },
  {
   "cell_type": "markdown",
   "metadata": {},
   "source": [
    "Node metrics that will be calculated when the graph is constructed"
   ]
  },
  {
   "cell_type": "markdown",
   "metadata": {},
   "source": [
    "### Target attribute"
   ]
  },
  {
   "cell_type": "markdown",
   "metadata": {},
   "source": [
    "This widget allows us to select which matrix of our matrix panel will be used as an adjacency matrix for the graph. In other words, this will select which data matrix we will convert into a graph."
   ]
  },
  {
   "cell_type": "markdown",
   "metadata": {},
   "source": [
    "<a id='matrix_transforms'></a>"
   ]
  },
  {
   "cell_type": "markdown",
   "metadata": {},
   "source": [
    "## 3.2 Matrix transformations"
   ]
  },
  {
   "cell_type": "markdown",
   "metadata": {},
   "source": [
    "[Back to top](#index)"
   ]
  },
  {
   "cell_type": "markdown",
   "metadata": {},
   "source": [
    "This widget handles the transformations we will apply to the target data matrix before mapping it into a graph. One, or a succession of the following transformations has to be applied to the matrix.\n",
    "\n",
    "- **Raw**: Do not apply any transformation.<br>\n",
    "\n",
    "- **Scale**: Rescale the values of the matrix to match the interval [Rescale min, Rescale max].<br>\n",
    "\n",
    "- **Clip**: All the values lower than Clip min will be changed for Clip min and all the values greater than Clip          max will be changed for Clip max.<br>\n",
    "\n",
    "- **Zscore**: The matrix will be transformed so its elements have mean 0 and a standard deviation of 1.\n",
    "- **Distance**: The matrix will be transformed according to the following distance function: "
   ]
  },
  {
   "cell_type": "raw",
   "metadata": {},
   "source": [
    "np.sqrt(2 * np.clip(1. - correlation_matrix ** 2, 0., 2.))"
   ]
  },
  {
   "cell_type": "markdown",
   "metadata": {},
   "source": [
    "<img src='gcalculator_data/matrix.png' style=\"height: 450px;\"></img>"
   ]
  },
  {
   "cell_type": "markdown",
   "metadata": {},
   "source": [
    "<a id='graph_layout'></a>"
   ]
  },
  {
   "cell_type": "markdown",
   "metadata": {},
   "source": [
    "## 3.3 Graph Layout"
   ]
  },
  {
   "cell_type": "markdown",
   "metadata": {},
   "source": [
    "[Back to top](#index)"
   ]
  },
  {
   "cell_type": "markdown",
   "metadata": {},
   "source": [
    "<img src='gcalculator_data/layout.png' style=\"height: 300px;\"></img>"
   ]
  },
  {
   "cell_type": "markdown",
   "metadata": {},
   "source": [
    "The Layout manager is the widget in charge of managing the layout that we will use to draw our graph. It can calculate the layouts of the selected type. Any layout available in the networkx package is included in the LayoutCalculator and any of its parametrs can be tweaked via a widget.\n",
    "\n",
    "**Alpha version disclaimer**: \n",
    "- Can only calculate both the 3D and the 2D and not only one of them separatedly."
   ]
  },
  {
   "cell_type": "markdown",
   "metadata": {},
   "source": [
    "<a id='data'></a>"
   ]
  },
  {
   "cell_type": "markdown",
   "metadata": {},
   "source": [
    "# 4 GraphCalculator Data"
   ]
  },
  {
   "cell_type": "markdown",
   "metadata": {},
   "source": [
    "[Back to top](#index)"
   ]
  },
  {
   "cell_type": "markdown",
   "metadata": {},
   "source": [
    "The results of running the GraphCalculator will be sored internally in different object attributes as explained below."
   ]
  },
  {
   "cell_type": "markdown",
   "metadata": {},
   "source": [
    "<a id='node_metrics'></a>"
   ]
  },
  {
   "cell_type": "markdown",
   "metadata": {},
   "source": [
    "## 4.1 Node graph metrics"
   ]
  },
  {
   "cell_type": "markdown",
   "metadata": {},
   "source": [
    "[Back to top](#index)"
   ]
  },
  {
   "cell_type": "markdown",
   "metadata": {},
   "source": [
    "The metrics that are graph related are sored as a dataframe in the *node* attribute as a DataFrame."
   ]
  },
  {
   "cell_type": "code",
   "execution_count": 14,
   "metadata": {
    "collapsed": false
   },
   "outputs": [
    {
     "data": {
      "text/html": [
       "<div>\n",
       "<table border=\"1\" class=\"dataframe\">\n",
       "  <thead>\n",
       "    <tr style=\"text-align: right;\">\n",
       "      <th></th>\n",
       "      <th>betweenness</th>\n",
       "      <th>betweenness_centrality</th>\n",
       "      <th>betweenness_weighted</th>\n",
       "      <th>closeness</th>\n",
       "      <th>degree</th>\n",
       "      <th>degree_weighted</th>\n",
       "      <th>eccentricity</th>\n",
       "      <th>eccentricity_weighted</th>\n",
       "      <th>eigenvector</th>\n",
       "      <th>eigenvector_weighted</th>\n",
       "      <th>index</th>\n",
       "    </tr>\n",
       "  </thead>\n",
       "  <tbody>\n",
       "    <tr>\n",
       "      <th>count</th>\n",
       "      <td>7.0</td>\n",
       "      <td>7.000000</td>\n",
       "      <td>7.000000</td>\n",
       "      <td>7.0</td>\n",
       "      <td>7.0</td>\n",
       "      <td>7.0</td>\n",
       "      <td>7.0</td>\n",
       "      <td>7.0</td>\n",
       "      <td>7.000000</td>\n",
       "      <td>7.000000</td>\n",
       "      <td>7.000000</td>\n",
       "    </tr>\n",
       "    <tr>\n",
       "      <th>mean</th>\n",
       "      <td>6.0</td>\n",
       "      <td>3.571429</td>\n",
       "      <td>3.571429</td>\n",
       "      <td>6.0</td>\n",
       "      <td>6.0</td>\n",
       "      <td>6.0</td>\n",
       "      <td>6.0</td>\n",
       "      <td>6.0</td>\n",
       "      <td>3.571429</td>\n",
       "      <td>3.000000</td>\n",
       "      <td>3.000000</td>\n",
       "    </tr>\n",
       "    <tr>\n",
       "      <th>std</th>\n",
       "      <td>0.0</td>\n",
       "      <td>2.225395</td>\n",
       "      <td>2.225395</td>\n",
       "      <td>0.0</td>\n",
       "      <td>0.0</td>\n",
       "      <td>0.0</td>\n",
       "      <td>0.0</td>\n",
       "      <td>0.0</td>\n",
       "      <td>2.225395</td>\n",
       "      <td>2.160247</td>\n",
       "      <td>2.160247</td>\n",
       "    </tr>\n",
       "    <tr>\n",
       "      <th>min</th>\n",
       "      <td>6.0</td>\n",
       "      <td>0.000000</td>\n",
       "      <td>0.000000</td>\n",
       "      <td>6.0</td>\n",
       "      <td>6.0</td>\n",
       "      <td>6.0</td>\n",
       "      <td>6.0</td>\n",
       "      <td>6.0</td>\n",
       "      <td>0.000000</td>\n",
       "      <td>0.000000</td>\n",
       "      <td>0.000000</td>\n",
       "    </tr>\n",
       "    <tr>\n",
       "      <th>25%</th>\n",
       "      <td>6.0</td>\n",
       "      <td>2.000000</td>\n",
       "      <td>2.000000</td>\n",
       "      <td>6.0</td>\n",
       "      <td>6.0</td>\n",
       "      <td>6.0</td>\n",
       "      <td>6.0</td>\n",
       "      <td>6.0</td>\n",
       "      <td>2.000000</td>\n",
       "      <td>1.500000</td>\n",
       "      <td>1.500000</td>\n",
       "    </tr>\n",
       "    <tr>\n",
       "      <th>50%</th>\n",
       "      <td>6.0</td>\n",
       "      <td>5.000000</td>\n",
       "      <td>5.000000</td>\n",
       "      <td>6.0</td>\n",
       "      <td>6.0</td>\n",
       "      <td>6.0</td>\n",
       "      <td>6.0</td>\n",
       "      <td>6.0</td>\n",
       "      <td>5.000000</td>\n",
       "      <td>3.000000</td>\n",
       "      <td>3.000000</td>\n",
       "    </tr>\n",
       "    <tr>\n",
       "      <th>75%</th>\n",
       "      <td>6.0</td>\n",
       "      <td>5.000000</td>\n",
       "      <td>5.000000</td>\n",
       "      <td>6.0</td>\n",
       "      <td>6.0</td>\n",
       "      <td>6.0</td>\n",
       "      <td>6.0</td>\n",
       "      <td>6.0</td>\n",
       "      <td>5.000000</td>\n",
       "      <td>4.500000</td>\n",
       "      <td>4.500000</td>\n",
       "    </tr>\n",
       "    <tr>\n",
       "      <th>max</th>\n",
       "      <td>6.0</td>\n",
       "      <td>6.000000</td>\n",
       "      <td>6.000000</td>\n",
       "      <td>6.0</td>\n",
       "      <td>6.0</td>\n",
       "      <td>6.0</td>\n",
       "      <td>6.0</td>\n",
       "      <td>6.0</td>\n",
       "      <td>6.000000</td>\n",
       "      <td>6.000000</td>\n",
       "      <td>6.000000</td>\n",
       "    </tr>\n",
       "  </tbody>\n",
       "</table>\n",
       "</div>"
      ],
      "text/plain": [
       "       betweenness  betweenness_centrality  betweenness_weighted  closeness  \\\n",
       "count          7.0                7.000000              7.000000        7.0   \n",
       "mean           6.0                3.571429              3.571429        6.0   \n",
       "std            0.0                2.225395              2.225395        0.0   \n",
       "min            6.0                0.000000              0.000000        6.0   \n",
       "25%            6.0                2.000000              2.000000        6.0   \n",
       "50%            6.0                5.000000              5.000000        6.0   \n",
       "75%            6.0                5.000000              5.000000        6.0   \n",
       "max            6.0                6.000000              6.000000        6.0   \n",
       "\n",
       "       degree  degree_weighted  eccentricity  eccentricity_weighted  \\\n",
       "count     7.0              7.0           7.0                    7.0   \n",
       "mean      6.0              6.0           6.0                    6.0   \n",
       "std       0.0              0.0           0.0                    0.0   \n",
       "min       6.0              6.0           6.0                    6.0   \n",
       "25%       6.0              6.0           6.0                    6.0   \n",
       "50%       6.0              6.0           6.0                    6.0   \n",
       "75%       6.0              6.0           6.0                    6.0   \n",
       "max       6.0              6.0           6.0                    6.0   \n",
       "\n",
       "       eigenvector  eigenvector_weighted     index  \n",
       "count     7.000000              7.000000  7.000000  \n",
       "mean      3.571429              3.000000  3.000000  \n",
       "std       2.225395              2.160247  2.160247  \n",
       "min       0.000000              0.000000  0.000000  \n",
       "25%       2.000000              1.500000  1.500000  \n",
       "50%       5.000000              3.000000  3.000000  \n",
       "75%       5.000000              4.500000  4.500000  \n",
       "max       6.000000              6.000000  6.000000  "
      ]
     },
     "execution_count": 14,
     "metadata": {},
     "output_type": "execute_result"
    }
   ],
   "source": [
    "gc.node = gc.node.dropna(axis=1)\n",
    "gc.node.describe()"
   ]
  },
  {
   "cell_type": "code",
   "execution_count": 15,
   "metadata": {
    "collapsed": false
   },
   "outputs": [
    {
     "data": {
      "text/html": [
       "<div>\n",
       "<table border=\"1\" class=\"dataframe\">\n",
       "  <thead>\n",
       "    <tr style=\"text-align: right;\">\n",
       "      <th></th>\n",
       "      <th>betweenness</th>\n",
       "      <th>betweenness_centrality</th>\n",
       "      <th>betweenness_weighted</th>\n",
       "      <th>closeness</th>\n",
       "      <th>degree</th>\n",
       "      <th>degree_weighted</th>\n",
       "      <th>eccentricity</th>\n",
       "      <th>eccentricity_weighted</th>\n",
       "      <th>eigenvector</th>\n",
       "      <th>eigenvector_weighted</th>\n",
       "      <th>label</th>\n",
       "      <th>index</th>\n",
       "    </tr>\n",
       "  </thead>\n",
       "  <tbody>\n",
       "    <tr>\n",
       "      <th>AUDUSD</th>\n",
       "      <td>6.0</td>\n",
       "      <td>5.0</td>\n",
       "      <td>5.0</td>\n",
       "      <td>6.0</td>\n",
       "      <td>6.0</td>\n",
       "      <td>6.0</td>\n",
       "      <td>6.0</td>\n",
       "      <td>6.0</td>\n",
       "      <td>5.0</td>\n",
       "      <td>3.0</td>\n",
       "      <td>AUDUSD</td>\n",
       "      <td>0</td>\n",
       "    </tr>\n",
       "    <tr>\n",
       "      <th>EURUSD</th>\n",
       "      <td>6.0</td>\n",
       "      <td>2.0</td>\n",
       "      <td>2.0</td>\n",
       "      <td>6.0</td>\n",
       "      <td>6.0</td>\n",
       "      <td>6.0</td>\n",
       "      <td>6.0</td>\n",
       "      <td>6.0</td>\n",
       "      <td>2.0</td>\n",
       "      <td>0.0</td>\n",
       "      <td>EURUSD</td>\n",
       "      <td>1</td>\n",
       "    </tr>\n",
       "    <tr>\n",
       "      <th>GBPUSD</th>\n",
       "      <td>6.0</td>\n",
       "      <td>6.0</td>\n",
       "      <td>6.0</td>\n",
       "      <td>6.0</td>\n",
       "      <td>6.0</td>\n",
       "      <td>6.0</td>\n",
       "      <td>6.0</td>\n",
       "      <td>6.0</td>\n",
       "      <td>5.0</td>\n",
       "      <td>1.0</td>\n",
       "      <td>GBPUSD</td>\n",
       "      <td>2</td>\n",
       "    </tr>\n",
       "    <tr>\n",
       "      <th>NZDUSD</th>\n",
       "      <td>6.0</td>\n",
       "      <td>5.0</td>\n",
       "      <td>5.0</td>\n",
       "      <td>6.0</td>\n",
       "      <td>6.0</td>\n",
       "      <td>6.0</td>\n",
       "      <td>6.0</td>\n",
       "      <td>6.0</td>\n",
       "      <td>5.0</td>\n",
       "      <td>4.0</td>\n",
       "      <td>NZDUSD</td>\n",
       "      <td>3</td>\n",
       "    </tr>\n",
       "    <tr>\n",
       "      <th>USDCAD</th>\n",
       "      <td>6.0</td>\n",
       "      <td>2.0</td>\n",
       "      <td>2.0</td>\n",
       "      <td>6.0</td>\n",
       "      <td>6.0</td>\n",
       "      <td>6.0</td>\n",
       "      <td>6.0</td>\n",
       "      <td>6.0</td>\n",
       "      <td>6.0</td>\n",
       "      <td>2.0</td>\n",
       "      <td>USDCAD</td>\n",
       "      <td>4</td>\n",
       "    </tr>\n",
       "  </tbody>\n",
       "</table>\n",
       "</div>"
      ],
      "text/plain": [
       "        betweenness  betweenness_centrality  betweenness_weighted  closeness  \\\n",
       "AUDUSD          6.0                     5.0                   5.0        6.0   \n",
       "EURUSD          6.0                     2.0                   2.0        6.0   \n",
       "GBPUSD          6.0                     6.0                   6.0        6.0   \n",
       "NZDUSD          6.0                     5.0                   5.0        6.0   \n",
       "USDCAD          6.0                     2.0                   2.0        6.0   \n",
       "\n",
       "        degree  degree_weighted  eccentricity  eccentricity_weighted  \\\n",
       "AUDUSD     6.0              6.0           6.0                    6.0   \n",
       "EURUSD     6.0              6.0           6.0                    6.0   \n",
       "GBPUSD     6.0              6.0           6.0                    6.0   \n",
       "NZDUSD     6.0              6.0           6.0                    6.0   \n",
       "USDCAD     6.0              6.0           6.0                    6.0   \n",
       "\n",
       "        eigenvector  eigenvector_weighted   label  index  \n",
       "AUDUSD          5.0                   3.0  AUDUSD      0  \n",
       "EURUSD          2.0                   0.0  EURUSD      1  \n",
       "GBPUSD          5.0                   1.0  GBPUSD      2  \n",
       "NZDUSD          5.0                   4.0  NZDUSD      3  \n",
       "USDCAD          6.0                   2.0  USDCAD      4  "
      ]
     },
     "execution_count": 15,
     "metadata": {},
     "output_type": "execute_result"
    }
   ],
   "source": [
    "gc.node.head()"
   ]
  },
  {
   "cell_type": "markdown",
   "metadata": {},
   "source": [
    "<a id='edge_metrics'></a>"
   ]
  },
  {
   "cell_type": "markdown",
   "metadata": {},
   "source": [
    "## 4.2 Edge metrics"
   ]
  },
  {
   "cell_type": "markdown",
   "metadata": {},
   "source": [
    "[Back to top](#index)"
   ]
  },
  {
   "cell_type": "markdown",
   "metadata": {},
   "source": [
    "The *edge* attribute is a pandas Panel with all the information regarding the edges of the graph. This means that it will contain two kinds of metrics:\n",
    "\n",
    "- **Edge**: All the metrics calculated on the edges of the graph in the form of an adjacency matrix.\n",
    "\n",
    "- **Matrix**: All the matrices that were not used to build the graph are stored in the form of an adjacency matrix."
   ]
  },
  {
   "cell_type": "code",
   "execution_count": 16,
   "metadata": {
    "collapsed": false
   },
   "outputs": [
    {
     "data": {
      "text/plain": [
       "<class 'pandas.core.panel.Panel'>\n",
       "Dimensions: 7 (items) x 7 (major_axis) x 7 (minor_axis)\n",
       "Items axis: corr to weight\n",
       "Major_axis axis: AUDUSD to USDJPY\n",
       "Minor_axis axis: AUDUSD to USDJPY"
      ]
     },
     "execution_count": 16,
     "metadata": {},
     "output_type": "execute_result"
    }
   ],
   "source": [
    "gc.edge"
   ]
  },
  {
   "cell_type": "code",
   "execution_count": 17,
   "metadata": {
    "collapsed": false
   },
   "outputs": [
    {
     "data": {
      "text/plain": [
       "Index(['corr', 'cov', 'edge_betweenness', 'edge_betweenness_centrality',\n",
       "       'edge_current_flow_betweenness_centrality', 'exchange', 'weight'],\n",
       "      dtype='object')"
      ]
     },
     "execution_count": 17,
     "metadata": {},
     "output_type": "execute_result"
    }
   ],
   "source": [
    "gc.edge.items"
   ]
  },
  {
   "cell_type": "code",
   "execution_count": 18,
   "metadata": {
    "collapsed": false
   },
   "outputs": [
    {
     "data": {
      "text/html": [
       "<div>\n",
       "<table border=\"1\" class=\"dataframe\">\n",
       "  <thead>\n",
       "    <tr style=\"text-align: right;\">\n",
       "      <th></th>\n",
       "      <th>AUDUSD</th>\n",
       "      <th>EURUSD</th>\n",
       "      <th>GBPUSD</th>\n",
       "      <th>NZDUSD</th>\n",
       "      <th>USDCAD</th>\n",
       "      <th>USDCHF</th>\n",
       "      <th>USDJPY</th>\n",
       "    </tr>\n",
       "  </thead>\n",
       "  <tbody>\n",
       "    <tr>\n",
       "      <th>AUDUSD</th>\n",
       "      <td>NaN</td>\n",
       "      <td>-0.000039</td>\n",
       "      <td>0.000033</td>\n",
       "      <td>0.000165</td>\n",
       "      <td>-0.000199</td>\n",
       "      <td>0.000018</td>\n",
       "      <td>0.000005</td>\n",
       "    </tr>\n",
       "    <tr>\n",
       "      <th>EURUSD</th>\n",
       "      <td>-0.000039</td>\n",
       "      <td>NaN</td>\n",
       "      <td>0.000085</td>\n",
       "      <td>-0.000010</td>\n",
       "      <td>0.000076</td>\n",
       "      <td>-0.000028</td>\n",
       "      <td>-0.000003</td>\n",
       "    </tr>\n",
       "    <tr>\n",
       "      <th>GBPUSD</th>\n",
       "      <td>0.000033</td>\n",
       "      <td>0.000085</td>\n",
       "      <td>NaN</td>\n",
       "      <td>0.000021</td>\n",
       "      <td>0.000049</td>\n",
       "      <td>-0.000029</td>\n",
       "      <td>0.000012</td>\n",
       "    </tr>\n",
       "    <tr>\n",
       "      <th>NZDUSD</th>\n",
       "      <td>0.000165</td>\n",
       "      <td>-0.000010</td>\n",
       "      <td>0.000021</td>\n",
       "      <td>NaN</td>\n",
       "      <td>-0.000096</td>\n",
       "      <td>0.000002</td>\n",
       "      <td>0.000001</td>\n",
       "    </tr>\n",
       "    <tr>\n",
       "      <th>USDCAD</th>\n",
       "      <td>-0.000199</td>\n",
       "      <td>0.000076</td>\n",
       "      <td>0.000049</td>\n",
       "      <td>-0.000096</td>\n",
       "      <td>NaN</td>\n",
       "      <td>-0.000031</td>\n",
       "      <td>-0.000022</td>\n",
       "    </tr>\n",
       "    <tr>\n",
       "      <th>USDCHF</th>\n",
       "      <td>0.000018</td>\n",
       "      <td>-0.000028</td>\n",
       "      <td>-0.000029</td>\n",
       "      <td>0.000002</td>\n",
       "      <td>-0.000031</td>\n",
       "      <td>NaN</td>\n",
       "      <td>0.000001</td>\n",
       "    </tr>\n",
       "    <tr>\n",
       "      <th>USDJPY</th>\n",
       "      <td>0.000005</td>\n",
       "      <td>-0.000003</td>\n",
       "      <td>0.000012</td>\n",
       "      <td>0.000001</td>\n",
       "      <td>-0.000022</td>\n",
       "      <td>0.000001</td>\n",
       "      <td>NaN</td>\n",
       "    </tr>\n",
       "  </tbody>\n",
       "</table>\n",
       "</div>"
      ],
      "text/plain": [
       "          AUDUSD    EURUSD    GBPUSD    NZDUSD    USDCAD    USDCHF    USDJPY\n",
       "AUDUSD       NaN -0.000039  0.000033  0.000165 -0.000199  0.000018  0.000005\n",
       "EURUSD -0.000039       NaN  0.000085 -0.000010  0.000076 -0.000028 -0.000003\n",
       "GBPUSD  0.000033  0.000085       NaN  0.000021  0.000049 -0.000029  0.000012\n",
       "NZDUSD  0.000165 -0.000010  0.000021       NaN -0.000096  0.000002  0.000001\n",
       "USDCAD -0.000199  0.000076  0.000049 -0.000096       NaN -0.000031 -0.000022\n",
       "USDCHF  0.000018 -0.000028 -0.000029  0.000002 -0.000031       NaN  0.000001\n",
       "USDJPY  0.000005 -0.000003  0.000012  0.000001 -0.000022  0.000001       NaN"
      ]
     },
     "execution_count": 18,
     "metadata": {},
     "output_type": "execute_result"
    }
   ],
   "source": [
    "gc.edge['cov']"
   ]
  },
  {
   "cell_type": "code",
   "execution_count": 19,
   "metadata": {
    "collapsed": false
   },
   "outputs": [
    {
     "data": {
      "text/html": [
       "<div>\n",
       "<table border=\"1\" class=\"dataframe\">\n",
       "  <thead>\n",
       "    <tr style=\"text-align: right;\">\n",
       "      <th></th>\n",
       "      <th>AUDUSD</th>\n",
       "      <th>EURUSD</th>\n",
       "      <th>GBPUSD</th>\n",
       "      <th>NZDUSD</th>\n",
       "      <th>USDCAD</th>\n",
       "      <th>USDCHF</th>\n",
       "      <th>USDJPY</th>\n",
       "    </tr>\n",
       "  </thead>\n",
       "  <tbody>\n",
       "    <tr>\n",
       "      <th>AUDUSD</th>\n",
       "      <td>NaN</td>\n",
       "      <td>0.047619</td>\n",
       "      <td>0.047619</td>\n",
       "      <td>0.047619</td>\n",
       "      <td>0.047619</td>\n",
       "      <td>0.047619</td>\n",
       "      <td>0.047619</td>\n",
       "    </tr>\n",
       "    <tr>\n",
       "      <th>EURUSD</th>\n",
       "      <td>0.047619</td>\n",
       "      <td>NaN</td>\n",
       "      <td>0.047619</td>\n",
       "      <td>0.047619</td>\n",
       "      <td>0.047619</td>\n",
       "      <td>0.047619</td>\n",
       "      <td>0.047619</td>\n",
       "    </tr>\n",
       "    <tr>\n",
       "      <th>GBPUSD</th>\n",
       "      <td>0.047619</td>\n",
       "      <td>0.047619</td>\n",
       "      <td>NaN</td>\n",
       "      <td>0.047619</td>\n",
       "      <td>0.047619</td>\n",
       "      <td>0.047619</td>\n",
       "      <td>0.047619</td>\n",
       "    </tr>\n",
       "    <tr>\n",
       "      <th>NZDUSD</th>\n",
       "      <td>0.047619</td>\n",
       "      <td>0.047619</td>\n",
       "      <td>0.047619</td>\n",
       "      <td>NaN</td>\n",
       "      <td>0.047619</td>\n",
       "      <td>0.047619</td>\n",
       "      <td>0.047619</td>\n",
       "    </tr>\n",
       "    <tr>\n",
       "      <th>USDCAD</th>\n",
       "      <td>0.047619</td>\n",
       "      <td>0.047619</td>\n",
       "      <td>0.047619</td>\n",
       "      <td>0.047619</td>\n",
       "      <td>NaN</td>\n",
       "      <td>0.047619</td>\n",
       "      <td>0.047619</td>\n",
       "    </tr>\n",
       "    <tr>\n",
       "      <th>USDCHF</th>\n",
       "      <td>0.047619</td>\n",
       "      <td>0.047619</td>\n",
       "      <td>0.047619</td>\n",
       "      <td>0.047619</td>\n",
       "      <td>0.047619</td>\n",
       "      <td>NaN</td>\n",
       "      <td>0.047619</td>\n",
       "    </tr>\n",
       "    <tr>\n",
       "      <th>USDJPY</th>\n",
       "      <td>0.047619</td>\n",
       "      <td>0.047619</td>\n",
       "      <td>0.047619</td>\n",
       "      <td>0.047619</td>\n",
       "      <td>0.047619</td>\n",
       "      <td>0.047619</td>\n",
       "      <td>NaN</td>\n",
       "    </tr>\n",
       "  </tbody>\n",
       "</table>\n",
       "</div>"
      ],
      "text/plain": [
       "          AUDUSD    EURUSD    GBPUSD    NZDUSD    USDCAD    USDCHF    USDJPY\n",
       "AUDUSD       NaN  0.047619  0.047619  0.047619  0.047619  0.047619  0.047619\n",
       "EURUSD  0.047619       NaN  0.047619  0.047619  0.047619  0.047619  0.047619\n",
       "GBPUSD  0.047619  0.047619       NaN  0.047619  0.047619  0.047619  0.047619\n",
       "NZDUSD  0.047619  0.047619  0.047619       NaN  0.047619  0.047619  0.047619\n",
       "USDCAD  0.047619  0.047619  0.047619  0.047619       NaN  0.047619  0.047619\n",
       "USDCHF  0.047619  0.047619  0.047619  0.047619  0.047619       NaN  0.047619\n",
       "USDJPY  0.047619  0.047619  0.047619  0.047619  0.047619  0.047619       NaN"
      ]
     },
     "execution_count": 19,
     "metadata": {},
     "output_type": "execute_result"
    }
   ],
   "source": [
    "gc.edge['edge_betweenness']"
   ]
  },
  {
   "cell_type": "markdown",
   "metadata": {},
   "source": [
    "<a id='external_node'></a>"
   ]
  },
  {
   "cell_type": "markdown",
   "metadata": {},
   "source": [
    "## 4.3 External node metrics"
   ]
  },
  {
   "cell_type": "markdown",
   "metadata": {},
   "source": [
    "[Back to top](#index)"
   ]
  },
  {
   "cell_type": "markdown",
   "metadata": {},
   "source": [
    "The node metrics that were passed as a parameter are stored in the *node_metrics* attribute. They are not currently used by the GraphCalculator. This information is currently used only when displaying the node tooltips on a plot."
   ]
  },
  {
   "cell_type": "code",
   "execution_count": 30,
   "metadata": {
    "collapsed": false
   },
   "outputs": [
    {
     "data": {
      "text/html": [
       "<div>\n",
       "<table border=\"1\" class=\"dataframe\">\n",
       "  <thead>\n",
       "    <tr style=\"text-align: right;\">\n",
       "      <th></th>\n",
       "      <th>AUDUSD</th>\n",
       "      <th>EURUSD</th>\n",
       "      <th>GBPUSD</th>\n",
       "      <th>NZDUSD</th>\n",
       "      <th>USDCAD</th>\n",
       "      <th>USDCHF</th>\n",
       "      <th>USDJPY</th>\n",
       "    </tr>\n",
       "  </thead>\n",
       "  <tbody>\n",
       "    <tr>\n",
       "      <th>total_rets</th>\n",
       "      <td>0.044782</td>\n",
       "      <td>-0.004359</td>\n",
       "      <td>-0.015000</td>\n",
       "      <td>0.005178</td>\n",
       "      <td>-0.034737</td>\n",
       "      <td>0.005485</td>\n",
       "      <td>-0.006254</td>\n",
       "    </tr>\n",
       "    <tr>\n",
       "      <th>mean</th>\n",
       "      <td>1.019019</td>\n",
       "      <td>0.980220</td>\n",
       "      <td>0.975572</td>\n",
       "      <td>1.007091</td>\n",
       "      <td>0.978751</td>\n",
       "      <td>1.015520</td>\n",
       "      <td>0.997831</td>\n",
       "    </tr>\n",
       "    <tr>\n",
       "      <th>std</th>\n",
       "      <td>0.018122</td>\n",
       "      <td>0.008516</td>\n",
       "      <td>0.012586</td>\n",
       "      <td>0.010881</td>\n",
       "      <td>0.013711</td>\n",
       "      <td>0.004247</td>\n",
       "      <td>0.006199</td>\n",
       "    </tr>\n",
       "    <tr>\n",
       "      <th>shannon_entropy</th>\n",
       "      <td>-10.101042</td>\n",
       "      <td>-17.269426</td>\n",
       "      <td>-10.302946</td>\n",
       "      <td>-15.579892</td>\n",
       "      <td>-9.508544</td>\n",
       "      <td>-42.435164</td>\n",
       "      <td>-26.678195</td>\n",
       "    </tr>\n",
       "    <tr>\n",
       "      <th>mean_rets</th>\n",
       "      <td>7.526429</td>\n",
       "      <td>-0.732642</td>\n",
       "      <td>-2.520989</td>\n",
       "      <td>0.870311</td>\n",
       "      <td>-5.838132</td>\n",
       "      <td>0.921772</td>\n",
       "      <td>-1.051116</td>\n",
       "    </tr>\n",
       "    <tr>\n",
       "      <th>std_rets</th>\n",
       "      <td>7.526429</td>\n",
       "      <td>-0.732642</td>\n",
       "      <td>-2.520989</td>\n",
       "      <td>0.870311</td>\n",
       "      <td>-5.838132</td>\n",
       "      <td>0.921772</td>\n",
       "      <td>-1.051116</td>\n",
       "    </tr>\n",
       "  </tbody>\n",
       "</table>\n",
       "</div>"
      ],
      "text/plain": [
       "                    AUDUSD     EURUSD     GBPUSD     NZDUSD    USDCAD  \\\n",
       "total_rets        0.044782  -0.004359  -0.015000   0.005178 -0.034737   \n",
       "mean              1.019019   0.980220   0.975572   1.007091  0.978751   \n",
       "std               0.018122   0.008516   0.012586   0.010881  0.013711   \n",
       "shannon_entropy -10.101042 -17.269426 -10.302946 -15.579892 -9.508544   \n",
       "mean_rets         7.526429  -0.732642  -2.520989   0.870311 -5.838132   \n",
       "std_rets          7.526429  -0.732642  -2.520989   0.870311 -5.838132   \n",
       "\n",
       "                    USDCHF     USDJPY  \n",
       "total_rets        0.005485  -0.006254  \n",
       "mean              1.015520   0.997831  \n",
       "std               0.004247   0.006199  \n",
       "shannon_entropy -42.435164 -26.678195  \n",
       "mean_rets         0.921772  -1.051116  \n",
       "std_rets          0.921772  -1.051116  "
      ]
     },
     "execution_count": 30,
     "metadata": {},
     "output_type": "execute_result"
    }
   ],
   "source": [
    "gc.node_metrics"
   ]
  },
  {
   "cell_type": "markdown",
   "metadata": {},
   "source": [
    "<a id='networkx_graph'></a>"
   ]
  },
  {
   "cell_type": "markdown",
   "metadata": {},
   "source": [
    "## 4.4 Networkx Graph"
   ]
  },
  {
   "cell_type": "markdown",
   "metadata": {},
   "source": [
    "[Back to top](#index)"
   ]
  },
  {
   "cell_type": "markdown",
   "metadata": {},
   "source": [
    "All the data is also stored in a networkx graph containing all the DataFrames of the GraphCalculator as node and edge attributes. It is possible to acces the Graph using the *G* attribute."
   ]
  },
  {
   "cell_type": "code",
   "execution_count": 21,
   "metadata": {
    "collapsed": false,
    "scrolled": false
   },
   "outputs": [
    {
     "data": {
      "text/plain": [
       "{'AUDUSD': {'betweenness': 6,\n",
       "  'betweenness_centrality': 5,\n",
       "  'betweenness_weighted': 5,\n",
       "  'closeness': 6,\n",
       "  'closeness_weighted': None,\n",
       "  'degree': 6,\n",
       "  'degree_weighted': 6,\n",
       "  'eccentricity': 6,\n",
       "  'eccentricity_weighted': 6,\n",
       "  'eigenvector': 5,\n",
       "  'eigenvector_weighted': 3},\n",
       " 'EURUSD': {'betweenness': 6,\n",
       "  'betweenness_centrality': 2,\n",
       "  'betweenness_weighted': 2,\n",
       "  'closeness': 6,\n",
       "  'closeness_weighted': None,\n",
       "  'degree': 6,\n",
       "  'degree_weighted': 6,\n",
       "  'eccentricity': 6,\n",
       "  'eccentricity_weighted': 6,\n",
       "  'eigenvector': 2,\n",
       "  'eigenvector_weighted': 0},\n",
       " 'GBPUSD': {'betweenness': 6,\n",
       "  'betweenness_centrality': 6,\n",
       "  'betweenness_weighted': 6,\n",
       "  'closeness': 6,\n",
       "  'closeness_weighted': None,\n",
       "  'degree': 6,\n",
       "  'degree_weighted': 6,\n",
       "  'eccentricity': 6,\n",
       "  'eccentricity_weighted': 6,\n",
       "  'eigenvector': 5,\n",
       "  'eigenvector_weighted': 1},\n",
       " 'NZDUSD': {'betweenness': 6,\n",
       "  'betweenness_centrality': 5,\n",
       "  'betweenness_weighted': 5,\n",
       "  'closeness': 6,\n",
       "  'closeness_weighted': None,\n",
       "  'degree': 6,\n",
       "  'degree_weighted': 6,\n",
       "  'eccentricity': 6,\n",
       "  'eccentricity_weighted': 6,\n",
       "  'eigenvector': 5,\n",
       "  'eigenvector_weighted': 4},\n",
       " 'USDCAD': {'betweenness': 6,\n",
       "  'betweenness_centrality': 2,\n",
       "  'betweenness_weighted': 2,\n",
       "  'closeness': 6,\n",
       "  'closeness_weighted': None,\n",
       "  'degree': 6,\n",
       "  'degree_weighted': 6,\n",
       "  'eccentricity': 6,\n",
       "  'eccentricity_weighted': 6,\n",
       "  'eigenvector': 6,\n",
       "  'eigenvector_weighted': 2},\n",
       " 'USDCHF': {'betweenness': 6,\n",
       "  'betweenness_centrality': 0,\n",
       "  'betweenness_weighted': 0,\n",
       "  'closeness': 6,\n",
       "  'closeness_weighted': None,\n",
       "  'degree': 6,\n",
       "  'degree_weighted': 6,\n",
       "  'eccentricity': 6,\n",
       "  'eccentricity_weighted': 6,\n",
       "  'eigenvector': 0,\n",
       "  'eigenvector_weighted': 6},\n",
       " 'USDJPY': {'betweenness': 6,\n",
       "  'betweenness_centrality': 5,\n",
       "  'betweenness_weighted': 5,\n",
       "  'closeness': 6,\n",
       "  'closeness_weighted': None,\n",
       "  'degree': 6,\n",
       "  'degree_weighted': 6,\n",
       "  'eccentricity': 6,\n",
       "  'eccentricity_weighted': 6,\n",
       "  'eigenvector': 2,\n",
       "  'eigenvector_weighted': 5}}"
      ]
     },
     "execution_count": 21,
     "metadata": {},
     "output_type": "execute_result"
    }
   ],
   "source": [
    "gc.G.node"
   ]
  },
  {
   "cell_type": "code",
   "execution_count": 22,
   "metadata": {
    "collapsed": false
   },
   "outputs": [
    {
     "data": {
      "text/plain": [
       "{'AUDUSD':                                             EURUSD    GBPUSD    NZDUSD  \\\n",
       " corr                                     -0.250899  0.146507  0.833959   \n",
       " cov                                      -0.000039  0.000033  0.000165   \n",
       " edge_betweenness                          0.047619  0.047619  0.047619   \n",
       " edge_betweenness_centrality               0.047619  0.047619  0.047619   \n",
       " edge_current_flow_betweenness_centrality  0.000015  0.211684  0.000016   \n",
       " exchange                                 -0.250899  0.146507  0.833959   \n",
       " weight                                    0.000010  0.146507  0.833959   \n",
       " \n",
       "                                             USDCAD    USDCHF    USDJPY  \n",
       " corr                                     -0.801005  0.234333  0.043249  \n",
       " cov                                      -0.000199  0.000018  0.000005  \n",
       " edge_betweenness                          0.047619  0.047619  0.047619  \n",
       " edge_betweenness_centrality               0.047619  0.047619  0.047619  \n",
       " edge_current_flow_betweenness_centrality  0.034344  0.000015  0.000020  \n",
       " exchange                                 -0.801005  0.234333  0.043249  \n",
       " weight                                    0.000010  0.234333  0.043249  ,\n",
       " 'EURUSD':                                             AUDUSD    GBPUSD    NZDUSD  \\\n",
       " corr                                     -0.250899  0.794830 -0.112556   \n",
       " cov                                      -0.000039  0.000085 -0.000010   \n",
       " edge_betweenness                          0.047619  0.047619  0.047619   \n",
       " edge_betweenness_centrality               0.047619  0.047619  0.047619   \n",
       " edge_current_flow_betweenness_centrality  0.000015  0.024853  0.151452   \n",
       " exchange                                 -0.250899  0.794830 -0.112556   \n",
       " weight                                    0.000010  0.794830  0.000010   \n",
       " \n",
       "                                             USDCAD    USDCHF    USDJPY  \n",
       " corr                                      0.651165 -0.784686 -0.063185  \n",
       " cov                                       0.000076 -0.000028 -0.000003  \n",
       " edge_betweenness                          0.047619  0.047619  0.047619  \n",
       " edge_betweenness_centrality               0.047619  0.047619  0.047619  \n",
       " edge_current_flow_betweenness_centrality  0.053037  0.085802  0.000014  \n",
       " exchange                                  0.651165 -0.784686 -0.063185  \n",
       " weight                                    0.651165  0.000010  0.000010  ,\n",
       " 'GBPUSD':                                             AUDUSD    EURUSD    NZDUSD  \\\n",
       " corr                                      0.146507  0.794830  0.154837   \n",
       " cov                                       0.000033  0.000085  0.000021   \n",
       " edge_betweenness                          0.047619  0.047619  0.047619   \n",
       " edge_betweenness_centrality               0.047619  0.047619  0.047619   \n",
       " edge_current_flow_betweenness_centrality  0.211684  0.024853  0.000014   \n",
       " exchange                                  0.146507  0.794830  0.154837   \n",
       " weight                                    0.146507  0.794830  0.154837   \n",
       " \n",
       "                                             USDCAD    USDCHF    USDJPY  \n",
       " corr                                      0.283081 -0.544016  0.149962  \n",
       " cov                                       0.000049 -0.000029  0.000012  \n",
       " edge_betweenness                          0.047619  0.047619  0.047619  \n",
       " edge_betweenness_centrality               0.047619  0.047619  0.047619  \n",
       " edge_current_flow_betweenness_centrality  0.171534  0.234648  0.000019  \n",
       " exchange                                  0.283081 -0.544016  0.149962  \n",
       " weight                                    0.283081  0.000010  0.149962  ,\n",
       " 'NZDUSD':                                             AUDUSD    EURUSD    GBPUSD  \\\n",
       " corr                                      0.833959 -0.112556  0.154837   \n",
       " cov                                       0.000165 -0.000010  0.000021   \n",
       " edge_betweenness                          0.047619  0.047619  0.047619   \n",
       " edge_betweenness_centrality               0.047619  0.047619  0.047619   \n",
       " edge_current_flow_betweenness_centrality  0.000016  0.151452  0.000014   \n",
       " exchange                                  0.833959 -0.112556  0.154837   \n",
       " weight                                    0.833959  0.000010  0.154837   \n",
       " \n",
       "                                             USDCAD    USDCHF    USDJPY  \n",
       " corr                                     -0.644542  0.039789  0.019937  \n",
       " cov                                      -0.000096  0.000002  0.000001  \n",
       " edge_betweenness                          0.047619  0.047619  0.047619  \n",
       " edge_betweenness_centrality               0.047619  0.047619  0.047619  \n",
       " edge_current_flow_betweenness_centrality  0.000015  0.169252  0.176972  \n",
       " exchange                                 -0.644542  0.039789  0.019937  \n",
       " weight                                    0.000010  0.039789  0.019937  ,\n",
       " 'USDCAD':                                             AUDUSD    EURUSD    GBPUSD  \\\n",
       " corr                                     -0.801005  0.651165  0.283081   \n",
       " cov                                      -0.000199  0.000076  0.000049   \n",
       " edge_betweenness                          0.047619  0.047619  0.047619   \n",
       " edge_betweenness_centrality               0.047619  0.047619  0.047619   \n",
       " edge_current_flow_betweenness_centrality  0.034344  0.053037  0.171534   \n",
       " exchange                                 -0.801005  0.651165  0.283081   \n",
       " weight                                    0.000010  0.651165  0.283081   \n",
       " \n",
       "                                             NZDUSD    USDCHF    USDJPY  \n",
       " corr                                     -0.644542 -0.526196 -0.258134  \n",
       " cov                                      -0.000096 -0.000031 -0.000022  \n",
       " edge_betweenness                          0.047619  0.047619  0.047619  \n",
       " edge_betweenness_centrality               0.047619  0.047619  0.047619  \n",
       " edge_current_flow_betweenness_centrality  0.000015  0.000016  0.114824  \n",
       " exchange                                 -0.644542 -0.526196 -0.258134  \n",
       " weight                                    0.000010  0.000010  0.000010  ,\n",
       " 'USDCHF':                                             AUDUSD    EURUSD    GBPUSD  \\\n",
       " corr                                      0.234333 -0.784686 -0.544016   \n",
       " cov                                       0.000018 -0.000028 -0.000029   \n",
       " edge_betweenness                          0.047619  0.047619  0.047619   \n",
       " edge_betweenness_centrality               0.047619  0.047619  0.047619   \n",
       " edge_current_flow_betweenness_centrality  0.000015  0.085802  0.234648   \n",
       " exchange                                  0.234333 -0.784686 -0.544016   \n",
       " weight                                    0.234333  0.000010  0.000010   \n",
       " \n",
       "                                             NZDUSD    USDCAD    USDJPY  \n",
       " corr                                      0.039789 -0.526196  0.055641  \n",
       " cov                                       0.000002 -0.000031  0.000001  \n",
       " edge_betweenness                          0.047619  0.047619  0.047619  \n",
       " edge_betweenness_centrality               0.047619  0.047619  0.047619  \n",
       " edge_current_flow_betweenness_centrality  0.169252  0.000016  0.162264  \n",
       " exchange                                  0.039789 -0.526196  0.055641  \n",
       " weight                                    0.039789  0.000010  0.055641  ,\n",
       " 'USDJPY':                                             AUDUSD    EURUSD    GBPUSD  \\\n",
       " corr                                      0.043249 -0.063185  0.149962   \n",
       " cov                                       0.000005 -0.000003  0.000012   \n",
       " edge_betweenness                          0.047619  0.047619  0.047619   \n",
       " edge_betweenness_centrality               0.047619  0.047619  0.047619   \n",
       " edge_current_flow_betweenness_centrality  0.000020  0.000014  0.000019   \n",
       " exchange                                  0.043249 -0.063185  0.149962   \n",
       " weight                                    0.043249  0.000010  0.149962   \n",
       " \n",
       "                                             NZDUSD    USDCAD    USDCHF  \n",
       " corr                                      0.019937 -0.258134  0.055641  \n",
       " cov                                       0.000001 -0.000022  0.000001  \n",
       " edge_betweenness                          0.047619  0.047619  0.047619  \n",
       " edge_betweenness_centrality               0.047619  0.047619  0.047619  \n",
       " edge_current_flow_betweenness_centrality  0.176972  0.114824  0.162264  \n",
       " exchange                                  0.019937 -0.258134  0.055641  \n",
       " weight                                    0.019937  0.000010  0.055641  }"
      ]
     },
     "execution_count": 22,
     "metadata": {},
     "output_type": "execute_result"
    }
   ],
   "source": [
    "gc.G.edge"
   ]
  },
  {
   "cell_type": "code",
   "execution_count": null,
   "metadata": {
    "collapsed": true
   },
   "outputs": [],
   "source": []
  },
  {
   "cell_type": "code",
   "execution_count": null,
   "metadata": {
    "collapsed": true
   },
   "outputs": [],
   "source": []
  }
 ],
 "metadata": {
  "kernelspec": {
   "display_name": "Python 3",
   "language": "python",
   "name": "python3"
  },
  "language_info": {
   "codemirror_mode": {
    "name": "ipython",
    "version": 3
   },
   "file_extension": ".py",
   "mimetype": "text/x-python",
   "name": "python",
   "nbconvert_exporter": "python",
   "pygments_lexer": "ipython3",
   "version": "3.5.1"
  },
  "widgets": {
   "state": {},
   "version": "1.1.2"
  }
 },
 "nbformat": 4,
 "nbformat_minor": 0
}
