{
 "cells": [
  {
   "cell_type": "markdown",
   "metadata": {
    "deletable": true,
    "editable": true
   },
   "source": [
    "# What is this about?"
   ]
  },
  {
   "cell_type": "markdown",
   "metadata": {
    "deletable": true,
    "editable": true
   },
   "source": [
    "This is brainstorming on how to extend paramb in order to have full control over the layout of the underlying widgets. The implementation should meet different objectives:\n",
    "\n",
    "1. Decouple the logic of a python class from its dashboard representation: \n",
    "    1. The actual functionality of the class should follow the paramnb filosophy.\n",
    "    2. There should be a way to reference the widget representation of every parameter.\n",
    "    \n",
    "2. Offer a way of quickly define complex combinations of parameters and interactivity options.\n",
    "\n",
    "3. Capability to combine different classes representing dashboards. This would allow to create more complex dashboards through object inheritance and composition.\n"
   ]
  },
  {
   "cell_type": "markdown",
   "metadata": {
    "deletable": true,
    "editable": true
   },
   "source": [
    "# 1. The paramnb way"
   ]
  },
  {
   "cell_type": "markdown",
   "metadata": {
    "deletable": true,
    "editable": true
   },
   "source": [
    "In paramnb the parameters are defined at class level following the following sintax:"
   ]
  },
  {
   "cell_type": "code",
   "execution_count": 115,
   "metadata": {
    "collapsed": false,
    "deletable": true,
    "editable": true
   },
   "outputs": [],
   "source": [
    "import param\n",
    "import paramnb\n",
    "def hello(x):\n",
    "    print(\"Hello %s\" % x)\n",
    "    \n",
    "class BaseClass(param.Parameterized):\n",
    "    x                       = param.Parameter(default=3.14,doc=\"X position\")\n",
    "    y                       = param.Parameter(default=\"Not editable\",constant=True)\n",
    "    string_value            = param.String(default=\"str\",doc=\"A string\")\n",
    "    num_int                 = param.Integer(50000,bounds=(-200,100000))\n",
    "    unbounded_int           = param.Integer(23)\n",
    "    float_with_hard_bounds  = param.Number(8.2,bounds=(7.5,10))\n",
    "    float_with_soft_bounds  = param.Number(0.5,bounds=(0,5),softbounds=(0,2))\n",
    "    unbounded_float         = param.Number(30.01)\n",
    "    hidden_parameter        = param.Number(2.718,precedence=-1)\n",
    "    \n",
    "class Example(BaseClass):\n",
    "    \"\"\"An example Parameterized class\"\"\"\n",
    "    boolean                 = param.Boolean(True, doc=\"A sample Boolean parameter\")\n",
    "    select_string           = param.ObjectSelector(default=\"yellow\",objects=[\"red\",\"yellow\",\"green\"])\n",
    "    select_fn               = param.ObjectSelector(default=list,objects=[list,set,dict])\n",
    "    int_list                = param.ListSelector(default=[3,5], objects=[1,3,5,7,9],precedence=0.5)\n",
    "    single_file             = param.FileSelector(path='../*/*.py*',precedence=0.5)\n",
    "    multiple_files          = param.MultiFileSelector(path='../*/*.py?',precedence=0.5)\n",
    "    msg                     = param.Action(hello, doc=\"\"\"Print a message.\"\"\",precedence=0.7)"
   ]
  },
  {
   "cell_type": "code",
   "execution_count": 117,
   "metadata": {
    "collapsed": false
   },
   "outputs": [
    {
     "data": {
      "application/javascript": [
       "\n",
       "define('activehtml', [\"jupyter-js-widgets\"], function(widgets) {\n",
       "    var ActiveHTMLView = widgets.HTMLView.extend({\n",
       "        update: function() {\n",
       "            $(this.el).html(this.model.get('value'));\n",
       "        }\n",
       "    });\n",
       "    return {\n",
       "        ActiveHTMLView: ActiveHTMLView\n",
       "    };\n",
       "});\n"
      ],
      "text/plain": [
       "<IPython.core.display.Javascript object>"
      ]
     },
     "metadata": {},
     "output_type": "display_data"
    },
    {
     "data": {
      "application/vnd.jupyter.widget-view+json": {
       "model_id": "6efdac14611b4a228e6b8a25aa3ba3a6"
      }
     },
     "metadata": {},
     "output_type": "display_data"
    }
   ],
   "source": [
    "paramnb.Widgets(BaseClass())"
   ]
  },
  {
   "cell_type": "markdown",
   "metadata": {
    "deletable": true,
    "editable": true
   },
   "source": [
    "## 1.1 Advantadges"
   ]
  },
  {
   "cell_type": "markdown",
   "metadata": {
    "deletable": true,
    "editable": true
   },
   "source": [
    "- Do not pollute the domain-specific code: Same domain speciffic code, widgets for free.\n",
    "- Great inheritance mechanism.\n",
    "- Layout auto-tuned using the precedence parameter.\n",
    "- Clean way to override default parameters."
   ]
  },
  {
   "cell_type": "markdown",
   "metadata": {
    "deletable": true,
    "editable": true
   },
   "source": [
    "## 1.2 Cons"
   ]
  },
  {
   "cell_type": "markdown",
   "metadata": {
    "deletable": true,
    "editable": true
   },
   "source": [
    "- Impossible to access widget specific parameters/tune widget interactivity.\n",
    "- No easy way to implement display-related logic.\n",
    "- Impossible to define the widget layout manually (only using the jupyter dashboards extension).\n",
    "- No easy way to propagate callbacks in complex dashboards.\n"
   ]
  },
  {
   "cell_type": "markdown",
   "metadata": {
    "deletable": true,
    "editable": true
   },
   "source": [
    "# 2. The shaolin way"
   ]
  },
  {
   "cell_type": "markdown",
   "metadata": {
    "deletable": true,
    "editable": true
   },
   "source": [
    "Shaolin tries to follow the same filosophy as paramnb while providing full control over how the user will interact with the widget GUI, at the cost of some pollution in the domain-specific code. \n",
    "\n",
    "This is a list of cool stuf that shaolin can do. It would be great to find a way to include these features in paramnb."
   ]
  },
  {
   "cell_type": "markdown",
   "metadata": {
    "deletable": true,
    "editable": true
   },
   "source": [
    "## 2.1 accessing widget specific parameters/tune widget interactivity."
   ]
  },
  {
   "cell_type": "markdown",
   "metadata": {
    "deletable": true,
    "editable": true
   },
   "source": [
    "Shaolin transforms every parameter of a class into a shaolin widget, wich is a wrapper for an ipywidgets Widget. "
   ]
  },
  {
   "cell_type": "code",
   "execution_count": 2,
   "metadata": {
    "collapsed": false,
    "deletable": true,
    "editable": true
   },
   "outputs": [
    {
     "data": {
      "text/plain": [
       "(<shaolin.core.widgets.Widget at 0x7f1d8d67ee10>,\n",
       " 'paramnb',\n",
       " <ipywidgets.widgets.widget_selection.ToggleButtons at 0x7f1d8d67eda0>,\n",
       " 'miau')"
      ]
     },
     "execution_count": 2,
     "metadata": {},
     "output_type": "execute_result"
    }
   ],
   "source": [
    "from shaolin import shaoscript\n",
    "shao_param = shaoscript('togs$description=miau&options=[\"paramnb\",\"shaolin\"]')#let's create a shaolin widget\n",
    "shao_param,shao_param.value,shao_param.widget,shao_param.name"
   ]
  },
  {
   "cell_type": "markdown",
   "metadata": {
    "deletable": true,
    "editable": true
   },
   "source": [
    "This mean that domain spacific code will be poluted because in order to access the value of the parameter we have to access the *value* attribute of the shaolin widget or call the shaolin widget. The polution will be either adding a () after each parameter, or wirting shao_param.value."
   ]
  },
  {
   "cell_type": "code",
   "execution_count": 3,
   "metadata": {
    "collapsed": false,
    "deletable": true,
    "editable": true
   },
   "outputs": [
    {
     "data": {
      "text/plain": [
       "('paramnb', 'paramnb')"
      ]
     },
     "execution_count": 3,
     "metadata": {},
     "output_type": "execute_result"
    }
   ],
   "source": [
    "shao_param(),shao_param.value"
   ]
  },
  {
   "cell_type": "markdown",
   "metadata": {
    "deletable": true,
    "editable": true
   },
   "source": [
    "The ipywidgets representation of the parameter can be accessed using the *widget* attribute or indexing the shaolin widget with an integer."
   ]
  },
  {
   "cell_type": "code",
   "execution_count": 4,
   "metadata": {
    "collapsed": false,
    "deletable": true,
    "editable": true
   },
   "outputs": [
    {
     "data": {
      "application/vnd.jupyter.widget-view+json": {
       "model_id": "643c92b9776945d0a06188dd6863792d"
      }
     },
     "metadata": {},
     "output_type": "display_data"
    }
   ],
   "source": [
    "shao_param.widget"
   ]
  },
  {
   "cell_type": "code",
   "execution_count": 5,
   "metadata": {
    "collapsed": false,
    "deletable": true,
    "editable": true
   },
   "outputs": [
    {
     "data": {
      "application/vnd.jupyter.widget-view+json": {
       "model_id": "643c92b9776945d0a06188dd6863792d"
      }
     },
     "metadata": {},
     "output_type": "display_data"
    }
   ],
   "source": [
    "shao_param[0]#indexing with any integer shows the widget representation"
   ]
  },
  {
   "cell_type": "markdown",
   "metadata": {},
   "source": [
    "## 2.2 multiple callbacks in the same class"
   ]
  },
  {
   "cell_type": "markdown",
   "metadata": {},
   "source": [
    "It is important to be able to assign several callbacks to the same class. Generally speaking, when programing a dashboard two types of callback will be needed:\n",
    "- Domain speciffic callback: contains the code of the function that will use the widgets as parameters. \n",
    "- Layout callback: Logic that controls how the dashboard is displayed. \n",
    "\n",
    "In the following example we have an example class with 4 different callbacks applied to its widgets."
   ]
  },
  {
   "cell_type": "code",
   "execution_count": 9,
   "metadata": {
    "collapsed": false,
    "deletable": true,
    "editable": true
   },
   "outputs": [],
   "source": [
    "from shaolin import Dashboard\n",
    "from IPython.core.display import clear_output\n",
    "class ShaoExample(Dashboard):\n",
    "    \n",
    "    def __init__(self):\n",
    "        dashboard = ['column$name=example',\n",
    "                     ['toggle_buttons$description=Toggle&name=toggle&options=[\"paramnb\",\"shaolin\"]',\n",
    "                      'textarea$description=Some text&name=text&value=brainstorming',\n",
    "                      'float_slider$description=Float slider&name=fslider&min=0&max=10&step=1&value=5'\n",
    "                     ],\n",
    "                    ]\n",
    "        Dashboard.__init__(self,dashboard)\n",
    "        self.fslider.observe(self._update_layout_1)\n",
    "        self.fslider.observe(self.callback_2)\n",
    "        self.toggle.observe(self.callback_1)\n",
    "        self.toggle.observe(self._update_layout_2)\n",
    "        \n",
    "        \n",
    "    def _update_layout_1(self,_=None):\n",
    "        \"\"\"Hides the textarea widget when\n",
    "        the slider value is higher than 5\"\"\"\n",
    "        if self.fslider.value >=5:\n",
    "            self.text.visible = False\n",
    "        else:\n",
    "            self.text.visible = True\n",
    "            \n",
    "    def _update_layout_2(self,_=None):\n",
    "        \"\"\"Disable the text input when the\n",
    "        toggle buttons value is shaolin\"\"\"\n",
    "        if self.toggle.value =='shaolin':\n",
    "            self.text.widget.disabled = False\n",
    "        else:\n",
    "            self.text.widget.disabled = True\n",
    "    \n",
    "    def callback_1(self,_=None):\n",
    "        \"\"\"Prints the textarea value\"\"\"\n",
    "        print(self.text.value)\n",
    "        clear_output(True)\n",
    "    \n",
    "    def callback_2(self,event):\n",
    "        \"\"\"Displays the event data passed\n",
    "        to the callback and the slider value\"\"\"\n",
    "        print(\"event data: {}\".format(event))\n",
    "        print(self.fslider.value)\n",
    "        clear_output(True)"
   ]
  },
  {
   "cell_type": "code",
   "execution_count": 7,
   "metadata": {
    "collapsed": false,
    "deletable": true,
    "editable": true
   },
   "outputs": [],
   "source": [
    "shao_e = ShaoExample()"
   ]
  },
  {
   "cell_type": "code",
   "execution_count": 8,
   "metadata": {
    "collapsed": false,
    "deletable": true,
    "editable": true
   },
   "outputs": [
    {
     "data": {
      "application/vnd.jupyter.widget-view+json": {
       "model_id": "b9d659547a1f49e7a911b7b6d8dba66e"
      }
     },
     "metadata": {},
     "output_type": "display_data"
    }
   ],
   "source": [
    "shao_e[0]"
   ]
  },
  {
   "cell_type": "markdown",
   "metadata": {},
   "source": [
    "## 2.3 Accessing the dashboard kwargs"
   ]
  },
  {
   "cell_type": "markdown",
   "metadata": {},
   "source": [
    "Instead of printing the parameters, it comes really in handy to hace a dictionary with all the dashboard parameters. This allows you to make a dashboard with no domain-specific callback, so you can use it as a way to organise parameters."
   ]
  },
  {
   "cell_type": "code",
   "execution_count": 149,
   "metadata": {
    "collapsed": false,
    "deletable": true,
    "editable": true
   },
   "outputs": [
    {
     "data": {
      "text/plain": [
       "({'fslider': 5.0, 'text': 'brainstorming', 'toggle': 'paramnb'},\n",
       " {'fslider': 5.0, 'text': 'brainstorming', 'toggle': 'paramnb'})"
      ]
     },
     "execution_count": 149,
     "metadata": {},
     "output_type": "execute_result"
    }
   ],
   "source": [
    "shao_e.kwargs,shao_e()"
   ]
  },
  {
   "cell_type": "markdown",
   "metadata": {
    "collapsed": true,
    "deletable": true,
    "editable": true
   },
   "source": [
    "If the only thing needed is a graphical interface capable of providing a kwargs dictionary managed by widgets I usually use the [KungFu](https://github.com/HCsoft-RD/shaolin/blob/master/examples/Automatic-dashboard-creation.ipynb) class.\n"
   ]
  },
  {
   "cell_type": "markdown",
   "metadata": {},
   "source": [
    "## 2.4 Displaying the dashboards"
   ]
  },
  {
   "cell_type": "markdown",
   "metadata": {},
   "source": [
    "When creating a complex dashboard it is nice to have two diferent ways of organising the layout:\n",
    "\n",
    "- Programatically.\n",
    "- Using the jupyter dashboards extension."
   ]
  },
  {
   "cell_type": "markdown",
   "metadata": {},
   "source": [
    "In order to define the layout programatically shaolin uses syntax based on a list of lists that mimics how the flex-layout of the ipywidgets package is defined. \n",
    "\n",
    "The convention is the following:\n",
    "\n",
    "**[*box_widget*, [*children_1*, *children_2*]]**\n",
    "\n"
   ]
  },
  {
   "cell_type": "markdown",
   "metadata": {},
   "source": [
    "where ***children*** can also be a list of list with the structure defined above."
   ]
  },
  {
   "cell_type": "code",
   "execution_count": 102,
   "metadata": {
    "collapsed": false
   },
   "outputs": [
    {
     "data": {
      "application/vnd.jupyter.widget-view+json": {
       "model_id": "5b164492272b4470b2799a423321d2ae"
      }
     },
     "metadata": {},
     "output_type": "display_data"
    }
   ],
   "source": [
    "import seaborn as sns\n",
    "%matplotlib inline\n",
    "sns.set(style=\"ticks\")\n",
    "data = sns.load_dataset(\"anscombe\")\n",
    "\n",
    "title = '#Exploratory plots$N=title&D='\n",
    "marginals = \"['Both','None','Histogram','KDE']$d=Marginals\"\n",
    "dset = \"['ALL','I','II','III','IV']$D=Dataset\"\n",
    "x_cols = 'dd$D=X column&o='+str(data.columns.values.tolist())\n",
    "y_cols = 'dd$D=Y column&o='+str(data.columns.values.tolist())+'&v='+data.columns[1]\n",
    "save = \"[False]$D=Save plot&n=save\"\n",
    "data_layout = ['c$N=data_layout',[title,['r$N=sub_row',[x_cols,y_cols]],\n",
    "                                  [\"c$N=sub_col\",[marginals,dset,\n",
    "                                                  ['r$N=btn_row',['@btn$d=run&button_style=\"info\"',save]]                                                 ]\n",
    "                                  ]]\n",
    "              ]\n",
    "dash = Dashboard(data_layout,name='dash_1',mode='interactive')\n",
    "dash[0]"
   ]
  },
  {
   "cell_type": "markdown",
   "metadata": {},
   "source": [
    "***Children***  is defined as string following the [shaolin syntax](https://github.com/HCsoft-RD/shaolin/blob/master/examples/Shaolin%20syntax.ipynb). This string representation allows to quickly set the parameters and interactivity of every widget and act as a proxy for defining shaolin widgets. \n",
    "\n"
   ]
  },
  {
   "cell_type": "markdown",
   "metadata": {},
   "source": [
    "This way we are able to define how we want our dashboard to be displayed. Once a dashboard is created, it is also possible to alter how it will be displayed using the jupyter dashboards extension. \n",
    "\n",
    "In oder to do that, you can render each component of the dashboard in a different cell, and then rearange the cell using the dashboards extension:"
   ]
  },
  {
   "cell_type": "code",
   "execution_count": 103,
   "metadata": {
    "collapsed": false
   },
   "outputs": [
    {
     "data": {
      "application/vnd.jupyter.widget-view+json": {
       "model_id": "db5044eb24ef41bfb7c0ce2f7a228f0b"
      }
     },
     "metadata": {},
     "output_type": "display_data"
    }
   ],
   "source": [
    "dash.title[0]"
   ]
  },
  {
   "cell_type": "code",
   "execution_count": 104,
   "metadata": {
    "collapsed": false
   },
   "outputs": [
    {
     "data": {
      "application/vnd.jupyter.widget-view+json": {
       "model_id": "e0a2c855a6ab44d993b2b417e98c9793"
      }
     },
     "metadata": {},
     "output_type": "display_data"
    }
   ],
   "source": [
    "dash.sub_col[0]"
   ]
  },
  {
   "cell_type": "code",
   "execution_count": 105,
   "metadata": {
    "collapsed": false
   },
   "outputs": [
    {
     "data": {
      "application/vnd.jupyter.widget-view+json": {
       "model_id": "f45e9c57cf45477d93d84a209632cd37"
      }
     },
     "metadata": {},
     "output_type": "display_data"
    }
   ],
   "source": [
    "dash.sub_row[0]"
   ]
  },
  {
   "cell_type": "markdown",
   "metadata": {},
   "source": [
    "## 2.5 combining different dashboards"
   ]
  },
  {
   "cell_type": "markdown",
   "metadata": {},
   "source": [
    "It is also really useful to be able to combine different dashboards. Shaolin allows **Children** to be a shaolin dashboard as it is shown in the following example:\n"
   ]
  },
  {
   "cell_type": "code",
   "execution_count": 106,
   "metadata": {
    "collapsed": false
   },
   "outputs": [
    {
     "data": {
      "application/vnd.jupyter.widget-view+json": {
       "model_id": "760052c7735f46ba9365568b1b0fc610"
      }
     },
     "metadata": {},
     "output_type": "display_data"
    }
   ],
   "source": [
    "#regression\n",
    "r_title = '#Regression options$N=r_title&D='\n",
    "reg = '@[True]$D=Plot Regression&n=regression'\n",
    "robust = '@False$D=Robust'\n",
    "reg_order = \"@(1,10,1,1)$D=Reg order\"\n",
    "ci = \"@(1,100,1,95)$N=ci&d=Confidence intervals\"\n",
    "reg_layout = ['c$N=reg_layout',[r_title,reg,reg_order,ci,robust]]\n",
    "dash_2 = Dashboard(reg_layout,name='dash_2',mode=\"interactive\")\n",
    "dash_2[0]"
   ]
  },
  {
   "cell_type": "code",
   "execution_count": 107,
   "metadata": {
    "collapsed": false
   },
   "outputs": [
    {
     "data": {
      "application/vnd.jupyter.widget-view+json": {
       "model_id": "5b12f688e3894c67944496aa9df800bc"
      }
     },
     "metadata": {},
     "output_type": "display_data"
    }
   ],
   "source": [
    "combined_dashboard = ['row$n=combined',[dash,dash_2]]\n",
    "comb_dash = Dashboard(combined_dashboard,mode='interactive')\n",
    "comb_dash[0]"
   ]
  },
  {
   "cell_type": "code",
   "execution_count": 108,
   "metadata": {
    "collapsed": false
   },
   "outputs": [
    {
     "data": {
      "application/vnd.jupyter.widget-view+json": {
       "model_id": "5b164492272b4470b2799a423321d2ae"
      }
     },
     "metadata": {},
     "output_type": "display_data"
    }
   ],
   "source": [
    "comb_dash.dash_1[0]"
   ]
  },
  {
   "cell_type": "code",
   "execution_count": 109,
   "metadata": {
    "collapsed": false
   },
   "outputs": [
    {
     "data": {
      "application/vnd.jupyter.widget-view+json": {
       "model_id": "760052c7735f46ba9365568b1b0fc610"
      }
     },
     "metadata": {},
     "output_type": "display_data"
    }
   ],
   "source": [
    "comb_dash.dash_2[0]"
   ]
  },
  {
   "cell_type": "markdown",
   "metadata": {},
   "source": [
    "## 2.6 propagating callbacks to children"
   ]
  },
  {
   "cell_type": "markdown",
   "metadata": {},
   "source": [
    "In shaolin there are three diferents types of interactivity modes that a parameter can have:\n",
    "\n",
    "- **Interactive (@)**: Interactive widgets will be assigned the target callback function when dashboard.observe(callback) is called. Interactive parameters will be included in the kwargs dictionary.\n",
    "\n",
    "- **Active**: Default mode. Active widgets wont get any callback applied when dashboard.observe is called but they will appear in the kwargs dictionary.\n",
    "\n",
    "- **Passive (/)**: Passive widgets wont be included in the kwargs dictionary and don't get callbacks automatically applied.\n",
    "\n",
    "In order to apply a callback to an active/interactive widget, target_widget.observe(callback) must be splicitly called. \n",
    "\n",
    "In the following example the callback function will be propagated to any interactive widget (its definition starts with a \"**@**\"). This means that dash_1 will execute the callback when the run button is pressed and when any widget of dash_2 is used."
   ]
  },
  {
   "cell_type": "code",
   "execution_count": 110,
   "metadata": {
    "collapsed": false
   },
   "outputs": [
    {
     "name": "stdout",
     "output_type": "stream",
     "text": [
      "{'owner': <ipywidgets.widgets.widget_int.IntSlider object at 0x7f1d8d2832b0>, 'name': 'value', 'type': 'change', 'new': 1, 'old': 2}\n"
     ]
    }
   ],
   "source": [
    "def callback(event):\n",
    "    print(event)\n",
    "    clear_output(True)\n",
    "    #print(event,other)\n",
    "comb_dash.observe(callback)\n",
    "comb_dash[0]"
   ]
  },
  {
   "cell_type": "markdown",
   "metadata": {},
   "source": [
    "# 3. Brainstorming: How to add this features to paramnb"
   ]
  },
  {
   "cell_type": "markdown",
   "metadata": {
    "collapsed": true,
    "deletable": true,
    "editable": true
   },
   "source": [
    "It would be nice to find a way to implement these features without breaking the paramnb filosophy. I dont know which one is the best way to do it, but here are some ideas:"
   ]
  },
  {
   "cell_type": "markdown",
   "metadata": {},
   "source": [
    "### Accessing the widgets\n",
    "\n",
    "Mabe it would be usefull to create aditional attributes of a class containing the widget representation of a variable.\n",
    "\n",
    "For example, in the Example class it would be great to access the **example.boolean** (True) value this way, and the checkbox widget could be accessed like this: **example._boolean** (CheckBox).\n",
    "\n",
    "Another option would be:\n",
    "\n",
    "-  **example.boolean** (True)\n",
    "- **example.layout.boolean** (CheckBox)\n",
    "\n",
    "It would be great to find a good naming convention."
   ]
  },
  {
   "cell_type": "markdown",
   "metadata": {},
   "source": [
    "### widget definition"
   ]
  },
  {
   "cell_type": "markdown",
   "metadata": {},
   "source": [
    "The shaolin string syntax used may look really messy and complex, but once you get used to use it it literally saves hundreds of lines of code and makes it really easy to mantain the layout and make changes with some clever copy-paste. \n",
    "\n",
    "It would be great to standarize some sort of pseudo programing language for creating layouts with the ipywidgets package. This way, the BaseClass from the following example could also be defined the following way:"
   ]
  },
  {
   "cell_type": "code",
   "execution_count": 148,
   "metadata": {
    "collapsed": false
   },
   "outputs": [],
   "source": [
    "class BaseClass(param.Parameterized):\n",
    "    x                       = param.Parameter(default=3.14,doc=\"X position\")\n",
    "    y                       = param.Parameter(default=\"Not editable\",constant=True)\n",
    "    string_value            = param.String(default=\"str\",doc=\"A string\")\n",
    "    num_int                 = param.Integer(50000,bounds=(-200,100000))\n",
    "    unbounded_int           = param.Integer(23)\n",
    "    float_with_hard_bounds  = param.Number(8.2,bounds=(7.5,10))\n",
    "    float_with_soft_bounds  = param.Number(0.5,bounds=(0,5),softbounds=(0,2))\n",
    "    unbounded_float         = param.Number(30.01)\n",
    "    hidden_parameter        = param.Number(2.718,precedence=-1)\n",
    "\n",
    "class BaseClass_(param.Parameterized):\n",
    "    #custom syntax highlighting using pygments would be really awesome. Red is hard to read\n",
    "    layout = ['r$N=baseclass',[['c$N=text_col',['ft$d=X&v=3.14&doc=\"X position\"',\n",
    "                                            'ft$d=Unbounded float&v=30.01',\n",
    "                                            'it$d=Unbounded int&v=23',\n",
    "                                            'text$d=String value&v=str&doc=\"A string\"']\n",
    "                               ],\n",
    "                               ['c$N=sliders_col',['(7.5,10,0.1,8.2)$D=Float with hard bounds',\n",
    "                                                   '(0.,2.,0.1,0.5)$D=Float with soft bounds&hb=(0.,5.)',\n",
    "                                                   '(-200,100000,1,50000)$d=Num int&v=23',\n",
    "                                                   'text$d=y&v=Not editable&disabled=True']\n",
    "                               ]\n",
    "                              ]\n",
    "             ]"
   ]
  },
  {
   "cell_type": "code",
   "execution_count": 124,
   "metadata": {
    "collapsed": false
   },
   "outputs": [
    {
     "data": {
      "application/javascript": [
       "\n",
       "define('activehtml', [\"jupyter-js-widgets\"], function(widgets) {\n",
       "    var ActiveHTMLView = widgets.HTMLView.extend({\n",
       "        update: function() {\n",
       "            $(this.el).html(this.model.get('value'));\n",
       "        }\n",
       "    });\n",
       "    return {\n",
       "        ActiveHTMLView: ActiveHTMLView\n",
       "    };\n",
       "});\n"
      ],
      "text/plain": [
       "<IPython.core.display.Javascript object>"
      ]
     },
     "metadata": {},
     "output_type": "display_data"
    },
    {
     "data": {
      "application/vnd.jupyter.widget-view+json": {
       "model_id": "b0a50f010a2848fd9c70e9f9ea51d9f9"
      }
     },
     "metadata": {},
     "output_type": "display_data"
    }
   ],
   "source": [
    "paramnb.Widgets(BaseClass)"
   ]
  },
  {
   "cell_type": "markdown",
   "metadata": {},
   "source": [
    "this is how it looks"
   ]
  },
  {
   "cell_type": "code",
   "execution_count": 146,
   "metadata": {
    "collapsed": false
   },
   "outputs": [
    {
     "data": {
      "application/vnd.jupyter.widget-view+json": {
       "model_id": "a741f49213624ce28fa3b6969a0c864b"
      }
     },
     "metadata": {},
     "output_type": "display_data"
    }
   ],
   "source": [
    "layout = ['r$N=baseclass',[['c$N=text_col',['ft$d=X&v=3.14&doc=\"X position\"',\n",
    "                                        'ft$d=Unbounded float&v=30.01',\n",
    "                                        'it$d=Unbounded int&v=23',\n",
    "                                        'text$d=String value&v=str&doc=\"A string\"']\n",
    "                           ],\n",
    "                           ['c$N=sliders_col',['(7.5,10,0.1,8.2)$D=Float with hard bounds',\n",
    "                                               '(0.,2.,0.1,0.5)$D=Float with soft bounds&hb=(0.,5.)',\n",
    "                                               '(-200,100000,1,50000)$d=Num int&v=23',\n",
    "                                               'text$d=y&v=Not editable&disabled=True']\n",
    "                           ]\n",
    "                          ]\n",
    "         ]\n",
    "wannabe_dash = Dashboard(layout)\n",
    "wannabe_dash[0]"
   ]
  },
  {
   "cell_type": "code",
   "execution_count": 147,
   "metadata": {
    "collapsed": false
   },
   "outputs": [
    {
     "data": {
      "text/plain": [
       "{'float_with_hard_bounds': 8.2,\n",
       " 'float_with_soft_bounds': 0.5,\n",
       " 'num_int': 50000,\n",
       " 'string_value': 'str',\n",
       " 'unbounded_float': 30.01,\n",
       " 'unbounded_int': 23,\n",
       " 'x': 3.14,\n",
       " 'y': 'Not editable'}"
      ]
     },
     "execution_count": 147,
     "metadata": {},
     "output_type": "execute_result"
    }
   ],
   "source": [
    "wannabe_dash()"
   ]
  },
  {
   "cell_type": "code",
   "execution_count": null,
   "metadata": {
    "collapsed": true
   },
   "outputs": [],
   "source": []
  }
 ],
 "metadata": {
  "kernelspec": {
   "display_name": "Python 3",
   "language": "python",
   "name": "python3"
  },
  "language_info": {
   "codemirror_mode": {
    "name": "ipython",
    "version": 3
   },
   "file_extension": ".py",
   "mimetype": "text/x-python",
   "name": "python",
   "nbconvert_exporter": "python",
   "pygments_lexer": "ipython3",
   "version": "3.5.3"
  }
 },
 "nbformat": 4,
 "nbformat_minor": 2
}
