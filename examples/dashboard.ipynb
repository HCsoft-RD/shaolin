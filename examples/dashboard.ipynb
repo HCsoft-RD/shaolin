{
 "cells": [
  {
   "cell_type": "markdown",
   "metadata": {},
   "source": [
    "# If you would like to learn how to use Shaolin contact me on twitter. "
   ]
  },
  {
   "cell_type": "markdown",
   "metadata": {},
   "source": [
    "<h2><a href=\"https://twitter.com/Miau_DB\"> Guillem Duran</a></h2>"
   ]
  },
  {
   "cell_type": "markdown",
   "metadata": {},
   "source": [
    "## Coming up in the netx days:\n",
    "- Pandas compatibility for DataFrame, Panel and Panel4D. \n",
    "- Bokeh compatibility. Link any arbitrary plot directly to a pandas object.\n",
    "- Networkx comaptibility. Arbitrary graph management and plotting.\n",
    "- Seaborn compatibility and Seaborn colormap selection.\n",
    "- Progress bar capable of displaying arbitrary data as tick labels. (Included timestamps)\n",
    "- Render Matplotlib figures as HTML widgets.\n",
    "- Dashboards for arbitrary slicing and subsetting of any pandas structure. \n",
    "- Full interactivity among different features. Totally customizable data analysis rendered in real time."
   ]
  },
  {
   "cell_type": "code",
   "execution_count": 34,
   "metadata": {
    "collapsed": true
   },
   "outputs": [],
   "source": [
    "import sys\n",
    "path =\"/home/sergio/github/shaolin-master\"\n",
    "sys.path.append(path)"
   ]
  },
  {
   "cell_type": "code",
   "execution_count": 35,
   "metadata": {
    "collapsed": true
   },
   "outputs": [],
   "source": [
    "import shaolin"
   ]
  },
  {
   "cell_type": "code",
   "execution_count": 36,
   "metadata": {
    "collapsed": false
   },
   "outputs": [],
   "source": [
    "from shaolin.shaolin.shaoscript import shaoscript\n",
    "from shaolin.shaolin.dashboard import Dashboard, ToggleMenu"
   ]
  },
  {
   "cell_type": "code",
   "execution_count": 37,
   "metadata": {
    "collapsed": false
   },
   "outputs": [],
   "source": [
    "test_widget = shaoscript('(10,50,1.5,43.2)$d=Example float slider')"
   ]
  },
  {
   "cell_type": "code",
   "execution_count": 38,
   "metadata": {
    "collapsed": true
   },
   "outputs": [],
   "source": [
    "test_widget.widget"
   ]
  },
  {
   "cell_type": "code",
   "execution_count": 46,
   "metadata": {
    "collapsed": false
   },
   "outputs": [
    {
     "data": {
      "text/plain": [
       "43.2"
      ]
     },
     "execution_count": 46,
     "metadata": {},
     "output_type": "execute_result"
    }
   ],
   "source": [
    "test_widget.value"
   ]
  },
  {
   "cell_type": "code",
   "execution_count": 53,
   "metadata": {
    "collapsed": false,
    "scrolled": true
   },
   "outputs": [
    {
     "name": "stdout",
     "output_type": "stream",
     "text": [
      "{'togglemenu': {'buttons': 'sr2', 'sr2': {'check_2': True, 'va2': True}, 'sr3': {'va3': True, 'check_3': True}, 'sr1': {'check_1': True, 'va1': True}}, 'range': (3.0, 8.5), 'example_slider': 5}\n",
      "{'togglemenu': {'buttons': 'sr2', 'sr2': {'check_2': True, 'va2': True}, 'sr3': {'va3': True, 'check_3': True}, 'sr1': {'check_1': True, 'va1': True}}, 'range': (3.0, 8.0), 'example_slider': 5}\n",
      "{'togglemenu': {'buttons': 'sr1', 'sr2': {'check_2': True, 'va2': True}, 'sr3': {'va3': True, 'check_3': True}, 'sr1': {'check_1': False, 'va1': False}}, 'range': (3.0, 8.5), 'example_slider': 5}\n"
     ]
    }
   ],
   "source": [
    "d1 = Dashboard(['r$n=sr1',['True$d=Check 1', '[[True]]$n=va1']])\n",
    "d1.link('check_1','va1')\n",
    "d2 = Dashboard(['r$n=sr2',['False$d=Check 2', '[[False]]$n=va2']])\n",
    "d2.link('check_2','va2')\n",
    "d3 = Dashboard(['r$n=sr3',['True$d=Check 3', '[[True]]$n=va3']])\n",
    "d3.link('check_3','va3')\n",
    "checkbox_column = ToggleMenu([\n",
    "                               d1,\n",
    "                               d2,\n",
    "                               d3\n",
    "                              ])\n",
    "                   \n",
    "block4 = ['c$n=sc1' ,['This is a textbox$d=text',\n",
    "                      'sm$d=smul&o=[\"opt1\",\"opt2\", \"optn\"]'\n",
    "                     ]\n",
    "         ]\n",
    "shaoscript_code = ['V$n=miau',\n",
    "                     [\n",
    "                       ['r$n=rtitle',['#Shaolin Dashboard$n=t1']],\n",
    "                       ['r$n=r1',['##Sliders$n=r1st', '@((3., 9.),0, 10.,.5 )$n=range', '@(1,10,1,5)$d=Example slider']] ,\n",
    "                       ['r$n=r2',['##Options$n=r2st',checkbox_column]]\n",
    "                     ]\n",
    "                  ]\n",
    "def will_be_interactive(**kwargs):\n",
    "    print (kwargs)\n",
    "d = Dashboard(shaoscript_code, test)\n",
    "d.widget"
   ]
  },
  {
   "cell_type": "code",
   "execution_count": 48,
   "metadata": {
    "collapsed": false
   },
   "outputs": [
    {
     "data": {
      "text/plain": [
       "{'is': 5,\n",
       " 'range': (3.0, 9.0),\n",
       " 'togglemenu': {'buttons': 'sr2',\n",
       "  'sr1': {'check_1': True, 'va1': True},\n",
       "  'sr2': {'check_2': False, 'va2': False},\n",
       "  'sr3': {'check_3': True, 'va3': True}}}"
      ]
     },
     "execution_count": 48,
     "metadata": {},
     "output_type": "execute_result"
    }
   ],
   "source": [
    "d.kwargs"
   ]
  },
  {
   "cell_type": "code",
   "execution_count": 49,
   "metadata": {
    "collapsed": false,
    "scrolled": true
   },
   "outputs": [
    {
     "data": {
      "text/plain": [
       "{'is': 5, 'range': (3.0, 9.0)}"
      ]
     },
     "execution_count": 49,
     "metadata": {},
     "output_type": "execute_result"
    }
   ],
   "source": [
    "d.interactive_kwargs"
   ]
  },
  {
   "cell_type": "code",
   "execution_count": 51,
   "metadata": {
    "collapsed": false
   },
   "outputs": [
    {
     "data": {
      "text/plain": [
       "{'active': ['togglemenu'],\n",
       " 'all': ['miau', 'rtitle', 't1', 'r1', 'r1st', 'range', 'is', 'r2', 'r2st'],\n",
       " 'interactive': ['range', 'is'],\n",
       " 'passive': ['miau', 'rtitle', 't1', 'r1', 'r1st', 'r2', 'r2st']}"
      ]
     },
     "execution_count": 51,
     "metadata": {},
     "output_type": "execute_result"
    }
   ],
   "source": [
    "d.mode_dict"
   ]
  },
  {
   "cell_type": "code",
   "execution_count": 32,
   "metadata": {
    "collapsed": false
   },
   "outputs": [],
   "source": [
    "from shaolin.shaolin import shaoscript\n",
    "import six\n",
    "import numpy as np\n",
    "from widget import Widget\n",
    "import ipywidgets as wid\n",
    "import traitlets\n",
    "\n",
    "class Dashboard(object):\n",
    "    \n",
    "    def __init__(self, dash, func=None, mode='active', name=None):\n",
    "        self.func = func\n",
    "        self.dash = dash\n",
    "        self.mode = mode\n",
    "        if not name is None:\n",
    "            self.name = name\n",
    "        elif hasattr(dash,'name'):\n",
    "            self.name = dash.name\n",
    "        else:\n",
    "            self.name = self.name_from_shaoscript(dash[0])\n",
    "        self.mode_dict = {'active' : [],\n",
    "                     'passive': [],\n",
    "                     'interactive' : [],\n",
    "                     'all':[]\n",
    "                    }\n",
    "        self.init_dash(self.dash)\n",
    "        self.link_children(self.dash)\n",
    "        if not self.func is None:\n",
    "            self.observe(self.interact)\n",
    "        \n",
    "    def init_dashboard(self,dashboard):\n",
    "        setattr(self,dashboard.name,dashboard)\n",
    "        if dashboard.mode == 'interactive':\n",
    "                self.mode_dict['interactive'] += [dashboard.name]\n",
    "        elif dashboard.mode == 'passive':\n",
    "            self.mode_dict['passive'] += [dashboard.name]\n",
    "        else:\n",
    "            self.mode_dict['active'] += [dashboard.name]\n",
    "    \n",
    "    def init_toggle_menu(self,children, kwargs):\n",
    "        print(children,kwargs)\n",
    "        dashboard = ToggleMenu(children)\n",
    "        if 'name' in kwargs.keys():\n",
    "            dashboard.name = kwargs['name']\n",
    "        setattr(self,dashboard.name,dashboard)\n",
    "        if dashboard.mode == 'interactive':\n",
    "                self.mode_dict['interactive'] += [dashboard.name]\n",
    "        elif dashboard.mode == 'passive':\n",
    "            self.mode_dict['passive'] += [dashboard.name]\n",
    "        else:\n",
    "            self.mode_dict['active'] += [dashboard.name]\n",
    "                \n",
    "    def init_widget(self, shao, kwargs):\n",
    "        widget = shaoscript(shao, kwargs)\n",
    "        try:\n",
    "            setattr(self,widget.name,widget)\n",
    "        except Exception as e:\n",
    "                e.args += (('Dont use widget attributes as shaoscript names,'\n",
    "                            'they are reserved words! (You can use dashboard'\n",
    "                            'as a generic name if you want)'),)\n",
    "                raise e\n",
    "            \n",
    "        if 'mode' in kwargs.keys():\n",
    "            if kwargs['mode'] == 'interactive':\n",
    "                self.mode_dict['interactive'] += [widget.name]\n",
    "            elif kwargs['mode'] == 'passive':\n",
    "                self.mode_dict['passive'] += [widget.name]\n",
    "            else:\n",
    "                self.mode_dict['active'] += [widget.name]\n",
    "        else:\n",
    "            self.mode_dict['active'] += [widget.name]\n",
    "        self.mode_dict['all'] += [widget.name]\n",
    "            \n",
    "    def interact(self, _):\n",
    "        self.func(**self.kwargs)\n",
    "        \n",
    "    def link(self, name_1, name_2):\n",
    "        widget_1 = getattr(self, name_1).target\n",
    "        widget_2 = getattr(self, name_2).target\n",
    "        setattr(self,'link_'+name_1+'_'+name_2, traitlets.link((widget_1, 'value'),(widget_2,'value')))\n",
    "    \n",
    "    def dlink(self, name_1, name_2):\n",
    "        widget_1 = getattr(self, name_1).target\n",
    "        widget_2 = getattr(self, name_2).target\n",
    "        setattr(self,'link_'+name_1+'_'+name_2, traitlets.dlink((widget_1, 'value'),(widget_2,'value')))\n",
    "    \n",
    "    def unlink(self, name_1, name_2):\n",
    "        link = getattr(self,'link_'+name_1+'_'+name_2)\n",
    "        link.unlink()\n",
    "        \n",
    "    @property\n",
    "    def visible(self):\n",
    "        visible = False\n",
    "        for name in self.mode_dict['all']:\n",
    "            visible = visible or getattr(self,name).visible \n",
    "        return visible\n",
    "    @visible.setter\n",
    "    def visible(self,val):\n",
    "        for name in self.mode_dict['all']:\n",
    "            getattr(self,name).visible = val\n",
    "    \n",
    "    @property\n",
    "    def value(self):\n",
    "        return self.kwargs\n",
    "    @property\n",
    "    def kwargs(self):\n",
    "        kw = {}\n",
    "        for name in self.mode_dict['active']:\n",
    "            kw[name] = getattr(self,name).value\n",
    "        for name in self.mode_dict['interactive']:\n",
    "            kw[name] = getattr(self,name).value\n",
    "        return kw\n",
    "    @property\n",
    "    def interactive_kwargs(self):\n",
    "        kw = {}\n",
    "        for name in self.mode_dict['interactive']:\n",
    "            kw[name] = getattr(self,name).value\n",
    "        return kw\n",
    "    @property\n",
    "    def widget(self):\n",
    "        return getattr(self,self.name).widget\n",
    "   \n",
    "    @staticmethod\n",
    "    def name_from_shaoscript(string):\n",
    "        params = string.split('$')[1].split('&')\n",
    "        desc = None\n",
    "        name = None\n",
    "        for p in params:\n",
    "            pname = p.split('=')[0]\n",
    "            if pname in ['d','desc','description']:\n",
    "                desc = p.split('=')[1]\n",
    "            elif pname in ['n','name','N']:\n",
    "                name = p.split('=')[1]\n",
    "        if name is None and desc is None:\n",
    "            return False\n",
    "        elif name is None:\n",
    "            return desc.lower().replace(' ','_')\n",
    "        else:\n",
    "            return name.lower().replace(' ','_')\n",
    "    \n",
    "    @staticmethod\n",
    "    def read_shaolist(shaolist):\n",
    "        \n",
    "        try:\n",
    "            len(shaolist)\n",
    "        except TypeError:\n",
    "            shaoscript = None\n",
    "            kwargs = {}\n",
    "            children = None\n",
    "            return shaoscript, kwargs, children\n",
    "        \n",
    "        if shaolist[0] is ToggleMenu:\n",
    "            shaoscript = ToggleMenu\n",
    "            kwargs = {}\n",
    "            children = shaolist[1]\n",
    "        elif isinstance(shaolist,str):\n",
    "            shaoscript = shaolist\n",
    "            kwargs = {}\n",
    "            children = None\n",
    "        elif len(shaolist) == 1:\n",
    "            #[(shaoscript,kwargs)]\n",
    "            if isinstance(shaolist[0],tuple):\n",
    "                kwargs = shaolist[0][1]\n",
    "                shaoscript = shaolist[0][0]\n",
    "                children = None\n",
    "            #[shaoscript]\n",
    "            else:\n",
    "                shaoscript = shaolist[0]\n",
    "                kwargs = {}\n",
    "                children = None\n",
    "        elif len(shaolist) == 2:\n",
    "            #[(shaoscript, kwargs), children]\n",
    "            if isinstance(shaolist[0],tuple):\n",
    "                if shaolist[0][0] is ToggleMenu:\n",
    "                    shaoscript = ToggleMenu\n",
    "                    kwargs = shaolist[0][1]\n",
    "                    children = shaolist[1]\n",
    "                    return shaoscript, kwargs, children\n",
    "                else:\n",
    "                    kwargs = shaolist[0][1]\n",
    "                    shaoscript = shaolist[0][0]\n",
    "                    children = shaolist[1]\n",
    "            #[shaoscript,children]\n",
    "            else:\n",
    "                kwargs = {}\n",
    "                shaoscript = shaolist[0]\n",
    "                children = shaolist[1]\n",
    "        else:\n",
    "            pass\n",
    "                    \n",
    "        return shaoscript, kwargs, children\n",
    "\n",
    "    def observe(self, func, names='value'):\n",
    "        for name in self.mode_dict['interactive']:\n",
    "            getattr(self,name).observe(func, names=names)\n",
    "    \n",
    "    def link_children(self, shaolist):\n",
    "        shaoscript, kwargs, children = self.read_shaolist(shaolist)\n",
    "        if children is None:\n",
    "            return\n",
    "        else:\n",
    "            name = self.name_from_shaoscript(shaoscript)\n",
    "            for c in children:\n",
    "                shao_c , kwargs_c, c_children = self.read_shaolist(c)\n",
    "                if shao_c is None:\n",
    "                    cname = c.name\n",
    "                    print(cname,'miau')\n",
    "                else:\n",
    "                    cname = self.name_from_shaoscript(shao_c)\n",
    "                getattr(self,name).target.children += (getattr(self,cname).widget,)\n",
    "                self.link_children(c)\n",
    "        \n",
    "        \n",
    "    def init_dash(self,dash):\n",
    "        shaoscript, kwargs, children = self.read_shaolist(dash)\n",
    "        if shaoscript is None:\n",
    "            self.init_dashboard(dash)\n",
    "        elif shaoscript is ToggleMenu:\n",
    "            self.init_toggle_menu(children, kwargs)\n",
    "            \n",
    "        else:\n",
    "            self.init_widget(shaoscript, kwargs)\n",
    "        if children is None:\n",
    "            return\n",
    "        for c in children:\n",
    "            self.init_dash(c)\n",
    "\n",
    "class ToggleMenu(Dashboard):\n",
    "    def __init__(self, children, description='', buttons_shao=None,name=None, button_labels=None):\n",
    "        self.child_names = self.get_children_names(children)\n",
    "        if button_labels is None:\n",
    "            self.button_labels = self.child_names\n",
    "        else:\n",
    "            self.button_labels = button_labels\n",
    "        \n",
    "        if buttons_shao is None:\n",
    "            opts = dict(zip(self.button_labels,self.child_names))\n",
    "            buttons_shao  = ['@togs$N=buttons&d='+str(description)+'&o='+str(opts)]\n",
    "            \n",
    "        self.children_dash = children\n",
    "        #children = ['fs$d=fs','fs$d=fs2']\n",
    "        #buttons = ['r$n=buttons', buttons_shao]\n",
    "        dash = ['V$n=toggleMenu',\n",
    "                children +buttons_shao\n",
    "               ]\n",
    "        Dashboard.__init__(self, dash, func=None, name=name)\n",
    "        self.update_toggle()\n",
    "        self.buttons.target.observe(self.update_toggle)\n",
    "    \n",
    "    def get_children_names(self,children):\n",
    "        names = []\n",
    "        for c in children:\n",
    "            try:\n",
    "                names += [self.name_from_shaoscript(c)]\n",
    "            except:\n",
    "                names += [c.name]\n",
    "            \n",
    "        return names\n",
    "    \n",
    "    def update_toggle(self,_=None):\n",
    "\n",
    "        for name in self.child_names:\n",
    "            child = getattr(self,name)\n",
    "            if name == self.buttons.value:\n",
    "                child.visible = True\n",
    "            else:\n",
    "                child.visible = False\n",
    "            "
   ]
  }
 ],
 "metadata": {
  "kernelspec": {
   "display_name": "Python 3",
   "language": "python",
   "name": "python3"
  },
  "language_info": {
   "codemirror_mode": {
    "name": "ipython",
    "version": 3
   },
   "file_extension": ".py",
   "mimetype": "text/x-python",
   "name": "python",
   "nbconvert_exporter": "python",
   "pygments_lexer": "ipython3",
   "version": "3.5.1"
  },
  "widgets": {
   "state": {},
   "version": "1.1.1"
  }
 },
 "nbformat": 4,
 "nbformat_minor": 0
}
