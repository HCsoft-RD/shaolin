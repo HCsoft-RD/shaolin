{
 "cells": [
  {
   "cell_type": "code",
   "execution_count": 4,
   "metadata": {
    "collapsed": true
   },
   "outputs": [],
   "source": [
    "import sys\n",
    "path =\"/home/sergio/github/shaolin-master\"\n",
    "sys.path.append(path)"
   ]
  },
  {
   "cell_type": "code",
   "execution_count": 5,
   "metadata": {
    "collapsed": false
   },
   "outputs": [
    {
     "data": {
      "text/html": [
       "<style>\n",
       ".container { width:100% !important; }\n",
       ".input{ width:60% !important;\n",
       "       align: center;\n",
       "      }\n",
       ".text_cell{ width:70% !important;\n",
       "            font-size: 16px;}\n",
       ".title {align:center !important;}\n",
       "</style>"
      ],
      "text/plain": [
       "<IPython.core.display.HTML object>"
      ]
     },
     "metadata": {},
     "output_type": "display_data"
    }
   ],
   "source": [
    "%%HTML\n",
    "<style>\n",
    ".container { width:100% !important; }\n",
    ".input{ width:60% !important;\n",
    "       align: center;\n",
    "      }\n",
    ".text_cell{ width:70% !important;\n",
    "            font-size: 16px;}\n",
    ".title {align:center !important;}\n",
    "</style>"
   ]
  },
  {
   "cell_type": "markdown",
   "metadata": {},
   "source": [
    "# Creating complex Dashboards"
   ]
  },
  {
   "cell_type": "markdown",
   "metadata": {},
   "source": [
    "<a id='index'></a>"
   ]
  },
  {
   "cell_type": "markdown",
   "metadata": {},
   "source": [
    "## Index"
   ]
  },
  {
   "cell_type": "markdown",
   "metadata": {},
   "source": [
    "- [1 Introduction](#intro)\n",
    "- [2 Defining the Dashboard parameters](#parameters)\n",
    "- [3 Dashboard layout & inizialization](#dash_and_init)\n",
    "    - [3.1 Layout with custom defaults](#custom_defaults)\n",
    "    - [3.2 ArrayScaler init function](#init)\n",
    "- [4 Scaler functionality](#functionality)\n",
    "- [5 Plotting the ArraySlicer output](#plot)  \n",
    "    - [5.1 Layered approach](#layered)\n",
    "    - [5.2 Single Dashboard approach](#single)"
   ]
  },
  {
   "cell_type": "markdown",
   "metadata": {},
   "source": [
    "<a id='introduction'></a>"
   ]
  },
  {
   "cell_type": "markdown",
   "metadata": {},
   "source": [
    "# 1 Introduction"
   ]
  },
  {
   "cell_type": "markdown",
   "metadata": {},
   "source": [
    "In this tutorial we will show how it is possible to create complex dashboards for data analysis by inheriting from the Dashboard class. We will build a data scaler that will interact with a matplotlib plot to show how the data is modified.\n",
    "\n",
    "The Dashboard that we are going to build has the following capabilities:\n",
    "- Apply an arbitrary function to a numpy array selected fom a dict of available functions.\n",
    "- Scale the data into an arbitrary range. This scaling will be optional and the data will be scaled before applying the selected function.\n",
    "- Show how the data is being modified in real time."
   ]
  },
  {
   "cell_type": "markdown",
   "metadata": {},
   "source": [
    "<a id='parameters'></a>"
   ]
  },
  {
   "cell_type": "markdown",
   "metadata": {},
   "source": [
    "# 2 Defining the Dashboard parameters"
   ]
  },
  {
   "cell_type": "markdown",
   "metadata": {},
   "source": [
    "[Back to top](#index)"
   ]
  },
  {
   "cell_type": "markdown",
   "metadata": {},
   "source": [
    "Our Dashboard will have the following parameters:\n",
    "- **funcs**: A dictionary of available functions that the scaler can apply to the data. \n",
    "- **min**: minimum value for the scaling.\n",
    "- **max**: maximum value fot the scaling.\n",
    "- **step**: step parameter fot the scaler slider.\n",
    "- **low**: initial lower bound for the scaling.\n",
    "- **high**: initial higher bound for the scaling.\n",
    "- **kwargs**: keyword arguments for the Dashboard.__init__ function like name, mode..."
   ]
  },
  {
   "cell_type": "markdown",
   "metadata": {},
   "source": [
    "We will also define a nice set of initial parameters just in case we want to paly later with it without worrying about inizialization."
   ]
  },
  {
   "cell_type": "code",
   "execution_count": 6,
   "metadata": {
    "collapsed": false
   },
   "outputs": [],
   "source": [
    "import numpy as np\n",
    "from shaolin.core.dashboard import Dashboard\n",
    "class ArrayScaler(Dashboard):\n",
    "    \n",
    "    def __init__(self,\n",
    "                 data,\n",
    "                 funcs=None,\n",
    "                 min=-100.,\n",
    "                 max=100.,\n",
    "                 step=None,\n",
    "                 low=None,\n",
    "                 high=None,\n",
    "                 **kwargs):\n",
    "        if funcs is None:\n",
    "            self.funcs = {'raw':lambda x: x,\n",
    "                          'zscore': lambda x: (x-np.mean(x))/np.std(x),\n",
    "                          'log': np.log,\n",
    "                          'rank':lambda x: pd.DataFrame(x).rank().values.flatten(),\n",
    "                          'abs': np.abs\n",
    "                         }\n",
    "        else:\n",
    "            self.funcs  = funcs\n",
    "        self._data = data\n",
    "        if min is None:\n",
    "            min = self._data.min().values[0]\n",
    "        if max is None:\n",
    "            max = self._data.max().values[0]\n",
    "        if step is None:\n",
    "            step = (max-min)/100.\n",
    "        if low is None:\n",
    "            low = min\n",
    "        if high is None:\n",
    "            high = max"
   ]
  },
  {
   "cell_type": "markdown",
   "metadata": {},
   "source": [
    "<a id='dash_and_init'></a>"
   ]
  },
  {
   "cell_type": "markdown",
   "metadata": {},
   "source": [
    "# 3 Dashboard layout & inizialization"
   ]
  },
  {
   "cell_type": "markdown",
   "metadata": {},
   "source": [
    "[Back to top](#index)"
   ]
  },
  {
   "cell_type": "markdown",
   "metadata": {},
   "source": [
    "<a id='custom_defaults'></a>"
   ]
  },
  {
   "cell_type": "markdown",
   "metadata": {},
   "source": [
    "## 3.1 Layout with custom defaults"
   ]
  },
  {
   "cell_type": "markdown",
   "metadata": {},
   "source": [
    "In this case we are going to use the same layout shown in the first Dasboard tutorial, but instead of hardcoding its component default values we will use the parameters of the former section. This way when we create an instance of an ArrayScaler we wont have to worry a obout its interface internals. "
   ]
  },
  {
   "cell_type": "code",
   "execution_count": null,
   "metadata": {
    "collapsed": true
   },
   "outputs": [],
   "source": [
    "dash = ['c$N=df_scaler',\n",
    "        ['@('+str(min)+', '+str(max)+', '+str(step)+', ('+str(low)+', '+str(high)+'))$N=scale_slider&d=Scale',\n",
    "         ['r$N=main_row',['@dd$d=Apply&N=dd_sel&val=raw&o='+str(list(self.funcs.keys())),'@False$N=scale_chk&d=Scale']],\n",
    "         ['html$N=plot']\n",
    "        ]\n",
    "       ]"
   ]
  },
  {
   "cell_type": "markdown",
   "metadata": {},
   "source": [
    "<a id='init'></a>"
   ]
  },
  {
   "cell_type": "markdown",
   "metadata": {},
   "source": [
    "## 3.2 ArrayScaler init function"
   ]
  },
  {
   "cell_type": "markdown",
   "metadata": {},
   "source": [
    "[Back to top](#index)"
   ]
  },
  {
   "cell_type": "markdown",
   "metadata": {},
   "source": [
    "Now we have defined the layout and parameters we can call the Dashboard.init function. Afther that we only have to bind the update function to achieve interactivity. We will also call the init function with the custom layout that we created in the former example. \n",
    "\n",
    "The data attribute has an underscore because later we are going to define the  as a property, so it the widget can be updated every time it changes its data.  "
   ]
  },
  {
   "cell_type": "code",
   "execution_count": 17,
   "metadata": {
    "collapsed": true
   },
   "outputs": [],
   "source": [
    "class ArrayScaler(Dashboard):\n",
    "    \n",
    "    def __init__(self,\n",
    "                 data,\n",
    "                 funcs=None,\n",
    "                 min=-100.,\n",
    "                 max=100.,\n",
    "                 step=None,\n",
    "                 low=None,\n",
    "                 high=None,\n",
    "                 **kwargs):\n",
    "        if funcs is None:\n",
    "            self.funcs = {'raw':lambda x: x,\n",
    "                          'zscore': lambda x: (x-np.mean(x))/np.std(x),\n",
    "                          'log': np.log,\n",
    "                          'rank':lambda x: pd.DataFrame(x).rank().values.flatten(),\n",
    "                          'abs': np.abs\n",
    "                         }\n",
    "        else:\n",
    "            self.funcs  = funcs\n",
    "        self._data = data\n",
    "        if min is None:\n",
    "            min = self._data.min().values[0]\n",
    "        if max is None:\n",
    "            max = self._data.max().values[0]\n",
    "        if step is None:\n",
    "            step = (max-min)/100.\n",
    "        if low is None:\n",
    "            low = min\n",
    "        if high is None:\n",
    "            high = max\n",
    "        \n",
    "        dash = ['c$N=array_scaler',\n",
    "                ['@('+str(min)+', '+str(max)+', '+str(step)+', ('+str(low)+', '+str(high)+'))$N=scale_slider&d=Scale',\n",
    "                 ['r$N=main_row',['@dd$d=Apply&N=dd_sel&val=raw&o='+str(list(self.funcs.keys())),'@False$N=scale_chk&d=Scale']],\n",
    "                ]\n",
    "               ]\n",
    "        Dashboard.__init__(self, dash, mode='interactive',state='array_scaler.pkl', **kwargs)\n",
    "        #self.observe(self.update)\n",
    "        #self.update()"
   ]
  },
  {
   "cell_type": "markdown",
   "metadata": {},
   "source": [
    "Thsi is how our graphic interface wil look"
   ]
  },
  {
   "cell_type": "code",
   "execution_count": 16,
   "metadata": {
    "collapsed": false
   },
   "outputs": [
    {
     "data": {
      "image/png": "[encoded data removed]",
      "text/html": [
       "<img src=data:image/png;base64,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 class=\"jupyter-widget\">\n",
       "<script type=\"application/vnd.jupyter-embedded-widgets\">[]</script>"
      ]
     },
     "metadata": {
      "isWidgetSnapshot": true
     },
     "output_type": "display_data"
    }
   ],
   "source": [
    "data = np.random.normal(size=(20))\n",
    "asc = ArrayScaler(data)\n",
    "asc.widget"
   ]
  },
  {
   "cell_type": "markdown",
   "metadata": {},
   "source": [
    "<a id='functionality'></a>"
   ]
  },
  {
   "cell_type": "markdown",
   "metadata": {},
   "source": [
    "# 4 Scaler functionality"
   ]
  },
  {
   "cell_type": "markdown",
   "metadata": {},
   "source": [
    "[Back to top](#index)"
   ]
  },
  {
   "cell_type": "markdown",
   "metadata": {},
   "source": [
    "Now its time to define the data wrangling capabilities of our Dashboard. Our ArrayScaler will have a function for scaling the data and an update function, that will calculate its output and will be called every time an interactive component changes its value."
   ]
  },
  {
   "cell_type": "code",
   "execution_count": 19,
   "metadata": {
    "collapsed": true
   },
   "outputs": [],
   "source": [
    "def scale_func(self, data):\n",
    "    Ma = np.max(data)\n",
    "    mi = np.min(data)\n",
    "    score = ((data-mi)/(Ma-mi))#to 0-1 interval\n",
    "    if mi == Ma:\n",
    "           return np.ones(len(score)) *0.5\n",
    "    scale_h = self.scale_slider.value[1]\n",
    "    scale_l = self.scale_slider.value[0]\n",
    "    return score*(scale_h-scale_l)+scale_l"
   ]
  },
  {
   "cell_type": "markdown",
   "metadata": {},
   "source": [
    "The undercored parameter of the update function is the *change* value os the observe function. As it will be rarely used I just define it like this, so it's possible to call the update function both as an observe call or as standalone function."
   ]
  },
  {
   "cell_type": "code",
   "execution_count": 20,
   "metadata": {
    "collapsed": true
   },
   "outputs": [],
   "source": [
    "def update(self, _=None):\n",
    "    if self.scale_chk.value:\n",
    "        self.scale_slider.visible = True\n",
    "        self.output = self.funcs[self.dd_sel.value](self.scale_func(self._data))\n",
    "    else:\n",
    "        self.scale_slider.visible = False\n",
    "        self.output = self.funcs[self.dd_sel.value](self._data)"
   ]
  },
  {
   "cell_type": "markdown",
   "metadata": {},
   "source": [
    "Now we have everything we need to modify the data. We will set the default mode of this Dashboard and then we have our ArrayScaler finished."
   ]
  },
  {
   "cell_type": "code",
   "execution_count": 28,
   "metadata": {
    "collapsed": false
   },
   "outputs": [],
   "source": [
    "class ArrayScaler(Dashboard):\n",
    "    \n",
    "    def __init__(self,\n",
    "                 data,\n",
    "                 funcs=None,\n",
    "                 min=-100.,\n",
    "                 max=100.,\n",
    "                 step=None,\n",
    "                 low=None,\n",
    "                 high=None,\n",
    "                 mode='interactive',\n",
    "                 **kwargs):\n",
    "        if funcs is None:\n",
    "            self.funcs = {'raw':lambda x: x,\n",
    "                          'zscore': lambda x: (x-np.mean(x))/np.std(x),\n",
    "                          'log': np.log,\n",
    "                          'rank':lambda x: pd.DataFrame(x).rank().values.flatten(),\n",
    "                          'abs': np.abs\n",
    "                         }\n",
    "        else:\n",
    "            self.funcs  = funcs\n",
    "        self._data = data\n",
    "        if min is None:\n",
    "            min = self._data.min().values[0]\n",
    "        if max is None:\n",
    "            max = self._data.max().values[0]\n",
    "        if step is None:\n",
    "            step = (max-min)/100.\n",
    "        if low is None:\n",
    "            low = min\n",
    "        if high is None:\n",
    "            high = max\n",
    "        \n",
    "        dash = ['c$N=array_scaler',\n",
    "                ['@('+str(min)+', '+str(max)+', '+str(step)+', ('+str(low)+', '+str(high)+'))$N=scale_slider&d=Scale',\n",
    "                 ['r$N=main_row',['@dd$d=Apply&N=dd_sel&val=raw&o='+str(list(self.funcs.keys())),'@False$N=scale_chk&d=Scale']],\n",
    "                ]\n",
    "               ]\n",
    "        Dashboard.__init__(self, dash, state='array_scaler.pkl',mode=mode, **kwargs)\n",
    "        self.observe(self.update)\n",
    "        self.update()\n",
    "    \n",
    "    @property\n",
    "    def data(self):\n",
    "        return self._data\n",
    "\n",
    "    @data.setter\n",
    "    def data(self, val):\n",
    "        self._data = val\n",
    "        self.update()\n",
    "        \n",
    "    def scale_func(self, data):\n",
    "        Ma = np.max(data)\n",
    "        mi = np.min(data)\n",
    "        score = ((data-mi)/(Ma-mi))#to 0-1 interval\n",
    "        if mi == Ma:\n",
    "               return np.ones(len(score)) *0.5\n",
    "        scale_h = self.scale_slider.value[1]\n",
    "        scale_l = self.scale_slider.value[0]\n",
    "        return score*(scale_h-scale_l)+scale_l\n",
    "    \n",
    "    def update(self, _=None):\n",
    "        if self.scale_chk.value:\n",
    "            self.scale_slider.visible = True\n",
    "            self.output = self.funcs[self.dd_sel.value](self.scale_func(self._data))\n",
    "        else:\n",
    "            self.scale_slider.visible = False\n",
    "            self.output = self.funcs[self.dd_sel.value](self._data)"
   ]
  },
  {
   "cell_type": "code",
   "execution_count": 32,
   "metadata": {
    "collapsed": false
   },
   "outputs": [],
   "source": [
    "arrs = ArrayScaler(data)"
   ]
  },
  {
   "cell_type": "markdown",
   "metadata": {},
   "source": [
    "<a id='plot'></a>"
   ]
  },
  {
   "cell_type": "markdown",
   "metadata": {},
   "source": [
    "# 5 Plotting the ArraySlicer output"
   ]
  },
  {
   "cell_type": "markdown",
   "metadata": {},
   "source": [
    "[Back to top](#index)"
   ]
  },
  {
   "cell_type": "markdown",
   "metadata": {},
   "source": [
    "<a id='layered'></a>"
   ]
  },
  {
   "cell_type": "markdown",
   "metadata": {},
   "source": [
    "## 5.1 Layered approach"
   ]
  },
  {
   "cell_type": "markdown",
   "metadata": {},
   "source": [
    "In order to see how we are modifying the data with our ArrayScaler we are going to build a Dashboard capable of displaying arbitrary matplotlib figures as an HTML widget created directly from the output of another Dashboard. "
   ]
  },
  {
   "cell_type": "code",
   "execution_count": 59,
   "metadata": {
    "collapsed": true
   },
   "outputs": [],
   "source": [
    "class MatplotlibPlot(Dashboard):\n",
    "    \n",
    "    def __init__(self, data_dashboard, plot_func,width=\"45em\", height=\"15em\", **kwargs):\n",
    "        self.plot_func = plot_func\n",
    "        self._target_name = data_dashboard.name\n",
    "        self._height = height\n",
    "        self._width = width\n",
    "        dashboard = ['c$N=mpl_plot',\n",
    "                     [data_dashboard,\n",
    "                      'html$N=plot'\n",
    "                     ]\n",
    "                    ]\n",
    "        Dashboard.__init__(self, dashboard, mode='interactive', **kwargs)\n",
    "        self.observe(self.update)\n",
    "        self.update()\n",
    "\n",
    "    def fig_to_html(self, fig, img_class=''):\n",
    "        \"\"\"This is a hack that converts a matplotlib like fig to an HTML image div\"\"\"\n",
    "        from io import BytesIO\n",
    "        import base64\n",
    "        import warnings\n",
    "        warnings.filterwarnings('ignore')\n",
    "        imgdata = BytesIO()\n",
    "        fig.savefig(imgdata, format='png',bbox_inches='tight',dpi=90, transparent=True)\n",
    "        imgdata.seek(0)  # rewind the data\n",
    "        svg_dta = imgdata.getvalue()\n",
    "        svg_image = Image(svg_dta)#\n",
    "        svg_b64 = base64.b64encode(svg_image.data).decode()\n",
    "        self.plot.widget.layout.width = self._width\n",
    "        self.plot.target.layout.width = \"100%\"\n",
    "        self.plot.widget.layout.height = self._height\n",
    "        self.plot.target.layout.height = \"100%\"\n",
    "        height = self.plot.target.layout.height\n",
    "        width = self.plot.target.layout.width\n",
    "        return '<img class=\"cmap '+img_class+'\" height=\"'+str(height)+'\" width=\"'\\\n",
    "                +str(width)+'\" src=\"data:image/png;base64,'+svg_b64+'\" />'\n",
    "    \n",
    "    def update(self, _=None):\n",
    "        fig, ax = self.plot_func(getattr(self,self._target_name).output)\n",
    "        plt.close(fig)\n",
    "        self.plot.value = self.fig_to_html(fig)"
   ]
  },
  {
   "cell_type": "markdown",
   "metadata": {},
   "source": [
    "This Dashboard is really usefull for quickly generalizing any matplotlib plot and adapt it to any kind of data processing, but we will pay the cost of flexibility by having a higher response time than if we write the plotting logic alongside the data processing code(I suppose this is due to the internal structure of the ipywidgets package/jupyter notebook or even mabe browser related, but I don't don't see how this limitation can be easily overcomed). Below this example I have wirtten the same logic as a single Dashboard so you can compare the performance issues. Any help regarthing this topic will be much appreciated, as this package aimg to be able to link hundreds of widgets at the same time. \n",
    "\n",
    "In both cases we have response times below 1 second, but in the layered approach the lag is notticeable. "
   ]
  },
  {
   "cell_type": "code",
   "execution_count": 54,
   "metadata": {
    "collapsed": false
   },
   "outputs": [],
   "source": [
    "import matplotlib.pyplot as plt\n",
    "from IPython.display import Image\n",
    "def plot(output):\n",
    "    fig, ax = plt.subplots(figsize=(10, 1))\n",
    "    plt.title('Output data')\n",
    "    ax.plot(output)\n",
    "    return fig, ax\n",
    "test = MatplotlibPlot(arrs, plot)"
   ]
  },
  {
   "cell_type": "code",
   "execution_count": 61,
   "metadata": {
    "collapsed": false
   },
   "outputs": [
    {
     "data": {
      "image/png": "[encoded data removed]",
      "text/html": [
       "<img src=data:image/png;base64,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 class=\"jupyter-widget\">\n",
       "<script type=\"application/vnd.jupyter-embedded-widgets\">[]</script>"
      ]
     },
     "metadata": {
      "isWidgetSnapshot": true
     },
     "output_type": "display_data"
    }
   ],
   "source": [
    "test.widget"
   ]
  },
  {
   "cell_type": "markdown",
   "metadata": {},
   "source": [
    "<a id='single'></a>"
   ]
  },
  {
   "cell_type": "markdown",
   "metadata": {},
   "source": [
    "## 5.2 Single Dashboard approach"
   ]
  },
  {
   "cell_type": "markdown",
   "metadata": {},
   "source": [
    "[Back to top](#index)"
   ]
  },
  {
   "cell_type": "code",
   "execution_count": 60,
   "metadata": {
    "collapsed": true
   },
   "outputs": [],
   "source": [
    "\n",
    "class FullArrayScaler(Dashboard):\n",
    "    \n",
    "    def __init__(self,\n",
    "                 data,\n",
    "                 funcs=None,\n",
    "                 min=-100.,\n",
    "                 max=100.,\n",
    "                 step=None,\n",
    "                 low=None,\n",
    "                 high=None,\n",
    "                 **kwargs):\n",
    "        if funcs is None:\n",
    "            self.funcs = {'raw':lambda x: x,\n",
    "                          'zscore': lambda x: (x-np.mean(x))/np.std(x),\n",
    "                          'log': np.log,\n",
    "                          'rank':lambda x: pd.DataFrame(x).rank().values.flatten(),\n",
    "                          'abs': np.abs\n",
    "                         }\n",
    "        else:\n",
    "            self.funcs  = funcs\n",
    "        self._data = data\n",
    "        if min is None:\n",
    "            min = self._df.min().values[0]\n",
    "        if max is None:\n",
    "            max = self._df.max().values[0]\n",
    "        if step is None:\n",
    "            step = (max-min)/100.\n",
    "        if low is None:\n",
    "            low = min\n",
    "        if high is None:\n",
    "            high = max\n",
    "        \n",
    "        dash = ['c$N=df_scaler',\n",
    "                ['@('+str(min)+', '+str(max)+', '+str(step)+', ('+str(low)+', '+str(high)+'))$N=scale_slider&d=Scale',\n",
    "                 ['r$N=main_row',['@dd$d=Apply&N=dd_sel&val=raw&o='+str(list(self.funcs.keys())),'@False$N=scale_chk&d=Scale']],\n",
    "                 ['html$N=plot']\n",
    "                ]\n",
    "               ]\n",
    "        Dashboard.__init__(self, dash, mode='interactive', **kwargs)\n",
    "        self.observe(self.update)\n",
    "        self.update()\n",
    "    \n",
    "    @property\n",
    "    def data(self):\n",
    "        return self._data\n",
    "\n",
    "    @data.setter\n",
    "    def data(self, val):\n",
    "        self._data = val\n",
    "        self.update()\n",
    "    \n",
    "    def scale_func(self, data):\n",
    "        Ma = np.max(data)\n",
    "        mi = np.min(data)\n",
    "        score = ((data-mi)/(Ma-mi))#to 0-1 interval\n",
    "        if mi == Ma:\n",
    "               return np.ones(len(score)) *0.5\n",
    "        scale_h = self.scale_slider.value[1]\n",
    "        scale_l = self.scale_slider.value[0]\n",
    "        return score*(scale_h-scale_l)+scale_l \n",
    "    \n",
    "    def fig_to_html(self, fig, img_class=''):\n",
    "        \"\"\"This is a hack that converts a matplotlib like fig to an HTML image div\"\"\"\n",
    "        from io import BytesIO\n",
    "        import base64\n",
    "        import warnings\n",
    "        warnings.filterwarnings('ignore')\n",
    "        imgdata = BytesIO()\n",
    "        fig.savefig(imgdata, format='png',bbox_inches='tight',dpi=160, transparent=True)\n",
    "        imgdata.seek(0)  # rewind the data\n",
    "        svg_dta = imgdata.getvalue()\n",
    "        svg_image = Image(svg_dta)#\n",
    "        svg_b64 = base64.b64encode(svg_image.data).decode()\n",
    "        self.plot.widget.layout.width =\"45em\"\n",
    "        self.plot.target.layout.width = \"100%\"\n",
    "        self.plot.widget.layout.height = \"15em\"\n",
    "        self.plot.target.layout.height = \"100%\"\n",
    "        height = self.plot.target.layout.height\n",
    "        width = self.plot.target.layout.width\n",
    "        return '<img class=\"cmap '+img_class+'\" height=\"'+str(height)+'\" width=\"'\\\n",
    "                +str(width)+'\" src=\"data:image/png;base64,'+svg_b64+'\" />'\n",
    "    \n",
    "    def update(self, _=None):\n",
    "    \n",
    "        if self.scale_chk.value:\n",
    "            self.scale_slider.visible = True\n",
    "            self.output = self.funcs[self.dd_sel.value](self.scale_func(self._data))\n",
    "        else:\n",
    "            self.scale_slider.visible = False\n",
    "            self.output = self.funcs[self.dd_sel.value](self._data)\n",
    "        fig, ax = plt.subplots(figsize=(10, 1))\n",
    "        plt.title('Output data')\n",
    "        ax.plot(self.output)\n",
    "        plt.close(fig)\n",
    "        self.plot.value = self.fig_to_html(fig)"
   ]
  },
  {
   "cell_type": "code",
   "execution_count": 57,
   "metadata": {
    "collapsed": true
   },
   "outputs": [],
   "source": [
    "version2 = FullArrayScaler(data)"
   ]
  },
  {
   "cell_type": "code",
   "execution_count": 58,
   "metadata": {
    "collapsed": true
   },
   "outputs": [
    {
     "data": {
      "image/png": "[encoded data removed]",
      "text/html": [
       "<img src=data:image/png;base64,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 class=\"jupyter-widget\">\n",
       "<script type=\"application/vnd.jupyter-embedded-widgets\">[]</script>"
      ]
     },
     "metadata": {
      "isWidgetSnapshot": true
     },
     "output_type": "display_data"
    }
   ],
   "source": [
    "version2.widget"
   ]
  },
  {
   "cell_type": "code",
   "execution_count": null,
   "metadata": {
    "collapsed": true
   },
   "outputs": [],
   "source": []
  },
  {
   "cell_type": "code",
   "execution_count": null,
   "metadata": {
    "collapsed": true
   },
   "outputs": [],
   "source": []
  }
 ],
 "metadata": {
  "kernelspec": {
   "display_name": "Python 3",
   "language": "python",
   "name": "python3"
  },
  "language_info": {
   "codemirror_mode": {
    "name": "ipython",
    "version": 3
   },
   "file_extension": ".py",
   "mimetype": "text/x-python",
   "name": "python",
   "nbconvert_exporter": "python",
   "pygments_lexer": "ipython3",
   "version": "3.5.1"
  },
  "widgets": {
   "state": {
    "00519baaaeff4772a5eddf4b3bafb3f4": {
     "views": []
    },
    "006096aafaed40c88802042a87ed1fff": {
     "views": []
    },
    "006bd810d28b45129fa49c09408d6a3e": {
     "views": []
    },
    "00d6d1d48b244949ad151e8f6710e479": {
     "views": []
    },
    "019f3b6801f5463fb4ad37468e8f4c1b": {
     "views": []
    },
    "01d15d760b344e5c9934465be25a7344": {
     "views": []
    },
    "01da3250de64438db7c8d1089b4b2078": {
     "views": []
    },
    "02dcc283b2cd4e15ada1fe4c36da1884": {
     "views": []
    },
    "03ee5924e976423c855dcce5f01d95e9": {
     "views": []
    },
    "051e08356cef4184838765cc4504ac2a": {
     "views": []
    },
    "05d36f58244a4255b469889e6411e5f3": {
     "views": []
    },
    "065d1cee95ce4dce8963d6cfd13ed3c0": {
     "views": []
    },
    "06de595ff8014e83ba48004832d35a97": {
     "views": []
    },
    "06e8772d91d44fc99fbe95983e10fb6c": {
     "views": []
    },
    "083196754d6b42c0b055e0e6bc74bb25": {
     "views": []
    },
    "08d5c65855be498dbb54e0e4e6d45381": {
     "views": []
    },
    "0a1d9a929d834328bd60c712918147fe": {
     "views": []
    },
    "0a69cc5df9b84371b566f7f8d334ac13": {
     "views": []
    },
    "0ae92202b2954ecfb2b8cf62bd57e29b": {
     "views": []
    },
    "0b0abdf296834830bd93fc6b957ede02": {
     "views": []
    },
    "0b3d4c8521174d729110dc06411d1209": {
     "views": []
    },
    "0b771fb47686407ab17a6ba2a02a66a9": {
     "views": []
    },
    "0ba342c2b30442de9066ce7a7c13fe5a": {
     "views": []
    },
    "0c091e14610c4074a03400ccf8bec0a1": {
     "views": []
    },
    "0c65e887177f46329638d348a2d0ca1d": {
     "views": []
    },
    "0f8851e243f0457a8641eee5a4a3e610": {
     "views": []
    },
    "103786650dc74e888c8ee2053cd3ac3c": {
     "views": []
    },
    "1052dd3350fd46579b27e14d4f153edf": {
     "views": []
    },
    "10c9e883689e47799e98e6f5a10b5743": {
     "views": []
    },
    "113dbf8860a4404a8f0890f7aee3af10": {
     "views": []
    },
    "115b1cda838845e8b78490b09d3c5b12": {
     "views": []
    },
    "117ad7bfcaa2468897041e2a7bbcedad": {
     "views": []
    },
    "13711e03edc1416a8b695b2969fb9b40": {
     "views": []
    },
    "1797138f4a5a4976a10b012dd4e27540": {
     "views": []
    },
    "17ae59fd76b040958cba77d7bbd675fa": {
     "views": []
    },
    "189c4425fd8c4fa4a65b1d18a377e8f0": {
     "views": []
    },
    "19368ef595ed4872846b9563abcdbff0": {
     "views": []
    },
    "1968c1d162d24ee8bfaad3c37d8dd5c6": {
     "views": []
    },
    "19f1ac70793a4dd0bf91922616828341": {
     "views": []
    },
    "1b222e9d482041e98a9e6321f316e6e1": {
     "views": []
    },
    "1c7b6976b10e48f8a292babf0f64cf67": {
     "views": []
    },
    "1c8c1a107b484a0b86c0fbc97a2ad8c4": {
     "views": []
    },
    "1cd683fa25494f46858a1b7568b7c544": {
     "views": []
    },
    "1d028a8c44544bc699e98075d68723e8": {
     "views": []
    },
    "1d593fc8666f4e909af5b4a0ca960aa1": {
     "views": []
    },
    "1dbcce82ef214cbcb9c0127062b9520e": {
     "views": []
    },
    "1e4570efc5aa4d2cb747f22331e2369b": {
     "views": []
    },
    "1fdfeb1ba67a4cb2bb4693a9fe8b6971": {
     "views": []
    },
    "20c21e85f1164cec8f2447c67f4b1e23": {
     "views": []
    },
    "2149cdf8631f407a89252a81b3590f84": {
     "views": []
    },
    "21555f0363f74cc28113a383da0e1bb1": {
     "views": []
    },
    "219780ee2c7142f8b5eb2a92986d4a78": {
     "views": []
    },
    "23c4512b390646dea9138408580b2815": {
     "views": []
    },
    "23ece697538b43edb6642e7a05342f66": {
     "views": []
    },
    "2506cd8f25cb4aec99e70ecd3fbe0711": {
     "views": []
    },
    "260e7d3f2ef049af83e13198197a42d1": {
     "views": []
    },
    "273f0ee9f8364737b85ff692c2a416c4": {
     "views": []
    },
    "276fb2bd93b34cf28557e40371b26ee9": {
     "views": []
    },
    "278e135863f1488987dec7917a2d2680": {
     "views": []
    },
    "27f3867e3ee24a85a86685ad15f1e97c": {
     "views": []
    },
    "29018f8287f744dd9810e5a52edeb8b7": {
     "views": []
    },
    "292bf43d8853419bbfed1cab0a005f28": {
     "views": []
    },
    "29c50eca23dd4007850ed99887083a04": {
     "views": []
    },
    "29cd67d011cc4fe6af14f21c3b665c50": {
     "views": []
    },
    "29e5a0d939014e2ea6b6b22505a6256a": {
     "views": []
    },
    "2a37619d0b9f4bb3814e5e10e7e7b2bb": {
     "views": []
    },
    "2a3d7b4d025941c397837bf4c14c1cea": {
     "views": []
    },
    "2abbb91ece184ecfb12f6eeadfef4f11": {
     "views": []
    },
    "2af0a019c6504fca9d27570a4a36917a": {
     "views": []
    },
    "2b8d89a1f3ec4650a17727bbe2b83774": {
     "views": []
    },
    "2c91b91d9ef4456d96dee1023b0a4569": {
     "views": []
    },
    "2c9e3b3bdbeb4425bc34ff0de43d03f1": {
     "views": []
    },
    "2dbc6964d35e4e66b356c81bc32a304c": {
     "views": []
    },
    "2e843481d8cd47e59b0898b5043195cc": {
     "views": []
    },
    "2f639019d2a74070a916aa353b6e201f": {
     "views": []
    },
    "2fdb1dc681cf485ba610e5213b322dd7": {
     "views": []
    },
    "318aee4f402d4c2fa3faf4b87980cc0c": {
     "views": []
    },
    "32515d1c892e44e7bddbc4c78100d5e9": {
     "views": []
    },
    "3267d910068c4fb29124fd0fb09ae1e6": {
     "views": []
    },
    "346692e817934a069209ab68a92cea17": {
     "views": []
    },
    "34ec7b09979f44218a32c07dd7d9111c": {
     "views": []
    },
    "351b16ed03884d149d015b23a555946c": {
     "views": []
    },
    "35aa533f114e4114bae0225bf5e3bbee": {
     "views": []
    },
    "35af39bab80441c69847de27f42fc084": {
     "views": []
    },
    "36601d7950224043bbdea28f7350c9da": {
     "views": []
    },
    "36a38408a21848c9be5ee321b23f8db2": {
     "views": []
    },
    "379e6d3f5a0d4386bb4e994955644194": {
     "views": []
    },
    "37c6576d527a4cb58683baec786e13de": {
     "views": []
    },
    "387a0d60ddcd4b8f94763d031880cf25": {
     "views": [
      {
       "cell_index": 24
      }
     ]
    },
    "3897007ae4a34b2387f91f0bc895e523": {
     "views": []
    },
    "393d688a79044fababa767581e1b1957": {
     "views": []
    },
    "39de3003a86d4d6a895856f30e00bd5b": {
     "views": []
    },
    "3a9fb9098b0c4fa4be085ef15108d95b": {
     "views": []
    },
    "3b743390fa994c4d94e9889c18ac308c": {
     "views": []
    },
    "3bb357fd20a84cfe93d3710fafb2b45c": {
     "views": []
    },
    "3c1840889c3e4f77a8d8e3b9b99d5854": {
     "views": []
    },
    "3c9c55b187f44653805d9c56359433ea": {
     "views": []
    },
    "3d091779ff8143718cd99dcc321fa5db": {
     "views": []
    },
    "3d165fea37224c45bade8e6f4671e0d4": {
     "views": []
    },
    "3d282517b1844575a6fbf455b5d34164": {
     "views": []
    },
    "4052f47c9e88402c8d9cb884b776afe0": {
     "views": []
    },
    "40da2de5272548a3be3003f675a9b9b7": {
     "views": []
    },
    "412694bc6f9c4f2b833b31c58a8e4edf": {
     "views": []
    },
    "41b78b4fc952431d93e871cbfb04592c": {
     "views": []
    },
    "43310efd8ca64177bf472a3ea3d2eef6": {
     "views": []
    },
    "44ad14939e8b4deea364effc9e49d620": {
     "views": []
    },
    "463644c556404cb890e13f39f75f01fe": {
     "views": []
    },
    "46c170ff414f47758b10ca6a8c8ba404": {
     "views": []
    },
    "47224449ddd648ecab9bafe21ba6f6d5": {
     "views": []
    },
    "47367d1b337b4113bee3dfcb1b04f011": {
     "views": []
    },
    "478ed8a3febf439d88206005e30d25ca": {
     "views": []
    },
    "47f91fa31cdc42ebaf22727ef4901c4e": {
     "views": []
    },
    "4891411e1651430682f49fba06eebcd7": {
     "views": []
    },
    "48cf4c9cc295477e9617f603733f5c0d": {
     "views": []
    },
    "48e35aabcb624ffb8876ea60ae707315": {
     "views": []
    },
    "492ed1ef822245ca801e17f3fa10235a": {
     "views": []
    },
    "4a9a8a0d3fb04727b7f4257a936e52a3": {
     "views": []
    },
    "4b408fef0d9043a9b05caa958390abaa": {
     "views": []
    },
    "4ba1c3ba1b1d4b6d9c8c73e6e3b8e8ec": {
     "views": []
    },
    "4e018b349cc14a5b81e5a8b337fe2b58": {
     "views": []
    },
    "4e269d7d0bca4f1a96c73d4eed60a3c9": {
     "views": []
    },
    "4fb13605f4bd48a881824a4f656f5536": {
     "views": []
    },
    "5014c484d5a3483eb1f4823a12b28775": {
     "views": []
    },
    "50387a4e6dde4be8a1e116d6a451da15": {
     "views": []
    },
    "509c73e25f524855b837b938c5aa37f9": {
     "views": []
    },
    "512f5910bd5242b5bc89922e4a41755c": {
     "views": []
    },
    "51937a2386544bef9bc18d5d7571020c": {
     "views": []
    },
    "5343c056260c448a8d2ac820b950e541": {
     "views": []
    },
    "54306b29d00c4696bd0352d73bac49f8": {
     "views": []
    },
    "54ce68ceb4324718b1a1d1df08622d8a": {
     "views": []
    },
    "5639238ab2fd4ffdadeb75806fd72245": {
     "views": []
    },
    "5708f8ce7fd14821ad0ed16deec10f8b": {
     "views": []
    },
    "571e5fc8ba904ca0b279a8f0a44c0b89": {
     "views": []
    },
    "576f03b248d646a481eaa2e16df571e8": {
     "views": []
    },
    "57b5a868502e445fa466f86c445f49ec": {
     "views": []
    },
    "581f96efa26c4520b3d8622aa2d3977e": {
     "views": []
    },
    "582a2a8c24e142aba419eb7d92651357": {
     "views": []
    },
    "58ecc10784c841ebbeb2a1d20d7bbc72": {
     "views": []
    },
    "59dbf177c61a48f1b1e6bf1b1ac6a0fb": {
     "views": []
    },
    "5b96a913092a403c943aa236bb64b084": {
     "views": []
    },
    "5cee98d3f4374803be2f661a6fb8acc2": {
     "views": []
    },
    "5d8ade7cac1249ca88a1fc4800f24d96": {
     "views": []
    },
    "5dc702039c4f473fba01050b878804e4": {
     "views": []
    },
    "5f54bfa5661a438682ae337535f15b3d": {
     "views": []
    },
    "5f87a5d468f54965a61408637bca2801": {
     "views": []
    },
    "607bf7dff8f943658bbe6cb638d028a7": {
     "views": []
    },
    "6101db8cec6145919da660c85a174094": {
     "views": []
    },
    "61c1df7a7c764f47ad760e16163bbc8c": {
     "views": []
    },
    "626481ae98d24fec9c4f53ed0551454c": {
     "views": []
    },
    "6272872fe0e74fab840d101b351a99bf": {
     "views": []
    },
    "627e1f59608d451597df0f9e3bb3a7ae": {
     "views": []
    },
    "62f497a77d0044299c67b2ec021aca4c": {
     "views": []
    },
    "63210fdc01b74b479122ec57e376f54d": {
     "views": []
    },
    "638cbe5aa5d44d7588caab5e61e68273": {
     "views": []
    },
    "64fdf8a4a87e4ef59ec97bb0b89bfbf0": {
     "views": []
    },
    "651fdcd86bca4cf686107788fb9a907d": {
     "views": []
    },
    "65e48ef642ef40c08ac3e176e809bbf8": {
     "views": []
    },
    "67d3c411c32944ec97f09f1e6ca729bb": {
     "views": []
    },
    "67db9bf953c84582a85e826139d0082e": {
     "views": []
    },
    "6a6bf811555045e9bf021c066f12e350": {
     "views": []
    },
    "6a872aa2d15b4a27817695a1ea43d0ad": {
     "views": []
    },
    "6aafd8baed9546c687afb514f0e40f0f": {
     "views": []
    },
    "6b8aece4c2f24858af052b07759e01d4": {
     "views": []
    },
    "6b8b4dd0ef9446a6b6b322f0583f9d6d": {
     "views": []
    },
    "6b972a0f2fe442e3b3a7803f2a5937f6": {
     "views": []
    },
    "6c1a42d104c54a729cc64e00f0fd3ab3": {
     "views": []
    },
    "6c96ea39f5714c1d8691434943749ec2": {
     "views": []
    },
    "6cb2076407d141d087f8872ec5cdf3e1": {
     "views": [
      {
       "cell_index": 44
      }
     ]
    },
    "6e1c6f291871439fb4a054105c62b816": {
     "views": []
    },
    "6f704eaa73b0447e9fa499e3d861d5c0": {
     "views": []
    },
    "6f7b6176fc5b4571a322884a99fd1ef8": {
     "views": []
    },
    "710854bc2c7949a99f8ec5d2bf371ef8": {
     "views": []
    },
    "7130da7aab7946329a425eb1df756b43": {
     "views": []
    },
    "7161cd2735f84334be521a2d529468ea": {
     "views": []
    },
    "71bde4f9231043ab8d6182a01eb418ab": {
     "views": []
    },
    "72c7829a7b864fa88356460fb51c6e93": {
     "views": []
    },
    "72f096a000084231aab95e077950f360": {
     "views": []
    },
    "75466fddf90c4d76a20b0f230d85607e": {
     "views": []
    },
    "7737f11119fd4e1396bf53052438c66e": {
     "views": []
    },
    "7741674db3934e16be4787404a2bceb2": {
     "views": []
    },
    "775a6cea610b4da28e4a3577f5121277": {
     "views": []
    },
    "77fde8c804974efe982d59913f6ff78a": {
     "views": []
    },
    "785672ca57b04bbbad4d6d0bce3f2a66": {
     "views": []
    },
    "799226f0e86c4321a32b014b53d0cb0b": {
     "views": []
    },
    "7a562f70e11e44f9a2b1d8156c1ed872": {
     "views": []
    },
    "7abbeadf7ca04520a7a3e384ca22894a": {
     "views": []
    },
    "7b260152d09d4f1eac40db4435a71d71": {
     "views": []
    },
    "7bc29e7027e04ff59fd1817cc57bd3b6": {
     "views": []
    },
    "7cabf983ce2e475ab1c1a5580ebd13bc": {
     "views": []
    },
    "7d783d9e26394887912911263afaa091": {
     "views": []
    },
    "7d98dc8796e94f08b7238a3623525efc": {
     "views": []
    },
    "7dc4ec98361e4145899352c52083b0f1": {
     "views": []
    },
    "7ddf1bf89dac4df3a9bfe433498e5d6d": {
     "views": []
    },
    "7e8f54f5589c4e60993f388a44f0e799": {
     "views": []
    },
    "822d6b8659f44b42a50d42dae211ae1d": {
     "views": []
    },
    "82406a972dfc48d4b67574e1d6ffca3c": {
     "views": []
    },
    "82563106824a4b0f80fef5204d1c979f": {
     "views": []
    },
    "831dbd69506345419f301caab8d2dee1": {
     "views": []
    },
    "8443a3d2ff4944c38ef6d4871d9a9032": {
     "views": []
    },
    "8483b30a185944d992b250020791ce07": {
     "views": []
    },
    "8653627fc5744c8b885f0bfab07cb04d": {
     "views": []
    },
    "8675a73e35ce4e25a675b1bd6015ef2b": {
     "views": []
    },
    "86bfc622c6614fb0b077ace115ea3fa7": {
     "views": []
    },
    "8762372d26104cadba1604494f779787": {
     "views": []
    },
    "877c9f129bdf4bc5a9b899821a0628c8": {
     "views": []
    },
    "87a5676004434fbf91de58f59929b1e9": {
     "views": []
    },
    "8896f2b1da364b648e83a93fa6fe7324": {
     "views": []
    },
    "891513dbe18c48f09ccfa5de178df5b2": {
     "views": []
    },
    "89f3da303eb24434afa6847f126f83df": {
     "views": []
    },
    "8a91b663ca034a398df27a602a30090a": {
     "views": []
    },
    "8d04bc0272df42609dde5383e306b0af": {
     "views": []
    },
    "8d75cd1bca4f4caa852bfe86e30f3b43": {
     "views": []
    },
    "8de9d9e1660f4e169ed13c90e7251053": {
     "views": []
    },
    "8ea6253925714be3ab7f7ab64267cfba": {
     "views": []
    },
    "8f287d5f81d3413fa7d4a6e6b9a64084": {
     "views": []
    },
    "8fd8d3febee14f38b21a1c0da8e64069": {
     "views": []
    },
    "8fed960d1625445e844820ebf95c38ed": {
     "views": []
    },
    "90e556cd39d14a2496c1315d3b80d26b": {
     "views": []
    },
    "91d2aeaf8a954363baa12bca8ce08645": {
     "views": []
    },
    "92093191608a47d7bf0f8ea72c7948f6": {
     "views": []
    },
    "93134205262e4d3dbbfad6b87f65459a": {
     "views": []
    },
    "93285c72d5b649e5aa207ab3e17aef39": {
     "views": []
    },
    "9498dc1ce8c94ae1a8d6f7ceba61b5c0": {
     "views": []
    },
    "9515b38814a14b6fac482fe705377826": {
     "views": []
    },
    "9535f59d0a1b4057bf1a5f6f54d85ccd": {
     "views": []
    },
    "9564b5545bf24decbb1a4410e1c2afc4": {
     "views": []
    },
    "95bad4ed2b9b4dcdb792f11a9050de08": {
     "views": []
    },
    "963b80095bfc41f59e697dbc6d7f376c": {
     "views": []
    },
    "965c01c414944ff99e1302073ae80fed": {
     "views": []
    },
    "97296c9716d64118856c18f5236e289e": {
     "views": []
    },
    "97e43abd1e0a4fa0b6342d82a03bde5b": {
     "views": []
    },
    "97ef7f47b4ac433fb6bffa27cde3ae7f": {
     "views": []
    },
    "986560e71b6d42d9bb80c7d5876bfcf9": {
     "views": []
    },
    "9a8bc0b5c84a427db3d903c39c094396": {
     "views": []
    },
    "9ae1e5d80afd4c809c19d7d077f6e1d2": {
     "views": []
    },
    "9bbecf7d53654ede9764bca1a5134344": {
     "views": []
    },
    "9caf38c5bf0f4cb18ee2bf6354857525": {
     "views": []
    },
    "9d2211c30fdf453b84a4d468bdacffef": {
     "views": []
    },
    "a00acac3ee54406296fbce85b472c85a": {
     "views": []
    },
    "a11fa29dcd874bfe87d262a2600f62aa": {
     "views": []
    },
    "a124b142d8134530b020f5dcc1949cff": {
     "views": []
    },
    "a33e1ccd9fb7405db4805003a05ac234": {
     "views": []
    },
    "a33fa0a42a604c5abbf6c55f0b2910b5": {
     "views": []
    },
    "a34e99d95682424596dd829345df5b51": {
     "views": []
    },
    "a3bbc2fb0af742088153ed412cdc7c7d": {
     "views": []
    },
    "a4d77515dc0e4683b0cb168cacdea91e": {
     "views": []
    },
    "a5941590f11d4078b4df3f5c40fa2e44": {
     "views": []
    },
    "a5a630f05f9f4a79a78430be95a0cbcd": {
     "views": []
    },
    "a7350e46469a4354977b9deb8b101140": {
     "views": []
    },
    "a7789492374e4a769d02a76bf055c2a5": {
     "views": []
    },
    "a787853b719a4a38b91dbeda75223c1e": {
     "views": []
    },
    "a789e1d6611a484fa509b53bea3271ed": {
     "views": []
    },
    "a84d4320cfe34b17805757c3e990ac48": {
     "views": []
    },
    "a92e75904f5d44a09af947796e52d0ed": {
     "views": []
    },
    "a93e282c86d24cf284e684d59017e72b": {
     "views": []
    },
    "a97313ceb5c74ed29816e49c480caf64": {
     "views": []
    },
    "aa4e22712b084ec182cc4ad47508452d": {
     "views": []
    },
    "aa51522b31064b24958267663072a66f": {
     "views": []
    },
    "ab1916f13c0948b3b31b0ad96736aa5d": {
     "views": []
    },
    "abe4f0746e6143ada30eaeb0f064e6ee": {
     "views": []
    },
    "acc1ec823838433992b67185ec799bff": {
     "views": []
    },
    "ace47bb057ba438f91fa82c8eadc2fd4": {
     "views": []
    },
    "ae3b0a82e56e40e085d581d71f76fc35": {
     "views": []
    },
    "aeb5a64b94eb41df804cab59d2f8182a": {
     "views": []
    },
    "af3b8f74db184f4c9c132b99d1f571a6": {
     "views": []
    },
    "b156731bda14407f8b48c79b7c27509b": {
     "views": []
    },
    "b1c9b1fa1daa45229b4c6a77a5f4b982": {
     "views": []
    },
    "b241a8d9581c47c5b5e94ae2248add00": {
     "views": []
    },
    "b29e59d4a48845ddb7723b72be54e605": {
     "views": [
      {
       "cell_index": 43
      }
     ]
    },
    "b2bab61bd10741c2a958309e82908ec5": {
     "views": []
    },
    "b4842cbc769642ceb42776e1d205b8ce": {
     "views": []
    },
    "b4f8fcd102f14fffb02555224e2707ae": {
     "views": []
    },
    "b533f5d077f74e9d8655b2400850223d": {
     "views": []
    },
    "b5d352aaa39549ba8d446d4a1af2d683": {
     "views": []
    },
    "b6021626d30b44688f6cdbbbc0d7339b": {
     "views": []
    },
    "b6106e2ba4ef4154ad7ebb494ad10641": {
     "views": []
    },
    "b698a49cbf484648a0571fe20c028363": {
     "views": []
    },
    "b6eb8d5c45b046ac8241570dd19613f7": {
     "views": []
    },
    "b76d4b77c4a84c968e6b7f94ecd57aaf": {
     "views": []
    },
    "b88b3eb691114b4f8c2fd47c37db62e3": {
     "views": []
    },
    "b8f2ef642d4045ffafc7b52f6570d849": {
     "views": []
    },
    "bb3c1299ed554bc5b521eb00583a1f4a": {
     "views": []
    },
    "bcbb9625c2f94d4b8e11c3ab1b2d05cc": {
     "views": []
    },
    "bd9fb9b636c5468b9e08c8f9005bfefc": {
     "views": []
    },
    "be0057e9372c45118a77d35e02c669f2": {
     "views": []
    },
    "be0b8f8245cd45d0b6a8a9f500ac4bc5": {
     "views": []
    },
    "be22c2e08ac34686a3221ed168876366": {
     "views": []
    },
    "bf18ebcf42664afa85d6325d39512d2c": {
     "views": []
    },
    "bfd839e767994e8cb7a0291a035d6544": {
     "views": []
    },
    "c1082bd2ab954ea1be622cc3ed07fa5a": {
     "views": []
    },
    "c1b779f5d29d4968a875bf2f35689d8c": {
     "views": []
    },
    "c1f76e53ed3340df825d1961041a5b95": {
     "views": []
    },
    "c3610306134149a2b6bce919d482c5be": {
     "views": []
    },
    "c4302958ec5b4181833434b04fa9f7a5": {
     "views": []
    },
    "c484b9d7c76342788caba336abd7473d": {
     "views": []
    },
    "c4f6b1af0e0a478ca0eae595f378b01b": {
     "views": []
    },
    "c7512d8c7270418194400636f8769d8e": {
     "views": []
    },
    "c813c25f2c834dbd9bed8be753c692bf": {
     "views": []
    },
    "c88203f6b49d41bd9b8c97ca6ce3859f": {
     "views": []
    },
    "c8e4f7a94dc2466791169e2604621d74": {
     "views": []
    },
    "cacff4ebf31e414690b507428febf8d6": {
     "views": []
    },
    "caf4a651350142b78276c338b1a6a9d1": {
     "views": []
    },
    "cb3f431cbfb74d28b84df03ec873c66c": {
     "views": []
    },
    "cb9a20268440494c85990a1d186f80ea": {
     "views": []
    },
    "cbbc89975ad442c499faec3460977339": {
     "views": []
    },
    "cbc7b6234d924bf2ad066dceebe56f5f": {
     "views": []
    },
    "cc85b7fe5fe64bcc8f6c6013e9d3ffee": {
     "views": []
    },
    "cd1018485e534ab2a62f36c0c07dbd1b": {
     "views": []
    },
    "cda6bef83f0b4b258e199ed54afad9d0": {
     "views": []
    },
    "ce78a365aca041c793dc0e8c6c0f0260": {
     "views": []
    },
    "cebdec32e52a435bbbbd4e5baae440df": {
     "views": []
    },
    "ceeea2b545464ac4a3bd509984a45143": {
     "views": []
    },
    "cf0ebd6d36b04878a6b4b50618b718f9": {
     "views": []
    },
    "cf9a18c6ca474760a59c52c52d8a6985": {
     "views": []
    },
    "d0886e0a27fe4ec79c95076ccd589186": {
     "views": []
    },
    "d0d3b94b60a541c8979d63aaa7e0c3b5": {
     "views": []
    },
    "d1a91594f1bf401387efe09e9c88aecb": {
     "views": []
    },
    "d1dfa886816949c3aeefb316033f7822": {
     "views": []
    },
    "d2280ff1d3b94003ab0e5a8214a8dce1": {
     "views": []
    },
    "d23db2e6a1904686842b521709bec416": {
     "views": []
    },
    "d36adb61e9734ebfa55684119177b9cc": {
     "views": []
    },
    "d37ede9465d945158e6160fc53c0367d": {
     "views": []
    },
    "d3ce8a32fba14c3d9dd57707b8582a26": {
     "views": []
    },
    "d3ea419040c4408cba2a714ccb17f117": {
     "views": []
    },
    "d45ab917fb574f1fac7d5be13becd0fe": {
     "views": []
    },
    "d55d863d8aef4f6ba718c16888605522": {
     "views": []
    },
    "d67bad79e3614e1eaaa79e2fa625ddc1": {
     "views": []
    },
    "d6a081f839844825babc17680eb84e84": {
     "views": []
    },
    "d6e1d0c9e6b2483ca99a22a104bf9820": {
     "views": []
    },
    "d853c06f492442dfac55cda7d4d871d9": {
     "views": []
    },
    "d864e80902774519886bea439d4cf12e": {
     "views": []
    },
    "d89efca3014345d79ed075be203f1292": {
     "views": []
    },
    "d9166285b0a34b34a3a3fa3b8d2d290d": {
     "views": []
    },
    "d948fa38bc7840b4be0c860b1b7ef31b": {
     "views": []
    },
    "d949d7659b4641f582c53c162a3ac34b": {
     "views": []
    },
    "d9bf5c4e07034c229cfe541811ac27a7": {
     "views": []
    },
    "db3b65797f254fd299f115e7b32e7308": {
     "views": []
    },
    "dbfd23e73317497ba21a57a56b9a6f5f": {
     "views": []
    },
    "dd62c7dd546b47d490a7356863cd8dd6": {
     "views": []
    },
    "df4134a77dfd4b9ba04afa28ca4c8119": {
     "views": []
    },
    "df4a6d5abc354f9dbfe73e92e9c492d7": {
     "views": []
    },
    "dfb0f0e89e0d47849957d13e74563af2": {
     "views": []
    },
    "e0b2ef3879344c83a26078ad43794a5a": {
     "views": []
    },
    "e50d5306c93f494d85783dd579039ae5": {
     "views": []
    },
    "e52e0d80aba8428cb25f93cbea9cd9a5": {
     "views": []
    },
    "e5a30ac4fc3043578b6e9c3a203b4df0": {
     "views": []
    },
    "e5ec525d716e413a89b12d58e9e563e2": {
     "views": []
    },
    "e6303e267308475ca5839e750f31bd02": {
     "views": []
    },
    "e6420cb9d7d44359af832c40dc605ad3": {
     "views": []
    },
    "e768aa94198c4031b30bfad2d3ba4f41": {
     "views": []
    },
    "e783060b8f6644fa8e573271acda591e": {
     "views": []
    },
    "e865491e801f4c8d960c2c78d15e7cb9": {
     "views": []
    },
    "e904649e87fa428a866cf2127e4f98c3": {
     "views": []
    },
    "e925c1426f1e48a6932e5c625719b124": {
     "views": []
    },
    "e9d1c46cba244acfb172a463c6ab626b": {
     "views": []
    },
    "e9eb71e60d784e72b089d83a1805b9a9": {
     "views": []
    },
    "ea2fdfa84f2a4f89a14c257bb3d2c10e": {
     "views": []
    },
    "ea67da98195c442a9f1688a55ce36ec7": {
     "views": []
    },
    "ea6cece29ffb43c69fd84649c6f769b3": {
     "views": []
    },
    "eb0b27f0c4594354b51a35ff6dffa86e": {
     "views": []
    },
    "eb506cf9243b4528b8fdd16aa9b508f4": {
     "views": []
    },
    "eb78e8755a204711b2b8b1e39706fc00": {
     "views": []
    },
    "ebb1ba42c9f140b58c364f6f935f95cf": {
     "views": []
    },
    "ec6f498e0d8c4c5fac1d85c8773c3f34": {
     "views": []
    },
    "ecb73e3276c64d4fbd9f580b90b0bd8c": {
     "views": []
    },
    "ecd08bac9f6341c1ad494f23cbcdef95": {
     "views": []
    },
    "ee29891c59bf4e8ba815c35e0762755e": {
     "views": []
    },
    "efa11dd053e642bb9bb8f255962c1221": {
     "views": []
    },
    "efc468b8e0d84905a631d92b3a84e5a8": {
     "views": []
    },
    "f021e3ed4b88490698366e69a7f1e1f0": {
     "views": []
    },
    "f0330ed1e14b487c9ca1ed7048d91ac4": {
     "views": []
    },
    "f05f3f5f677f4ec6afedabf6b9d251fc": {
     "views": []
    },
    "f1b7f4ec6cb54245aa58dda8ea0ca8ea": {
     "views": []
    },
    "f3738910274643e0b50f1d9419e34ad2": {
     "views": []
    },
    "f39e47e0ca7c4e0497c73d499a0690c5": {
     "views": []
    },
    "f40f62d3f13b40c4b9538df7906b93b0": {
     "views": []
    },
    "f416d1658cf046ba8e20f025b7ad30ed": {
     "views": []
    },
    "f42f225359b24de583e798f94dab0c20": {
     "views": []
    },
    "f4de6f9b84984749a23ccfe6dcc9cc74": {
     "views": []
    },
    "f6166f7c73e044e789041542a35e9b15": {
     "views": []
    },
    "f6c5a111dbe54872b3ec019c76290423": {
     "views": []
    },
    "f7d8830ed5a84579b8b511490d506d93": {
     "views": []
    },
    "f836e16f1e964c60b58a2a3c2d58cb05": {
     "views": []
    },
    "f8d12698022447928f570a5dcad03370": {
     "views": []
    },
    "f98c0fd474934a028eb471c1366b26c1": {
     "views": []
    },
    "fa1fe1d83dea4490a4783efa661a90ca": {
     "views": []
    },
    "fa8bb45948b24be2b98f32134320f381": {
     "views": []
    },
    "fb0398766d354daba2ec441381f48c01": {
     "views": []
    },
    "fbfa9f0e68a542d1bcbbc85d63bde96c": {
     "views": []
    },
    "fc6535a5f9cf4ef1a230be6c1a9ccfaa": {
     "views": []
    },
    "fd86cc1d67744ce3b84f335f2d653bde": {
     "views": []
    },
    "fecd521d583d4ad5b6ef688e313e8235": {
     "views": []
    }
   },
   "version": "1.1.2"
  }
 },
 "nbformat": 4,
 "nbformat_minor": 0
}
