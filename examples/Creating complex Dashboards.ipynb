{
 "cells": [
  {
   "cell_type": "code",
   "execution_count": 1,
   "metadata": {
    "collapsed": false
   },
   "outputs": [
    {
     "data": {
      "text/html": [
       "<style>\n",
       ".container { width:100% !important; }\n",
       ".input{ width:60% !important;\n",
       "       align: center;\n",
       "      }\n",
       ".text_cell{ width:70% !important;\n",
       "            font-size: 16px;}\n",
       ".title {align:center !important;}\n",
       "</style>"
      ],
      "text/plain": [
       "<IPython.core.display.HTML object>"
      ]
     },
     "metadata": {},
     "output_type": "display_data"
    }
   ],
   "source": [
    "%%HTML\n",
    "<style>\n",
    ".container { width:100% !important; }\n",
    ".input{ width:60% !important;\n",
    "       align: center;\n",
    "      }\n",
    ".text_cell{ width:70% !important;\n",
    "            font-size: 16px;}\n",
    ".title {align:center !important;}\n",
    "</style>"
   ]
  },
  {
   "cell_type": "markdown",
   "metadata": {},
   "source": [
    "# Creating complex Dashboards"
   ]
  },
  {
   "cell_type": "markdown",
   "metadata": {},
   "source": [
    "<a id='index'></a>"
   ]
  },
  {
   "cell_type": "markdown",
   "metadata": {},
   "source": [
    "## Index"
   ]
  },
  {
   "cell_type": "markdown",
   "metadata": {},
   "source": [
    "- [1 Introduction](#intro)\n",
    "- [2 Defining the Dashboard parameters](#parameters)\n",
    "- [3 Dashboard layout & inizialization](#dash_and_init)\n",
    "    - [3.1 Layout with custom defaults](#custom_defaults)\n",
    "    - [3.2 ArrayScaler init function](#init)\n",
    "- [4 Scaler functionality](#functionality)\n",
    "- [5 Plotting the ArraySlicer output](#plot)  \n",
    "    - [5.1 Layered approach](#layered)\n",
    "    - [5.2 Single Dashboard approach](#single)"
   ]
  },
  {
   "cell_type": "markdown",
   "metadata": {},
   "source": [
    "<a id='introduction'></a>"
   ]
  },
  {
   "cell_type": "markdown",
   "metadata": {},
   "source": [
    "# 1 Introduction"
   ]
  },
  {
   "cell_type": "markdown",
   "metadata": {},
   "source": [
    "In this tutorial we will show how it is possible to create complex dashboards for data analysis by inheriting from the Dashboard class. We will build a data scaler that will interact with a matplotlib plot to show how the data is modified.\n",
    "\n",
    "The Dashboard that we are going to build has the following capabilities:\n",
    "- Apply an arbitrary function to a numpy array selected fom a dict of available functions.\n",
    "- Scale the data into an arbitrary range. This scaling will be optional and the data will be scaled before applying the selected function.\n",
    "- Show how the data is being modified in real time."
   ]
  },
  {
   "cell_type": "markdown",
   "metadata": {},
   "source": [
    "<a id='parameters'></a>"
   ]
  },
  {
   "cell_type": "markdown",
   "metadata": {},
   "source": [
    "# 2 Defining the Dashboard parameters"
   ]
  },
  {
   "cell_type": "markdown",
   "metadata": {},
   "source": [
    "[Back to top](#index)"
   ]
  },
  {
   "cell_type": "markdown",
   "metadata": {},
   "source": [
    "Our Dashboard will have the following parameters:\n",
    "- **funcs**: A dictionary of available functions that the scaler can apply to the data. \n",
    "- **min**: minimum value for the scaling.\n",
    "- **max**: maximum value fot the scaling.\n",
    "- **step**: step parameter fot the scaler slider.\n",
    "- **low**: initial lower bound for the scaling.\n",
    "- **high**: initial higher bound for the scaling.\n",
    "- **kwargs**: keyword arguments for the Dashboard.__init__ function like name, mode..."
   ]
  },
  {
   "cell_type": "markdown",
   "metadata": {},
   "source": [
    "We will also define a nice set of initial parameters just in case we want to paly later with it without worrying about inizialization."
   ]
  },
  {
   "cell_type": "code",
   "execution_count": 5,
   "metadata": {
    "collapsed": false
   },
   "outputs": [],
   "source": [
    "from IPython.display import Image #this is for displaying the widgets in the web version of the notebook\n",
    "import numpy as np\n",
    "from shaolin.core.dashboard import Dashboard\n",
    "class ArrayScaler(Dashboard):\n",
    "    \n",
    "    def __init__(self,\n",
    "                 data,\n",
    "                 funcs=None,\n",
    "                 min=-100.,\n",
    "                 max=100.,\n",
    "                 step=None,\n",
    "                 low=None,\n",
    "                 high=None,\n",
    "                 **kwargs):\n",
    "        if funcs is None:\n",
    "            self.funcs = {'raw':lambda x: x,\n",
    "                          'zscore': lambda x: (x-np.mean(x))/np.std(x),\n",
    "                          'log': np.log,\n",
    "                          'rank':lambda x: pd.DataFrame(x).rank().values.flatten(),\n",
    "                          'abs': np.abs\n",
    "                         }\n",
    "        else:\n",
    "            self.funcs  = funcs\n",
    "        self._data = data\n",
    "        if min is None:\n",
    "            min = self._data.min().values[0]\n",
    "        if max is None:\n",
    "            max = self._data.max().values[0]\n",
    "        if step is None:\n",
    "            step = (max-min)/100.\n",
    "        if low is None:\n",
    "            low = min\n",
    "        if high is None:\n",
    "            high = max"
   ]
  },
  {
   "cell_type": "markdown",
   "metadata": {},
   "source": [
    "<a id='dash_and_init'></a>"
   ]
  },
  {
   "cell_type": "markdown",
   "metadata": {},
   "source": [
    "# 3 Dashboard layout & inizialization"
   ]
  },
  {
   "cell_type": "markdown",
   "metadata": {},
   "source": [
    "[Back to top](#index)"
   ]
  },
  {
   "cell_type": "markdown",
   "metadata": {},
   "source": [
    "<a id='custom_defaults'></a>"
   ]
  },
  {
   "cell_type": "markdown",
   "metadata": {},
   "source": [
    "## 3.1 Layout with custom defaults"
   ]
  },
  {
   "cell_type": "markdown",
   "metadata": {},
   "source": [
    "In this case we are going to use the same layout shown in the first Dasboard tutorial, but instead of hardcoding its component default values we will use the parameters of the former section. This way when we create an instance of an ArrayScaler we wont have to worry a obout its interface internals. "
   ]
  },
  {
   "cell_type": "code",
   "execution_count": null,
   "metadata": {
    "collapsed": true
   },
   "outputs": [],
   "source": [
    "dash = ['c$N=df_scaler',\n",
    "        ['@('+str(min)+', '+str(max)+', '+str(step)+', ('+str(low)+', '+str(high)+'))$N=scale_slider&d=Scale',\n",
    "         ['r$N=main_row',['@dd$d=Apply&N=dd_sel&val=raw&o='+str(list(self.funcs.keys())),\n",
    "                          '@False$N=scale_chk&d=Scale']],\n",
    "         ['html$N=plot']\n",
    "        ]\n",
    "       ]"
   ]
  },
  {
   "cell_type": "markdown",
   "metadata": {},
   "source": [
    "<a id='init'></a>"
   ]
  },
  {
   "cell_type": "markdown",
   "metadata": {},
   "source": [
    "## 3.2 ArrayScaler init function"
   ]
  },
  {
   "cell_type": "markdown",
   "metadata": {},
   "source": [
    "[Back to top](#index)"
   ]
  },
  {
   "cell_type": "markdown",
   "metadata": {},
   "source": [
    "Now we have defined the layout and parameters we can call the Dashboard.init function. Afther that we only have to bind the update function to achieve interactivity. We will also call the init function with the custom layout that we created in the former example. \n",
    "\n",
    "The data attribute has an underscore because later we are going to define the  as a property, so it the widget can be updated every time it changes its data.  "
   ]
  },
  {
   "cell_type": "code",
   "execution_count": 6,
   "metadata": {
    "collapsed": true
   },
   "outputs": [],
   "source": [
    "class ArrayScaler(Dashboard):\n",
    "    \n",
    "    def __init__(self,\n",
    "                 data,\n",
    "                 funcs=None,\n",
    "                 min=-100.,\n",
    "                 max=100.,\n",
    "                 step=None,\n",
    "                 low=None,\n",
    "                 high=None,\n",
    "                 **kwargs):\n",
    "        if funcs is None:\n",
    "            self.funcs = {'raw':lambda x: x,\n",
    "                          'zscore': lambda x: (x-np.mean(x))/np.std(x),\n",
    "                          'log': np.log,\n",
    "                          'rank':lambda x: pd.DataFrame(x).rank().values.flatten(),\n",
    "                          'abs': np.abs\n",
    "                         }\n",
    "        else:\n",
    "            self.funcs  = funcs\n",
    "        self._data = data\n",
    "        if min is None:\n",
    "            min = self._data.min().values[0]\n",
    "        if max is None:\n",
    "            max = self._data.max().values[0]\n",
    "        if step is None:\n",
    "            step = (max-min)/100.\n",
    "        if low is None:\n",
    "            low = min\n",
    "        if high is None:\n",
    "            high = max\n",
    "        \n",
    "        dash = ['c$N=array_scaler',\n",
    "                ['@('+str(min)+', '+str(max)+', '+str(step)+', ('+str(low)+', '+str(high)+'))$N=scale_slider&d=Scale',\n",
    "                 ['r$N=main_row',['@dd$d=Apply&N=dd_sel&val=raw&o='+str(list(self.funcs.keys())),'@False$N=scale_chk&d=Scale']],\n",
    "                ]\n",
    "               ]\n",
    "        Dashboard.__init__(self, dash, mode='interactive',state='array_scaler.pkl', **kwargs)\n",
    "        #self.observe(self.update)\n",
    "        #self.update()"
   ]
  },
  {
   "cell_type": "markdown",
   "metadata": {},
   "source": [
    "Thsi is how our graphic interface wil look"
   ]
  },
  {
   "cell_type": "code",
   "execution_count": 7,
   "metadata": {
    "collapsed": false
   },
   "outputs": [
    {
     "data": {
      "image/png": "[encoded data removed]",
      "text/plain": [
       "<IPython.core.display.Image object>"
      ]
     },
     "execution_count": 7,
     "metadata": {},
     "output_type": "execute_result"
    }
   ],
   "source": [
    "data = np.random.normal(size=(20))\n",
    "asc = ArrayScaler(data)\n",
    "#asc.widget\n",
    "Image(filename='complex_dashboards_data/img_1.png')"
   ]
  },
  {
   "cell_type": "markdown",
   "metadata": {},
   "source": [
    "<a id='functionality'></a>"
   ]
  },
  {
   "cell_type": "markdown",
   "metadata": {},
   "source": [
    "# 4 Scaler functionality"
   ]
  },
  {
   "cell_type": "markdown",
   "metadata": {},
   "source": [
    "[Back to top](#index)"
   ]
  },
  {
   "cell_type": "markdown",
   "metadata": {},
   "source": [
    "Now its time to define the data wrangling capabilities of our Dashboard. Our ArrayScaler will have a function for scaling the data and an update function, that will calculate its output and will be called every time an interactive component changes its value."
   ]
  },
  {
   "cell_type": "code",
   "execution_count": 8,
   "metadata": {
    "collapsed": true
   },
   "outputs": [],
   "source": [
    "def scale_func(self, data):\n",
    "    Ma = np.max(data)\n",
    "    mi = np.min(data)\n",
    "    score = ((data-mi)/(Ma-mi))#to 0-1 interval\n",
    "    if mi == Ma:\n",
    "           return np.ones(len(score)) *0.5\n",
    "    scale_h = self.scale_slider.value[1]\n",
    "    scale_l = self.scale_slider.value[0]\n",
    "    return score*(scale_h-scale_l)+scale_l"
   ]
  },
  {
   "cell_type": "markdown",
   "metadata": {},
   "source": [
    "The undercored parameter of the update function is the *change* value os the observe function. As it will be rarely used I just define it like this, so it's possible to call the update function both as an observe call or as standalone function."
   ]
  },
  {
   "cell_type": "code",
   "execution_count": 9,
   "metadata": {
    "collapsed": true
   },
   "outputs": [],
   "source": [
    "def update(self, _=None):\n",
    "    if self.scale_chk.value:\n",
    "        self.scale_slider.visible = True\n",
    "        self.output = self.funcs[self.dd_sel.value](self.scale_func(self._data))\n",
    "    else:\n",
    "        self.scale_slider.visible = False\n",
    "        self.output = self.funcs[self.dd_sel.value](self._data)"
   ]
  },
  {
   "cell_type": "markdown",
   "metadata": {},
   "source": [
    "Now we have everything we need to modify the data. We will set the default mode of this Dashboard and then we have our ArrayScaler finished."
   ]
  },
  {
   "cell_type": "code",
   "execution_count": 10,
   "metadata": {
    "collapsed": false
   },
   "outputs": [],
   "source": [
    "class ArrayScaler(Dashboard):\n",
    "    \n",
    "    def __init__(self,\n",
    "                 data,\n",
    "                 funcs=None,\n",
    "                 min=-100.,\n",
    "                 max=100.,\n",
    "                 step=None,\n",
    "                 low=None,\n",
    "                 high=None,\n",
    "                 mode='interactive',\n",
    "                 **kwargs):\n",
    "        if funcs is None:\n",
    "            self.funcs = {'raw':lambda x: x,\n",
    "                          'zscore': lambda x: (x-np.mean(x))/np.std(x),\n",
    "                          'log': np.log,\n",
    "                          'rank':lambda x: pd.DataFrame(x).rank().values.flatten(),\n",
    "                          'abs': np.abs\n",
    "                         }\n",
    "        else:\n",
    "            self.funcs  = funcs\n",
    "        self._data = data\n",
    "        if min is None:\n",
    "            min = self._data.min().values[0]\n",
    "        if max is None:\n",
    "            max = self._data.max().values[0]\n",
    "        if step is None:\n",
    "            step = (max-min)/100.\n",
    "        if low is None:\n",
    "            low = min\n",
    "        if high is None:\n",
    "            high = max\n",
    "        \n",
    "        dash = ['c$N=array_scaler',\n",
    "                ['@('+str(min)+', '+str(max)+', '+str(step)+', ('+str(low)+', '+str(high)+'))$N=scale_slider&d=Scale',\n",
    "                 ['r$N=main_row',['@dd$d=Apply&N=dd_sel&val=raw&o='+str(list(self.funcs.keys())),'@False$N=scale_chk&d=Scale']],\n",
    "                ]\n",
    "               ]\n",
    "        Dashboard.__init__(self, dash, state='array_scaler.pkl',mode=mode, **kwargs)\n",
    "        self.observe(self.update)\n",
    "        self.update()\n",
    "    \n",
    "    @property\n",
    "    def data(self):\n",
    "        return self._data\n",
    "\n",
    "    @data.setter\n",
    "    def data(self, val):\n",
    "        self._data = val\n",
    "        self.update()\n",
    "        \n",
    "    def scale_func(self, data):\n",
    "        Ma = np.max(data)\n",
    "        mi = np.min(data)\n",
    "        score = ((data-mi)/(Ma-mi))#to 0-1 interval\n",
    "        if mi == Ma:\n",
    "               return np.ones(len(score)) *0.5\n",
    "        scale_h = self.scale_slider.value[1]\n",
    "        scale_l = self.scale_slider.value[0]\n",
    "        return score*(scale_h-scale_l)+scale_l\n",
    "    \n",
    "    def update(self, _=None):\n",
    "        if self.scale_chk.value:\n",
    "            self.scale_slider.visible = True\n",
    "            self.output = self.funcs[self.dd_sel.value](self.scale_func(self._data))\n",
    "        else:\n",
    "            self.scale_slider.visible = False\n",
    "            self.output = self.funcs[self.dd_sel.value](self._data)"
   ]
  },
  {
   "cell_type": "code",
   "execution_count": 11,
   "metadata": {
    "collapsed": false
   },
   "outputs": [
    {
     "data": {
      "image/png": "[encoded data removed]",
      "text/plain": [
       "<IPython.core.display.Image object>"
      ]
     },
     "execution_count": 11,
     "metadata": {},
     "output_type": "execute_result"
    }
   ],
   "source": [
    "arrs = ArrayScaler(data)\n",
    "#arrs.widget\n",
    "Image(filename='complex_dashboards_data/img_3.png')"
   ]
  },
  {
   "cell_type": "markdown",
   "metadata": {},
   "source": [
    "<a id='plot'></a>"
   ]
  },
  {
   "cell_type": "markdown",
   "metadata": {},
   "source": [
    "# 5 Plotting the ArraySlicer output"
   ]
  },
  {
   "cell_type": "markdown",
   "metadata": {},
   "source": [
    "[Back to top](#index)"
   ]
  },
  {
   "cell_type": "markdown",
   "metadata": {},
   "source": [
    "<a id='layered'></a>"
   ]
  },
  {
   "cell_type": "markdown",
   "metadata": {},
   "source": [
    "## 5.1 Layered approach"
   ]
  },
  {
   "cell_type": "markdown",
   "metadata": {},
   "source": [
    "In order to see how we are modifying the data with our ArrayScaler we are going to build a Dashboard capable of displaying arbitrary matplotlib figures as an HTML widget created directly from the output of another Dashboard. "
   ]
  },
  {
   "cell_type": "code",
   "execution_count": 12,
   "metadata": {
    "collapsed": true
   },
   "outputs": [],
   "source": [
    "class MatplotlibPlot(Dashboard):\n",
    "    \n",
    "    def __init__(self, data_dashboard, plot_func,width=\"45em\", height=\"15em\", **kwargs):\n",
    "        self.plot_func = plot_func\n",
    "        self._target_name = data_dashboard.name\n",
    "        self._height = height\n",
    "        self._width = width\n",
    "        dashboard = ['c$N=mpl_plot',\n",
    "                     [data_dashboard,\n",
    "                      'html$N=plot'\n",
    "                     ]\n",
    "                    ]\n",
    "        Dashboard.__init__(self, dashboard, mode='interactive', **kwargs)\n",
    "        self.observe(self.update)\n",
    "        self.update()\n",
    "\n",
    "    def fig_to_html(self, fig, img_class=''):\n",
    "        \"\"\"This is a hack that converts a matplotlib like fig to an HTML image div\"\"\"\n",
    "        from io import BytesIO\n",
    "        import base64\n",
    "        import warnings\n",
    "        warnings.filterwarnings('ignore')\n",
    "        imgdata = BytesIO()\n",
    "        fig.savefig(imgdata, format='png',bbox_inches='tight',dpi=90, transparent=True)\n",
    "        imgdata.seek(0)  # rewind the data\n",
    "        svg_dta = imgdata.getvalue()\n",
    "        svg_image = Image(svg_dta)#\n",
    "        svg_b64 = base64.b64encode(svg_image.data).decode()\n",
    "        self.plot.widget.layout.width = self._width\n",
    "        self.plot.target.layout.width = \"100%\"\n",
    "        self.plot.widget.layout.height = self._height\n",
    "        self.plot.target.layout.height = \"100%\"\n",
    "        height = self.plot.target.layout.height\n",
    "        width = self.plot.target.layout.width\n",
    "        return '<img class=\"cmap '+img_class+'\" height=\"'+str(height)+'\" width=\"'\\\n",
    "                +str(width)+'\" src=\"data:image/png;base64,'+svg_b64+'\" />'\n",
    "    \n",
    "    def update(self, _=None):\n",
    "        fig, ax = self.plot_func(getattr(self,self._target_name).output)\n",
    "        plt.close(fig)\n",
    "        self.plot.value = self.fig_to_html(fig)"
   ]
  },
  {
   "cell_type": "markdown",
   "metadata": {},
   "source": [
    "This Dashboard is really usefull for quickly generalizing any matplotlib plot and adapt it to any kind of data processing, but we will pay the cost of flexibility by having a higher response time than if we write the plotting logic alongside the data processing code(I suppose this is due to the internal structure of the ipywidgets package/jupyter notebook or even mabe browser related, but I don't don't see how this limitation can be easily overcomed). Below this example I have wirtten the same logic as a single Dashboard so you can compare the performance issues. Any help regarthing this topic will be much appreciated, as this package aimg to be able to link hundreds of widgets at the same time. \n",
    "\n",
    "In both cases we have response times below 1 second, but in the layered approach the lag is notticeable. "
   ]
  },
  {
   "cell_type": "code",
   "execution_count": 13,
   "metadata": {
    "collapsed": false
   },
   "outputs": [],
   "source": [
    "import matplotlib.pyplot as plt\n",
    "from IPython.display import Image\n",
    "def plot(output):\n",
    "    fig, ax = plt.subplots(figsize=(10, 1))\n",
    "    plt.title('Output data')\n",
    "    ax.plot(output)\n",
    "    return fig, ax\n",
    "test = MatplotlibPlot(arrs, plot)"
   ]
  },
  {
   "cell_type": "code",
   "execution_count": 14,
   "metadata": {
    "collapsed": false
   },
   "outputs": [
    {
     "data": {
      "image/png": "[encoded data removed]",
      "text/plain": [
       "<IPython.core.display.Image object>"
      ]
     },
     "execution_count": 14,
     "metadata": {},
     "output_type": "execute_result"
    }
   ],
   "source": [
    "#test.widget\n",
    "Image(filename='complex_dashboards_data/img_2.png')"
   ]
  },
  {
   "cell_type": "markdown",
   "metadata": {},
   "source": [
    "<a id='single'></a>"
   ]
  },
  {
   "cell_type": "markdown",
   "metadata": {},
   "source": [
    "## 5.2 Single Dashboard approach"
   ]
  },
  {
   "cell_type": "markdown",
   "metadata": {},
   "source": [
    "[Back to top](#index)"
   ]
  },
  {
   "cell_type": "code",
   "execution_count": 15,
   "metadata": {
    "collapsed": true
   },
   "outputs": [],
   "source": [
    "\n",
    "class FullArrayScaler(Dashboard):\n",
    "    \n",
    "    def __init__(self,\n",
    "                 data,\n",
    "                 funcs=None,\n",
    "                 min=-100.,\n",
    "                 max=100.,\n",
    "                 step=None,\n",
    "                 low=None,\n",
    "                 high=None,\n",
    "                 **kwargs):\n",
    "        if funcs is None:\n",
    "            self.funcs = {'raw':lambda x: x,\n",
    "                          'zscore': lambda x: (x-np.mean(x))/np.std(x),\n",
    "                          'log': np.log,\n",
    "                          'rank':lambda x: pd.DataFrame(x).rank().values.flatten(),\n",
    "                          'abs': np.abs\n",
    "                         }\n",
    "        else:\n",
    "            self.funcs  = funcs\n",
    "        self._data = data\n",
    "        if min is None:\n",
    "            min = self._df.min().values[0]\n",
    "        if max is None:\n",
    "            max = self._df.max().values[0]\n",
    "        if step is None:\n",
    "            step = (max-min)/100.\n",
    "        if low is None:\n",
    "            low = min\n",
    "        if high is None:\n",
    "            high = max\n",
    "        \n",
    "        dash = ['c$N=df_scaler',\n",
    "                ['@('+str(min)+', '+str(max)+', '+str(step)+', ('+str(low)+', '+str(high)+'))$N=scale_slider&d=Scale',\n",
    "                 ['r$N=main_row',['@dd$d=Apply&N=dd_sel&val=raw&o='+str(list(self.funcs.keys())),'@False$N=scale_chk&d=Scale']],\n",
    "                 ['html$N=plot']\n",
    "                ]\n",
    "               ]\n",
    "        Dashboard.__init__(self, dash, mode='interactive', **kwargs)\n",
    "        self.observe(self.update)\n",
    "        self.update()\n",
    "    \n",
    "    @property\n",
    "    def data(self):\n",
    "        return self._data\n",
    "\n",
    "    @data.setter\n",
    "    def data(self, val):\n",
    "        self._data = val\n",
    "        self.update()\n",
    "    \n",
    "    def scale_func(self, data):\n",
    "        Ma = np.max(data)\n",
    "        mi = np.min(data)\n",
    "        score = ((data-mi)/(Ma-mi))#to 0-1 interval\n",
    "        if mi == Ma:\n",
    "               return np.ones(len(score)) *0.5\n",
    "        scale_h = self.scale_slider.value[1]\n",
    "        scale_l = self.scale_slider.value[0]\n",
    "        return score*(scale_h-scale_l)+scale_l \n",
    "    \n",
    "    def fig_to_html(self, fig, img_class=''):\n",
    "        \"\"\"This is a hack that converts a matplotlib like fig to an HTML image div\"\"\"\n",
    "        from io import BytesIO\n",
    "        import base64\n",
    "        import warnings\n",
    "        warnings.filterwarnings('ignore')\n",
    "        imgdata = BytesIO()\n",
    "        fig.savefig(imgdata, format='png',bbox_inches='tight',dpi=160, transparent=True)\n",
    "        imgdata.seek(0)  # rewind the data\n",
    "        svg_dta = imgdata.getvalue()\n",
    "        svg_image = Image(svg_dta)#\n",
    "        svg_b64 = base64.b64encode(svg_image.data).decode()\n",
    "        self.plot.widget.layout.width =\"45em\"\n",
    "        self.plot.target.layout.width = \"100%\"\n",
    "        self.plot.widget.layout.height = \"15em\"\n",
    "        self.plot.target.layout.height = \"100%\"\n",
    "        height = self.plot.target.layout.height\n",
    "        width = self.plot.target.layout.width\n",
    "        return '<img class=\"cmap '+img_class+'\" height=\"'+str(height)+'\" width=\"'\\\n",
    "                +str(width)+'\" src=\"data:image/png;base64,'+svg_b64+'\" />'\n",
    "    \n",
    "    def update(self, _=None):\n",
    "    \n",
    "        if self.scale_chk.value:\n",
    "            self.scale_slider.visible = True\n",
    "            self.output = self.funcs[self.dd_sel.value](self.scale_func(self._data))\n",
    "        else:\n",
    "            self.scale_slider.visible = False\n",
    "            self.output = self.funcs[self.dd_sel.value](self._data)\n",
    "        fig, ax = plt.subplots(figsize=(10, 1))\n",
    "        plt.title('Output data')\n",
    "        ax.plot(self.output)\n",
    "        plt.close(fig)\n",
    "        self.plot.value = self.fig_to_html(fig)"
   ]
  },
  {
   "cell_type": "code",
   "execution_count": 16,
   "metadata": {
    "collapsed": false
   },
   "outputs": [],
   "source": [
    "version2 = FullArrayScaler(data)"
   ]
  },
  {
   "cell_type": "code",
   "execution_count": 17,
   "metadata": {
    "collapsed": false
   },
   "outputs": [
    {
     "data": {
      "image/png": "[encoded data removed]",
      "text/plain": [
       "<IPython.core.display.Image object>"
      ]
     },
     "execution_count": 17,
     "metadata": {},
     "output_type": "execute_result"
    }
   ],
   "source": [
    "version2.widget\n",
    "Image(filename='complex_dashboards_data/img_2.png')"
   ]
  }
 ],
 "metadata": {
  "kernelspec": {
   "display_name": "Python 3",
   "language": "python",
   "name": "python3"
  },
  "language_info": {
   "codemirror_mode": {
    "name": "ipython",
    "version": 3
   },
   "file_extension": ".py",
   "mimetype": "text/x-python",
   "name": "python",
   "nbconvert_exporter": "python",
   "pygments_lexer": "ipython3",
   "version": "3.5.1"
  },
  "widgets": {
   "state": {},
   "version": "1.1.2"
  }
 },
 "nbformat": 4,
 "nbformat_minor": 0
}
