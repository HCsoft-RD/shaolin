{
 "cells": [
  {
   "cell_type": "code",
   "execution_count": 1,
   "metadata": {
    "collapsed": true
   },
   "outputs": [],
   "source": [
    "import sys\n",
    "path =\"/home/sergio/github/shaolin-master\"\n",
    "sys.path.append(path)"
   ]
  },
  {
   "cell_type": "code",
   "execution_count": 2,
   "metadata": {
    "collapsed": false
   },
   "outputs": [
    {
     "data": {
      "text/html": [
       "<style>\n",
       ".container { width:100% !important; }\n",
       ".input{ width:60% !important;\n",
       "       align: center;\n",
       "      }\n",
       ".text_cell{ width:70% !important;\n",
       "            font-size: 16px;}\n",
       ".title {align:center !important;}\n",
       "</style>"
      ],
      "text/plain": [
       "<IPython.core.display.HTML object>"
      ]
     },
     "metadata": {},
     "output_type": "display_data"
    }
   ],
   "source": [
    "%%HTML\n",
    "<style>\n",
    ".container { width:100% !important; }\n",
    ".input{ width:60% !important;\n",
    "       align: center;\n",
    "      }\n",
    ".text_cell{ width:70% !important;\n",
    "            font-size: 16px;}\n",
    ".title {align:center !important;}\n",
    "</style>"
   ]
  },
  {
   "cell_type": "markdown",
   "metadata": {},
   "source": [
    "# Creating complex Dashboards"
   ]
  },
  {
   "cell_type": "markdown",
   "metadata": {},
   "source": [
    "<a id='index'></a>"
   ]
  },
  {
   "cell_type": "markdown",
   "metadata": {},
   "source": [
    "## Index"
   ]
  },
  {
   "cell_type": "markdown",
   "metadata": {},
   "source": [
    "- [1 Introduction](#intro)\n",
    "- [2 Defining the Dashboard parameters](#parameters)\n",
    "- [3 Dashboard layout & inizialization](#dash_and_init)\n",
    "    - [3.1 Layout with custom defaults](#custom_defaults)\n",
    "    - [3.2 ArrayScaler init function](#init)\n",
    "- [4 Scaler functionality](#functionality)\n",
    "- [5 Plotting the ArraySlicer output](#plot)  \n",
    "    - [5.1 Layered approach](#layered)\n",
    "    - [5.2 Single Dashboard approach](#single)"
   ]
  },
  {
   "cell_type": "markdown",
   "metadata": {},
   "source": [
    "<a id='introduction'></a>"
   ]
  },
  {
   "cell_type": "markdown",
   "metadata": {},
   "source": [
    "# 1 Introduction"
   ]
  },
  {
   "cell_type": "markdown",
   "metadata": {},
   "source": [
    "In this tutorial we will show how it is possible to create complex dashboards for data analysis by inheriting from the Dashboard class. We will build a data scaler that will interact with a matplotlib plot to show how the data is modified.\n",
    "\n",
    "The Dashboard that we are going to build has the following capabilities:\n",
    "- Apply an arbitrary function to a numpy array selected fom a dict of available functions.\n",
    "- Scale the data into an arbitrary range. This scaling will be optional and the data will be scaled before applying the selected function.\n",
    "- Show how the data is being modified in real time."
   ]
  },
  {
   "cell_type": "markdown",
   "metadata": {},
   "source": [
    "<a id='parameters'></a>"
   ]
  },
  {
   "cell_type": "markdown",
   "metadata": {},
   "source": [
    "# 2 Defining the Dashboard parameters"
   ]
  },
  {
   "cell_type": "markdown",
   "metadata": {},
   "source": [
    "[Back to top](#index)"
   ]
  },
  {
   "cell_type": "markdown",
   "metadata": {},
   "source": [
    "Our Dashboard will have the following parameters:\n",
    "- **funcs**: A dictionary of available functions that the scaler can apply to the data. \n",
    "- **min**: minimum value for the scaling.\n",
    "- **max**: maximum value fot the scaling.\n",
    "- **step**: step parameter fot the scaler slider.\n",
    "- **low**: initial lower bound for the scaling.\n",
    "- **high**: initial higher bound for the scaling.\n",
    "- **kwargs**: keyword arguments for the Dashboard.__init__ function like name, mode..."
   ]
  },
  {
   "cell_type": "markdown",
   "metadata": {},
   "source": [
    "We will also define a nice set of initial parameters just in case we want to paly later with it without worrying about inizialization."
   ]
  },
  {
   "cell_type": "code",
   "execution_count": 7,
   "metadata": {
    "collapsed": false
   },
   "outputs": [],
   "source": [
    "from IPython.display import Image #this is for displaying the widgets in the web version of the notebook\n",
    "import numpy as np\n",
    "from shaolin.core.dashboard import Dashboard\n",
    "class ArrayScaler(Dashboard):\n",
    "    \n",
    "    def __init__(self,\n",
    "                 data,\n",
    "                 funcs=None,\n",
    "                 min=-100.,\n",
    "                 max=100.,\n",
    "                 step=None,\n",
    "                 low=None,\n",
    "                 high=None,\n",
    "                 **kwargs):\n",
    "        if funcs is None:\n",
    "            self.funcs = {'raw':lambda x: x,\n",
    "                          'zscore': lambda x: (x-np.mean(x))/np.std(x),\n",
    "                          'log': np.log,\n",
    "                          'rank':lambda x: pd.DataFrame(x).rank().values.flatten(),\n",
    "                          'abs': np.abs\n",
    "                         }\n",
    "        else:\n",
    "            self.funcs  = funcs\n",
    "        self._data = data\n",
    "        if min is None:\n",
    "            min = self._data.min().values[0]\n",
    "        if max is None:\n",
    "            max = self._data.max().values[0]\n",
    "        if step is None:\n",
    "            step = (max-min)/100.\n",
    "        if low is None:\n",
    "            low = min\n",
    "        if high is None:\n",
    "            high = max"
   ]
  },
  {
   "cell_type": "markdown",
   "metadata": {},
   "source": [
    "<a id='dash_and_init'></a>"
   ]
  },
  {
   "cell_type": "markdown",
   "metadata": {},
   "source": [
    "# 3 Dashboard layout & inizialization"
   ]
  },
  {
   "cell_type": "markdown",
   "metadata": {},
   "source": [
    "[Back to top](#index)"
   ]
  },
  {
   "cell_type": "markdown",
   "metadata": {},
   "source": [
    "<a id='custom_defaults'></a>"
   ]
  },
  {
   "cell_type": "markdown",
   "metadata": {},
   "source": [
    "## 3.1 Layout with custom defaults"
   ]
  },
  {
   "cell_type": "markdown",
   "metadata": {},
   "source": [
    "In this case we are going to use the same layout shown in the first Dasboard tutorial, but instead of hardcoding its component default values we will use the parameters of the former section. This way when we create an instance of an ArrayScaler we wont have to worry a obout its interface internals. "
   ]
  },
  {
   "cell_type": "code",
   "execution_count": null,
   "metadata": {
    "collapsed": true
   },
   "outputs": [],
   "source": [
    "dash = ['c$N=df_scaler',\n",
    "        ['@('+str(min)+', '+str(max)+', '+str(step)+', ('+str(low)+', '+str(high)+'))$N=scale_slider&d=Scale',\n",
    "         ['r$N=main_row',['@dd$d=Apply&N=dd_sel&val=raw&o='+str(list(self.funcs.keys())),\n",
    "                          '@False$N=scale_chk&d=Scale']],\n",
    "         ['html$N=plot']\n",
    "        ]\n",
    "       ]"
   ]
  },
  {
   "cell_type": "markdown",
   "metadata": {},
   "source": [
    "<a id='init'></a>"
   ]
  },
  {
   "cell_type": "markdown",
   "metadata": {},
   "source": [
    "## 3.2 ArrayScaler init function"
   ]
  },
  {
   "cell_type": "markdown",
   "metadata": {},
   "source": [
    "[Back to top](#index)"
   ]
  },
  {
   "cell_type": "markdown",
   "metadata": {},
   "source": [
    "Now we have defined the layout and parameters we can call the Dashboard.init function. Afther that we only have to bind the update function to achieve interactivity. We will also call the init function with the custom layout that we created in the former example. \n",
    "\n",
    "The data attribute has an underscore because later we are going to define the  as a property, so it the widget can be updated every time it changes its data.  "
   ]
  },
  {
   "cell_type": "code",
   "execution_count": 5,
   "metadata": {
    "collapsed": true
   },
   "outputs": [],
   "source": [
    "class ArrayScaler(Dashboard):\n",
    "    \n",
    "    def __init__(self,\n",
    "                 data,\n",
    "                 funcs=None,\n",
    "                 min=-100.,\n",
    "                 max=100.,\n",
    "                 step=None,\n",
    "                 low=None,\n",
    "                 high=None,\n",
    "                 **kwargs):\n",
    "        if funcs is None:\n",
    "            self.funcs = {'raw':lambda x: x,\n",
    "                          'zscore': lambda x: (x-np.mean(x))/np.std(x),\n",
    "                          'log': np.log,\n",
    "                          'rank':lambda x: pd.DataFrame(x).rank().values.flatten(),\n",
    "                          'abs': np.abs\n",
    "                         }\n",
    "        else:\n",
    "            self.funcs  = funcs\n",
    "        self._data = data\n",
    "        if min is None:\n",
    "            min = self._data.min().values[0]\n",
    "        if max is None:\n",
    "            max = self._data.max().values[0]\n",
    "        if step is None:\n",
    "            step = (max-min)/100.\n",
    "        if low is None:\n",
    "            low = min\n",
    "        if high is None:\n",
    "            high = max\n",
    "        \n",
    "        dash = ['c$N=array_scaler',\n",
    "                ['@('+str(min)+', '+str(max)+', '+str(step)+', ('+str(low)+', '+str(high)+'))$N=scale_slider&d=Scale',\n",
    "                 ['r$N=main_row',['@dd$d=Apply&N=dd_sel&val=raw&o='+str(list(self.funcs.keys())),'@False$N=scale_chk&d=Scale']],\n",
    "                ]\n",
    "               ]\n",
    "        Dashboard.__init__(self, dash, mode='interactive',state='array_scaler.pkl', **kwargs)\n",
    "        #self.observe(self.update)\n",
    "        #self.update()"
   ]
  },
  {
   "cell_type": "markdown",
   "metadata": {},
   "source": [
    "Thsi is how our graphic interface wil look"
   ]
  },
  {
   "cell_type": "code",
   "execution_count": 8,
   "metadata": {
    "collapsed": false
   },
   "outputs": [
    {
     "data": {
      "image/png": "[encoded data removed]",
      "text/plain": [
       "<IPython.core.display.Image object>"
      ]
     },
     "execution_count": 8,
     "metadata": {},
     "output_type": "execute_result"
    }
   ],
   "source": [
    "data = np.random.normal(size=(20))\n",
    "asc = ArrayScaler(data)\n",
    "#asc.widget\n",
    "Image(filename='complex_dashboards_data/img_1.png')"
   ]
  },
  {
   "cell_type": "markdown",
   "metadata": {},
   "source": [
    "<a id='functionality'></a>"
   ]
  },
  {
   "cell_type": "markdown",
   "metadata": {},
   "source": [
    "# 4 Scaler functionality"
   ]
  },
  {
   "cell_type": "markdown",
   "metadata": {},
   "source": [
    "[Back to top](#index)"
   ]
  },
  {
   "cell_type": "markdown",
   "metadata": {},
   "source": [
    "Now its time to define the data wrangling capabilities of our Dashboard. Our ArrayScaler will have a function for scaling the data and an update function, that will calculate its output and will be called every time an interactive component changes its value."
   ]
  },
  {
   "cell_type": "code",
   "execution_count": 9,
   "metadata": {
    "collapsed": true
   },
   "outputs": [],
   "source": [
    "def scale_func(self, data):\n",
    "    Ma = np.max(data)\n",
    "    mi = np.min(data)\n",
    "    score = ((data-mi)/(Ma-mi))#to 0-1 interval\n",
    "    if mi == Ma:\n",
    "           return np.ones(len(score)) *0.5\n",
    "    scale_h = self.scale_slider.value[1]\n",
    "    scale_l = self.scale_slider.value[0]\n",
    "    return score*(scale_h-scale_l)+scale_l"
   ]
  },
  {
   "cell_type": "markdown",
   "metadata": {},
   "source": [
    "The undercored parameter of the update function is the *change* value os the observe function. As it will be rarely used I just define it like this, so it's possible to call the update function both as an observe call or as standalone function."
   ]
  },
  {
   "cell_type": "code",
   "execution_count": 10,
   "metadata": {
    "collapsed": true
   },
   "outputs": [],
   "source": [
    "def update(self, _=None):\n",
    "    if self.scale_chk.value:\n",
    "        self.scale_slider.visible = True\n",
    "        self.output = self.funcs[self.dd_sel.value](self.scale_func(self._data))\n",
    "    else:\n",
    "        self.scale_slider.visible = False\n",
    "        self.output = self.funcs[self.dd_sel.value](self._data)"
   ]
  },
  {
   "cell_type": "markdown",
   "metadata": {},
   "source": [
    "Now we have everything we need to modify the data. We will set the default mode of this Dashboard and then we have our ArrayScaler finished."
   ]
  },
  {
   "cell_type": "code",
   "execution_count": 11,
   "metadata": {
    "collapsed": false
   },
   "outputs": [],
   "source": [
    "class ArrayScaler(Dashboard):\n",
    "    \n",
    "    def __init__(self,\n",
    "                 data,\n",
    "                 funcs=None,\n",
    "                 min=-100.,\n",
    "                 max=100.,\n",
    "                 step=None,\n",
    "                 low=None,\n",
    "                 high=None,\n",
    "                 mode='interactive',\n",
    "                 **kwargs):\n",
    "        if funcs is None:\n",
    "            self.funcs = {'raw':lambda x: x,\n",
    "                          'zscore': lambda x: (x-np.mean(x))/np.std(x),\n",
    "                          'log': np.log,\n",
    "                          'rank':lambda x: pd.DataFrame(x).rank().values.flatten(),\n",
    "                          'abs': np.abs\n",
    "                         }\n",
    "        else:\n",
    "            self.funcs  = funcs\n",
    "        self._data = data\n",
    "        if min is None:\n",
    "            min = self._data.min().values[0]\n",
    "        if max is None:\n",
    "            max = self._data.max().values[0]\n",
    "        if step is None:\n",
    "            step = (max-min)/100.\n",
    "        if low is None:\n",
    "            low = min\n",
    "        if high is None:\n",
    "            high = max\n",
    "        \n",
    "        dash = ['c$N=array_scaler',\n",
    "                ['@('+str(min)+', '+str(max)+', '+str(step)+', ('+str(low)+', '+str(high)+'))$N=scale_slider&d=Scale',\n",
    "                 ['r$N=main_row',['@dd$d=Apply&N=dd_sel&val=raw&o='+str(list(self.funcs.keys())),'@False$N=scale_chk&d=Scale']],\n",
    "                ]\n",
    "               ]\n",
    "        Dashboard.__init__(self, dash, state='array_scaler.pkl',mode=mode, **kwargs)\n",
    "        self.observe(self.update)\n",
    "        self.update()\n",
    "    \n",
    "    @property\n",
    "    def data(self):\n",
    "        return self._data\n",
    "\n",
    "    @data.setter\n",
    "    def data(self, val):\n",
    "        self._data = val\n",
    "        self.update()\n",
    "        \n",
    "    def scale_func(self, data):\n",
    "        Ma = np.max(data)\n",
    "        mi = np.min(data)\n",
    "        score = ((data-mi)/(Ma-mi))#to 0-1 interval\n",
    "        if mi == Ma:\n",
    "               return np.ones(len(score)) *0.5\n",
    "        scale_h = self.scale_slider.value[1]\n",
    "        scale_l = self.scale_slider.value[0]\n",
    "        return score*(scale_h-scale_l)+scale_l\n",
    "    \n",
    "    def update(self, _=None):\n",
    "        if self.scale_chk.value:\n",
    "            self.scale_slider.visible = True\n",
    "            self.output = self.funcs[self.dd_sel.value](self.scale_func(self._data))\n",
    "        else:\n",
    "            self.scale_slider.visible = False\n",
    "            self.output = self.funcs[self.dd_sel.value](self._data)"
   ]
  },
  {
   "cell_type": "code",
   "execution_count": 22,
   "metadata": {
    "collapsed": false
   },
   "outputs": [
    {
     "data": {
      "image/png": "[encoded data removed]",
      "text/plain": [
       "<IPython.core.display.Image object>"
      ]
     },
     "execution_count": 22,
     "metadata": {},
     "output_type": "execute_result"
    }
   ],
   "source": [
    "arrs = ArrayScaler(data)\n",
    "#arrs.widget\n",
    "Image(filename='complex_dashboards_data/img_3.png')"
   ]
  },
  {
   "cell_type": "markdown",
   "metadata": {},
   "source": [
    "<a id='plot'></a>"
   ]
  },
  {
   "cell_type": "markdown",
   "metadata": {},
   "source": [
    "# 5 Plotting the ArraySlicer output"
   ]
  },
  {
   "cell_type": "markdown",
   "metadata": {},
   "source": [
    "[Back to top](#index)"
   ]
  },
  {
   "cell_type": "markdown",
   "metadata": {},
   "source": [
    "<a id='layered'></a>"
   ]
  },
  {
   "cell_type": "markdown",
   "metadata": {},
   "source": [
    "## 5.1 Layered approach"
   ]
  },
  {
   "cell_type": "markdown",
   "metadata": {},
   "source": [
    "In order to see how we are modifying the data with our ArrayScaler we are going to build a Dashboard capable of displaying arbitrary matplotlib figures as an HTML widget created directly from the output of another Dashboard. "
   ]
  },
  {
   "cell_type": "code",
   "execution_count": 13,
   "metadata": {
    "collapsed": true
   },
   "outputs": [],
   "source": [
    "class MatplotlibPlot(Dashboard):\n",
    "    \n",
    "    def __init__(self, data_dashboard, plot_func,width=\"45em\", height=\"15em\", **kwargs):\n",
    "        self.plot_func = plot_func\n",
    "        self._target_name = data_dashboard.name\n",
    "        self._height = height\n",
    "        self._width = width\n",
    "        dashboard = ['c$N=mpl_plot',\n",
    "                     [data_dashboard,\n",
    "                      'html$N=plot'\n",
    "                     ]\n",
    "                    ]\n",
    "        Dashboard.__init__(self, dashboard, mode='interactive', **kwargs)\n",
    "        self.observe(self.update)\n",
    "        self.update()\n",
    "\n",
    "    def fig_to_html(self, fig, img_class=''):\n",
    "        \"\"\"This is a hack that converts a matplotlib like fig to an HTML image div\"\"\"\n",
    "        from io import BytesIO\n",
    "        import base64\n",
    "        import warnings\n",
    "        warnings.filterwarnings('ignore')\n",
    "        imgdata = BytesIO()\n",
    "        fig.savefig(imgdata, format='png',bbox_inches='tight',dpi=90, transparent=True)\n",
    "        imgdata.seek(0)  # rewind the data\n",
    "        svg_dta = imgdata.getvalue()\n",
    "        svg_image = Image(svg_dta)#\n",
    "        svg_b64 = base64.b64encode(svg_image.data).decode()\n",
    "        self.plot.widget.layout.width = self._width\n",
    "        self.plot.target.layout.width = \"100%\"\n",
    "        self.plot.widget.layout.height = self._height\n",
    "        self.plot.target.layout.height = \"100%\"\n",
    "        height = self.plot.target.layout.height\n",
    "        width = self.plot.target.layout.width\n",
    "        return '<img class=\"cmap '+img_class+'\" height=\"'+str(height)+'\" width=\"'\\\n",
    "                +str(width)+'\" src=\"data:image/png;base64,'+svg_b64+'\" />'\n",
    "    \n",
    "    def update(self, _=None):\n",
    "        fig, ax = self.plot_func(getattr(self,self._target_name).output)\n",
    "        plt.close(fig)\n",
    "        self.plot.value = self.fig_to_html(fig)"
   ]
  },
  {
   "cell_type": "markdown",
   "metadata": {},
   "source": [
    "This Dashboard is really usefull for quickly generalizing any matplotlib plot and adapt it to any kind of data processing, but we will pay the cost of flexibility by having a higher response time than if we write the plotting logic alongside the data processing code(I suppose this is due to the internal structure of the ipywidgets package/jupyter notebook or even mabe browser related, but I don't don't see how this limitation can be easily overcomed). Below this example I have wirtten the same logic as a single Dashboard so you can compare the performance issues. Any help regarthing this topic will be much appreciated, as this package aimg to be able to link hundreds of widgets at the same time. \n",
    "\n",
    "In both cases we have response times below 1 second, but in the layered approach the lag is notticeable. "
   ]
  },
  {
   "cell_type": "code",
   "execution_count": 14,
   "metadata": {
    "collapsed": false
   },
   "outputs": [],
   "source": [
    "import matplotlib.pyplot as plt\n",
    "from IPython.display import Image\n",
    "def plot(output):\n",
    "    fig, ax = plt.subplots(figsize=(10, 1))\n",
    "    plt.title('Output data')\n",
    "    ax.plot(output)\n",
    "    return fig, ax\n",
    "test = MatplotlibPlot(arrs, plot)"
   ]
  },
  {
   "cell_type": "code",
   "execution_count": 16,
   "metadata": {
    "collapsed": false
   },
   "outputs": [
    {
     "data": {
      "image/png": "[encoded data removed]",
      "text/plain": [
       "<IPython.core.display.Image object>"
      ]
     },
     "execution_count": 16,
     "metadata": {},
     "output_type": "execute_result"
    }
   ],
   "source": [
    "#test.widget\n",
    "Image(filename='complex_dashboards_data/img_2.png')"
   ]
  },
  {
   "cell_type": "markdown",
   "metadata": {},
   "source": [
    "<a id='single'></a>"
   ]
  },
  {
   "cell_type": "markdown",
   "metadata": {},
   "source": [
    "## 5.2 Single Dashboard approach"
   ]
  },
  {
   "cell_type": "markdown",
   "metadata": {},
   "source": [
    "[Back to top](#index)"
   ]
  },
  {
   "cell_type": "code",
   "execution_count": 24,
   "metadata": {
    "collapsed": true
   },
   "outputs": [],
   "source": [
    "\n",
    "class FullArrayScaler(Dashboard):\n",
    "    \n",
    "    def __init__(self,\n",
    "                 data,\n",
    "                 funcs=None,\n",
    "                 min=-100.,\n",
    "                 max=100.,\n",
    "                 step=None,\n",
    "                 low=None,\n",
    "                 high=None,\n",
    "                 **kwargs):\n",
    "        if funcs is None:\n",
    "            self.funcs = {'raw':lambda x: x,\n",
    "                          'zscore': lambda x: (x-np.mean(x))/np.std(x),\n",
    "                          'log': np.log,\n",
    "                          'rank':lambda x: pd.DataFrame(x).rank().values.flatten(),\n",
    "                          'abs': np.abs\n",
    "                         }\n",
    "        else:\n",
    "            self.funcs  = funcs\n",
    "        self._data = data\n",
    "        if min is None:\n",
    "            min = self._df.min().values[0]\n",
    "        if max is None:\n",
    "            max = self._df.max().values[0]\n",
    "        if step is None:\n",
    "            step = (max-min)/100.\n",
    "        if low is None:\n",
    "            low = min\n",
    "        if high is None:\n",
    "            high = max\n",
    "        \n",
    "        dash = ['c$N=df_scaler',\n",
    "                ['@('+str(min)+', '+str(max)+', '+str(step)+', ('+str(low)+', '+str(high)+'))$N=scale_slider&d=Scale',\n",
    "                 ['r$N=main_row',['@dd$d=Apply&N=dd_sel&val=raw&o='+str(list(self.funcs.keys())),'@False$N=scale_chk&d=Scale']],\n",
    "                 ['html$N=plot']\n",
    "                ]\n",
    "               ]\n",
    "        Dashboard.__init__(self, dash, mode='interactive', **kwargs)\n",
    "        self.observe(self.update)\n",
    "        self.update()\n",
    "    \n",
    "    @property\n",
    "    def data(self):\n",
    "        return self._data\n",
    "\n",
    "    @data.setter\n",
    "    def data(self, val):\n",
    "        self._data = val\n",
    "        self.update()\n",
    "    \n",
    "    def scale_func(self, data):\n",
    "        Ma = np.max(data)\n",
    "        mi = np.min(data)\n",
    "        score = ((data-mi)/(Ma-mi))#to 0-1 interval\n",
    "        if mi == Ma:\n",
    "               return np.ones(len(score)) *0.5\n",
    "        scale_h = self.scale_slider.value[1]\n",
    "        scale_l = self.scale_slider.value[0]\n",
    "        return score*(scale_h-scale_l)+scale_l \n",
    "    \n",
    "    def fig_to_html(self, fig, img_class=''):\n",
    "        \"\"\"This is a hack that converts a matplotlib like fig to an HTML image div\"\"\"\n",
    "        from io import BytesIO\n",
    "        import base64\n",
    "        import warnings\n",
    "        warnings.filterwarnings('ignore')\n",
    "        imgdata = BytesIO()\n",
    "        fig.savefig(imgdata, format='png',bbox_inches='tight',dpi=160, transparent=True)\n",
    "        imgdata.seek(0)  # rewind the data\n",
    "        svg_dta = imgdata.getvalue()\n",
    "        svg_image = Image(svg_dta)#\n",
    "        svg_b64 = base64.b64encode(svg_image.data).decode()\n",
    "        self.plot.widget.layout.width =\"45em\"\n",
    "        self.plot.target.layout.width = \"100%\"\n",
    "        self.plot.widget.layout.height = \"15em\"\n",
    "        self.plot.target.layout.height = \"100%\"\n",
    "        height = self.plot.target.layout.height\n",
    "        width = self.plot.target.layout.width\n",
    "        return '<img class=\"cmap '+img_class+'\" height=\"'+str(height)+'\" width=\"'\\\n",
    "                +str(width)+'\" src=\"data:image/png;base64,'+svg_b64+'\" />'\n",
    "    \n",
    "    def update(self, _=None):\n",
    "    \n",
    "        if self.scale_chk.value:\n",
    "            self.scale_slider.visible = True\n",
    "            self.output = self.funcs[self.dd_sel.value](self.scale_func(self._data))\n",
    "        else:\n",
    "            self.scale_slider.visible = False\n",
    "            self.output = self.funcs[self.dd_sel.value](self._data)\n",
    "        fig, ax = plt.subplots(figsize=(10, 1))\n",
    "        plt.title('Output data')\n",
    "        ax.plot(self.output)\n",
    "        plt.close(fig)\n",
    "        self.plot.value = self.fig_to_html(fig)"
   ]
  },
  {
   "cell_type": "code",
   "execution_count": 25,
   "metadata": {
    "collapsed": false
   },
   "outputs": [],
   "source": [
    "version2 = FullArrayScaler(data)"
   ]
  },
  {
   "cell_type": "code",
   "execution_count": 28,
   "metadata": {
    "collapsed": false
   },
   "outputs": [
    {
     "data": {
      "image/png": "[encoded data removed]",
      "text/plain": [
       "<IPython.core.display.Image object>"
      ]
     },
     "execution_count": 28,
     "metadata": {},
     "output_type": "execute_result"
    }
   ],
   "source": [
    "version2.widget\n",
    "Image(filename='complex_dashboards_data/img_2.png')"
   ]
  },
  {
   "cell_type": "code",
   "execution_count": null,
   "metadata": {
    "collapsed": true
   },
   "outputs": [],
   "source": []
  },
  {
   "cell_type": "code",
   "execution_count": null,
   "metadata": {
    "collapsed": true
   },
   "outputs": [],
   "source": []
  }
 ],
 "metadata": {
  "kernelspec": {
   "display_name": "Python 3",
   "language": "python",
   "name": "python3"
  },
  "language_info": {
   "codemirror_mode": {
    "name": "ipython",
    "version": 3
   },
   "file_extension": ".py",
   "mimetype": "text/x-python",
   "name": "python",
   "nbconvert_exporter": "python",
   "pygments_lexer": "ipython3",
   "version": "3.5.1"
  },
  "widgets": {
   "state": {
    "002da1cc84d24870aa65a4b34168b0f4": {
     "views": []
    },
    "00440b6386b04f3894e15d865bcb91c2": {
     "views": []
    },
    "022a796e828d4a46a6807724d65fc02c": {
     "views": []
    },
    "0278bb6141a348359964ddfd30088c08": {
     "views": []
    },
    "034d5e15d9df488caba594322c019012": {
     "views": []
    },
    "04b7d9dbec434df6b5233e0e3dc65b6a": {
     "views": []
    },
    "0530cf6340d240a1b195aee0e678210b": {
     "views": []
    },
    "05df39d588a84049a38ea3c5adabb793": {
     "views": []
    },
    "067988df3d93431b9b216d4ffa5cfdb2": {
     "views": []
    },
    "0887c70078da4ccfbf71956a7e237210": {
     "views": []
    },
    "096398d0764448c0a238806c8ecbae8f": {
     "views": []
    },
    "09f7a06c7e114ff2adf3e649d67cc880": {
     "views": []
    },
    "0a358ab292524c6c868495d528c310f6": {
     "views": []
    },
    "0c58ec3587894415b9fb7374a5348b58": {
     "views": []
    },
    "0c7d9dcc576a454491176d3e58f09a46": {
     "views": []
    },
    "0cdc249c9518417e87265f508303d9ea": {
     "views": []
    },
    "1013ca5e834a4e55bd33226c6c2df643": {
     "views": []
    },
    "10337de2c6b54d349aa84ea48bff4817": {
     "views": []
    },
    "10bc5c228c7746f9810d741c5d19fde1": {
     "views": []
    },
    "11136a3f0b104d63b10b8f7a9ffca9e3": {
     "views": []
    },
    "144d7e58662e4520b5b3da73738846dc": {
     "views": []
    },
    "14eca47383cb463faf33f58adcf11cc6": {
     "views": []
    },
    "15cfd47793a34fc8ab044fcf25af7780": {
     "views": []
    },
    "1667757986544d42b0107e66f578e4db": {
     "views": []
    },
    "1751d9fbe1954153822c90889d0da7b9": {
     "views": []
    },
    "18ed0404cde342eb9e39d0d75f80e009": {
     "views": []
    },
    "1b9886812c7749aeabbdbd6e63110617": {
     "views": []
    },
    "1c18c9b385e145169426916049a09f7f": {
     "views": []
    },
    "1c44609c085e4d799b9c14ef9aa1f031": {
     "views": []
    },
    "1c583d68434e4960ae8a78d540a74266": {
     "views": []
    },
    "1c81b0e8e225440dac1a025ef9305756": {
     "views": []
    },
    "1cb65a9911254ef28018e948a1d736c2": {
     "views": []
    },
    "1cc5cc31db2e4d758448003182b2bd3d": {
     "views": []
    },
    "1d4143b15d7f44f8bf01126d5f75d7ae": {
     "views": []
    },
    "1e250d27fc0e4ec888700f27bcd6d9e6": {
     "views": []
    },
    "1f513fe119884f51992e421882d49d80": {
     "views": []
    },
    "1fdf86764f3d41c29db8cc07f67f5e13": {
     "views": []
    },
    "2058c5192a4a4af6ad77375cf47d412d": {
     "views": []
    },
    "210b1e4665bf427dab9bc657ab9af060": {
     "views": []
    },
    "218dda3f6f4c4d1bbc084003b11469b9": {
     "views": []
    },
    "21d0afbdde884eaa917f04f95edc3843": {
     "views": []
    },
    "22e85359153a496e9d3a5a9d2f040353": {
     "views": []
    },
    "236e6ab596974adfadf7a1c1aca93fcd": {
     "views": []
    },
    "23bf8cf1315b44e681d01c481e95311b": {
     "views": []
    },
    "27a86bcee64d47ff8b728144b17608db": {
     "views": []
    },
    "288abdb4aa6b4bddbb4ddf853357357c": {
     "views": []
    },
    "2a1cca06910d4d6396f1d3a4ec75e721": {
     "views": []
    },
    "2a60c0f456764827847fe2abb3163f9a": {
     "views": []
    },
    "2f10ae6033da4ca899612ef3a0c04ef4": {
     "views": []
    },
    "2f71abcdb5ef4bf684845990e0741c21": {
     "views": []
    },
    "2f8c7af6313f4697978f5a40c2d74bf9": {
     "views": []
    },
    "31373f9bc0174722b6887f79a2785e46": {
     "views": []
    },
    "31bc3b903bbe4b9aa23cd843c7a1b98b": {
     "views": []
    },
    "321dfd1c4f8b495089e471a2828ca9c4": {
     "views": []
    },
    "327e78f36c114c1b9bb6514d5ab70fd2": {
     "views": []
    },
    "330ef27fd8504cf9bff24e2f2de04d8b": {
     "views": []
    },
    "337503881f8d4a00bdedc83bc7407b07": {
     "views": []
    },
    "344657622b164b9f84d053de989f4db7": {
     "views": []
    },
    "34773688b3ae46e0a2a8bdcf093faa13": {
     "views": []
    },
    "354a61c3f253424d98bf0dbb50b0c9db": {
     "views": []
    },
    "35dc73f2644f4017970d1b2d4cef69da": {
     "views": []
    },
    "372cab7b1efa4b42b6feedb22eef7448": {
     "views": []
    },
    "38de4933f26348818f393e0e1fcfc78b": {
     "views": []
    },
    "3a2998d4361441d18e3b5bfb4faba0c7": {
     "views": []
    },
    "3aebfa66ecee4ac6b7a7fe8e88a1c735": {
     "views": []
    },
    "3ce31dd30fb4460e92c5118561ba73f3": {
     "views": []
    },
    "3defd54336114e199117307b234089b2": {
     "views": []
    },
    "4108647d86f34178a0392465a7f0bb22": {
     "views": []
    },
    "41bdb0ad92b2427e8b3a26969954e644": {
     "views": []
    },
    "41ef58cc847e4bdcb2aa9dff0c70a3ea": {
     "views": []
    },
    "422aee24b36943acb3ec95043c89179a": {
     "views": []
    },
    "42ce1e3028854bf2ae4fac0a6d058e05": {
     "views": []
    },
    "43ebf6ec978341488781e0804ea86acb": {
     "views": []
    },
    "4429f241da8e43cca131d8081fe2099b": {
     "views": []
    },
    "45271717636a4f8fb2bebb9282cd619a": {
     "views": []
    },
    "454747bde5d74263a46443acf7a7b028": {
     "views": []
    },
    "46a9439b81f642dd8e21cfb815184767": {
     "views": []
    },
    "4831f3ff06474122a29b2147aad4e269": {
     "views": []
    },
    "486b01c06fc4437d9c16d07a448d8d17": {
     "views": []
    },
    "488a686a7d6648b182f3bed869ad9620": {
     "views": []
    },
    "491a7d1fcde94f29bf9b68b55440d77d": {
     "views": []
    },
    "4ba5737d370e4415a96d414b4c7a77d0": {
     "views": []
    },
    "4be71681f5eb420b87aa3b30ab4d781c": {
     "views": []
    },
    "4bf98a9374054215b80c5551ddf4ab88": {
     "views": []
    },
    "4d2400d0dfc54b34803d8ab76258d3f1": {
     "views": []
    },
    "5002968f633b49fcba8529e545c85a64": {
     "views": []
    },
    "5090384d1ca34eca807dad8f863f44e5": {
     "views": []
    },
    "5322dd54ac814607a11d9bc8dbcecb17": {
     "views": []
    },
    "544ac4f1833f4e06ab1e5f9e45fd2c74": {
     "views": []
    },
    "5461c10f5cdb4f7ea1741627fb6b5c27": {
     "views": []
    },
    "54da02e80cc940329a7be8dc7180e319": {
     "views": []
    },
    "56cdfe5a180c48ef8b4ac9f08093c038": {
     "views": []
    },
    "57b4b07b1f054b3ba10981b06c47b97c": {
     "views": []
    },
    "58ced726b133487182e52b8761ced65f": {
     "views": []
    },
    "59d04df5ed8548c381e1bc32c72dffad": {
     "views": []
    },
    "5abbfb29898341baa606ad010a0c5a86": {
     "views": []
    },
    "5b4eada56cf44a148c863fa411e1af95": {
     "views": []
    },
    "5bcf041a8a474d53ac445cb930253987": {
     "views": []
    },
    "5cda054fff0c487bad4eea945d5b829d": {
     "views": []
    },
    "5de95326d78049d69ea954d45220b3fb": {
     "views": []
    },
    "5f72ce54fec642be90585a1dd86d523d": {
     "views": []
    },
    "5f7bccface264fad90b6056af2043572": {
     "views": []
    },
    "638ef0b3304a4f65a0d5a4b2f5829725": {
     "views": []
    },
    "63da6d744d03420a95eb08b39ffe02e5": {
     "views": []
    },
    "63da8a7d945f40dba37b8e26cf44636d": {
     "views": []
    },
    "642ca3f850a049a6b54ac6c598a3ba8a": {
     "views": []
    },
    "649698ae7f304f7e89bcd58039415ba4": {
     "views": []
    },
    "662fdfe34ec04f0eb503e7df04362818": {
     "views": []
    },
    "66445f54ee02459ca57c5addc6980c78": {
     "views": []
    },
    "6b2535dc78e747a8b43ec0e195984a92": {
     "views": []
    },
    "6f349c6ea1674e9e91544a60a0a9e6da": {
     "views": []
    },
    "7037050653e548ecbcf3650b4bc19873": {
     "views": []
    },
    "704fd23910014819875e468b89340e46": {
     "views": []
    },
    "709088b1ba21421986b06f9aae7e5d63": {
     "views": []
    },
    "71553de57fa6441b9cdf51dcfcfcabdf": {
     "views": []
    },
    "7208ca83e62e4b20bafb5cb7b12813f8": {
     "views": []
    },
    "727373543157495fb2f9f80a18938e76": {
     "views": []
    },
    "731d1a693f5749fa98b978d5ffc9f6f2": {
     "views": []
    },
    "7366074440804832a272afdb5e7fca4f": {
     "views": []
    },
    "7444a864b3d8479d9db99bd75dc36ac7": {
     "views": []
    },
    "74cf8d1f24cc4e3bb44f3deefdc60e77": {
     "views": []
    },
    "74f048948e8a4b19a637f3d2d523a50c": {
     "views": []
    },
    "758e00da98ed47c09f2a46418bd24c11": {
     "views": []
    },
    "77397837eb3c406fa30420c64ca7f904": {
     "views": []
    },
    "77644df950b5465190ba72f45f1f8a3c": {
     "views": []
    },
    "77ce263d98204fd391b912f02e31ecdc": {
     "views": []
    },
    "77ee6d384a734c5aa04a468b0e28b320": {
     "views": []
    },
    "7851843c23a04df697fb7c9f01019764": {
     "views": []
    },
    "78a3212ef76b4df0a0bf54a7641a5c5f": {
     "views": []
    },
    "79624003ea2c4cfeb6030032288b05ce": {
     "views": []
    },
    "7969bdabf7124692968d94a53bd1451b": {
     "views": []
    },
    "79833bdb0da04e85b7e3546a4135edeb": {
     "views": []
    },
    "7a60be51bfce4a50bae73548283ec4d1": {
     "views": []
    },
    "7b34e22aae0243cda0d8c0c565024f7b": {
     "views": []
    },
    "7b59943ddf3e4183abf5887182f1838d": {
     "views": []
    },
    "7da3e30b01644f50a51e1908ef261c65": {
     "views": []
    },
    "7fdb17c57d734409b3abb5a63ba7cd3c": {
     "views": []
    },
    "810d417d1fb04e1cbf5c618c0b70e98a": {
     "views": []
    },
    "81d743ca6fe44ce0b1ed25e3caacb6fb": {
     "views": []
    },
    "82057ceebe264f1ca6d37d896fcbda43": {
     "views": []
    },
    "83225c75a89e462697887ba3038d3358": {
     "views": []
    },
    "83dc3dfcb2d9489faf7796775f213522": {
     "views": []
    },
    "864f7f62e64d41e998611d5043de4b55": {
     "views": []
    },
    "86f02a8b85e94de0a7f443cb3fe1f2d2": {
     "views": []
    },
    "8787465c9e04488d936f1f1df336355e": {
     "views": []
    },
    "88f739455b584d3f99c42a2833814433": {
     "views": []
    },
    "89225a00d3d047afb737f1ce742d07c0": {
     "views": []
    },
    "8ca512c83e6d4a36be66a5fcc251f5df": {
     "views": []
    },
    "8ce9026f93614882b369a3d3b9f03f75": {
     "views": []
    },
    "8f6a39a4189247eba624d718e5326441": {
     "views": []
    },
    "90a468f12b3f44b995ba3d93c41cbdb7": {
     "views": []
    },
    "9144f196201e41ecbb51a983345994ed": {
     "views": []
    },
    "91a8609f389849eeb9afb89e56b68153": {
     "views": []
    },
    "931f7dca35d049a7801975250662b4a2": {
     "views": []
    },
    "95673cfe74a345bb8b5002aba682eedd": {
     "views": []
    },
    "957b0b814eac491f885795295db33542": {
     "views": []
    },
    "978ba15aaac0436eb96a5339cd75d0fc": {
     "views": []
    },
    "9810113e73674e079ef974c374fc4c79": {
     "views": []
    },
    "98156bf37e924d4ea3aa714724d884b4": {
     "views": []
    },
    "9944ee1604144e429aa9a4d833a3e289": {
     "views": []
    },
    "995c98e56887485dbbe997e32099d5e1": {
     "views": []
    },
    "9c61f7ad3f154155b3521001fe94d94c": {
     "views": []
    },
    "9f683dd8b5284ac9a3164e62dfe3740e": {
     "views": []
    },
    "9fa8b24708fe4084af38df8cd1ded2c5": {
     "views": []
    },
    "a058e10cf9d54cf2a8c0c344121dc065": {
     "views": []
    },
    "a144a1350c83482582e0caf89064c718": {
     "views": []
    },
    "a1af7114329d4cee89555c66b708d449": {
     "views": []
    },
    "a1b51027e1254241a5cd584ab7579f6e": {
     "views": []
    },
    "a22f6cb1e08249fe89fc4331a3ef8c2a": {
     "views": []
    },
    "a28d5a898bc5409bb8c207060100b02e": {
     "views": []
    },
    "a2acc600de9a41fe8aa4d5b7a4945dc2": {
     "views": []
    },
    "a2c4fd9b3b5b413d8ee41d1e6392ed33": {
     "views": []
    },
    "a4164c9939bb41828bec88264df914da": {
     "views": []
    },
    "a4471ade9f6d4d26a907739b90e917a4": {
     "views": []
    },
    "a4bd7ad147f843488382f484de020f6a": {
     "views": []
    },
    "a533a37b1c4e4eab9a6a3a70abc1caf0": {
     "views": []
    },
    "a57f08952dc34cdc8923955ce37d906d": {
     "views": []
    },
    "a58f6cddc5034e34ad575d57b38dd4d1": {
     "views": []
    },
    "a5d47f5c8fff4fe692ccad014e275e9d": {
     "views": []
    },
    "a6696216b4c84028aaeb8908a86e50da": {
     "views": []
    },
    "a6ce8fe0f1624d62bb3fbbe9abc49efd": {
     "views": []
    },
    "a8afe490721a4a78b0afb970e653c97c": {
     "views": []
    },
    "a9bfc9e5d42a4771964bc268c453d6e7": {
     "views": []
    },
    "aacbf99e13f047b5b9fd6c8ed769fcf7": {
     "views": []
    },
    "ab591727fa4542579890e0ee069c1d2c": {
     "views": []
    },
    "b3dc88e7d98042a380eeae4550d7e4ae": {
     "views": []
    },
    "b57bbca47bb5479c9b6536a300537796": {
     "views": []
    },
    "b58b191905c646a9b7d00328c77cfe91": {
     "views": []
    },
    "b61db3074bb74bc2a12aadbd1f12fee0": {
     "views": []
    },
    "b73aa4a14afa4dfcb21176d6a3464499": {
     "views": []
    },
    "bac6d77aa8894834a960f46a1fedcd9b": {
     "views": []
    },
    "bbb6214b16b44888b72a39e778489f82": {
     "views": []
    },
    "bcc2cd5a5d4c47d18b8e4187f1d94ae8": {
     "views": []
    },
    "be4de240cbb142fba0d0738c77bfbfae": {
     "views": []
    },
    "bf807b3d3f164e248af02ebc14c5f66a": {
     "views": []
    },
    "c06f2f62042341f39e43c93d817e02cf": {
     "views": []
    },
    "c0cd6912f42141cf9b8b51bf52641132": {
     "views": []
    },
    "c1187171d8a84c7cae8b8a1736d5411c": {
     "views": []
    },
    "c17911b176f94885a83e414f1a739d9e": {
     "views": []
    },
    "c1c6f0c6096c49b99ac3de20f0809d03": {
     "views": []
    },
    "c4ccec57f5d44829af5c337ba8760c15": {
     "views": []
    },
    "c6099868ad614069bc186988aa65fdc3": {
     "views": []
    },
    "c6d15ef09f9a4774b9fd8b7085d542e6": {
     "views": []
    },
    "c70398d484f845d8bb6e5d2c58d2a432": {
     "views": []
    },
    "c77aae6bc69e45ec9017b700a935baab": {
     "views": []
    },
    "c9bb3b5293e14f0f854ed8e794003250": {
     "views": []
    },
    "c9f004a50acc4bfabd44f9f2bdd6e475": {
     "views": []
    },
    "cc053c74f1be4f31a3f3b93368233397": {
     "views": []
    },
    "cc1ac2dee962462285c8116621790c6d": {
     "views": []
    },
    "cd59a47c02c4443a8494b9832cd5086d": {
     "views": []
    },
    "cdc632c395c44102bf413767ee91795d": {
     "views": []
    },
    "cfb368043e8348e980364f4cfb1f6077": {
     "views": []
    },
    "cfef1dfa2ad14c88b401bfece3d0cd48": {
     "views": []
    },
    "d0d64d4954ad4a7ea9787899b64d173f": {
     "views": []
    },
    "d1de33d7b30749caba1250351aa25413": {
     "views": []
    },
    "d34ed3f759464fb1b3a39c94b505f957": {
     "views": []
    },
    "d4e44ef3072f44fa997608c4213da9ec": {
     "views": []
    },
    "d5382b583a0447be93e825a6ba405e2f": {
     "views": []
    },
    "d6d9d310a5b746828fc5eac02bb34feb": {
     "views": []
    },
    "d770406969e8497fa79e3f287e69cf12": {
     "views": []
    },
    "d8aa6ae7329c47dc97cbfddb08041470": {
     "views": []
    },
    "d8c22667b86844aa9b52cbc28be363d0": {
     "views": []
    },
    "d8f6fcc4c395485e83cc8f2e6d3764da": {
     "views": []
    },
    "da0a104cc879402a95bfe08b503be49e": {
     "views": []
    },
    "dad6c33cb4e0473d9bca1578670c2bf9": {
     "views": []
    },
    "db2ef2e7476d44f394efeae1f0d7f5aa": {
     "views": []
    },
    "dc3d549630d24a01a9aeedfc46a79b15": {
     "views": []
    },
    "dfc3c4b8da1a45a699f05cd7981e34a1": {
     "views": []
    },
    "e0a5e26a1d70425596659947697f988f": {
     "views": []
    },
    "e0e7f15c94184e178acc53022851bab8": {
     "views": []
    },
    "e246228aae1245469e185121f96651fd": {
     "views": []
    },
    "e327d9f3f9664ddd828359485a7f2a8c": {
     "views": []
    },
    "e41c8d0f05944aa5bc854bbb71e12623": {
     "views": []
    },
    "e538a80cfbb9480b8750123513d0e7f8": {
     "views": []
    },
    "e568863baaa74cae83d34f4081497029": {
     "views": []
    },
    "e62ba95dd0a646ad9af8da28ad26cb7c": {
     "views": []
    },
    "e676bf8df98548dc939f1d59e4868c78": {
     "views": []
    },
    "e7be9a4f6f74456cb4d36465c770eaa8": {
     "views": []
    },
    "e7c54e1aa5d04c21bf3c2cdbe8b322f5": {
     "views": []
    },
    "e7f685bd10ae4afe8290430f29a2e0e7": {
     "views": []
    },
    "e916f48dd25c415db9167b5200a46f2e": {
     "views": []
    },
    "eb36d787bc46486b85eec110d921b42c": {
     "views": []
    },
    "ec3366ea32464d2a8ff40078026ece27": {
     "views": []
    },
    "ecb0a348c77942acaada648900572eee": {
     "views": []
    },
    "ed24125ef6b445e8977507ba0714bed1": {
     "views": []
    },
    "ee644b109faf46bfa6783d7230d3f18f": {
     "views": []
    },
    "ef7c888bfbfe449d8ad9e8e7e4cdf54e": {
     "views": []
    },
    "f1b65700a28e4edb8cfff29b0c296c29": {
     "views": []
    },
    "f3d172a4609146d7a3fff1e7ca9402af": {
     "views": []
    },
    "f3ee0f02e0104a82b0e3f0f54244e109": {
     "views": []
    },
    "f43f8b46229743eeab07bb51dc4fdab8": {
     "views": []
    },
    "f48a56cfb3c44de496d77222bcb584f0": {
     "views": []
    },
    "f6707ff7193246d6a2440a40f72e7d69": {
     "views": []
    },
    "f7248600f1e1452181c1700b16b308fd": {
     "views": []
    },
    "f876891392f14356b8c1df9684ad8ac9": {
     "views": []
    },
    "f99b652bf49a4cb2bca8ee1cf0b33694": {
     "views": []
    },
    "fa3f6fe622164f0dbf0c118f33c3390f": {
     "views": []
    },
    "fc5d6da1d15342dda3f634c1c1143d27": {
     "views": []
    },
    "fcdd2378afa246a2a147fa5de3faa77c": {
     "views": []
    },
    "fda7355a9b5b42dab582eb3c0b2ca3f7": {
     "views": []
    },
    "fe62a9d47b7640e0a82dffabc098a219": {
     "views": []
    },
    "feae455983f74e148efb9eb1438f3004": {
     "views": []
    },
    "ff5437064470442ab9aeb5218a5972cd": {
     "views": []
    },
    "ff609833af2f46f1b33392ebfab8ac6d": {
     "views": []
    }
   },
   "version": "1.1.2"
  }
 },
 "nbformat": 4,
 "nbformat_minor": 0
}
