{
 "cells": [
  {
   "cell_type": "code",
   "execution_count": 1,
   "metadata": {
    "collapsed": true
   },
   "outputs": [],
   "source": [
    "import sys\n",
    "path =\"/home/sergio/github/shaolin-master\"\n",
    "sys.path.append(path)"
   ]
  },
  {
   "cell_type": "markdown",
   "metadata": {},
   "source": [
    "In order to use the shaolin framework more comfortably we will use a little screen hack."
   ]
  },
  {
   "cell_type": "code",
   "execution_count": 2,
   "metadata": {
    "collapsed": false
   },
   "outputs": [
    {
     "data": {
      "text/html": [
       "<style>\n",
       ".container { width:100% !important; }\n",
       ".input{ width:60% !important;\n",
       "       align: center;\n",
       "      }\n",
       ".text_cell{ width:70% !important;\n",
       "            font-size: 16px;}\n",
       ".title {align:center !important;}\n",
       "</style>"
      ],
      "text/plain": [
       "<IPython.core.display.HTML object>"
      ]
     },
     "metadata": {},
     "output_type": "display_data"
    }
   ],
   "source": [
    "%%HTML\n",
    "<style>\n",
    ".container { width:100% !important; }\n",
    ".input{ width:60% !important;\n",
    "       align: center;\n",
    "      }\n",
    ".text_cell{ width:70% !important;\n",
    "            font-size: 16px;}\n",
    ".title {align:center !important;}\n",
    "</style>"
   ]
  },
  {
   "cell_type": "markdown",
   "metadata": {},
   "source": [
    "# Shaolin Dashboard Introduction"
   ]
  },
  {
   "cell_type": "markdown",
   "metadata": {},
   "source": [
    "<a id='index'></a>"
   ]
  },
  {
   "cell_type": "markdown",
   "metadata": {},
   "source": [
    "## Index "
   ]
  },
  {
   "cell_type": "markdown",
   "metadata": {},
   "source": [
    "- [1 Introduction](#intro)\n",
    "- [2 Structure](#structure)\n",
    "   - [2.1 Attributes](#attributes)\n",
    "   - [2.2 Functions](#functions)\n",
    "   \n",
    "- [3 Syntax](#syntax)\n",
    "   - [3.1 Examples](#syntax_examples)\n",
    "\n",
    "- [4 Interactivity](#interactivity)\n",
    "   - [4.1 Default values](#interactivity_default)\n",
    "   - [4.2 Syntax](#interactivity_syntax)\n",
    "- [5 Styling](#styling)  \n",
    "    - [5.1 State manager](#state_manager)\n",
    "    - [5.2 Accessing, loading and changing the layout](#load_and_save)"
   ]
  },
  {
   "cell_type": "markdown",
   "metadata": {},
   "source": [
    "<a id='introduction'></a>"
   ]
  },
  {
   "cell_type": "markdown",
   "metadata": {},
   "source": [
    "# 1 Introduction"
   ]
  },
  {
   "cell_type": "markdown",
   "metadata": {},
   "source": [
    "[Back to top](#index)"
   ]
  },
  {
   "cell_type": "markdown",
   "metadata": {},
   "source": [
    "The Dashboard is the main tool of the Shaolin frameowrk. It can be seen as an interactive code box and it has all the functionalities needed for controlling the interactivity of its components.\n",
    "\n",
    "A Dashboard can be build combining widgets and other dashboards. It can be used as a standalone object or in combination with other Dashboards, and its main goal is to offer a simplified interface for managing all the ipywidets functionality in a simpler and scalable way."
   ]
  },
  {
   "cell_type": "markdown",
   "metadata": {},
   "source": [
    "<a id='structure'></a>"
   ]
  },
  {
   "cell_type": "markdown",
   "metadata": {},
   "source": [
    "# 2 Structure"
   ]
  },
  {
   "cell_type": "markdown",
   "metadata": {},
   "source": [
    "This is a description of the Dashboard capabilities. A detailed explanation can be seen in further sections."
   ]
  },
  {
   "cell_type": "markdown",
   "metadata": {},
   "source": [
    "<a id='attributes'></a>"
   ]
  },
  {
   "cell_type": "markdown",
   "metadata": {},
   "source": [
    "## 2.1 Attributes"
   ]
  },
  {
   "cell_type": "markdown",
   "metadata": {},
   "source": [
    "[Back to top](#index)"
   ]
  },
  {
   "cell_type": "markdown",
   "metadata": {},
   "source": [
    "Here we will describe the attributes of a Dashboard. They are all related to managing interactivity and the same functionality offered by the ipywidgets package:"
   ]
  },
  {
   "cell_type": "markdown",
   "metadata": {},
   "source": [
    "- Init parameters:\n",
    "    - **dasboard**: list representing the syntax of the Dasboard components.\n",
    "    - **func**(None): function to mimic the interactive behaviour of the ipywidgets package. It will interact with the widgets defined in the dashboard.\n",
    "    - **data**(None): The data the Dashboard will use.\n",
    "    - **name**(None): Name of the Dasboard. Each component of a Dashboard must have a unique name. \n",
    "    - **mode**('active'): interactivity mode of the Dashboard.\n",
    "\n",
    "    - **visible**(True): Displays all the dashboard's components when True and hides its components when False.\n",
    "    - **state**(None): dict containing all the layout parameters of the dashboard components. (soon it will contain the vaue information also)\n",
    "- Parameters created at instantiation:\n",
    "    - **widget**: Graphic interface of the Dashboard.\n",
    "    - **mode_dict**: dict containing the information regarding the interactivity of every component.\n",
    "    - **value**, **kwargs**: dictionary of kwargs containing all the interactive and active components as a key-value pairs.\n",
    "    - **interactive_kwargs**: dict containing the name and value of the interactive components stored as key-value pairs.\n",
    "    - **state_manager**: Dashboard for customizing, loading and saving the state of the Dashboard.\n",
    "    - **output**(kwargs): When working with data this attribute contains the processed value that the Dashboard will output. If there is no data it's just an alias for kwargs.\n"
   ]
  },
  {
   "cell_type": "markdown",
   "metadata": {},
   "source": [
    "<a id='functions'></a>"
   ]
  },
  {
   "cell_type": "markdown",
   "metadata": {},
   "source": [
    "## 2.2 Functions "
   ]
  },
  {
   "cell_type": "markdown",
   "metadata": {},
   "source": [
    "[Back to top](#index)"
   ]
  },
  {
   "cell_type": "markdown",
   "metadata": {},
   "source": [
    "A Dashboard has its own functions for mimicking the ipywidgets functionality:\n",
    "\n",
    "- **name_from_shaoscript**: Returns the name of a shaoscript string notation element.\n",
    "- **read_shaolist**: reads a Dashboard component from its list representation and returns its shaoscript description, its kwargs and its children.\n",
    "- **observe**: Same functionality as ipywidgets. It will trigger the observer function when any interactive component changes its value.\n",
    "\n",
    "- **link**: Links the values of two components.\n",
    "- **dlink**: Stablishes a direct link between two components.\n",
    "- **unlink**: Removes a link.\n",
    "- **interact**: Applies the dashboard func to the Dashboard's output.\n",
    "- **apply_state**: Sets the state dict of a widget and updates its layout accordingly."
   ]
  },
  {
   "cell_type": "markdown",
   "metadata": {},
   "source": [
    "<a id='syntax'></a>"
   ]
  },
  {
   "cell_type": "markdown",
   "metadata": {},
   "source": [
    "# 3 Syntax"
   ]
  },
  {
   "cell_type": "markdown",
   "metadata": {},
   "source": [
    "[Back to top](#index)"
   ]
  },
  {
   "cell_type": "markdown",
   "metadata": {},
   "source": [
    "We will use a custom notation for defining tha layout of the dashboard components. Each component defined in the layout will be accessible as an attribute with the same name as the widget (we can set it directly as a parameter or indirectly with the description as seen early).\n",
    "\n",
    "A dashboard component will be a list contaning a shaoscript string notation. If the widget can have child the component will be stated as a list of two elements: The first one will be a string containing the widget shaoscript notation and the second one will be a list containing its children elements, where every element will be an item of that list.\n",
    "\n",
    "This allows for stacking widgets and creating complex boxes more easily than using multiple ipywidgets boxes."
   ]
  },
  {
   "cell_type": "markdown",
   "metadata": {},
   "source": [
    "<a id='syntax_examples'></a>"
   ]
  },
  {
   "cell_type": "markdown",
   "metadata": {},
   "source": [
    "## 3.1 Examples"
   ]
  },
  {
   "cell_type": "markdown",
   "metadata": {},
   "source": [
    "[Back to top](#index)"
   ]
  },
  {
   "cell_type": "code",
   "execution_count": 7,
   "metadata": {
    "collapsed": false
   },
   "outputs": [],
   "source": [
    "from IPython.display import Image #this is for displaying the widgets in the web version of the notebook\n",
    "from shaolin.core.dashboard import Dashboard"
   ]
  },
  {
   "cell_type": "markdown",
   "metadata": {},
   "source": [
    "- **Dashboard containing a single widget.**"
   ]
  },
  {
   "cell_type": "code",
   "execution_count": 9,
   "metadata": {
    "collapsed": false
   },
   "outputs": [
    {
     "data": {
      "image/png": "[encoded data removed]",
      "text/plain": [
       "<IPython.core.display.Image object>"
      ]
     },
     "execution_count": 9,
     "metadata": {},
     "output_type": "execute_result"
    }
   ],
   "source": [
    "dash = Dashboard(['fs$D=fs'])\n",
    "#dash.widget\n",
    "Image(filename='dashboards_data/img_1.png')"
   ]
  },
  {
   "cell_type": "markdown",
   "metadata": {},
   "source": [
    "- **Dashboard containing three components in a row**"
   ]
  },
  {
   "cell_type": "code",
   "execution_count": 10,
   "metadata": {
    "collapsed": false
   },
   "outputs": [
    {
     "data": {
      "image/png": "[encoded data removed]",
      "text/plain": [
       "<IPython.core.display.Image object>"
      ]
     },
     "execution_count": 10,
     "metadata": {},
     "output_type": "execute_result"
    }
   ],
   "source": [
    "dash = Dashboard(['r$N=row',['##Row$N=text','fs$D=fs','tog$d=Toggle']])\n",
    "#dash.widget\n",
    "Image(filename='dashboards_data/img_2.png')"
   ]
  },
  {
   "cell_type": "markdown",
   "metadata": {},
   "source": [
    "- **A column with two rows of components**"
   ]
  },
  {
   "cell_type": "code",
   "execution_count": 11,
   "metadata": {
    "collapsed": false
   },
   "outputs": [
    {
     "data": {
      "image/png": "[encoded data removed]",
      "text/plain": [
       "<IPython.core.display.Image object>"
      ]
     },
     "execution_count": 11,
     "metadata": {},
     "output_type": "execute_result"
    }
   ],
   "source": [
    "       #Column that gives a name to the Dashboard. \n",
    "test_dash = ['c$N=array_scaler',\n",
    "        #first row only has one widget. This element can be just a string \n",
    "        ['@(0,100,1, (0., 100.))$N=scale_slider&d=range',\n",
    "         #Two widgets in the second row. As this element has childrens it has to be a list.\n",
    "         ['r$N=main_row',['@dd$d=Apply&N=dd_sel&val=one&o=[\"one\",\"two\",\"three\"]','@True$N=scale_chk&d=Scale']]\n",
    "        ]\n",
    "       ]\n",
    "dboard = Dashboard(test_dash)\n",
    "#dboard.widget\n",
    "Image(filename='dashboards_data/img_3.png')"
   ]
  },
  {
   "cell_type": "markdown",
   "metadata": {},
   "source": [
    "<a id='interactivity'></a>"
   ]
  },
  {
   "cell_type": "markdown",
   "metadata": {},
   "source": [
    "# 4 Interactivity"
   ]
  },
  {
   "cell_type": "markdown",
   "metadata": {},
   "source": [
    "[Back to top](#index)"
   ]
  },
  {
   "cell_type": "markdown",
   "metadata": {},
   "source": [
    "There are 3 modes of interactivity that determines how a given component behaves when its value changes. The mode attribute of a Dashboard holds one interactivity value of the following:\n",
    "\n",
    "- **Passive**: changing the value of the widget won+t have any additional effect. Markdown and display components are a good example of widgets that can exibit a passive behaviour.\n",
    "\n",
    "- **active**: If a component is active it will be included in the kwargs dict but changing its value won't trigger the update function.\n",
    "\n",
    "- **Interactive**: Once the observe function is called on a Dashboard, the target function will be applied each time an interactive component changes its value."
   ]
  },
  {
   "cell_type": "markdown",
   "metadata": {},
   "source": [
    "Accessing the mode_dict attribube of a Dashboard the mode of every component can be viewed and changed."
   ]
  },
  {
   "cell_type": "markdown",
   "metadata": {},
   "source": [
    "<a id='default_int'></a>"
   ]
  },
  {
   "cell_type": "code",
   "execution_count": 7,
   "metadata": {
    "collapsed": false
   },
   "outputs": [
    {
     "data": {
      "text/plain": [
       "{'active': [],\n",
       " 'all': ['array_scaler', 'scale_slider', 'main_row', 'dd_sel', 'scale_chk'],\n",
       " 'interactive': ['scale_slider', 'dd_sel', 'scale_chk'],\n",
       " 'passive': ['array_scaler', 'main_row']}"
      ]
     },
     "execution_count": 7,
     "metadata": {},
     "output_type": "execute_result"
    }
   ],
   "source": [
    "dboard.mode_dict"
   ]
  },
  {
   "cell_type": "markdown",
   "metadata": {},
   "source": [
    "<a id='interactivity_default'></a>"
   ]
  },
  {
   "cell_type": "markdown",
   "metadata": {},
   "source": [
    "## 4.1 Default values"
   ]
  },
  {
   "cell_type": "markdown",
   "metadata": {},
   "source": [
    "Each widget and Dashboard will be assignes by default the active mode. An exception to this rule are the widget boxes and Markdown Widgets."
   ]
  },
  {
   "cell_type": "markdown",
   "metadata": {},
   "source": [
    "<a id='interactivity_syntax'></a>"
   ]
  },
  {
   "cell_type": "markdown",
   "metadata": {},
   "source": [
    "## 4.2 Syntax"
   ]
  },
  {
   "cell_type": "markdown",
   "metadata": {},
   "source": [
    "[Back to top](#index)"
   ]
  },
  {
   "cell_type": "markdown",
   "metadata": {},
   "source": [
    "The interactivity value can be set writing the character @ at the begining of a shaoscript string. Note that this is a shaoscript syntax feature and will also set the mode as interactive when a widget is created using the function shaoscript (not only with the Dashboard object)"
   ]
  },
  {
   "cell_type": "code",
   "execution_count": 8,
   "metadata": {
    "collapsed": false
   },
   "outputs": [
    {
     "name": "stdout",
     "output_type": "stream",
     "text": [
      "Interactive dropdown {'all': ['dd_sel'], 'active': [], 'passive': [], 'interactive': ['dd_sel']} \n",
      " Active dropdown {'all': ['dd_sel'], 'active': ['dd_sel'], 'passive': [], 'interactive': []}\n"
     ]
    }
   ],
   "source": [
    "A = Dashboard(['@dd$d=Dropdown&N=dd_sel&val=one&o=[\"one\",\"two\",\"three\"]'])\n",
    "B = Dashboard(['dd$d=Dropdown&N=dd_sel&val=one&o=[\"one\",\"two\",\"three\"]'],mode='interactive')\n",
    "print(\"Interactive dropdown\",A.mode_dict,\"\\n Active dropdown\",B.mode_dict)\n"
   ]
  },
  {
   "cell_type": "code",
   "execution_count": 9,
   "metadata": {
    "collapsed": false
   },
   "outputs": [
    {
     "data": {
      "text/plain": [
       "('active', 'interactive')"
      ]
     },
     "execution_count": 9,
     "metadata": {},
     "output_type": "execute_result"
    }
   ],
   "source": [
    "A.mode, B.mode"
   ]
  },
  {
   "cell_type": "markdown",
   "metadata": {},
   "source": [
    "<a id='styling'></a>"
   ]
  },
  {
   "cell_type": "markdown",
   "metadata": {},
   "source": [
    "# 5 Styling"
   ]
  },
  {
   "cell_type": "markdown",
   "metadata": {},
   "source": [
    "[Back to top](#index)"
   ]
  },
  {
   "cell_type": "markdown",
   "metadata": {},
   "source": [
    "Although it is possible to style a Dashboard accessing the layout attribute of the widgets of any component (the target widget and the box widget wrapping the target) the recommended way of styling a Dashboard is using its state_manager attribute.\n",
    "\n",
    "The state_manager is a widget that allows to modify, load, and save any change to the Dashboard styling in an interactive way."
   ]
  },
  {
   "cell_type": "markdown",
   "metadata": {},
   "source": [
    "<a id='state_manager'></a>"
   ]
  },
  {
   "cell_type": "markdown",
   "metadata": {},
   "source": [
    "## 5.1 State Manager"
   ]
  },
  {
   "cell_type": "markdown",
   "metadata": {},
   "source": [
    "[Back to top](#index)"
   ]
  },
  {
   "cell_type": "markdown",
   "metadata": {},
   "source": [
    "The state manager is a Dashboard that allows to modify in an interactive way any visual property of a given Dashboard. Following the former example we will show how to customize a the Dashboard that we created before.\n",
    "\n",
    "This is a relatively complex Dashboard which can be seen as a colum that has three different rows:\n",
    "\n",
    "- ### **Css modifier**: \n",
    "This part is in charge of seting a group of css attributes for a selected widget. There are two groupc of css attributes:\n",
    "    - **Text attribute**: Its widge will display the available values in a dropdown or a text input for non-common values. A custom value can be set by deactivating the Default checkbox for a given attribute. Each selection can either be applied to the target widget of a component or to its box.\n",
    "    - **Numeric attribute**: Its Dashboard will allow to select the units in which the value will be expressed using a text input or a slider for selecting the numeric value and a togglebutton for selecting the units. \n",
    "- ### **Control Panel**: \n",
    "This row has the following elements:\n",
    "    - **Component selector**: This allows to select the component that will be modified.\n",
    "    - **Layout attribute selector**: This toggle buttons allow to select which layout attribute will be modified:\n",
    "        - **Grid**: Attributes regarding alignment, padding and margin. The alignment attributes will be applied only to the target or the box of a component only when they will haev a meaningful effect.\n",
    "        - **W&H**: width and height css related attributes.\n",
    "        - **Other**: The rest of the layout attributes.\n",
    "        - **Widget**: Component target's attributes that influence the widget appearance.\n",
    "    - **Selected attribute display**\n",
    "    - **Layout saver**\n",
    "- ### **Target Dashboard**: \n",
    "The Dashboard that is currently modifying the state manager. "
   ]
  },
  {
   "cell_type": "code",
   "execution_count": 13,
   "metadata": {
    "collapsed": false,
    "scrolled": false
   },
   "outputs": [
    {
     "data": {
      "image/png": "[encoded data removed]",
      "text/plain": [
       "<IPython.core.display.Image object>"
      ]
     },
     "execution_count": 13,
     "metadata": {},
     "output_type": "execute_result"
    }
   ],
   "source": [
    "#dboard.state_manager\n",
    "Image(filename='dashboards_data/img_4.png')"
   ]
  },
  {
   "cell_type": "markdown",
   "metadata": {},
   "source": [
    "In this example we are going to modify the following:\n",
    "\n",
    "- **Padding of every component**: 0.5em, dropdown and checkbox 0.25em.\n",
    "- **Justify value of the checkbox**: center\n",
    "- **width of the dropdown**: 100%\n",
    "- **width of the Dashboard**: 22em\n",
    "- **border of the whole Dashboard**: blue solid 0.1em"
   ]
  },
  {
   "cell_type": "markdown",
   "metadata": {},
   "source": [
    "<a id='load_and_save'></a>"
   ]
  },
  {
   "cell_type": "markdown",
   "metadata": {},
   "source": [
    "## 5.2 Accessing, loading and changing the layout"
   ]
  },
  {
   "cell_type": "markdown",
   "metadata": {},
   "source": [
    "[Back to top](#index)"
   ]
  },
  {
   "cell_type": "markdown",
   "metadata": {},
   "source": [
    "The modified layout can be read and changed accesing the *state* attribute of a dashboard, and can be saved as a dict by clicking the save button in the state manager. This way the state dict will be saved as a pickle file. \n",
    "\n",
    "The folowing example illustrates this process. Note that the A widget behaves on its own and the B and C are linked. This is due to both having the same name (the name of the first element of the Dashboard)"
   ]
  },
  {
   "cell_type": "code",
   "execution_count": 15,
   "metadata": {
    "collapsed": false,
    "scrolled": true
   },
   "outputs": [
    {
     "data": {
      "image/png": "[encoded data removed]",
      "text/plain": [
       "<IPython.core.display.Image object>"
      ]
     },
     "execution_count": 15,
     "metadata": {},
     "output_type": "execute_result"
    }
   ],
   "source": [
    "A= Dashboard(test_dash,state='array_scaler.pkl',name='A') #instantiating with the path of a saved layout.\n",
    "custom_layout = dict(A.state)\n",
    "B = Dashboard(test_dash,state=custom_layout) #instantiating with a dict \n",
    "C = Dashboard(test_dash)#Init with default layout.\n",
    "C.state = custom_layout #dinamically changing the layout\n",
    "#Dashboard(['r$N=row',[A,B,C]]).widget #This is the new widgets.Hbox(children=[A.widget, B.widget, C.widget])\n",
    "Image(filename='dashboards_data/img_5.png')"
   ]
  },
  {
   "cell_type": "code",
   "execution_count": 18,
   "metadata": {
    "collapsed": false
   },
   "outputs": [
    {
     "data": {
      "text/plain": [
       "{'array_scaler': {'css_traits': {'align_content': {'target': 'blue solid 0.1em',\n",
       "    'widget': ''},\n",
       "   'align_items': {'target': 'blue solid 0.1em', 'widget': ''},\n",
       "   'align_self': {'target': 'blue solid 0.1em', 'widget': ''},\n",
       "   'border': {'target': 'blue solid 0.1em', 'widget': ''},\n",
       "   'bottom': {'target': 'blue solid 0.1em', 'widget': ''},\n",
       "   'display': {'target': 'blue solid 0.1em', 'widget': ''},\n",
       "   'flex': {'target': 'blue solid 0.1em', 'widget': ''},\n",
       "   'flex_flow': {'target': 'blue solid 0.1em', 'widget': ''},\n",
       "   'height': {'target': '', 'widget': ''},\n",
       "   'justify_content': {'target': 'blue solid 0.1em', 'widget': ''},\n",
       "   'left': {'target': 'blue solid 0.1em', 'widget': ''},\n",
       "   'margin': {'target': 'blue solid 0.1em', 'widget': ''},\n",
       "   'max_height': {'target': '', 'widget': ''},\n",
       "   'max_width': {'target': '', 'widget': ''},\n",
       "   'min_height': {'target': '', 'widget': ''},\n",
       "   'min_width': {'target': '', 'widget': ''},\n",
       "   'overflow': {'target': 'blue solid 0.1em', 'widget': ''},\n",
       "   'padding': {'target': 'blue solid 0.1em', 'widget': ''},\n",
       "   'right': {'target': 'blue solid 0.1em', 'widget': ''},\n",
       "   'top': {'target': 'blue solid 0.1em', 'widget': ''},\n",
       "   'visibility': {'target': 'blue solid 0.1em', 'widget': ''},\n",
       "   'width': {'target': '22.0em', 'widget': ''}},\n",
       "  'widget_attrs': {'visible': True}},\n",
       " 'dd_sel': {'css_traits': {'align_content': {'target': '', 'widget': ''},\n",
       "   'align_items': {'target': '', 'widget': ''},\n",
       "   'align_self': {'target': '', 'widget': ''},\n",
       "   'border': {'target': '', 'widget': ''},\n",
       "   'bottom': {'target': '', 'widget': ''},\n",
       "   'display': {'target': '', 'widget': ''},\n",
       "   'flex': {'target': '', 'widget': ''},\n",
       "   'flex_flow': {'target': '', 'widget': ''},\n",
       "   'height': {'target': '', 'widget': ''},\n",
       "   'justify_content': {'target': 'center', 'widget': ''},\n",
       "   'left': {'target': '', 'widget': ''},\n",
       "   'margin': {'target': '', 'widget': ''},\n",
       "   'max_height': {'target': '', 'widget': ''},\n",
       "   'max_width': {'target': '', 'widget': ''},\n",
       "   'min_height': {'target': '', 'widget': ''},\n",
       "   'min_width': {'target': '', 'widget': ''},\n",
       "   'overflow': {'target': '', 'widget': ''},\n",
       "   'padding': {'target': '', 'widget': '0.25%'},\n",
       "   'right': {'target': '', 'widget': ''},\n",
       "   'top': {'target': '', 'widget': ''},\n",
       "   'visibility': {'target': '', 'widget': ''},\n",
       "   'width': {'target': '100.0%', 'widget': ''}},\n",
       "  'widget_attrs': {'visible': True}},\n",
       " 'main_row': {'css_traits': {'align_content': {'target': '', 'widget': ''},\n",
       "   'align_items': {'target': '', 'widget': ''},\n",
       "   'align_self': {'target': '', 'widget': ''},\n",
       "   'border': {'target': '', 'widget': ''},\n",
       "   'bottom': {'target': '', 'widget': ''},\n",
       "   'display': {'target': '', 'widget': ''},\n",
       "   'flex': {'target': '', 'widget': ''},\n",
       "   'flex_flow': {'target': '', 'widget': ''},\n",
       "   'height': {'target': '', 'widget': ''},\n",
       "   'justify_content': {'target': '', 'widget': ''},\n",
       "   'left': {'target': '', 'widget': ''},\n",
       "   'margin': {'target': '', 'widget': ''},\n",
       "   'max_height': {'target': '', 'widget': ''},\n",
       "   'max_width': {'target': '', 'widget': ''},\n",
       "   'min_height': {'target': '', 'widget': ''},\n",
       "   'min_width': {'target': '', 'widget': ''},\n",
       "   'overflow': {'target': '', 'widget': ''},\n",
       "   'padding': {'target': '', 'widget': '0.5%'},\n",
       "   'right': {'target': '', 'widget': ''},\n",
       "   'top': {'target': '', 'widget': ''},\n",
       "   'visibility': {'target': '', 'widget': ''},\n",
       "   'width': {'target': '', 'widget': ''}},\n",
       "  'widget_attrs': {'visible': True}},\n",
       " 'scale_chk': {'css_traits': {'align_content': {'target': '', 'widget': ''},\n",
       "   'align_items': {'target': '', 'widget': ''},\n",
       "   'align_self': {'target': '', 'widget': ''},\n",
       "   'border': {'target': '', 'widget': ''},\n",
       "   'bottom': {'target': '', 'widget': ''},\n",
       "   'display': {'target': '', 'widget': ''},\n",
       "   'flex': {'target': '', 'widget': ''},\n",
       "   'flex_flow': {'target': '', 'widget': ''},\n",
       "   'height': {'target': '', 'widget': ''},\n",
       "   'justify_content': {'target': 'center', 'widget': ''},\n",
       "   'left': {'target': '', 'widget': ''},\n",
       "   'margin': {'target': '', 'widget': ''},\n",
       "   'max_height': {'target': '', 'widget': ''},\n",
       "   'max_width': {'target': '', 'widget': ''},\n",
       "   'min_height': {'target': '', 'widget': ''},\n",
       "   'min_width': {'target': '', 'widget': ''},\n",
       "   'overflow': {'target': '', 'widget': ''},\n",
       "   'padding': {'target': '', 'widget': '0.25%'},\n",
       "   'right': {'target': '', 'widget': ''},\n",
       "   'top': {'target': '', 'widget': ''},\n",
       "   'visibility': {'target': '', 'widget': ''},\n",
       "   'width': {'target': '', 'widget': ''}},\n",
       "  'widget_attrs': {'visible': True}},\n",
       " 'scale_slider': {'css_traits': {'align_content': {'target': '', 'widget': ''},\n",
       "   'align_items': {'target': '', 'widget': ''},\n",
       "   'align_self': {'target': '', 'widget': ''},\n",
       "   'border': {'target': '', 'widget': ''},\n",
       "   'bottom': {'target': '', 'widget': ''},\n",
       "   'display': {'target': '', 'widget': ''},\n",
       "   'flex': {'target': '', 'widget': ''},\n",
       "   'flex_flow': {'target': '', 'widget': ''},\n",
       "   'height': {'target': '', 'widget': ''},\n",
       "   'justify_content': {'target': '', 'widget': ''},\n",
       "   'left': {'target': '', 'widget': ''},\n",
       "   'margin': {'target': '', 'widget': ''},\n",
       "   'max_height': {'target': '', 'widget': ''},\n",
       "   'max_width': {'target': '', 'widget': ''},\n",
       "   'min_height': {'target': '', 'widget': ''},\n",
       "   'min_width': {'target': '', 'widget': ''},\n",
       "   'overflow': {'target': '', 'widget': ''},\n",
       "   'padding': {'target': '', 'widget': '0.5%'},\n",
       "   'right': {'target': '', 'widget': ''},\n",
       "   'top': {'target': '', 'widget': ''},\n",
       "   'visibility': {'target': '', 'widget': ''},\n",
       "   'width': {'target': '', 'widget': ''}},\n",
       "  'widget_attrs': {'visible': True}}}"
      ]
     },
     "execution_count": 18,
     "metadata": {},
     "output_type": "execute_result"
    }
   ],
   "source": [
    "C.state"
   ]
  }
 ],
 "metadata": {
  "kernelspec": {
   "display_name": "Python 3",
   "language": "python",
   "name": "python3"
  },
  "language_info": {
   "codemirror_mode": {
    "name": "ipython",
    "version": 3
   },
   "file_extension": ".py",
   "mimetype": "text/x-python",
   "name": "python",
   "nbconvert_exporter": "python",
   "pygments_lexer": "ipython3",
   "version": "3.5.1"
  },
  "widgets": {
   "state": {
    "00184941c4e042f5a3645f10f6a1c476": {
     "views": []
    },
    "0031f97084694545bd25d72231e902fb": {
     "views": []
    },
    "00406871f34d4519a09e9e81dee5926c": {
     "views": []
    },
    "009de9b545ce486696ec969484958611": {
     "views": []
    },
    "01548de074ce48d796ddfc2010d6f07f": {
     "views": []
    },
    "01d52491be724c26a40d1899f394342c": {
     "views": []
    },
    "01f9af561eba45b9aea30ecff5be943a": {
     "views": []
    },
    "025c28b473c447729ef475e9560f65f7": {
     "views": []
    },
    "02996011e76d4cd4b0ac982e60b239b5": {
     "views": []
    },
    "02b65c59a4f0449795e9df6dc4644c4c": {
     "views": []
    },
    "030ac6b789a647878b339c1bbe673c80": {
     "views": []
    },
    "034aece1c4984fae86f3faa63295d218": {
     "views": []
    },
    "03557c9c650b460c886ba084a3a8cd28": {
     "views": []
    },
    "036b4f4dcf084963adfa1bc2e2fbfea3": {
     "views": []
    },
    "036f95b4ee7f47e1aec745e2a6fd1f83": {
     "views": []
    },
    "03c38d60f31a469ebc38bae5b8fc1c68": {
     "views": []
    },
    "03dd13543f9a41eb976174dcca014346": {
     "views": []
    },
    "03f5c00bb5b04be7aa291b72b8024f8a": {
     "views": []
    },
    "0418aa044f364c8db4bffa9fa64b38ee": {
     "views": []
    },
    "04d8ed520ed54fc985338ac59924b6c2": {
     "views": []
    },
    "052285dd05914813897aff6e79b46cfe": {
     "views": []
    },
    "0570524b04ce4b4d8c78ac4f33119d15": {
     "views": []
    },
    "05a52351421c4c02a74ab9194f990dba": {
     "views": []
    },
    "05b3c88588fa42a781eec4bed7adda4d": {
     "views": []
    },
    "05b5bd6e9b764c36b38d096f96e23c88": {
     "views": []
    },
    "05efa9533c7e4066977b22c1f43f8c40": {
     "views": []
    },
    "05fdf65fce70430b84e29b12540e6c41": {
     "views": []
    },
    "0602e15d7fa44ae89e38b8df382d4c17": {
     "views": []
    },
    "06067047af02474d84b242e4a0fa3f53": {
     "views": []
    },
    "060cb170a400433f8541b3a305e3f2e6": {
     "views": []
    },
    "06100a29186a465e9f627a5deb4b4bb2": {
     "views": []
    },
    "070934576df24b1ebda08850f964aa56": {
     "views": []
    },
    "0709dc9557544a528937cca4664512b6": {
     "views": []
    },
    "07115a8d427c4543b5c5896998cf59c3": {
     "views": []
    },
    "0756621eddf2410d93583d0d20973787": {
     "views": []
    },
    "077afe67bda94da2bf892bea15ebfccb": {
     "views": []
    },
    "07bce3db16304cd2ac0f104c3020701c": {
     "views": []
    },
    "07d8768db1824e6286ebabc0f9b229d8": {
     "views": []
    },
    "07ec43c58dc249349f1912fbf2a115cc": {
     "views": []
    },
    "0848e5583c3a48bca31935856f1024f4": {
     "views": []
    },
    "08ec0fdaa1504b95a3ebaa32d8fce110": {
     "views": []
    },
    "0914be36f8904ca386252324e688478b": {
     "views": []
    },
    "0b3e303c21e84af78443a0a009eaed1c": {
     "views": []
    },
    "0b3fcd6ec9c54f618dd46bfd770bb435": {
     "views": []
    },
    "0b55d400bcfa42df854a0a7ac7964f1e": {
     "views": []
    },
    "0b6e391dfc584383ab21677cb7fd5c9a": {
     "views": []
    },
    "0c0e794b9e7b407d965adabd710861cd": {
     "views": []
    },
    "0cab3883ff4c4f44b7e73687ac41b0e4": {
     "views": []
    },
    "0d0377b908b648e4befec0a41b5f4cf3": {
     "views": []
    },
    "0d1713b644754234a0b852d8b5ada42a": {
     "views": []
    },
    "0d779f5d0ed741b488e116904a85913b": {
     "views": []
    },
    "0e0d3bceb8494ddaafdedac5a081c604": {
     "views": []
    },
    "0e5bcb49c39c44a0a3c6018c193f0b27": {
     "views": []
    },
    "0eed717f31f1453097ad0edccec723d1": {
     "views": []
    },
    "0f092a463b9e440ebcb2ca71ab7251b0": {
     "views": []
    },
    "0f3766fadb664903aca2a5602b9fcc4c": {
     "views": []
    },
    "0f3aa6d51b6242b8889342a1803ba148": {
     "views": []
    },
    "0f506fd42eb949ce88016294851a7d1f": {
     "views": []
    },
    "0f6b8ddb34cd44b98b964ee683f31b66": {
     "views": []
    },
    "109abacd13834d9bbf8ed3842c1dc3b6": {
     "views": []
    },
    "10baa3b3b6014adc9d0d48321bdc0837": {
     "views": []
    },
    "10da6c28c70f4d07a4eb538a86d603fb": {
     "views": []
    },
    "10e42da329424a2487682497b70c01c9": {
     "views": []
    },
    "110e9167e7704c388c33e985be01bff2": {
     "views": []
    },
    "111e5b7a51f94dfd89f4f8aeafbccc14": {
     "views": []
    },
    "1126f832b22e4d7e979bea3c2026aab6": {
     "views": []
    },
    "117648d8cabd4f05a76599a5ca9ee8d8": {
     "views": []
    },
    "11e954001c1b41fcbf6539e3e78c3122": {
     "views": []
    },
    "121223a87b054c31a24b23b16e380ab3": {
     "views": []
    },
    "12c6f9b5ed144fba8cce0793926f1ca4": {
     "views": []
    },
    "13090108f3934b668c60793166c24d61": {
     "views": []
    },
    "13394262beb64d18b4f9fb4e4864ef2f": {
     "views": []
    },
    "1366977136e341a097fcad1f81f81b91": {
     "views": []
    },
    "13fff4602f7a4264907041e071bf0e38": {
     "views": []
    },
    "140b8ee78ca245178f8b181d95b79b35": {
     "views": []
    },
    "146c4f872d9e4e85a91ffc04ee9f9ded": {
     "views": []
    },
    "14ac0448e5ce44dd9b3b5f21762421a9": {
     "views": []
    },
    "14c4b4fb6954417e89a090692d7df2b9": {
     "views": []
    },
    "150a4e200016406fae6ad262c4e7e5dd": {
     "views": []
    },
    "1553fff8c6c144d99c30b23a2b843828": {
     "views": []
    },
    "155e90acfdde4ddcb51b31a39cc6d5df": {
     "views": []
    },
    "157472192f8745a58995b9527503f3f9": {
     "views": []
    },
    "157d42c6d4054c7a9f3bc34328975797": {
     "views": []
    },
    "15f73dcb536449249d2ae6c074185894": {
     "views": []
    },
    "1610fee91d734e3ea5bb3d2bb236eb94": {
     "views": []
    },
    "1715c3f096cb4de28ee0c3270f0770e1": {
     "views": []
    },
    "173e04d9ef7941948c1c4b714e7e9875": {
     "views": []
    },
    "175975a1782e40a08917b66768b78862": {
     "views": []
    },
    "178aaa40a7134765ad5226f422f41e86": {
     "views": []
    },
    "17b4fd6b20024843b90ebf0277b794c2": {
     "views": []
    },
    "17e2c5477a104a2594295de9a5259878": {
     "views": []
    },
    "17fdb264d3f84ab48b8e5a363fc298a8": {
     "views": []
    },
    "18093268f76f40ecb4dc549c2526b504": {
     "views": []
    },
    "18315d05869b435a8963b4ae547afeb4": {
     "views": []
    },
    "1883b039fcb84b29a9f08e54a7154d2c": {
     "views": []
    },
    "1963974c84014345bafb308e437dba4f": {
     "views": []
    },
    "19e765b950d04b31b7361eacaaed3665": {
     "views": []
    },
    "1a33b9ea6dd64dc3b0381473e005185f": {
     "views": []
    },
    "1a3563c6f3474a9baee2ade0794961bc": {
     "views": []
    },
    "1a37d9ae4312489091662228a6594478": {
     "views": []
    },
    "1a8e39dbf45a4488832104f98918be92": {
     "views": []
    },
    "1aa0783eb4dd403fb2d84bdfaf52cf44": {
     "views": []
    },
    "1b205d2eec6f47678898da8a30cd48b5": {
     "views": []
    },
    "1b3158faf44c450abc9bd7c45e205057": {
     "views": []
    },
    "1b49ce311b3747f8b0900e4c4f3ea9f7": {
     "views": []
    },
    "1b6966bee5b64493a212eec79429b1a0": {
     "views": []
    },
    "1c1ebcf7a4704ed1a0f2f3411dd8cb5e": {
     "views": []
    },
    "1ccddc8d4e8d459aa42e2c4b3460e531": {
     "views": []
    },
    "1d5c965ba0984c138398a1b83d4c0cb1": {
     "views": []
    },
    "1d5e67207f254086acfef87ca14e781c": {
     "views": []
    },
    "1dcb2b124af7447599d6df8211dc1ace": {
     "views": []
    },
    "1e7efba7e10e408a8b3791741f3f85e2": {
     "views": []
    },
    "1f12e99b9b4f4f8dbfa2102ec3285e2c": {
     "views": []
    },
    "1f1932c6284c43369b12fce9b3d8668f": {
     "views": []
    },
    "1fc4072a6e794a078377c19c73781666": {
     "views": []
    },
    "1fe08a6402774b609bd2247db43692ed": {
     "views": []
    },
    "2061756506ea4cabb5ad922a3506225c": {
     "views": []
    },
    "20d980b4cb474832befbf07ff491f9f2": {
     "views": []
    },
    "20e83d56002643c0ba3fa93f294f37c2": {
     "views": []
    },
    "20faa18f30654827825dd74232258fad": {
     "views": []
    },
    "210c52f1c66e4ef88a555b6aaf4f2b33": {
     "views": []
    },
    "210da1a3910f4a68ab3811e58387a2c4": {
     "views": []
    },
    "211c711c3f4748bea8819d5caf8abd5a": {
     "views": []
    },
    "2129785b481240599edd905d7f03a5f8": {
     "views": []
    },
    "212a2c2ba9a646e5a10fbea1faad129f": {
     "views": []
    },
    "21719dc7b02c432c8380df43ed4d1a0f": {
     "views": []
    },
    "21a508d27223465f813a1a0f8cb986bd": {
     "views": []
    },
    "21ef3edc5cc449e7b368e537875259e7": {
     "views": []
    },
    "22337432c4264d52bceffaadd02a96b1": {
     "views": []
    },
    "2259505247e84de0b2c705f033834ce9": {
     "views": []
    },
    "228a8cf7cd6d4eb78deb64725187f707": {
     "views": []
    },
    "22c6a05197b24880a8b8118c14f0aafc": {
     "views": []
    },
    "231bc546b80b4499aaeadea42048ca2a": {
     "views": []
    },
    "236c46717aaa42d28f416f1f71501c4a": {
     "views": []
    },
    "23c767f8af26451d9825f2e52bb12302": {
     "views": []
    },
    "23d3060de9ea4978902bb22d492fc7c7": {
     "views": []
    },
    "23d3c88723074fd9b9dd60589bb0a558": {
     "views": []
    },
    "23f9ce80fe7a46a5956d271a95c956a9": {
     "views": []
    },
    "240f4292ee6a4689bf70a3534fe54ae2": {
     "views": []
    },
    "242658cf2a904e77874d291bfc0bc6b8": {
     "views": []
    },
    "250085dc92f74a8592e0f8a02512e7c2": {
     "views": []
    },
    "254614c39d6e43c0b831d7e753f843e4": {
     "views": []
    },
    "259f99ad12a34453b56344d4e339be9c": {
     "views": []
    },
    "25c9fb4b6ef448e4bc9f2ab7eb19a3e8": {
     "views": []
    },
    "2607332374d9491aa44ca9d3fa13323c": {
     "views": []
    },
    "262d5beed44941a2956e60245d9c9547": {
     "views": []
    },
    "275a04da771b45a5ba337b49e3d55ce9": {
     "views": []
    },
    "278289d83f2a4ce7b73350cb9c877e5e": {
     "views": []
    },
    "282a28edb5684f6087b091e078893c1c": {
     "views": []
    },
    "282fadf99dab42da912665e29275533e": {
     "views": []
    },
    "283af00ce0c14506a912f9720eb33d69": {
     "views": []
    },
    "2873d66983cd462f8ccd70b32ef3f89d": {
     "views": []
    },
    "29a2c5eb96f24fd08bdcfed26fd4a91e": {
     "views": []
    },
    "29c63a5351764ed58834024e4af28d26": {
     "views": []
    },
    "29c7324362c94c588a93b2fff5067275": {
     "views": []
    },
    "2a1584eb753241478db5830bfa9968d7": {
     "views": []
    },
    "2a2d359b399244cd8cfe60d791b5906b": {
     "views": []
    },
    "2a5c5635afaf4a72928072f07b4d058c": {
     "views": []
    },
    "2a6870b86d38445baca3c4ef0aa99f31": {
     "views": []
    },
    "2aef1d31baaf4ea0acbb650e7377e424": {
     "views": []
    },
    "2b09fc6deb964da29096acb4b8d30bec": {
     "views": []
    },
    "2b23715b4ca141ce9b44110aa529dd33": {
     "views": []
    },
    "2b524517b6eb4c088fc38993bb0899ab": {
     "views": []
    },
    "2b74f45fd2a44a2d915e1ddbd13e7af8": {
     "views": []
    },
    "2b8b27b13c874ff0b192224c4135f2dc": {
     "views": []
    },
    "2bd5ee4f8fdc44e6811ec29683dc6dee": {
     "views": []
    },
    "2c17b9972d2448d5a17c734e1379edba": {
     "views": []
    },
    "2c86ef60a56f48b6bc76fe19600f69f5": {
     "views": []
    },
    "2cb731ea71f5427c838a075c60606e56": {
     "views": []
    },
    "2cfb83b722d74941af5391d1d6f2197e": {
     "views": []
    },
    "2d4e2d8cc839428992d7a04e0c08b405": {
     "views": []
    },
    "2dbae35fb95448bcb45b251211a5abb3": {
     "views": []
    },
    "2dc1a5cd3b5b4234ac5d916b74192edd": {
     "views": []
    },
    "2f30d2d769fa4cdb810ea0affac19bda": {
     "views": []
    },
    "2f5a56d1692c4498bc1be0c0563ce847": {
     "views": []
    },
    "30049efd51254e26be245029707aabe4": {
     "views": []
    },
    "3043897075bd4f65b16798f6a2ada4af": {
     "views": []
    },
    "307057a9f17f4901bb08bcb89bd2d297": {
     "views": []
    },
    "30ac45650f5444e791246abaae3165e2": {
     "views": []
    },
    "30b91509ed7b4363bf78fcd47898b70e": {
     "views": []
    },
    "315f26968da744fdbba80544b1728161": {
     "views": []
    },
    "3168e175c66b4ab8b66b35aca7a6d9fb": {
     "views": []
    },
    "3293ff13df9246a8a83afc097f03da9d": {
     "views": []
    },
    "32a9b5b11c1c440ca57f0660ac42cc5c": {
     "views": []
    },
    "32bf2f44fed0463cb4e1859e3668f0a1": {
     "views": []
    },
    "32ed6fa90e6b439e87e330be2851b2b3": {
     "views": []
    },
    "3356b1b26662420c9d9850aec8d5ec4f": {
     "views": []
    },
    "33aca2f77765444495dee72e2f027365": {
     "views": []
    },
    "33b095d12a434931ba63fd8e64e3bd67": {
     "views": []
    },
    "33b1ddd5f6eb49faa3e0fdc700ebd28a": {
     "views": []
    },
    "343469b4232848b99f81a762d39905fa": {
     "views": []
    },
    "34f2ab88e8ce4cb988a34625ef898621": {
     "views": []
    },
    "34ff87a073be4441b1ebdb0af1eef414": {
     "views": []
    },
    "3568289c75c041f29767d2650d013663": {
     "views": []
    },
    "359b05938bb94a24897caa6d6986453c": {
     "views": []
    },
    "360bbda464c14fc19878951e67735eaf": {
     "views": []
    },
    "360fefbc09df4cf19efddb68f24826db": {
     "views": []
    },
    "3619518b86654218959497b1dab68b57": {
     "views": []
    },
    "3641265b854b4f30ac4ae3d413ec417c": {
     "views": []
    },
    "364c4cf33f49446e88527e2389dee410": {
     "views": []
    },
    "36bae58ff67549b492252da2b7be7a41": {
     "views": []
    },
    "37b5ce9738ab430daf618f237cbda69b": {
     "views": []
    },
    "37c76827d50b4833867c8260c8d224f2": {
     "views": []
    },
    "37c8262fc23e429bb5b7cfb779058e6e": {
     "views": []
    },
    "37d74b4bdc60453aa0d9aa12ab343dfc": {
     "views": []
    },
    "38780aa24bfd4b0f922cf381e1c89c51": {
     "views": []
    },
    "3945f37ba6d449d3ae496be5eb1f8ea6": {
     "views": []
    },
    "3957e3e7070846c8ab1d5ce874e38cc1": {
     "views": []
    },
    "39e99dc12d754ec58f29709ec5efe52c": {
     "views": []
    },
    "3a183cdb0e334efbacb640cf949f8dcf": {
     "views": []
    },
    "3ab22420ed154cc3babc53769226cce9": {
     "views": []
    },
    "3ae25c812216468b8eb9124f4f8f2067": {
     "views": []
    },
    "3af6e0d361ff48d3960ecdd2bf2f4680": {
     "views": []
    },
    "3b51e21fe977468aacbda6820d70763a": {
     "views": []
    },
    "3b87d94a6b954aeab091eec2ce4a7395": {
     "views": []
    },
    "3bb1924b501945748ea022b4c6f78fdb": {
     "views": []
    },
    "3bd7f09abef74cd6895a9166004b125d": {
     "views": []
    },
    "3bed308b2dcc401a930b0eca9b60a922": {
     "views": []
    },
    "3bfc504caafa46a5874b9d95730b378a": {
     "views": []
    },
    "3c44f4272cb24dc59d0e755711e9f364": {
     "views": []
    },
    "3c6fc810a04941c382a6ed0fdc101e9b": {
     "views": []
    },
    "3c7b2fbb79764bcaa6822ec8178583b5": {
     "views": []
    },
    "3c7bd879b6c64b1a9b843f480ed627cf": {
     "views": []
    },
    "3c9e9a60adbe4376a9340e9cca4ee5bd": {
     "views": []
    },
    "3d23225e5c894663b0f32ee345c0df84": {
     "views": []
    },
    "3d881032c0c94af7a19ca386ea8d57e3": {
     "views": []
    },
    "3d90941b11c54f72814f95e7c00c9031": {
     "views": []
    },
    "3da3b919ef98475eab108e1169720a45": {
     "views": []
    },
    "3db4d3f75e094325bb1279b04ce91d0e": {
     "views": []
    },
    "3dee4185ecf4485aa39061e55a09a47a": {
     "views": []
    },
    "3df35688c9f14326a65b423beae4313c": {
     "views": []
    },
    "3e20213426954399b59629f7d5b76e44": {
     "views": []
    },
    "3e31630b88784a66b16ba0ea3dd63001": {
     "views": []
    },
    "3eddbc6cd68c4885ad22a70da8df2cda": {
     "views": []
    },
    "3ee307b87a6b4cf2a6d84e929529795d": {
     "views": []
    },
    "3ef08247a81944afb77e9e5681d664e8": {
     "views": []
    },
    "3efb109947a84624863ea311cc8d4833": {
     "views": []
    },
    "3f09f215e5434602beef5b30ff763cdc": {
     "views": []
    },
    "3f18e9c2586b47f080526e63a9fa8238": {
     "views": []
    },
    "3f1d7b88de4d4f3f8a100b8e439d1b1f": {
     "views": []
    },
    "3f312b74388944a1bf79ec75a4eba2ad": {
     "views": []
    },
    "3fac8abebfbd42acab0f8160362b7ee0": {
     "views": []
    },
    "401cc4815565410fb76b03a95a52997f": {
     "views": []
    },
    "40a352409cc0483a85790955a52c34db": {
     "views": []
    },
    "40eab48a179c4c4a9ce6f53c75b3eb84": {
     "views": []
    },
    "41139178af3141dd91d469e183d13511": {
     "views": []
    },
    "41b386374eff4f0cac5afe6898786a6f": {
     "views": []
    },
    "41d05c019ae54298b1959351fb617641": {
     "views": []
    },
    "4202c889ffb94416a16ae5315511db7b": {
     "views": []
    },
    "424320ba762d4896b9bf349539358009": {
     "views": []
    },
    "4262402114e846d7b07aae834b818b14": {
     "views": []
    },
    "42b136ba53a74b9d8d3e0a0f0c6e781c": {
     "views": []
    },
    "432dcfd8667c4c72a60f52b485ee2865": {
     "views": []
    },
    "43319961a9e4473abf5a8a29ec56dd0d": {
     "views": []
    },
    "433b6dd1e88644e8941bdd7979c8b77d": {
     "views": []
    },
    "4363fe175b464bd0bc30d6ab4ef395ed": {
     "views": []
    },
    "43740e99bfcc4dbca10d214623259a5a": {
     "views": []
    },
    "43acb40f6f3140289c7059e5d6983107": {
     "views": []
    },
    "43cf844e2b9148059377f9a3c9f872a7": {
     "views": []
    },
    "43ee04e094ac46b49961dbc0dc0d351c": {
     "views": []
    },
    "452f6cb03f1a4440a4f44bd41e0df117": {
     "views": []
    },
    "453a9c08e3ac42bab722b1aade9f9fb3": {
     "views": []
    },
    "4579d3a474e741a8ae67a2a360d71001": {
     "views": []
    },
    "459d9b6b04f4468dab07303efbcf503a": {
     "views": []
    },
    "45c195363b494137812977bde4303633": {
     "views": []
    },
    "45c73b87dc7347dd825744790ab023dc": {
     "views": []
    },
    "45df283375924242b63c574146974273": {
     "views": []
    },
    "466e870b9c4146f19795a714c0ee1cb6": {
     "views": []
    },
    "46808f3917f0465e8cf55a532aa718d1": {
     "views": []
    },
    "4680f1d6150e42afab4f4fc56f816941": {
     "views": []
    },
    "4699da43f9f541c2bb71f8724e224c14": {
     "views": []
    },
    "4704abe92b4d487c869e6da45319ae1a": {
     "views": []
    },
    "471a9bc18817494aa10d12cba4b3f4ac": {
     "views": []
    },
    "47c49cd943b64584a99218532991c065": {
     "views": []
    },
    "47e61eadca004d86b2a2a5080b32a9ba": {
     "views": []
    },
    "47f0b99798e2418993cac26a88b407d1": {
     "views": []
    },
    "47f2c9d230b54d8a8ed8357f9e5e47fe": {
     "views": []
    },
    "47fa1e9744114b159bcf56193bcf04e3": {
     "views": []
    },
    "485a7b1934db4e3399bb1fde22380a0f": {
     "views": []
    },
    "487edf7f1d0f42ef8f79c1ab01461fba": {
     "views": []
    },
    "488fd9086d6340b09ffef81409a36e69": {
     "views": []
    },
    "48bc4e4d857f4759a5d9baa3f34a85cb": {
     "views": []
    },
    "48d29049b3764a82a3c63c27e7a7796c": {
     "views": []
    },
    "48e591c1e2004a5bb46d9a735e8c88a2": {
     "views": []
    },
    "498b3315db3b41e6b20e9de150713d3f": {
     "views": []
    },
    "49db49689299489a93ec918bf0a50305": {
     "views": []
    },
    "4a16196cf579436395d76e95864a7d2d": {
     "views": []
    },
    "4a7961af19204eaab2e7eb9eba4df377": {
     "views": []
    },
    "4ac85b7231ae4f1ead74b5ec7bf42147": {
     "views": []
    },
    "4af9473a92034504aa5e390d68d6342b": {
     "views": []
    },
    "4af9e6ae42ae4e33a1baabeb1510178d": {
     "views": []
    },
    "4b0c1c203d464e7f90704bf099b02463": {
     "views": []
    },
    "4b296e362ee4469ab4d137a41e1e50b3": {
     "views": []
    },
    "4b4177c634ea4612b2fae7d501f8f229": {
     "views": []
    },
    "4b4addc7cb9144738a1f6f72b28c1ed6": {
     "views": []
    },
    "4b520221203b46c5b4a200c39dde8af1": {
     "views": []
    },
    "4bcc6587a1d24cd88632d845e55d287c": {
     "views": []
    },
    "4bdbf9eaeb244c4db563cc4b3a61c221": {
     "views": []
    },
    "4bfc77b0834044129079ed612df16414": {
     "views": []
    },
    "4c361dca05a543c4b6cc4e4a2ed2ed7d": {
     "views": []
    },
    "4c697a5402f645928ed3a8f7ba61adde": {
     "views": []
    },
    "4cd74f7ab24b485bb8dd54c3dd0573d1": {
     "views": []
    },
    "4d11de60cc2649999bd55fb5077c17f9": {
     "views": []
    },
    "4d2cb85098114d55b3ce502ffcb42409": {
     "views": []
    },
    "4d53e325dae1435e8ced5ec02adbab77": {
     "views": []
    },
    "4d5dbbd5503d4370a46bea94114f9cbe": {
     "views": []
    },
    "4d99178db05145eebaa74eeb59eafb69": {
     "views": []
    },
    "4ea3515e7bf84788b5b3f80322fbe95f": {
     "views": []
    },
    "4ed595597c01457db93cbe9d9d0206b4": {
     "views": []
    },
    "4ee9ab96c3684014b36c04b66654dbd1": {
     "views": []
    },
    "4f047074774c4c9395a4aefc55870e6b": {
     "views": []
    },
    "4f5f471814d24526adfe256dd46c7e70": {
     "views": []
    },
    "4f6dc008d13043189ea041b2b1acda39": {
     "views": []
    },
    "4f8fa101916d496aa9bc10e67a6bc9d9": {
     "views": []
    },
    "4f977ee5994549769b7a22e0d42c9337": {
     "views": []
    },
    "4fea7cd6d6154028b001e29516d930a0": {
     "views": []
    },
    "5084029aaf3c471c90bf1c9da331f29e": {
     "views": []
    },
    "50c7465abe90443c8db50ecfb8e8f7ce": {
     "views": []
    },
    "50f865e7401b474eb889636572dbaf36": {
     "views": []
    },
    "51118fa2be8e4c5fbead33bc23e5f22c": {
     "views": []
    },
    "512bbc6c56d440038d52da0f543b8925": {
     "views": []
    },
    "5179a8a0997c41b387878ee8db2a2d46": {
     "views": []
    },
    "519dff8c7ecf41dd905ddb3f75a57b62": {
     "views": []
    },
    "52249c54aac44391b30b8235d90fe213": {
     "views": []
    },
    "52336ecf50eb46c097e0a00ffcb03015": {
     "views": []
    },
    "524a88a847304ab6997d8071a61fbd2e": {
     "views": []
    },
    "526bb2e337cd474bbf8f4155353231bc": {
     "views": []
    },
    "5286ceb360a547aaa8be551cbc74b27e": {
     "views": []
    },
    "52896d747f7c46c1a80570bd48878ce3": {
     "views": []
    },
    "528fc311221b437f9da15460e258638f": {
     "views": []
    },
    "52b0411bc188454e808b540627dcc695": {
     "views": []
    },
    "533ed34fb360403b9b02e42f5d5a53cf": {
     "views": []
    },
    "535020c16f744bc1b6532d29222ece4b": {
     "views": []
    },
    "5451b5105ab240bea9e7741d43b7005d": {
     "views": []
    },
    "54dc5ab59963495f8a5b36b08e5c65ff": {
     "views": []
    },
    "55181dcba9b241b884f512abf1787fab": {
     "views": []
    },
    "558d1c31c663427e8681b15be3e6a535": {
     "views": []
    },
    "55e9584854ce4a8786fa468573f1e9a5": {
     "views": []
    },
    "567491baa1fe470381e70979b44b1374": {
     "views": []
    },
    "568ec81d7b60478eb95362ab56a24464": {
     "views": []
    },
    "57a4a5fa0e7a4390a1f4dffeafcb5785": {
     "views": []
    },
    "584ba257db944de387de2c597c6c1395": {
     "views": []
    },
    "5896519bd8a94151bcda814fbcb2d7c5": {
     "views": []
    },
    "5902c79aeb5341c3a387974d9c683ed3": {
     "views": []
    },
    "598f01f9397447ddbcb454c984679781": {
     "views": []
    },
    "5a5d66b87cb94ab28ac124595bc50765": {
     "views": []
    },
    "5a8f2b5c63144249ad96f0283095d30b": {
     "views": []
    },
    "5b5539d0d3644d1cbb36d66297e04073": {
     "views": []
    },
    "5c02980c71564eac8cc410e0ba930255": {
     "views": []
    },
    "5c1e1cd263024f34a343d11e532989c5": {
     "views": []
    },
    "5c7800f41e094985841788fab42d45ed": {
     "views": []
    },
    "5cbe05d5649e428489b334d60bb2688a": {
     "views": []
    },
    "5d1beaaa2c5c44eabc448e9f5c7ed008": {
     "views": []
    },
    "5d24dc3951544d02b55b46a0cac0738c": {
     "views": []
    },
    "5d26a9765e6e4e32b4e23a765862115d": {
     "views": []
    },
    "5dcf98021ff840fcb27f54ecd619c674": {
     "views": []
    },
    "5e00a0243fa44ae6a920de8b3d2bf35a": {
     "views": []
    },
    "5e9751946589417c8e92ed73cf471675": {
     "views": []
    },
    "5f2b98389ca243f8827665895d541c83": {
     "views": []
    },
    "5f7c7bac9424479fbbdf729369cfe2b1": {
     "views": []
    },
    "5f88043828fe41518cbe3e15a94999e2": {
     "views": []
    },
    "5f8e29e0e67a47fb87123efc51a9f758": {
     "views": []
    },
    "5fea6ec385f842b289a3fd6b660d0e80": {
     "views": []
    },
    "5fffad793a4d49afb43a965bb9da06c4": {
     "views": []
    },
    "604979e2d9014c3994021182192046b6": {
     "views": []
    },
    "60deedd3114d4b9e9c40f0ed03d33887": {
     "views": []
    },
    "611df53d49b0478eaa31a35ad24dfade": {
     "views": []
    },
    "61561a0e38574969b11ce7ac0c302a4f": {
     "views": []
    },
    "61a6fd0406fc4f59b29c1cfb75dff122": {
     "views": []
    },
    "6216742374f74c03a731e01e896f69fe": {
     "views": []
    },
    "6229e5baa6fe4706b55b6875aaf09b02": {
     "views": []
    },
    "62ef24e5f65243f58ecf437ab7d64725": {
     "views": []
    },
    "62f993cd42c44d4fadeea3672c44ccba": {
     "views": []
    },
    "6312496276d34eb0b47f5e441d5cf547": {
     "views": []
    },
    "6333498d056c470bbc44934e1bfb2fe9": {
     "views": []
    },
    "634e4f6db4844f41b7677d9ed7dc5606": {
     "views": []
    },
    "6491b5984a4843699298a1a768375a26": {
     "views": []
    },
    "64a05cde9c2f45588d1031ddc676d29e": {
     "views": []
    },
    "64d6432b868b489081791d0025813448": {
     "views": []
    },
    "64ee47b1773a49fba719f7a6959e770a": {
     "views": []
    },
    "652bc065249b49b9b12f0fe2570e77dd": {
     "views": []
    },
    "65f5b426b2294dd786f8a30a6d661927": {
     "views": []
    },
    "66165c657dae4fe6bbed3432e9a99622": {
     "views": []
    },
    "665ca30814eb4ee190db635dbf7442d8": {
     "views": []
    },
    "66d125d1544d4355ae693cd1d2dff428": {
     "views": []
    },
    "6719c5a9848a4adea5a8f3aa7d9a9693": {
     "views": []
    },
    "678a4577c4b0438db9e55d71f0fcd6be": {
     "views": []
    },
    "6826c8b510db45a68a04eef8a3b8d138": {
     "views": []
    },
    "682858c584b24f01bfed6e11cd1f6676": {
     "views": []
    },
    "68e1b4942eb448eaa94e34d0fa380f05": {
     "views": []
    },
    "69feff6e78d74047972e4c20c5deeadd": {
     "views": []
    },
    "6b377dd4b08d43a49fd079a67abe702a": {
     "views": []
    },
    "6c296c80c72346c48d39c3c588be99ba": {
     "views": []
    },
    "6c72a69f48de4fda9f6d22ed379d6133": {
     "views": []
    },
    "6c7f92a0500d4bc69fb7f0a9a8441a72": {
     "views": []
    },
    "6cf41532e7bc41c5bc7dd39494d427cc": {
     "views": []
    },
    "6d2a81114ff74275b45d5962832fc334": {
     "views": []
    },
    "6d9944147fb9430887e1963e031bddc5": {
     "views": []
    },
    "6da1a24f1ef64b98a2bb46e2328abae3": {
     "views": []
    },
    "6dc0f5ab5f7f40adab6b65b580405c40": {
     "views": []
    },
    "6dd01170dd544846964a228e2cd19fbf": {
     "views": []
    },
    "6dd1e03a94864488a476d7d02a4d8f72": {
     "views": []
    },
    "6ed1b3ac33c94d9f8e61ef90bef8e0dc": {
     "views": []
    },
    "6f2d1a1d1f3d40b8a9bbe9ec2eed022b": {
     "views": []
    },
    "6f9aea04214647e0a0d6d461214b7a1c": {
     "views": []
    },
    "6fd63e80a6c4486ca0d8b29af0c29d68": {
     "views": []
    },
    "6ff88b52d8cd4617a685247bb0b1b862": {
     "views": []
    },
    "7015e76a4a9c49a3968214f42cb1c138": {
     "views": []
    },
    "701f4a319fb3450ebf20546606580447": {
     "views": []
    },
    "708291bc1c0f422c84f356e5c3c26ee1": {
     "views": []
    },
    "718f40e3449f49149089363dd76b29b5": {
     "views": []
    },
    "71e8760317d54ebbacbb184c4b184895": {
     "views": []
    },
    "7237e5de7d6b49a8865e6f7201561d81": {
     "views": []
    },
    "7252cbc74fd74307bc175e9a44867225": {
     "views": []
    },
    "72c30e40ba0b459189f2b51e242a03fa": {
     "views": []
    },
    "72edf556c126472f980d93c990338d07": {
     "views": []
    },
    "73b20a0fa36e4ffab2aff672b7f37d98": {
     "views": []
    },
    "73d4558c5c8d41999e88fe26feffbbeb": {
     "views": []
    },
    "73f6be9ee6164903a3d782d63975cf18": {
     "views": []
    },
    "7413c7baf1e042c28b8cc90e1c1cd9d2": {
     "views": []
    },
    "74233c775a2041d5b39380935af0ca15": {
     "views": []
    },
    "74aad947250040f68603200da281f797": {
     "views": []
    },
    "75e1b47224414371b471d462c8f889b6": {
     "views": []
    },
    "75fdf0256eae431188b14c08534582a7": {
     "views": []
    },
    "760807b5455b4c479b12e2cfdfc94f9b": {
     "views": []
    },
    "760d37422a304b5a9b18c1bada128590": {
     "views": []
    },
    "7651fa0dcabf4a0d921196aa56e255d8": {
     "views": []
    },
    "771115eef73643d492aea48d87167469": {
     "views": []
    },
    "774db75a3bf1460a83350184ec0a39e2": {
     "views": []
    },
    "77d4458b8f98434abc8e69ddc4ee564f": {
     "views": []
    },
    "77e47bdb4a2149d5b65f8622c88e9238": {
     "views": []
    },
    "782210c73104408190ac63d3cf347f14": {
     "views": []
    },
    "7842e97de2da4c73b720b9e620ae48a3": {
     "views": []
    },
    "7859c674c2d84c378f47b582baccb415": {
     "views": []
    },
    "7909da27d5c04f4e99f99ceab86bd366": {
     "views": []
    },
    "791e56ad97ff48f597f19a362b2b3c24": {
     "views": []
    },
    "792ef1894bd94ca2bc8cbbe61af326e0": {
     "views": []
    },
    "79d95121ea044055aa2d45d97ef319b3": {
     "views": []
    },
    "7a6a3d16e7d84fbeb18745d336e488e4": {
     "views": []
    },
    "7a6f49822e834e58a824c820e078916b": {
     "views": []
    },
    "7a890c84947c4f0a8866af9341fc3f8e": {
     "views": []
    },
    "7a9bac334512426e9eefb31475eed2e1": {
     "views": []
    },
    "7aa36df5a4564a72b6f8a9d76077e405": {
     "views": []
    },
    "7ad395aa01f24a978995e0a8c6a32705": {
     "views": []
    },
    "7add66148d974aa394c89cd86cbad570": {
     "views": []
    },
    "7b9341fdb8b542cb9d812f986754c40f": {
     "views": []
    },
    "7bb9b55bd45d46788ee988c243a50f35": {
     "views": []
    },
    "7bbc80d0d8794360a876b430a00cd09b": {
     "views": []
    },
    "7be9ca73887f4e9f9cae44b380af3e24": {
     "views": []
    },
    "7bfb788da98d41d88e944722e6f125a6": {
     "views": []
    },
    "7c3c0cbcc9bc47fdbdf57f203b8553ed": {
     "views": []
    },
    "7c554f6d98ca4c13befdf1c4866021f3": {
     "views": []
    },
    "7c5c7efb0d4a4f21a15fb9f0b9c6be1c": {
     "views": []
    },
    "7c8fc91e1b894d65b602ce242344fd3f": {
     "views": []
    },
    "7cc35b3de0b74cfb884a35ef7bdf1497": {
     "views": []
    },
    "7d545b9d224b461b9855cc4e891ecdd9": {
     "views": []
    },
    "7da9d397de394e1fbd8a7eae97aaa017": {
     "views": []
    },
    "7dd39fec8a97445e8291f33db4a1b369": {
     "views": []
    },
    "7e33a5e6e7914e64b1adbec91a2ccb37": {
     "views": []
    },
    "7eb179bd277445c6acb52a029aab4e9f": {
     "views": []
    },
    "7ecf07d6aac74e50bf8913a4923e1ee3": {
     "views": []
    },
    "7f05a6a58fab4fdda3bdc835eff9379e": {
     "views": []
    },
    "7f082e5ae3d04b90856a8f4432dde00b": {
     "views": []
    },
    "7f8c84a2cba547e1a030f101c2e1745d": {
     "views": []
    },
    "7f9fc5207b9a4e64bb1f59027ee2b6d7": {
     "views": []
    },
    "7fdf9ff3665b4187b3cfdaf406682d33": {
     "views": []
    },
    "80605d2a332b48beb4a1acd964f13502": {
     "views": []
    },
    "8112e87a20fb45e6bb83246b222710ef": {
     "views": []
    },
    "8182570c47bd4b84805f9ddc7770c351": {
     "views": []
    },
    "819b2e8ba13349d8b902d6d0563c18ba": {
     "views": []
    },
    "81a4fd37f7cc44d99dae619b2b4c58a7": {
     "views": []
    },
    "81b25633bd564e13b1a87a63434e4703": {
     "views": []
    },
    "82b0c0ca069d4f98aa2753f8d936dbbc": {
     "views": []
    },
    "83f154c770564982b2284837fad50cd7": {
     "views": []
    },
    "8412def9a5bf44ffb09798ff415d3477": {
     "views": []
    },
    "842677778c014bb4b522c4923ce6675e": {
     "views": []
    },
    "849be25e7281454c8dd6a5d463a40218": {
     "views": []
    },
    "85bc0d41002a42e9ba593a24b8759b7a": {
     "views": []
    },
    "8605f024550e4b40878f545fcff60d11": {
     "views": []
    },
    "860cf464d7c6440b8435d2bf56f56bdc": {
     "views": []
    },
    "862ecd9bb2394cd8944567585030258e": {
     "views": []
    },
    "86648810f13647cc92232e5afc9543a1": {
     "views": []
    },
    "869b29ec203246bc8fd1f09344d2bd7d": {
     "views": []
    },
    "8732a29eb09642458cb33ec9c761b16c": {
     "views": []
    },
    "876300faadb747559f73333522948472": {
     "views": []
    },
    "879a4f3061fa4c5496c4fd38d35c824f": {
     "views": []
    },
    "87d88375db5f4e9c8f0f98fbfb58c306": {
     "views": []
    },
    "886b2fb88c5542a0b2e7dc8ae890f408": {
     "views": []
    },
    "88a67559cfbf4b7582569efd07963ffb": {
     "views": []
    },
    "88bdabe5f6f240adb89d0d00f134af2c": {
     "views": []
    },
    "8967d01a0cab427fb295cc641e6b09cf": {
     "views": []
    },
    "897507271806477cb330cb6ca5494e4a": {
     "views": []
    },
    "897cd8b503974fe3832350cf0c7b3ff4": {
     "views": []
    },
    "89a37589d71042ed99600ac8a8fd331c": {
     "views": []
    },
    "89fcbe1ccc7643d496b7883f71285db1": {
     "views": []
    },
    "8a459545402b4cc7aa752c102744fbb9": {
     "views": []
    },
    "8a4eafcd7aee44019adc127f4d7c9936": {
     "views": []
    },
    "8a54d52173ef4d3c89e0da9a14e4d457": {
     "views": []
    },
    "8a5bbb226f58481c9711c46286dc91ea": {
     "views": []
    },
    "8a6b1b36a3004ae9b4a6382b07f7aaa6": {
     "views": []
    },
    "8ab6576d2cbe4c288e4fe2185f9cad96": {
     "views": []
    },
    "8ab6e95da8d04d2f82d501dace61973c": {
     "views": []
    },
    "8b36ae1218b44900bcdb7c537d589d48": {
     "views": []
    },
    "8b5d61095f2b496c9de3739935143661": {
     "views": []
    },
    "8bcbc43ac49344a589e4ad58798b738f": {
     "views": []
    },
    "8c8d7722c0784ceabb58d56a3430750f": {
     "views": []
    },
    "8cbecbed6c034b6d8f8e20ffb1e921e0": {
     "views": []
    },
    "8d8a7dfd3b5e4b289c6e78ec60d22850": {
     "views": []
    },
    "8d9a00eaa4bf4a428787a6837c176d3c": {
     "views": []
    },
    "8da6bd2e160c46d4957bf7d2958ffda2": {
     "views": []
    },
    "8e84b21409de4718be162ea1168a39d3": {
     "views": []
    },
    "8ec507476184480a87dcb28271e08289": {
     "views": []
    },
    "8fe082371963495f911571d0e2c13598": {
     "views": []
    },
    "8febfa864b854d19be7afa0b1d1cfcc5": {
     "views": []
    },
    "906543f5ae544ed2bb5fcdda1a814a06": {
     "views": []
    },
    "910922c045804866bec0676e63d4b685": {
     "views": []
    },
    "910fd734abe443718e6f1c5e5759f442": {
     "views": []
    },
    "9112948b54c945f58638c627142441ae": {
     "views": []
    },
    "919ea3492b594206a1ad4960daadc7cb": {
     "views": []
    },
    "9275b9ded914410986c986508037f019": {
     "views": []
    },
    "927abf7756f74fd18cf7cb84bd767ada": {
     "views": []
    },
    "92b17ba12660417c8e16a3470d6da4cc": {
     "views": []
    },
    "92d1714c588740e28bb418babaada6e0": {
     "views": []
    },
    "92e180ef641943ffa40b922ce5c69671": {
     "views": []
    },
    "93212efb0d9640ec88c96b0e725522ce": {
     "views": []
    },
    "93e85a4210aa4d19b43d969f032e8f8e": {
     "views": []
    },
    "946097d2f7ff4b1398606affda74c30a": {
     "views": []
    },
    "94782c8bed2b42078a2c1c2723239762": {
     "views": []
    },
    "952a7c2edf8943168abda696ef356432": {
     "views": []
    },
    "953d58d426734d4688afc1d365d8f0de": {
     "views": []
    },
    "9550015f17c240639c178c6193b1b12b": {
     "views": []
    },
    "95676f9c58bd49569b3e6006789cd1b5": {
     "views": []
    },
    "956fe423608942ac87c7ade55dd34db1": {
     "views": []
    },
    "95a81bd3119045729f624197759be028": {
     "views": []
    },
    "961b5988aa164310a6c3d9f0c246c818": {
     "views": []
    },
    "9620701534b3437294e7881c841dbc6e": {
     "views": []
    },
    "965d7c8b2af640f683b78a35a0583719": {
     "views": []
    },
    "96a2f7ed3c914f4daf75c5207c29b959": {
     "views": []
    },
    "96f8d19c5dbf4783872cfb5ad8646314": {
     "views": []
    },
    "97156ea8c0964f3d92e6fe25c0054acb": {
     "views": []
    },
    "972bcb52091d463ab828979389c6f09c": {
     "views": []
    },
    "974bd67cc89147508b4a337552a45e21": {
     "views": []
    },
    "974eb514549543789841078b0d1ec875": {
     "views": []
    },
    "9761dfd2a80445fa95ed738909fd5089": {
     "views": []
    },
    "985763d77a0b42db954afdec6b9808f2": {
     "views": []
    },
    "987bb62d4bee408591e7c2cfb9c999a5": {
     "views": []
    },
    "9882e089d73943299e98996238ef0e19": {
     "views": []
    },
    "98b9b16dd5744b9baf41b690f3045ac9": {
     "views": []
    },
    "9955a4ee11da43f285b63ba75dd010e8": {
     "views": []
    },
    "995ae932eb624821aa0179c08a99dcae": {
     "views": []
    },
    "999f85250d224675a442cf505c8d277d": {
     "views": []
    },
    "9a84279c63334e6bbce7e2da3acc0a04": {
     "views": []
    },
    "9aa87974d4654ba6bdf4ff340b988f44": {
     "views": []
    },
    "9af9e0be03394eefa225b9aabdd0f5a4": {
     "views": []
    },
    "9b3dcde580114566b6c601d9f0e4af08": {
     "views": []
    },
    "9b4d4606ea4b4648a5cbbf8761760e26": {
     "views": []
    },
    "9befcf4a380b4664a342408e5aeec93c": {
     "views": []
    },
    "9d4b851737c34784a37a3477d4d1a567": {
     "views": []
    },
    "9db31deec70545cc9d1abdf695298937": {
     "views": []
    },
    "9e1335daa60248aaa852e9b961a9533f": {
     "views": []
    },
    "9e79bf115bc8428b818fc1f904e7e1ee": {
     "views": []
    },
    "9eac046044594bafa02eaba84af8f776": {
     "views": []
    },
    "9f814dd7bd7748ab9d0b1f9fd2040d15": {
     "views": []
    },
    "9fc5895ed69c47b9b897446e81b2bd44": {
     "views": []
    },
    "9fe40be3ae9d469e9d448b4084358ad8": {
     "views": []
    },
    "a06acdc594dd4b54a60d9b9ea5330079": {
     "views": []
    },
    "a071e3aafb1a4297a7f3af011adb2ccc": {
     "views": []
    },
    "a10ac084b4a74ab2b9e9047f0451cc51": {
     "views": []
    },
    "a111245eeb1843998bdb6b233a218803": {
     "views": []
    },
    "a11970e58b4b4d1b86e3442e3b4204b8": {
     "views": []
    },
    "a16b85bfd3a442e68c9c8528f399b3b3": {
     "views": []
    },
    "a1efa22ac43f430b82a1b2a8023c3477": {
     "views": []
    },
    "a2316e4b4f5842678ebf863b5dcb90c7": {
     "views": []
    },
    "a23b4cfc9f6548c0b0b891ebfc331809": {
     "views": []
    },
    "a284c97c849148dbb06d5734b40b2789": {
     "views": []
    },
    "a38dd9da2c8141fca2981ce07750d541": {
     "views": []
    },
    "a404221f49e546de9c27afe34aeaee40": {
     "views": []
    },
    "a40ab0adb16e4edd9c0f542c17af3354": {
     "views": []
    },
    "a43c506b65fa415f899de8d4fe7282fd": {
     "views": []
    },
    "a4af7499aefa46dbbe057de978827f5c": {
     "views": []
    },
    "a4bad228a027455c90b681a0dc25ed9b": {
     "views": []
    },
    "a4bc184e06b0430a94545e56bc826688": {
     "views": []
    },
    "a4d3e347eae043e7a13833324d4e0cc4": {
     "views": []
    },
    "a5049fa99e0944d89ea16592b47ac4d9": {
     "views": []
    },
    "a5144f5aa2ca4b5ea78f05b269dae2da": {
     "views": []
    },
    "a58202cb96664da994e7b0058102e6cc": {
     "views": []
    },
    "a60bc7ee064c49d98ea3aeea0e0427cf": {
     "views": []
    },
    "a63814b8220d4c79b61b68deb4e9d6a2": {
     "views": []
    },
    "a64ea5cadd8246b1bba6eee18f70cfa5": {
     "views": []
    },
    "a6989ff91ed944159e226cca767a748a": {
     "views": []
    },
    "a6c18e82df1541c881249d0caf5c68af": {
     "views": []
    },
    "a763704daa7e49679c6ecd1c49a8d509": {
     "views": []
    },
    "a788d859319747b6b7d4710a32890f3b": {
     "views": []
    },
    "a7a493389c94447c88a9c29eb289be4b": {
     "views": []
    },
    "a824d9ecfc0c4c2c89d342481d7fabf3": {
     "views": []
    },
    "a8596b88a3674f4584155078fd02b724": {
     "views": []
    },
    "a8b79373cd624f0f9518db9c0cdc9db4": {
     "views": []
    },
    "a95b45ff654d4a7eaf9626b203a88d09": {
     "views": []
    },
    "a9a8d9c3e1114283a39749a8c6ea7598": {
     "views": []
    },
    "ab089ff4a3ea4de1b2c1aa581e229af2": {
     "views": []
    },
    "ab08a8f2b8384cc2b854ff646329e148": {
     "views": []
    },
    "ab1eb6d7649c4db7b375752dccd45668": {
     "views": []
    },
    "ab2f250e76174297b621c7e361b28e4a": {
     "views": []
    },
    "ab4cd117866e4edab7e42777faf7bda4": {
     "views": []
    },
    "ab5251f11fd3454f97dec6f68d7d7641": {
     "views": []
    },
    "abc0c1717dce48a5a4f646b5aa33a97e": {
     "views": []
    },
    "abc74f3711e941aabdb99c4757e873fa": {
     "views": []
    },
    "abe7344710b74437a02a60270304a96b": {
     "views": []
    },
    "acf6339b459345019b4f27858abbd21f": {
     "views": []
    },
    "ad4e6420761b4b6998310eef9c7acf2c": {
     "views": []
    },
    "adc4756aa61a411e9f364b9848220e65": {
     "views": []
    },
    "adedf569e8534eec9b0fd58a803e072c": {
     "views": []
    },
    "ae14e8d5b2494f2fb679acf5ee3f92ac": {
     "views": []
    },
    "ae306bc3df7f43dd8512eb576b721578": {
     "views": []
    },
    "ae3571470b4642459d40bdf125bfb8bd": {
     "views": []
    },
    "aebfe3207d204643976893172c94761a": {
     "views": []
    },
    "af17a265747a4353ae318dd7d7b5b3b3": {
     "views": []
    },
    "af23fc9ac78040ad8f57919d07163620": {
     "views": []
    },
    "af93c669d4a04b46b83514cd3a7a82be": {
     "views": []
    },
    "afb2f3ca109e42da9bda751f2ab4650a": {
     "views": []
    },
    "afc686313d9648ea9a4303a230d72667": {
     "views": []
    },
    "affe7ebed0a8473cafaa4779fbfa8c24": {
     "views": []
    },
    "b06fc276142e4f2d82c3eb1931e1a8d2": {
     "views": []
    },
    "b0abe35bdf364f06982f9ccaeb3c3916": {
     "views": []
    },
    "b0cce05548774943b73c2953b414c1da": {
     "views": []
    },
    "b161c436a0e14a489a65f1b2f2778b90": {
     "views": []
    },
    "b17779ea370447bcb4b789ed08f24582": {
     "views": []
    },
    "b1ac4b07e29c46abbdaf58a2cf2e3ecc": {
     "views": []
    },
    "b1cb0b4350d749c2b021f4858ed4e5b5": {
     "views": []
    },
    "b1d01e7185894ab8a3589ef35df53ba5": {
     "views": []
    },
    "b24f6f44763746c2824296fa587631c9": {
     "views": []
    },
    "b270990be70c4e6096afaad35b10bc04": {
     "views": []
    },
    "b2eb638ba9d14f06a403ef53ac2c9b4f": {
     "views": []
    },
    "b3707923c9a84ef19f488497b67a4bad": {
     "views": []
    },
    "b38303d0dc834013a68cd66e83a56a65": {
     "views": []
    },
    "b3afbd08efc34c9a953a7e966f03698e": {
     "views": []
    },
    "b3d49b543a6c4761b55a31e158dd02c3": {
     "views": []
    },
    "b46cfdefe38a46daac8ad02568f852ca": {
     "views": []
    },
    "b493ad39f19d4605b4bd20795cb2dfb0": {
     "views": []
    },
    "b4b47ed2ec46446e8782794a460c1bad": {
     "views": []
    },
    "b4c4b6aca37a4840bc84d9b87b84523d": {
     "views": []
    },
    "b52df6d162454e26b654528a8c97d25a": {
     "views": []
    },
    "b57dd81d0de3409c84d8da5efd7d70b4": {
     "views": []
    },
    "b5ef1db417ce41539910a6f513281018": {
     "views": []
    },
    "b634150f8d84414dbf816b9b30e3daf5": {
     "views": []
    },
    "b6bb7504eec14a1081e27aae70b84af7": {
     "views": []
    },
    "b84e63b998134985980c9884c813840b": {
     "views": []
    },
    "b854294e3aa044b2b38fc5981d65f0e1": {
     "views": []
    },
    "b85dcad5ee14452c8003cec28db9da5e": {
     "views": []
    },
    "b86d7dec14f643c88ccd8063c11392ac": {
     "views": []
    },
    "b8f8ae88f98541bfba92c849098f3e1e": {
     "views": []
    },
    "ba261ad325774e74be9dca873b5ac841": {
     "views": []
    },
    "ba30b9e983dd495e8e58ba09e4357d36": {
     "views": []
    },
    "bb0949416df048ef81269e2dff9f5422": {
     "views": []
    },
    "bb16ef08968e48cbaadfdb793bdfae35": {
     "views": []
    },
    "bb93cd319cb04e3fb6e60823e93f081f": {
     "views": []
    },
    "bbbc2e2c918a4352b48ed9bd2d697e5a": {
     "views": []
    },
    "bbfd1f32f32f45c08f965df6799cb8c6": {
     "views": []
    },
    "bc4391b279c14245add43eb48effc1d4": {
     "views": []
    },
    "bc651b61dd044c6888485825081c6953": {
     "views": []
    },
    "bcbebcbbb2b744618a4ac4e32b2d2530": {
     "views": []
    },
    "bd02d4cffd2e49df9c49a3bc88b3d4b2": {
     "views": []
    },
    "bd0afad97bfd4996bf3a7926ac5763fb": {
     "views": []
    },
    "bd0fa5598e7341a7a4e59705cbd97905": {
     "views": []
    },
    "be2ca89ea3544afd9afb90fe1705f02b": {
     "views": []
    },
    "bee262edb6974c05a7fd9533b367092a": {
     "views": []
    },
    "bfb3596a937e42e9a0b2e3bf623407fc": {
     "views": []
    },
    "bfc28a43269344a9a8066433f340af55": {
     "views": []
    },
    "bfc7ebf956e1477282bc614626a7b3c8": {
     "views": []
    },
    "bfdf23d1bf79455c940035ae5bc692f3": {
     "views": []
    },
    "c025c70f54d84e7c98b0f59c0c689fc8": {
     "views": []
    },
    "c031d0fb49f44274a090cfebe2072f1e": {
     "views": []
    },
    "c1783c5f84874e4683588154aa017016": {
     "views": []
    },
    "c220050f59f144d697daf6927a380017": {
     "views": []
    },
    "c2225a31402540c1bff3b3300afb741a": {
     "views": []
    },
    "c23a41bd48af4c47bb4968242dad98bf": {
     "views": []
    },
    "c26c9b00206d4e3497b3a25a34b433eb": {
     "views": []
    },
    "c2882e634dc442c3aa0a751235bb897f": {
     "views": []
    },
    "c28cd94d80364e89b209a82f7132d062": {
     "views": []
    },
    "c292976560d942039df3fdb7bbc5a6e5": {
     "views": []
    },
    "c299b394b6eb4174813660b17df9f660": {
     "views": []
    },
    "c3055db7c0da41a59e8a207e471a2a8a": {
     "views": []
    },
    "c46e4e62170a4e88a9a5f7a9351cb827": {
     "views": []
    },
    "c5737f4adbe045ffaad36a5f9e69b16d": {
     "views": []
    },
    "c6077e01ee8c4612aa66e8fdebb9d16f": {
     "views": []
    },
    "c622ec04e1ab474f90886ce888c1ec0c": {
     "views": []
    },
    "c6259616aa6c476389ced3ad9fcec452": {
     "views": []
    },
    "c657583bfa874d8cb90aa17d5d1856c9": {
     "views": []
    },
    "c66f5be0676c4bd6a32176bb45516d53": {
     "views": []
    },
    "c6d6fa840f4b428abb0b9ccf471873dd": {
     "views": []
    },
    "c77d79b4865d4909b01773b08bc93947": {
     "views": []
    },
    "c79aa921282c4e958c55f82bd4257b8c": {
     "views": []
    },
    "c7f4908e501e41e79a92e5f52127325e": {
     "views": []
    },
    "c7f5e501c1754186918b60a0a0164bab": {
     "views": []
    },
    "c84d75293704441c8a9ef82d19401261": {
     "views": []
    },
    "c8927955687e481a8652d57624bc1acd": {
     "views": []
    },
    "c892efdf97944cffafae2151bd24af8b": {
     "views": []
    },
    "c8d161b60d984e7e9e99c362f9f4901e": {
     "views": []
    },
    "c8d3dc5248de4ba69ea63ba7f493483d": {
     "views": []
    },
    "c8ec60bfb6f3482b978153c556f9e3c7": {
     "views": []
    },
    "c9a53d2dcd48435a9962a30da7242e7c": {
     "views": []
    },
    "c9b5f6fdd5404f39af1a3e5774cc3073": {
     "views": []
    },
    "c9b9f991f4234da6b2c213125d6d2edd": {
     "views": []
    },
    "c9d425a146a240fd9ea4b2caf54751e2": {
     "views": []
    },
    "c9e760450f16483ea0697cb82466b949": {
     "views": []
    },
    "cb27689e386f4917b2813cee5fcf4a6c": {
     "views": []
    },
    "cb4f03268ba148be9b0187d84a1433ff": {
     "views": []
    },
    "cb6a8f40fdd84edca7852a52c906eee1": {
     "views": []
    },
    "cb989859c3ec436995070a83c3a12ce4": {
     "views": []
    },
    "cbe40037396b442699ade4b68681525e": {
     "views": []
    },
    "cc7d87f012514917ab90513914050d71": {
     "views": []
    },
    "cc9d4ddac7554dc2921671913fae3fdd": {
     "views": []
    },
    "cd627a22a58e4bbc85cfcedcc3106776": {
     "views": []
    },
    "cee523bb28014af19bdbf81c46c1195d": {
     "views": []
    },
    "cf250b2edc6d467fb2518f8e21f6db15": {
     "views": []
    },
    "cfc8a6e1ddc346ada977d3d651bd5ff3": {
     "views": []
    },
    "d013d29d929f463785b9960bc037ab87": {
     "views": []
    },
    "d04dee91a37e4869b7771ff2e1b8a8f0": {
     "views": []
    },
    "d0da5813c9a74a8f81bc7de961b2cf68": {
     "views": []
    },
    "d1020d3633f74570bf9cf3d98c1fc979": {
     "views": []
    },
    "d16176e95c2f415aac9d39f74d77e65b": {
     "views": []
    },
    "d196f6b0e80e4f1da05feec994b3f4f0": {
     "views": []
    },
    "d1e409d2785b474f9ebd7bfba9904aeb": {
     "views": []
    },
    "d21646772ed041ecbe379758d5e33ef8": {
     "views": []
    },
    "d241593216394fbbb2cef79568661649": {
     "views": []
    },
    "d29adffa519a4ea68d2efc38466665cf": {
     "views": []
    },
    "d30204a12b0e4405af452ee915206bf7": {
     "views": []
    },
    "d3278ac505494c9f94066bf70691382a": {
     "views": []
    },
    "d365ad86c79449ec937a6d358b2ce9b0": {
     "views": []
    },
    "d39edf95725f4fbb8b585f3da9ba3658": {
     "views": []
    },
    "d3a570c4ae814409a59305479ce4f130": {
     "views": []
    },
    "d3dfa4a3e6fa4e77a7abaa91f94d16f9": {
     "views": []
    },
    "d420aea8a40042b7bf16b9b67b2ef938": {
     "views": []
    },
    "d42c4ed964cd431f9cb424569b0e8092": {
     "views": []
    },
    "d50893056ace4ee4a602af900671f1ce": {
     "views": []
    },
    "d5176f2171cf435ea0182a8db8b5cbba": {
     "views": []
    },
    "d55f83d21ea0453cad90ec7720975182": {
     "views": []
    },
    "d575980e066348149a35a321cf8075ec": {
     "views": []
    },
    "d65a0c3e4dd14476a1fccc976c6586b1": {
     "views": []
    },
    "d660b99626854c30bb53e094e1be4bb7": {
     "views": []
    },
    "d7233fa2a02f473e8a51945fc4167ce5": {
     "views": []
    },
    "d774e0a886bb4119a6b3c321c6f2826e": {
     "views": []
    },
    "d7e1ff2f2aca4886bbf244cc9fde308b": {
     "views": []
    },
    "d830d5350fd04ebeb0dec261363a0ae6": {
     "views": []
    },
    "d8b1bfcae86140a28940ebf8376492c8": {
     "views": []
    },
    "d977da64990040b198b863dd618e7f30": {
     "views": []
    },
    "d986c83886224fe2afb96c15fa1d42fa": {
     "views": []
    },
    "d98c5463276f43a0894c4fa0051995c3": {
     "views": []
    },
    "d992373f46bd4027bbbf5f4297c149e2": {
     "views": []
    },
    "d99f8b0758f7485db27b96a60eeefb0b": {
     "views": []
    },
    "da847c814ade405387b22d49336821cb": {
     "views": []
    },
    "dadc14c74edb446aa9c66a8dc8eaffc6": {
     "views": []
    },
    "daf53fde40954e51b92b8283db4e9eb8": {
     "views": []
    },
    "db08fa2bf6a54c5580ffd3b13757e5a2": {
     "views": []
    },
    "db0bf3aece364823afa5843a13095b4d": {
     "views": []
    },
    "db6374f100e844cab97a38b734392552": {
     "views": []
    },
    "db7321394f5d4015a520bb2e936bb1f6": {
     "views": []
    },
    "dc4d88994b7a4e7084550c96e0a726a9": {
     "views": []
    },
    "dc8c24a7f1d642de90db040ccde1dbae": {
     "views": []
    },
    "dcb2bde0416c43fcb4bfdcdbf3956ee3": {
     "views": []
    },
    "dd5bdcd559ef4894a39e48bde2d32b26": {
     "views": []
    },
    "ddac80b0545f46fb95f7304f5d43990f": {
     "views": []
    },
    "dde210bb1f4a4d4aa766b9c56988c8fa": {
     "views": []
    },
    "de14446725944c60bb5c759b6d42498e": {
     "views": []
    },
    "df5c5e2c3d8d421aac26b8c2838f4ef3": {
     "views": []
    },
    "dfa9bdc83c6244ccbed19a6e6ca5d24e": {
     "views": []
    },
    "e00cc8cb254043e7952f94d4deea87f0": {
     "views": []
    },
    "e04adef0161b4236a7510562077f1ef0": {
     "views": []
    },
    "e05f4f4be0c144daaece1d970bbc807d": {
     "views": []
    },
    "e097d1f56254462781b11015db18cabd": {
     "views": []
    },
    "e09a5d18b8a14db69a3df903adf86925": {
     "views": []
    },
    "e0ad1eaaea6943c7b400dbe5f052a016": {
     "views": []
    },
    "e0f5ef41144346f2b1ab803b4d0ca590": {
     "views": []
    },
    "e178287343b64c6ba9d8d20e7ee8e55e": {
     "views": []
    },
    "e1a9f7e349eb4981b61f5a5052c0d0d8": {
     "views": []
    },
    "e2df24586c46449cba1b892c38d3933a": {
     "views": []
    },
    "e2e3b21d3b7546fa81c5ba62d8f78829": {
     "views": []
    },
    "e2ffa765800b43099e0cff0c1af530d6": {
     "views": []
    },
    "e305673f51314f65b4976cc479c84bf5": {
     "views": []
    },
    "e41c95175f2c4df59031fc65777d1e09": {
     "views": []
    },
    "e4c1bff00ada40ebb6002c4d39f7145d": {
     "views": []
    },
    "e4c8e64fbcce464c804070ccdaae6dea": {
     "views": []
    },
    "e4e246f8d68f4f58b8a113c02631de92": {
     "views": []
    },
    "e56941047615462996a6be129751e467": {
     "views": []
    },
    "e5ab37e9c4f84f7885250fe472e8f48a": {
     "views": []
    },
    "e5b5e55eb9514b398b0bd773b6459f4c": {
     "views": []
    },
    "e5fc030059a44a839fb7fafdf969aca0": {
     "views": []
    },
    "e652fce165d44d5c83c655276890a3b4": {
     "views": []
    },
    "e6e239fc0cc94e148c06a679547b6b6c": {
     "views": []
    },
    "e6e35a74a8e94ac3b107cea0d7edc293": {
     "views": []
    },
    "e767b824536e4ce1afae801235988b33": {
     "views": []
    },
    "e772f1ecc4334a2c90df8225ee8af461": {
     "views": []
    },
    "e7c52424fdf34c40a1991817b62feeed": {
     "views": []
    },
    "e87d534dfbfd4d28bff98a50c021bb95": {
     "views": []
    },
    "e881952d76ae4cb8b8cab6552a80c7ea": {
     "views": []
    },
    "e88e615d80a641ff97f2d8c32198701e": {
     "views": []
    },
    "e89f63c2618141b0b7eade9344152a28": {
     "views": []
    },
    "e8a1cd1c5b8641c3a8e1e385353b70a1": {
     "views": []
    },
    "e8c37b8f7fdc40e7be0380d04b46675f": {
     "views": []
    },
    "e97c8ab87f804916b830378c4dccc27b": {
     "views": []
    },
    "e99d48131415497eb052082450c606bc": {
     "views": []
    },
    "e9f29629759647ef97799dab6d0a73f2": {
     "views": []
    },
    "ea1d6e89a61b47d5953d8a2cdd42b64d": {
     "views": []
    },
    "ea2f1865e7b64859be185463fc0bcc9a": {
     "views": []
    },
    "ea8897bf5c0d4bf2abe91f40191d5363": {
     "views": []
    },
    "eac2a3e4689243459f0479022c176e80": {
     "views": []
    },
    "eae0facd5103481ab5da20d7fb128c77": {
     "views": []
    },
    "eae39e871273490ab54cde7e43ee7195": {
     "views": []
    },
    "eb2ae399a0ec4644b908fdbb7521be1f": {
     "views": []
    },
    "eb2d8262507140b099497d7bf0827c3d": {
     "views": []
    },
    "eb57d5fef8dc4811a8c56743d8636843": {
     "views": []
    },
    "eb8a2f01871d4ff9b46c0a9a3dbeb727": {
     "views": []
    },
    "ec0a62f1c6184d8baaee92f43520f663": {
     "views": []
    },
    "ec36f9d752514d81acb084cb7c2813f8": {
     "views": []
    },
    "ec4b42a27cc6463b84815c1e19fc74b0": {
     "views": []
    },
    "ec523ed32e514fc0990651627a1768cf": {
     "views": []
    },
    "ed18547ad9924976babb4b6e83307289": {
     "views": []
    },
    "eda91985b80e4ff99ed6a24746defde5": {
     "views": []
    },
    "eddeaec82be249f2961c23b8b13889e3": {
     "views": []
    },
    "ee18e1741dcf4167b25bbd9b65282fbb": {
     "views": []
    },
    "ee7f20802bd24f5d858405dee170ab5f": {
     "views": []
    },
    "eeecfae24a7b42e88204c6ac4d4a7852": {
     "views": []
    },
    "efbef3fe957d4a01b78aa8f48dc399ea": {
     "views": []
    },
    "f003bd4654d74f2e8b73c6f82d9a9751": {
     "views": []
    },
    "f027d61794dc470ba5496fffd99c8f2a": {
     "views": []
    },
    "f030b3d5f6d44b259edfe0cc1dc67d99": {
     "views": []
    },
    "f0dbd791c2bf4629b9233a7081f446b5": {
     "views": []
    },
    "f0e9297914d148548ee54d07e36ed5c5": {
     "views": []
    },
    "f12d0bb128c34953aaf8ba21fdcc6df0": {
     "views": []
    },
    "f151a780e0df4895be8a1dd36689bf08": {
     "views": []
    },
    "f171b2784c5741ee99daf3900fbaf386": {
     "views": []
    },
    "f1731f0afb8342f28b4af2241d8de4ad": {
     "views": []
    },
    "f1a375bb151546febe6fd0d0d0febcd6": {
     "views": []
    },
    "f1db509ea62d4a35a8e19515bef36918": {
     "views": []
    },
    "f1de846636484c26942c2eb220c5d448": {
     "views": []
    },
    "f208d0c7957e44e59185aa4604d84607": {
     "views": []
    },
    "f232c58a34464e63b738ef5dc2ab24d6": {
     "views": []
    },
    "f243a07823ae4e1eb9e91f125da63ae5": {
     "views": []
    },
    "f27879ba32f84bfeb4dfd575affc0132": {
     "views": []
    },
    "f28afdae905c4355af6146c113ec4cac": {
     "views": []
    },
    "f2b62b89f1834fe099a4eba9a38e7be1": {
     "views": []
    },
    "f2e5dd0aa5fe431f967d419d2a7a90a3": {
     "views": []
    },
    "f3055c2b42f444e7a42ea47f6eb5477d": {
     "views": []
    },
    "f3153b8d347d4f2087f91fb1758e33e6": {
     "views": []
    },
    "f33d7558e1e64a84a9bc869f6b755fc5": {
     "views": []
    },
    "f36939bad098471da6596cdf6cf95fd9": {
     "views": []
    },
    "f36d2ae8d9cd46e8b0c04bfd96988df8": {
     "views": []
    },
    "f39e516765e04114a10ea37fae47ec56": {
     "views": []
    },
    "f449df36fd47434bb5f7bf0d49243e56": {
     "views": []
    },
    "f44fce1f25624f0e95bc9a4b1e53b816": {
     "views": []
    },
    "f4ba6d4809e14f369042533f6b1a8147": {
     "views": []
    },
    "f57a24655b1b47da8eae6d6b6b3decb7": {
     "views": []
    },
    "f58ebb8bd6a64e899bdb403622570eb2": {
     "views": []
    },
    "f5a52984131445c1bf54c52b2c32201f": {
     "views": []
    },
    "f61b6650da354197b9192fb77353a0b0": {
     "views": []
    },
    "f66b4c36be7849dea26004891beceff0": {
     "views": []
    },
    "f6d4778d58be49578b44f977d23cbbf0": {
     "views": []
    },
    "f711f5d219df4bb68b402d8b9e672c0d": {
     "views": []
    },
    "f750e28c1d714b4db9852f7640604ff0": {
     "views": []
    },
    "f76e01be689848a58483968031dfb9dc": {
     "views": []
    },
    "f7c6053f577044828deb09010e89ae4e": {
     "views": []
    },
    "f7e625a6204247d195e8e693764665ae": {
     "views": []
    },
    "f7f19cf43d274304919c8e28620ff853": {
     "views": []
    },
    "f83d9dac6ea249f7a8b321574378cb35": {
     "views": []
    },
    "f871736f23504c22988e8f6e801cc5ca": {
     "views": []
    },
    "f887f401a5b749efbe0e9aec715bf2da": {
     "views": []
    },
    "f94e253e453c4cf9b26358fe4b80ad37": {
     "views": []
    },
    "f9a4a38e72054c9c833391268f661bdc": {
     "views": []
    },
    "f9b48925ac114d6291e88dc7c2ed6899": {
     "views": []
    },
    "f9e282cdfe3a4e1f9065499be62a8a29": {
     "views": []
    },
    "fa26a49d539342019ee4bda98816421e": {
     "views": []
    },
    "fa82c1addc494900a07d7dc5aad4a9a3": {
     "views": []
    },
    "fab4341340b949efa49b33ebbff42110": {
     "views": []
    },
    "fb1f0b68260d4327aff7e846fc339fda": {
     "views": []
    },
    "fb309c0fc4dc4049bfc5117b5cbe1570": {
     "views": []
    },
    "fbc3561ac32043b7a5a23208ae4d0c90": {
     "views": []
    },
    "fc1bc31848ed45fda28b9e1c98deb9be": {
     "views": []
    },
    "fd138f416d78432884774ff6c1faa790": {
     "views": []
    },
    "fd7da37deba24498bdc3b075ddef86d7": {
     "views": []
    },
    "fdd2366c09e044feb783f3718e1cd270": {
     "views": []
    },
    "fe3fe115e6084e5ba0931f3e4799d8f8": {
     "views": []
    },
    "fe400b96230b44aa9280950b6ae212c2": {
     "views": []
    },
    "fe45d5e341d849859aecb3dfeaa5c300": {
     "views": []
    },
    "fe493eb2533a4bb89d288e8fd433913e": {
     "views": []
    },
    "feda925a72ab4e0a8d764311c7b1db4b": {
     "views": []
    },
    "fef34bc3abbe4f378e077403dfbf0c0e": {
     "views": []
    },
    "ff7fe136a6b347e5a203f18c105a1ec0": {
     "views": []
    },
    "fff46443daf84870b54a4520053ea2cc": {
     "views": []
    }
   },
   "version": "1.1.2"
  }
 },
 "nbformat": 4,
 "nbformat_minor": 0
}
