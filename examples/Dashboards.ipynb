{
 "cells": [
  {
   "cell_type": "code",
   "execution_count": 1,
   "metadata": {
    "collapsed": true
   },
   "outputs": [],
   "source": [
    "import sys\n",
    "path =\"/home/sergio/github/shaolin-master\"\n",
    "sys.path.append(path)"
   ]
  },
  {
   "cell_type": "markdown",
   "metadata": {},
   "source": [
    "In order to use the shaolin framework more comfortably we will use a little screen hack."
   ]
  },
  {
   "cell_type": "code",
   "execution_count": 2,
   "metadata": {
    "collapsed": false
   },
   "outputs": [
    {
     "data": {
      "text/html": [
       "<style>\n",
       ".container { width:100% !important; }\n",
       ".input{ width:60% !important;\n",
       "       align: center;\n",
       "      }\n",
       ".text_cell{ width:70% !important;\n",
       "            font-size: 16px;}\n",
       ".title {align:center !important;}\n",
       "</style>"
      ],
      "text/plain": [
       "<IPython.core.display.HTML object>"
      ]
     },
     "metadata": {},
     "output_type": "display_data"
    }
   ],
   "source": [
    "%%HTML\n",
    "<style>\n",
    ".container { width:100% !important; }\n",
    ".input{ width:60% !important;\n",
    "       align: center;\n",
    "      }\n",
    ".text_cell{ width:70% !important;\n",
    "            font-size: 16px;}\n",
    ".title {align:center !important;}\n",
    "</style>"
   ]
  },
  {
   "cell_type": "markdown",
   "metadata": {},
   "source": [
    "# Shaolin Dashboard Introduction"
   ]
  },
  {
   "cell_type": "markdown",
   "metadata": {},
   "source": [
    "<a id='index'></a>"
   ]
  },
  {
   "cell_type": "markdown",
   "metadata": {},
   "source": [
    "## Index "
   ]
  },
  {
   "cell_type": "markdown",
   "metadata": {},
   "source": [
    "- [1 Introduction](#intro)\n",
    "- [2 Structure](#structure)\n",
    "   - [2.1 Attributes](#attributes)\n",
    "   - [2.2 Functions](#functions)\n",
    "   \n",
    "- [3 Syntax](#syntax)\n",
    "   - [3.1 Examples](#syntax_examples)\n",
    "\n",
    "- [4 Interactivity](#interactivity)\n",
    "   - [4.1 Default values](#interactivity_default)\n",
    "   - [4.2 Syntax](#interactivity_syntax)\n",
    "- [5 Styling](#styling)  \n",
    "    - [5.1 State manager](#state_manager)\n",
    "    - [5.2 Accessing, loading and changing the layout](#load_and_save)"
   ]
  },
  {
   "cell_type": "markdown",
   "metadata": {},
   "source": [
    "<a id='introduction'></a>"
   ]
  },
  {
   "cell_type": "markdown",
   "metadata": {},
   "source": [
    "# 1 Introduction"
   ]
  },
  {
   "cell_type": "markdown",
   "metadata": {},
   "source": [
    "[Back to top](#index)"
   ]
  },
  {
   "cell_type": "markdown",
   "metadata": {},
   "source": [
    "The Dashboard is the main tool of the Shaolin frameowrk. It can be seen as an interactive code box and it has all the functionalities needed for controlling the interactivity of its components.\n",
    "\n",
    "A Dashboard can be build combining widgets and other dashboards. It can be used as a standalone object or in combination with other Dashboards, and its main goal is to offer a simplified interface for managing all the ipywidets functionality in a simpler and scalable way."
   ]
  },
  {
   "cell_type": "markdown",
   "metadata": {},
   "source": [
    "<a id='structure'></a>"
   ]
  },
  {
   "cell_type": "markdown",
   "metadata": {},
   "source": [
    "# 2 Structure"
   ]
  },
  {
   "cell_type": "markdown",
   "metadata": {},
   "source": [
    "This is a description of the Dashboard capabilities. A detailed explanation can be seen in further sections."
   ]
  },
  {
   "cell_type": "markdown",
   "metadata": {},
   "source": [
    "<a id='attributes'></a>"
   ]
  },
  {
   "cell_type": "markdown",
   "metadata": {},
   "source": [
    "## 2.1 Attributes"
   ]
  },
  {
   "cell_type": "markdown",
   "metadata": {},
   "source": [
    "[Back to top](#index)"
   ]
  },
  {
   "cell_type": "markdown",
   "metadata": {},
   "source": [
    "Here we will describe the attributes of a Dashboard. They are all related to managing interactivity and the same functionality offered by the ipywidgets package:"
   ]
  },
  {
   "cell_type": "markdown",
   "metadata": {},
   "source": [
    "- Init parameters:\n",
    "    - **dasboard**: list representing the syntax of the Dasboard components.\n",
    "    - **func**(None): function to mimic the interactive behaviour of the ipywidgets package. It will interact with the widgets defined in the dashboard.\n",
    "    - **data**(None): The data the Dashboard will use.\n",
    "    - **name**(None): Name of the Dasboard. Each component of a Dashboard must have a unique name. \n",
    "    - **mode**('active'): interactivity mode of the Dashboard.\n",
    "\n",
    "    - **visible**(True): Displays all the dashboard's components when True and hides its components when False.\n",
    "    - **state**(None): dict containing all the layout parameters of the dashboard components. (soon it will contain the vaue information also)\n",
    "- Parameters created at instantiation:\n",
    "    - **widget**: Graphic interface of the Dashboard.\n",
    "    - **mode_dict**: dict containing the information regarding the interactivity of every component.\n",
    "    - **value**, **kwargs**: dictionary of kwargs containing all the interactive and active components as a key-value pairs.\n",
    "    - **interactive_kwargs**: dict containing the name and value of the interactive components stored as key-value pairs.\n",
    "    - **state_manager**: Dashboard for customizing, loading and saving the state of the Dashboard.\n",
    "    - **output**(kwargs): When working with data this attribute contains the processed value that the Dashboard will output. If there is no data it's just an alias for kwargs.\n"
   ]
  },
  {
   "cell_type": "markdown",
   "metadata": {},
   "source": [
    "<a id='functions'></a>"
   ]
  },
  {
   "cell_type": "markdown",
   "metadata": {},
   "source": [
    "## 2.2 Functions "
   ]
  },
  {
   "cell_type": "markdown",
   "metadata": {},
   "source": [
    "[Back to top](#index)"
   ]
  },
  {
   "cell_type": "markdown",
   "metadata": {},
   "source": [
    "A Dashboard has its own functions for mimicking the ipywidgets functionality:\n",
    "\n",
    "- **name_from_shaoscript**: Returns the name of a shaoscript string notation element.\n",
    "- **read_shaolist**: reads a Dashboard component from its list representation and returns its shaoscript description, its kwargs and its children.\n",
    "- **observe**: Same functionality as ipywidgets. It will trigger the observer function when any interactive component changes its value.\n",
    "\n",
    "- **link**: Links the values of two components.\n",
    "- **dlink**: Stablishes a direct link between two components.\n",
    "- **unlink**: Removes a link.\n",
    "- **interact**: Applies the dashboard func to the Dashboard's output.\n",
    "- **apply_state**: Sets the state dict of a widget and updates its layout accordingly."
   ]
  },
  {
   "cell_type": "markdown",
   "metadata": {},
   "source": [
    "<a id='syntax'></a>"
   ]
  },
  {
   "cell_type": "markdown",
   "metadata": {},
   "source": [
    "# 3 Syntax"
   ]
  },
  {
   "cell_type": "markdown",
   "metadata": {},
   "source": [
    "[Back to top](#index)"
   ]
  },
  {
   "cell_type": "markdown",
   "metadata": {},
   "source": [
    "We will use a custom notation for defining tha layout of the dashboard components. Each component defined in the layout will be accessible as an attribute with the same name as the widget (we can set it directly as a parameter or indirectly with the description as seen early).\n",
    "\n",
    "A dashboard component will be a list contaning a shaoscript string notation. If the widget can have child the component will be stated as a list of two elements: The first one will be a string containing the widget shaoscript notation and the second one will be a list containing its children elements, where every element will be an item of that list.\n",
    "\n",
    "This allows for stacking widgets and creating complex boxes more easily than using multiple ipywidgets boxes."
   ]
  },
  {
   "cell_type": "markdown",
   "metadata": {},
   "source": [
    "<a id='syntax_examples'></a>"
   ]
  },
  {
   "cell_type": "markdown",
   "metadata": {},
   "source": [
    "## 3.1 Examples"
   ]
  },
  {
   "cell_type": "markdown",
   "metadata": {},
   "source": [
    "[Back to top](#index)"
   ]
  },
  {
   "cell_type": "code",
   "execution_count": 3,
   "metadata": {
    "collapsed": false
   },
   "outputs": [],
   "source": [
    "from shaolin.core.dashboard import Dashboard"
   ]
  },
  {
   "cell_type": "markdown",
   "metadata": {},
   "source": [
    "- **Dashboard containing a single widget.**"
   ]
  },
  {
   "cell_type": "code",
   "execution_count": 4,
   "metadata": {
    "collapsed": false
   },
   "outputs": [
    {
     "data": {
      "image/png": "[encoded data removed]",
      "text/html": [
       "<img src=data:image/png;base64,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 class=\"jupyter-widget\">\n",
       "<script type=\"application/vnd.jupyter-embedded-widgets\">[{\"align_items\":\"stretch\"},{},{\"description\":\"fs\",\"layout\":\"IPY_MODEL_753fd1dc9d624d63b0cfc8e48a8b2282\",\"step\":0.1},{\"layout\":\"IPY_MODEL_f699fa543fb34edb90ee7eac83d2b9ae\",\"children\":[\"IPY_MODEL_6073cbe49c2646b28436c5ff8313c378\"]}]</script>"
      ]
     },
     "metadata": {
      "isWidgetSnapshot": true
     },
     "output_type": "display_data"
    }
   ],
   "source": [
    "dash = Dashboard(['fs$D=fs'])\n",
    "dash.widget"
   ]
  },
  {
   "cell_type": "markdown",
   "metadata": {},
   "source": [
    "- **Dashboard containing three components in a row**"
   ]
  },
  {
   "cell_type": "code",
   "execution_count": 5,
   "metadata": {
    "collapsed": false
   },
   "outputs": [
    {
     "data": {
      "image/png": "[encoded data removed]",
      "text/html": [
       "<img src=data:image/png;base64,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 class=\"jupyter-widget\">\n",
       "<script type=\"application/vnd.jupyter-embedded-widgets\">[{\"align_items\":\"stretch\"},{\"align_items\":\"stretch\",\"display\":\"flex\"},{\"align_items\":\"stretch\"},{},{\"value\":\"<h2>Row</h2>\",\"layout\":\"IPY_MODEL_1a5a68d7b011480c90496a4a62d70aa4\"},{\"layout\":\"IPY_MODEL_6a06a398b6b24ec0ae30094b5ffe67bb\",\"children\":[\"IPY_MODEL_284712222aed49b7b832663595c94df0\"]},{\"align_items\":\"stretch\"},{},{\"description\":\"fs\",\"layout\":\"IPY_MODEL_e0891f72ef1c46e78a5a0eaea2030c14\",\"step\":0.1},{\"layout\":\"IPY_MODEL_e5930e0e113f46978b01034a345bc3a5\",\"children\":[\"IPY_MODEL_a4a58122ce9a4892baf08f0be5eec446\"]},{\"align_items\":\"stretch\"},{},{\"description\":\"Toggle\",\"layout\":\"IPY_MODEL_5c67a837c5254c3cbf588b9aa3039576\"},{\"layout\":\"IPY_MODEL_73bd1e49ecaf4da08e85f78900f547ad\",\"children\":[\"IPY_MODEL_f84a792047d44785a23f010d8f1350e3\"]},{\"layout\":\"IPY_MODEL_bc7b4bc54ee04178bcb4f31603bc6aab\",\"children\":[\"IPY_MODEL_ffdc56890bfc407fa71ff29c64e83b39\",\"IPY_MODEL_f6fe67d5c4904f55a47ecd8eaf26fc70\",\"IPY_MODEL_efa80309bb3a46558d9a5e05d5af7f29\"]},{\"layout\":\"IPY_MODEL_2cb67f1f847e42a39a045f86b7ecde7d\",\"children\":[\"IPY_MODEL_fee72baf8c6446f9aea53c39733d5554\"]}]</script>"
      ]
     },
     "metadata": {
      "isWidgetSnapshot": true
     },
     "output_type": "display_data"
    }
   ],
   "source": [
    "dash = Dashboard(['r$N=row',['##Row$N=text','fs$D=fs','tog$d=Toggle']])\n",
    "dash.widget"
   ]
  },
  {
   "cell_type": "markdown",
   "metadata": {},
   "source": [
    "- **A column with two rows of components**"
   ]
  },
  {
   "cell_type": "code",
   "execution_count": 6,
   "metadata": {
    "collapsed": false
   },
   "outputs": [
    {
     "data": {
      "image/png": "[encoded data removed]",
      "text/html": [
       "<img src=data:image/png;base64,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 class=\"jupyter-widget\">\n",
       "<script type=\"application/vnd.jupyter-embedded-widgets\">[{\"align_items\":\"stretch\"},{\"flex_flow\":\"column\",\"display\":\"flex\"},{\"align_items\":\"stretch\"},{},{\"description\":\"range\",\"value\":[0,100],\"_range\":true,\"layout\":\"IPY_MODEL_580597fa26c64fc7bd039bf9de7ced68\"},{\"layout\":\"IPY_MODEL_7f9641072d77417f954c96bac2e6dd6f\",\"children\":[\"IPY_MODEL_96697d2bb83448d3bc601bc4496a599b\"]},{\"align_items\":\"stretch\"},{\"align_items\":\"stretch\",\"display\":\"flex\"},{\"align_items\":\"stretch\"},{},{\"description\":\"Apply\",\"_options_labels\":[\"one\",\"two\",\"three\"],\"value\":\"one\",\"layout\":\"IPY_MODEL_736614e018124f24a525e1ad95910d51\"},{\"layout\":\"IPY_MODEL_ddf9d5b06c2d4257808d90ea645a4fd9\",\"children\":[\"IPY_MODEL_c2129208a8f24bcf91e05bd452a1e3b1\"]},{\"align_items\":\"stretch\"},{},{\"description\":\"Scale\",\"value\":true,\"layout\":\"IPY_MODEL_ac5e273678964203bbd6ad0bd3668327\"},{\"layout\":\"IPY_MODEL_494e674def3f440fb50e768a79392c31\",\"children\":[\"IPY_MODEL_c510be323d9d42bcbeccabf8b60366f1\"]},{\"layout\":\"IPY_MODEL_1f9f5ff89cc14dc292282527b699da96\",\"children\":[\"IPY_MODEL_26ae7f3a9b0c44cd80df56fdec2e1141\",\"IPY_MODEL_bf8022bd877f4b858270f265441d450c\"]},{\"layout\":\"IPY_MODEL_76e6b07701a640b7bd6b966c752bce8f\",\"children\":[\"IPY_MODEL_125c5f2f1314421db6e9318549e4c69f\"]},{\"layout\":\"IPY_MODEL_f555618b51b14eb3b859caf0d3a6cba4\",\"children\":[\"IPY_MODEL_18ddc37e99584214bc7431b3fb2d1173\",\"IPY_MODEL_a28c793c7f5b4296b4ddf312a88dde9c\"]},{\"layout\":\"IPY_MODEL_bab75585f32d4fcebb15dacaa38e2b26\",\"children\":[\"IPY_MODEL_bcc35e5628d148c794692b60193a4dfe\"]}]</script>"
      ]
     },
     "metadata": {
      "isWidgetSnapshot": true
     },
     "output_type": "display_data"
    }
   ],
   "source": [
    "       #Column that gives a name to the Dashboard. \n",
    "test_dash = ['c$N=array_scaler',\n",
    "        #first row only has one widget. This element can be just a string \n",
    "        ['@(0,100,1, (0., 100.))$N=scale_slider&d=range',\n",
    "         #Two widgets in the second row. As this element has childrens it has to be a list.\n",
    "         ['r$N=main_row',['@dd$d=Apply&N=dd_sel&val=one&o=[\"one\",\"two\",\"three\"]','@True$N=scale_chk&d=Scale']]\n",
    "        ]\n",
    "       ]\n",
    "dboard = Dashboard(test_dash)\n",
    "dboard.widget"
   ]
  },
  {
   "cell_type": "markdown",
   "metadata": {},
   "source": [
    "<a id='interactivity'></a>"
   ]
  },
  {
   "cell_type": "markdown",
   "metadata": {},
   "source": [
    "# 4 Interactivity"
   ]
  },
  {
   "cell_type": "markdown",
   "metadata": {},
   "source": [
    "[Back to top](#index)"
   ]
  },
  {
   "cell_type": "markdown",
   "metadata": {},
   "source": [
    "There are 3 modes of interactivity that determines how a given component behaves when its value changes. The mode attribute of a Dashboard holds one interactivity value of the following:\n",
    "\n",
    "- **Passive**: changing the value of the widget won+t have any additional effect. Markdown and display components are a good example of widgets that can exibit a passive behaviour.\n",
    "\n",
    "- **active**: If a component is active it will be included in the kwargs dict but changing its value won't trigger the update function.\n",
    "\n",
    "- **Interactive**: Once the observe function is called on a Dashboard, the target function will be applied each time an interactive component changes its value."
   ]
  },
  {
   "cell_type": "markdown",
   "metadata": {},
   "source": [
    "Accessing the mode_dict attribube of a Dashboard the mode of every component can be viewed and changed."
   ]
  },
  {
   "cell_type": "markdown",
   "metadata": {},
   "source": [
    "<a id='default_int'></a>"
   ]
  },
  {
   "cell_type": "code",
   "execution_count": 7,
   "metadata": {
    "collapsed": false
   },
   "outputs": [
    {
     "data": {
      "text/plain": [
       "{'active': [],\n",
       " 'all': ['array_scaler', 'scale_slider', 'main_row', 'dd_sel', 'scale_chk'],\n",
       " 'interactive': ['scale_slider', 'dd_sel', 'scale_chk'],\n",
       " 'passive': ['array_scaler', 'main_row']}"
      ]
     },
     "execution_count": 7,
     "metadata": {},
     "output_type": "execute_result"
    }
   ],
   "source": [
    "dboard.mode_dict"
   ]
  },
  {
   "cell_type": "markdown",
   "metadata": {},
   "source": [
    "<a id='interactivity_default'></a>"
   ]
  },
  {
   "cell_type": "markdown",
   "metadata": {},
   "source": [
    "## 4.1 Default values"
   ]
  },
  {
   "cell_type": "markdown",
   "metadata": {},
   "source": [
    "Each widget and Dashboard will be assignes by default the active mode. An exception to this rule are the widget boxes and Markdown Widgets."
   ]
  },
  {
   "cell_type": "markdown",
   "metadata": {},
   "source": [
    "<a id='interactivity_syntax'></a>"
   ]
  },
  {
   "cell_type": "markdown",
   "metadata": {},
   "source": [
    "## 4.2 Syntax"
   ]
  },
  {
   "cell_type": "markdown",
   "metadata": {},
   "source": [
    "[Back to top](#index)"
   ]
  },
  {
   "cell_type": "markdown",
   "metadata": {},
   "source": [
    "The interactivity value can be set writing the character @ at the begining of a shaoscript string. Note that this is a shaoscript syntax feature and will also set the mode as interactive when a widget is created using the function shaoscript (not only with the Dashboard object)"
   ]
  },
  {
   "cell_type": "code",
   "execution_count": 8,
   "metadata": {
    "collapsed": false
   },
   "outputs": [
    {
     "name": "stdout",
     "output_type": "stream",
     "text": [
      "Interactive dropdown {'all': ['dd_sel'], 'active': [], 'passive': [], 'interactive': ['dd_sel']} \n",
      " Active dropdown {'all': ['dd_sel'], 'active': ['dd_sel'], 'passive': [], 'interactive': []}\n"
     ]
    }
   ],
   "source": [
    "A = Dashboard(['@dd$d=Dropdown&N=dd_sel&val=one&o=[\"one\",\"two\",\"three\"]'])\n",
    "B = Dashboard(['dd$d=Dropdown&N=dd_sel&val=one&o=[\"one\",\"two\",\"three\"]'],mode='interactive')\n",
    "print(\"Interactive dropdown\",A.mode_dict,\"\\n Active dropdown\",B.mode_dict)\n"
   ]
  },
  {
   "cell_type": "code",
   "execution_count": 9,
   "metadata": {
    "collapsed": false
   },
   "outputs": [
    {
     "data": {
      "text/plain": [
       "('active', 'interactive')"
      ]
     },
     "execution_count": 9,
     "metadata": {},
     "output_type": "execute_result"
    }
   ],
   "source": [
    "A.mode, B.mode"
   ]
  },
  {
   "cell_type": "markdown",
   "metadata": {},
   "source": [
    "<a id='styling'></a>"
   ]
  },
  {
   "cell_type": "markdown",
   "metadata": {},
   "source": [
    "# 5 Styling"
   ]
  },
  {
   "cell_type": "markdown",
   "metadata": {},
   "source": [
    "[Back to top](#index)"
   ]
  },
  {
   "cell_type": "markdown",
   "metadata": {},
   "source": [
    "Although it is possible to style a Dashboard accessing the layout attribute of the widgets of any component (the target widget and the box widget wrapping the target) the recommended way of styling a Dashboard is using its state_manager attribute.\n",
    "\n",
    "The state_manager is a widget that allows to modify, load, and save any change to the Dashboard styling in an interactive way."
   ]
  },
  {
   "cell_type": "markdown",
   "metadata": {},
   "source": [
    "<a id='state_manager'></a>"
   ]
  },
  {
   "cell_type": "markdown",
   "metadata": {},
   "source": [
    "## 5.1 State Manager"
   ]
  },
  {
   "cell_type": "markdown",
   "metadata": {},
   "source": [
    "[Back to top](#index)"
   ]
  },
  {
   "cell_type": "markdown",
   "metadata": {},
   "source": [
    "The state manager is a Dashboard that allows to modify in an interactive way any visual property of a given Dashboard. Following the former example we will show how to customize a the Dashboard that we created before.\n",
    "\n",
    "This is a relatively complex Dashboard which can be seen as a colum that has three different rows:\n",
    "\n",
    "- ### **Css modifier**: \n",
    "This part is in charge of seting a group of css attributes for a selected widget. There are two groupc of css attributes:\n",
    "    - **Text attribute**: Its widge will display the available values in a dropdown or a text input for non-common values. A custom value can be set by deactivating the Default checkbox for a given attribute. Each selection can either be applied to the target widget of a component or to its box.\n",
    "    - **Numeric attribute**: Its Dashboard will allow to select the units in which the value will be expressed using a text input or a slider for selecting the numeric value and a togglebutton for selecting the units. \n",
    "- ### **Control Panel**: \n",
    "This row has the following elements:\n",
    "    - **Component selector**: This allows to select the component that will be modified.\n",
    "    - **Layout attribute selector**: This toggle buttons allow to select which layout attribute will be modified:\n",
    "        - **Grid**: Attributes regarding alignment, padding and margin. The alignment attributes will be applied only to the target or the box of a component only when they will haev a meaningful effect.\n",
    "        - **W&H**: width and height css related attributes.\n",
    "        - **Other**: The rest of the layout attributes.\n",
    "        - **Widget**: Component target's attributes that influence the widget appearance.\n",
    "    - **Selected attribute display**\n",
    "    - **Layout saver**\n",
    "- ### **Target Dashboard**: \n",
    "The Dashboard that is currently modifying the state manager. "
   ]
  },
  {
   "cell_type": "code",
   "execution_count": 10,
   "metadata": {
    "collapsed": false,
    "scrolled": false
   },
   "outputs": [
    {
     "data": {
      "image/png": "[encoded data removed]",
      "text/html": [
       "<img src=data:image/png;base64,iVBORw0KGgoAAAANSUhEUgAABqUAAAG7CAYAAABKNZ/GAAAgAElEQVR4XuzdB5hcZd3+8W82AUIPCU1BBKSKChEQGyoWrBgEQSEgYO8N7AVULIAF6+tfVFAMxYYgoGBBLPQI0kGQotIMPSGFJPu/7uU57zsOs7szk53NzO73uS4vyc6pn3N2z5xzn+f3TMCmgAIKKKCAAgoooIACCiiggAIKKKCAAgoooIACCiigQIcFJnR4+S5eAQUUUEABBRRQQAEFFFBAAQUUUEABBRRQQAEFFFBAAQylPAkUUEABBRRQQAEFFFBAAQUUUEABBRRQQAEFFFBAAQU6LmAo1XFiV6CAAgoooIACCiiggAIKKKCAAgoooIACCiiggAIKKGAo5TmggAIKKKCAAgoooIACCiiggAIKKKCAAgoooIACCijQcQFDqY4TuwIFFFBAAQUUUEABBRRQQAEFFFBAAQUUUEABBRRQQAFDKc8BBRRQQAEFFFBAAQUUUEABBRRQQAEFFFBAAQUUUECBjgsYSnWc2BUooIACCiiggAIKKKCAAgoooIACCiiggAIKKKCAAgoYSnkOKKCAAgoooIACCiiggAIKKKCAAgoooIACCiiggAIKdFzAUKrjxK5AAQUUUEABBRRQQAEFFFBAAQUUUEABBRRQQAEFFFDAUMpzQAEFFFBAAQUUUEABBRRQQAEFFFBAAQUUUEABBRRQoOMChlIdJ3YFCiiggAIKKKCAAgoooIACCiiggAIKKKCAAgoooIAChlKeAwoooIACCiiggAIKKKCAAgoooIACCiiggAIKKKCAAh0XMJTqOLErUEABBRRQQAEFFFBAAQUUUEABBRRQQAEFFFBAAQUUMJTyHFBAAQUUUEABBRRQQAEFFFBAAQUUUEABBRRQQAEFFOi4gKFUx4ldgQIKKKCAAgoooIACCiiggAIKKKCAAgoooIACCiiggKGU54ACCiiggAIKKKCAAgoooIACCiiggAIKKKCAAgoooEDHBQylOk7sChRQQAEFFFBAAQUUUEABBRRQQAEFFFBAAQUUUEABBQylPAcUUEABBRRQQAEFFFBAAQUUUEABBRRQQAEFFFBAAQU6LmAo1XFiV6CAAgoooIACCiiggAIKKKCAAgoooIACCiiggAIKKGAo5TmggAIKKKCAAgoooIACCiiggAIKKKCAAgoooIACCijQcQFDqY4TuwIFFFBAAQUUUEABBRRQQAEFFFBAAQUUUEABBRRQQAFDKc8BBRRQQAEFFFBAAQUUUEABBRRQQAEFFFBAAQUUUECBjgsYSnWc2BUooIACCiiggAIKKKCAAgoooIACCiiggAIKKKCAAgoYSnkOKKCAAgoooIACCiiggAIKKKCAAgoooIACCiiggAIKdFzAUKrjxK5AAQUUUEABBRRQQAEFFFBAAQUUUEABBRRQQAEFFFDAUMpzQAEFFFBAAQUUUEABBRRQQAEFFFBAAQUUUEABBRRQoOMChlIdJ3YFCiiggAIKKKCAAgoooIACCiiggAIKKKCAAgoooIAChlKeAwoooIACCiiggAIKKKCAAgoooIACCiiggAIKKKCAAh0XMJTqOLErUEABBRRQQAEFFFBAAQUUUEABBRRQQAEFFFBAAQUUaDWU2gTYEdgQmAzcA1wBXAgsruF8DXCyvAoooIACCiiggAIKKKCAAgoooIACCiiggAIKKKCAAgpEoJlQahKwP/BuYDvgPuDSEkitCTwFyDTHAd8E1gdOBdbpUeJdgTcBzwHWrdmHu4GNgIfa3K8/AjvXzHsnkJ+dBXyvzWU6mwIKKKCAAgoooIACCiiggAIKKKCAAgoooIACCijQEwLDhVJPAn4EbAtcA3wM+GVdr6js6POBzwNPK3vdX4KqpT2h0HgjVwPOA55c8/G7gG+0sU9xSW+yqt0KbA/MaWNZzqKAAgoooIACCiiggAIKKKCAAgoooIACCiiggAIK9JzAUKFUgqb0eEo4kyDqtcP0EpoIfBt4Y1GYVnpT9RxKzQZ/FPhszb9vAjYHlrS4Uz8BXl0zzw+BA1pchpMroIACCiiggAIKKKCAAgoooIACCiiggAIKKKCAAj0rMFgold5B6SWUQOrq0qtnQRN72Qf8DnheCW9uaGKebp7kIOD7wP1AShWm7QOc1MJGbwpcD8ytWcbXgPe0sAwnVUABBRRQQAEFFFBAAQUUUEABBRRQQAEFFFBAAQV6WqBRKLVCGTNqm7Jn6TF1Tgt7mZ5EKfX3DODiFubrxkn3A44HjgI+UDbwryWka3Z7v156Rc0C3lpm+irw3mYX4HQKKKCAAgoooIACCiiggAIKKKCAAgoooIACCiigQK8LNAql3g0kNElrNYCpPE4Gvgec3eNAVSiV3k5XAKuW/Xlh6RE23O5NBTJ+VMoaLgY+VGYwlBpOzs8VUEABBRRQQAEFFFBAAQUUUEABBRRQQAEFFFBgTAnUh1Ipv/cP4PFlLz8MHNHGHr8MWAX4aRvzdtMsVSi1FnBYTcm9hG0vbmJDPwYcCiTUeqehVBNiTqKAAgoooIACCiiggAIKKKCAAgoooIACCiiggAJjUqA+lHo28KeaPX1WGVtqpHY+YVXK4E0HEoBlzKk/Ag8BqwPvqltRpsnP3gBsXHob/a3MszXw4w4HX7WhVMaUuhGYWLZxOyDbMlhbCbgF+A2wP/CFJkOpjOOV3mq7A1uUcO9u4CrgR8APgP4GK03ZxDeXUoFvLy7pqRXv1wDrAZcDHx2iHGPOh+zz64Ds3xrAg8DNwKnAV8rYWIPt84rlWGXcrYSS6R02raw3Y3PVei0C7mqwoCeV8C9lIzcAMt21ZX++CcyrmyeBYbb3TcCfS4nEpwIZt2tb4NfFv5kx0UbqPHc5CiiggAIKKKCAAgoooIACCiiggAIKKKCAAgooUCdQH0qlN1B69lQtQcwDI6T2DuBLJTg5qSwz406llF3CgwQO6U1U2xI67VhChfNK+bxXAV8E1gH2GsVQ6j7gROC1ZQNPAGYOYfNG4JgS7iSMaSaUSg+13wGbAAmWEkAl3MmyMn+OV73TK0qI84LyeTYpLunx9vPS621pCQHz2ULgmaU0Y+3mJ1A6BUhwmO3+SAkL0yMspRgTcF0K7AQ83GC/1wXOBJ4CvBo4rUzz9BIM5Vyqb48D/lXzw6wz4dKRwPlAxjfL8T4YSMj3d+BFJezLmGcph5h9nVyW8f+A75bQLeFe1Q4Cjhuh89jFKKCAAgoooIACCiiggAIKKKCAAgoooIACCiigQBsC9aHUz4A9ynISRjUKEtpYDQks0mvoh8Bb6haQni5XA1l3bSj1ytI7Z98SBtXOllAlvWL2HuVQKj1wZpcNSS+gJ5Qxo+pN4pqeTf+sKfPXTCj1WyDh0h+AXeoWWh2b9JLaELitfL5Z2YZjgVilHV6OY8KdzJd53lt+ns8TGM2oW/7Hgc+UnkkJdGqDp/RWS8+jtEbHI/ub45HjkvGz3la37Pz7W+VnCSazf1l+9ndJ+XmCpwSXCbHqe1AlCEwgmJZxzhJUpudczp1sz/vLZ8eX3mUpm/i8mp5pOwMXtnPiOo8CCiiggAIKKKCAAgoooIACCiiggAIKKKCAAgqMjEB9KJVgISX70tKDJT1ZRqKlN0tVai//Xd8OKSFDbSiVHkHpLZSf5b/r2+ml90snx62qLd+XnlJpv68JjNLLK2FPfUvvpV8Cu5byffm8mVAqperSOyj7tlvdQt8HfLn8LIHLuXWfp4fRd8rPLgFeCsypm+YaYKtSAq+2J1EmS5nBF5byfCmlWNtSbjFhUFp6032q7vP0rjqj/Cyl+6qecNVk6e11L5DeWBcA6SFX29JDLKUcU2rw6AaeKZmYEo+ZP+25pYRj/ju9ytIrLC1+Ly9hV/79mOJ5a4Nl+iMFFFBAAQUUUEABBRRQQAEFFFBAAQUUUEABBRQYRYH6UOpiYIey/vRsSm+UkWh7lh5NKSOX0CIBVW1Lz5+EOwmnqvb1EkjdUUq2XVk3T5YzH/jFSGzgIMtoFEol7EmZurSMb5TgLoFLbUtPoCmldF/182ZCqfRgSqCVMC49jmrbATUl6BIC/aqBR0oKpg1W1jA9ibJPadm++2uWkZ5KKYuYQCm2tS2hUcaVSkvvq5TNq22fLWNV5WcZC+qcus/zzyuAjBeV4CghVdVDKp8dAXywOObzRi3zZIyxtPSMqgK4tYH/lJ8nGIufTQEFFFBAAQUUUEABBRRQQAEFFFBAAQUUUEABBbpMoD6UqsrHZTMTuNT3pml38xM6pSdMxgVKS0+glJgbqqRaxiX6SZk+QUVCiAQiKYk3Wq1RKJV1VwFL/vsTNWXx8u/tgfRUyryzaja0mVAqk69a7KtZVwZ2B1JCr+phlF5UMaxtVW+0/GywUCol+LKctPWBO+uWkeM9t+ZnOT9SRvANNaUBU36vNjzM5Cn7l/J/aRkDqlFQ+JdS3i/TJGBKoFi1eMUtgVLV46rZY5wSfveUiTOm1FubndHpFFBAAQUUUEABBRRQQAEFFFBAAQUUUEABBRRQYPQE6kOp44D0yKlaApKUTRuJ9u5Smq12nSmFl0AjPYvqW6ZLj6qEU1XLOEQJehJo3TgSGzXMMgYLpQ4EMoZTWsY/Sk+iBeXf6WmUsZU2BTLuVNWaDaWq6TcvAVJ6maW0XoKXlPBLaxRK1YZ4g4VSKY33nrKMlLZLL7RGbSrwZuCNxTkBWDWmVKNQqhr/K8v6fE2vqdpl31R63mX8sG3qVvpgCUBfB6Q3VystPb6qnmqGUq3IOa0CCiiggAIKKKCAAgoooIACCiiggAIKKKCAAqMoUB9KpZfJ/9SsP6X8Zo/g9qS02zeAreuWeQrweqAat6n6ONv3thJcJSipWnpOpdfUJ4H+Edy++kUNFkplbKOELI8tM8QtgUjKHaZHWErRVeM/VctsNpRaB0jws0cpa5cyhnGptiXL61QolfGsPlzGdkpvp4wdlfAvPd2qHmqNQqmU1Utvp4w9dVsZtypBU9UyjtVVpfzea+rKN2a8qCq8O6rYtXJIDaVa0XJaBRRQQAEFFFBAAQUUUEABBRRQQAEFFFBAAQWWk0B9KJUeP/+oGbvnUODTI7xtCSH2LWXv0huoan8DdgIWNljfGqWHT3oKpVxb1TrdM2awUCrrT/CUsZDS/l6CmK+UnmYZZ6o2lMk0zYRSKc+XgC7tBSXIqfa106FUwrCMU7UdMBM4ucZ5uFAqkyagy5hYKcP3ayC9yVIecDPgxBJYJfDKuFX1Lcc8QV/GDXvyMOfb5FLi8O4ynaHUCP+CujgFFFBAAQUUUEABBRRQQAEFFFBAAQUUUEABBTohUB9KZR0p1fbysrIERQkp2mkpYXdemTFBUno3ZZyqqk0C3gF8rowxlJ9nvKP0pEpLsFM/flSWk+lrxw16ShnjqZ1tHG6eoUKpNcv2rV4W8iYgodS3gA81WPBwoVTK6SWUSY+wBDo/qFtGp0OpHKuEYinheFDdupsJpTJLAqVfAn8FEjgmbFoCnA8cUxey1a7i+jJ9fvbSEmoNdmzSoy6lEk8oExhKDXcW+7kCCiiggAIKKKCAAgoooIACCiiggAIKKKCAAl0g0CiUSsiTkn0JjdJeBaSUWystYwNNKyFN5st4RwlbvtNgIc8Dfld6Z/0I2L9Mk3Aq4xglsKhvn6jpwZVxj77Xysa1MO1QoVQWk1J27y/Ly3hXKSW4SSlhV7+a4UKpQ4CUr0vbFri8bgGdDKVSpvHisr6MOVWNH1VtQjOh1FOBs4FXABe0YJxJvw28pcxzC/D0Qca7SgCYwCuB53/K9IZSLWI7uQIKKKCAAgoooIACCiiggAIKKKCAAgoooIACy0OgUSiV7UjJvgQ/aXeVsno3N7mBCZk+Wnq8pJdMWkKplG7bcZAxoC4qn6WXUXpPpSWUSk+bgxusdzXg/hJk7Q38pMlta3WyhGvpsZSA7Z4GM6c3V8odVgFeo15G1WwZA+sD5R8ZJ+rddcurDa0aBW0fAw4v8+wJ/BxYGZhfY1w57AX8tMH2Hl3KIOaj9My6o0zzklK6L/+sDQarRTwL+HPdtmf8qYRwGQ8qJfUSHi4t42q16pwg9DKgOh+zrJQQzDhVVYt1fHMevqHm57WhVELPKtxqdRucXgEFFFBAAQUUUEABBRRQQAEFFFBAAQUUUEABBTooMFgo1VfGAUrgk5Yyevnv4XrA7AF8EnhxGU+o2vSEUglMElZ9vsH+XFPGZHou8MfyeUKpNwMvrPlZNev6wO3AvaVnUgKqTrQER18FnlDCp0brSIiTACXtSUOUqEtgkhJ/accDCbxqW0r2HVt+MKeU8PtTGYspvahSRjE9ltJSwjBjPqWXVuZLO6CENvnvbE9V3q52HQnD3ll+ULtPGwM3lZ8naMpyE8ZlnKgcg/R+2rR8/oey/PSmSpm/jJ2Vkntnls+zzel1lRJ7CanyvwRX+Xf2K/NX66rdttrQrvp5wsqM15UALcFYxpGKQ9VLKtOtXfPvn5UAtBPngstUQAEFFFBAAQUUUEABBRRQQAEFFFBAAQUUUECBZRAYLJTKIicC6b2TnkqZLuFCgqUEJxl/KGFEWsryPacELhnzKb14EhjVtiqUys8SdiSAuLrMe2jpNZSeWVVPoEyXUCq9phJm5Ocp0ZeePZuVMoA7ldKCKRnXibZiGdtol7J9CXQatYQkl5aeRi8bZJoYJaipgp309knvoMows6XXU8aUqqapFpWygLG5EDinZvl3As8Gbig/+ybw9vLfKSuYIKu25RgmMEq4k5ZQLOFY1RJi7dNg+08sQVaOaUzSEjK9pvTWyr8TlsUgAVEzLedAejSlJ1zVEoSmJ1fGFWvUEmgl7Ez5vtq2K3BW+UF6s21VF1o1sz1Oo4ACCiiggAIKKKCAAgoooIACCiiggAIKKKCAAh0WGCqUqlad8YY+Dry8pkxdetOkd1JCilVKL6IvA/+vBBb1m10bSlWfJWyZV8rCfRE4t26mKpSq/XFCjPSW+VXpLZTSeSPd0jMrgU3GNdq8ZuEJhBIAJSBKIFTbEowlwPt93c/Teym9iBLapbdPbUvIk33+bc2YWOm9lGDm+cUxvcbS8yyBT0KbU4GEZFlPwpuMvxTb15f1VMtPgHhGGasrPb1ybLI/z6jZgIeA08q4X+mRtGoJC9MjLuUR/1bm+3GZJ+fAh4DrSlBZf7y2BLKc84GNSkCV5axUtr3+OH22nFf1P09vufRQS+CW0nxx+iWQ6atyg5kn+5LgLUFVtr1q6UWV45FSifXh6EifKy5PAQUUUEABBRRQQAEFFFBAAQUUUEABBRRQQAEFmhRoJpSqFrVGCQIS1KxZQpOEBOm5ckWT63OysSmQMbV+UUr4ZVywRi1jUCVk2hpICJn/3mJscrhXCiiggAIKKKCAAgoooIACCiiggAIKKKCAAgooUC/QSiilngKDCXy7lAVMScL0ohuuvQT4fhmzarhp/VwBBRRQQAEFFFBAAQUUUEABBRRQQAEFFFBAAQXGgICh1Bg4iMt5F1Ke8EwgY1q9s8ltyVhhOwOvbXJ6J1NAAQUUUEABBRRQQAEFFFBAAQUUUEABBRRQQIEeFzCU6vED2AWbn7J9M4Aby7hVc4bZppTv+w2wK3B1F2y/m6CAAgoooIACCiiggAIKKKCAAgoooIACCiiggAKjIGAoNQrIY3wVGR/q4LKPtwNHA2cA15Vxx/JRH7AlsFfpTfUW4JQx7uLuKaCAAgoooIACCiiggAIKKKCAAgoooIACCiigQI2AoZSnw7IKrAh8CXgbMLFmYUuAB4ClwBrACsCVwAHAX5d1pc6vgAIKKKCAAgoooIACCiiggAIKKKCAAgoooIACvSVgKNVbx6ubt3YL4EBgFyD/nSBqHnAHcB6QMn+/BPq7eSfcNgUUUEABBRRQQAEFFFBAAQUUUEABBRRQQAEFFOiMgKFUZ1xdqgIKKKCAAgoooIACCiiggAIKKKCAAgoooIACCiigQI2AoZSngwIKKKCAAgoooIACCiiggAIKKKCAAgoooIACCiigQMcFDKU6TuwKFFBAAQUUUEABBRRQQAEFFFBAAQUUUEABBRRQQAEFDKU8BxRQQAEFFFBAAQUUUEABBRRQQAEFFFBAAQUUUEABBTouYCjVcWJXoIACCiiggAIKKKCAAgoooIACCiiggAIKKKCAAgooYCjlOaCAAgoooIACCiiggAIKKKCAAgoooIACCiiggAIKKNBxAUOpjhO7AgUUUEABBRRQQAEFFFBAAQUUUEABBRRQQAEFFFBAAUMpzwEFFFBAAQUUUEABBRRQQAEFFFBAAQUUUEABBRRQQIGOCxhKdZzYFSiggAIKKKCAAgoooIACCiiggAIKKKCAAgoooIACChhKeQ4ooIACCiiggAIKKKCAAgoooIACCiiggAIKKKCAAgp0XMBQquPErkABBRRQQAEFFFBAAQUUUEABBRRQQAEFFFBAAQUUUMBQynNAAQUUUEABBRRQQAEFFFBAAQUUUEABBRRQQAEFFFCg4wKGUh0ndgUKKKCAAgoooIACCiiggAIKKKCAAgoooIACCiiggAKGUp4DCiiggAIKKKCAAgoooIACCiiggAIKKKCAAgoooIACHRcwlOo4sStQQAEFFFBAAQUUUEABBRRQQAEFFFBAAQUUUEABBRQwlPIcUEABBRRQQAEFFFBAAQUUUEABBRRQQAEFFFBAAQUU6LiAoVTHiV2BAgoooIACCiiggAIKKKCAAgoooIACCiiggAIKKKCAoZTngAIKKKCAAgoooIACCiiggAIKKKCAAgoooIACCiigQMcFDKU6TuwKFFBAAQUUUEABBRRQQAEFFFBAAQUUUEABBRRQQAEFDKU8BxRQQAEFFFBAAQUUUEABBRRQQAEFFFBAAQUUUEABBTouYCjVcWJXoIACCiiggAIKKKCAAgoooIACCiiggAIKKKCAAgooYCjlOaCAAgoooIACCiiggAIKKKCAAgoooIACCiiggAIKKNBxAUOpjhO7AgUUUEABBRRQQAEFFFBAAQUUUEABBRRQQAEFFFBAAUMpzwEFFFBAAQUUUEABBRRQQAEFFFBAAQUUUEABBRRQQIGOCxhKdZzYFSiggAIKKKCAAgoooIACCiiggAIKKKCAAgoooIACChhKeQ4ooIACCiiggAIKKKCAAgoooIACCiiggAIKKKCAAgp0XMBQquPErkABBRRQQAEFFFBAAQUUUEABBRRQQAEFFFBAAQUUUMBQynNAAQUUUEABBRRQQAEFFFBAAQUUUEABBRRQQAEFFFCg4wKGUh0ndgUKKKCAAgoooIACCiiggAIKKKCAAgoooIACCiiggAKGUp4DCiiggAIKKKCAAgoooIACCiiggAIKKKCAAgoooIACHRfollDqC8DbgXcCP2xyrycCrwYOAc4t/9/krF0/WTseXb9TbqACCiiggAIKKKCAAgoooIACCiiggAIKKKCAAgqMX4FmQqntgIOA5wCbAisCdwPXA2cAPwbmAF8B3tom5U3AxsDpwG5NLGMGcASwZZn2S2MslGrVowkyJ1FAAQUUUEABBRRQQAEFFFBAAQUUUEABBRRQQAEFlp/AUKHUmsBXgQOA84GvA+cAdwErAVVYlcDqXuDCJgOlRnu7L/BG4JPAn5vgWAVYBFwBbAWMtVCqVY8myJxEAQUUUEABBRRQQAEFFFBAAQUUUEABBRRQQAEFFFh+AoOFUusDvwGeBKSU3MeApYNs5gtKj6nLgKeP8q78pJTw69ZQ6vvA6wcx2RWYCpw0ymauTgEFFFBAAQUUUEABBRRQQAEFFFBAAQUUUEABBRQYdYFGodRk4E/ADsAJwMwmtuotwAeBJzQx7UhOcjywX5f2lHoW8F1g60F2OKHf9wylRvJ0cFkKKKCAAgoooIACCiiggAIKKKCAAgoooIACCijQrQKNQqnDS8+ouSVkSrm+4VofcAnw1OEmHOHPjyvlBbutp1TKC14MTCzlBet3+0DgWGAfQ6kRPiNcnAIKKKCAAgoooIACCiiggAIKKKCAAgoooIACCnSlQH0otS5wC5DeUunFk3Gemm3PBf4I9Dc7wwhM142h1OrAz4EXAtc1CKVmAD8GVjSUGoEzwEUooIACCiiggAIKKKCAAgoooIACCiiggAIKKKBATwjUh1IfBj5ftjzhyWnLuBcpYfeOUgpwC2BP4MtlmXsBFwErA/sC7wJOBz7eYJ0rAO8rpfrSCymhWcaTeiyw9zKU79sGOAp4PDAJuBmYDSScaxTIZV1vB7YrodLlwFeAk8s2bwT8CtgcyDYnoFtUPktQdVXphZbtj/3DNWN1pZfZ1cN4TCljVMX0UOBHQBwz5lfWmW1/M3DtIMdtN+A9wEJgjbINOR7Vcc72LlnGY+7sCiiggAIKKKCAAgoooIACCiiggAIKKKCAAgoooMCjBOpDqT8DCZLSErD8s02zBFDfAl5Q5k/vqzeVUnVTy88y3tJfgARhW5affbZBKLUakPGX1gReVXofbVCCoGpb2ynftyHwtxIyVaHSS8tyzwReW7Pvccr2blxCnb8Dryg/S1D06RISVbO8uoRmjXpKZZorgQRi9eX7UtZvMI+3Aa8Dnl5Wsj/wlBLUXV9KJ6aX1j9K76wEXrUtYd9ngN2BU8sHCeQOqZvuQ8CRbR53Z1NAAQUUUEABBRRQQAEFFFBAAQUUUEABBRRQQAEFGgrUh1IPAgmB0laq6eXTaOaEGTsD02o+XFp6+3wQeKAENYcBdwLnlvGf0lsqvXkSkiQEyzYkvNkMaBRKpdRdem09GUj4UrXHADeV7WwnlPpcCcrWqdu59NhK2FUbSr239ORKCDSvZvoDgJQQTNse+Gv573ZDqVgM5ZHeXHeXXk4XlDKB6am1GNi6hF0Z3ys9otLrrGpPAy4sPdN2qvn5qsCtQILC7Pf5xfQef18UUEABBRRQQAEFFFBAAQUUUEABBRRQQAEFFFBAgZEUqJ11NgsAACAASURBVA2lEkItqFl4ys8l7BiqJdRIb6dty0QfAL5YM0MCqJ+WknCZJuXrGrX0TEovpfpQ6vnA74CfAQl66tuvgRe3Wb4vvaNSji8B1Hk1C05vo68D6bWUFpf0GDumlMmr3YaUD/x3+UH2O/uf1m4oVS17MI98ntJ86VmWUC9etS1BVUKn9LY6ouaDb5YeYT+o2a/q45RBzPamFGB6X9kUUEABBRRQQAEFFFBAAQUUUEABBRRQQAEFFFBAgREXqA2lqjGOJpa1PA74VxNrTOm6T5Tp0lundjyj9NjJeEUp35fSd4O1jLeU0nz1oVT18/RU+mqDmdNLKb2V2u0p9RHgfiAl61KerxpPKeUHq15ZzwPOKWXx/lO3DTFLKcG0jCWVEoVpyxpKDeaRZWccq/QaS4CUIKm2Jbzbo4FjyvW9EphVyv3VzhO795deUs9s4ng7iQIKKKCAAgoooIACCiiggAIKKKCAAgoooIACCijQskB9+b6ERxlLKu0ZQHreDNfSO6gag6g+yMq4S79sIpRKb6r0qqoNpbJt95axpF4DpIxffVuWUCph0mxgvbLQG4DPA+lNVIVT+egdwDeAjOn07eEwyufLGko18qhWfVnpmdYolEpINbP0kkpvqapVPaVSLjElF2vb0WWcrJT7S4hoU0ABBRRQQAEFFFBAAQUUUEABBRRQQAEFFFBAAQVGXKA+lKpCjawoY0F9qok1Zmypo8p0IxlKZZyjjJ+UlvGdUm6vvi1LKJVlbQj8D5DwrGqXlrJ+CanSPgYcPsh4V4PxdFsolR5QKbOYcowZuyvhY9VSHjFlEgczbuIUcBIFFFBAAQUUUEABBRRQQAEFFFBAAQUUUEABBRRQYGiB+lAq4zNlnKa0K0uZuOEMOxVKTQPmlJW/D0iPnvq2rKFUtbyU6PtCGY8pP8s4UU8EHiil7VLiLqHOs4fAWBmYXz7vtlAqm5UxqFJq8ezSK20ekB5oJ5WeYO8a7kD7uQIKKKCAAgoooIACCiiggAIKKKCAAgoooIACCijQrkB9KJXlnFdK9+W/XwikJ81QrVOhVF8Z72k1IGMspbxffatCqS8DB7eIkN5Bv6+ZJxbvLOFX1p3/Ttm7qgRhJh2spGF6dR1ayuBlum4MpSaVUor3AY8ttnOB48t4WC3yObkCCiiggAIKKKCAAgoooIACCiiggAIKKKCAAgoo0LxAo1BqC+CiMpbT9cD2QMKLwVqnQqms7xRgd2ARsA1QldSrtqUKpTLmU6s9fY4tJfnql/ld4A2l59RHgNWB24CEY/8AdgFurcP4IfAz4NTy8z3Kv28s5fLq7S4vvdAajQuVaUd6TKkc54zJdSHwxeZPD6dUQAEFFFBAAQUUUEABBRRQQAEFFFBAAQUUUEABBUZGoFEolSXvWMq8TQHOBRKy3DPIKocKpXYDTgPuAB4zxCb/AphREwRVkz69lM1Lz6W/ASkveGf5cB3gnBJWnQW8pEWSBFrpPbRf3XzvB1Kur3aMpYyt9cky3b3AV0twlx5SBwJx2glYWqZ5UfFLOb9sZ0rlva2MX5VJUgow4zx9piw34zxtWubJ54N55LNrgK3Ken9Qt+2zgH3L9ue4VG0f4ATgGOD7ZXuyrUuAhWXsrpQqtCmggAIKKKCAAgoooIACCiiggAIKKKCAAgoooIACHREYLJTKyhKUZBynlwN3lXGHEmzcXMKM9KhKSb33Ahn/KYHIW2vGVcoy3gJ8G+gHNm7Qw6jaqarn0IklVKnd2YwnlfJ8aQnG0osoYUpCnfTgelb5LGUHD2+hFF3Vy+rrwMeAB4H1SrnC7G+CpawnLeHVT0qvrfoDkcAtY02lV1TV1i7jUq0IXFLGxko49z9lgoReCb8SWqU3WGx2LWFRJhnMI8u7u/TaSkiWUKu2JaTL+FjptZUSglWrjsNgJ1GOzwUlOEv4Z1NAAQUUUEABBRRQQAEFFFBAAQUUUEABBRRQQAEFRlRgqFCqWlF6TaWE3guADUpZv4QY6VlzZRmX6STgnzVbljGLPl4CpjXLz28qgdIHa6ZL8JMeRK8qP8ty05MnYViWXbWXAR8FnlqCm5TJS5D0BWBr4GslNHq4BZ0qlMosi0tpvoRQJ5flpgdRbUtvrYQ7by49ldL76cyyHbX7Xs2THktVqbz8fxWs5fO1ylhOKQWYMC1hXkKtoTzSO+odJXTKMhJofa8EXU8AZgKvqXFML6q4XArkOH+n9OZaqfTeSjnCFer2Mb3QEjbaa6qFE8lJFVBAAQUUUEABBRRQQAEFFFBAAQUUUEABBRRQYHiBZkKp4ZfiFN0usGUp3ZfQq1HYluBwh9Lb7YAWept1+367fQoooIACCiiggAIKKKCAAgoooIACCiiggAIKKNAlAoZSXXIgOrgZqwB/BTIuVsojDtXyeXqQZYwumwIKKKCAAgoooIACCiiggAIKKKCAAgoooIACCigwYgKGUiNG2bUL+gjwOeClwK+H2Mr0lvoT8HTgoa7dGzdMAQUUUEABBRRQQAEFFFBAAQUUUEABBRRQQAEFelLAUKonD1tLG30M8EbgljIe1m+AjN1V2zJeVcbyOgo4paWlO7ECCiiggAIKKKCAAgoooIACCiiggAIKKKCAAgoo0ISAoVQTSD0+yYalh9Q2ZT/uAq4A7gVWAjYFNgBeB/yyx/fVzVdAAQUUUEABBRRQQAEFFFBAAQUUUEABBRRQQIEuFTCU6tIDM8KbtSJwILA3sC0wBXgAuB44A/hmCalGeLUuTgEFFFBAAQUUUEABBRRQQAEFFFBAAQUUUEABBRR4RMBQyjNBAQUUUEABBRRQQAEFFFBAAQUUUEABBRRQQAEFFFCg4wKGUh0ndgUKKKCAAgoooIACCiiggAIKKKCAAgoooIACCiiggAKGUp4DCiiggAIKKKCAAgoooIACCiiggAIKKKCAAgoooIACHRcwlOo4sStQQAEFFFBAAQUUUEABBRRQQAEFFFBAAQUUUEABBRQwlPIcUEABBRRQQAEFFFBAAQUUUEABBRRQQAEFFFBAAQUU6LiAoVTHiV2BAgoooIACCiiggAIKKKCAAgoooIACCiiggAIKKKCAoZTngAIKKKCAAgoooIACCiiggAIKKKCAAgoooIACCiigQMcFDKU6TuwKFFBAAQUUUEABBRRQQAEFFFBAAQUUUEABBRRQQAEFDKU8BxRQQAEFFFBAAQUUUEABBRRQQAEFFFBAAQUUUEABBTouYCjVcWJXoIACCiiggAIKKKCAAgoooIACCiiggAIKKKCAAgooYCjlOdD1AhdffPGMvr6+7bp+Q91ABTok0N/fvyPwzwkTJtzRiVX09/ffPHHixFOnT59+XyeW7zIV6GaBiy+++Hl9fX3P7eZtdNsU6KTA0qVLn9/X13cbcG0n1tPf33/fxIkTf+A1phO6LrPbBS666KLtJk6cOKPbt9PtU6CDAjtPmDBhbn9//6WdWEe5xuQ+5uZOLN9lKqCAAgoooEBnBAylOuPqUkdI4JJLLvnImmuu+blVVlllhJboYhToPYG77rqLqVOnMmnSpI5s/KJFi1i8eDGbb76514SOCLvQbhWYPXv2zDXWWONHXmO69Qi5XaMhcPvttw9cY1ZaaaWOrG7JkiXkOrPZZpt5jemIsAvtVoFLLrlk9zXXXPMUrzHdeoTcrtEQyDVm2rRprLjiih1ZXa4xCxYsYN68eWv58kNHiF2oAgoooIACHRHw5rAjrC50pASuueaaeRtssMEqq6+++kgt0uUo0HMCs2fPZptttmHy5Mkd2/YrrriCJUuWbOJbhh0jdsFdKHD11Vffu+GGG07xGtOFB8dNGjWBXGO22GILOvl7cP311/PAAw/ssuOOO/5h1HbMFSmwnAWuv/76f0ydOnWTPJC3KTBeBXKN2WSTTQZefuhU8xrTKVmXq4ACCiigQOcEDKU6Z+uSR0DAUGoEEF1EzwuMRijlzVzPnybuQBsChlJtoDnLmBMwlBpzh9Qd6hKBq6666s7HPe5x63Yy8O2SXXUzFBhUwFDKk0MBBRRQQAEFGgkYSnledLWAoVRXHx43bpQEDKVGCdrVjDsBQ6lxd8jd4QYChlKeFgp0RsBQqjOuLrW3BAyleut4ubUKKKCAAgqMloCh1GhJu562BAyl2mJzpjEmMEZCqbcDWwO7APsCl7dwmKYABwMvBJ7RwnxOqsCQAoZSniAKwBgJpZblGtMHvAH4APAc4A7PCwVGQsBQaiQUXUavC4yRUGo34KnATOBQ4MQWjovXmBawnFQBBRRQYPwIGEqNn2Pdk3tqKNWTh82NHmGB5RhKbQ58EHgj8BfgCmBV4LHAScD3gP4mdncvYEvgcOBo4BbgK03MV02yEvB64D3AVi3M56QKGEp5DigwjMByDKW65RoToe2AS4HHGEr5KzNSAoZSIyXpcnpZ4O9//zsZV205jCk1UteYDYFvA68AXg3sA+zZ4jHxGjM42FzgbOAhYHfgWuC6cl2+oLw00iK3kyuggAIK9IKAoVQvHKVxvI2GUuP44Lvr/yuwHEOpbMN04K9AbuxuKBuVn/0KOKPJG4VZwLnAd5bhsOYNxaNqQqkEVQcs4zKXYXOcdSwI2FNqLBxF92FZBZZjKNVN15jVgQdqQimvMct6Yjk/hlKeBArAcgylRuoa86aaSg/tHtL6a0yW8y7g6+0ucIzMt0q5n/ufsj83lxcY8xLjCsB7y/1fq7vrNbxVMadXQAEFloOAodRyQHeVzQsYSjVv5ZRjV2A5h1JPKj2kakOpYOdNtlOAXYHfDKP/u1Lm4rvLcJTyduIXSyiVMhjHAP8EDluGZTrrOBcwlBrnJ4C7PyCwnEOpbrnGrAY8WEKpu7zG+MsxEgKGUiOh6DJ6XWA5h1IjcY35RKn4sN8yHIvaa0xKxB5YwpiUNR/PbUUgNvcUhNpQKj9av43ey94njuczyn1XQIGeEjCU6qnDNf421lBq/B1z9/jRAl0aSuX6kQd3Z5abqnWAjOkxFdgJyFuFKff3KeAg4MoyjtSHgZTz2xlYXEKm/Dt12k8AvlrCp/SCOg54cpm3NpR6QXmL7n7gHCA3izYFWhYwlGqZzBnGoMA111zDhhtuyOqr50XuzrTrr7+eBx54YJcdd9zxD3VrGOyB4UhfY1J29lvAwlKC6VnAycAXgG+Uh2JVKLWN15jOnAfjbamGUuPtiLu/jQS6NJSqv8ZMKmXC1wReWnrn/Ljc4+SeJuPbnl4qNGzf4D6mlWvMyqWH1FPKvc83y4t2nkBQH0rFJPeIqZiRa3N6T+W+Mi9L5mXH/P8TgZeX8b5y/7iR13BPJQUUUKA3BAyleuM49eJW5gvCx0splHRNr1rGg3lNeSDwJ+D9Q+2coVQvHnq3eaQFujSUym5mnKlcR54J/BB4R3nT/HPAi4HctKXlIeSPys1D/n1fqROeG4/UDM+4VacCPwPOL6FUpptXAq4EWrWhVD5LYJX57Sk10ifcOFqeodQ4Otju6qACXRpKdeIak++juTblepKWErQpRVsfSuUtdq8xY/93Zq3yskxepLmt7G7e2H9feQiaslJ5aSZlHdtqhlJtsTnTGBPo0lCq/hrzgXJfc16pAvELYOPyAl7uNTYDqp5Sg93HtHKNSU+p/O95Y+xwL+vu1IdS+Zuc0n77lwXn3jPjTB1cAqnLgVeWY5Yy73lh0vvEZT0Kzq+AAgqMksBwoVQuxK8DPt1gezYpDxnzMPLGcqHOZHljPQ8YU//1e6O0H66mswJbAp8B0ithh/IwOV+6chM/WMuNXI5/5nlrzUQXAc8GMmBoHgTkDdmHB1uIoVRnD6xL7w2BLg6l/lzeWMsDvtwgVHXR87ZgfrfzVtuSBqFUejr9Hsib6gmzct3IuFM/LctJmb60DHz79AY9pbrmZuOMM874/YMPPrjdaqutdmVfX9+CRmfUAw88sMPqq69+2ctf/vLn98YZNyJbmUAyveTy5uJHgGOBO0dkySO4EEOpEcR0UT0r0MWh1EhfY94JvKQmlMpb77/u5lDqtNNO+9VDDz2001DXmHnz5m0zefLkm3fbbbdcU8dqS5iYB45PAN4C/KT0eluW/U2Jp7xx/4PSczvLSo+FE4ELy1iYuZ/NvUtbzVCqLTZnGmMCXRxKVdeYBNNXlZfn+oHJJSz6EPC38gJcbSg12H1MK9eYrgilzj777CPmzJnz7jXWWOPiwe5jco2ZOHHifffff/+zDjrooARynWz1oVReDHhjeW6U9eb+8l4gIWLaJ8s14T3lPrLatiFfLDnxxBM3njRp0p8mTpx4/+TJk6uXEv5rvx5++OG15s+fv9nKK6988IwZM77fyZ122QoooMB4FRgulMoX8/RqSRfYhxogfQw4vC6UytslzwDS3Tnz2npf4Joyfkx6NOScSRiVnw0VSmWvvwSsWhNKpffUuUAeWDfVDKWaYhqY6NJLL+XKK6/kL3/JC0Rw7733cvLJqUxj63WBHNfNNtuMyZNzj9SZ1kZppWxIQoa8aZ5rxfGlfEKjDazvKTW9lFg4qZRX+HZ5yaE7QqlP81yWchWHMWco7VmzZm03adKkc3bccceU9BiyzZ49+84FCxa8dv/9968vXTXcrL38+d5AjvFEIDf5aV01qLOhVPOnl9eY5q16bcouDqVG+hrTygPDzvWUavIak/Po5JNPnjN9+vRpkyalstTg7bLLLrt9/vz5H505c2a2e6y2z5dQMd8h2m3DXYP+DWSMl+vbXUHtfIZSzSvWXmOmTJlCgowvfelLbLxx3pG19bJAF4dS1TXm9aXSQ0LvqqdNLXl9T6nB7mNaucZ0LpQ6bKCcXWpJXD3ceXPCCSfM3WGHHVYd7hpz1VVX3Xb//fcftd9++x093DKX8fP6UCo9onJcUiK+UUv5+IRKCalqt23Ia/isWbN+sdFGG+28wQYbpOz8oO3+++/n6quvfnDmzJlrLON+ObsCCiigQAOBoUKpdUtppNS8fXfNG/C1i8nYILlBqO0plbcXEkZ9x9q4Y+Kcy3mQMiYJJv9V9ijlLvKw8f8Ns4fp7ZAu11VPqYwhk7cP00uqqWYo1RQTS5cuZY899uAXv/gF8+bNGwijTjrpJM4+++zmFtDGVHfffTeXX345u+zS2visv//979l2222ZNm1aG2sdn7N0aSiVeusZT+q5wA3l7/22pVdTDtTTgEuApXU9pRLgJODOG4cZvyNvKVahVF5mmA0cUY706PeUOoxDytvY17MCz+Nj3D7YWTdr1qzDpk2b9pwttthi2F+Cv//973+cM2fOOTNnzhxP5QZfXUKp6mlqauenbGvq9XdFM5Rq7jB4jWnOqVen6tJQqhPXmDzUSg/eLDtt9HtKtXCNyQaecsopf9l2221TlWLIduONN/71rrvu+uUYv8bkRcj0dEvVhnZaHgJnvJGhrtnp3Z0KEfles8zNUKo5wvprzLnnnssXv/hFvv/973cslOrv7+dnP/sZr351vqo037yPad6qmrJLQ6naa8wfSxCdUCNjD6blfmW9cs9SG0oNdR/TyjWmM6HUIy895IXBtJdxGNm3QdvJJ598xY477pjnd0O2u+6665Ibb7zx3zNnztx9uGmX8fP6UGrfMvZjXm7OmJBpqaKRCh1puS6khF/Gl9oayIsFacOFUn/YaquttlxrrbXWH257L7jggn9PmDDh2fvss0+2zaaAAgooMIICQ4VSKdn3NmDtEk7lAWK+qNe2+lAqNXEzJkjeOEjptnS1TctDy4wxkj/kuVjk7ZL0vErIsWMp21TVd39t6Yab16ISbKWut235CaS0RR4g58Fy6ihfXDYlb6wkjExLQJUvCi8qXxByXqTVhlIJpHI+5Tjny95vy/+G3DNDqeYO/F133cU+++zD7373u4EZ/vnPf/KGN7yhY6HUokWLOOSQQ3jFK17Brrvu2txG5tWzu+7iwAMP5PjjjzeUalqNgR5wy7Gn1HbpiFd+x6uHNFsAOdnSFS8hTlp6ACW8TqmLlLHLQ7SUbUtLEHFCqQmesm7pUZuHPun6ldJJuT6cVZaVnpQzS+/MlNR5WVl2/j9/UzJfWq4P84GvlDfkFrVA2njS/3tYWH3+AQ4bWGfDNlwodc455wwcuxkzZrBw4cLxHkqtVF5iyTU9oWPKt6ZbZ8pt1A4qfUp5ESZvs+fGN/75zpASS+lxlXnz/7ne/ANIup23IxNwZkyzXI8SdDbVDKWaYhr42+01pjmrXpxqOYdSo3mNSZiRa8aTSynqvBCRlyFSojov4WXsoFyD8jLCcr/G5Fw644wzTtt6660TpD2q1V5jHn744fEWSqVnQx5C5gWYv5dysblPyX1r2qGlBHCuCb8s95opMZyXI/J9JMc+5WVTni/3KLmu5LqT7zB56e6vwGNK2a5ch3KdyTmSedP7INVChm2GUsMSDUxQf43Jz172spfxrW99q2Oh1DHHHMN//vMfPvrRjza3kd7HNO1UP+FyDqWavcak5HTuaXJCJORIGJKeTwlCco3IvU9evB7qPqaVa0yWn783+RuWvzXLHnj8XyCVSjUDlxAO+98xFBsev6FCqdprzKqrrnr+9ddfv2jmzJmdHgPrn8BXa8YXznPFPHPKi44p4fr4Um41ZcHzN3zFvL9RXnzOvcYeZUeHvIbPmjWr6VDqwgsvvHDx4sUfHmfVLtr+fXdGBRRQoBWBwUKp1cuFIA8gjywL3Ke88Vy7/EY9pRI2pM5uFUrly39qcae3TYKmXMhzUUn5t21KSZ8EUelBk5Y32H5T3nLI9iW0yvS25SeQLuB54yYPnPPWSR40V13b80Uqxzs95tKDKkFjjmduAOt7SuVLzI/sKTWyB/LOO+8ceNPvhBNO4C1veQs77bQTK6+88n+FUnmrLzd8F110Edtvvz2vfe1rB4Khb37zm3zyk59kk002GSiR8elPf5rHPe5xj9rATJvScX/605949rOfzZZbbslnP/tZtt56a17wghew6aabkpu7bbbZht/+9rd85CMfYdVVV+Xb3849P6Tr+8MPPzwQYh166KED25blbLXVViOLMUaX1kwolWM0VHvmM5/JE56QLLlxG6R8X8LmjBGYFwxOLX+3U74gNwQJjDKmQ9XSAzJ/91O+NSFU3gD8D/CqMm2uA6n7nXEa0sMqN4lfLmFX3tBLYJ23DxNuZSy6PHDKOFMZcyoPnj5b/rbkldb8Pcr4Evn8a4OMe9h4R1PSop/nM4FvcdhA2P5Ie3QgdS5zeTlfZN5gZoOFUnn79oc//OHA78vmm2/OwQcfzE033TTeQ6kw5jvATaUMbP7daFDpjFeZcynX/dz850WXjDmWoDIvNuQ7xmnAteXczIPBfJ/4eXmDPr3rDKVG8G9hM9eY/P04//zzueOOOwZ6637iE58Y+Pdhhx3Gc57znIHfgTe/+c0D/7/DDo/u5DDcNebpT386X/jCFwauGRdccAEvfelLB5ab+fJ79tznPpcf//jHvOMd7+Bzn/uc15gWj38zodRw15h8L3ja0/KVsKuvMQmd8kJFXrTL35VcRzI2Rb7DJvjJg7D8TUn56XxnXa7XmEg2CqUaXWNuueWW8RZKhefucgxzvcj9Yl52SCiVsbVy/UiljzzQzPeRfN+o75mQL6G5fuSBcO5T01JqNt99qpdw0ssg3zmqHtz5nvPmBi9qNjzxDaWG/2PU6BqzxRZb/FcoNdLXmJ133pmjjjqK++67b+B6kpeHvMYMf6zanaKZUGq4a8zaa689cKw6eI1JoJGXFvIcI88z8jJUqjfk2VV+71MmLuPZ5Xto7oka3ce0co3JS1X5vpoALOtsOC7to/b3MKYwgTexAt/nowN/Ax9pjw6kbqOfXfjU0KVIG4VSja4x999/f6dDqTx/zEsECZPy8mLuP88ve5cXB1IqPg8pcv/5/nJccj+Q+8ccp7zgmGdU+Vud63vG8R30Gm4o1e5vs/MpoIACIyswWCiVt0QyCH2+kN9a3mLOG2O5KNe2RqFU3nrPTV4VSuVGL9PlJvCFQC44uWCnVV/685CxerhZbVMeBK4CNArDRlbBpTUjkDdu8kA5bxTmjfR0j8k5kS8IaXlLMe055W2VPCE3lGpGdgSmue2229h///0b9pS6+eabBx7WffCDHxy4+Xrxi1/MiSeeOBAk5Ybs9ttv50lPehK77747U6c+uqzygw8+yNvf/nZ+8IMfDARLCbhyU/De97534IYxPaWOO+44VlxxRfbdd9+Bm7r11luPgw46aKDsRh4Y5k3HPKxM+JUbwZQZtHxf8we+mVAqwd/73ve+gZKKtW3ChAkcffTRPOtZQ49/PsSYUs1vaLdP+Rm2ZjF/YsJA75qEXQcNBFNtBFLZ1fpQKr8r+R0577zzBs7x/B7kDdwEtJbvGzg56kOpwQaVTm34vPiQ7wsJmfImZK4n6Wmdlp7cWdbryjUpva3SSyq97RJs/t9N+jDnpD2lmvulHeoas3jx4oGwKX9n0mbOnDlQTjYlkXK9SAmmd77znay77roNA6lmrjH5u5ZrUF6e+M1vfsOpp57KN77xjYG/d7kW5aWMLCchsNeY5o5p7VTNhFJ5SBXratzK2vk/85nPDPmwMNN6jRl4w7tqw770UE1YG0oNdY0Zp+X7Mu5jyvkllEranXvQhFJ5WJyeuHlAmbejcl3INaU+lErPp1TuGCqUemUJKxNk5qF0elM11Usqx9BQqrm/R/XXmMxV9ZTacMMNO3KNSQiSyhL5nuY1prnj1O5UzYRSWXZeaPnVr5It/3fLPezeeyevGLyNi2vMYQPPxjI+d/7e/Y0VecFAMNVmIBXN2lBqqGvM3Xff3elQqt3Tq635DKXaYnMmBRRQYMQFGoVS6QKbL/B5Sz3tC6Vrcf47odIj9cEeac2EUimfkDq8uYDmrcO8ZZ+34FMKMDcBeZO+USiVB1EJQnIDkTcibMtHIOUs3zAvRQAAIABJREFUNijhZLYgXdfzxuDDMDCIZnpEJYBK+ZP6Zig1SsdsqAeGGVsqX9Tzpnla6rTnYeH06dOZP38+r3nNawb+/brX5fnuo1seRKUHVgKtN77xjbzoRS8iQUdtKJW58qZj3mBPCcGEXHkrPg8Kb7zxxoGbjKr5wLD1k6KZUCpLrQ+mmg2kMu+4uJn7FG+hf+D6VrUf0s9VTPjfN6AHfkWG6yFVzVwbSqWk5Xve8x7WWmutgXIw6a2YBx3rr/9IqXJDqQGG+lAqLzg0GlQ6DxXz3aAKpfLQMYlH1bWytrb/CuV7St6IzxuneWqReZtqhlJNMTHUNSYPm9JzNi8lpOXhXl5A2HPPPQf+nZ6z6T31ta+lU2P715iHHnqIP/zhDyRAue666/jOd74z8HcrD6sSAnuNae5YNpqqmVAq8zUKppoJpLzGtHeNiVsVSg13jRlHoVReiqu65A0WSoUu94/p8ZZ7zvRCSG/t+lAqJYRTBnioUKoqY54gKhUjMg5Zeuo21QylmmJ61DUmc1WhVF726cQ1pjaUyvq8xjR3rNqZqtlQKsuuD6aaCaTGzTUm1R7gCiB/l9L+Vl7Uyot2Vcm+pnpIVcexCqWGu8YYSlm+r53ffedRQAEFhhNoFEq9qXSDrQZ3z0OhhEYJq84uvaCq5TYTSqU2ewYizNto6XK7UynPlBuFaiySoUKpdJ1OyTjb8hHIDVtKJqU7e9Xy1npKJeWz1F3PG4i1ry/lGKdEl6HUKB2zoR4Y/uhHP2LOnDkDIVLVFi5cyEorrcQ999wz8LZ5wqSEV2ussUbe6uRNb8qfgUfaWWedNfCA/fTTTx/o8fSSl7yE97///f8VSuVB4YUXXsgHPvCBgQePq6yyiqHUCB77ZkOprLIKpq644oqmekhVmzkuQimYwKH8v4GyF41b04FUZq8NpfKwNr8XecswYeC73vUunvKUVK99pBlKDTDUh1LXl7CpflDp9HRqNpTKMqvxKn9aXoDJQNNNNUOpppiGDKUSaKRkXm3pneoak8HrUyY214/0zM3vRDvXmLzNnh5Xhx9+OJdddtnAugylmjt2zUzVbCiVZdUGU80GUpnPa8zAkWjpGpMZqlBquGvMOAql0kMgLyqkpfdTyi7mnqO2p1TuNzPYfe5PUgoqD3Lzv3ZCqawn48rsXx4Ap3Rf081QqjmqoXpK5QW6TlxjakMprzHNHad2p2ollMo6qmCq2UBqHF1jMlre65hAxlOqgqnaw9JSIJUZq1BquGuMoZShVLu//86ngAIKDCVQH0qlV0zetMjYDbUtoVDGekpLSYS8lZHWTCiV6TJGRHrSpN5r1pnyChmQsGqGUt17niZ4yhuBzwRSUintrUCKOs8AdimlHvMKdI5pfp5xo/IWT4LH1Ur95cyXsacyQPB6ze7uNddcM2+DDTZYZfXVk43aBhPIzdx+++03UCopLTdXGbfp7LPP5tprrx0ImTJ2VMabSgCVt9g322yzgZApvaC+/OUvM3fu3IExperb3XffzezZswfK9OXB1ec///mB8XLyAP75z3/+wLgeeRM+ZQEzZlRuJFJq44ADDhh4e/2GG24YWHfVMvZHArCUNEsIZhteoJVQKktLMJV5hivZV7vmcfLAMLs8WDDV8sPC+vJ9GdstZUfSmzA9EGvbOA2l8nZ6/uZXN855SSUPClMndN0yiHSjQaXzhyEPG/P/6U3VqKdUyv/mu0reXs+YY3eWh4apU5lrVFPNUKoppoFQarBrTAKoV77ylQMlYHPep1Rrpn/hC184UDo24wfm2pHrTXrP5oWI2tbMNeanP/0pKUWba1T1e5YXIP71r39xyCGHcNppGVbgkeY1prljWjtVK6FU5svDq1//+tfDluzzGvNfx6Lla0zmPuWUU/6y7bbb5jv4/577ja4xYzyUyv1FxvvKtSC9o/LSW1ruNVIuPg9oU6ovb1+lxF6uA7mnTWWHBFQZqzg9bdOd80Olp1V6R+W6kfJ9uTblZczMs7gEWBlrqmrpgZAxZnLfm5fxmm6GUs1R1V9jMlfVU+oxj3lMR64xuR4lLMk1JGXNb731Vq8xzR2ulqdqNZTKCvL9YbiSfeP0GjNYMNVyIBW/2vJ9Q93HjOdQ6oILLvj3hAkTnr3PPvvkJTibAgoooMAICtSHUhnMPl/mMw5UbUuZhLyFlpaBHXcv//3RMvh8Bi7ftPwsX/xT5i9BVno5rVVqfX8cOHGQbc/Tu5PKZ5NKab+UU0ggkm3KDYdt+QhUpS1S/iI3dzku6TWXASZzY5iWt9JzLuR8yk1hgs0EkRknLPNnXLD7gCPLwMNvKMvKQ8chm6HUcEKPlJtIb6hjjjlmoLzFM5/5zDzEGHgA+PWvf31gDI+f//znA58vWbKEt771rbzqVa/iyCOPJGFfxov64x//OBAyJaDKWFCTJuXX8JGWB4Z77bXXwJhVGTtk2223HRjMPF9cc0OXsUISgqTH1S677DIwVlSCr/SaOvbYY/nHP/7BEUccMTDWR1oCqjy0zNtvCcZswwu0GkoNv8RHTzGOQqnsfH0w1dbDwuOPP/55kydPPmH77bfPw62BlnB3tdWSxf93u/TSS29ZuHDhe/fdd9//qzPWzoHqnXmml5IiGYA4wVGu4/mbn5dSUtNwL+CWBoNKXwp8oKYkX3o/faaUX0qP3BtrBpzOMvKQMd9JUuY3DxZTcjjBV1PNUGp4pmauMX/7298G3mTPGIXpTfvhD3944KWIhEUZayq9cvfZZ5+Ba0f+9teOKdjMNSYPJd/97ncPlIZNyJXxClMeMz1C89/phZUXJLzGDH88G03RaijVzlq8xvByvkjGy22pnXzyyXOmT58+rfpeNtg15sorr7zlgQceOHq//fZ7ZHC3sdVSJnybcv1IWfiUEE/LS425tqQiR0KrDHCfF+LuKPeV6YWbEq8puZcy8rlGpMxrBt/MSxPpNZ2X6hI2/U+5n8k9cAxT6ve6GsasJ/c+uR9quhlKDU/V6BqT0t+5X3nb2942UBo2PWxH+hqTv3sZDzGlZvMSl9eY4Y9Vu1O0E0q1uq5xdo2pD6baCqRifMIJJ8zdYYcdVh3uGnPNNdf869577/3SWLnGzJo16xcbbbTRzhtssMGjB9SuOflSfvryyy9/cObMmb5J2+ovpdMroIACTQjUhlIpR5Av8vminjfQqp5MG5Yv7rUD9OaLf76s5wt63t7LzUEeFiV4yAOkDCJ/Q3nolPGIcjNQ23JTlt5WCSfS+yY3GxlINi0/y/ISbKTlAVYeOt3bxP44yRgTMJQaYwfU3WlLID3VttlmGyZPTsbbmTbubuYSTB02cK3bmLm8rp2HhTkSp5122gWLFy9+7KqrrvrPwY7MvHnzHrfiiive+YpXvGLHzhw9l9qugKFUu3LON5YEDKU6cjRH6hrzq0WLFj119dVXz31VwzZ//vx1+/r6Fr/yla/cuiN74kLz5Ssv1mXswpaaoVRLXE48RgUMpTp0YD/FTPp5O/0cxKdISeyW2xlnnHHM3Llz954yZcqVw11j7r777mccdNBBed7X8+3EE0/ceIUVVjh/1VVX/XdfX9/CwXbo3nvvfdLKK6/8vhkzZny/53faHVBAAQW6UKDRmFIjvZmp0/JL4EUNFvwX4NkjvUKXN3YEDKXGzrF0T9oXMJRq32405jzhhBN27+/vT2nbhm3ChAmXjaMeUqNBPmLrMJQaMUoX1MMChlLdffDSK7evr+95Q2zlzTNnznT83ZE/jNuWUoAp/ZfS5Be1ugpDqVbFnH4sChhKdfdRbeYas2jRol+MlUCqOhrHHnvslBVWWOHACRMmZPzBhq2vr+84y/Z19/nr1imgQG8LjEYotSeQ8gk7Aynzl3rdawPfBFLeZ6PeJnTrOylgKNVJXZfdKwKGUr1ypNzOXhMwlOq1I+b2dkLAUKoTqi5zDAi8Ezi8lCjPvWzLzVCqZTJnGIMChlJj8KC6SwoooIACCoyAwGiEUvkyn5J8GTymtpZ6usBmgNmMQWRToKGAoZQnhgJgKOVZoEBnBAylOuPqUntLINeYLbbYYmCcyU61cVgitlOULreHBAyleuhguakdEzCU6hitC1ZAAQUUUKCnBUYjlMqI7wmmNgduLuNF5Wepe5sxrJb0tKAb31EBQ6mO8rrwHhEwlOqRA+Vm9pyAoVTPHTI3uAMChlIdQHWRCgCGUp4GCoChlGeBAgoooIACCjQSGI1QSnkF2hYwlGqbzhnHkICh1Bg6mO5KVwkYSnXV4XBjlpOAodRygne1Y17AUGrMH2J3sAkBQ6kmkJxEAQUUUECBcShgKDUOD3ov7bKhVC8dLbe1UwKGUp2SdbnjXcBQaryfAe5/BAylPA8U6IyAoVRnXF1qbwlcd911rLPOOkydOrVjG26J2I7RumAFFFBAAQU6JmAo1TFaFzwSAoZSI6HoMnpdwFCq14+g29+tAoZS3Xpk3K7RFDCUGk1t1zWeBAylxtPRdl8HE8g1ZpNNNjGU8hRRQAEFFFBAgf8SGCqUehzwGeCAMscmZUyo5UG4I/B1YCfgFmDj5bERrnP0BQylRt/cNXafgKFU9x0Tt2hsCBhKjY3j6F4sm4Ch1LL5ObcCgwkYSnluKPBIb1xDKc8EBRRQQAEFFKgXGK6n1NOAC7sglMomfBA4wlBqfJ3EhlLj63i7t40FRiOUuvrqq5k3b970pz3taZd5HBQYLwKGUuPlSLufQwkYSnl+KNAZgWuvvfZf66233gZTpkzpzApcqgI9IGAo1QMHyU1UQAEFFFBgOQgMF0rtAFzcJaHUIcBRhlLL4SxZjqu8+OKLvzB16tQPrbzyystxK1y1AstX4LbbbmPddddl0qRJHdmQxYsXM3/+fLbccsvhrgkdWb8LVWB5CVx88cWHTZs27dDJkycvr01wvQosd4HRuMbMnTuXhQsXrjV9+vT7lvsOuwEKjJLA7NmzD1xrrbWO9RozSuCupisFco2ZNm0aK620Uke2L/cxixYt4sEHH9xk+vTpN3dkJS5UAQUUUEABBUZcoP4BZJ78fwXYG7gCOBf4RFlrVb7vI8Dnys92A7Yo03wfOBh4LPA1IK+ELQbuAhIo5f8z7YnAU4GrgMzzYWAp8HngqzV7mPV9G5gOXFDmf0NdKLVi2ZbnADcC65YeVbPLun4NZDlzgecCWwLHAxOB3wGvAVIacBbwWuBW4JfA5sCfgd8CbwXyJPg9wAkjfgRc4LACs2fPfu+UKVP2GnZCJ1BgjAr09/c/ua+v74b+/v75ndjFe+655zeTJk062oeFndB1md0ukIeGU6ZMeVO3b6fbp0CnBPr6+rZZsmTJvyZMmHB/J9ZRrjHH+bCwE7ous9sFLrnkkt3XWmutD3T7drp9CnRKYOnSpU8B7uzr67uzE+vINaa/v/8XVnvohK7LVEABBRRQoHMC9aHUj4CZJdhJr6QvlqApW1CFUgmCFpZNSkiTwObVwOnAHkACoW2AqSWU+k8JexJELQAOBz5WlvG6Mv35wDpAgoefAnll+UrgCUBKCOa/fwM8qy6U+gbwDuClQAKo3wNPL6HXtcArSsjUDzwe+GcJo54P/AlImLUW8KESjmW3EoS9BXigrC/7clL5d/ZpSecOh0tWQAEFFFBAAQUUUEABBRRQQAEFFFBAAQUUUEABBcamQG0otT5wG5CfPbkEQY3K9yWEerhwfBfI28XpgZTwadfSE+ofJVDKZAmUEuwcAPwQOAw4FLgGeGLNctIL6hwggVF6MCUIuhtYu0xTX75vQ+CmEoptVAKnKqQ6Fng90AekC/fjgI8DXy69n54JJKjaGHhJ6Yl1eVlPtYz0Ente6Ul1UfnsMcAdY/NUcK8UUEABBRRQQAEFFFBAAQUUUEABBRRQQAEFFFBAgc4J1IZSLwPOKKtK4PNvYLhQqgqaqi1M6PM+4G/AduWH6TmVXlL/A7y9JpRK+b4nlWk+CXyqJoQ6EkiZgxtKKb1MVh9KvRI4tcyf3k6pUf8l4P11gVfKAqZE4N9LGJYg6xQgIVxKESawSm+rqtWHUrUGCbFu6dzhcMkKKKCAAgoooIACCiiggAIKKKCAAgoooIACCiigwNgUqA2lqlJ32dMqfBkulEowlDGYqpYxod4N/BXYvvzwMmBb4Ovls6qnVG0olXJ+Kes3p5Txq8oGppdTygam1YdSrwJ+Xj5bA3gQOLqM/ZTxsFK7OG1r4Ory3ynxl1J/KU2Y5aWc3zeBI2r2YahQqiphODbPBvdKAQUUUEABBRRQQAEFFFBAAQUUUEABBRRQQAEFFOiQQG0olfGb0jMp7dnAX+pK11WBTG35vt3KWFLV5u1fSvSlV9IW5Yf5782Ag4DjBukpVfWwyphQLwBSyi+lATMG1WplHKf0nEoPqvRUSmiWMaJSJjAl+jYopQePAd4I/AA4sMbs4tLr66NAek6lnGDKCqaEX/artveToVSHTjYXq4ACCiiggAIKKKCAAgoooIACCiiggAIKKKCAAuNXoDaUisKvyhhLs4B3AQlo9i08VVC1MvBQ+Vl9KJXAKmFPSuJlLKjJwO3Av8r4UYtqQql5wIuAS4BLS1C0N/CTEkSlzF6WkZJ/KSt4ehnr6v4SQmX+75Wxo54L/BG4sPTKSrnAqndUNjX7kl5cCbNuLdue9c4Hdq47/Ckz+Fbgz+WzncqYU5ks4dqN4/d0cc8VUEABBRRQQAEFFFBAAQUUUEABBRRQQAEFFFBAgfYE6kOpdUvQ80LgeiA9mDLeU8rxJfBJsPPO8vOsMeFVejAleKpaejBluoRXKwAJkd5TEwZV5fuuBc4EUoYv4VVK6n2lZjlPA74DbAWcXcKrPcu2nAWcVOZL6b0ERwmbNgI+WAKqWpGEW9nWF9f8MPuxpIx1Vf14S+C00ssrY1Sl11bGm3p9mSDryvhUNgUUUEABBRRQQAEFFFBAAQUUUEABBRRQQAEFFFBAgRYE6kOpFmZte9JGY0q1vTBnVEABBRRQQAEFFFBAAQUUUEABBRRQQAEFFFBAAQUU6H4BQ6nuP0ZuoQIKKKCAAgoooIACCiiggAIKKKCAAgoooIACCijQ8wLLI5T6DPBxIOX7tu55QXdAAQUUUEABBRRQQAEFFFBAAQUUUEABBRRQQAEFFFBgWIHRDqU2B04EtgcWlfGavjvsVjqBAgoooIACCiiggAIKKKCAAgoooIACCiiggAIKKKBATwuMdijV01huvAIKKKCAAgoooIACCiiggAIKKKCAAgoooIACCiigQHsChlLtuTmXAgoooIACCiiggAIKKKCAAgoooIACCiiggAIKKKBACwKGUi1gOakCCiiggAIKKKCAAgoooIACCiiggAIKKKCAAgoooEB7AoZS7bk5lwIKKKCAAgoooIACCiiggAIKKKCAAgoooIACCiigQAsChlItYDmpAgoooIACCiiggAIKKKCAAgoooIACCiiggAIKKKBAewKGUu25OZcCCiiggAIKKKCAAgoooIACCiiggAIKKKCAAgoooEALAoZSLWA5qQIKKKCAAgoooIACCiiggAIKKKCAAgoooIACCiigQHsChlLtuTmXAgoooIACCiiggAIKKKCAAgoooIACCiiggAIKKKBACwKGUi1gOakCCiiggAIKKKCAAgoooIACCiiggAIKKKCAAgoooEB7AoZS7bk5lwIKKKCAAgoooIACCiiggAIKKKCAAgoooIACCiigQAsChlItYDmpAgoo0KsCP//5z2f09/dv1w3bv9pqq+2xdOnS26dMmXL+xIkT53XDNtVsw7uBr3XZNjXcnAkTJuza19e3GnBWN29vf3//fRMnTjx1+vTpN3fzdrptCiyrwEUXXbTdxIkTZyzrcnpp/gULFkydO3fu1osXL563YMGCy3pp21vZ1gkTJly2xx57nNrKPE6rgAIKKKCAAgoooIACCijQWMBQyjNDAQUUGOMC55133uL58+dPXH311btmT+fMmcM666zDYx7zmK7YpjvuuIPVVluNuXPnEqcHH3yQ9ddfvyu2rX4jsq1VW2uttZg8eXJXbme1UUuWLGHBggXMmzdvE4Oprj5UbtwyCFxyySW7r7nmmqesssoqy7CU3pt10aJFXHfddUydOrX3Nr6FLZ4/fz5z5sw5Ys899/xwC7M5qQIKKKCAAgoooIACCiigQAMBQylPCwUUUGCMC/zsZz/rf8YzntFVe3n++eczY8YMJk6c2DXb9Z///Idbb72VTTfdlIQ93d5mz57N4x//eNZee+1u31Ruvvlm7rnnnoO2337747p+Y91ABdoQuPbaa/+93nrrPXbKlCltzN27syRwPvPMM+m2a8xIiy5cuJArr7xyyW677TZppJft8hRQQAEFFFBAAQUUUECB8SZgKDXejrj7q4AC407AUKq5Q24o1ZxTO1Pddttt3HbbbZ/acccdD2tnfudRoNsFrr766rs23HDDdbqpR+pomI2XUCqWeZlizz339N5pNE4s16GAAgoooIACCiiggAJjWsAbqzF9eHt75y699NKNV1hhhZv6+/uH3ZH0tnjiE5/o+TyslBOMRwFDqeaOeq+FUimZNW3atJ7oKWUo1dw56FS9K2Ao1V29cTtxJhlKdULVZSqggAIKKKCAAgoooMB4FPAh/ng86j2yz9dee+0/ly5duuFw5b0SWj388MP09fVN32abbcbsINs9ctjczC4UMJRq7qAYSjXn1M5UhlLtqDlPmwLPBz4BfBs4uc1ltDyboZShVMsnjTMooIACCiiggAIKKKCAAuNUwFBqnB74Xtjta665Zs6ECROmTZgw/Gm6ePFili5dusuTn/zkP/TCvrmNCoymgKFUc9oJpe69996H11lnnRV6YUwpe0o1d1ydqusFvgh8GbhthLZ0DeBK4IPASSO0zGEXYyhlKDXsSeIECiiggAIKKKCAAgoooIACAwLDP+0XSoHlJGAotZzgXe2YEzCUau6Q9loodcMNNzBlyhTL9zV3eJ2qOwVWBv4NfAn47Ahu4mzgqDZDqXcBX291WwylDKVaPWecXgEFFFBAAQUUUEABBRQYrwKGUuP1yPfAfhtK9cBBchN7QsBQqrnDZCjVnFM7U1m+rx21cTHPAcBbgPWBJwDDDyLZHMslQHpgtdpT6inAn4A1m1vN/01lKGUo1eo54/QKKKCAAgoooIACCiigwHgVMJQar0e+B/bbUKoHDpKb2BMChlLNHSZDqeac2pnKUKodtXExzwnAx4AbgJcAvyl7nRJ87wNeDRwMHAvMA/YHrhniswvL/FUodQbwI+CVwCuA/PtxwFnAIcCZNcorAZ8vyz4C+BXwR+BDQHp0PQm4qZQFXFp/dAylDKXGxW+sO6mAAgoooIACCiiggAIKjICAodQIILqIzggYSnXG1aWOPwFDqeaOuaFUc07tTGUo1Y7amJ8nvZJeXoKgBEBzgb3KXk8EdgV+AryxhEfHlWAo4dALBvlsa2AJUNtTagpwS1leQquETynP9+YGwhuX4Kn6fvweYCpwKNAHXArMAo40lHpEYMGCBZx55pk84xmGUmP+N9Yd7GqBH//4xxP33nvv/P2zKaCAAgoooIACCijQ9QK1oVRu8HOT/dSy1XmzNG+kVm034BPAusBHgBO7fO+yrRnk+r3A97p8W928BgKGUp4WyyiwGnArsFZZTspE/bD890uBGeW/fwv8dJB15e34jHVyf3kw+QHggTLtUJ8t46aP7OyGUs15Gko159TOVMsplNoKeE3pIZOSbO9vcds3Bz5efuczzlBXt7POOuvwu+++++A11ljj4r6+vgWNNnbevHnbTJw48b7777//WQcddNB9y3mHji6B1J3AHqXU3obAXWW7dgB+Daxd/p3jmV5SCZ7y932wz66tC6Uy+5eBdcr32gRfCcAShNW3+lDq70COfdaVlu+U7wY2rZ/RnlKGUsv592nI1Z9++umHzJ0792Mrr7zyDSussMK9jSZesGDBY/v7+yc/8MADO3TB34du5uyKbTvppJNe2tfX95mHH354uzJO9ISJEydeu3Tp0r323Xffq0ZpI1cA3gDk+3FKsNa2Rp99Cli9jevxKO2Oq1FAAQUUUEABBRQYLYH6nlL5MpkSKlXLF8zU5K9aSqs8sdzcj9Y2true84DcIf+4PJRqdznOt5wEDKWWE/zYWW0eHN4OVA9fUoZpUblpPh14cnmjfjbwOuDKBrv+XeD8EmynjNSewD5luqE+6yrFdkKphQsXcswxx7DuuusyZcoUdt01nRYeaXfccQcXXnghM2ZUuV7ru3v++ecPzD9xYjpEdEczlOrccWghlMr3kvyefatszTlAQot89/hHCTFSQq2ZdhHwbCBBRwKI9LB5uJkZyzSrlN/9hNJvbWG+kZv0sIH9hsO4eriFzpo1a+5Tn/rUVVdaKR2BBm/XXnvt7ffcc8+R++23X0Kh5dUSKp1bxm/KNkwCDgTywPKoslH1oVR6KiVsew6wuC6Uqv3sggahVMKmBFqbAZ8E3l7+/tfvf20olWVmPflD98syYV7Q+hmwYv2MnQ6l9tprL4488kg22WST/111ein94Af/n70zAZOjqv72yUICsiUsgiyiICAgSyABFHHFvwoKKDshCOKOCKLiLiC4r6AouAAqCSQsIQgq4PYpLkBiBGRThAQIOyRASAhJZr7nrVSZnqZnprpmuqe6+z3PwxOSruXe996quvf87jn3ZzFr1qz40Y9+NCRtaaRUr9jpp+xpxtiDh3L/NOJvUfpeYuHcL5rVaJMnT35qhx12WHP11Vfv85Zz5859bN68eVcdccQRPI9aSQnMmDHjmsWLF+81ZsyYYVtssUV0d3fHc889F3fffXc8/fTTMXr06CkHHnjgxCYUn779jjRNKu/xSqv1G4tfeX/yntYkIAEJSEACEpCABDqYQLUoxUbT56RpUZi1kAKA1Crk3sd2jwi0E+47AAAgAElEQVRWY53dAsxwPrFCmln6fS1QXotYRUBRyi4xAAJMjNkrBGGKVfOVdlb6l2PTP4mEIj3T0VXH8T6cFxH8+WhEsMcJAhfiPY7R3n6bM4ByN+TUIqLUr3/963j44YfjyCOPjHe9612J43P48OHR1dUV559/fhx11FHJ34uaolRRcivPu+uuuxLBcL31skCSgV+zUVeoQ5TKijAjIp6OiCPSf2DFNdEuRDyy4KS/VeBEOSF6bDTAOvF+YDyUiVJEzZD6rfH2xXhtdCV7IGF7xymJc7tXmzZt2k3jx48nJV6f9sQTT8y68847F06cOPF1/R3bwN/fm4qMv6u4B6zZ92nr9N+qRSne67x7eScjHlVGSlX+9lgNUYpLEhHLvlRE0BJNX8uqI6U4lvbOhDL2pvpyKnD2OL/RohTO5pe85CXPe++yQOCMM86IKVPYnqt++/3vfx877rhjrLvuuvWfPMD0fX/9619jm222ibFjs4DmQkXo96Srrroq9tmH6czAjO/WAQcckDf1ORHZjAcQQ7N+NS4i/hkRG0fEXhHxswIl4hkHGO+33DZlypR5u+++e7/vw/nz5997xx133DPE74fc9erEA6dNmzZr+PDhO48bNy6GDXt+d2TsNmfOnK7u7u5zDz/8cN61jbatIpKFE9WiFPft67dGl8vrS0ACEpCABCQgAQmUmEAtUQrHCznzL0vz55PeZdeIIIVJpSiFF4wUfkyqWEVMzn6cNWem9WXV1OUR8fp0hSlOnR9HRHe64TT3/lSau/+U1MlEdBMrpLPIBjyerGjFMcHqZiZ3bDhNtAMpBHEMYKxcZdCLk+Hc9H6sZMXRTOo+9iPA+DtOLcrCNVml9f6KdFwlbqrOK5qiVOe1+SDWGGcQK5QRknB6koqUqCnszvQ9wUb2GO8A3kUrl5+v+HcionifkKYvM67BsbyDevutiJNpEKv+/EsVEaV+8YtfsNI2Dj744Jg0aVL88Ic/jDXWWCN++ctfxvjx4+NFL3rRgMqsKDUgfMnJbS5KISAgQGSiFFVmTHBj+u979ENwz3SMQpTUQIxocaJ6GBvhDCYN4NoDuWCuc1cKUllYw1VxSiLY9Gp9iVK33357/OEPf4idd945ttpqq6EWpRj/McZknFhp26URq2+OiGvScdpf0rEbYhLjTfaBOrif37gmEbC0XWWq6VdFBNcjDSDfgVqG054FB4wXSVedRcciJhA19aX09yyS73/XaLQo1VvD//Of/0wiqIqIUo888kiywID3/UBEqd/+9rexyy675Ora2UGPP/54fOxjH4vvfOc7DRWlbrrppiTq9/vf/35d5at1cJ2iFB/JbNxRLUpxecTVh+osFO8exCjSSP6xnnMvuuiiG3bdddcJ/Z2jKNUfoaH9fcqUKUT//nHChAkjKiPNly9f3iPyfN68eUS1P3jQQQf1K0QOQo2IQGUBWC1Rqq/fBuHWXkICEpCABCQgAQlIoFUJ9CZKIRJ9tCJNH6v8EKRII1MZKYUzl6ipTJRiMJqlxslEKdiw4TSzVYSt16bRVwhUOHYRnViBenNE4JBAbPpqCvSMiPhw6ixmxfTjqUMA8YnQ/yXpcSwP5d6k1yItF6lW2CeGfbIqRSmcSaxOJNIBcYpJHffgz37txhtv3G/48OHUX2sCgdVWW+2Tw4cPX63WKsDq2y9btoy0Fed3dXWVLkqlCaiG5Bbd3d1zxo8fXzoBpgoGERU/TP8NIRqnIs5NnnneQRjpTRCYqnNekb6U43hnZMY7jGO5Tm+/fWVIGqSPmxYRpUgH9fe//z3e/e53x8c//vE466yzkrQw/LfXXviGB2b1ilJE2lAG0gnOnz8/WGFPSkHK9qc//SlOOeWUeM1rXpM4Od/3vvclfyKe1WMDSd/373//O6gTqQ2feeaZ+PznPx/XXXdd4gg99thjg2gEmJ5++ulx4403xl/+8pck6uG0006rp4g9ji0qSj311FNxySWXBGmcfve738UJJ5wQI0eOjO9+97ux++67JxFyCBhHHHFEEon1q1/9KhYsWJDwX3vtYnpMgUipWqIU9c8Wv7CnD2n8ECiIinpTutAE0RhB6oNp1A3iAeMBUvnxvWc8g+hBVDjpfd8dEaTizBbfkD4OISwLP8tEqePT1IGMjRC0SQdYV6TC8xr6lBgTw+K9sUqcG59Jxjcr7PmC1APRHa+PU+PffXWW3kQpnpXzzjsv1lxzzfjMZz5DpM1QilKkRGSMRyoz2NM2mWVjSgQjRED2fcLx/p10/Ec7nxwRRELxcPf2G4IlUVREmdFemTDAfViwhNDUmzEu5lwEA/ae+m86XmTcyIItUq9RfhZY9bAiotQNN9wQJ554Yhx//PHx6le/Ok4+mepFfPWrK4bBJ510UvIfzw/vkm9+85vJe+P+++9PRKhNN900SaWKuJSJUhdddFHy3CLG8F7afvvtk2e81juK55x7HnPMMcn9X/5y9Lr6jPR9RUSpP//5z/Htb387DjnkkJgwYULyXucdSdTUv/71r/jc5z4Xc+fOjXPPPTeJ5OL417/+9bH//vvH5MmTY+utt45rr702KSzv+re+9a3JdwGxC6GOehMddcEFFyTv3wMPPDBe+9rXJmyKWp2iVOVtaolS/F7r/cW/keWBdOq8y9gLkzkQ76BDU7GVvk3lz8tbF0WpvKTKfdxFF1105tprr30c/R/7xz/+ERdffHEwfll//fWDNJ8sPsBmzZq16Nlnnz140qRJWcRtdeVYuMU7kvnzx9L+xBiZhVzXpwu7an03uQ7vYxaKzo0IRHuiSDNRqrff8CN8JiKeSDMZMF//bLqn9eHpwgPKk+0FzZybMTrvYVKu8u4ne0u2qKzcjWXpJCABCUhAAhKQgAT6JNCXKMWJOHNw7GCIPThbWSmcpe8jAgnHbiZKcVw2Ua8UpYhI2i0iSM3y8XQ/gMyZw8bTDDKvSCOeMhFpg3Q1KqsIs5XObH7NBiTkGKkUwHAokZ6AETppthjs4lTA8ZRdj8gJ0nmxOheHBOUhlzvOjsxp3Sus++67b9mzzz474gUvwJ+iNYMAOdGxvKIUURw4VrXmEGDPIVZpbrbZZnlT2TSnYM+/C+8LHNFMbHHi4OjkvZbt5UDaPtIzEQ1RabyrOK5y42Ym31nqrt5+q9yHb6jq3OO+RUQpLoDDkj0Ktttuu9hggw0SRyCr6m+77bbEScrKetLHFDEcqW9/+9vr2lPqW9/6VrD692tf+1rihMX5gpP2Va96VeJ05P8//OEPJ8JVvYIUdSgqSiGKI4Ih6mATJ06Md77znaR5SoQyHMx77LFHnH322TFz5sw488wzY5VVVok3vvGNMXXq1MJRZ0VFqU9/+tPxnve8J9iHYtq0aYkz+P3vf3/iGOffPvKRjyTC2ac+9an4+c9/HhtvvHHC9S1veUu87W19Buv02hUGUZRCfCKKhu87kdwsPmFsQjqr+1OnLfv/kJrugorxAyIyDi72SSEKkv1css6LIMT1WEBDJAGCU7UohUhSndqtSNdfcc4pwWCCcRDiyk0xKt6YCFMFBSkuWSlK8dw+9thjgQCJ459vI+IGgkZJ0vflYVedvq/ynL5+6+3anEObZwsS8pQh9zFFRCku/qUvfSk22mijOProoxOxmvcD7wW+sZdeemkcfji+2og3vOENiUCz2WabJYsFeK/wXv7Nb36TPKeIUv/5z3+S65Fi9Yknnog3v/nNQSpWhJha7yiEmj333DMuv/zypkdKUSfe4eyFhRDFwgKE8Je97GXxoQ99KHkPIZIh8LOPFlG7MEEY4l0NL4Qq6k0kL0Idafp4l9HvST0LS87h28H7d6A2yKIUQnhv7y+EcUK7SEX+udQh35WWn8VXvMeMlBpog7bg+VOnTr1y44033od3Bsb3nOchM4Spr3xlxdqoW265ZdHChQuPmThxIpkDahlzajYMvTjNKsI8+fy0322TLgKp9d0kapnv5TvTLCZ8UxlTMwnr6zcWfyG4Lk4XHrDAlEUDLBBhQQmZT4hG3SwtLAsUEGJZEMC/88wwBtAkIAEJSEACEpCABNqAQH+iFINVnDsIOhgOXUSdgYpSpB4gagnLRClS/bFiCicSK7RI/o4QhjJBZAKWbY6K84iVXFlUFntMsJKw0qpFKQazrM5C/OI+ddnMmTO7601NUtcNPPh5BHCusH9NXlEKR01/GziLeXAJsKp5/PjxZRelqDTi879SkZpJLsJSlsuHfaeIyCQFaKUxyea4yg17ELw5FvG9t9+KbewxuE3T42pFRanKiyBeEJk0atSo+OQnPxnf+9734rOf/WwiZCAC1WtFRCnuiRCKwxLDybrlllvGBz6wYrsfnDNEKeGILGJFRanMEZw5j2+++ebEiYoohfCEg5iIBhy/REZ8+csrMs8iyrEXzOabE/RTvxURpXinIpQRXVa9JxiiBQIfkQj33XdfEj1xzTXoP5E4jLfddtvEMVzEBlGUIkyPscjeaSQUxSGCEXtNRExPnWPVohQRj2tGxMNpRDYLZ1jNjbEw5i2pk61a7KhM3zeYohQrxm9JHXiU4aYkRmrFWCZL2ZcrQiprj0pRinRu9957b6y66qpJlBvRg7vuij8vWkmUQiBkLFdrs6O+fqvuokRlwZSxH4sQGD8OuhUVpW655Zbk+UKAQmAh0glhCZFlp512+p9ovffee8cPfvCDZKHARz/60USAwSrT9yFAcZ2f/IS1WpE860QKIcxwzVrvqLKIUpSXaC6ioxDl+LYQ7UR0KaI+UVIY3wFELAQs3oFEm7LnIallieTNokSI9IUZ36ySilLZ/pa13l9UldTDLMpDNGBBTGaKUoP+9LbOBadOnXrthhtuuBdjClL2IcJW2znnnJOMlW699daFTz755CeOOOKIvhTZ6m8e4ZIs5EKUYg5e67uJeERU8YqQrIjKFH19/caxRDkRcp3t00gUFJUgapZ78y1EvGLhBu9qykFqQIRaoqjqyxPaOk1rSSUgAQlIQAISkEDHEehPlAIIg1Fy8G+f0iE6IBvcHpOmvak3UqovUWpyOvDMRKnlaQQDe0tUWmWkFCkDEM8qrVqUwrFEagImdjiW6jJFqbpwDcrBilKDgrGhF2khUYooTd4t/0jFKN4rpMLBUDCYAFfP7EnfxCb37AtBJAV7jOC83jQiOL+339iPpFQ2UFGKNFA4NXFq33rrrYmTk5W4RCbttttuyUr7eq3e9H1cv1qU+uIXv5hE9hCZhNhCerkrr7wyvvGNb8QOOxDUW58VFaXYrwehiX1ZMoMXe3L1J0oRXUUdilhRUQrh6cILL0yEM4yImvXWWy+JpGkBUQpFEmcuK6n5E+issq62alGKMQPRj4xXWJnNmABHWoKg6aIUdz05joxhSfotVpZXW12CFCdXilJEjvB+xoiWISIlsxaJlGLBEk5P3ssISZULj/r6rdajRP9AkcOpeV2RZy3POUVFKa6N2Esq0nvuuScR1okI3WSTTZJooMwyUYooUZ7VP/5xRaBMpSjFee9617viiiuuSN7ZH/zgBxOh68477+z1HVUWUQrxnjqTHhbRjWiwWqIU9UYs551Luj7qz0KF6dOnJ1GfnJcZAh4iV0lFKeYtvb2/qAJRKFPTzA6MXTJTlMrzQLbpMVOmTJmxzjrr7LvVVivWUfUVKTVz5szFS5YsOXXSpEl9pburFqX4HjHnZpEH0VC1vpuk3EMsJSU/VilK9fUbx5KblByamShFmkr+H1Gqev8p9ppmX0AWgZHbNNvXr01b12pJQAISkIAEJCCBziKQR5SCCE5YckvjnK0UpZjgM6FqhCjF0nFWT2GVkVAMWBGWiFTIIqVYlUVUVaVVi1JEX2VODfIPZfm1SdlFOq8+be7cucu6u7tHsOJSaw4B0q8sXLgwcTb3Zzh/SU9DSiytOQRweJG2bMsttyxjpBQr4lnpyR4sePyZ8LJHFEY6HCa5CO1MvvHc8i67Nd3XjnNXhLKsOG5GRJD6hBARVtyvyKXU92/NaYScdxmIKMUziIMzW2HPnkmkjUJMQRQiGoj0fvVaUVGKfofzFsP5SITBi1/84iQNHXuiIBARTYAjlvdCPVZUlKJM++67bxJhxP4oMCIyCOdq2UQpeBx33HHJe5XIiSeffDJx6u63336tIErxrvlbunqatFekAcK5VRm+RWpexivVohRRSER/4zAj2orFNZkoRWpgxhGc15xIqaxj1ham6hakuFylKMWePDyjCI+kYWTVfGYtIkrV8+iW4tiBiFII2rzD+HPp0qXJe5W0dW9608pMVZkotc466yRpNNkfjJSaRAQRGXfZZZclzzXvP44hpTERRqRZ7esdxT5LRGcRab7WWmwxU5+xpxT7zr3ylWzhWJ/xvmSxwWqrrZak20NMZd86oqTYiw/HO4ISYjnpCzFEOyLBsu/O6173uiQ95X//+9+kr5P2j7Sys2fPTiJUYYKAxTl8z+BS1AY5fV9f7y8+XuRgI1KEKE7eawNK33fhhRfevttuu/W7adj8+fPvveOOO+6ZOHEi71CtZASmTZu2T3d39+UTJkxI8pWzpxR7RCJWE7VOSk6iBfn73LlzFxxyyCGktu3Lqr95XBdRioVZZBKo9d1kb0eyjxDJxyKtSjGpr98oRz2iFGWjDOwjRbmYxz9vP7+SNZHFkYAEJCABCUhAAhLISaDamcyyK0QnwuOrjYEh+x8QbZRFSr0qjaJiQMrKVRxD2W8sy2WjcuzG1NHDhhtcm9VX2Z5SDHpJp4OoRHQUzl/SZmGsIkRAQvT6fLqamTD+L0TEaumG0xxXS5QivQ+OJ3Jjs9QUNQmnMwNnoh7YXZ6BNoPcr/fHa/bs2WO6urqOGjNmzMrlxv2d5O8DIvDcc8/tumjRopF5RCnEwtVWW+3WESNG0Fe0JhBYsGDBxcOHDz9/3Lhx7OtSNmNVKELUH9KV8aTv4z2VGftL4eRhcvv7VHjiN3LXs3FzttcMk3mirO6OCBL4sw9NJmL39VupeAxElCIqCgcpTsPM2FSbv5NeKkudV2+Fi4pSOGAQgFgRj8MRpy17qiCc4YRnH5XDDjssieoimgCHbF4rKkpxfaLJcHw++OCDiaMY5yhO0WxvFKJVSNVHeir2xCI66YQTTkj26EJcq06ll6fMRSKluC6iGWIee4Mh5J188smJA4vy4OjFqUsaMBzEMGXfGlZjE8WAI5wFAPVagfR9pPTlWUMwxhivIBazlwpjCFJekc+L55doR9L2kWqYFMCkxUO0IpUm+1NijCceSNNvMp4g0nuPdD8Mjmf/SaKWPh0R7D/FmIbURTz/eLGJ2OEdQCQkUZPkrCQV6MCtpzBVSJCiEJMnT144YcKE1bO9FXHe85xW96077rjjwfnz5/9o4sSJpwy88F4hIzAQUYr31nnnnZekJMV4PnnWsoVQ2buEyCfS1rH3FHuFbbPNNkmUI3vVIdbzrL73ve9NxBeihNgHlTScRJPWekfRN77whS8k7wTel+znVK8NRJSiDrx3SUE2Y8YM9sBJxKc5c+YkqScR3xClWHhA3RHbiI5CyKJ+pC/j33h3ER3Lt4AoUMaN1Jl38eLFixM2RKRyn4GkeR6AKMXiGCJCSDtJ9AnW1/uLeQ7zFwTz2yKC+VOWl5bFNoxT+Pfc76DJkyc/tfPOO6/Z32KN+++//5F7773310cccQTvWq2EBKZOnTp39OjRL66MCOdZyBYfMD665557li9duvSKww47jIi7voz5PRlR+K4hgjJ3fl86p+/tu8n1SKnHfmdEHWd7PfK9Je1eb7/RnxmfM4jIshMwvub/mbfzAqJPZ6sobkgjtZi3P5d+fxeVsEkskgQkIAEJSEACEpBAAQKVohQDSmbDpDhhJTEpI9g/pdKIEsBRU7lJNM5eBq9EL+Hg4DwMh9KRqXMXwYk0gOzpwuCYyVbmaGL1MoPebN8A0lIgTjHZYoDMvi+ITgxGuTai1pL0z2+n9yItF1EQpOTBWN2HIIY3kkkgQtI/04iJH6QOLQa4P0xXIvYfilMArqcMjMDtt9/+2OLFi9fNI0oRITV8+PDXb7/99nVt/DywEnq2BFqDwEBEqUbVsKgoVbmn1GCXbSCi1GCXJc/1iopSea492MfUIUoxLjkwTc3Ham3GEjjKWOF/X7rKGnEpM9L5sWKb8xCUWElNdDeLTQ5JxScio3EGE9l9c3oNoiAZN7D5DvdDlPp7RJyROs0Qo1g8wwbwq6aLZRjDMFZhMQ3jCpzDg2OnxsTojg9Fdxwdpxa77vTp03+6dOnSfddee+1ey7V06dK1li1btur8+fMnHH300WVcUDA4PIfgKgMRpQaruOzVxzty/Hj8zBGLFi2Ks88+O0488cTBusXzrjMQUapIodgzC5GfiKfu7u4k2pP9pCZNIiFCY62gKEWqUdIFM385J3XiMzfBar2/yD9IgyGsP5Uu2ts9It6TRmgzh2LedWzFgpp+K37llVd+/JlnnvnCmDFjEOFrWldX1+iFCxdusmzZst0PO+ww5mNaSQlMnz795mXLlm2PKM2euhjCFOOCBQsWdI8cOfL3Bx10EAJTf8bLgrkT83nmxuy1SKo80toyH+/tu4lPALGU7/Gv03k983L6eG+/sU8ac3ZWObGQlYLjA+D7S2Qgi0Xo31mGFL6/LB5hPs/iUsYEfNfZH1qTgAQkIAEJSEACEmhxAmVMu9XiSC3+YBFAlHr22Wdzi1LDhg1TlBos+F6nrQi0iyh15plnJmmaiD5qhClKNYLqimvWIUo1rhAdcOXJkyfvlDoEe6vtnOeee+5yBanB7wxlEKXYg4qIIiJFMSImrr766jj0UIKAG2PNFKWIeqJ+RFgRIYWx/yj1zOrcmFquuGpBUaqRRarr2hdeeOFLyPrQ20nd3d0Lli5der7vh7qwDtnBl1xyybHLly8/admyZaTRw4aPGDHioeXLlx8+ceJEMgXkser0fXnOacYxRCOT8YDFq0ndKlIKfqoZBfAeEpCABCQgAQlIQAKNJaAo1Vi+Xn0ABBCllixZsi4rYfszVgYrSvVHyd87lUA7iFL33ntvnH766UkTktpqo43IpDa4pig1uDwrr6Yo1Ti2XrkcBMogSt1www1x1llnJftSsb/MtttuGwhVjdxvs5miFC191VVXJXtYkYZu/fXXj9122+1/+001uie0uijVaD5ef2gITJs2bY3Ro0evvnjx4jUOPfTQbD/mvIUhijjLVpL3nGYcR7QWe8AiTBHBhc+C9P5EZpkVoxkt4D0kIAEJSEACEpBAgwkoSjUYsJcvTgBRaunSpblEqXTPDCOliuP2zDYm0A6iVDOaR1GqcZQVpRrH1iuXg0AZRKmhINFsUWoo6pjdU1FqKOl77wYQICX/qemeTuy/TPrbstiL0jS8bC+wNE3H/9WIuLosBbQcEpCABCQgAQlIQAIDI6AoNTB+nt1AAohSy5YtI494XlOUykvK4zqKgKJUvuZWlMrHqchRilJFqHlOKxFQlHplKzVXobIqShXC5kkSkIAEJCABCUhAAhKQgASeR0BRyk5RWgKIUl1dXblEKVL8dXd3K0qVtjUt2FASUJTKR7/VRKk777wz1l133WCj87KbolTZW8jyDZSAopSi1ED7kOdLQAISkIAEJCABCUhAAhLoFAKKUp3S0i1YT0Sp7u7udYcN67+bLl++XFGqBdvYIjeHgKJUPs6IUuxdtfnmm8fYsWPznTSERylKDSF8by2BKgKKUopSPhQSGEoC06ZNG3HwwQcvH8oyeG8JSEACEpCABCQgAQnkJdC/tz/vlTxOAoNMAFFq2LBhuUSpZcuWRVdXl5FSg9wGXq49CChK5WtHRal8nIocZaRUEWqe00oEFKUUpVqpv1rW1idwwQUXvHXUqFGnLV26dKeIYE4/bMSIEXd0dXUddPjhh99a4hr+X0ScFhG7lbiMFk0CEpCABCQgAQlIoMEEFKUaDNjLFyeAKDV8+PB1hw8f3u9FnnvuOUWpfil5QKcSUJTK1/KtJkrNmjUrNttsM9P35Wtej5JAQwkoSilKNbSDeXEJVBCYMWPGNYsXL95rzJgxw7bYYguyRQRzobvvvjuefvrpGD169JQDDzxwYkmhvTAi9oyIS0taPoslAQlIQAISkIAEJNAEAopSTYDsLYoRuOWWW767yiqrHL/KKqv0eYGurq5kIhYR47bbbrt/FrubZ0mgfQkoSuVrW0WpfJyKHDVnzpx44oknjt5ll13OL3K+50ig7ATuuOOOeRtssMFGY8aMKXtRB7V8zz77bPzqV7+KV76yvUUp0kTPmjWre//99+9/pdSgEvZiEuhJYNq0abOGDx++87hx46JWivOHH3445syZ09Xd3X3u4Ycf/l75SUACEpCABCQgAQlIoIwEFKXK2CqWKSEwe/bsMauuuup8UvP1ZUzIli9ffuyOO+74A9FJQALPJ3Ddddct6+7uHjFq1KjS4Hn88cdjxx13jDyRkM0q9DPPPBMLFiyIddZZJ1ZbbbVm3bbwfebNm5eUddVVVy18jWaduGjRIlZvv3TcuHFzmnVP7yOBZhKYNWvWUWPHjj2vFZ7HweTCoqDbbrst1l133cG8bOmulS5+Wrznnnu+oHSFs0AdQ2DKlCmvjog/TpgwYcSIESN6rTfjg4ceeujBgw46aKOOgWNFJSABCUhAAhKQgARaioCiVEs1l4WVgAQkUD+B6dOnj+nq6jpq/fXXP6j+swf/jGHDhm01cuTI9dZbbz1W+3YN/h2KXXH+/PkTRo8evXzJkiUjxo4de2OxqzTnLMq6xhprIOo9MGLEiNILPY8//vixu+66q5Gszeke3mWICMycOXP/sWPHfmKIbj8kt126dOkqTzzxxMuXLVv2cEQ8MiSFaMJNH3300YsPOOCA7zbhVt5CAr0SuOiii85ce+21j9t66637pTRr1qxFzz777B01coEAACAASURBVMGTJk26qpeDSUXxkYg4LiL2j4hvknUiIo6OCBSvr6V/viki7o6ItSLijIi4PSLeHBHnRMS0iHhnRJwUET+KiE9GxDURcXL63z8i4siIWDM978SI4B35moh4VUTsGBGfj4jbIoLyvD8ipkfEMf1W0AMkIAEJSEACEpCABFqagKJUSzefhZeABCQgAQlIQAISkIAEJCCBdicwderUKzfeeON9Ntqo/wCoW265ZdHChQuPmThx4kW9cMEPsHNEzIyIQ9I9nhCI2IvqgxHx24i4IiLuSEWnEyJip4g4KiIOS/8NEWtsRNwVEVMi4oJUgGIRFOd9JyIQtS5Pj+tORSqEqZdHxMiIuDgi1omI90QE+dgRwF4WEfe0e3taPwlIQAISkIAEJNDJBBSlOrn1rbsEJCABCUhAAhKQgAQkIAEJlJ7A1KlTr91www332nTTTfst66233rrwySef/MQRRxxxdh8Hr59GOBLJtDAi9kkjprZJz/liRLwkFZI2TgUnoiI/HRHviIgt0+P+GxEfiIhr07/fEBHnRgT33iQi7ouItSPiqYh4aypWIUphP42IByPic+nfH0qv/bd+K+kBEpCABCQgAQlIQAItS0BRqmWbzoJLQAISkIAEJCABCUhAAhKQQCcQmDJlyox11lln36222qrf6s6cOXPxkiVLTp00aRJp+Hqz9SLi0VRsQpR6S0SQpjITjE5Jo5aOSKOaPh4RT6YiEun+iGjCiJRClCK6CvtyRJBj8ICIeG0qOBExhVXf4ycRgRCViVL3R8ShEXFdv5X0AAlIQAISkIAEJCCBliWgKNWyTWfBJSABCUhAAhKQgAQkIAEJSKATCEybNm2f7u7uyydMmEDau17tkUceiblz5y445JBDSK3Xl9UjShE1xV5Tn42IvdIoqN5EKSKviJS6Ot0rirR+T6cFUZTqhM5qHSUgAQlIQAISkEA/BBSl7CISkIAEJCABCUhAAhKQgAQkIIGSE5g6derc0aNHv3iHHXaoWdL58+fHPffcs3zp0qVXHHbYYe/spzpZ+r61UtGoVqQUKfrYZ+qXEfFARHw4Ith76piI2CMi5qSRUsemIhS3/Faaso/IqWVpisAn0rKQvo9oLCKpMMQr0vchdmFESrFn1Z9L3hQWTwISkIAEJCABCUhgAAQUpQYAz1MlIAEJSEACEpCABCQgAQlIQALNIjB9+vSbly1btv16660Xm222WXLb5cuXx1133RULFizoHjly5O8POuggopn6suER8YmI+GpEfCQiLomI09LUeQdHBPtEsd8TwtVBEcFGVr+IiJvTcy5Mzyf13sURcWVEnBAR8yqEKyKmVk0LQRrBr6f/IXLtm4pcl0bE4xHx7ojYLiKmRcQPUpGKlIKaBCQgAQlIQAISkEAbElCUasNGtUoSkIAEJCABCUhAAhKQgAQk0J4ELrvssmOXLl160rJlyzZJazh8xIgRDy1fvvzwiRMn/mEIa41/gf2mPhURS9NyEIn1lYggmkqTgAQkIAEJSEACEpBAKErZCSQgAQlIQAISkIAEJCABCUhAAi1GYNq0aWuMHj169aeeemrNSZMm3VWC4r82Is5JI6H+nZZnfETw39klKJ9FkIAEJCABCUhAAhIoAQFFqRI0gkWQgAQkIAEJSEACEpCABCQgAQm0OIFVIuILETEpIlaLiHsjYnJEnBER3S1eN4svAQlIQAISkIAEJDBIBBSlBgmkl5GABCQgAQlIQAISkIAEJCABCUhAAhKQgAQkIAEJSEACEuidgKKUvUMCEpCABCQgAQlIQAISkIAEJCABCUhAAhKQgAQkIAEJSKDhBBSlGo7YG0hAAhKQgAQkIAEJSEACEpCABCQgAQlIQAISkIAEJCABCShK2QckIAEJSEACEpCABCQgAQlIQAISkIAEJCABCUhAAhKQgAQaTkBRquGIvYEEJCABCUhAAhKQgAQkIAEJSEACEpCABCQgAQlIQAISkICilH1AAhKQgAQkIAEJSEACEpCABCQgAQlIQAISkIAEJCABCUig4QQUpRqO2BtIQAISkIAEJCABCUhAAhKQgAQkIAEJSEACEpCABCQgAQkoStkHJCABCUhAAhKQgAQkIAEJSEACEpCABCQgAQlIQAISkIAEGk5AUarhiL2BBCQgAQlIQAISkIAEJCABCUhAAhKQgAQkIAEJSEACEpCAopR9QAISkIAEJCABCUhAAhKQgAQkIAEJSEACEpCABCQgAQlIoOEEFKUajtgbSEACEpCABCQgAQlIQAISkIAEJCABCUhAAhKQgAQkIAEJKErZByQgAQlIQAISkIAEJCABCUhAAhKQgAQkIAEJSEACEpCABBpOQFGq4Yi9gQQkIAEJSEACEpCABCQgAQlIQAISkIAEJCABCUhAAhKQgKKUfUACEpCABCQgAQlIQAISkIAEJCABCUhAAhKQgAQkIAEJSKDhBBSlGo7YG0hAAhKQgAQkIAEJSEACEpCABCQgAQlIQAISkIAEJCABCShK2QckIAEJSEACEpCABCQgAQlIQAISkIAEJCABCUhAAhKQgAQaTkBRquGIvYEEJCABCUhAAhKQgAQkIAEJSEACEpCABCQgAQlIQAISkICilH1AAhKQgAQkIAEJSEACEpCABCQgAQlIQAISkIAEJCABCUig4QQUpRqO2BtIQAISkIAEJCABCUhAAhKQgAQkIAEJSEACEpCABCQgAQkoStkHJCABCUhAAhKQgAQkIAEJSEACEpCABCQgAQlIQAISkIAEGk5AUarhiL2BBCQgAQlIQAISkIAEJCABCUhAAhKQgAQkIAEJSEACEpCAopR9QAISkIAEJCABCUhAAhKQgAQkIAEJSEACEpCABCQgAQlIoOEEFKUajtgbSEACEpCABCQgAQlIQAISkIAEJCABCUhAAhKQgAQkIAEJKErZByQgAQlIQAISkIAEJCABCUhAAhKQgAQkIAEJSEACEpCABBpOQFGq4Yi9gQQkIAEJSEACEpCABCQgAQlIQAISkIAEJCABCUhAAhKQgKKUfUACEpCABCQgAQlIQAISkIAEJCABCUhAAhKQgAQkIAEJSKDhBBSlGo7YG0hAAhKQgAQkIAEJSEACEpCABCQgAQlIQAISkIAEJCABCShK2QckIAEJSEACEpCABCQgAQlIQAISkIAEJCABCUhAAhKQgAQaTkBRquGIvYEEJCABCUhAAhKQgAQkIAEJSEACEpCABCQgAQlIQAISkICilH1AAhKQgAQkIAEJSEACEpCABCQgAQlIQAISkIAEJCABCUig4QQUpRqOuPgNbrzxxv2GDx++U/EreKYEJCCBxhHo7u6eM378+J8Nxh0uu+yy/bq7u1v2fbf66qu/IyIeXGONNW4cNWrUU4PBpCzX6O7ufuHw4cP3HjZs2HllKVODynFwRFw9bNiw5Q26fukv293dvWDEiBEzxo0bN6f0hbWAEpCABNqcwOzZs8csX758v2HDhr2kzatq9VICXV1d/2/ChAl/bDcg9uV2a9GhqU+7Ph9DQ9O7SkACEhh6AopSQ98GNUswb968JYsWLRr1ghe8oKQltFgSkECnE1iyZEmMGDEiNttsswF9S66//volCxcuHLXmmmu2NNLHH3881l133Rg+fHhsuOGGLV0XCv/QQw8ldVhjjTVi+fLlsXTp0li2bFnyb+1Qv8o6jho1Kp577rkYO3ZsrLrqqi3fdkUrQDvD4emnn36pwlRRip4nAQlIYHAI/Oc//+keOXJk8I3SOoPAokWL4sknn/zM+PHjv9JONbYvt1NrDl1d2vX5GDqi3lkCEpDA0BIYkCNxaIve3nefPXt21/bbbz8Mh68mAQlIoKwEZs2aFePHjx/Qt2TGjBldO++8c8u/7/72t7/FvvvuGziQ2skeffTRuPfee2OXXXZpp2r1qEtXV1fcddddsdZaa7WN4Fa0se677754+OGHT50wYcIpRa/heRKQgAQkMDACN9xww06rr7767G233XZgF/LsliLw9NNPx7x5857ZZptt1mipgvdRWPtyu7Tk0NejHZ+PoadqCSQgAQkMHYEBORKHrtjtf+eZM2d2t7MDsP1b0BpKoDMIDIYodemll3a/8pWvbHlgilKt24SKUivb7oEHHogHHnhAUap1u7Mll4AE2oDAjTfe+Lq11lrrD1tttVUb1MYq5CXQjk53+3Le1ve4/gi04/PRX539XQISkEA7E1CUKmnrKkqVtGEslgQk0IOAotRKHIpSrftwKEopSrVu77XkEpBAOxLQkd+Ordp/ndrR6W5f7r/dPSIfgXZ8PvLV3KMkIAEJtCcBRamStquiVEkbxmJJQAKKUr30AUWp1n04FKUUpVq391pyCUigHQnoyG/HVu2/Tu3odLcv99/uHpGPQDs+H/lq7lESkIAE2pOAolRJ21VRqqQNY7EkIAFFKUWptnsKFKUUpdquU1shCUigpQnoyG/p5itc+HZ0utuXC3cHT6wi0I7Ph40sAQlIoJMJKEqVtPUVpUraMBZLAhJQlFKUarunQFFKUartOrUVkoAEWpqAjvyWbr7ChW9Hp7t9uXB38ERFKfuABCQggbYmoChV0uZVlCppw1gsCUhAUUpRqu2eAkUpRam269RWSAISaGkCOvJbuvkKF15RqjA6T+wAAu34fHRAs1lFCUhAAr0SUJQqaedQlCppw1gsCUhAUUpRqu2eAkUpRam269RWSAISaGkCilIt3XyFC9+OTnf7cuHu4IlVBNrx+bCRJSABCXQyAUWpkra+olRJG8ZiSUACilKKUm33FChKKUq1Xae2QhJoDwJjI+LmiNgtIh6KiGMi4hMR8Zr07+1Ryxq10JHftk3bZ8Xa0eluX+7MvtyIWrfj89EITl5TAhKQQKsQUJQqaUspSpW0YSyWBCSgKKUo1XZPgaKUotQAO/X7IuKc9BqTIuKCAV6vWaf/X0RMjYjpEfHuGjfdNCJOi4h3pb+9NCLmDGLhtomIRyPisUG8ZqteKg/rURHx0Yj4alrJoyPi/IhgPvfriBgXEW+JiNktAmF4RBwSEWdGxMMR8du03JtExO4RwZ8cQz1/FhHLImKntH4vqlOU2jwVtD4VEZ+MiG9WMKIffi4iEMA+WxZ+OvJbpBcPcjHb0eluXx7kTtLBl2vH56ODm9OqS0ACEkgmMVoJCXSyKDVr1qz4xS9+EZ/4xCdi4403LmHrWCQJSCAjwPM6fvz4AX1LLr300u5XvvKVhaDedttt8dvf/jY23HDDGDZsWDz11FPx+OOPx4knnhgjR46sec0PfehD8elPfzo23RQf4Er7wx/+EBdccEGceeaZsfrqq9ddnr/97W+x77779nrf6gs+8cQT8a1vfSuuvvrq+MY3vhG77rpr/OAHP4ipU6fGBz7wgXjXu94Vq6yySvzlL3+JL3/5y/H1r389tttuu+Qy3d3d8b3vfS/5/bHHHotjjjkmNtpoo//d4tZbb42vfvWrwT1OOeWUmDBhQtx3333J9annF7/4xXjd614Xo0bh4+zbHn300bj33ntjl1126e/Qmr9fc801MXPmzFhvvfWCySTtRP1e8IIXPO942pJ6/fjHP44XvvCFhe5X5KSiolSRNpwzZ07ccMMNceqpp/YoKm32zW9+M4466qh47WtfW6Qag3LOAw88EA888MCpEyZMOGVQLtg5F3kuIlaJiFYSpb4cEZ+OiEciYoNemmrXiLg+/W0wRam1IuLGiNgvIu5ocjdBCLk9jcBp8q37vF1e1osiYrVUrEGU4mX6ZETw0ftQRPywTJXKUZZfRcQDEfGeimMRjzLxrfISa0bEUxFRryiVXWNKRBwUEbxk/1px4b3SZ2ByjvI25ZBOd+Q3aj7IWOinP/1pvP71r3/et7ZR96ynw7Sj070T+/L111+fjO/XXnvt+NOf/hSPPPJI/PnPf66nK3hsDQLt+HzY0BKQgAQ6mcCAHImdDK7Rde9kUQq27373u+O0005TlGp0R/P6EhgggaEUpZjwXXTRRYlgs9pq+Ocili1bFl/60pfiIx/5SIwdy6Ln5xsCyyabbBLDh7MAe6Vx7jve8Y7kms0Qpbgzk9S3ve1t8bOf/Sy22WabWLp0abz5zW+OT37yk8mf2MMPP5xMbI888sj/Ffbvf/97It6fddZZicBx++23JyJWpX3nO9+JBx98MBGzMkP0QQj79a9ZVJ/PBiJKUS8EqTPOOON/vK+66qpEeEN4Gj16dCIi3nzzzYmDCHHo1a9+dVx++eUtIUoVacNFixbFk08+GS96ET7Vnsa3j3ZGMKzXECovvfTSOPDAA+s9tcfxilKF8T0bEaNbTJTiJfmRiPhdRFzXS83Hp+IRPw+WKMV9ic5CGCBKpdmi1HERcXpE/Csizo6IiyOC9htqy8t6YUSwciKLlKLcb4uIV0TEd0tSl3pYXplGPVWKUnzUF9e4yBoR8fQARKmfRMT6EbFzGnX1eHoPXrobRsRF9RS8kcd2oiO/1jexEfNBFu3svvvuNb+1Qz0HbUene6f15cWLF8fhhx8e06ZNSxaPPffcc8m85Oyz+dxoAyHQjs/HQHh4rgQkIIFWJ6AoVdIW7HRRilX0n//85xWlSto/LZYEMgJDJUo988wz8Z73vCc++tGPJhFGlTZ37txkElgZOZS3xfbbb7+YMmVK00QpyvX+978/tt9++/jwhz+cFBNBimginCbYhRdemDhOKkUMRComt5dddlkSZUWE1stf/vIe1fzud79LxEsPUep3v/tdIkr96lcsTM9nRUWpefPmxTvf+c5kRfIrXoGvdKXtv//+wX9M2j/+8Y8nwtz//R+ZxCKpKxP5VoiUympUpA1r0SeK7+CDDy4kSiHy0Vaf+cxn8jVsL0f1IUoRSUOKK5zhe6aOb/Z2+U16KSJuiLzB3h4RW0XE5yPi3DS13aWp03xWRLwzdf5uGRE44udGxMERsW96fRzEl0UE4gFRIVlED9f+S0QcEBHL04iQrdNom3tyVPzY1JFPZBCqL8LEyel560TEt9P7U6a/83imURlEQJ0UEdxri4jYLHX+V6YAqyVK7ZimCbsrIghz5BpcFzb98chRnR6HUBdSj2GkOqMjEBWShd3tHxF/SlML4uwnEu6nEcEL9L8R8bL0XMSA76TtcUtE/L+0Hfm5UpSCDTxZ+o0SSmgj0Tq0G6kAUf2/kLbv0jTtH2nT6D/U/fXp/f4TEUSZ9XxJ1Fv7+o+nHBMj4oMRQdgsEUekYKQ8fdkb0/KvnfIbkUbe0Ifpr7+vOLmvPs1heVkfHxEfT9McwjfjmIlSCItnpPfNIvUIxYQ/dmL6TL4qbS+eH6KNsJekfZTINZ41ItdoL35/dSoYnpc+s4hGCHiDbdWiFPdBPILtByLihPSdw55S1aIU0WHwoT3eGhHfiIhpfRSQ68JyZtrWexN8zKenSpT6UkQsiYjtI+LulDnpEXmueF7mp4IuwubhEfH9iOBa/Jk9hwhfvAt59nmH0F4L8sLrNEd+LS6Nmg8yDiL6u9YCkEbdM2+7t6PTvdP6MovJGP+SfeGlL+WzGUlWh732IiBTGwiBdnw+BsLDcyUgAQm0OgFFqZK2YBFRihX2P/nJT5LBz0033RSvec1rkgH3L3/5y8BxTPqm3/zmN3H88ccnDj+coH/9619jzz33jM022yz+8Y9/xDrrrBOkwyJ13p133hlf+9rX4o1vfGOSTujZZ59N/n7AAQck5/Zm3I+UUFxv3Lhx8Za3vCVJG8VqeVbBc/0TTjghVl111eeVN0vhVTkhYPBx7bXXJk5aVtMfe+yxySpzogQq64CDU5OABJpLYKhEKSZ3pNkjMgQBqpYRgcOEEOM9QiQU7yOidz772c8m0VKsXvz5z38e66+/fjz00ENBFA8iUJFIKSKW9tlnn9zp+7IyIyydf/75ccUVVyTvSAQO3pO890hx9+1vfztJR1hppI1761vfGnvvvXcccsghMWbMmDj99NOTaKsjjjgiSRcymKLU/fffn7zP6zHEPaK1+M5Ut9HnPve54JqIikS2UW6+NXy3cBJ94QtfSL5Xd9xxR5JykLbivU97Y0TJkf4ODtQTYZI0gfDge1WvFU3fV28b0id/9KMfxZIlS5K0ihjfsuXLlyepJ6nzSSedlDCgP9I3Xvayl8XkyZOTdJOIj+PHj0+i+UaMGJE4Od73vvclfBAnFyxYkPSLgw4iO1Ux60OUwvlKmjDUT8SWG1InNiFfOLDJBYkTF0MMwVmMWIHDGUd3JizdGhE3pSLEDmnEAkIPzm72ZvpxRFyVOnhxDCOEJc2eCigoqvuk/0aqMhzEV+eoLUIQKdsAzz5JhB5Sj4+l5yKukDOYsiBO4QjH0c+fOJoRYBClcFATXYET/00V++BUi1I4+/+Z1uu9qdBD50T84fy+eBTdEwhHO3k2EZtw7CMeIkRhiCkIJl9JHfdPpGxhUSlK8dJErEFAw8GP8JYxykQpBCmWfCN+USd+5zhEHUQEDHYo7ZxDZAt1pj0RKhGgELywoYiUqu4u7F+EOMWDQ8QYdbsi3cOoVtfimD0iYl66hxMiJf0csY8+cl/a9/vr03lY0448E1m/R7idkRaqMlIKIYlnLhOliPp5MD0OIYb++49UIEFMpr0Q5ngW6fO0E/Vhb6dV0+MQepkr0rd5vqkPQttgG+woAwIo4vd6ad/lPrxveG6zdH3VohR1QagmFR8rGy5PhTaE51oGC5iyNxXn0Cf5r1KU4rfsOtyX1IJjUg682ygDzwAiLO8DngMEQJ5t3otEAiJ0kUaR9sAoI4J09iz1y7CoIx+H+CWXXBJbbLFFEFX93ve+N5lzMffDFi5cmERlkyaWf2MxDuMevsfM/fgekhaYcRDjienTpye/Mw4huojFD0Rg861i7FTL+Mbx/WJeSWT2xz72seQbduONNybXZvEQc8Wjjz46iRivLm+Wvr1yPsg5//znP5PziTj+4Ac/mIwFquuw7bbbBpEqjKnuvvvu2HrrrYMFOSzsoY7Uq1KUYgzCoh6itDfYYIMkvfBQLoxsR6d70b7c70NS4gOIjKK/MkZjnF45Dj733HOT54xndc0110yiqPCfkFqb+Qk+DcZijBMZ25NVoHr8S9ryTrR2fD46sR2tswQkIIGMgKJUSftCEVHq3//+d8yYMSMRlNjb5Pe//30ysGGCwYp7HFZEFyBAMcDhT1JVMXHAScaAafPNN08G7Az0t9pqq8QRxsCfCQ2pgXDwTpqUza+eD4/rk2aBdFo4gJksMIHBecjAij1e2C+EgT+Tglrl5aqVE4Lvf//7MXHixCQV13nnnZc43ShjdR3WXXfdkramxZJA+xIYKlGKdxEOh8zJAmGcLOy/hHjNu4wViRyDE4T3Eo4UnCKHHXZY8j7Ekc/EEMcNzhkEAwSNoun7iopSiBFECRFRxPuYdxzlO+6445KFBThTiCjKjOMR1m655ZbEuQQLUhESZYOjJUtliFjDtwCRIrP//ve/ySKFeiOliohSvLuZRLOHVbXh0LruuuuS9mGRAmJSZaTUV77ylWCRAt+NF7/4xUlKV4QqmOAEY+8l2ovjWKiw5ZZbJseweKJIhNVARal62hDnHm3Hd5L9BdhrgG81xspanBOIUjj8cEy86lWvSuqJsRcaqQ1pY9I7wpbFIrQn32sWgDQoUgqH9GMRwX4urPonsiWLKMFpfGfqEMcxjuH4RYjBQf9oRCCAZJE8OGtfnIoU/I5wk0VZ4TVlv5/MWU8qrcPSax5K4GAqFCAC4Cj+QSp8dOV4y+KwRryijAguiCZENiCA8ZDg9CcKhSiS3dALUyEJxzLncX62X8/9qYCFAIMQg1WLUt9LywYHeHDuWWl0Bb/1xSNHdWoewr1+lIqEeKyIICGvJ22EUIXoR3o3Imsw9u2hc2WiFOfAlfkBq48QImullPtbRCDkIDBRD6JBEHEQNTZJhQX+n8gW/o4hEhD5wmCtbKJUBpMIvmyPJsQX+kMt+2MagUbfoF0xouEQVoi8+2KOPp2XNYIM7UcUFuIoVit9X3X/Q9jh2cOISqPMmdibiYdECxLpSNRhtgkjkYxE+GT9lvP5f9IDUjee18G26kgp+ueZ6U2IJiOCqzdRCpGb54v3CmIa4hKRZIhttSwTpfgNQZW/I9jS57P0fVyHfo8Q/o6ImJr2Y/o0zzDiI9FWGPuiIfBxDNGBsKQfIA4jfmW5cunzRFchouWyoo58vhE4wFkkw2JF5kfM9xCXWCDItxRhB5GGOR1iE+OhtdZaK/keE4XNN425IItLML5RfKf32GOPxJGOsz1LMVyrMoy72CeRMRXzU75ZzCMRqrgHohEO+E996lPJd6xWebluNh/EAc+4geMxvo9vetObknFeZR1YoIMDP2mYG29MFh0xB8Xxz7dxp512SuaUmSjFgsc11lijx56ZilK5umddBxXty3XdpGQHM57/4Q9/mAi6PGssxmJREeNNnk3GbfPnz0/+n7E6xrPBmI+IeQRVxt4s1upt/FuyKjelOIpSTcHsTSQgAQk0jYCiVNNQ13ejIqIUd8AhxyAcxyObqePQ408G34hBmeHwRCwiSiqzu+66K9nMHicizs3tttsuGSwxWSEi4Z577kkGUgzoezMmHAz+mcwQUcXAiskIA7JsVXjlubXKWzkJYaUcDsfMIcvKcVbL43ysVYf6KHu0BCQwUAJDJUqx8pYImmoBKdsXCtF6xx13TIRvVtfi6M8MJwm/44Q59NBDk0ibbMXhQNL3FRWlKFfmFGLlMKsqEXR4H++2225JBFEmtPDOZJEAIhvHEhGDA4W6MlHDYZRZGSKliPJCKMycRFnZ+E5QP4S4WqJUlr7vnHPOSYQ62u/tb397IkphiC+IUjimWIENIxxmRW2golQ9bYjDkL6CKEXqQhwOREBhlen7cCIiQhEFhvDIvmGs6GbhyQ477JCs6EaUSelypAAAIABJREFUZCU8zg76egNFKYpHijMEBf48oiJiAmcrjmGc2pkohRDy86r2yEQYoi82r/oNsQKRA+GC1G+IA0Q2XZJGr3A4IZFEoBBJQWoyHPRE4qwIOevfiPIiOie7N854BC/SaREpQVouhBWiuqqNqCiiup5JHc1EWREtwf1xUmPVogDOahzb10bEbWl6O+5NtMm3KkSpWjz6r03tI0hhhhCEU502QlwgkgNWRHVQXzisCDl8viiViXT8hpiEE76WKIXSjPOfdoB/Fr0DXzgRyYbQQIQU6RsxyoK4iRBCHyoaKUVKuSx6LqOAiMm/E51WaQhL1ancbk5Fyew4hFbaE3GJCBdECkQb6t6bZaIUbb8i7+qKKDTEH9gSIdhfn87DmueBPofRnpPT/y8qStEmtA3CG1FWpHakLoi6PF/8STQVYbGIs72JckX7Z2/nVYtSRCxm/OnLiEC9iVL0MUSg3iKjqu9ZKUrxGyIugttHU2Eq21OKvoMYyHuMZ5Q+ixjNs8SznolSRD8h9GbnIY6RlpT3COXKRMu6mQ3Ekc/3kawZfB9YtMFYgUhwvhGMGTJjPMQcMVvYxzyOTBdEIZMSNlv4w3VYRMJ3i3kiUed9RZRzf0QgFkByb8qAKMYYrVYkb63yUsZMIOI8FlBm33nmlozhEKaq65DVDeGMsjJewqg/317GH9QZYQwRK0udnJ2nKFV3V+33hIH05X4vXvID8J8gqPI8IpIS/c6Yk4VZLJZj0RFiMUZmAcbuPHccS6Qii856G/+WvOoNKZ6iVEOwelEJSEACQ0ZAUWrI0Pd94yKiFIINkUQ470h5RBh4XlGKFdbsv8JG86xCY9UZohR21llnJc4vBu8MjlhV1psxmWGg9cc//jFxFhMRhUONARarhRhYYYhdOBprlbdyEoIoxWSDMmSTH9Jt4YxVlCpp57VYHUVgqEQpVvki3uDEr87RzuSN6BFSuPQlSiFEIZ6TYo7IKmwgohQrHREXiAit19gj6owzzkgcPbzDSd+H+M71KiNfWGWMyH/xxSu29WAVMwIWwn21Y2UwRSkEJKK26jHOOfDAA5NV1zvvjD96pSEGUjfK3ZcohROKaF2OIXqI7xornjG+IYhdZRGl8rZhpSjFvmhveMMb/rfwolKUQjhFjKSf49BgQQjRZEQKE1GVLSoh9V/WFxosSpHeC2c20RekqkKIwrKImkpRCpHil1X9JROlcHrX6kxE9RAxRQo1UmORQi5z8GeXyq5BNA+p5RCW7qijXyK0ENHA3joYUQyIA1mKOvYFqhY2OA4hB8czK3nekEZH4DivjF7pTZQiTV+2x0xlUfvjUUe1ehxK/XCoUxciRhDF4EX4AEIQe0hRVqw6UgrnfNZucOAatUQpNsZASODaREkRQUPUFEIGqeUyUYrOiXiX3S8r6EAipRB8qvc1Qhzj31cMXFcaucWyaKHsX0kRh6DGsQgGhP/TJ4m6m14hrPbFv5YoBQu4VAqpffXpPKyJTkR0wYjqIU0cNlBRKku7yID+mrTcE9Jnib7Cs/2anCyK9tPK86pFqcrf+hOl/p0+m7QfRpo9hGuiN2tZtSjFc0FqPZ5nhCnEJZ5xlAxWeWTvtXpFKZ4zNoZEoMrSmiK8I2LlsqKOfBYnEjFOajzmd6TuyyNKEW1OFDJzPSKSjzzyyP+JUszvGJuQXhjnOtFGfRnfJb7RfO8Qg/iGMybgP75hGNdkoeF//vOfmuXlmEwgyrJ6ZHtt8ls2H8wrShGVzDiNfTsRpRAHiFZhoQ8RLJkpSuXqnnUdVLQv13WTEh1MSkrS72ULeRFVeZ4Yw2V7qfJMMA9hYVImSvFMMC/hGXnwwQeTiCmst/FviarctKIoSjUNtTeSgAQk0BQCilJNwVz/TYqIUqxAY2N5HJPsRUJaIFZZk2aBSQaOy8wQdBCLSFnFAIjJBY5ZUjcwWGeAzqo2JjJMIFhVxkb0rNzuy0g7RboGVusTds4qO0LOKROOYxxpOFsRlVjlVqu8pHionBBQViY3TK7YQ4NVbqyUq6xD/YQ9QwISGAwCQyVKUXZW7bIKlndBZcq2alGKaFH20susMlKKqJOXvOQlSUQmDg4cN4jl7INQrw1ElCICihW/iGlEmGK8L0mryn+ZIUgRuUrkDGkHWYFJ2XlH4qzJ9pBg4kuUEosVEDQy49vAvxNpltdYyVlElOL6LCjAOUZUG+9vDPEGUY2FCqTsIUoMYYaJOd8gJt9ZpFSlKIX4RD1pM65Fyh9SMfLvnE8KlKI2GJFSeduwUpSCC6tl6XMIbAiRtDdpkVhcQv8mWo4FHdQRQ4hk/w2+y6Q25NuPExFmOPeIvuLbnfGul0kve0rhuCXaB/V2o3Qvmix9Xy1RCqECR3OlZSIM6cFWegBXHJHtm0PUAoJUlr6vWpTCMUzUAp2JyBTSbuU19i5CXCL9GCIGQhGRXUTvIExkkV2IBaQ5wxBUEACy8pBHkxSCWfq+vkQprsd1cZojwmRRZNumLPvikbdOtY7LBCEio0hHhiCEiINoc14aiZadVy1KEdlBGjqMyCOc9YgV7JODZXtK8f+IeaT+Q9SAE/seIe5g9BNSAmKVUXPsuYPQhaM+EzWHYk8pXor0M1I0ImbQt+uxWqJUFmGEYIug0V+fzsua6EDEVKLDiOjDBkuU4lqIPgiZ9E8EKSLrSEuYCSkcAyuEZp6ZRqTvQ1xm/yuit6otS9/He4djWJXAHnbZ33mWiVoi0pEoOJ5Rotcqy195TZ4B2maFmr/CEGB5L7HvFqIU+z7RbxGWiCajfLyzePfQtjxT2d5QtSKliPJkDzWeAUIgENBJObosfQZz9bWijnwWNDAP41vKeAHHN4tASOvOt5y0fJkxHmKOuN566yXp3jmezBo4xHGM823KFgWy5yHfG8SpbOFibxUhsoo08IylWEzC/JBv2cknn5xcF2c94xG++yzIqVXeyvkgIhlzSaKiWbzDwiQc/6T5rawDEVfci7EQkVKIcowRMfZv5JvJ3DdL38d1GRMRhZxFzCtK5eqedR1UtC/XdZMSHUzfpI8xLs8W8zJWZ6zG80R0O2PBbPEWzybjX4xxPvvM8mc2F+lt/FuiKjetKIpSTUPtjSQgAQk0hcBQiVKsHGN1IpOG6vQuvVUcBwQTaiYerHLM0iY0BVSzb1JElMI5SVoFVn6xKp2JAyusEX/4fxxVrHQnlRUDcNIesEqbvZpwDv7rX/9KJjD8jkMLYSpLucR1+XtvG9pmfLL9npj84Dxkc9ntt98+EaoQqEjrh8MYcatWeZkoIVjhbMMxhxDGOTjumCwhlDEp4d+q69DsNvJ+EpBAJPsTjR8/fkDfkksvvbQbx0IRQ6RmzyUcDewLQMoZJoBE6LDql3cHkz4EesQn3kVMBpkY8h5CtEGQ573D+xGhi5WJRVLBDUSUou5MYFk5mYkJvDMpI86izBA+cOrAnfcrZWbVJU4kHD9w4N2IYwbHFO9KFgZMmDAhyU3Pux5e7OXA+55692cDEaW4NhNvhCkiX5lMUr9s43V+R3hBaOHdzrcHATFLa8e3hzrjMMIoN6u0X/GKVyT/T9QtCymIdCPKt5JVf/Wq/H0wRKk8bUh7IBLyXaadSJlEaiEWceCUmz17duKsYxEGEWbXXHNNkqIP4/vHOaQbwomIuEd92ZCddH6k98NxwSrbY445pp7q9zi2F1FqxwpnNA5rnvksB9T+acQMaavY+wWrJUp9LU2bVkuUIkKF6+D0RSRg7yOEC6JP2M8GISOzy9PUWJWCUJ76In6wrxLRLJSTvXrY4wUVmAcBkQTRBGcyjmfGnURJIGBwHBEYCGEIEuwLg3Oc1HWIMTjz2WeLFGiZCINDm40iCBEn+og0dkReEG3Gvfrikac+vR1DmRHNEAVxvmNZVA51/13FiYgMiGNzUsGJn1Cs35KmissYZ5vaZUIVL2zEKNKb9ZbmjjpzX8QxoqiI+qENEG2IZEFgoB9RJl5yCCPNMiJW2C9rxcNVv2WiFH2IlH2Itoh5CB3sk3ZvGnXVX5/Ow5poN+ZNRAQSvURbfDvtV5VCFaISbZ9FVMGYVI5Y1u7Z/RBZsw1iSdH3cDov4xmuNvovAg/XRtxcsXR/cIxrM7fjmeeZJIQmSy2Z3YE+yP5SCKhENCIcsR8cfZc0mNh3IoI95+j3CFu8Y2oZgi0pF1mlx/yzMuUf+8rxTJPuEQGJ54R0hqxo4X5/Su/P76QT5DknpSD82I+OdwIr97g27w/+o59xP8R0otNOTK+Zi15RRz7feL6pLD7ke8H3F+GGbzHjABaCkFaPcQSCDd8M9i8kmoMMG4yhGANNnTo12ZOSuRhGtBK/813uK2sGx5K2l8huFsjgoOc6fK9YEMO/M7/kOzVu3LhkTFJdXoQv5pSV80HSzLNQBUGK7yVzWL6ZlXXAuc/iR4QvRCnGPNSNCHaux8Ij5rmM+xDNyAzC95TfmDNzXOU9iy7uyNXAvRzUjk73on15IByH8lz6PM8QGRt4DhnHMT5nvJ7t1c1iIxZW0UfJHpBFH7I/N2M9xnaZMQ6vHv8WHe8OJZfBuHc7Ph+DwcVrSEACEmhVApWORPLMIxQx4cwMJwArQkmnwoQRrxCTGFatZcYEHQfByg2LVqy6YwLFqjpWVTLJYSLDBIJJG04HVqUxYcZx0Z+Rl5vJOxM9jEmIolR/1Abxd1brMHDSJCABCVQSGGpRqkytMVBRqkx1qSzLQEWpstarslyDJUoNVl0pD6IU6fww/k7kFJFQpJhspPUiSiG2ED2EqIID9qRUjEHQQZQ5If0PZznG3jc4aREeMMZ8jBURt4hyIPdTZSQVlSKCAfGH6Buc5ESx4DQmVHB2RZ3/Lz2XSAmEjrz24lTcQjAgogKRCQd2FhlE5ArOcRz/CFOIb5QFxzTjXxzmnEe9KAPjUCKJSDdIGTkeY18qBDvqjgMf5zRObqJxiK5gP6b+eOStU2/H4aRH6MORjiEoEO1EtAf1wajvlDQahAgOyso5L6wQ74jyok0RkogEuj510JOSsHIczjiftvttGonFPkiEm+KgZ5yPYIfoBMMsgoU+xLyANkY8Y8FZq1gmSiFQwJa5E32R5wAhFcvTp/Owpr0I9WCvNcQQNkhkjkWkIuIL/Q4xBOEG47lC1CW6ibSKGM8ScyfmbLQL8zCUBp6FLD1gxp724Xcij+gPGAIO9eG6zRQPW6U/NKScZXPk4wwmBd5AopIbAqqXi1bvKdXMew/kXu3odC9bXx5I+3ju0BJox+djaIl6dwlIQAJDS6B6dTt/Z2UYq/4wVkpeXVVE8sdkqyxZYcimwExmaxkpXZjAZ6kssmNY5ccElH+/LgcC0q0woSUXPqsyFaVyQBvoIaSyIu0VkQekWKp3P5GB3t/zJSCB8hNQlFrZRopS5e+vvZWwbKIUfYm0Q0TPZRHLRPGx7wX7PzbSehGlGnnLeq9NdAVRB1mkR73ne/zACbDgDGEGoa/aEPCI4Glnq5W+r1Xr+8U0kq26/My7ELAQGLUhIFAWRz4RyUT58l0i4mnttdceAhr135IoKqKyiEZuJWtHp3tZ+nIr9QPLWptAOz4ftrUEJCCBTiZQK+USqSaylXEIR6Q6qTZya785FaNIgMvKvVrGClpELXLaD8akJsuJP5SiFKtjmaSRc7xhViR932AXhhXZpGggfzeprjJDqCItQy0jnQIpsjQJSKAzCChKrWxnRanW7fNlE6VIk8Q+G+zLQYpdUh+SkpI0fY22kopSRJQQ+UHkDXsyMQ4jPZw2NASIxNoljdAh8o1IOlIfknqNlIVHDk2xmnbXdhGliJZjTyRSZJLaj4g3UtiRIo+9mvidPaa0ISBQFkf+VVddlaSBJ91eZarl66+/PkipV8vYE5M9oYbKSJdG+kHGZaT2JbV9q1g7Ot3L0pdbpQ9Yzt4JtOPzYXtLQAIS6GQCtUQp8qKTNoVlUKRaISVEtZHHjZQfGDm4EalqGRMaNnsdrLxvpJ9AHRlKUYq0HAh1bS9KdfKDYd0lIIF8BBSlVnJSlMrXZ8p4VNlEqaFkVFJRKtv7iHyGROmwv0yWhg5cjFn784A+mu75M5R42+XeZDl4Ik3TndWJ1N0z07R+vc0L2qX+f05T9p0dER9s4Uqx1xTzGgRG0jNmhqhIvYpt9tjCQMpUdB35ZWqN5pWlHZ3u9uXm9Z92v1M7Ph/t3mbWTwISkEBfBHrbnJ68/myU+2yaW7463zir6MgBzwQUgSbbSLn6XmwiTD7z6k1ri7YKm0OzsexQiVIwgQ0im6JU0Vb0PAlIoG0IKEqtbEpFqdbt1opSK9uupKIUe1ERGUXaaMacf63qbYzJ2NepL9smIu5o3V5aqpJvGRGnp5E17L9FGm+EwRkV2RZKVeBBLAxpzJnXsCcZYSLss8Q+Ya1q7FHFHsDsH0Y7EvXG/I/2pW21ISKgI3+IwA/xbdvR6W5fHuJO1Ua3b8fno42ax6pIQAISqJtAb6IUqfmyVY5EJrFhdbWxom5culKS9HxLqw5g7ydWTK7fR3q/egs8lKIUG/yyofEoRal6m83jJSCBdiWgKLWyZRWlWreXK0qtbLuSilKt27ksuQQkIIECBHTkF4DWBqe0o9PdvtwGHbMkVWjH56MkaC2GBCQggSEh0JsoNTIiHkgFJVamsoKu0hCh5kUEm01j+0TEr6qO+XxEvKLGylXSqxweEcdFxJW9bIbMKr2Ppqn6XpBGZLGfFLt7H9xHpNTbI+L4iFgSEex1Rf2+HRFXpGUjV/ryGnUhLczb0us/lpaLCK+H0mP5nf+IDOOaCHBZ2pidI+K2wW69MuwpNdh18noSkED7EVCUWtmmilKt278VpVa2naJU6/ZjSy4BCbQPAR357dOW9dSkHZ3u9uV6eoDH9kWgHZ8PW1wCEpBAJxPoTZSCyQ8j4gOpwLNBRDxZAYoNcEmjRzQUqfx+nv69kuXN6Sa5lan7SH/HPgBbpwd+qYYotUaa35w0IOxndWdEbBwRUyNij/S8Wun7PhcRp0XE/mn6EA79RprbvrJcn4yIr6f/QA71yyLiyxFxYZqK45sRcVAqupFL/b6Kk0lHuJ2RUp38yFh3CUigkoCilKJUOzwRilKKUu3Qj62DBCTQPgR05LdPW9ZTk3Z0utuX6+kBHqsoZR+QgAQk0DkE+hKlXhMR/y9FgZj0swosf4wIIpcQbSamghXCFRFKGKLTrBqp+7gf/yE0vSwiaolSpMgjVd72aX7z7LYvioh7ImJ0jUipXSPi+oi4ISJ2qyjn6hFxb0Ssk0Zm/S29BpszE0l1S0R8JSLYqDgzosSIfCJfPhFWlCUzRanOeTasqQQkkIOAotRKSEZK5egwJT1EUWplwxgpVdJOarEkIIGOIqAjv6Oa+3+VVZTqzHa31vkItOPzka/mHiUBCUigPQn0JUrxG1FCRCn9OiL2ThGQug+hZ9OImJBuPM1PRDVdnh5D1BKiUm+bTpPq7601RCk2D/5duoHwgTWQs88V+11VR0qdFREfSoUzBLRKQzzjWhdExKSKH0gP+LU0OmpR1Tk/ioj3pqn+1q2IElOUas/nwFpJQAIFCShKrQSnKFWwE5XgNEWplY2gKFWCDmkRJCCBjidwww037LT66qvP3nbbbTueRScBaEenu325k3pwY+vajs9HY4l5dQlIQALlJtCXKEXJ2Y8J8YY9lIiEmh8RpO57Z0S8MSLY++nhiBgbERelae0476Y0ld4lvVSflHmIWNWRUtm/nxARZ9Q49/w0TWC1KDUj3fdqcroPVeWpHHtiRBAl9aqKH4j2ItJrdo37kDqQtITYmyLi9vT/FaXK3Z8tnQQk0GQCgyFKXXfddc91d3evMmrUqCaXfnBv9+ijj8ZOO+0UI0aMGNwLD/HVnnnmmVi0aFGsv/76Q1ySxt2+u7s7mOjSB0ePJiC7c23hwoXxzDPPvHTcuHFzOpeCNZeABCQw9ATuvPPO7tVWWy1GjiSRh9YJBBhzPfnkk18bP348Wx60jdmX26Yph7Qi7fp8DClUby4BCUhgCAn0J0plafEo4nsi4qcRgZiD+PPjtNw/iYhjIuKZiHhhGlmF0IP3anEvdUOsOqBKlKIsiF4IQkRYkcav2noTpbJIqesiYs+qk74bEcdHxJUR8faK3x5NI6GI/MprilJ5SXmcBCTQEQQGQ5SaPn36mK6urqPWX3999vNrSRs2bBgpX9dH0Fh33XVvbMlK1Cj0/PnzJyDYjBo1qmvp0qXDOWTs2LFtUz/qQx35c80111w2cuRI0gB3tD3xxBOfnTBhAmM9TQISkIAEhpDA7NmzxyxbtuyEddZZh0WSWgcQWLBgwY932WUXfB5tZfbltmrOIatMuz4fQwbUG0tAAhIYYgL9iVIU778RsXlEXBsRR0YEK2dJ6fd4Wva90t/468HpXkw79pG6j+NqiVLs+5Rd89CImFqDTW+iFBFQf4mIZeleVXMrziUdIGkBq69J9BdGRNSzOdtBUSonKA+TgAQ6g8BgiFKdQcpaSkACEpCABCQgAQlIQAISkIAEJCABCUhAAnlEKVLsfSaNKjotInZP94PK6JGnaF6a3u/SiNgijYDqLXUf59USpdi76bH0oqQMJMKp2noTpTiOfay+GBHXpFFYRG4RcUVawe9HxHFVF3sqFaRYefbbXrrCqlWClaKUz4wEJCCBCgKKUnYHCUhAAhKQgAQkIAEJSEACEpCABCQgAQlIIC+BPKLU9hFxc3rB5yLi/RFRHVKO6MNeU0QfcQxp/Bb1UYhaohRpgZ6MiDUigr2lSO9XbZkoxV5XH6v6kWTbv4yIBRGxUXqthRHxi4j4dY1rzYyIXSLiN1UiW+WhCHLnRMS96T8qSuXtWR4nAQl0BAFFqY5oZispAQlIQAISkIAEJCABCUhAAhKQgAQkIIFBIZBHlOJGt0bEthWCE+JRpb06Iv6c/gN7QRGh1JfVEqU4fnpE7J/eZ7uIuKvqIpkoVR35RD247/UR8c2cZE6JiJPTY4myQoCqNFIQfi8iXlPxj4hziHSTIuKCnPcpdNjMmTO7d9kFzUyTgAQkUF4CilLlbRtLJgEJSEACEpCABCQgAQlIQAISkIAEJCCBshHIK0p9Pk2Nd0VE7FejElyHfZw2jQg2qu8rdR+nX55e56sR8emK65EakL2hiJq6KSLeHBEPp7+vHxF/iAjEqqsj4i0V5x0WEVMi4scRcW5EkLqvK005uCTdq4p0fZVGNBdi23rpP7JnFqIXkVZsen58RLwrjb7KzqNs7F9FGsMvpPtXsd8WKQMH1RSlBhWnF5OABBpEQFGqQWC9rAQkIAEJSEACEpCABCQgAQlIQAISkIAE2pBAXlFqy4j4d0RMTMWfWiiIUPpgRCAe9ZW6j3OziKMLI+LwqouxnxTp+bAnUoFreSoGkY5vj/S3v0bE6WlqPlIKnt1H+3RHxN/T8iF2Zfa6VHQiZWC1UZ9PVP3jtyLixIhYnEZ1vSQi/i8VwQa1eyhKDSpOLyYBCTSIgKJUg8B6WQlIQAISkIAEJCABCUhAAhKQgAQkIAEJtCGBvKIUVSc931sjAmGolo2PiJMi4uA+OL0pFYbekR6DWERk03cjgv2aMts7Ij4TETungs+MiPhsRBBZtU1EnBkRF6d7WHEO9fhRROwWEaNTYQyhaZWqshB1tVVEVEZNIbiRyo+yrRURd0TEGRFxXo16jE33qHp9RCCKfSAi/tuIfqEo1QiqXlMCEhhsAopSg03U60lAAhKQgAQkIAEJSEACEpCABCQgAQlIoH0J1CNKlZnC1mnqPoQl0vVVGqkA144IRLPJaUq+X5e5MpRNUarsLWT5JCABCChK2Q8kIAEJSEACEpCABCQgAQlIQAISkIAEJCCBvATaQZR6QUT8IyJOjQjSAfZl/M6+UexJVWpTlCp181g4CUggJaAoZVeQgAQkIAEJSEACEpCABCQgAQlIQAISkIAE8hJoB1Hq0xHx5TS14G/6qDjRUqQg3D3Hnld5+TXsOEWphqH1whKQwCASUJQaRJheSgISkIAEJCABCUhAAhKQgAQkIAEJSEACbU6gHUSpH0fEeyJibkS8LyKujQj2qqq0l6d7V30jIqa3QpsqSrVCK1lGCUhAUco+IAEJSEACEpCABCQgAQlIQAISkIAEJCABCeQl0A6i1CYRQYTUdmmlH4mIWyJifkSMjojNI2LjiDgyIn6ZF8xQH6coNdQt4P0lIIE8BBSl8lDyGAlIQAISkIAEJCABCUhAAhKQgAQkIAEJSAAC7SBKUY9REXFURBwcETtGxJiIeCoi/h0RV0XEWalI1TKtrijVMk1lQSXQ0QQUpTq6+a28BCQgAQlIQAISkIAEJCABCUhAAhKQgATqItAuolRdlW6FgxWlWqGVLKMEJKAoZR+QgAQkIAEJSEACEpCABCQgAQlIQAISkIAE8hJQlMpLqsnHKUo1Gbi3k4AEChFQlCqEzZMkIAEJSEACEpCABCQgAQlIQAISkIAEJNCRBBSlStrsilIlbRiLJQEJ9CCgKGWHkIAEJCABCUhAAhKQgAQkIAEJSEACEpCABPISUJTKS6rJxylKNRm4t5OABAoRUJQqhM2TJCABCUhAAhKQgAQkIAEJSEACEpCABCTQkQQUpUra7IpSJW0YiyUBCfQgoChlh5CABCQgAQlIQAISkIAEJCABCUhAAhKQgATyElCUykuqyccpSjUZuLeTgAQKEVCUKoTNkyQgAQlIQAISkIAEJCABCUhAAhKQgAQk0JEEFKVK2uyKUiVtGIslAQn0IKAoZYeQgAQkIAEJSEACEpCABCQgAQlIQAISkIAE8hJQlMpLqsnHKUo1Gbi3k4AEChFQlCqEzZMkIAEJSEACEpCABCQgAQlIQAISkIAEJNCRBBSlStrsilIlbRiLJQEJ9CCgKGWHkIAEJCABCUhAAhKQgAQkIAGiVeXvAAAgAElEQVQJSEACEpCABPISUJTKS6rJxylKNRm4t5OABAoRUJQqhM2TJCABCUhAAhKQgAQkIAEJSEACEpCABCTQkQQUpUra7IpSJW0YiyUBCfQgoChlh5CABCQgAQlIQAISkIAEJCABCUhAAhKQgATyElCUykuqyccpSjUZuLeTgAQKEVCUKoTNkyQgAQlIQAISkIAEJCABCUhAAhKQgAQk0JEEFKVK2uyKUiVtGIslAQn0IKAoZYeQgAQkIAEJSEACEpCABCQgAQlIQAISkIAE8hJQlMpLqsnHKUo1Gbi3k4AEChFQlCqEzZMkIAEJSEACEpCABCQgAQlIQAISkIAEJNCRBBSlStrsilIlbRiLJQEJ9CCgKGWHkIAEJCABCUhAAhKQgAQkIAEJSEACEpCABPISUJTKS6rJxylKNRm4t5OABAoRUJQqhM2TJCABCUhAAhKQgAQkIAEJSEACEpCABCTQkQQUpUra7IpSJW0YiyUBCfQgoChlh5CABCQgAQlIQAISkIAEJCABCUhAAhKQgATyElCUykuqyccpSjUZuLeTgAQKEVCUKoTNkyQgAQlIQAISkIAEJCABCUhAAhKQgAQk0JEEFKVK2uyKUiVtGIslAQn0IKAoZYeQgAQkIAEJSEACEpCABCQgAQlIQAISkIAE8hJQlMpLqsnHKUo1Gbi3k4AEChFQlCqEzZMkIAEJSEACEpCABCQgAQlIQAISkIAEJNCRBBSlStrsilIlbRiLJQEJ9CCgKGWHkIAEJCABCUhAAhKQgAQkIAEJSEACEpCABPISUJTKS6rJxylKNRm4t5OABAoRUJQqhM2TJCABCUhAAhKQgAQkIAEJSEACEpCABCTQkQQUpUra7IpSJW0YiyUBCfQgoChlh5CABCQgAQlIQAISkIAEJCABCUhAAhKQgATyElCUykuqyccpSjUZuLeTgAQKEVCUKoTNkyQgAQlIQAISkIAEJCABCUhAAhKQgAQk0JEEFKVK2uyKUiVtGIslAQn0IKAoZYeQgAQkIAEJSEACEpCABCQgAQlIQAISkIAE8hJQlMpLqsnHKUo1Gbi3k4AEChFQlCqEzZMkIAEJSEACEpCABCQgAQlIQAISkIAEJNCRBBSlStrsilIlbRiLJQEJ9CCgKGWHkIAEJCABCUhAAhKQgAQkIAEJSEACEpCABPISUJTKS6rJxylKNRm4t5OABAoRUJQqhM2TJCABCUhAAhKQgAQkIAEJSEACEpCABCTQkQQUpUra7IpSJW0YiyUBCfQgoChlh5CABCQgAQlIQAISkIAEJCABCUhAAhKQgATyElCUykuqyccpSjUZuLeTgAQKEVCUKoTNkyQgAQlIQAISkIAEJCABCUhAAhKQgAQk0JEEFKVK2uyKUiVtGIslAQn0IKAoZYeQgAQkIAEJSEACEpCABCQgAQlIQAISkIAE8hJQlMpLqsnHKUo1Gbi3k4AEChFQlCqEzZMkIAEJSEACEpCABCQgAQlIQAISkIAEJNCRBBSlStrsilIlbRiLJQEJ9CCgKGWHkIAEJCABCUhAAhKQgAQkIAEJSEACEpCABPISUJTKS6rJxylKNRm4t5OABAoRUJQqhM2TJCABCUhAAhKQgAQkIAEJSEACEpCABCTQkQQUpUra7IpSJW0YiyUBCfQgoChlh5CABCQgAQlIQAISkIAEJCABCUhAAhKQgATyElCUykuqyccpSjUZuLeTgAQKEVCUKoTNkyQgAQlIQAISkIAEJCABCUhAAhKQgAQk0JEEFKVK2uyKUiVtGIslAQn0IKAoZYeQgAQkIAEJSEACEpCABCQgAQlIQAISkIAE8hJQlMpLqsnHKUo1Gbi3k4AEChFQlCqEzZMkIAEJSEACEpCABCQgAQlIQAISkIAEJNCRBBSlStrsilIlbRiLJQEJ9CCgKGWHkIAEJCABCUhAAhKQgAQkIAEJSEACEpCABPISUJTKS6rJxylKNRm4t5OABAoRUJQqhM2TJCABCUhAAhKQgAQkIAEJSEACEpCABCTQkQQUpUra7IpSJW0YiyUBCfQgoChlh5CABCQgAQlIQAISkIAEJCABCUhAAhKQgATyElCUykuqyccpSjUZuLeTgAQKEVCUKoTNkyQgAQlIQAISkIAEJCABCUhAAhKQgAQk0JEEFKVK2uyKUiVtGIslAQn0IKAoZYeQgAQkIAEJSEACEpCABCQgAQlIQAISkIAE8hJQlMpLqsnHKUo1Gbi3k4AEChFQlCqEzZMkIAEJSEACEpCABCQgAQlIQAISkIAEJNCRBBSlStrsilIlbRiLJQEJ9CCgKGWHkIAEJCABCUhAAhKQgAQkIAEJSEACEpCABPISUJTKS6rJxylKNRm4t5OABAoRUJQqhM2TJCABCUhAAhKQgAQkIAEJSEACEpCABCTQkQQUpUra7IpSJW0YiyUBCfQgoChlh5CABCQgAQlIQAISkIAEJCABCUhAAhKQgATyElCUykuqyccpSjUZuLeTgAQKEVCUKoTNkyQgAQlIQAISkIAEJCABCUhAAhKQgAQk0JEEFKVK2uyKUiVtGIslAQn0IKAoZYeQgAQkIAEJSEACEpCABCQgAQlIQAISkIAE8hJQlMpLqsnHKUo1Gbi3k4AEChFQlCqEzZMkIAEJSEACEpCABCQgAQlIQAISkIAEJNCRBBSlStrsilIlbRiLJQEJ9CCgKGWHkIAEJCABCUhAAhKQgAQkIAEJSEACEpCABPISUJTKS6rJxylKNRm4t5OABAoRUJQqhM2TJCABCUhAAhKQgAQkIAEJSEACEpCABCTQkQQUpUra7IpSJW0YiyUBCfQgoChlh5CABCQgAQlIQAISkIAEJCABCUhAAhKQgATyElCUykuqyccpSjUZuLeTgAQKEVCUKoTNkyQgAQlIQAISkIAEJCABCUhAAhKQgAQk0JEEFKVK2uyKUiVtGIslAQn0IKAoZYeQgAQkIAEJSEACEpCABCQgAQlIQAISkIAE8hJQlMpLqsnHKUo1Gbi3k4AEChFQlCqEzZMkIAEJSEACEpCABCQgAQlIQAISkIAEJNCRBBSlStrsilIlbRiLJQEJ9CCgKGWHkIAEJCABCUhAAhKQgAQkIAEJSEACEpCABPISUJTKS6rJxylKNRm4t5OABAoRUJQqhM2TJCABCUhAAhKQgAQkIAEJSEACEpCABCTQkQQUpUra7IpSJW0YiyUBCfQgoChlh5CABCQgAQlIQAISkIAEJCABCUhAAhKQgATyElCUykuqyccpSjUZuLeTgAQKEVCUKoTNkyQgAQlIQAISkIAEJCABCUhAAhKQgAQk0JEEFKVK2uyKUiVtGIslAQn0IKAoZYeQgAQkIAEJSEACEpCABCQgAQlIQAISkIAE8hJQlMpLqsnHKUo1Gbi3k4AEChFQlCqEzZMkIAEJSEACEpCABCQgAQlIQAISkIAEJNCRBBSlStrsilIlbRiLJQEJ9CCgKGWHkIAEJCABCUhAAhKQgAQkIAEJSEACEpCABPISUJTKS6rJx82ZM+e5iFhl1KhRTb6zt5OABCSQj8Czzz4b3d3dscUWW/gtyYfMoyQgAQlIQAISkIAEJCABCUhAAhKQgAQk0NEEdCSWtPlnz549pqur66gxY8YcVNIiWiwJSKDDCSxYsODi4cOHnz9u3LgFHY7C6ktAAhKQgAQkIAEJSEACEpCABCQgAQlIQAI5CChK5YDkIRKQgAQkIAEJSEACEpCABCQgAQlIQAISkIAEJCABCUhAAgMjoCg1MH6eLQEJSEACEpCABCQgAQlIQAISkIAEJCABCUhAAhKQgAQkkIOAolQOSB4iAQlIQAISkMD/b+/uoy0r6/uAf++9c2cySnWkFGJTDBZJGIcXgTHGuFylNqCRWtRCmmFAE4NECG9qoCTBGFtdBoWlNIFgKzFCeKkYBY0mNLTELlNoCoxKWpKFIAGTIhCHV8fJzJ3b9bvdJ+ty13DOuTN7zz1n5rPXYsG6+9nPfvbn2Zw/9nf9nocAAQIECBAgQIAAAQIECBAgQIAAgZ0TEErtnJ+rCRAgQIAAAQIECBAgQIAAAQIECBAgQIAAAQIEhhAQSg2BpAkBAgQIECBAgAABAgQIECBAgAABAgQIECBAgMDOCQilds7P1QQIECBAgAABAgQIECBAgAABAgQIECBAgAABAkMICKWGQNKEAAECBAgQIECAAAECBAgQIECAAAECBAgQIEBg5wSEUjvn9/dX33fffbPf+973BvY2MTGRiYmJI9asWfO1gY016ETAXHXCqlMCBAgQIECAAAECBAgQIECAAAECBAgQINBXQCjVwguyYcOGA5YvX/6tqampCpz69jgzM5PZ2dmsWbOGfQv2i+3CXC1WTHsCBAgQIECAAAECBAgQIECAAAECBAgQINCOgGCkBce777776Onp6VsHBVJ1qwqkKpgSSrUAvwNdmKsdQHMJAQIECBAgQIAAAQIECBAgQIAAAQIECBBoQUAo1QKioKMFxF3UhbnaRdBuQ4AAAQIECBAgQIAAAQIECBAgQIAAAQIEFggIpVp4JQQdLSDuoi7M1S6CdhsCBAgQIECAAAECBAgQIECAAAECBAgQICCUav8dEHS0b9pVj+aqK1n9EiBAgAABAgQIECBAgAABAgQIECBAgACB/gIqpVp4QwQdLSDuoi7M1S6CdhsCBAgQIECAAAECBAgQIECAAAECBAgQILBAQCjVwish6GgBcRd1scRztTLJJUmeSLJ3kvOSPPkcj/5TSY5vzt2S5LPz2vU7N0jy2CQfSnJikgfmNe43tlEY96Dncp4AAQIECBAgQIAAAQIECBAgQIAAAQIERlxAKNXCBC1x0NHCE+w5XSzxXH0yyW1JrkxyQpJ/nWTddvQPTPIHSQ5NMpPkziRvS/LnSfqdGzSR+yV5TZLfT/LSBaFUv7Et9bgHPZfzBAgQIECAAAECBAgQIECAAAECBAgQIDAGAkKpFiZpR4KOjRs3tnBnXSxWYNmyZVm1alUmJga/+rOzs5mZmcmaNWsGNx48kB9M8tdJ6t+PJnlBknoJKmSaX7FUPV3WdPeLzb+ruqoqq35uwLnBo0gmm6BrfijVb2zfH5FxD/Ns2hAgQIAAAQIECBAgQIAAAQIECBAgQIDACAu08bG9q8c7IsmvJLm3qRg5oKnyuDTJPUlen+QTST7TLHP2q0k+kuSkJD+Z5N1NRUqN7xVJ1ie5L8kZSR5LcnOSi5IcmeRNSdYkmW4+/D++mIcSSi1Ga2nbLmEoVRVRv5OklsLrHf83yQVJPr1A5S+btvV+1vELTbsKkvqdGxZ3dkGlVL+x/d0IjXvY59OOAAECBAgQIECAAAECBAgQIECAAAECBEZQYJRDqfp4X/vovCjJO5L8eJJVTcD0s82yZ+cnqfBqeZL6wF8BVX3kr5Cp9s354ca8PuT/TJINzd9/LMkxSfZK8ttJTmna/WmS25O8dzFzJZRajNbStl3CUKr2jzo3yQ/NE6jAtYKqDy9QeaZp+5+av1egWu1WJOl3bljchaFUv7FtHaFxD/t82hEgQIAAAQIECBAgQIAAAQIECBAgQIDACAqMcihVXLX3zsNJqgqqjvqg/w+SfCfJLyd5S5KDmnNVBVUVJbckOTjJ15uP+M9rPuSvTvIXSU5uqqiOSnJiklOT/GHTxyHNkmr1kX7oQyg1NNWSN1zCUOqXkpzeLNfXc/irJL+Z5OIFME83ba9u/l7L9lW7ClH7nRvWd2Eo1W9s1eeojHvY59OOAAECBAgQIECAAAECBAgQIECAAAECBEZQYNRDqU82odSFjd2yJPUB/YmmMqo+5r+sOffNJO9qQqn6WwVQ1b6O/5HkuubD/vuTVPVHVVJVRVTt6VNL+u3wIZTaYbpdfuEShlK1RF4FS/vMe+jvJjkzybULIKqyr9r+VvP3s5t2P9Is3/dc53rdVJ/zg656x2s/q96xveX7nmts1XZXjXuXvw9uSIAAAQIECBAgQIAAAQIECBAgQIAAAQK7TmDcQql/l2SqqZyqfaOuGDKUWpukPuzXPlIVVF2VpD621/5Tv9FUW21u2GuZwFrCb+hDKDU01ZI3XMJQ6geTPJjkxUn+Nsnezd5m+y8IjMqowqiZJOc0YP+hqfqrSsB+53q+teTlfvOwK7CtILZ3LAyl+o2txrGrxr3k74cBECBAgAABAgQIECBAgAABAgQIECBAgEB3AuMQSj3aLNVXCl9M8jdN1cj7kvx8ktckeSDJ/c3yfX/cBFVVbVIBVh1/1lRYVRjwd00I8L0mGKhl/+5I8tFmD6r6eP+pxZD3Qqknn3xy4GWTk5OZnp7OU089NbCtBu0L9EKpxczV4Ycf3tb/J1Wtd1OS65P8dJI3N8FoPWjthfalJHcnqWUkq+2hSSaT3NksO/m/B5wbBqyeZVuSf5rkW/Mu6De2URj3MM+mDQECBAgQIECAAAECBAgQIECAAAECBAiMsEBbH9u7eMTDmo/39QH9bUnuSnJcktpn5xtNhVN9LK/9nx5qAqvag+rDTVj1a0ne3lRF3dCEV/8wyfIk30/yb5J8Iclrk1yWpCpWPp3kPc1H+6GfqRdKDRM0VShVwcgwbYcegIZDC/RCqWH8e3PVYihVFUyXNAHqP05yfrNHVI2/9kCrJSU/0zzM+iSvair6/lsTZvWes9+5fha1H1vtqXZ5kg80732FvnX0G9tSj3vo+dWQAAECBAgQIECAAAECBAgQIECAAAECBEZXYJRDqbbU9m32mqql/+qoypNarqyW86vqlJ0+eqHU008/PbCvCjqmpqaEUgOlumnQC6UWM1cthlLdPJReCRAgQIAAAQIECBAgQIAAAQIECBAgQIDAGAjsCaHU+5slz97V7OVTz7yuWQbwT9qYo14o9cwzzwzsrhdKDbN83MDONFi0QC+UWsxcHXbYYXvC/yeLtnQBAQIECBAgQIAAAQIECBAgQIAAAQIECBBYjMCe8LH9xUk+kuSYJFuSfLNZ+u/mxUD1a9sLpTZt2jSwy4mJiVQwJZQaSNVJg14otZi5Ekp1MhU6JUCAAAECBAgQIECAAAECBAgQIECAAIE9TGBPCKU6n9JeKLV58+aB96pQqv459NBDJ7761a/ODrxAg1YFeqHUYueq1UHojAABAgQIECBAgAABAgQIECBAgAABAgQI7IECQqkWJr0XSm3ZUoVYwx0VSg3XUqs2BcxVm5r6IkCAAAECBAgQIECAAAECBAgQIECAAAECwwsIRoa3es6WvaBjZmZmqN5mZ2dzyCGHsB9Kq91G5qpdT70RIECAAAECBAgQIECAAAECBAgQIECAAIFhBQQjw0r1adcLOipsGnRUm23btgmlBkF1dN5cdQSrWwIECBAgQIAAAQIECBAgQIAAAQIECBAgMEBAKNXCK9ILOmqvqEFHhVJVUbVmzZrBjQd15vyiBczVoslcQIAAAQIECBAgQIAAAQIECBAgQIAAAQIEWhEQjLTA2As6pqamBvZWVVJbt24VSg2U6qaBuerGVa8ECBAgQIAAAQIECBAgQIAAAQIECBAgQGCQgFBqkNAQ5zds2HDAihUrvjU9PZ3Jycm+V1QgVZVSL3/5y9kPYdt2E3PVtqj+CBAgQIAAAQIECBAgQIAAAQIECBAgQIDAcAKCkeGcBrb6xje+sX5ycvL3Bu0rtWzZsmzatOmAI4888q8GdqpBJwLmqhNWnRIgQIAAAQIECBAgQIAAAQIECBAgQIAAgb4CQikvCAECBAgQIECAAAECBAgQIECAAAECBAgQIECAQOcCQqnOid2AAAECBAgQIECAAAECBAgQIECAAAECBAgQIEBAKOUdIECAAAECBAgQIECAAAECBAgQIECAAAECBAgQ6FxAKNU5sRsQIECAAAECBAgQIECAAAECBAgQIECAAAECBAgIpVp8B+644463T0xMHNBil7oiMDYCs7OzPzAxMfHq2dnZ2yYmJr7fxcBnZ2cfWLt27ae76FufBAgQIECAAAECBAgQIECAAAECBAgQINCtgFCqJd+HHnpodsuWLVmxYkVLPeqGwPgJfPe7383ee+/d2cA3b96c6enp7L///n67OlPWMQECBAgQIECAAAECBAgQIECAAAECBLoR8GG3Jdc77rhj9qijjmqpN90QGE+BO++8M13/f1D3WLt2rd+u8XxFjJoAAQIECBAgQIAAAQIECBAgQIAAgT1YwIfdliZfKNUSpG7GWkAoNdbTZ/AECBAgQIAAAQIECBAgQIAAAQIECBDoVEAo1RKvUKolSN2MtYBQaqynz+AJECBAgAABAgQIECBAgAABAgQIECDQqYBQqiVeoVRLkLoZawGh1FhPn8ETIECAAAECBAgQIECAAAECBAgQIECgUwGhVEu8QqmWIHUz1gJCqbGePoMnQIAAAQIECBAgQIAAAQIECBAgQIBApwJCqZZ4hVItQepmrAWEUmM9fQZPgAABAgQIECBAgAABAgQIECBAgACBTgWEUi3xCqVagtTNWAsIpcZ6+gyeAAECBAgQIECAAAECBAgQIECAAAECnQoIpVriFUq1BKmbsRYQSo319Bk8AQIECBAgQIAAAQIECBAgQIAAAQIEOhXY00Opg5JcmOTJJGftjLRQamf0XLu7CAilRm4mVyV5b5KfTPLqkRudAREgQIAAAQIECBAgQIAAAQIECBAgsEcJjFso9eYky5N8pqVZel6SK5M8keRdO9OnUGpn9Fy7uwgsVSh1zTXXvGJqaurWlStXfnN6enrj9jy3bNnyok2bNr1sZmbmn69fv/5rI2z+o0n+ffO7tDbJK5rQ/Ld2YMwrkrwjyTlJDt6B611CgAABAgQIECBAgAABAgQIECBAgACB1gTGLZT6oyRTSY5pTSC5JMnzhVItiupqjxVYwlDqxgMPPPD4fffdt6/9I488kvvuu++m9evXV8A9qsc9SWp8f5mkfqMrjKq/7UgoVc/4piQfFUqN6nQbFwECBAgQIECAAAECBAgQIECAAIE9R2CcQqmXJrk6yU8keVmS+1uapouT7CWUaklTN3u0wBKGUrOvfvVwq9PddtttWb9+/aj+9lWq9nCSlyT5dvMyvSjJTyf5xA6+XP8ySf3OqZTaQUCXESBAgAABAgQIECBAgAABAgQIECDQjsCofpjd3tN9KMmnkvxhs3zfr85r9PNJzk7yy82yV/VBt87/xyT9zlUX80Op9yf59eZv5yVZmeTaJP+n6e851S3f184LqZfxFhjFUOrRRx/NF7/4xbzgBS/ICSeckBEPpSabCqltSU5O8r+aN+LAJPc1/11VVIc2y/o9muSMJNW+fiM3N+cqtP+3TfuFodSRTfXUmiTTSX4uyePj/eYZPQECBAgQIECAAAECBAgQIECAAAEC4yAwLqFUfTitvZ/e1nxorf1RKnja2iCvSlIfZy9qlqk6rflAuzrJ3/Y5Vx95F1ZK/fckX2r6qu7rvtXfTL8JFUp1+7pfffXVmZ6ezre//e3stddeOe2003L//ffnkksuyWtf+9rce++9qUDkrLPOyjHHHJNt27bl+uuvz9TUVG655Za59q985Su7HaTe5+bgqKOOek6JrVu35rrrrusrtW7duixbtuw529Q91q5d+6zfrmuuuWa7lVIPPfRQLr744mzatClnnnlmDjvssFEPpeq5X978BtVv3O82YfsjDUjtMfWeJCcl2TtJ/f1fNPtP3ZjkgCQvTvI3Sep3sfbLmx9KVVXobyc5penvT5PcnuS9Xl8CBAgQIECAAAECBAgQIECAAAECBAh0LTAuoVQtXVUB1OeS7JfkoWY5q/oI2zueTvLjSf682XfqwaZq6ook/c4tDKX+VZJLmyUC/1GSswZVSdUAhFLdvapV5fLAAw/MBU51nHzyyTn++ONz4okn5owzzsjBBx+cs88+O1/+8pfzhS98IVdccUVuvPHGrFy5Mq9//etz66235qKLLpo7PzlZhSiOrgQGhVJ13woQzz333HznO9951jD222+/fPzjH89BBx3Ud3iDQqkKJCu8fOELX5gPfvCD2bhxY0466aS87nWvm+t3xCules9e+9z9WpJzkzyV5NgkdyX5ZBMi1b/rqODqr5uKpwqs/meStyT5z0n+SXNufih1YpJTm4rTuv6QJBuTVGWogwABAgQIECBAgAABAgQIECBAgAABAp0KjEsoVeFT7a/Sq4x6U5K/SHLcPJ35wVP9+Zbmn99YEEotPLcwlOotn1XL/9UH3z9o7tV3IoRS3b2nFTxV9dNb3lLf2pMrr7wyd911Vy677LK5cOONb3xjjj322LkqnUsvvTRXXXVVzjvvvLmqmAo6nn766dx+++258MIL55Zwc3QnMEwoVXdfGEwNG0jVtYNCqZtuumluub7qs4Kvo48+ei7I7B0jHkpNJfmhJBWq1/EjTdXUlqaC6o+T1O/hZduZxQrva9+oq5J8K8n+ze/m/FCqKqJqKcBa8s9BgAABAgQIECBAgAABAgQIECBAgACBXSowDqFUfZStL8pVNdA7KpTqLVVVVVN1LAylahm+qnj6/QHnFoZS1deZzfJWX2+W7hs4KUKpgUQ73OD000/PkUcemXe+851zfXzuc5/LV77ylbkAamEoVZU2tdTfu9/97rz1rW+dW9qvjpmZ/7/6Yi3n5+hOYNhQqkbQC6bqv4epkOqNelAoVZVx11xzzVzzAw88MOeff/6z5n3EQ6kfSHJ6ko/Nm6UK36tKtM7Vcn61bF/9BtZRIfqPJXleUxn6miS19mGFWNsLpWrZvwrqqxyt9p+qoypMawk/BwECBAgQIECAAAECBAgQIECAAAECBDoVGIdQ6jebfaJ6lQO9D7G1Z8rvJPmVRqhCqSqlqUqCFyX5apLa3Ob7TSj1XOcuSVL7rPzCPOlaOqsqsy5I8olhZkAoNYzSjrW54YYb8tnPfjbXXnvtXLjwsY99LK0juqoAAAXMSURBVKtXr84b3vCGnHPOOTnuuOP+vlKqF0pV27rmAx/4QF7ykpfk85///Fy1TL+9inZsdK6aL7CYUKquq2CqjkFL9i28R789pZ566qlccMEFc3P9vve9L/vss8+zJmkMQqmqAv2JZl+oGvu7kvxUkuOTvKFZeu/Xm3/XPnsfavaYensTUP2zJH+UpJbzq4qpCqoqfP/RJtCqvfTuaH5Xf7ipQP2UN5kAAQIECBAgQIAAAQIECBAgQIAAAQJdC4x6KPWOJJcnObvZS2VbA1LlL1UBVeFRnbuyCZ6uT3J3UwVQgVXtwVJHBVbbO/fSJDc0FQjrmmt75tXne5I8McwkCKWGUdqxNrVHUIVNDz/8cA455JC5faEqYHrwwQdz5pln5lWvelVOPfXUVHhV4dPll18+VyFz8cUX5+abb54LJSqcqOX8HN0KLDaU2pHRbK9S6tprr/3a6tWrD699pOrYvHnz3HsyPT39rFs88cQTueeee75+0kknvWJH7r0LrqlqqE3N786Xmv9e3vwWPdbcv5bgqz2gaq+pX0zyX5JUuPRfk9Rv5DlNlWhVi/5SU3X1M0lOaJYCrN/PWv6vKqk+3fTd+23dBY/oFgQIECBAgAABAgQIECBAgAABAgQI7KkCox5KLWZeFi7fN//afue2d4/6MPyRJvAaagxCqaGYNNrNBZYqlLr66quPfv7zn3/VypUrH5mcnOwtS/cs7W3btq3YtGnTvs8888zbTjnllD/ZzafC4xEgQIAAAQIECBAgQIAAAQIECBAgQGDkBHanUOqZZm+UqpRaePQ7N7/t4c1SVwcn+b0kfzbsjAmlhpXSbncWWKpQqkyvu+66A2ZmZt48MTGxanvGs7Ozj09NTd24bt26B3bnOfBsBAgQIECAAAECBAgQIECAAAECBAgQGFWB3SGUmkpyWrPM30eTfDjJxga837ntzcmZST7Y7FNVywYOfQilhqbScDcWWMpQajdm9WgECBAgQIAAAQIECBAgQIAAAQIECBDYLQR2h1BqJCZCKDUS02AQSywglFriCXB7AgQIECBAgAABAgQIECBAgAABAgQIjLCAUKqlyRFKtQSpm7EWEEqN9fQZPAECBAgQIECAAAECBAgQIECAAAECBDoVEEq1xCuUaglSN2MtIJQa6+kzeAIECBAgQIAAAQIECBAgQIAAAQIECHQqIJRqiVco1RKkbsZaQCg11tNn8AQIECBAgAABAgQIECBAgAABAgQIEOhUQCjVEq9QqiVI3Yy1gFBqrKfP4AkQIECAAAECBAgQIECAAAECBAgQINCpgFCqJV6hVEuQuhlrAaHUWE+fwRMgQIAAAQIECBAgQIAAAQIECBAgQKBTAaFUS7xCqZYgdTPWAkKpsZ4+gydAgAABAgQIECBAgAABAgQIECBAgECnAkKplnjvvffe2enp6SxfvrylHnVDYPwEHnvsseyzzz6dDXzz5s3ZunVrDjroIL9dnSnrmAABAgQIECBAgAABAgQIECBAgAABAt0I+LDbkuuGDRtWbdu27WdXrVp1Yktd6obA2AlMT0+v3rJlyz1dDfzxxx+/YXJy8nePOOKIx7u6h34JECBAgAABAgQIECBAgAABAgQIECBAoBsBoVQ3rnolQIAAAQIECBAgQIAAAQIECBAgQIAAAQIECBCYJyCU8joQIECAAAECBAgQIECAAAECBAgQIECAAAECBAh0LiCU6pzYDQgQIECAAAECBAgQIECAAAECBAgQIECAAAECBIRS3gECBAgQIECAAAECBAgQIECAAAECBAgQIECAAIHOBYRSnRO7AQECBAgQIECAAAECBAgQIECAAAECBAgQIECAgFDKO0CAAAECBAgQIECAAAECBAgQIECAAAECBAgQINC5gFCqc2I3IECAAAECBAgQIECAAAECBAgQIECAAAECBAgQEEp5BwgQIECAAAECBAgQIECAAAECBAgQIECAAAECBDoX+H/5S4kh/M2jtwAAAABJRU5ErkJggg== class=\"jupyter-widget\">\n",
       "<script type=\"application/vnd.jupyter-embedded-widgets\">[{\"align_items\":\"stretch\"},{\"align_items\":\"stretch\",\"flex_flow\":\"column\",\"display\":\"flex\"},{\"align_items\":\"stretch\"},{\"align_items\":\"stretch\",\"display\":\"flex\"},{\"align_items\":\"stretch\"},{},{\"value\":\"<h1>Css Manager</h1>\",\"layout\":\"IPY_MODEL_4c033fcd7d8c4f3692eb6f01d7494709\"},{\"layout\":\"IPY_MODEL_074871679cf04dbca05b62ee20cce53c\",\"children\":[\"IPY_MODEL_a7aa100f0ee141aaad927b4767acffd6\"]},{\"layout\":\"IPY_MODEL_a899e61a5aa8448b8a5da90009423e5d\",\"children\":[\"IPY_MODEL_6ebe4e35dc30482c890f2a2a7b26ff40\"]},{\"layout\":\"IPY_MODEL_6fc310568c404e08a712ad9ade486359\",\"children\":[\"IPY_MODEL_45e198be607544fabb46b04e71eadf66\"]},{\"visibility\":\"hidden\",\"align_items\":\"stretch\",\"display\":\"none\",\"height\":\"13em\"},{\"align_items\":\"stretch\",\"display\":\"flex\"},{\"align_items\":\"stretch\"},{\"width\":\"100%\"},{\"description\":\"Css keyword\",\"_options_labels\":[\"border\",\"overflow\",\"flex\",\"flex_flow\",\"top\",\"bottom\",\"right\",\"left\",\"visibility\",\"display\"],\"value\":\"border\",\"layout\":\"IPY_MODEL_60edef249c744437a8f48ff81ea6cc86\"},{\"layout\":\"IPY_MODEL_ba16bf81053746cda5f7ec77df9fb49e\",\"children\":[\"IPY_MODEL_1175dc12a69e4021b1fcfad05b8bc5dd\"]},{\"align_items\":\"stretch\",\"height\":\"3em\"},{\"align_items\":\"stretch\",\"display\":\"flex\"},{\"align_items\":\"stretch\"},{\"width\":\"110%\"},{\"value\":\"<h4 style='font-weight:bold;'>Text</h4>\",\"layout\":\"IPY_MODEL_32429f32e4c549cc8538158202842acb\"},{\"layout\":\"IPY_MODEL_ca41fab1a39e4f0bbc4c96a33d5ecc82\",\"children\":[\"IPY_MODEL_d1a7640adbc94353953e722f530b95e0\"]},{\"align_items\":\"stretch\"},{\"width\":\"100%\"},{\"value\":\"50%\",\"layout\":\"IPY_MODEL_e20ef4381df14e09a76156ab88445de8\"},{\"layout\":\"IPY_MODEL_7bc1004c7ef14758a290e2cf6f7d4e5c\",\"children\":[\"IPY_MODEL_65ddb2fad2ee4e3492127246dfe88a27\"]},{\"visibility\":\"hidden\",\"align_items\":\"stretch\",\"display\":\"none\"},{},{\"value\":50,\"layout\":\"IPY_MODEL_8d1c68d8c2b64a95898d37f1bdb1fc45\",\"step\":0.25},{\"layout\":\"IPY_MODEL_31737fca84c34889b7ed3d054c412c32\",\"children\":[\"IPY_MODEL_8f57a1731daf46d68017b9e9f232cd58\"]},{\"visibility\":\"hidden\",\"align_items\":\"stretch\",\"display\":\"none\"},{},{\"tooltips\":[],\"_options_labels\":[\"%\",\"px\",\"em\",\"cm\"],\"button_style\":\"\",\"value\":\"%\",\"layout\":\"IPY_MODEL_c5527afca462451aa39f90e70a62f027\",\"icons\":[]},{\"layout\":\"IPY_MODEL_1f239e4df4b44a9ca18c6e247c93d1fb\",\"children\":[\"IPY_MODEL_faead0edc6704015ac89108d4df57ad1\"]},{\"align_items\":\"stretch\"},{\"padding\":\"6px\",\"width\":\"4em\"},{\"value\":\"Default\",\"layout\":\"IPY_MODEL_3fb544bb371d47c288f3160711e045ed\"},{\"layout\":\"IPY_MODEL_225cabec1c0a4754b3225a720bfb2663\",\"children\":[\"IPY_MODEL_1b40d8d26c224b7f958585f1edff9109\"]},{\"align_items\":\"stretch\"},{},{\"value\":true,\"readout\":\"Invalid syntax\",\"layout\":\"IPY_MODEL_f09159a3a5ca40e68944ada3e7287837\"},{\"layout\":\"IPY_MODEL_1acf0ef463e34b009d2bcd64412d1914\",\"children\":[\"IPY_MODEL_15d78ea5d73e470997e6f31d0de86348\"]},{\"align_items\":\"stretch\",\"width\":\"3em\"},{},{\"value\":true,\"layout\":\"IPY_MODEL_9f4781a46cde4df8a50181d110914189\"},{\"layout\":\"IPY_MODEL_90f3badaf9344e84918a60c714ce2d32\",\"children\":[\"IPY_MODEL_40c4822bbf714a15a5db1b96bdbf2500\"]},{\"align_items\":\"stretch\"},{},{\"value\":\"Apply to\",\"layout\":\"IPY_MODEL_3fbbc981607846aa9ba6c54b6e6faa29\"},{\"layout\":\"IPY_MODEL_9077a01df1044d64a06fbc42255d7bf0\",\"children\":[\"IPY_MODEL_78534a167d9e4d6d93ae7ece2e8e5b5b\"]},{\"align_items\":\"stretch\"},{},{\"tooltips\":[],\"_options_labels\":[\"widget\",\"target\"],\"button_style\":\"\",\"value\":\"target\",\"layout\":\"IPY_MODEL_09c4751494cf49e2a61201cf7af40a23\",\"icons\":[]},{\"layout\":\"IPY_MODEL_df4ab772034a41d78758a39969f26ce0\",\"children\":[\"IPY_MODEL_266912f719b44c5ab03cabf703875338\"]},{\"visibility\":\"hidden\",\"align_items\":\"stretch\",\"display\":\"none\"},{\"padding\":\"6px\"},{\"value\":\"Text\",\"layout\":\"IPY_MODEL_9ceea826b3eb4948ad3ec89b5446e353\"},{\"layout\":\"IPY_MODEL_92aa2fae5bde45efabce75b3c0ca0208\",\"children\":[\"IPY_MODEL_6224bd7ca41b44dc9d7615f40fa4d48c\"]},{\"visibility\":\"hidden\",\"align_items\":\"stretch\",\"display\":\"none\",\"width\":\"8em\"},{},{\"value\":true,\"layout\":\"IPY_MODEL_ac556aa358d14bd597b00e96b8745e88\"},{\"layout\":\"IPY_MODEL_cd1b55d284a04c2fb54c5abed271f651\",\"children\":[\"IPY_MODEL_bbd801380b7b4c7d95055b58e9d91f52\"]},{\"layout\":\"IPY_MODEL_05da446eb75642aa81465a267ed7a3c9\",\"children\":[\"IPY_MODEL_fe2152dbae02474c90ec1cc0b0d01490\",\"IPY_MODEL_2e14506bd90c4dc8a7f75cdc34f793b6\",\"IPY_MODEL_304a639eb7554baaba1bf7cec97b7e21\",\"IPY_MODEL_254d5050ffa641f7979cb1ec992502e8\",\"IPY_MODEL_7b4a4e846c4442f9bf9d5f39d3871c64\",\"IPY_MODEL_48ccb3db9a0247df9f467bd4ab1ab28a\",\"IPY_MODEL_01edd6e5f6c84ea3a62c208161279f5e\",\"IPY_MODEL_e69f86d9e1a04d749cd23feca3297101\",\"IPY_MODEL_0963a08ca1ec4441bbe4b33e44ca69d5\",\"IPY_MODEL_110b69cbb8e84d42b4210cdcd047b4cc\",\"IPY_MODEL_5edb60c137214a9195863befe6803008\"]},{\"layout\":\"IPY_MODEL_3532e0734e5143bc9d7bf40cbb2aecf6\",\"children\":[\"IPY_MODEL_2987c09860c748268a8ae820de74b364\"]},{\"layout\":\"IPY_MODEL_7ff3b8104af94d999ba23bdd865b03b5\",\"children\":[\"IPY_MODEL_3e54260fcef54f00995a954d17693853\",\"IPY_MODEL_b17a734c8f4b4aefa5d9eaa1c60171dc\"]},{\"layout\":\"IPY_MODEL_2d3751d39d8f45cdb9ef836671a7fa7b\",\"children\":[\"IPY_MODEL_f0284d8bd4e64b01b7dc3d9f8350f027\"]},{\"align_items\":\"stretch\",\"height\":\"13em\"},{\"align_items\":\"stretch\",\"display\":\"flex\"},{\"align_items\":\"stretch\"},{\"align_items\":\"stretch\",\"flex_flow\":\"column\",\"display\":\"flex\"},{\"align_items\":\"stretch\"},{\"align_items\":\"stretch\",\"display\":\"flex\"},{\"align_items\":\"stretch\"},{},{\"value\":\"<h2>Grid setting</h2>\",\"layout\":\"IPY_MODEL_f81be153f8de48c38d9e44387e974720\"},{\"layout\":\"IPY_MODEL_d410758c736043ca94d6c57697a7c386\",\"children\":[\"IPY_MODEL_e0b6d073197d49709bae6a6077b698cf\"]},{\"layout\":\"IPY_MODEL_b2a9e58a349d462fb621fc516d4c9fc0\",\"children\":[\"IPY_MODEL_a499d2d64f7a49a585f934818ec62061\"]},{\"layout\":\"IPY_MODEL_600ff8c73cf045dc86aea482ea8fda80\",\"children\":[\"IPY_MODEL_8cc8b27cfe52465b9fde444331cf9c04\"]},{\"align_items\":\"stretch\"},{\"align_items\":\"stretch\",\"display\":\"flex\"},{\"align_items\":\"stretch\"},{},{\"value\":\"<h4 style='font-weight:bold;'>Align dropdown</h4>\",\"layout\":\"IPY_MODEL_4a560d8e5c494a67aebc5a7f7818ea77\"},{\"layout\":\"IPY_MODEL_4d9e39b2af0b4177804f502c6bc9d7ad\",\"children\":[\"IPY_MODEL_97495ff889264bf0aa23e0b07850f25e\"]},{\"visibility\":\"hidden\",\"align_items\":\"stretch\",\"display\":\"none\"},{},{\"description\":\"Self\",\"value\":\"center\",\"layout\":\"IPY_MODEL_ffaabc0b6fb74c629cd7477524067350\"},{\"layout\":\"IPY_MODEL_0d92defebc2b4f40a02f5231e57a110b\",\"children\":[\"IPY_MODEL_b7329ef5ddd5485b8958b7bf16f08d90\"]},{\"align_items\":\"stretch\"},{},{\"description\":\"Self\",\"_options_labels\":[\"flex-start\",\"flex-end\",\"center\",\"baseline\",\"auto\",\"stretch\"],\"value\":\"flex-start\",\"layout\":\"IPY_MODEL_b7d52e76c489464b87ade8525a10d90e\"},{\"layout\":\"IPY_MODEL_81cb375c34194b81875a10d82b118d3f\",\"children\":[\"IPY_MODEL_2c708ff7f9434baea467dd76206ab489\"]},{\"align_items\":\"stretch\"},{},{\"value\":\"Default\",\"layout\":\"IPY_MODEL_e2788caef413447b8e9cd64d8a74d5a2\"},{\"layout\":\"IPY_MODEL_04c59e299b05449cb5a03b183de307e8\",\"children\":[\"IPY_MODEL_01883e3814594ac3a707fcc179048c63\"]},{\"align_items\":\"stretch\"},{},{\"value\":true,\"readout\":\"Error\",\"layout\":\"IPY_MODEL_feae45631cec419e8c85bfd12c335610\"},{\"layout\":\"IPY_MODEL_dd9bd680aaed434587a8efa6f4562ebd\",\"children\":[\"IPY_MODEL_90d82c35c62a47f78e527c2477f9bca6\"]},{\"align_items\":\"stretch\",\"width\":\"100%\"},{\"width\":\"100%\"},{\"value\":true,\"layout\":\"IPY_MODEL_9b436186acfd4e12909983b3dea0781d\"},{\"layout\":\"IPY_MODEL_0b56d1d2c13347df8df4a13d32a045cb\",\"children\":[\"IPY_MODEL_49eb09cd363e438aa808dac0c3569518\"]},{\"visibility\":\"hidden\",\"align_items\":\"stretch\",\"display\":\"none\"},{},{\"description\":\"Items\",\"value\":\"center\",\"layout\":\"IPY_MODEL_148de489d64e49479c364a5039a3709c\"},{\"layout\":\"IPY_MODEL_0bb320ea98034cf79768ab3d0a47a085\",\"children\":[\"IPY_MODEL_284e3b86cd8c472e9a004112bf1c816c\"]},{\"align_items\":\"stretch\"},{},{\"description\":\"Items\",\"_options_labels\":[\"flex-start\",\"flex-end\",\"center\",\"baseline\",\"auto\"],\"value\":\"flex-start\",\"layout\":\"IPY_MODEL_b548fa5f7e8c482fabb4563ba7df8cc3\"},{\"layout\":\"IPY_MODEL_d8d778ec544b46aa91e5703f6c2de7c3\",\"children\":[\"IPY_MODEL_61beae57aaeb4fa485c73f58f6a7d251\"]},{\"align_items\":\"stretch\"},{},{\"value\":\"Default\",\"layout\":\"IPY_MODEL_8c68f5bb8bbe4baf95a62eb0bb488f8a\"},{\"layout\":\"IPY_MODEL_1e91c7f92c524fe49911833ab6b4e36f\",\"children\":[\"IPY_MODEL_e80ca08de2464f379ab0bc12b736e6ef\"]},{\"align_items\":\"stretch\"},{},{\"value\":true,\"readout\":\"Error\",\"layout\":\"IPY_MODEL_bd2eb2f2ddcd4d80a84a0b0d5adf93ca\"},{\"layout\":\"IPY_MODEL_ccf09a83cddd441b8730c46da8323c97\",\"children\":[\"IPY_MODEL_cb73180228e54eaf94bc564f2e7bbd8a\"]},{\"align_items\":\"stretch\",\"width\":\"100%\"},{\"width\":\"100%\"},{\"value\":true,\"layout\":\"IPY_MODEL_a5363b4d1d08474482c66dbeefae1a1f\"},{\"layout\":\"IPY_MODEL_301635f8470a4b41a04ec89ed7dfb9fe\",\"children\":[\"IPY_MODEL_a511a0a7540a400b9a189160038511ee\"]},{\"visibility\":\"hidden\",\"align_items\":\"stretch\",\"display\":\"none\"},{},{\"description\":\"Justify\",\"value\":\"center\",\"layout\":\"IPY_MODEL_c84dc89fef334b8b916250bfd578f38d\"},{\"layout\":\"IPY_MODEL_91112b05f48945afb26e53d5611e5c79\",\"children\":[\"IPY_MODEL_e0a5ddff8c394873a716af8165cba498\"]},{\"align_items\":\"stretch\"},{},{\"description\":\"Justify\",\"_options_labels\":[\"flex-start\",\"flex-end\",\"center\",\"space-between\",\"space-around\"],\"value\":\"flex-start\",\"layout\":\"IPY_MODEL_6d806b62db734c7080aa476af5d583f4\"},{\"layout\":\"IPY_MODEL_2dbef9119e074bfa859f9194dc791ca8\",\"children\":[\"IPY_MODEL_256c302251b14803b0931376dff35087\"]},{\"align_items\":\"stretch\"},{},{\"value\":\"Default\",\"layout\":\"IPY_MODEL_f927216135af41cd97bddfcb702e1651\"},{\"layout\":\"IPY_MODEL_06fc26444ff14998a6c681dc77a859c5\",\"children\":[\"IPY_MODEL_7e19c923dfaa4e2382ff5752c7f51e54\"]},{\"align_items\":\"stretch\"},{},{\"value\":true,\"readout\":\"Error\",\"layout\":\"IPY_MODEL_c8611ca8b5cd4990b97ae34f0038bb25\"},{\"layout\":\"IPY_MODEL_110b5effe7af45549f31fde48256a827\",\"children\":[\"IPY_MODEL_0d30a7215c834dad8867f789c72dfd65\"]},{\"align_items\":\"stretch\",\"width\":\"100%\"},{\"width\":\"100%\"},{\"value\":true,\"layout\":\"IPY_MODEL_aaafbb82ab4b471e84d2d7abfeecd7b7\"},{\"layout\":\"IPY_MODEL_7eb03c555642455598167823611ccab2\",\"children\":[\"IPY_MODEL_a11563fddd6e47229014868712f07cca\"]},{\"visibility\":\"hidden\",\"align_items\":\"stretch\",\"display\":\"none\"},{},{\"value\":\"Apply to\",\"layout\":\"IPY_MODEL_fc5db72f8d194a058bd8f27c547ca700\"},{\"layout\":\"IPY_MODEL_ce9b622aa924414ca662d33fd47d214e\",\"children\":[\"IPY_MODEL_8b6eb466398d47eabd1a32e00d236e70\"]},{\"visibility\":\"hidden\",\"align_items\":\"stretch\",\"display\":\"none\"},{},{\"tooltips\":[],\"_options_labels\":[\"widget\",\"target\"],\"button_style\":\"\",\"value\":\"widget\",\"layout\":\"IPY_MODEL_a5d99eff31774123ac022325854b2fea\",\"icons\":[]},{\"layout\":\"IPY_MODEL_ecf903729e654049a7dd33e34262deda\",\"children\":[\"IPY_MODEL_49d8bd92de6948638c7359299ac18265\"]},{\"align_items\":\"stretch\"},{},{\"value\":\"Text\",\"layout\":\"IPY_MODEL_15960a5a79e440fcb05ba565f6cf59d0\"},{\"layout\":\"IPY_MODEL_92a57c3d6c9642f297634677f1bd5f5d\",\"children\":[\"IPY_MODEL_fa1a2617a2b4436dab186acedc6602c5\"]},{\"align_items\":\"stretch\"},{},{\"layout\":\"IPY_MODEL_12e78199f31f4e5b822246780e587898\"},{\"layout\":\"IPY_MODEL_f8cea35c70d64ea4ae037694d46d810e\",\"children\":[\"IPY_MODEL_dd04e88249ad4c13858483928fe3b3b7\"]},{\"layout\":\"IPY_MODEL_46d30d04955f4b488f9ef216b6df41bf\",\"children\":[\"IPY_MODEL_a81314172d024e809048cefb3ac3737e\",\"IPY_MODEL_5d493c1e018149de8c04e9f04e7884bd\",\"IPY_MODEL_6539c6373e6549c7ade461a5624dd391\",\"IPY_MODEL_5f11a6bbe88f436695773c59f01908ab\",\"IPY_MODEL_e28ed28cd06b4d94af107f25f8e72c90\",\"IPY_MODEL_101e5a84f92142a6baf98eb989d7a7ed\",\"IPY_MODEL_8177db70207449ea8e9ece9e5523f4cf\",\"IPY_MODEL_a270d7232de943208d81c3b27fbba62d\",\"IPY_MODEL_5545cd425747467cac6e26ed3f3de0f1\",\"IPY_MODEL_62e731daf5704bfe9fb2aa705d8bdacc\",\"IPY_MODEL_c4a592bf831f482a8f0ee43bc911133f\",\"IPY_MODEL_497d59c755294248ad1a7e2f43f97b09\",\"IPY_MODEL_24ab347253c749c287fee25da3011489\",\"IPY_MODEL_ac6d4a1c8df24f0eb3ed7b35f77c0600\",\"IPY_MODEL_5cc2ef9d8918410c9fb5380c3480b8e6\",\"IPY_MODEL_3015f8104c4e452ab79017db28a8a26e\",\"IPY_MODEL_8efb603eaec34ed49ecfa45dc9e44fb5\",\"IPY_MODEL_8572ec92ecbb47df8579b6cc59be93d7\",\"IPY_MODEL_993163b4666545258b587f049c3963cd\",\"IPY_MODEL_f78e03c1c9ca4615a27392b784be0c5e\"]},{\"layout\":\"IPY_MODEL_1cd8dc3aeb2543c8bec8fd94fb5e0bc7\",\"children\":[\"IPY_MODEL_58c0360a7cab4735b721b87396d6b6a2\"]},{\"align_items\":\"stretch\"},{\"align_items\":\"stretch\",\"display\":\"flex\"},{\"visibility\":\"hidden\",\"align_items\":\"stretch\",\"display\":\"none\",\"height\":\"3em\"},{\"align_items\":\"stretch\",\"display\":\"flex\"},{\"visibility\":\"hidden\",\"align_items\":\"stretch\",\"display\":\"none\"},{\"width\":\"110%\"},{\"value\":\"<h4 style='font-weight:bold;'>Numeric</h4>\",\"layout\":\"IPY_MODEL_60ae43b37ea640968e367cc720ce95ad\"},{\"layout\":\"IPY_MODEL_b8e7bb465d244def922553255468619d\",\"children\":[\"IPY_MODEL_8cec0414a21646179e061c2af8504134\"]},{\"visibility\":\"hidden\",\"align_items\":\"stretch\",\"display\":\"none\"},{\"width\":\"100%\"},{\"value\":\"50%\",\"layout\":\"IPY_MODEL_c378461f2921452880f8fc61e263bb47\"},{\"layout\":\"IPY_MODEL_862c038c68a148798c20d832eaf7ac0c\",\"children\":[\"IPY_MODEL_959b5002d81847309990cdfb9d557bd2\"]},{\"visibility\":\"hidden\",\"align_items\":\"stretch\",\"display\":\"none\"},{},{\"value\":50,\"layout\":\"IPY_MODEL_fee6b89724e14ec4bf9e81bf9d1dd4ee\",\"step\":0.25},{\"layout\":\"IPY_MODEL_9e6ebc32c8854ee8bf2b62bfbd773420\",\"children\":[\"IPY_MODEL_1a552fede27d495f9fb3c6ce49d0a173\"]},{\"visibility\":\"hidden\",\"align_items\":\"stretch\",\"display\":\"none\"},{},{\"tooltips\":[],\"_options_labels\":[\"%\",\"px\",\"em\",\"cm\"],\"button_style\":\"\",\"value\":\"%\",\"layout\":\"IPY_MODEL_dea84e2caf55494ab014e57d85a9d3c3\",\"icons\":[]},{\"layout\":\"IPY_MODEL_cf8d9abefb9548d5b29257be6013e150\",\"children\":[\"IPY_MODEL_5ab242b09b72416d8788a65f72c4bd41\"]},{\"visibility\":\"hidden\",\"align_items\":\"stretch\",\"display\":\"none\"},{\"padding\":\"6px\",\"width\":\"4em\"},{\"value\":\"Default\",\"layout\":\"IPY_MODEL_2de0a9ec826b4d27ad682b52ccf5528d\"},{\"layout\":\"IPY_MODEL_9d3a9e84fe394ae49afeb5e652dc44a2\",\"children\":[\"IPY_MODEL_2b16b0d184a94a608b4011d1a9c7e2a7\"]},{\"visibility\":\"hidden\",\"align_items\":\"stretch\",\"display\":\"none\"},{},{\"value\":true,\"readout\":\"Invalid syntax\",\"layout\":\"IPY_MODEL_70f4c6e712774062b852f6ce6d9f1d55\"},{\"layout\":\"IPY_MODEL_c8595fe46a4147a5b3b0432d981e24f2\",\"children\":[\"IPY_MODEL_49b2d05828f345b3941ff7c80e7aa67f\"]},{\"visibility\":\"hidden\",\"align_items\":\"stretch\",\"display\":\"none\",\"width\":\"3em\"},{},{\"value\":true,\"layout\":\"IPY_MODEL_67de5f53c6d04f5182c9162a8a74919f\"},{\"layout\":\"IPY_MODEL_be3be3437d0548258e0884e8530b0efa\",\"children\":[\"IPY_MODEL_36ea06a2f6ba48c8b7df266e2d3816c2\"]},{\"visibility\":\"hidden\",\"align_items\":\"stretch\",\"display\":\"none\"},{},{\"value\":\"Apply to\",\"layout\":\"IPY_MODEL_5989d3dd7d9f47d384b3bc643b58982d\"},{\"layout\":\"IPY_MODEL_ebb83d6be5fe4ccf828615a89f70dc2f\",\"children\":[\"IPY_MODEL_00b117f4e37746d0ab6f9b6bf8a38396\"]},{\"visibility\":\"hidden\",\"align_items\":\"stretch\",\"display\":\"none\"},{},{\"tooltips\":[],\"_options_labels\":[\"widget\",\"target\"],\"button_style\":\"\",\"value\":\"target\",\"layout\":\"IPY_MODEL_b9f3316d2f8543ed84da6d5724a6e0a9\",\"icons\":[]},{\"layout\":\"IPY_MODEL_7d36bf10615f4485a35cdc3405c98157\",\"children\":[\"IPY_MODEL_0bae7048041d412cb173bd6b912e1855\"]},{\"visibility\":\"hidden\",\"align_items\":\"stretch\",\"display\":\"none\"},{\"padding\":\"6px\"},{\"value\":\"Text\",\"layout\":\"IPY_MODEL_52fdf8397066413290946c67162d6d20\"},{\"layout\":\"IPY_MODEL_e63cafd5698a48719738540b4f371849\",\"children\":[\"IPY_MODEL_eb2a8f0077ef4df084452c1f33513eec\"]},{\"visibility\":\"hidden\",\"align_items\":\"stretch\",\"display\":\"none\",\"width\":\"8em\"},{},{\"layout\":\"IPY_MODEL_e01915e5d9ac4419acef101a96860bbb\"},{\"layout\":\"IPY_MODEL_5dba7a2e40a6468f8a3845d1e9480f8b\",\"children\":[\"IPY_MODEL_0f3231ea31e6421d9bb1d71ee9deb8fc\"]},{\"layout\":\"IPY_MODEL_85fdd4c125cf481fae737b03c02ccbe6\",\"children\":[\"IPY_MODEL_cf0d0880dc4f4c7692370d7da42856f2\",\"IPY_MODEL_e82a4d44c31c4c54a9e736a48af932f9\",\"IPY_MODEL_ffa85ecfd7b74341b8e29091a41d8df3\",\"IPY_MODEL_b7d6b8f02e464a45bbd3bcf4be66a73b\",\"IPY_MODEL_9731cbc1c968416597d5a7ba4fe7e9d3\",\"IPY_MODEL_da1a8bc704184c42814ee30f6c517612\",\"IPY_MODEL_2140b17ec9624ff19ed2fb4e8aa3a28e\",\"IPY_MODEL_a23142542bf04997946375bdcecff4d1\",\"IPY_MODEL_7943dbe8ebcb441895895c9ec8ebc8ad\",\"IPY_MODEL_504dcf6d5f00413b8994db263dd803f7\",\"IPY_MODEL_32928bcc54ed448b8ec53d0c59d5d106\"]},{\"layout\":\"IPY_MODEL_a13ad4ccb8fd4648a3736dfb5c97b31c\",\"children\":[\"IPY_MODEL_e1b5709860af4f8abea6aceb22077a81\"]},{\"align_items\":\"stretch\",\"height\":\"3em\"},{\"align_items\":\"stretch\",\"display\":\"flex\"},{\"align_items\":\"stretch\"},{\"width\":\"110%\"},{\"value\":\"<h4 style='font-weight:bold;'>Numeric</h4>\",\"layout\":\"IPY_MODEL_85e1ce1fc10a46ae81dffb4447a69aea\"},{\"layout\":\"IPY_MODEL_0ae97228edf14bf694e5314045e29b9f\",\"children\":[\"IPY_MODEL_8b7242fd2b294ec1a6607b4c23f34508\"]},{\"visibility\":\"hidden\",\"align_items\":\"stretch\",\"display\":\"none\"},{\"width\":\"100%\"},{\"value\":\"50%\",\"layout\":\"IPY_MODEL_dc26efa356d545f6b11b078903194849\"},{\"layout\":\"IPY_MODEL_8ea1bca4beff4e4a8da982e2adaa568a\",\"children\":[\"IPY_MODEL_a493d38b7a7b431aa02b024894bf32a4\"]},{\"align_items\":\"stretch\"},{},{\"value\":50,\"layout\":\"IPY_MODEL_20688abead8d46c0aba1f490f9e9ed76\",\"step\":0.25},{\"layout\":\"IPY_MODEL_99bd7aa03d71423a98a51f1035636c58\",\"children\":[\"IPY_MODEL_3b1c155a4b9c41ca90835c65e0c507b4\"]},{\"align_items\":\"stretch\"},{},{\"tooltips\":[],\"_options_labels\":[\"%\",\"px\",\"em\",\"cm\"],\"button_style\":\"\",\"value\":\"%\",\"layout\":\"IPY_MODEL_a5cf5d8d23b04b5aa8a779f598e80060\",\"icons\":[]},{\"layout\":\"IPY_MODEL_99548c52fc7e4ca08d7f0f27eae76dd1\",\"children\":[\"IPY_MODEL_5ec9912dab7646c587c288e2eeb91a73\"]},{\"align_items\":\"stretch\"},{\"padding\":\"6px\",\"width\":\"4em\"},{\"value\":\"Default\",\"layout\":\"IPY_MODEL_2df9c0adff7d421c8f34bb8376cc69eb\"},{\"layout\":\"IPY_MODEL_02c7f55321264739868af0f8dd653dcd\",\"children\":[\"IPY_MODEL_1b3a04f977a34d5da4c0d64a4f385220\"]},{\"align_items\":\"stretch\"},{},{\"value\":true,\"readout\":\"Invalid syntax\",\"layout\":\"IPY_MODEL_40f124974e37493d9c64d174799fbd6a\"},{\"layout\":\"IPY_MODEL_e316b25e2d684b40bbd5e46f9ef579f5\",\"children\":[\"IPY_MODEL_33e69d2b381e4cad81fd0d301a25153d\"]},{\"align_items\":\"stretch\",\"width\":\"3em\"},{},{\"value\":true,\"layout\":\"IPY_MODEL_fbd9b6925eb2420a9edc03720b80c71b\"},{\"layout\":\"IPY_MODEL_c309c5566eee4857a13e8471d0bffbc8\",\"children\":[\"IPY_MODEL_82c78d6d3a914e95993461694e002def\"]},{\"align_items\":\"stretch\"},{},{\"value\":\"Apply to\",\"layout\":\"IPY_MODEL_cc3e2b43cc4b465bb3e863d8103f291c\"},{\"layout\":\"IPY_MODEL_2c6761bc428d4bfb8f2b1a81f0b71517\",\"children\":[\"IPY_MODEL_af2c9a7aef8f4561aa31056a0e5fe374\"]},{\"align_items\":\"stretch\"},{},{\"tooltips\":[],\"_options_labels\":[\"widget\",\"target\"],\"button_style\":\"\",\"value\":\"target\",\"layout\":\"IPY_MODEL_aed4f9916a934332a52565c716bbfb94\",\"icons\":[]},{\"layout\":\"IPY_MODEL_1b240c3bb4374e26968ec0e675bc309c\",\"children\":[\"IPY_MODEL_fab774c4638d45ca92559936755ac651\"]},{\"align_items\":\"stretch\"},{\"padding\":\"6px\"},{\"value\":\"Text\",\"layout\":\"IPY_MODEL_f0ecce0fb2af42ab8e7b06bea47222f7\"},{\"layout\":\"IPY_MODEL_831e150227c44d728dca4c5b4d027505\",\"children\":[\"IPY_MODEL_e3162ee749194944a1322664dff48986\"]},{\"align_items\":\"stretch\",\"width\":\"8em\"},{},{\"layout\":\"IPY_MODEL_464cb587aba04e7ca5c3e923b134be23\"},{\"layout\":\"IPY_MODEL_120d9d6e30e0472ea4a67151f03a9050\",\"children\":[\"IPY_MODEL_7f3f7ef3f8394d719b87ef599117ba86\"]},{\"layout\":\"IPY_MODEL_36956a2672a84558ba3a8060622ddbb9\",\"children\":[\"IPY_MODEL_1fde39d6bb5e4d12b5865dc56c335c6f\",\"IPY_MODEL_720cb0d0bc0344bb8216b1f4d0918919\",\"IPY_MODEL_76ac3d8d5f184264acf6e8b3fa0be329\",\"IPY_MODEL_1d5986b0c8ed44efa76a3eb1b85416f9\",\"IPY_MODEL_75795975fa474e6189741a18ac8dd6a4\",\"IPY_MODEL_06fa0baad0cb4de6b13189803556b602\",\"IPY_MODEL_54b154b3577f40699768312374d67013\",\"IPY_MODEL_be196c88ac3a4d21971ea99241af168b\",\"IPY_MODEL_fc771b9e325a44c490722f51d844b69c\",\"IPY_MODEL_e4eaf529c6634e83be5e0ecb2a75ad74\",\"IPY_MODEL_b5da048d69f547c58df578d6f7c7fa7f\"]},{\"layout\":\"IPY_MODEL_d6c76060c2ff4d6ea5aea869e681bb6e\",\"children\":[\"IPY_MODEL_bc20a40c9988499bb107ba01249e0715\"]},{\"align_items\":\"stretch\"},{},{\"_options_labels\":[\"padding\",\"margin\"],\"value\":\"padding\",\"layout\":\"IPY_MODEL_9b4d2e0667684217bcd6066d52106149\"},{\"layout\":\"IPY_MODEL_4a6ee813d45c42be970f0be53ffb1829\",\"children\":[\"IPY_MODEL_11ef59812b2e44a78bb9b951b5ff3b67\"]},{\"layout\":\"IPY_MODEL_29f3a367c6174812bd2f00916360b468\",\"children\":[\"IPY_MODEL_808846be37f74efeb28785be87a2ddcd\",\"IPY_MODEL_169c6a25a5064469a6eef735e2af1ce9\",\"IPY_MODEL_5098f96f17b34e6abbc2e7b17f7f00de\"]},{\"layout\":\"IPY_MODEL_5ab06498e0d94a13910836235f6eecc7\",\"children\":[\"IPY_MODEL_1f2618168dfc4dc8aafecedf16f1ef9f\"]},{\"layout\":\"IPY_MODEL_28352b74cb21479ea1dc41590dfdcd7d\",\"children\":[\"IPY_MODEL_159954a578e64e0293ce0453c938c641\",\"IPY_MODEL_897f767825144928aad7270c31752b5e\",\"IPY_MODEL_59ce82e2996b451290623cc3955fda4b\"]},{\"layout\":\"IPY_MODEL_29ede6bbd3f845e7a3966f3dc2f0e796\",\"children\":[\"IPY_MODEL_763c68d167614aa59c82b0ec8c1d09b0\"]},{\"layout\":\"IPY_MODEL_cc98d3fd8fb840e684c05f14f0de175d\",\"children\":[\"IPY_MODEL_64949681bdb5404eba76437c43e57c0b\"]},{\"layout\":\"IPY_MODEL_c413bbf8b2f9466eba5e8afea3a697c0\",\"children\":[\"IPY_MODEL_8b1c7a8abfbe47e2927413a604f90734\"]},{\"visibility\":\"hidden\",\"align_items\":\"stretch\",\"display\":\"none\",\"height\":\"13em\"},{\"align_items\":\"stretch\",\"display\":\"flex\"},{\"align_items\":\"stretch\"},{\"align_items\":\"stretch\",\"flex_flow\":\"column\",\"display\":\"flex\"},{\"align_items\":\"stretch\"},{\"align_items\":\"stretch\",\"display\":\"flex\"},{\"align_items\":\"stretch\"},{},{\"value\":\"<h2>Width and height</h2>\",\"layout\":\"IPY_MODEL_b5b92c4606ed4a448f64e99f78ba246a\"},{\"layout\":\"IPY_MODEL_311c5312c8e34e30afce676af17f1d75\",\"children\":[\"IPY_MODEL_b6011bbd075747028689f6426da9d5fd\"]},{\"layout\":\"IPY_MODEL_fb8af2bc05874334900bec3aa380f763\",\"children\":[\"IPY_MODEL_74240d41f33e4656a394908f05312076\"]},{\"layout\":\"IPY_MODEL_61eff1dcc3524fdb938c7e8708759139\",\"children\":[\"IPY_MODEL_2405f6ab9d1a48e9bd03173a4797b721\"]},{\"align_items\":\"stretch\"},{\"align_items\":\"stretch\",\"flex_flow\":\"column\",\"display\":\"flex\"},{\"align_items\":\"stretch\",\"height\":\"3em\"},{\"align_items\":\"stretch\",\"display\":\"flex\"},{\"align_items\":\"stretch\"},{\"width\":\"110%\"},{\"value\":\"<h4 style='font-weight:bold;'>Height</h4>\",\"layout\":\"IPY_MODEL_8f1d80835f9b41dab9519077c84b98ef\"},{\"layout\":\"IPY_MODEL_350d47eeee474939bd417511553014fc\",\"children\":[\"IPY_MODEL_d54c6e63812347868c7c8ad7f7339c8c\"]},{\"visibility\":\"hidden\",\"align_items\":\"stretch\",\"display\":\"none\"},{\"width\":\"100%\"},{\"value\":\"50%\",\"layout\":\"IPY_MODEL_f8ae15217cb744378623108cc6fa5f8d\"},{\"layout\":\"IPY_MODEL_cfe87d8f6f67489290d678433cf544af\",\"children\":[\"IPY_MODEL_b75e1e178d284dd6b089f960e1b929f8\"]},{\"align_items\":\"stretch\"},{},{\"value\":50,\"layout\":\"IPY_MODEL_8f93ec70c8364c89a60afdeb7752e152\",\"step\":0.25},{\"layout\":\"IPY_MODEL_7406c7cc62514a95985cdb90c9aa38ce\",\"children\":[\"IPY_MODEL_0e00187e56be4e7584d868a559363e98\"]},{\"align_items\":\"stretch\"},{},{\"tooltips\":[],\"_options_labels\":[\"%\",\"px\",\"em\",\"cm\"],\"button_style\":\"\",\"value\":\"%\",\"layout\":\"IPY_MODEL_7d518758c60d4464b3b74c7771e6e959\",\"icons\":[]},{\"layout\":\"IPY_MODEL_c5df37c786f0427a8baf8531316bec63\",\"children\":[\"IPY_MODEL_708296aa2aa84620b76d4d764abd66b3\"]},{\"align_items\":\"stretch\"},{\"padding\":\"6px\",\"width\":\"4em\"},{\"value\":\"Default\",\"layout\":\"IPY_MODEL_eb04cbce15db47e293eacb81949fddc4\"},{\"layout\":\"IPY_MODEL_f989792fcc0241118f1b04cd6ab2cc83\",\"children\":[\"IPY_MODEL_dcb0d47df881400cb2ead4ff21ed8873\"]},{\"align_items\":\"stretch\"},{},{\"value\":true,\"readout\":\"Invalid syntax\",\"layout\":\"IPY_MODEL_0af4abc6216140d299bc8f824cbda7d5\"},{\"layout\":\"IPY_MODEL_1f380dcb303b44e19d4f4d91d1e19617\",\"children\":[\"IPY_MODEL_d4ee5e09b2754084bfd72bffeadc4110\"]},{\"align_items\":\"stretch\",\"width\":\"3em\"},{},{\"value\":true,\"layout\":\"IPY_MODEL_000ce956f2e544cf8a8beab14cd4aafd\"},{\"layout\":\"IPY_MODEL_69b2973ead014dea83db4fc316f7159a\",\"children\":[\"IPY_MODEL_4256f4a5284548b389231fd16c64377e\"]},{\"align_items\":\"stretch\"},{},{\"value\":\"Apply to\",\"layout\":\"IPY_MODEL_ccb0400bc12e48348a1427b854c40595\"},{\"layout\":\"IPY_MODEL_0c5436604f55420bb7d779098133a36a\",\"children\":[\"IPY_MODEL_1a2de989ceba46aa927d6554ad8c9bc4\"]},{\"align_items\":\"stretch\"},{},{\"tooltips\":[],\"_options_labels\":[\"widget\",\"target\"],\"button_style\":\"\",\"value\":\"target\",\"layout\":\"IPY_MODEL_341d0ee3afbd4cffb9f7695f2cfd3341\",\"icons\":[]},{\"layout\":\"IPY_MODEL_a9ba10578309405689a03c095c76b375\",\"children\":[\"IPY_MODEL_38224e8b52894bb3bfdecd44291ab82d\"]},{\"align_items\":\"stretch\"},{\"padding\":\"6px\"},{\"value\":\"Text\",\"layout\":\"IPY_MODEL_d26ec37f1db546cea81ff4b7a5731b10\"},{\"layout\":\"IPY_MODEL_79f5458802e4490db20169f360cf947c\",\"children\":[\"IPY_MODEL_2fc86f001eb8419ea99245a85bd27d0a\"]},{\"align_items\":\"stretch\",\"width\":\"8em\"},{},{\"layout\":\"IPY_MODEL_8c8c4b688810434082c422f211ace6f7\"},{\"layout\":\"IPY_MODEL_00a3774c340e4b5681a2c07cac21c005\",\"children\":[\"IPY_MODEL_bed9fc2d4b874270bc88e70dee468986\"]},{\"layout\":\"IPY_MODEL_8b4e38711ae04139b04d5c7337090d99\",\"children\":[\"IPY_MODEL_840d9c22e66b4319beba6db4606af338\",\"IPY_MODEL_9696950d8a7c4d6ea4dc4cfac4bd6852\",\"IPY_MODEL_34bdb19e202348d8ac87703222dd244d\",\"IPY_MODEL_1dfe4d8091b64c52a6e6ed09047116c2\",\"IPY_MODEL_6aa5556a1f664d529c7ca4c7a7a7032a\",\"IPY_MODEL_2e722768b4084b14bbbecab550ccc9ad\",\"IPY_MODEL_3dff3cb227f14285b291e43f3571d205\",\"IPY_MODEL_fca749aabf214e288158da8704ac72ff\",\"IPY_MODEL_652d6acca3064e50a6de6eb9ec375fff\",\"IPY_MODEL_ad608deacb744f20a07494fa3e412e96\",\"IPY_MODEL_31ae3cb17de5454c9746e8e7ff635a06\"]},{\"layout\":\"IPY_MODEL_1e788d64046f4d2ba149c93416b872be\",\"children\":[\"IPY_MODEL_ca07819324d44aec9a6eed4d5a5fb487\"]},{\"align_items\":\"stretch\",\"height\":\"3em\"},{\"align_items\":\"stretch\",\"display\":\"flex\"},{\"align_items\":\"stretch\"},{\"width\":\"110%\"},{\"value\":\"<h4 style='font-weight:bold;'>Width</h4>\",\"layout\":\"IPY_MODEL_037cb600b84b4f57b1a79653f2b4619a\"},{\"layout\":\"IPY_MODEL_9c0da08d7c79401d95b701e5c8ef43e6\",\"children\":[\"IPY_MODEL_430d61fba8ac496690ddef5ef623c724\"]},{\"visibility\":\"hidden\",\"align_items\":\"stretch\",\"display\":\"none\"},{\"width\":\"100%\"},{\"value\":\"50%\",\"layout\":\"IPY_MODEL_04a8a1fdfc6e4841b0f3900d8fc229f2\"},{\"layout\":\"IPY_MODEL_9dea4fe963244e679b5589a819fb982f\",\"children\":[\"IPY_MODEL_4f0600cb7b734e358f2913c007be3000\"]},{\"align_items\":\"stretch\"},{},{\"value\":50,\"layout\":\"IPY_MODEL_ff2acbcf69384973a028266a7a1b31ca\",\"step\":0.25},{\"layout\":\"IPY_MODEL_ac41d5ddfd6d486f9b0663171471f62f\",\"children\":[\"IPY_MODEL_9b6bb0e92f06417098f508b0ac96d8d8\"]},{\"align_items\":\"stretch\"},{},{\"tooltips\":[],\"_options_labels\":[\"%\",\"px\",\"em\",\"cm\"],\"button_style\":\"\",\"value\":\"%\",\"layout\":\"IPY_MODEL_08625f9b6ebe46da8277be9946ceb8b0\",\"icons\":[]},{\"layout\":\"IPY_MODEL_77a856ad7f93420da45a35cdf57d299f\",\"children\":[\"IPY_MODEL_c7f2a17c19834d7e9e5544af02a15d3f\"]},{\"align_items\":\"stretch\"},{\"padding\":\"6px\",\"width\":\"4em\"},{\"value\":\"Default\",\"layout\":\"IPY_MODEL_f0e6bf5a26444dd99fe1aba625ba1fb5\"},{\"layout\":\"IPY_MODEL_9132a003a230415ebd774f47664b0740\",\"children\":[\"IPY_MODEL_f6ed7809f7e94dd4bef0de9e0c03d4a8\"]},{\"align_items\":\"stretch\"},{},{\"value\":true,\"readout\":\"Invalid syntax\",\"layout\":\"IPY_MODEL_b8194ba81c3945a793d07f2c92b8c157\"},{\"layout\":\"IPY_MODEL_dc87ec062d874a17a212a0f4121075d2\",\"children\":[\"IPY_MODEL_b496de4a637044b094c3c1d5069f4349\"]},{\"align_items\":\"stretch\",\"width\":\"3em\"},{},{\"value\":true,\"layout\":\"IPY_MODEL_afe93854823940b2969293b834981f82\"},{\"layout\":\"IPY_MODEL_053e9c67dfaf446eab65ca580b1db201\",\"children\":[\"IPY_MODEL_1a541f30e786468a87e72decb4994d2b\"]},{\"align_items\":\"stretch\"},{},{\"value\":\"Apply to\",\"layout\":\"IPY_MODEL_8b04af235ee5404f92f12e95260dcd7e\"},{\"layout\":\"IPY_MODEL_7c2497eff0104e74916ebfaac8549452\",\"children\":[\"IPY_MODEL_e4aa77ff06a64f54b73cdc1269970952\"]},{\"align_items\":\"stretch\"},{},{\"tooltips\":[],\"_options_labels\":[\"widget\",\"target\"],\"button_style\":\"\",\"value\":\"target\",\"layout\":\"IPY_MODEL_b8719b32dab24fbc8afb57b706fd6e1a\",\"icons\":[]},{\"layout\":\"IPY_MODEL_338d42e8b7914692b7a9a976714726b9\",\"children\":[\"IPY_MODEL_1d9fb5728896404aab999c9f7f5fa6b2\"]},{\"align_items\":\"stretch\"},{\"padding\":\"6px\"},{\"value\":\"Text\",\"layout\":\"IPY_MODEL_845df2452d114a488f270e77b5f3634f\"},{\"layout\":\"IPY_MODEL_935c3add9f084ca6a474770b20ff7145\",\"children\":[\"IPY_MODEL_81f1687dd0304863987b165377d5c2b6\"]},{\"align_items\":\"stretch\",\"width\":\"8em\"},{},{\"layout\":\"IPY_MODEL_49472d60fafe4260846365f50e0c2e1a\"},{\"layout\":\"IPY_MODEL_0cc09644ae85457786370459a11fc112\",\"children\":[\"IPY_MODEL_957aa4f3e3ab444a8ee6058b7880c240\"]},{\"layout\":\"IPY_MODEL_732fe7227d714fcebd496114f790ae95\",\"children\":[\"IPY_MODEL_831575191df84d7bb71a8393489e00f3\",\"IPY_MODEL_859e1522439c4053b306df431430ced0\",\"IPY_MODEL_7c7ee83d22e14bf29bcfbdc1b88baf06\",\"IPY_MODEL_052fb8c81e6a4d6d874c86af7211cf68\",\"IPY_MODEL_6fc0a8b83c7f447aba489d845f06f133\",\"IPY_MODEL_4cfe4c2dbe91494c884910da7c1cb90e\",\"IPY_MODEL_3ce62a05c2bf49579c6a56e315f35527\",\"IPY_MODEL_040d9cbd02e34bbe94155322a798ed3b\",\"IPY_MODEL_5c5b6bfbd42148438ebc41149f2508a4\",\"IPY_MODEL_7271202e30734a698489ba4cbd40fe83\",\"IPY_MODEL_6b23c6f5fdd04120a7cca5edd0acfebf\"]},{\"layout\":\"IPY_MODEL_dc8955612d7448a5bcdc39de6f465468\",\"children\":[\"IPY_MODEL_a249f3ff984b4d5180c88448f10a7708\"]},{\"layout\":\"IPY_MODEL_3f6c657b2c4747afb017528c4e140a13\",\"children\":[\"IPY_MODEL_2d8339d45b7b47feb4a30f0be11af412\",\"IPY_MODEL_ef23802915c147728150cd4e0cfe9166\"]},{\"layout\":\"IPY_MODEL_e366bad221f941dd9ce7e2168615b45e\",\"children\":[\"IPY_MODEL_432ebaa845a24ce99e8bfc85fddaea47\"]},{\"align_items\":\"stretch\"},{\"align_items\":\"stretch\",\"display\":\"flex\"},{\"align_items\":\"stretch\"},{},{\"tooltips\":[],\"_options_labels\":[\"val\",\"max\",\"min\"],\"button_style\":\"\",\"value\":\"val\",\"layout\":\"IPY_MODEL_d7316513e0e148b8b396f99f6a254eb4\",\"icons\":[]},{\"layout\":\"IPY_MODEL_c9ed80fe9d77430eb97e47a84e794cad\",\"children\":[\"IPY_MODEL_20b9275cab084e8f979467ac53fb387a\"]},{\"layout\":\"IPY_MODEL_e6d546d7bd37482697771b0ca7ac29e9\",\"children\":[\"IPY_MODEL_5a5826e16fa4498ba4e6b0580258f53d\"]},{\"layout\":\"IPY_MODEL_e0e54f0337f84b36b46ef264417b0a0b\",\"children\":[\"IPY_MODEL_b2742af5e08749e5b6eb43c19ff0af55\"]},{\"layout\":\"IPY_MODEL_c396a707e99b45b1a181ef8f7eb6bd5e\",\"children\":[\"IPY_MODEL_2f89cf420dfb40258ff03bf0f2c843c6\",\"IPY_MODEL_33580864dfba4a78b2fbd195fb7484b1\",\"IPY_MODEL_2c395d29363b461d9c584f97016eb742\"]},{\"layout\":\"IPY_MODEL_0d14d70b6db348d3bd70c8eba6630148\",\"children\":[\"IPY_MODEL_2efc9d1fe4ca4a248f5f6cda9966bacd\"]},{\"layout\":\"IPY_MODEL_abe619dbf1b640d584567e55677bd95e\",\"children\":[\"IPY_MODEL_cc5628630af54a9191112bad2705fd59\"]},{\"layout\":\"IPY_MODEL_18d75092c3774fdb91983f3ce99d3bbc\",\"children\":[\"IPY_MODEL_b5dfb9c84c104834b60fc1f214bcc9b4\"]},{\"visibility\":\"hidden\",\"align_items\":\"stretch\",\"display\":\"none\"},{\"align_items\":\"stretch\",\"display\":\"flex\"},{\"align_items\":\"stretch\"},{\"align_items\":\"stretch\",\"display\":\"flex\"},{\"align_items\":\"stretch\"},{\"align_items\":\"stretch\",\"flex_flow\":\"column\",\"display\":\"flex\"},{\"align_items\":\"stretch\"},{\"align_items\":\"stretch\",\"display\":\"flex\"},{\"align_items\":\"stretch\"},{},{\"value\":\"<h2>Widget selector</h2>\",\"layout\":\"IPY_MODEL_e1f4ac613d844e0c9eadeb0c4ed07e3c\"},{\"layout\":\"IPY_MODEL_0ab02a7cff8e499f898344c558c82e07\",\"children\":[\"IPY_MODEL_712a8ec4f60c4611a7e7680ba9a87734\"]},{\"layout\":\"IPY_MODEL_c682967f42704e4ab0560cf6370242b7\",\"children\":[\"IPY_MODEL_383d36a9732b4d5595e7e31318e3b7d6\"]},{\"layout\":\"IPY_MODEL_0d8f9283b84347e1a47f09dddd7d7edc\",\"children\":[\"IPY_MODEL_55f29185d817411aae9a378fd146efa4\"]},{\"align_items\":\"stretch\"},{\"align_items\":\"stretch\",\"display\":\"flex\"},{\"visibility\":\"hidden\",\"align_items\":\"stretch\",\"display\":\"none\"},{},{\"description\":\"Style\",\"_options_labels\":[\"default\",\"primary\",\"success\",\"info\",\"warning\",\"danger\"],\"value\":\"default\",\"layout\":\"IPY_MODEL_518ebf063a8a4158a25133b05d485da5\"},{\"layout\":\"IPY_MODEL_fcdbd1298351442590b72d6beafce8dd\",\"children\":[\"IPY_MODEL_ca093ce568e048cba4a3d68eeb363b8b\"]},{\"visibility\":\"hidden\",\"align_items\":\"stretch\",\"display\":\"none\"},{},{\"description\":\"Icon\",\"layout\":\"IPY_MODEL_597ed495d2a14f8ba01c81d0b0b3a4cc\"},{\"layout\":\"IPY_MODEL_8f0f4c9943fe4e248a70e9c2fc773b60\",\"children\":[\"IPY_MODEL_d8ebc7ed10864e4386bb18ccb6250556\"]},{\"visibility\":\"hidden\",\"align_items\":\"stretch\",\"display\":\"none\"},{},{\"description\":\"Tooltip\",\"layout\":\"IPY_MODEL_a10e943e23404e2481d62924f6192453\"},{\"layout\":\"IPY_MODEL_3f319d6c8319403eabd9d405d286bd05\",\"children\":[\"IPY_MODEL_d10fb95f07f745a5b857f7942d0a4a08\"]},{\"align_items\":\"stretch\"},{},{\"value\":\"Visible\",\"layout\":\"IPY_MODEL_95cab4f0af264e21a70cfed58600644a\"},{\"layout\":\"IPY_MODEL_c398b15a590a4f6ea0c2aa3fe2d165dd\",\"children\":[\"IPY_MODEL_824e6c06b20e413d8dd594db7b4ba200\"]},{\"align_items\":\"stretch\"},{},{\"value\":true,\"layout\":\"IPY_MODEL_57208fe4b7df443a9dde5c274c69cff7\"},{\"layout\":\"IPY_MODEL_4a1a97fcc25b47a49c19024dab8d0d8f\",\"children\":[\"IPY_MODEL_ada1cd56e90343de9b40f2f58b97f2e3\"]},{\"layout\":\"IPY_MODEL_73ab6f13baa143b7b94628ec8cf664cc\",\"children\":[\"IPY_MODEL_762e5ec6236a43f0936e55220b497245\",\"IPY_MODEL_2ce0b80998c94723925747182c1f0a36\",\"IPY_MODEL_6163070c83b94440976d946cfd7d74a8\",\"IPY_MODEL_a8b6d1adf61e47a9a813ef7b4b50655b\",\"IPY_MODEL_8179279b4f1c49d7841892fd1626be59\"]},{\"layout\":\"IPY_MODEL_fd8079b720fd456b92360a0e9584e3b1\",\"children\":[\"IPY_MODEL_1a5d75fa5b324c2795008e559dcda0f3\"]},{\"align_items\":\"stretch\"},{\"align_items\":\"stretch\",\"display\":\"flex\"},{\"visibility\":\"hidden\",\"align_items\":\"stretch\",\"display\":\"none\"},{},{\"description\":\"orientation\",\"_options_labels\":[\"horizontal\",\"vertical\"],\"value\":\"horizontal\",\"layout\":\"IPY_MODEL_f0aeb4dd107c47318d40797c5790564f\"},{\"layout\":\"IPY_MODEL_19e972b88d0a4b6b8d3210bd3fa53cf4\",\"children\":[\"IPY_MODEL_3e96da733d03492b933b6107d9cb1cf5\"]},{\"visibility\":\"hidden\",\"align_items\":\"stretch\",\"display\":\"none\"},{},{\"description\":\"Readout\",\"value\":true,\"layout\":\"IPY_MODEL_85a0311b1caa4ce3b812a63e6a47a1a9\"},{\"layout\":\"IPY_MODEL_13ec7dee98674f8e9124464a88a668ec\",\"children\":[\"IPY_MODEL_395da3ff5a26450e8c5013d4c5f838af\"]},{\"visibility\":\"hidden\",\"align_items\":\"stretch\",\"display\":\"none\"},{},{\"value\":\"Format\",\"layout\":\"IPY_MODEL_4497d00e261a45a48fda79f399d58794\"},{\"layout\":\"IPY_MODEL_5471d190d1e34d9591d4e87d271cddd7\",\"children\":[\"IPY_MODEL_3db35c87de2448f1ab0e77c9b36d2a71\"]},{\"visibility\":\"hidden\",\"align_items\":\"stretch\",\"display\":\"none\"},{\"width\":\"5em\"},{\"layout\":\"IPY_MODEL_16acf3d03d654b1abdfe3ce1d0d70e2a\"},{\"layout\":\"IPY_MODEL_039658a1417f4be0b554f4c2508e59ca\",\"children\":[\"IPY_MODEL_1ee98caf37ba401e874bf7415242d5cf\"]},{\"visibility\":\"hidden\",\"align_items\":\"stretch\",\"display\":\"none\"},{},{\"description\":\"Color\",\"layout\":\"IPY_MODEL_df6e891f672840cdaf3752f52dc9dbd0\"},{\"layout\":\"IPY_MODEL_11195b530e264ba38a26cef648920846\",\"children\":[\"IPY_MODEL_b9ddad1a68ef429a9439e9565f966bc9\"]},{\"visibility\":\"hidden\",\"align_items\":\"stretch\",\"display\":\"none\"},{},{\"description\":\"Slider color\",\"layout\":\"IPY_MODEL_520b9d7ad14546da95aa2d4ab685ce83\"},{\"layout\":\"IPY_MODEL_d30628d351bd4263999e2eba1416ed9f\",\"children\":[\"IPY_MODEL_f9ed4212a3cb428c894861dacac6b88c\"]},{\"layout\":\"IPY_MODEL_7878d70a78514397aa76906d41c888bb\",\"children\":[\"IPY_MODEL_e594113f4e08403db42246374f787f5c\",\"IPY_MODEL_4c70c51b7324441cab07822c21ce0470\",\"IPY_MODEL_95e6a9b6b8434ecb85d8b3a15f2f9c67\",\"IPY_MODEL_84a88a389a0b46d789d030bd305b56e1\",\"IPY_MODEL_219cb9281bf34ef88123d074065822bb\",\"IPY_MODEL_67eb3a0cd5d84cb1a81b1c5131788473\"]},{\"layout\":\"IPY_MODEL_de8dd9afac204b18bc0e42fab1b67c16\",\"children\":[\"IPY_MODEL_8287cce0038743b2a2dfd2daf31186b8\"]},{\"layout\":\"IPY_MODEL_a2df86c4cf144746b575759886841060\",\"children\":[\"IPY_MODEL_3150337a17d048438b737d4bcb1e7070\",\"IPY_MODEL_85c32063f64f4cb2b308e54388b0b11a\",\"IPY_MODEL_91ef9c5aaa4741d999736064ee276d27\"]},{\"layout\":\"IPY_MODEL_e55b6412c60e44fa919792065a29a8f8\",\"children\":[\"IPY_MODEL_e28d18bf8c694f3d807e20d41bc70443\"]},{\"layout\":\"IPY_MODEL_ba32483654f24b7786ab23ea47e302ba\",\"children\":[\"IPY_MODEL_72bcd146623c4e70978187792dce0af2\"]},{\"layout\":\"IPY_MODEL_1705a1fe8376467b88df0f848dd0ec54\",\"children\":[\"IPY_MODEL_5206d0226c384c918cd4c246f30a6fdb\"]},{\"layout\":\"IPY_MODEL_9fe9409d2f1d48709fb025276c8bcac2\",\"children\":[\"IPY_MODEL_205aeaf5f45e452d85d76c7492a55629\"]},{\"layout\":\"IPY_MODEL_0c75c75cf0874829a7ecde60e7954d1f\",\"children\":[\"IPY_MODEL_32a86465eb1746438471a16c943c6cd0\"]},{\"align_items\":\"stretch\"},{\"align_items\":\"stretch\",\"display\":\"flex\"},{\"align_items\":\"stretch\"},{},{\"value\":\"<h2>Widget</h2>\",\"layout\":\"IPY_MODEL_81ca8c68ea55404d9ceff58fb9193aa4\"},{\"layout\":\"IPY_MODEL_b11d1fca9539403180c17f61f9023af5\",\"children\":[\"IPY_MODEL_4bcc945290a94cdaa6d4ff9f1d1504bf\"]},{\"align_items\":\"stretch\"},{\"width\":\"100%\"},{\"_options_labels\":[\"array_scaler\",\"dd_sel\",\"main_row\",\"scale_chk\",\"scale_slider\"],\"value\":\"array_scaler\",\"layout\":\"IPY_MODEL_6326655d6c754e66aba17d453dc43d75\"},{\"layout\":\"IPY_MODEL_37bb128360794756ad4ade048f2f5ee7\",\"children\":[\"IPY_MODEL_c619d1e9defa4be5a3a9a831387100e4\"]},{\"align_items\":\"stretch\"},{},{\"tooltips\":[],\"_options_labels\":[\"Grid\",\"W&H\",\"Other\",\"Widget\"],\"button_style\":\"\",\"value\":\"Grid\",\"layout\":\"IPY_MODEL_f6fd13b73dde49749a6028b49695238d\",\"icons\":[]},{\"layout\":\"IPY_MODEL_c736ce1b9373458796c2e5de7b3d0545\",\"children\":[\"IPY_MODEL_d0e50e2ff827453e9f67fef33607d60d\"]},{\"align_items\":\"stretch\"},{},{\"value\":\"<h4 style='font-weight:bold;'>array_scaler widget ---> padding:</h4>\",\"layout\":\"IPY_MODEL_f3cb6dc80dcd4aa4bde1ec4e2843801f\"},{\"layout\":\"IPY_MODEL_4dc76a9f949043ecae05945c16203045\",\"children\":[\"IPY_MODEL_3f3d3c08a80a4ed2adfe2618b72eeff5\"]},{\"align_items\":\"stretch\"},{\"width\":\"80%\"},{\"description\":\"File Name\",\"value\":\"array_scaler.pkl\",\"layout\":\"IPY_MODEL_89af0d0e7bcd40ebb759e52b502c9600\"},{\"layout\":\"IPY_MODEL_45137baad3f74f3f8709f653d1f28a1e\",\"children\":[\"IPY_MODEL_f32ed726be1e40e4801f84ac30f58ac6\"]},{\"align_items\":\"stretch\"},{},{\"description\":\"Save\",\"layout\":\"IPY_MODEL_a105855b6436478b8042f2c7934e059b\"},{\"layout\":\"IPY_MODEL_4b5a2d8d458d4629b0558bcb19657027\",\"children\":[\"IPY_MODEL_2b3c22ad06224dcc86754576984fc7f6\"]},{\"layout\":\"IPY_MODEL_f6f5c3c2aaa04786a0f06c20c90e51f9\",\"children\":[\"IPY_MODEL_d161baae67554914bbf1d293ee734384\",\"IPY_MODEL_591d5393c396487ea12f0183d19cb6d6\",\"IPY_MODEL_7823cfe81af349fbaf0002e5baa0d241\",\"IPY_MODEL_eab3a87d16de4154b089c8c71fcce71f\",\"IPY_MODEL_925215de8a9646409860ecc279301d98\",\"IPY_MODEL_4512b4c40adf4d04ad1f97b860f28331\"]},{\"layout\":\"IPY_MODEL_d0cab8b028324043b3f6000396d64d8a\",\"children\":[\"IPY_MODEL_10cfe160ebf94f84a8f674e7429bcc7a\"]},{\"align_items\":\"stretch\"},{\"align_items\":\"stretch\",\"display\":\"flex\"},{\"align_items\":\"stretch\"},{\"flex_flow\":\"column\",\"display\":\"flex\"},{\"align_items\":\"stretch\"},{},{\"description\":\"range\",\"value\":[0,100],\"_range\":true,\"layout\":\"IPY_MODEL_580597fa26c64fc7bd039bf9de7ced68\"},{\"layout\":\"IPY_MODEL_7f9641072d77417f954c96bac2e6dd6f\",\"children\":[\"IPY_MODEL_96697d2bb83448d3bc601bc4496a599b\"]},{\"align_items\":\"stretch\"},{\"align_items\":\"stretch\",\"display\":\"flex\"},{\"align_items\":\"stretch\"},{},{\"description\":\"Apply\",\"_options_labels\":[\"one\",\"two\",\"three\"],\"value\":\"one\",\"layout\":\"IPY_MODEL_736614e018124f24a525e1ad95910d51\"},{\"layout\":\"IPY_MODEL_ddf9d5b06c2d4257808d90ea645a4fd9\",\"children\":[\"IPY_MODEL_c2129208a8f24bcf91e05bd452a1e3b1\"]},{\"align_items\":\"stretch\"},{},{\"description\":\"Scale\",\"value\":true,\"layout\":\"IPY_MODEL_ac5e273678964203bbd6ad0bd3668327\"},{\"layout\":\"IPY_MODEL_494e674def3f440fb50e768a79392c31\",\"children\":[\"IPY_MODEL_c510be323d9d42bcbeccabf8b60366f1\"]},{\"layout\":\"IPY_MODEL_1f9f5ff89cc14dc292282527b699da96\",\"children\":[\"IPY_MODEL_26ae7f3a9b0c44cd80df56fdec2e1141\",\"IPY_MODEL_bf8022bd877f4b858270f265441d450c\"]},{\"layout\":\"IPY_MODEL_76e6b07701a640b7bd6b966c752bce8f\",\"children\":[\"IPY_MODEL_125c5f2f1314421db6e9318549e4c69f\"]},{\"layout\":\"IPY_MODEL_f555618b51b14eb3b859caf0d3a6cba4\",\"children\":[\"IPY_MODEL_18ddc37e99584214bc7431b3fb2d1173\",\"IPY_MODEL_a28c793c7f5b4296b4ddf312a88dde9c\"]},{\"layout\":\"IPY_MODEL_bab75585f32d4fcebb15dacaa38e2b26\",\"children\":[\"IPY_MODEL_bcc35e5628d148c794692b60193a4dfe\"]},{\"layout\":\"IPY_MODEL_16c142ac2e04469296f39d2837b0bece\",\"children\":[\"IPY_MODEL_c829b3d1334f4885b9f2f74ee94b0bcf\"]},{\"layout\":\"IPY_MODEL_181faddebcf64efba5411ddb3e2bcaf3\",\"children\":[\"IPY_MODEL_4dc98b2eff1c46e2a690564ecc73a6ac\"]},{\"layout\":\"IPY_MODEL_6746105514aa4cd78423ea1fd3bee2e5\",\"children\":[\"IPY_MODEL_ba8d98db5276428d86dd2c67a56470d9\",\"IPY_MODEL_a0fdcf9afa9f46aa82032d2002e67eb2\",\"IPY_MODEL_fbf872c41b254a8ba0692b822c9ff5c5\",\"IPY_MODEL_3eeae69df9ca476c855daac9a5b3a646\",\"IPY_MODEL_1e9abacfc5b74bef9509cfeeb1be309f\",\"IPY_MODEL_45cd3934d0524e538594891e069ed656\",\"IPY_MODEL_a19932121d8e40a0af99228ad12cd986\"]},{\"layout\":\"IPY_MODEL_44b59df209ee4082bb6e34ddf683dbeb\",\"children\":[\"IPY_MODEL_6ca70b97f9574fdf968307073cf9bb85\"]}]</script>"
      ]
     },
     "metadata": {
      "isWidgetSnapshot": true
     },
     "output_type": "display_data"
    }
   ],
   "source": [
    "dboard.state_manager"
   ]
  },
  {
   "cell_type": "markdown",
   "metadata": {},
   "source": [
    "In this example we are going to modify the following:\n",
    "\n",
    "- **Padding of every component**: 0.5em, dropdown and checkbox 0.25em.\n",
    "- **Justify value of the checkbox**: center\n",
    "- **width of the dropdown**: 100%\n",
    "- **width of the Dashboard**: 22em\n",
    "- **border of the whole Dashboard**: blue solid 0.1em"
   ]
  },
  {
   "cell_type": "markdown",
   "metadata": {},
   "source": [
    "<a id='load_and_save'></a>"
   ]
  },
  {
   "cell_type": "markdown",
   "metadata": {},
   "source": [
    "## 5.2 Accessing, loading and changing the layout"
   ]
  },
  {
   "cell_type": "markdown",
   "metadata": {},
   "source": [
    "[Back to top](#index)"
   ]
  },
  {
   "cell_type": "markdown",
   "metadata": {},
   "source": [
    "The modified layout can be read and changed accesing the *state* attribute of a dashboard, and can be saved as a dict by clicking the save button in the state manager. This way the state dict will be saved as a pickle file. \n",
    "\n",
    "The folowing example illustrates this process. Note that the A widget behaves on its own and the B and C are linked. This is due to both having the same name (the name of the first element of the Dashboard)"
   ]
  },
  {
   "cell_type": "code",
   "execution_count": 11,
   "metadata": {
    "collapsed": false,
    "scrolled": true
   },
   "outputs": [
    {
     "data": {
      "image/png": "[encoded data removed]",
      "text/html": [
       "<img src=data:image/png;base64,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 class=\"jupyter-widget\">\n",
       "<script type=\"application/vnd.jupyter-embedded-widgets\">[{\"align_items\":\"stretch\"},{\"align_items\":\"stretch\",\"display\":\"flex\"},{\"align_items\":\"stretch\"},{\"align_self\":\"blue solid 0.1em\",\"left\":\"blue solid 0.1em\",\"right\":\"blue solid 0.1em\",\"top\":\"blue solid 0.1em\",\"justify_content\":\"blue solid 0.1em\",\"visibility\":\"blue solid 0.1em\",\"align_items\":\"blue solid 0.1em\",\"margin\":\"blue solid 0.1em\",\"align_content\":\"blue solid 0.1em\",\"padding\":\"blue solid 0.1em\",\"flex_flow\":\"blue solid 0.1em\",\"display\":\"blue solid 0.1em\",\"overflow\":\"blue solid 0.1em\",\"flex\":\"blue solid 0.1em\",\"bottom\":\"blue solid 0.1em\",\"border\":\"blue solid 0.1em\",\"width\":\"22.0em\"},{\"align_items\":\"stretch\",\"padding\":\"0.5%\"},{},{\"description\":\"range\",\"value\":[0,100],\"_range\":true,\"layout\":\"IPY_MODEL_bc73e4b09c664d18be4ed0f3a21e2ac7\"},{\"layout\":\"IPY_MODEL_b040f3dbfc1a4ea5810a1170f72bc95f\",\"children\":[\"IPY_MODEL_beb49263e631414fbb452e397ca8e964\"]},{\"align_items\":\"stretch\",\"padding\":\"0.5%\"},{\"align_items\":\"stretch\",\"display\":\"flex\"},{\"align_items\":\"stretch\",\"padding\":\"0.25%\"},{\"justify_content\":\"center\",\"width\":\"100.0%\"},{\"description\":\"Apply\",\"_options_labels\":[\"one\",\"two\",\"three\"],\"value\":\"one\",\"layout\":\"IPY_MODEL_85e2d2e28f9c4d618f9b48a71c183ac6\"},{\"layout\":\"IPY_MODEL_6b9fe2787c1b416b8a287b91e0afc57e\",\"children\":[\"IPY_MODEL_674565b7303d4c339deec14282154d4b\"]},{\"align_items\":\"stretch\",\"padding\":\"0.25%\"},{\"justify_content\":\"center\"},{\"description\":\"Scale\",\"value\":true,\"layout\":\"IPY_MODEL_e028b41e86c443328cdc0df510e24573\"},{\"layout\":\"IPY_MODEL_99f72ee3220f41568e591f3267882edf\",\"children\":[\"IPY_MODEL_e9540ebe1f6c42fba3792c32e52bd06f\"]},{\"layout\":\"IPY_MODEL_38f97a3bcf1544f088feac7d695b1b3a\",\"children\":[\"IPY_MODEL_e63072ca823c4d52b8fc8254f44e3d41\",\"IPY_MODEL_be25cc645b1e4c32872fd7e6efeecd05\"]},{\"layout\":\"IPY_MODEL_ec96d5c77b7049a4b1db712859d4c9c9\",\"children\":[\"IPY_MODEL_c8bf3f26022e494fb48fcd5888883006\"]},{\"layout\":\"IPY_MODEL_a8283ec0282841edb93ef676d5b76474\",\"children\":[\"IPY_MODEL_1d847d45b37c47898d290313abbf6221\",\"IPY_MODEL_a2eab12b8349407ba2eabf4a51300923\"]},{\"layout\":\"IPY_MODEL_446f7f08c5b14435bb6af61950f9227a\",\"children\":[\"IPY_MODEL_f144e88977b742329c43449e13667d7b\"]},{\"align_items\":\"stretch\"},{\"align_self\":\"blue solid 0.1em\",\"left\":\"blue solid 0.1em\",\"right\":\"blue solid 0.1em\",\"top\":\"blue solid 0.1em\",\"justify_content\":\"blue solid 0.1em\",\"visibility\":\"blue solid 0.1em\",\"align_items\":\"blue solid 0.1em\",\"margin\":\"blue solid 0.1em\",\"align_content\":\"blue solid 0.1em\",\"padding\":\"blue solid 0.1em\",\"flex_flow\":\"blue solid 0.1em\",\"display\":\"blue solid 0.1em\",\"overflow\":\"blue solid 0.1em\",\"flex\":\"blue solid 0.1em\",\"bottom\":\"blue solid 0.1em\",\"border\":\"blue solid 0.1em\",\"width\":\"22.0em\"},{\"align_items\":\"stretch\",\"padding\":\"0.5%\"},{},{\"description\":\"range\",\"value\":[0,100],\"_range\":true,\"layout\":\"IPY_MODEL_5be2a0335bfe436cbd7392d99f52694f\"},{\"layout\":\"IPY_MODEL_23103a36638a42ed82682d2e9ab61b0d\",\"children\":[\"IPY_MODEL_4cd38854bf5847f5b608c17ecd8621b6\"]},{\"align_items\":\"stretch\",\"padding\":\"0.5%\"},{\"align_items\":\"stretch\",\"display\":\"flex\"},{\"align_items\":\"stretch\",\"padding\":\"0.25%\"},{\"justify_content\":\"center\",\"width\":\"100.0%\"},{\"description\":\"Apply\",\"_options_labels\":[\"one\",\"two\",\"three\"],\"value\":\"one\",\"layout\":\"IPY_MODEL_bb9397c118c14dd2a49d6d6a2646b383\"},{\"layout\":\"IPY_MODEL_280400bd9372481a91a81cff1f89e891\",\"children\":[\"IPY_MODEL_4ad9f29a5b9c4dbebbc1649f801ca66f\"]},{\"align_items\":\"stretch\",\"padding\":\"0.25%\"},{\"justify_content\":\"center\"},{\"description\":\"Scale\",\"value\":true,\"layout\":\"IPY_MODEL_c5d6bd59157944ffb6f921f9bec6d9d6\"},{\"layout\":\"IPY_MODEL_fcd70986bd384dd28720000461c39130\",\"children\":[\"IPY_MODEL_bdf975ac743942ae9983cd882b8b58b6\"]},{\"layout\":\"IPY_MODEL_9a19171ba8da4317b58d222193299a75\",\"children\":[\"IPY_MODEL_44a44f6b36994a3ebbd40ce15c8504de\",\"IPY_MODEL_4df8d0e111984d07a63990fad7bb7ccc\"]},{\"layout\":\"IPY_MODEL_a2f45febda044fe3839dadf426585fb8\",\"children\":[\"IPY_MODEL_91c00696c8c149a2ab26854d6963dcda\"]},{\"layout\":\"IPY_MODEL_9d852ae84bd841ee9d001e40838ca4db\",\"children\":[\"IPY_MODEL_2743bbb0057e4721beada783228b457b\",\"IPY_MODEL_4e178fb4dff0463181706337a00d3c9b\"]},{\"layout\":\"IPY_MODEL_cba903409e4244a7b1956abf0059dd6a\",\"children\":[\"IPY_MODEL_49e0b0b7744348c7a69cd7b39ebf08da\"]},{\"layout\":\"IPY_MODEL_4573a767653543d5891db9eccdc4cdd1\",\"children\":[\"IPY_MODEL_55e44be840e5429a9e0865750259e570\",\"IPY_MODEL_99ff87caf05e406d8632e6adc9e05b06\",\"IPY_MODEL_99ff87caf05e406d8632e6adc9e05b06\"]},{\"layout\":\"IPY_MODEL_593e5d99190c48d5b6ae6e5cd0ac0ca9\",\"children\":[\"IPY_MODEL_b25d6af6d1554fb5ae7e0f7b136c2803\"]}]</script>"
      ]
     },
     "metadata": {
      "isWidgetSnapshot": true
     },
     "output_type": "display_data"
    }
   ],
   "source": [
    "A= Dashboard(test_dash,state='array_scaler.pkl',name='A') #instantiating with the path of a saved layout.\n",
    "custom_layout = dict(A.state)\n",
    "B = Dashboard(test_dash,state=custom_layout) #instantiating with a dict \n",
    "C = Dashboard(test_dash)#Init with default layout.\n",
    "C.state = custom_layout #dinamically changing the layout\n",
    "Dashboard(['r$N=row',[A,B,C]]).widget #This is the new widgets.Hbox(children=[A.widget, B.widget, C.widget])"
   ]
  },
  {
   "cell_type": "code",
   "execution_count": 18,
   "metadata": {
    "collapsed": false
   },
   "outputs": [
    {
     "data": {
      "text/plain": [
       "{'array_scaler': {'css_traits': {'align_content': {'target': 'blue solid 0.1em',\n",
       "    'widget': ''},\n",
       "   'align_items': {'target': 'blue solid 0.1em', 'widget': ''},\n",
       "   'align_self': {'target': 'blue solid 0.1em', 'widget': ''},\n",
       "   'border': {'target': 'blue solid 0.1em', 'widget': ''},\n",
       "   'bottom': {'target': 'blue solid 0.1em', 'widget': ''},\n",
       "   'display': {'target': 'blue solid 0.1em', 'widget': ''},\n",
       "   'flex': {'target': 'blue solid 0.1em', 'widget': ''},\n",
       "   'flex_flow': {'target': 'blue solid 0.1em', 'widget': ''},\n",
       "   'height': {'target': '', 'widget': ''},\n",
       "   'justify_content': {'target': 'blue solid 0.1em', 'widget': ''},\n",
       "   'left': {'target': 'blue solid 0.1em', 'widget': ''},\n",
       "   'margin': {'target': 'blue solid 0.1em', 'widget': ''},\n",
       "   'max_height': {'target': '', 'widget': ''},\n",
       "   'max_width': {'target': '', 'widget': ''},\n",
       "   'min_height': {'target': '', 'widget': ''},\n",
       "   'min_width': {'target': '', 'widget': ''},\n",
       "   'overflow': {'target': 'blue solid 0.1em', 'widget': ''},\n",
       "   'padding': {'target': 'blue solid 0.1em', 'widget': ''},\n",
       "   'right': {'target': 'blue solid 0.1em', 'widget': ''},\n",
       "   'top': {'target': 'blue solid 0.1em', 'widget': ''},\n",
       "   'visibility': {'target': 'blue solid 0.1em', 'widget': ''},\n",
       "   'width': {'target': '22.0em', 'widget': ''}},\n",
       "  'widget_attrs': {'visible': True}},\n",
       " 'dd_sel': {'css_traits': {'align_content': {'target': '', 'widget': ''},\n",
       "   'align_items': {'target': '', 'widget': ''},\n",
       "   'align_self': {'target': '', 'widget': ''},\n",
       "   'border': {'target': '', 'widget': ''},\n",
       "   'bottom': {'target': '', 'widget': ''},\n",
       "   'display': {'target': '', 'widget': ''},\n",
       "   'flex': {'target': '', 'widget': ''},\n",
       "   'flex_flow': {'target': '', 'widget': ''},\n",
       "   'height': {'target': '', 'widget': ''},\n",
       "   'justify_content': {'target': 'center', 'widget': ''},\n",
       "   'left': {'target': '', 'widget': ''},\n",
       "   'margin': {'target': '', 'widget': ''},\n",
       "   'max_height': {'target': '', 'widget': ''},\n",
       "   'max_width': {'target': '', 'widget': ''},\n",
       "   'min_height': {'target': '', 'widget': ''},\n",
       "   'min_width': {'target': '', 'widget': ''},\n",
       "   'overflow': {'target': '', 'widget': ''},\n",
       "   'padding': {'target': '', 'widget': '0.25%'},\n",
       "   'right': {'target': '', 'widget': ''},\n",
       "   'top': {'target': '', 'widget': ''},\n",
       "   'visibility': {'target': '', 'widget': ''},\n",
       "   'width': {'target': '100.0%', 'widget': ''}},\n",
       "  'widget_attrs': {'visible': True}},\n",
       " 'main_row': {'css_traits': {'align_content': {'target': '', 'widget': ''},\n",
       "   'align_items': {'target': '', 'widget': ''},\n",
       "   'align_self': {'target': '', 'widget': ''},\n",
       "   'border': {'target': '', 'widget': ''},\n",
       "   'bottom': {'target': '', 'widget': ''},\n",
       "   'display': {'target': '', 'widget': ''},\n",
       "   'flex': {'target': '', 'widget': ''},\n",
       "   'flex_flow': {'target': '', 'widget': ''},\n",
       "   'height': {'target': '', 'widget': ''},\n",
       "   'justify_content': {'target': '', 'widget': ''},\n",
       "   'left': {'target': '', 'widget': ''},\n",
       "   'margin': {'target': '', 'widget': ''},\n",
       "   'max_height': {'target': '', 'widget': ''},\n",
       "   'max_width': {'target': '', 'widget': ''},\n",
       "   'min_height': {'target': '', 'widget': ''},\n",
       "   'min_width': {'target': '', 'widget': ''},\n",
       "   'overflow': {'target': '', 'widget': ''},\n",
       "   'padding': {'target': '', 'widget': '0.5%'},\n",
       "   'right': {'target': '', 'widget': ''},\n",
       "   'top': {'target': '', 'widget': ''},\n",
       "   'visibility': {'target': '', 'widget': ''},\n",
       "   'width': {'target': '', 'widget': ''}},\n",
       "  'widget_attrs': {'visible': True}},\n",
       " 'scale_chk': {'css_traits': {'align_content': {'target': '', 'widget': ''},\n",
       "   'align_items': {'target': '', 'widget': ''},\n",
       "   'align_self': {'target': '', 'widget': ''},\n",
       "   'border': {'target': '', 'widget': ''},\n",
       "   'bottom': {'target': '', 'widget': ''},\n",
       "   'display': {'target': '', 'widget': ''},\n",
       "   'flex': {'target': '', 'widget': ''},\n",
       "   'flex_flow': {'target': '', 'widget': ''},\n",
       "   'height': {'target': '', 'widget': ''},\n",
       "   'justify_content': {'target': 'center', 'widget': ''},\n",
       "   'left': {'target': '', 'widget': ''},\n",
       "   'margin': {'target': '', 'widget': ''},\n",
       "   'max_height': {'target': '', 'widget': ''},\n",
       "   'max_width': {'target': '', 'widget': ''},\n",
       "   'min_height': {'target': '', 'widget': ''},\n",
       "   'min_width': {'target': '', 'widget': ''},\n",
       "   'overflow': {'target': '', 'widget': ''},\n",
       "   'padding': {'target': '', 'widget': '0.25%'},\n",
       "   'right': {'target': '', 'widget': ''},\n",
       "   'top': {'target': '', 'widget': ''},\n",
       "   'visibility': {'target': '', 'widget': ''},\n",
       "   'width': {'target': '', 'widget': ''}},\n",
       "  'widget_attrs': {'visible': True}},\n",
       " 'scale_slider': {'css_traits': {'align_content': {'target': '', 'widget': ''},\n",
       "   'align_items': {'target': '', 'widget': ''},\n",
       "   'align_self': {'target': '', 'widget': ''},\n",
       "   'border': {'target': '', 'widget': ''},\n",
       "   'bottom': {'target': '', 'widget': ''},\n",
       "   'display': {'target': '', 'widget': ''},\n",
       "   'flex': {'target': '', 'widget': ''},\n",
       "   'flex_flow': {'target': '', 'widget': ''},\n",
       "   'height': {'target': '', 'widget': ''},\n",
       "   'justify_content': {'target': '', 'widget': ''},\n",
       "   'left': {'target': '', 'widget': ''},\n",
       "   'margin': {'target': '', 'widget': ''},\n",
       "   'max_height': {'target': '', 'widget': ''},\n",
       "   'max_width': {'target': '', 'widget': ''},\n",
       "   'min_height': {'target': '', 'widget': ''},\n",
       "   'min_width': {'target': '', 'widget': ''},\n",
       "   'overflow': {'target': '', 'widget': ''},\n",
       "   'padding': {'target': '', 'widget': '0.5%'},\n",
       "   'right': {'target': '', 'widget': ''},\n",
       "   'top': {'target': '', 'widget': ''},\n",
       "   'visibility': {'target': '', 'widget': ''},\n",
       "   'width': {'target': '', 'widget': ''}},\n",
       "  'widget_attrs': {'visible': True}}}"
      ]
     },
     "execution_count": 18,
     "metadata": {},
     "output_type": "execute_result"
    }
   ],
   "source": [
    "C.state"
   ]
  }
 ],
 "metadata": {
  "kernelspec": {
   "display_name": "Python 3",
   "language": "python",
   "name": "python3"
  },
  "language_info": {
   "codemirror_mode": {
    "name": "ipython",
    "version": 3
   },
   "file_extension": ".py",
   "mimetype": "text/x-python",
   "name": "python",
   "nbconvert_exporter": "python",
   "pygments_lexer": "ipython3",
   "version": "3.5.1"
  },
  "widgets": {
   "state": {
    "000ce956f2e544cf8a8beab14cd4aafd": {
     "views": []
    },
    "0027f3797f3b479598d639a512a38560": {
     "views": []
    },
    "00a3774c340e4b5681a2c07cac21c005": {
     "views": []
    },
    "00b117f4e37746d0ab6f9b6bf8a38396": {
     "views": []
    },
    "016e1781ef634480a5aabe577ffbcb0b": {
     "views": []
    },
    "01883e3814594ac3a707fcc179048c63": {
     "views": []
    },
    "01b2760ed9f344af9650262d02125490": {
     "views": []
    },
    "01e25c44f72440b9933ecec2ff490f97": {
     "views": []
    },
    "01edd6e5f6c84ea3a62c208161279f5e": {
     "views": []
    },
    "02c64352d0884e639894dd09f23674ee": {
     "views": []
    },
    "02c7f55321264739868af0f8dd653dcd": {
     "views": []
    },
    "037cb600b84b4f57b1a79653f2b4619a": {
     "views": []
    },
    "039658a1417f4be0b554f4c2508e59ca": {
     "views": []
    },
    "040d9cbd02e34bbe94155322a798ed3b": {
     "views": []
    },
    "0429aa25e3a94365873010ad3e0e2e67": {
     "views": []
    },
    "04a8a1fdfc6e4841b0f3900d8fc229f2": {
     "views": []
    },
    "04bdf5fa37164726a91d249515d70063": {
     "views": []
    },
    "04c59e299b05449cb5a03b183de307e8": {
     "views": []
    },
    "052fb8c81e6a4d6d874c86af7211cf68": {
     "views": []
    },
    "053e9c67dfaf446eab65ca580b1db201": {
     "views": []
    },
    "05da446eb75642aa81465a267ed7a3c9": {
     "views": []
    },
    "06fa0baad0cb4de6b13189803556b602": {
     "views": []
    },
    "06fc26444ff14998a6c681dc77a859c5": {
     "views": []
    },
    "074871679cf04dbca05b62ee20cce53c": {
     "views": []
    },
    "08625f9b6ebe46da8277be9946ceb8b0": {
     "views": []
    },
    "0919cc94409049b0b6a208895e9b3f46": {
     "views": []
    },
    "0963a08ca1ec4441bbe4b33e44ca69d5": {
     "views": []
    },
    "09c4751494cf49e2a61201cf7af40a23": {
     "views": []
    },
    "0ab02a7cff8e499f898344c558c82e07": {
     "views": []
    },
    "0ae97228edf14bf694e5314045e29b9f": {
     "views": []
    },
    "0af4abc6216140d299bc8f824cbda7d5": {
     "views": []
    },
    "0b56d1d2c13347df8df4a13d32a045cb": {
     "views": []
    },
    "0bae7048041d412cb173bd6b912e1855": {
     "views": []
    },
    "0bb320ea98034cf79768ab3d0a47a085": {
     "views": []
    },
    "0c5436604f55420bb7d779098133a36a": {
     "views": []
    },
    "0c75c75cf0874829a7ecde60e7954d1f": {
     "views": []
    },
    "0cc09644ae85457786370459a11fc112": {
     "views": []
    },
    "0d12a738b2014df0b0822afc3f5c5416": {
     "views": []
    },
    "0d14d70b6db348d3bd70c8eba6630148": {
     "views": []
    },
    "0d30a7215c834dad8867f789c72dfd65": {
     "views": []
    },
    "0d52d0ad86464d5ba3a9b333d915a21f": {
     "views": []
    },
    "0d8f9283b84347e1a47f09dddd7d7edc": {
     "views": []
    },
    "0d92defebc2b4f40a02f5231e57a110b": {
     "views": []
    },
    "0e00187e56be4e7584d868a559363e98": {
     "views": []
    },
    "0e4041d9c1614cdebf52cde445639c23": {
     "views": []
    },
    "0f3231ea31e6421d9bb1d71ee9deb8fc": {
     "views": []
    },
    "101e5a84f92142a6baf98eb989d7a7ed": {
     "views": []
    },
    "1059777ae8fa45c48a43ea79a5394927": {
     "views": []
    },
    "10cfe160ebf94f84a8f674e7429bcc7a": {
     "views": []
    },
    "110b5effe7af45549f31fde48256a827": {
     "views": []
    },
    "110b69cbb8e84d42b4210cdcd047b4cc": {
     "views": []
    },
    "11195b530e264ba38a26cef648920846": {
     "views": []
    },
    "1151278e53384661997915c1dc403a57": {
     "views": []
    },
    "1175dc12a69e4021b1fcfad05b8bc5dd": {
     "views": []
    },
    "11c6cbdb06f54d869e60f67c45bfe09b": {
     "views": []
    },
    "11ef59812b2e44a78bb9b951b5ff3b67": {
     "views": []
    },
    "120d9d6e30e0472ea4a67151f03a9050": {
     "views": []
    },
    "123602416e824e809e7736322c755b66": {
     "views": []
    },
    "125c5f2f1314421db6e9318549e4c69f": {
     "views": []
    },
    "12e78199f31f4e5b822246780e587898": {
     "views": []
    },
    "13ec7dee98674f8e9124464a88a668ec": {
     "views": []
    },
    "148de489d64e49479c364a5039a3709c": {
     "views": []
    },
    "15960a5a79e440fcb05ba565f6cf59d0": {
     "views": []
    },
    "159954a578e64e0293ce0453c938c641": {
     "views": []
    },
    "15ac483ba1e94752b79e89e9affd0b0f": {
     "views": []
    },
    "15d78ea5d73e470997e6f31d0de86348": {
     "views": []
    },
    "162f130eb3404077a331fa7d924173ed": {
     "views": []
    },
    "169c6a25a5064469a6eef735e2af1ce9": {
     "views": []
    },
    "16acf3d03d654b1abdfe3ce1d0d70e2a": {
     "views": []
    },
    "16c142ac2e04469296f39d2837b0bece": {
     "views": []
    },
    "1705a1fe8376467b88df0f848dd0ec54": {
     "views": []
    },
    "17c811fe6fa141b18b78409172b71fec": {
     "views": []
    },
    "181faddebcf64efba5411ddb3e2bcaf3": {
     "views": []
    },
    "182f856551ae4e2eb4ca5520400b00d4": {
     "views": []
    },
    "18d75092c3774fdb91983f3ce99d3bbc": {
     "views": []
    },
    "18ddc37e99584214bc7431b3fb2d1173": {
     "views": []
    },
    "1987c8638044434f93a078b959f5e3b1": {
     "views": []
    },
    "19e972b88d0a4b6b8d3210bd3fa53cf4": {
     "views": []
    },
    "1a2de989ceba46aa927d6554ad8c9bc4": {
     "views": []
    },
    "1a541f30e786468a87e72decb4994d2b": {
     "views": []
    },
    "1a552fede27d495f9fb3c6ce49d0a173": {
     "views": []
    },
    "1a5a68d7b011480c90496a4a62d70aa4": {
     "views": []
    },
    "1a5d75fa5b324c2795008e559dcda0f3": {
     "views": []
    },
    "1acf0ef463e34b009d2bcd64412d1914": {
     "views": []
    },
    "1b240c3bb4374e26968ec0e675bc309c": {
     "views": []
    },
    "1b3a04f977a34d5da4c0d64a4f385220": {
     "views": []
    },
    "1b40d8d26c224b7f958585f1edff9109": {
     "views": []
    },
    "1bcd00fbecd640ffb9f9d532b36316ba": {
     "views": []
    },
    "1bd6d84dc71d4ccb8c344c3c2d013f22": {
     "views": [
      {
       "cell_index": 32
      }
     ]
    },
    "1c5f73abd4f246de8e20e110f285f95f": {
     "views": []
    },
    "1cd8dc3aeb2543c8bec8fd94fb5e0bc7": {
     "views": []
    },
    "1cff9cb233e14390a3fd39a28280e185": {
     "views": []
    },
    "1d5986b0c8ed44efa76a3eb1b85416f9": {
     "views": []
    },
    "1d847d45b37c47898d290313abbf6221": {
     "views": []
    },
    "1d9fb5728896404aab999c9f7f5fa6b2": {
     "views": []
    },
    "1dd593a7cb184c6297dc160ca84fc790": {
     "views": []
    },
    "1dfe4d8091b64c52a6e6ed09047116c2": {
     "views": []
    },
    "1e62dc9ba9f24e358bef532d534202c4": {
     "views": []
    },
    "1e788d64046f4d2ba149c93416b872be": {
     "views": []
    },
    "1e91c7f92c524fe49911833ab6b4e36f": {
     "views": []
    },
    "1e9abacfc5b74bef9509cfeeb1be309f": {
     "views": []
    },
    "1ea5b596eb374d33816bfaf2e01df0c2": {
     "views": []
    },
    "1ee98caf37ba401e874bf7415242d5cf": {
     "views": []
    },
    "1f239e4df4b44a9ca18c6e247c93d1fb": {
     "views": []
    },
    "1f2618168dfc4dc8aafecedf16f1ef9f": {
     "views": []
    },
    "1f380dcb303b44e19d4f4d91d1e19617": {
     "views": []
    },
    "1f9f5ff89cc14dc292282527b699da96": {
     "views": []
    },
    "1fde39d6bb5e4d12b5865dc56c335c6f": {
     "views": []
    },
    "204ec91f661b49b1ae44e506ec232579": {
     "views": []
    },
    "205aeaf5f45e452d85d76c7492a55629": {
     "views": []
    },
    "20688abead8d46c0aba1f490f9e9ed76": {
     "views": []
    },
    "20b9275cab084e8f979467ac53fb387a": {
     "views": []
    },
    "2140b17ec9624ff19ed2fb4e8aa3a28e": {
     "views": []
    },
    "219cb9281bf34ef88123d074065822bb": {
     "views": []
    },
    "222d9e4e65db4c8fa6c7a0a2ff2fcbe4": {
     "views": []
    },
    "225cabec1c0a4754b3225a720bfb2663": {
     "views": []
    },
    "23103a36638a42ed82682d2e9ab61b0d": {
     "views": []
    },
    "23255bd4e62947218a0114d6cb55d03b": {
     "views": []
    },
    "23e7ef56d66f44438bea7625c0b81db2": {
     "views": []
    },
    "2405c9b38aa14a2e80e126f821d144ed": {
     "views": []
    },
    "2405f6ab9d1a48e9bd03173a4797b721": {
     "views": []
    },
    "24a6453e6c3b47adb578e9f3ac7ac918": {
     "views": []
    },
    "24ab347253c749c287fee25da3011489": {
     "views": []
    },
    "254d5050ffa641f7979cb1ec992502e8": {
     "views": []
    },
    "256c302251b14803b0931376dff35087": {
     "views": []
    },
    "25d274579bcd4de595c87ddfffeec917": {
     "views": []
    },
    "266912f719b44c5ab03cabf703875338": {
     "views": []
    },
    "26ae7f3a9b0c44cd80df56fdec2e1141": {
     "views": []
    },
    "2743bbb0057e4721beada783228b457b": {
     "views": []
    },
    "280400bd9372481a91a81cff1f89e891": {
     "views": []
    },
    "28352b74cb21479ea1dc41590dfdcd7d": {
     "views": []
    },
    "284712222aed49b7b832663595c94df0": {
     "views": []
    },
    "284e3b86cd8c472e9a004112bf1c816c": {
     "views": []
    },
    "2987c09860c748268a8ae820de74b364": {
     "views": []
    },
    "29ede6bbd3f845e7a3966f3dc2f0e796": {
     "views": []
    },
    "29f3a367c6174812bd2f00916360b468": {
     "views": []
    },
    "2b16b0d184a94a608b4011d1a9c7e2a7": {
     "views": []
    },
    "2b3c22ad06224dcc86754576984fc7f6": {
     "views": []
    },
    "2c395d29363b461d9c584f97016eb742": {
     "views": []
    },
    "2c6761bc428d4bfb8f2b1a81f0b71517": {
     "views": []
    },
    "2c708ff7f9434baea467dd76206ab489": {
     "views": []
    },
    "2cb67f1f847e42a39a045f86b7ecde7d": {
     "views": []
    },
    "2cb9fd32b8774b2a9e742194ddb10f87": {
     "views": []
    },
    "2ce0b80998c94723925747182c1f0a36": {
     "views": []
    },
    "2ce59cc5eae741c68f9e13d07d05cc36": {
     "views": []
    },
    "2d2df09b8c464a65988e8274e0b1ed7c": {
     "views": []
    },
    "2d3751d39d8f45cdb9ef836671a7fa7b": {
     "views": []
    },
    "2d8339d45b7b47feb4a30f0be11af412": {
     "views": []
    },
    "2dbef9119e074bfa859f9194dc791ca8": {
     "views": []
    },
    "2dc8fa284a1c4dc3ba1883b133e932ce": {
     "views": []
    },
    "2de0a9ec826b4d27ad682b52ccf5528d": {
     "views": []
    },
    "2df9c0adff7d421c8f34bb8376cc69eb": {
     "views": []
    },
    "2e14506bd90c4dc8a7f75cdc34f793b6": {
     "views": []
    },
    "2e722768b4084b14bbbecab550ccc9ad": {
     "views": []
    },
    "2efc9d1fe4ca4a248f5f6cda9966bacd": {
     "views": []
    },
    "2f89cf420dfb40258ff03bf0f2c843c6": {
     "views": []
    },
    "2fc86f001eb8419ea99245a85bd27d0a": {
     "views": []
    },
    "3015f8104c4e452ab79017db28a8a26e": {
     "views": []
    },
    "301635f8470a4b41a04ec89ed7dfb9fe": {
     "views": []
    },
    "304a639eb7554baaba1bf7cec97b7e21": {
     "views": []
    },
    "311c5312c8e34e30afce676af17f1d75": {
     "views": []
    },
    "3150337a17d048438b737d4bcb1e7070": {
     "views": []
    },
    "31737fca84c34889b7ed3d054c412c32": {
     "views": []
    },
    "31ae3cb17de5454c9746e8e7ff635a06": {
     "views": []
    },
    "32330e85b3de45adb20d88af187a8575": {
     "views": []
    },
    "32429f32e4c549cc8538158202842acb": {
     "views": []
    },
    "32928bcc54ed448b8ec53d0c59d5d106": {
     "views": []
    },
    "32a6e20e719649b098c5a08781be27ab": {
     "views": []
    },
    "32a86465eb1746438471a16c943c6cd0": {
     "views": []
    },
    "33580864dfba4a78b2fbd195fb7484b1": {
     "views": []
    },
    "338d42e8b7914692b7a9a976714726b9": {
     "views": []
    },
    "33e69d2b381e4cad81fd0d301a25153d": {
     "views": []
    },
    "341d0ee3afbd4cffb9f7695f2cfd3341": {
     "views": []
    },
    "34872c13da4b4fa083c4b6b4f7b86792": {
     "views": []
    },
    "34bdb19e202348d8ac87703222dd244d": {
     "views": []
    },
    "350d47eeee474939bd417511553014fc": {
     "views": []
    },
    "3532e0734e5143bc9d7bf40cbb2aecf6": {
     "views": []
    },
    "35496e492ad043148c33102a88bdf251": {
     "views": []
    },
    "35fb8bab80a24d13ba5b1baf010539f0": {
     "views": []
    },
    "36215068f8034ca7a5943fe9e8e03d1e": {
     "views": []
    },
    "36956a2672a84558ba3a8060622ddbb9": {
     "views": []
    },
    "36ea06a2f6ba48c8b7df266e2d3816c2": {
     "views": []
    },
    "37bb128360794756ad4ade048f2f5ee7": {
     "views": []
    },
    "38224e8b52894bb3bfdecd44291ab82d": {
     "views": []
    },
    "383d36a9732b4d5595e7e31318e3b7d6": {
     "views": []
    },
    "38f97a3bcf1544f088feac7d695b1b3a": {
     "views": []
    },
    "395da3ff5a26450e8c5013d4c5f838af": {
     "views": []
    },
    "3b1c155a4b9c41ca90835c65e0c507b4": {
     "views": []
    },
    "3bf36f9b8a1248869740d99a19951172": {
     "views": []
    },
    "3c504d02fc194e24abf9f00c6b566fcd": {
     "views": []
    },
    "3ce62a05c2bf49579c6a56e315f35527": {
     "views": []
    },
    "3d2327a166d140838d4218c0f3b58eb8": {
     "views": []
    },
    "3db35c87de2448f1ab0e77c9b36d2a71": {
     "views": []
    },
    "3dff3cb227f14285b291e43f3571d205": {
     "views": []
    },
    "3e54260fcef54f00995a954d17693853": {
     "views": []
    },
    "3e5e2614ed334ba0ac01c49382acb837": {
     "views": []
    },
    "3e96da733d03492b933b6107d9cb1cf5": {
     "views": []
    },
    "3eeae69df9ca476c855daac9a5b3a646": {
     "views": []
    },
    "3f319d6c8319403eabd9d405d286bd05": {
     "views": []
    },
    "3f3d3c08a80a4ed2adfe2618b72eeff5": {
     "views": []
    },
    "3f5a90a11e4d4e83b720ad45ca389a82": {
     "views": []
    },
    "3f6c657b2c4747afb017528c4e140a13": {
     "views": []
    },
    "3fb544bb371d47c288f3160711e045ed": {
     "views": []
    },
    "3fbbc981607846aa9ba6c54b6e6faa29": {
     "views": []
    },
    "40c4822bbf714a15a5db1b96bdbf2500": {
     "views": []
    },
    "40f124974e37493d9c64d174799fbd6a": {
     "views": []
    },
    "41937c2b270e4734b5941b5d528b8aad": {
     "views": []
    },
    "4256f4a5284548b389231fd16c64377e": {
     "views": []
    },
    "42cf38aa43184143a87efb14ab7cc071": {
     "views": []
    },
    "430d61fba8ac496690ddef5ef623c724": {
     "views": []
    },
    "4315aed698814f1b97461d5e5639e8d2": {
     "views": []
    },
    "432ebaa845a24ce99e8bfc85fddaea47": {
     "views": []
    },
    "437ac160eb0f49419123bb07c0f885a2": {
     "views": []
    },
    "446f7f08c5b14435bb6af61950f9227a": {
     "views": []
    },
    "4474ee44511147a69d7acd11c721ab50": {
     "views": []
    },
    "44930881690e4ebc92701eec71f33db8": {
     "views": []
    },
    "4497d00e261a45a48fda79f399d58794": {
     "views": []
    },
    "44a44f6b36994a3ebbd40ce15c8504de": {
     "views": []
    },
    "44b59df209ee4082bb6e34ddf683dbeb": {
     "views": []
    },
    "4512b4c40adf4d04ad1f97b860f28331": {
     "views": []
    },
    "45137baad3f74f3f8709f653d1f28a1e": {
     "views": []
    },
    "4573a767653543d5891db9eccdc4cdd1": {
     "views": []
    },
    "45cd3934d0524e538594891e069ed656": {
     "views": []
    },
    "45e198be607544fabb46b04e71eadf66": {
     "views": []
    },
    "464cb587aba04e7ca5c3e923b134be23": {
     "views": []
    },
    "46d30d04955f4b488f9ef216b6df41bf": {
     "views": []
    },
    "4738175b63d1411aae2a42946723bef4": {
     "views": []
    },
    "48ccb3db9a0247df9f467bd4ab1ab28a": {
     "views": []
    },
    "4915f35d9b064d3f8f6fc582bc382019": {
     "views": []
    },
    "49472d60fafe4260846365f50e0c2e1a": {
     "views": []
    },
    "494e674def3f440fb50e768a79392c31": {
     "views": []
    },
    "497d59c755294248ad1a7e2f43f97b09": {
     "views": []
    },
    "49b2d05828f345b3941ff7c80e7aa67f": {
     "views": []
    },
    "49bfe35d9cb84a3698eb0d31980d086d": {
     "views": []
    },
    "49d8bd92de6948638c7359299ac18265": {
     "views": []
    },
    "49e0b0b7744348c7a69cd7b39ebf08da": {
     "views": []
    },
    "49eb09cd363e438aa808dac0c3569518": {
     "views": []
    },
    "4a1a97fcc25b47a49c19024dab8d0d8f": {
     "views": []
    },
    "4a560d8e5c494a67aebc5a7f7818ea77": {
     "views": []
    },
    "4a6ee813d45c42be970f0be53ffb1829": {
     "views": []
    },
    "4ad9f29a5b9c4dbebbc1649f801ca66f": {
     "views": []
    },
    "4b5a2d8d458d4629b0558bcb19657027": {
     "views": []
    },
    "4bcc945290a94cdaa6d4ff9f1d1504bf": {
     "views": []
    },
    "4c033fcd7d8c4f3692eb6f01d7494709": {
     "views": []
    },
    "4c288d9aca7c4bc48c5f286a4d006f1b": {
     "views": []
    },
    "4c70c51b7324441cab07822c21ce0470": {
     "views": []
    },
    "4cd38854bf5847f5b608c17ecd8621b6": {
     "views": []
    },
    "4cfe4c2dbe91494c884910da7c1cb90e": {
     "views": []
    },
    "4d5503a13ee44e328262e024f8d77177": {
     "views": []
    },
    "4d9e39b2af0b4177804f502c6bc9d7ad": {
     "views": []
    },
    "4dc76a9f949043ecae05945c16203045": {
     "views": []
    },
    "4dc98b2eff1c46e2a690564ecc73a6ac": {
     "views": []
    },
    "4df8d0e111984d07a63990fad7bb7ccc": {
     "views": []
    },
    "4e178fb4dff0463181706337a00d3c9b": {
     "views": []
    },
    "4e56802ffea044bc951e83fa83d7a0c7": {
     "views": []
    },
    "4f0600cb7b734e358f2913c007be3000": {
     "views": []
    },
    "4f33d52f5a0a477b837320cc33e6ad30": {
     "views": []
    },
    "504dcf6d5f00413b8994db263dd803f7": {
     "views": []
    },
    "5098f96f17b34e6abbc2e7b17f7f00de": {
     "views": []
    },
    "51445f78e3784852895e5b474512a08a": {
     "views": [
      {
       "cell_index": 61
      }
     ]
    },
    "518ebf063a8a4158a25133b05d485da5": {
     "views": []
    },
    "5206d0226c384c918cd4c246f30a6fdb": {
     "views": []
    },
    "520b9d7ad14546da95aa2d4ab685ce83": {
     "views": []
    },
    "5215f734a27344da8c6cd669928f50c2": {
     "views": []
    },
    "529489db4714450dbbad4a759bac71c3": {
     "views": []
    },
    "52f9777c1f0e4168a664b084854cb1c9": {
     "views": []
    },
    "52fdf8397066413290946c67162d6d20": {
     "views": []
    },
    "538abaf23ee04a068147e6ef38b1993d": {
     "views": []
    },
    "5471d190d1e34d9591d4e87d271cddd7": {
     "views": []
    },
    "54b154b3577f40699768312374d67013": {
     "views": []
    },
    "5545cd425747467cac6e26ed3f3de0f1": {
     "views": []
    },
    "55c4ef353cff44c38cf33a6d95d0ed7c": {
     "views": []
    },
    "55c6b3c0e14948e98de024cbca6a6688": {
     "views": []
    },
    "55dfc9cb5e5a44389493d0fd4f926969": {
     "views": []
    },
    "55e44be840e5429a9e0865750259e570": {
     "views": []
    },
    "55f29185d817411aae9a378fd146efa4": {
     "views": []
    },
    "56866b1ef6554d4599bdbc18d5b457c5": {
     "views": []
    },
    "56a33ad0c90d4dc797c58dcbbf430806": {
     "views": []
    },
    "57208fe4b7df443a9dde5c274c69cff7": {
     "views": []
    },
    "580597fa26c64fc7bd039bf9de7ced68": {
     "views": []
    },
    "5847d239d9704771b7bb24ef65bb73e2": {
     "views": []
    },
    "58c0360a7cab4735b721b87396d6b6a2": {
     "views": []
    },
    "591d5393c396487ea12f0183d19cb6d6": {
     "views": []
    },
    "593e5d99190c48d5b6ae6e5cd0ac0ca9": {
     "views": []
    },
    "596835df21c847499d3d2f371f72cb3c": {
     "views": []
    },
    "597ed495d2a14f8ba01c81d0b0b3a4cc": {
     "views": []
    },
    "5989d3dd7d9f47d384b3bc643b58982d": {
     "views": []
    },
    "59b6d5caf9074b959ee94d02b9ebe5d3": {
     "views": []
    },
    "59ce82e2996b451290623cc3955fda4b": {
     "views": []
    },
    "5a5826e16fa4498ba4e6b0580258f53d": {
     "views": []
    },
    "5ab06498e0d94a13910836235f6eecc7": {
     "views": []
    },
    "5ab242b09b72416d8788a65f72c4bd41": {
     "views": []
    },
    "5be2a0335bfe436cbd7392d99f52694f": {
     "views": []
    },
    "5c5b6bfbd42148438ebc41149f2508a4": {
     "views": []
    },
    "5c67a837c5254c3cbf588b9aa3039576": {
     "views": []
    },
    "5cc2ef9d8918410c9fb5380c3480b8e6": {
     "views": []
    },
    "5d493c1e018149de8c04e9f04e7884bd": {
     "views": []
    },
    "5dba7a2e40a6468f8a3845d1e9480f8b": {
     "views": []
    },
    "5ec9912dab7646c587c288e2eeb91a73": {
     "views": []
    },
    "5edb60c137214a9195863befe6803008": {
     "views": []
    },
    "5f00ad423b8249cda077585ddb7c711f": {
     "views": []
    },
    "5f04d7aba96247f08a26ce32b3c807d7": {
     "views": []
    },
    "5f11a6bbe88f436695773c59f01908ab": {
     "views": []
    },
    "5fc8c274116e4257a447deb0a0ace603": {
     "views": []
    },
    "600ff8c73cf045dc86aea482ea8fda80": {
     "views": []
    },
    "602458b4fabd41e6989892bab7512d86": {
     "views": []
    },
    "6073cbe49c2646b28436c5ff8313c378": {
     "views": []
    },
    "60ae43b37ea640968e367cc720ce95ad": {
     "views": []
    },
    "60edef249c744437a8f48ff81ea6cc86": {
     "views": []
    },
    "6163070c83b94440976d946cfd7d74a8": {
     "views": []
    },
    "61beae57aaeb4fa485c73f58f6a7d251": {
     "views": []
    },
    "61eff1dcc3524fdb938c7e8708759139": {
     "views": []
    },
    "6218e39aa1744d1a92bc2c3ec2d0eff8": {
     "views": []
    },
    "6224bd7ca41b44dc9d7615f40fa4d48c": {
     "views": []
    },
    "623936691cb54892afa62c023c3fbf7c": {
     "views": []
    },
    "62c6beba839b4d199cd82b8339784141": {
     "views": []
    },
    "62dde27efebe423da05b746d773582fc": {
     "views": []
    },
    "62e731daf5704bfe9fb2aa705d8bdacc": {
     "views": []
    },
    "6326655d6c754e66aba17d453dc43d75": {
     "views": []
    },
    "63cc6975dbbe4a308be38706e131f7c8": {
     "views": []
    },
    "64949681bdb5404eba76437c43e57c0b": {
     "views": []
    },
    "652d6acca3064e50a6de6eb9ec375fff": {
     "views": []
    },
    "6539c6373e6549c7ade461a5624dd391": {
     "views": []
    },
    "653ece8b7fbb4e998e09927783869df3": {
     "views": []
    },
    "65ddb2fad2ee4e3492127246dfe88a27": {
     "views": []
    },
    "66004d1b25244ac7954c77e57ee957a5": {
     "views": []
    },
    "6688242b6673490697dce9dff8476de2": {
     "views": []
    },
    "674565b7303d4c339deec14282154d4b": {
     "views": []
    },
    "6746105514aa4cd78423ea1fd3bee2e5": {
     "views": []
    },
    "6788e1da7d2f41a587a7f42d9c56c698": {
     "views": []
    },
    "67b0afab6ecf4d5fadb2a1f98591dbf7": {
     "views": []
    },
    "67de5f53c6d04f5182c9162a8a74919f": {
     "views": []
    },
    "67eb3a0cd5d84cb1a81b1c5131788473": {
     "views": []
    },
    "69b2973ead014dea83db4fc316f7159a": {
     "views": []
    },
    "69c0ee8a7bf64423bcacab51cc8bcc2c": {
     "views": []
    },
    "69d9096401b54b97ae791312d0c015fc": {
     "views": []
    },
    "6a06a398b6b24ec0ae30094b5ffe67bb": {
     "views": []
    },
    "6aa5556a1f664d529c7ca4c7a7a7032a": {
     "views": []
    },
    "6b23c6f5fdd04120a7cca5edd0acfebf": {
     "views": []
    },
    "6b9fe2787c1b416b8a287b91e0afc57e": {
     "views": []
    },
    "6bc47d6d3c3f476d9c1f22e3a58e0efe": {
     "views": []
    },
    "6ca70b97f9574fdf968307073cf9bb85": {
     "views": []
    },
    "6d806b62db734c7080aa476af5d583f4": {
     "views": []
    },
    "6d829044ab264d4a946b75cb3d70e9a6": {
     "views": []
    },
    "6ead94de1673466d815db8f4a5a704e7": {
     "views": []
    },
    "6ebe4e35dc30482c890f2a2a7b26ff40": {
     "views": []
    },
    "6f1b2b050053476a83c7968bd627ca9c": {
     "views": []
    },
    "6fc0a8b83c7f447aba489d845f06f133": {
     "views": []
    },
    "6fc310568c404e08a712ad9ade486359": {
     "views": []
    },
    "708296aa2aa84620b76d4d764abd66b3": {
     "views": []
    },
    "70af448d3a8343fdbc4940e613367777": {
     "views": []
    },
    "70f4c6e712774062b852f6ce6d9f1d55": {
     "views": []
    },
    "712a8ec4f60c4611a7e7680ba9a87734": {
     "views": []
    },
    "712d593342cf44e8853778eb3dbdc015": {
     "views": []
    },
    "720cb0d0bc0344bb8216b1f4d0918919": {
     "views": []
    },
    "7271202e30734a698489ba4cbd40fe83": {
     "views": []
    },
    "72bcd146623c4e70978187792dce0af2": {
     "views": []
    },
    "732fe7227d714fcebd496114f790ae95": {
     "views": []
    },
    "736614e018124f24a525e1ad95910d51": {
     "views": []
    },
    "73ab6f13baa143b7b94628ec8cf664cc": {
     "views": []
    },
    "73bd1e49ecaf4da08e85f78900f547ad": {
     "views": []
    },
    "7406c7cc62514a95985cdb90c9aa38ce": {
     "views": []
    },
    "74240d41f33e4656a394908f05312076": {
     "views": []
    },
    "753fd1dc9d624d63b0cfc8e48a8b2282": {
     "views": []
    },
    "75795975fa474e6189741a18ac8dd6a4": {
     "views": []
    },
    "75d8c05bb37547a185d8333238648418": {
     "views": []
    },
    "762e5ec6236a43f0936e55220b497245": {
     "views": []
    },
    "763c68d167614aa59c82b0ec8c1d09b0": {
     "views": []
    },
    "76ac3d8d5f184264acf6e8b3fa0be329": {
     "views": []
    },
    "76e6b07701a640b7bd6b966c752bce8f": {
     "views": []
    },
    "77a856ad7f93420da45a35cdf57d299f": {
     "views": []
    },
    "7823cfe81af349fbaf0002e5baa0d241": {
     "views": []
    },
    "78534a167d9e4d6d93ae7ece2e8e5b5b": {
     "views": []
    },
    "7878d70a78514397aa76906d41c888bb": {
     "views": []
    },
    "78e93bcc2a754b04800a3586a28af7e2": {
     "views": []
    },
    "7943dbe8ebcb441895895c9ec8ebc8ad": {
     "views": []
    },
    "79f5458802e4490db20169f360cf947c": {
     "views": []
    },
    "7ad8024afa0b41999abb4c8c1bdc6e2a": {
     "views": []
    },
    "7b4a4e846c4442f9bf9d5f39d3871c64": {
     "views": []
    },
    "7bc1004c7ef14758a290e2cf6f7d4e5c": {
     "views": []
    },
    "7c1942804773493ba58a4671e36a5717": {
     "views": []
    },
    "7c2497eff0104e74916ebfaac8549452": {
     "views": []
    },
    "7c7ee83d22e14bf29bcfbdc1b88baf06": {
     "views": []
    },
    "7d03ba9b131d4b3bb8e6d91a9e193b2d": {
     "views": [
      {
       "cell_index": 67
      }
     ]
    },
    "7d36bf10615f4485a35cdc3405c98157": {
     "views": []
    },
    "7d518758c60d4464b3b74c7771e6e959": {
     "views": []
    },
    "7dc93b16635843bdb11a00274d966615": {
     "views": []
    },
    "7e19c923dfaa4e2382ff5752c7f51e54": {
     "views": []
    },
    "7eb03c555642455598167823611ccab2": {
     "views": []
    },
    "7f3f7ef3f8394d719b87ef599117ba86": {
     "views": []
    },
    "7f79abf6ee3e4bebbe3e5cfa841c7387": {
     "views": []
    },
    "7f9641072d77417f954c96bac2e6dd6f": {
     "views": []
    },
    "7fb1d0ff67664e26a6f4c8961a48583b": {
     "views": []
    },
    "7ff3b8104af94d999ba23bdd865b03b5": {
     "views": []
    },
    "808846be37f74efeb28785be87a2ddcd": {
     "views": []
    },
    "809c0ac5f524434a9d28d1ffd184edee": {
     "views": []
    },
    "80bbd063c0e54b70829ca03802cf7341": {
     "views": []
    },
    "8177db70207449ea8e9ece9e5523f4cf": {
     "views": []
    },
    "8179279b4f1c49d7841892fd1626be59": {
     "views": []
    },
    "81ca8c68ea55404d9ceff58fb9193aa4": {
     "views": []
    },
    "81cb375c34194b81875a10d82b118d3f": {
     "views": []
    },
    "81f1687dd0304863987b165377d5c2b6": {
     "views": []
    },
    "824e6c06b20e413d8dd594db7b4ba200": {
     "views": []
    },
    "826d32b580bb4943b558a31107fab6dd": {
     "views": []
    },
    "8287cce0038743b2a2dfd2daf31186b8": {
     "views": []
    },
    "82c78d6d3a914e95993461694e002def": {
     "views": []
    },
    "831575191df84d7bb71a8393489e00f3": {
     "views": []
    },
    "831e150227c44d728dca4c5b4d027505": {
     "views": []
    },
    "8402cdc14c7845dd997a21e879f3fa6a": {
     "views": []
    },
    "840d9c22e66b4319beba6db4606af338": {
     "views": []
    },
    "845df2452d114a488f270e77b5f3634f": {
     "views": []
    },
    "84a88a389a0b46d789d030bd305b56e1": {
     "views": []
    },
    "851dc071415242cfb051d99f7bfa0598": {
     "views": []
    },
    "8572ec92ecbb47df8579b6cc59be93d7": {
     "views": []
    },
    "859e1522439c4053b306df431430ced0": {
     "views": []
    },
    "85a0311b1caa4ce3b812a63e6a47a1a9": {
     "views": []
    },
    "85c32063f64f4cb2b308e54388b0b11a": {
     "views": []
    },
    "85e1ce1fc10a46ae81dffb4447a69aea": {
     "views": []
    },
    "85e2d2e28f9c4d618f9b48a71c183ac6": {
     "views": []
    },
    "85fdd4c125cf481fae737b03c02ccbe6": {
     "views": []
    },
    "862c038c68a148798c20d832eaf7ac0c": {
     "views": []
    },
    "87876738a5994621a35024d5badda35d": {
     "views": []
    },
    "87e6893b4c834795a19a454ca03ebfdd": {
     "views": []
    },
    "887e5211eab646da8955d489b33fac56": {
     "views": []
    },
    "897f767825144928aad7270c31752b5e": {
     "views": []
    },
    "89af0d0e7bcd40ebb759e52b502c9600": {
     "views": []
    },
    "8a557036d6754a8abee731f88485668a": {
     "views": []
    },
    "8b04af235ee5404f92f12e95260dcd7e": {
     "views": []
    },
    "8b1c7a8abfbe47e2927413a604f90734": {
     "views": []
    },
    "8b4e38711ae04139b04d5c7337090d99": {
     "views": []
    },
    "8b6eb466398d47eabd1a32e00d236e70": {
     "views": []
    },
    "8b7242fd2b294ec1a6607b4c23f34508": {
     "views": []
    },
    "8c260119826b4021970aaf1eb07d6160": {
     "views": []
    },
    "8c68f5bb8bbe4baf95a62eb0bb488f8a": {
     "views": []
    },
    "8c8c4b688810434082c422f211ace6f7": {
     "views": []
    },
    "8cc8b27cfe52465b9fde444331cf9c04": {
     "views": []
    },
    "8ce0857a963d4668958da74fb36e5e41": {
     "views": []
    },
    "8cec0414a21646179e061c2af8504134": {
     "views": []
    },
    "8d1c68d8c2b64a95898d37f1bdb1fc45": {
     "views": []
    },
    "8d530e18381a4697ba89b579f0bf53d2": {
     "views": []
    },
    "8e34c596ad544d01a311e8f564338e1b": {
     "views": []
    },
    "8e9a054ce4d8409eaea01cac786faa71": {
     "views": []
    },
    "8ea1bca4beff4e4a8da982e2adaa568a": {
     "views": []
    },
    "8ec5a8c41a9d4e5f8121c19f421f473b": {
     "views": []
    },
    "8efb603eaec34ed49ecfa45dc9e44fb5": {
     "views": []
    },
    "8f0f4c9943fe4e248a70e9c2fc773b60": {
     "views": []
    },
    "8f1d80835f9b41dab9519077c84b98ef": {
     "views": []
    },
    "8f57a1731daf46d68017b9e9f232cd58": {
     "views": []
    },
    "8f93ec70c8364c89a60afdeb7752e152": {
     "views": []
    },
    "9077a01df1044d64a06fbc42255d7bf0": {
     "views": []
    },
    "90d82c35c62a47f78e527c2477f9bca6": {
     "views": []
    },
    "90f3badaf9344e84918a60c714ce2d32": {
     "views": []
    },
    "91112b05f48945afb26e53d5611e5c79": {
     "views": []
    },
    "9132a003a230415ebd774f47664b0740": {
     "views": []
    },
    "91c00696c8c149a2ab26854d6963dcda": {
     "views": []
    },
    "91ef9c5aaa4741d999736064ee276d27": {
     "views": []
    },
    "925215de8a9646409860ecc279301d98": {
     "views": []
    },
    "926d5e19c6f141c2b8f9aaf38b82521e": {
     "views": []
    },
    "92a57c3d6c9642f297634677f1bd5f5d": {
     "views": []
    },
    "92aa2fae5bde45efabce75b3c0ca0208": {
     "views": []
    },
    "92c6cdac09fe40688f5e3fd1da0f8d8b": {
     "views": []
    },
    "935c3add9f084ca6a474770b20ff7145": {
     "views": []
    },
    "939a1f92f3ed4236adda530b65f986c1": {
     "views": []
    },
    "957aa4f3e3ab444a8ee6058b7880c240": {
     "views": []
    },
    "959b5002d81847309990cdfb9d557bd2": {
     "views": []
    },
    "95cab4f0af264e21a70cfed58600644a": {
     "views": []
    },
    "95d3895ed84e43e69bbe51bf27f30fa5": {
     "views": []
    },
    "95e6a9b6b8434ecb85d8b3a15f2f9c67": {
     "views": []
    },
    "9666a13c28514490855daa2361c9aa81": {
     "views": []
    },
    "96697d2bb83448d3bc601bc4496a599b": {
     "views": []
    },
    "9696950d8a7c4d6ea4dc4cfac4bd6852": {
     "views": []
    },
    "9731cbc1c968416597d5a7ba4fe7e9d3": {
     "views": []
    },
    "97495ff889264bf0aa23e0b07850f25e": {
     "views": []
    },
    "993163b4666545258b587f049c3963cd": {
     "views": []
    },
    "99548c52fc7e4ca08d7f0f27eae76dd1": {
     "views": []
    },
    "99bd7aa03d71423a98a51f1035636c58": {
     "views": []
    },
    "99f72ee3220f41568e591f3267882edf": {
     "views": []
    },
    "99ff87caf05e406d8632e6adc9e05b06": {
     "views": []
    },
    "9a19171ba8da4317b58d222193299a75": {
     "views": []
    },
    "9a6e43cbc6c84819b5cef1f8b483621f": {
     "views": [
      {
       "cell_index": 34
      }
     ]
    },
    "9b436186acfd4e12909983b3dea0781d": {
     "views": []
    },
    "9b4d2e0667684217bcd6066d52106149": {
     "views": []
    },
    "9b6bb0e92f06417098f508b0ac96d8d8": {
     "views": []
    },
    "9c0da08d7c79401d95b701e5c8ef43e6": {
     "views": []
    },
    "9c2d52a7f1d64483a7a8671da267f6bb": {
     "views": []
    },
    "9ceea826b3eb4948ad3ec89b5446e353": {
     "views": []
    },
    "9d3a9e84fe394ae49afeb5e652dc44a2": {
     "views": []
    },
    "9d852ae84bd841ee9d001e40838ca4db": {
     "views": []
    },
    "9dea4fe963244e679b5589a819fb982f": {
     "views": []
    },
    "9e6ebc32c8854ee8bf2b62bfbd773420": {
     "views": []
    },
    "9f4781a46cde4df8a50181d110914189": {
     "views": []
    },
    "9fe9409d2f1d48709fb025276c8bcac2": {
     "views": []
    },
    "a0d3153db41a4cff9af6e4c73934c46c": {
     "views": []
    },
    "a0fdcf9afa9f46aa82032d2002e67eb2": {
     "views": []
    },
    "a105855b6436478b8042f2c7934e059b": {
     "views": []
    },
    "a10e943e23404e2481d62924f6192453": {
     "views": []
    },
    "a11563fddd6e47229014868712f07cca": {
     "views": []
    },
    "a13ad4ccb8fd4648a3736dfb5c97b31c": {
     "views": []
    },
    "a19932121d8e40a0af99228ad12cd986": {
     "views": []
    },
    "a1de43815d3f4d4b924b5449a560e4aa": {
     "views": []
    },
    "a23142542bf04997946375bdcecff4d1": {
     "views": []
    },
    "a249f3ff984b4d5180c88448f10a7708": {
     "views": []
    },
    "a270d7232de943208d81c3b27fbba62d": {
     "views": []
    },
    "a28c793c7f5b4296b4ddf312a88dde9c": {
     "views": []
    },
    "a2df86c4cf144746b575759886841060": {
     "views": []
    },
    "a2eab12b8349407ba2eabf4a51300923": {
     "views": []
    },
    "a2f45febda044fe3839dadf426585fb8": {
     "views": []
    },
    "a493d38b7a7b431aa02b024894bf32a4": {
     "views": []
    },
    "a499d2d64f7a49a585f934818ec62061": {
     "views": []
    },
    "a4a58122ce9a4892baf08f0be5eec446": {
     "views": []
    },
    "a511a0a7540a400b9a189160038511ee": {
     "views": []
    },
    "a5363b4d1d08474482c66dbeefae1a1f": {
     "views": []
    },
    "a5cf5d8d23b04b5aa8a779f598e80060": {
     "views": []
    },
    "a5d99eff31774123ac022325854b2fea": {
     "views": []
    },
    "a72fe0b08d70469e9dd0d043dec9c690": {
     "views": []
    },
    "a7aa100f0ee141aaad927b4767acffd6": {
     "views": []
    },
    "a81314172d024e809048cefb3ac3737e": {
     "views": []
    },
    "a8283ec0282841edb93ef676d5b76474": {
     "views": []
    },
    "a899e61a5aa8448b8a5da90009423e5d": {
     "views": []
    },
    "a8b6d1adf61e47a9a813ef7b4b50655b": {
     "views": []
    },
    "a9ba10578309405689a03c095c76b375": {
     "views": []
    },
    "aaafbb82ab4b471e84d2d7abfeecd7b7": {
     "views": []
    },
    "abcc2badd9734e24ac4736d14ff23ab1": {
     "views": []
    },
    "abe619dbf1b640d584567e55677bd95e": {
     "views": []
    },
    "ac34ac67af904fe6ad446ae518e4d782": {
     "views": []
    },
    "ac41d5ddfd6d486f9b0663171471f62f": {
     "views": []
    },
    "ac556aa358d14bd597b00e96b8745e88": {
     "views": []
    },
    "ac5e273678964203bbd6ad0bd3668327": {
     "views": []
    },
    "ac6d4a1c8df24f0eb3ed7b35f77c0600": {
     "views": []
    },
    "ad608deacb744f20a07494fa3e412e96": {
     "views": []
    },
    "ada1cd56e90343de9b40f2f58b97f2e3": {
     "views": []
    },
    "adb186dcf02541df915b1a6531a7080b": {
     "views": []
    },
    "aed4f9916a934332a52565c716bbfb94": {
     "views": []
    },
    "af2c9a7aef8f4561aa31056a0e5fe374": {
     "views": []
    },
    "afe93854823940b2969293b834981f82": {
     "views": []
    },
    "b022e753385c4231895a68569c42d4f5": {
     "views": []
    },
    "b040f3dbfc1a4ea5810a1170f72bc95f": {
     "views": []
    },
    "b0b968ac38fc4a9f830cf1dbe6b29a9c": {
     "views": []
    },
    "b11d1fca9539403180c17f61f9023af5": {
     "views": []
    },
    "b17a734c8f4b4aefa5d9eaa1c60171dc": {
     "views": []
    },
    "b17b936c71c94819b6c3133436929ebd": {
     "views": []
    },
    "b25d6af6d1554fb5ae7e0f7b136c2803": {
     "views": []
    },
    "b2742af5e08749e5b6eb43c19ff0af55": {
     "views": []
    },
    "b2a9e58a349d462fb621fc516d4c9fc0": {
     "views": []
    },
    "b496de4a637044b094c3c1d5069f4349": {
     "views": []
    },
    "b4adce3d3f6a4ee9aff5684b74ef65c0": {
     "views": []
    },
    "b548fa5f7e8c482fabb4563ba7df8cc3": {
     "views": []
    },
    "b550236bc3f943fba3bf7c0b99fa59f0": {
     "views": []
    },
    "b5b92c4606ed4a448f64e99f78ba246a": {
     "views": []
    },
    "b5da048d69f547c58df578d6f7c7fa7f": {
     "views": []
    },
    "b5dfb9c84c104834b60fc1f214bcc9b4": {
     "views": []
    },
    "b6011bbd075747028689f6426da9d5fd": {
     "views": []
    },
    "b69e81b919234d1cbbdb2b95e4875222": {
     "views": []
    },
    "b7329ef5ddd5485b8958b7bf16f08d90": {
     "views": []
    },
    "b75047df41bf4ca89b378b3950b5e2dc": {
     "views": []
    },
    "b75e1e178d284dd6b089f960e1b929f8": {
     "views": []
    },
    "b7d52e76c489464b87ade8525a10d90e": {
     "views": []
    },
    "b7d6b8f02e464a45bbd3bcf4be66a73b": {
     "views": []
    },
    "b8194ba81c3945a793d07f2c92b8c157": {
     "views": []
    },
    "b8719b32dab24fbc8afb57b706fd6e1a": {
     "views": []
    },
    "b8e7bb465d244def922553255468619d": {
     "views": []
    },
    "b92d70018f6d46d6aeb9af033f11a7ec": {
     "views": []
    },
    "b9ddad1a68ef429a9439e9565f966bc9": {
     "views": []
    },
    "b9f3316d2f8543ed84da6d5724a6e0a9": {
     "views": []
    },
    "ba16bf81053746cda5f7ec77df9fb49e": {
     "views": []
    },
    "ba32483654f24b7786ab23ea47e302ba": {
     "views": []
    },
    "ba8d98db5276428d86dd2c67a56470d9": {
     "views": []
    },
    "bab75585f32d4fcebb15dacaa38e2b26": {
     "views": []
    },
    "bb31efde5cf5417fbabdc7dfdbb9dda0": {
     "views": []
    },
    "bb9397c118c14dd2a49d6d6a2646b383": {
     "views": []
    },
    "bbd801380b7b4c7d95055b58e9d91f52": {
     "views": []
    },
    "bc20a40c9988499bb107ba01249e0715": {
     "views": []
    },
    "bc73e4b09c664d18be4ed0f3a21e2ac7": {
     "views": []
    },
    "bc7b4bc54ee04178bcb4f31603bc6aab": {
     "views": []
    },
    "bc91b380b4604ac0838463fdb70b0a65": {
     "views": []
    },
    "bcc35e5628d148c794692b60193a4dfe": {
     "views": []
    },
    "bd2eb2f2ddcd4d80a84a0b0d5adf93ca": {
     "views": []
    },
    "bdf975ac743942ae9983cd882b8b58b6": {
     "views": []
    },
    "be196c88ac3a4d21971ea99241af168b": {
     "views": []
    },
    "be25cc645b1e4c32872fd7e6efeecd05": {
     "views": []
    },
    "be3be3437d0548258e0884e8530b0efa": {
     "views": []
    },
    "beb49263e631414fbb452e397ca8e964": {
     "views": []
    },
    "bed9fc2d4b874270bc88e70dee468986": {
     "views": []
    },
    "bf778ff8c67842a18bbbb929279f6056": {
     "views": []
    },
    "bf8022bd877f4b858270f265441d450c": {
     "views": []
    },
    "bf8d2c6596d448f48f11b91bbc21cb81": {
     "views": []
    },
    "c0edede29ce04a8eb3ec97cc4fff2c1e": {
     "views": []
    },
    "c175f4922b5341449fe6f948c4e9b952": {
     "views": []
    },
    "c2129208a8f24bcf91e05bd452a1e3b1": {
     "views": []
    },
    "c309c5566eee4857a13e8471d0bffbc8": {
     "views": []
    },
    "c314ced9046b4f209adc00cf70233d58": {
     "views": []
    },
    "c378461f2921452880f8fc61e263bb47": {
     "views": []
    },
    "c396a707e99b45b1a181ef8f7eb6bd5e": {
     "views": []
    },
    "c398b15a590a4f6ea0c2aa3fe2d165dd": {
     "views": []
    },
    "c413bbf8b2f9466eba5e8afea3a697c0": {
     "views": []
    },
    "c4a592bf831f482a8f0ee43bc911133f": {
     "views": []
    },
    "c510be323d9d42bcbeccabf8b60366f1": {
     "views": []
    },
    "c5527afca462451aa39f90e70a62f027": {
     "views": []
    },
    "c5d6bd59157944ffb6f921f9bec6d9d6": {
     "views": []
    },
    "c5df37c786f0427a8baf8531316bec63": {
     "views": []
    },
    "c619d1e9defa4be5a3a9a831387100e4": {
     "views": []
    },
    "c682967f42704e4ab0560cf6370242b7": {
     "views": []
    },
    "c736ce1b9373458796c2e5de7b3d0545": {
     "views": []
    },
    "c7f2a17c19834d7e9e5544af02a15d3f": {
     "views": []
    },
    "c829b3d1334f4885b9f2f74ee94b0bcf": {
     "views": [
      {
       "cell_index": 36
      }
     ]
    },
    "c84dc89fef334b8b916250bfd578f38d": {
     "views": []
    },
    "c8595fe46a4147a5b3b0432d981e24f2": {
     "views": []
    },
    "c8611ca8b5cd4990b97ae34f0038bb25": {
     "views": []
    },
    "c8bf3f26022e494fb48fcd5888883006": {
     "views": []
    },
    "c8cf1e0fefa34d9286480532f5e8ad20": {
     "views": []
    },
    "c96595ce78c04d98bc47c77d767eac51": {
     "views": []
    },
    "c9d4eab364b84a77a38629728a99ebe1": {
     "views": []
    },
    "c9ed80fe9d77430eb97e47a84e794cad": {
     "views": []
    },
    "c9f5b2a9b1ab4c8c81594ee9ad151adf": {
     "views": []
    },
    "ca07819324d44aec9a6eed4d5a5fb487": {
     "views": []
    },
    "ca093ce568e048cba4a3d68eeb363b8b": {
     "views": []
    },
    "ca41fab1a39e4f0bbc4c96a33d5ecc82": {
     "views": []
    },
    "cb73180228e54eaf94bc564f2e7bbd8a": {
     "views": []
    },
    "cba903409e4244a7b1956abf0059dd6a": {
     "views": []
    },
    "cbafdf22fbf446b5b5723350c3927000": {
     "views": []
    },
    "cbca74a9b7994d75a1353afaf2920f45": {
     "views": []
    },
    "cbf3701c236e4a9da93fe66e6311d1e5": {
     "views": []
    },
    "cc3e2b43cc4b465bb3e863d8103f291c": {
     "views": []
    },
    "cc5628630af54a9191112bad2705fd59": {
     "views": []
    },
    "cc98d3fd8fb840e684c05f14f0de175d": {
     "views": []
    },
    "ccb0400bc12e48348a1427b854c40595": {
     "views": []
    },
    "ccf09a83cddd441b8730c46da8323c97": {
     "views": []
    },
    "cd1b55d284a04c2fb54c5abed271f651": {
     "views": []
    },
    "ce9b622aa924414ca662d33fd47d214e": {
     "views": []
    },
    "cf0d0880dc4f4c7692370d7da42856f2": {
     "views": []
    },
    "cf8d9abefb9548d5b29257be6013e150": {
     "views": []
    },
    "cfdd83b3308149f08ba26723c8dba942": {
     "views": []
    },
    "cfe87d8f6f67489290d678433cf544af": {
     "views": []
    },
    "d0cab8b028324043b3f6000396d64d8a": {
     "views": []
    },
    "d0e50e2ff827453e9f67fef33607d60d": {
     "views": []
    },
    "d10fb95f07f745a5b857f7942d0a4a08": {
     "views": []
    },
    "d110ae2fcfeb4e47b2198d47e3b03c6c": {
     "views": []
    },
    "d161baae67554914bbf1d293ee734384": {
     "views": []
    },
    "d1a7640adbc94353953e722f530b95e0": {
     "views": []
    },
    "d26ec37f1db546cea81ff4b7a5731b10": {
     "views": []
    },
    "d30628d351bd4263999e2eba1416ed9f": {
     "views": []
    },
    "d410758c736043ca94d6c57697a7c386": {
     "views": []
    },
    "d4ee5e09b2754084bfd72bffeadc4110": {
     "views": []
    },
    "d54c6e63812347868c7c8ad7f7339c8c": {
     "views": []
    },
    "d5776344147f4ae5bac4fb059c18e800": {
     "views": []
    },
    "d6c76060c2ff4d6ea5aea869e681bb6e": {
     "views": []
    },
    "d7316513e0e148b8b396f99f6a254eb4": {
     "views": []
    },
    "d8d778ec544b46aa91e5703f6c2de7c3": {
     "views": []
    },
    "d8ebc7ed10864e4386bb18ccb6250556": {
     "views": []
    },
    "d8f49d4274af4233bb2b93453dfbb1ee": {
     "views": []
    },
    "da1a8bc704184c42814ee30f6c517612": {
     "views": []
    },
    "db92ff6ea8224b13a87a00a6dcc6d296": {
     "views": []
    },
    "dc26efa356d545f6b11b078903194849": {
     "views": []
    },
    "dc3f8b39d20142eb88bff9cc4b503bc3": {
     "views": []
    },
    "dc87ec062d874a17a212a0f4121075d2": {
     "views": []
    },
    "dc8955612d7448a5bcdc39de6f465468": {
     "views": []
    },
    "dcb0d47df881400cb2ead4ff21ed8873": {
     "views": []
    },
    "dd04e88249ad4c13858483928fe3b3b7": {
     "views": []
    },
    "dd9bd680aaed434587a8efa6f4562ebd": {
     "views": []
    },
    "ddbd5b2adf4048a5a0cfac693768a598": {
     "views": []
    },
    "ddf9d5b06c2d4257808d90ea645a4fd9": {
     "views": []
    },
    "de8dd9afac204b18bc0e42fab1b67c16": {
     "views": []
    },
    "dea84e2caf55494ab014e57d85a9d3c3": {
     "views": []
    },
    "debc13e6a856413bbd869d17b0be3468": {
     "views": []
    },
    "df4ab772034a41d78758a39969f26ce0": {
     "views": []
    },
    "df6e891f672840cdaf3752f52dc9dbd0": {
     "views": []
    },
    "e01915e5d9ac4419acef101a96860bbb": {
     "views": []
    },
    "e028b41e86c443328cdc0df510e24573": {
     "views": []
    },
    "e0891f72ef1c46e78a5a0eaea2030c14": {
     "views": []
    },
    "e0a5ddff8c394873a716af8165cba498": {
     "views": []
    },
    "e0b6d073197d49709bae6a6077b698cf": {
     "views": []
    },
    "e0e54f0337f84b36b46ef264417b0a0b": {
     "views": []
    },
    "e1b5709860af4f8abea6aceb22077a81": {
     "views": []
    },
    "e1f4ac613d844e0c9eadeb0c4ed07e3c": {
     "views": []
    },
    "e20ef4381df14e09a76156ab88445de8": {
     "views": []
    },
    "e2788caef413447b8e9cd64d8a74d5a2": {
     "views": []
    },
    "e28d18bf8c694f3d807e20d41bc70443": {
     "views": []
    },
    "e28ed28cd06b4d94af107f25f8e72c90": {
     "views": []
    },
    "e3162ee749194944a1322664dff48986": {
     "views": []
    },
    "e316b25e2d684b40bbd5e46f9ef579f5": {
     "views": []
    },
    "e32d1affebc1433ea8115f443ebf7541": {
     "views": []
    },
    "e366bad221f941dd9ce7e2168615b45e": {
     "views": []
    },
    "e4aa77ff06a64f54b73cdc1269970952": {
     "views": []
    },
    "e4eaf529c6634e83be5e0ecb2a75ad74": {
     "views": []
    },
    "e5202958827e4bf3a6979ded51ff685e": {
     "views": []
    },
    "e55b6412c60e44fa919792065a29a8f8": {
     "views": []
    },
    "e5930e0e113f46978b01034a345bc3a5": {
     "views": []
    },
    "e594113f4e08403db42246374f787f5c": {
     "views": []
    },
    "e63072ca823c4d52b8fc8254f44e3d41": {
     "views": []
    },
    "e63cafd5698a48719738540b4f371849": {
     "views": []
    },
    "e69f86d9e1a04d749cd23feca3297101": {
     "views": []
    },
    "e6d546d7bd37482697771b0ca7ac29e9": {
     "views": []
    },
    "e6ddad08601d461985d42cdbe719eac7": {
     "views": []
    },
    "e7b83c47b33743729ab151516f079629": {
     "views": []
    },
    "e80ca08de2464f379ab0bc12b736e6ef": {
     "views": []
    },
    "e82a4d44c31c4c54a9e736a48af932f9": {
     "views": []
    },
    "e8461a051dc94ca98980abf1e1e9dedb": {
     "views": []
    },
    "e9540ebe1f6c42fba3792c32e52bd06f": {
     "views": []
    },
    "ea22c0cfefcb463ebd457330f8f01a3b": {
     "views": []
    },
    "eab3a87d16de4154b089c8c71fcce71f": {
     "views": []
    },
    "eb04cbce15db47e293eacb81949fddc4": {
     "views": []
    },
    "eb2a8f0077ef4df084452c1f33513eec": {
     "views": []
    },
    "ebb83d6be5fe4ccf828615a89f70dc2f": {
     "views": []
    },
    "ec96d5c77b7049a4b1db712859d4c9c9": {
     "views": []
    },
    "ecf903729e654049a7dd33e34262deda": {
     "views": []
    },
    "ee75127927e1452ca5fcfebbef588d9c": {
     "views": []
    },
    "ef23802915c147728150cd4e0cfe9166": {
     "views": []
    },
    "efa80309bb3a46558d9a5e05d5af7f29": {
     "views": []
    },
    "f0284d8bd4e64b01b7dc3d9f8350f027": {
     "views": []
    },
    "f09159a3a5ca40e68944ada3e7287837": {
     "views": []
    },
    "f0aeb4dd107c47318d40797c5790564f": {
     "views": []
    },
    "f0af502248d3499bb623c43dd08c7e30": {
     "views": []
    },
    "f0e6bf5a26444dd99fe1aba625ba1fb5": {
     "views": []
    },
    "f0ecce0fb2af42ab8e7b06bea47222f7": {
     "views": []
    },
    "f144e88977b742329c43449e13667d7b": {
     "views": []
    },
    "f17b728d28af4acb9fd70f387735437d": {
     "views": []
    },
    "f2508fda1c914d1894594a0d00a0f10a": {
     "views": []
    },
    "f32ed726be1e40e4801f84ac30f58ac6": {
     "views": []
    },
    "f33c74e8080e45498a0ed46a7db43a8e": {
     "views": []
    },
    "f3cb6dc80dcd4aa4bde1ec4e2843801f": {
     "views": []
    },
    "f555618b51b14eb3b859caf0d3a6cba4": {
     "views": []
    },
    "f67a932dcd3b4fddb482a6af455f1d65": {
     "views": []
    },
    "f680498e021c439a8a173b22c3cae051": {
     "views": []
    },
    "f699fa543fb34edb90ee7eac83d2b9ae": {
     "views": []
    },
    "f6ed7809f7e94dd4bef0de9e0c03d4a8": {
     "views": []
    },
    "f6f5c3c2aaa04786a0f06c20c90e51f9": {
     "views": []
    },
    "f6fd13b73dde49749a6028b49695238d": {
     "views": []
    },
    "f6fe67d5c4904f55a47ecd8eaf26fc70": {
     "views": []
    },
    "f71af173e3cd43d48e55dad80f1261a5": {
     "views": []
    },
    "f78e03c1c9ca4615a27392b784be0c5e": {
     "views": []
    },
    "f81be153f8de48c38d9e44387e974720": {
     "views": []
    },
    "f84a792047d44785a23f010d8f1350e3": {
     "views": []
    },
    "f8934322f0534860bc93ee961723a5ef": {
     "views": []
    },
    "f8ae15217cb744378623108cc6fa5f8d": {
     "views": []
    },
    "f8cea35c70d64ea4ae037694d46d810e": {
     "views": []
    },
    "f927216135af41cd97bddfcb702e1651": {
     "views": []
    },
    "f989792fcc0241118f1b04cd6ab2cc83": {
     "views": []
    },
    "f9ed4212a3cb428c894861dacac6b88c": {
     "views": []
    },
    "fa1a2617a2b4436dab186acedc6602c5": {
     "views": []
    },
    "fa23cf10a0f4483c89ddeaa95e5a3536": {
     "views": []
    },
    "fab774c4638d45ca92559936755ac651": {
     "views": []
    },
    "faead0edc6704015ac89108d4df57ad1": {
     "views": []
    },
    "fb8af2bc05874334900bec3aa380f763": {
     "views": []
    },
    "fbd9b6925eb2420a9edc03720b80c71b": {
     "views": []
    },
    "fbf872c41b254a8ba0692b822c9ff5c5": {
     "views": []
    },
    "fc5db72f8d194a058bd8f27c547ca700": {
     "views": []
    },
    "fc771b9e325a44c490722f51d844b69c": {
     "views": []
    },
    "fca749aabf214e288158da8704ac72ff": {
     "views": []
    },
    "fcd70986bd384dd28720000461c39130": {
     "views": []
    },
    "fcdbd1298351442590b72d6beafce8dd": {
     "views": []
    },
    "fd8079b720fd456b92360a0e9584e3b1": {
     "views": []
    },
    "fdbb18c584544b02ab80814c0f74b065": {
     "views": []
    },
    "fe2152dbae02474c90ec1cc0b0d01490": {
     "views": []
    },
    "feae45631cec419e8c85bfd12c335610": {
     "views": []
    },
    "fee6b89724e14ec4bf9e81bf9d1dd4ee": {
     "views": []
    },
    "fee72baf8c6446f9aea53c39733d5554": {
     "views": []
    },
    "ff2acbcf69384973a028266a7a1b31ca": {
     "views": []
    },
    "ffa85ecfd7b74341b8e29091a41d8df3": {
     "views": []
    },
    "ffaabc0b6fb74c629cd7477524067350": {
     "views": []
    },
    "ffdc56890bfc407fa71ff29c64e83b39": {
     "views": []
    }
   },
   "version": "1.1.2"
  }
 },
 "nbformat": 4,
 "nbformat_minor": 0
}
