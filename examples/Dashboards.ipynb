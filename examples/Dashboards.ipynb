{
 "cells": [
  {
   "cell_type": "markdown",
   "metadata": {},
   "source": [
    "In order to use the shaolin framework more comfortably we will use a little screen hack."
   ]
  },
  {
   "cell_type": "code",
   "execution_count": 1,
   "metadata": {
    "collapsed": false
   },
   "outputs": [
    {
     "data": {
      "text/html": [
       "<style>\n",
       ".container { width:100% !important; }\n",
       ".input{ width:60% !important;\n",
       "       align: center;\n",
       "      }\n",
       ".text_cell{ width:70% !important;\n",
       "            font-size: 16px;}\n",
       ".title {align:center !important;}\n",
       "</style>"
      ],
      "text/plain": [
       "<IPython.core.display.HTML object>"
      ]
     },
     "metadata": {},
     "output_type": "display_data"
    }
   ],
   "source": [
    "%%HTML\n",
    "<style>\n",
    ".container { width:100% !important; }\n",
    ".input{ width:60% !important;\n",
    "       align: center;\n",
    "      }\n",
    ".text_cell{ width:70% !important;\n",
    "            font-size: 16px;}\n",
    ".title {align:center !important;}\n",
    "</style>"
   ]
  },
  {
   "cell_type": "markdown",
   "metadata": {},
   "source": [
    "# Shaolin Dashboard Introduction"
   ]
  },
  {
   "cell_type": "markdown",
   "metadata": {},
   "source": [
    "<a id='index'></a>"
   ]
  },
  {
   "cell_type": "markdown",
   "metadata": {},
   "source": [
    "## Index "
   ]
  },
  {
   "cell_type": "markdown",
   "metadata": {},
   "source": [
    "- [1 Introduction](#intro)\n",
    "- [2 Structure](#structure)\n",
    "   - [2.1 Attributes](#attributes)\n",
    "   - [2.2 Functions](#functions)\n",
    "   \n",
    "- [3 Syntax](#syntax)\n",
    "   - [3.1 Examples](#syntax_examples)\n",
    "\n",
    "- [4 Interactivity](#interactivity)\n",
    "   - [4.1 Default values](#interactivity_default)\n",
    "   - [4.2 Syntax](#interactivity_syntax)\n",
    "- [5 Styling](#styling)  \n",
    "    - [5.1 State manager](#state_manager)\n",
    "    - [5.2 Accessing, loading and changing the layout](#load_and_save)"
   ]
  },
  {
   "cell_type": "markdown",
   "metadata": {},
   "source": [
    "<a id='introduction'></a>"
   ]
  },
  {
   "cell_type": "markdown",
   "metadata": {},
   "source": [
    "# 1 Introduction"
   ]
  },
  {
   "cell_type": "markdown",
   "metadata": {},
   "source": [
    "[Back to top](#index)"
   ]
  },
  {
   "cell_type": "markdown",
   "metadata": {},
   "source": [
    "The Dashboard is the main tool of the Shaolin frameowrk. It can be seen as an interactive code box and it has all the functionalities needed for controlling the interactivity of its components.\n",
    "\n",
    "A Dashboard can be build combining widgets and other dashboards. It can be used as a standalone object or in combination with other Dashboards, and its main goal is to offer a simplified interface for managing all the ipywidets functionality in a simpler and scalable way."
   ]
  },
  {
   "cell_type": "markdown",
   "metadata": {},
   "source": [
    "<a id='structure'></a>"
   ]
  },
  {
   "cell_type": "markdown",
   "metadata": {},
   "source": [
    "# 2 Structure"
   ]
  },
  {
   "cell_type": "markdown",
   "metadata": {},
   "source": [
    "This is a description of the Dashboard capabilities. A detailed explanation can be seen in further sections."
   ]
  },
  {
   "cell_type": "markdown",
   "metadata": {},
   "source": [
    "<a id='attributes'></a>"
   ]
  },
  {
   "cell_type": "markdown",
   "metadata": {},
   "source": [
    "## 2.1 Attributes"
   ]
  },
  {
   "cell_type": "markdown",
   "metadata": {},
   "source": [
    "[Back to top](#index)"
   ]
  },
  {
   "cell_type": "markdown",
   "metadata": {},
   "source": [
    "Here we will describe the attributes of a Dashboard. They are all related to managing interactivity and the same functionality offered by the ipywidgets package:"
   ]
  },
  {
   "cell_type": "markdown",
   "metadata": {},
   "source": [
    "- Init parameters:\n",
    "    - **dasboard**: list representing the syntax of the Dasboard components.\n",
    "    - **func**(None): function to mimic the interactive behaviour of the ipywidgets package. It will interact with the widgets defined in the dashboard.\n",
    "    - **data**(None): The data the Dashboard will use.\n",
    "    - **name**(None): Name of the Dasboard. Each component of a Dashboard must have a unique name. \n",
    "    - **mode**('active'): interactivity mode of the Dashboard.\n",
    "\n",
    "    - **visible**(True): Displays all the dashboard's components when True and hides its components when False.\n",
    "    - **state**(None): dict containing all the layout parameters of the dashboard components. (soon it will contain the vaue information also)\n",
    "- Parameters created at instantiation:\n",
    "    - **widget**: Graphic interface of the Dashboard.\n",
    "    - **mode_dict**: dict containing the information regarding the interactivity of every component.\n",
    "    - **value**, **kwargs**: dictionary of kwargs containing all the interactive and active components as a key-value pairs.\n",
    "    - **interactive_kwargs**: dict containing the name and value of the interactive components stored as key-value pairs.\n",
    "    - **state_manager**: Dashboard for customizing, loading and saving the state of the Dashboard.\n",
    "    - **output**(kwargs): When working with data this attribute contains the processed value that the Dashboard will output. If there is no data it's just an alias for kwargs.\n"
   ]
  },
  {
   "cell_type": "markdown",
   "metadata": {},
   "source": [
    "<a id='functions'></a>"
   ]
  },
  {
   "cell_type": "markdown",
   "metadata": {},
   "source": [
    "## 2.2 Functions "
   ]
  },
  {
   "cell_type": "markdown",
   "metadata": {},
   "source": [
    "[Back to top](#index)"
   ]
  },
  {
   "cell_type": "markdown",
   "metadata": {},
   "source": [
    "A Dashboard has its own functions for mimicking the ipywidgets functionality:\n",
    "\n",
    "- **name_from_shaoscript**: Returns the name of a shaoscript string notation element.\n",
    "- **read_shaolist**: reads a Dashboard component from its list representation and returns its shaoscript description, its kwargs and its children.\n",
    "- **observe**: Same functionality as ipywidgets. It will trigger the observer function when any interactive component changes its value.\n",
    "\n",
    "- **link**: Links the values of two components.\n",
    "- **dlink**: Stablishes a direct link between two components.\n",
    "- **unlink**: Removes a link.\n",
    "- **interact**: Applies the dashboard func to the Dashboard's output.\n",
    "- **apply_state**: Sets the state dict of a widget and updates its layout accordingly."
   ]
  },
  {
   "cell_type": "markdown",
   "metadata": {},
   "source": [
    "<a id='syntax'></a>"
   ]
  },
  {
   "cell_type": "markdown",
   "metadata": {},
   "source": [
    "# 3 Syntax"
   ]
  },
  {
   "cell_type": "markdown",
   "metadata": {},
   "source": [
    "[Back to top](#index)"
   ]
  },
  {
   "cell_type": "markdown",
   "metadata": {},
   "source": [
    "We will use a custom notation for defining tha layout of the dashboard components. Each component defined in the layout will be accessible as an attribute with the same name as the widget (we can set it directly as a parameter or indirectly with the description as seen early).\n",
    "\n",
    "A dashboard component will be a list contaning a shaoscript string notation. If the widget can have child the component will be stated as a list of two elements: The first one will be a string containing the widget shaoscript notation and the second one will be a list containing its children elements, where every element will be an item of that list.\n",
    "\n",
    "This allows for stacking widgets and creating complex boxes more easily than using multiple ipywidgets boxes."
   ]
  },
  {
   "cell_type": "markdown",
   "metadata": {},
   "source": [
    "<a id='syntax_examples'></a>"
   ]
  },
  {
   "cell_type": "markdown",
   "metadata": {},
   "source": [
    "## 3.1 Examples"
   ]
  },
  {
   "cell_type": "markdown",
   "metadata": {},
   "source": [
    "[Back to top](#index)"
   ]
  },
  {
   "cell_type": "code",
   "execution_count": 1,
   "metadata": {
    "collapsed": false
   },
   "outputs": [],
   "source": [
    "from IPython.display import Image #this is for displaying the widgets in the web version of the notebook\n",
    "from shaolin.core.dashboard import Dashboard"
   ]
  },
  {
   "cell_type": "markdown",
   "metadata": {},
   "source": [
    "- **Dashboard containing a single widget.**"
   ]
  },
  {
   "cell_type": "code",
   "execution_count": 2,
   "metadata": {
    "collapsed": false
   },
   "outputs": [
    {
     "data": {
      "image/png": "[encoded data removed]",
      "text/plain": [
       "<IPython.core.display.Image object>"
      ]
     },
     "execution_count": 2,
     "metadata": {},
     "output_type": "execute_result"
    }
   ],
   "source": [
    "dash = Dashboard(['fs$D=fs'])\n",
    "dash.widget\n",
    "Image(filename='dashboards_data/img_1.png')"
   ]
  },
  {
   "cell_type": "markdown",
   "metadata": {},
   "source": [
    "- **Dashboard containing three components in a row**"
   ]
  },
  {
   "cell_type": "code",
   "execution_count": 3,
   "metadata": {
    "collapsed": false
   },
   "outputs": [
    {
     "data": {
      "image/png": "[encoded data removed]",
      "text/plain": [
       "<IPython.core.display.Image object>"
      ]
     },
     "execution_count": 3,
     "metadata": {},
     "output_type": "execute_result"
    }
   ],
   "source": [
    "dash = Dashboard(['r$N=row',['##Row$N=text','fs$D=fs','tog$d=Toggle']])\n",
    "#dash.widget\n",
    "Image(filename='dashboards_data/img_2.png')"
   ]
  },
  {
   "cell_type": "markdown",
   "metadata": {},
   "source": [
    "- **A column with two rows of components**"
   ]
  },
  {
   "cell_type": "code",
   "execution_count": 4,
   "metadata": {
    "collapsed": false
   },
   "outputs": [
    {
     "data": {
      "image/png": "[encoded data removed]",
      "text/plain": [
       "<IPython.core.display.Image object>"
      ]
     },
     "execution_count": 4,
     "metadata": {},
     "output_type": "execute_result"
    }
   ],
   "source": [
    "       #Column that gives a name to the Dashboard. \n",
    "test_dash = ['c$N=array_scaler',\n",
    "        #first row only has one widget. This element can be just a string \n",
    "        ['@(0,100,1, (0., 100.))$N=scale_slider&d=range',\n",
    "         #Two widgets in the second row. As this element has childrens it has to be a list.\n",
    "         ['r$N=main_row',['@dd$d=Apply&N=dd_sel&val=one&o=[\"one\",\"two\",\"three\"]','@True$N=scale_chk&d=Scale']]\n",
    "        ]\n",
    "       ]\n",
    "dboard = Dashboard(test_dash)\n",
    "#dboard.widget\n",
    "Image(filename='dashboards_data/img_3.png')"
   ]
  },
  {
   "cell_type": "markdown",
   "metadata": {},
   "source": [
    "<a id='interactivity'></a>"
   ]
  },
  {
   "cell_type": "markdown",
   "metadata": {},
   "source": [
    "# 4 Interactivity"
   ]
  },
  {
   "cell_type": "markdown",
   "metadata": {},
   "source": [
    "[Back to top](#index)"
   ]
  },
  {
   "cell_type": "markdown",
   "metadata": {},
   "source": [
    "There are 3 modes of interactivity that determines how a given component behaves when its value changes. The mode attribute of a Dashboard holds one interactivity value of the following:\n",
    "\n",
    "- **Passive**: changing the value of the widget won+t have any additional effect. Markdown and display components are a good example of widgets that can exibit a passive behaviour.\n",
    "\n",
    "- **active**: If a component is active it will be included in the kwargs dict but changing its value won't trigger the update function.\n",
    "\n",
    "- **Interactive**: Once the observe function is called on a Dashboard, the target function will be applied each time an interactive component changes its value."
   ]
  },
  {
   "cell_type": "markdown",
   "metadata": {},
   "source": [
    "Accessing the mode_dict attribube of a Dashboard the mode of every component can be viewed and changed."
   ]
  },
  {
   "cell_type": "markdown",
   "metadata": {},
   "source": [
    "<a id='default_int'></a>"
   ]
  },
  {
   "cell_type": "code",
   "execution_count": 5,
   "metadata": {
    "collapsed": false
   },
   "outputs": [
    {
     "data": {
      "text/plain": [
       "{'active': [],\n",
       " 'all': ['array_scaler', 'scale_slider', 'main_row', 'dd_sel', 'scale_chk'],\n",
       " 'interactive': ['scale_slider', 'dd_sel', 'scale_chk'],\n",
       " 'passive': ['array_scaler', 'main_row']}"
      ]
     },
     "execution_count": 5,
     "metadata": {},
     "output_type": "execute_result"
    }
   ],
   "source": [
    "dboard.mode_dict"
   ]
  },
  {
   "cell_type": "markdown",
   "metadata": {},
   "source": [
    "<a id='interactivity_default'></a>"
   ]
  },
  {
   "cell_type": "markdown",
   "metadata": {},
   "source": [
    "## 4.1 Default values"
   ]
  },
  {
   "cell_type": "markdown",
   "metadata": {},
   "source": [
    "Each widget and Dashboard will be assignes by default the active mode. An exception to this rule are the widget boxes and Markdown Widgets."
   ]
  },
  {
   "cell_type": "markdown",
   "metadata": {},
   "source": [
    "<a id='interactivity_syntax'></a>"
   ]
  },
  {
   "cell_type": "markdown",
   "metadata": {},
   "source": [
    "## 4.2 Syntax"
   ]
  },
  {
   "cell_type": "markdown",
   "metadata": {},
   "source": [
    "[Back to top](#index)"
   ]
  },
  {
   "cell_type": "markdown",
   "metadata": {},
   "source": [
    "The interactivity value can be set writing the character @ at the begining of a shaoscript string. Note that this is a shaoscript syntax feature and will also set the mode as interactive when a widget is created using the function shaoscript (not only with the Dashboard object)"
   ]
  },
  {
   "cell_type": "code",
   "execution_count": 8,
   "metadata": {
    "collapsed": false
   },
   "outputs": [
    {
     "name": "stdout",
     "output_type": "stream",
     "text": [
      "Interactive dropdown {'all': ['dd_sel'], 'active': [], 'passive': [], 'interactive': ['dd_sel']} \n",
      " Active dropdown {'all': ['dd_sel'], 'active': ['dd_sel'], 'passive': [], 'interactive': []}\n"
     ]
    }
   ],
   "source": [
    "A = Dashboard(['@dd$d=Dropdown&N=dd_sel&val=one&o=[\"one\",\"two\",\"three\"]'])\n",
    "B = Dashboard(['dd$d=Dropdown&N=dd_sel&val=one&o=[\"one\",\"two\",\"three\"]'],mode='interactive')\n",
    "print(\"Interactive dropdown\",A.mode_dict,\"\\n Active dropdown\",B.mode_dict)\n"
   ]
  },
  {
   "cell_type": "code",
   "execution_count": 9,
   "metadata": {
    "collapsed": false
   },
   "outputs": [
    {
     "data": {
      "text/plain": [
       "('active', 'interactive')"
      ]
     },
     "execution_count": 9,
     "metadata": {},
     "output_type": "execute_result"
    }
   ],
   "source": [
    "A.mode, B.mode"
   ]
  },
  {
   "cell_type": "markdown",
   "metadata": {},
   "source": [
    "<a id='styling'></a>"
   ]
  },
  {
   "cell_type": "markdown",
   "metadata": {},
   "source": [
    "# 5 Styling"
   ]
  },
  {
   "cell_type": "markdown",
   "metadata": {},
   "source": [
    "[Back to top](#index)"
   ]
  },
  {
   "cell_type": "markdown",
   "metadata": {},
   "source": [
    "Although it is possible to style a Dashboard accessing the layout attribute of the widgets of any component (the target widget and the box widget wrapping the target) the recommended way of styling a Dashboard is using its state_manager attribute.\n",
    "\n",
    "The state_manager is a widget that allows to modify, load, and save any change to the Dashboard styling in an interactive way."
   ]
  },
  {
   "cell_type": "markdown",
   "metadata": {},
   "source": [
    "<a id='state_manager'></a>"
   ]
  },
  {
   "cell_type": "markdown",
   "metadata": {},
   "source": [
    "## 5.1 State Manager"
   ]
  },
  {
   "cell_type": "markdown",
   "metadata": {},
   "source": [
    "[Back to top](#index)"
   ]
  },
  {
   "cell_type": "markdown",
   "metadata": {},
   "source": [
    "The state manager is a Dashboard that allows to modify in an interactive way any visual property of a given Dashboard. Following the former example we will show how to customize a the Dashboard that we created before.\n",
    "\n",
    "This is a relatively complex Dashboard which can be seen as a colum that has three different rows:\n",
    "\n",
    "- ### **Css modifier**: \n",
    "This part is in charge of seting a group of css attributes for a selected widget. There are two groupc of css attributes:\n",
    "    - **Text attribute**: Its widge will display the available values in a dropdown or a text input for non-common values. A custom value can be set by deactivating the Default checkbox for a given attribute. Each selection can either be applied to the target widget of a component or to its box.\n",
    "    - **Numeric attribute**: Its Dashboard will allow to select the units in which the value will be expressed using a text input or a slider for selecting the numeric value and a togglebutton for selecting the units. \n",
    "- ### **Control Panel**: \n",
    "This row has the following elements:\n",
    "    - **Component selector**: This allows to select the component that will be modified.\n",
    "    - **Layout attribute selector**: This toggle buttons allow to select which layout attribute will be modified:\n",
    "        - **Grid**: Attributes regarding alignment, padding and margin. The alignment attributes will be applied only to the target or the box of a component only when they will haev a meaningful effect.\n",
    "        - **W&H**: width and height css related attributes.\n",
    "        - **Other**: The rest of the layout attributes.\n",
    "        - **Widget**: Component target's attributes that influence the widget appearance.\n",
    "    - **Selected attribute display**\n",
    "    - **Layout saver**\n",
    "- ### **Target Dashboard**: \n",
    "The Dashboard that is currently modifying the state manager. "
   ]
  },
  {
   "cell_type": "code",
   "execution_count": 13,
   "metadata": {
    "collapsed": false,
    "scrolled": false
   },
   "outputs": [
    {
     "data": {
      "image/png": "[encoded data removed]",
      "text/plain": [
       "<IPython.core.display.Image object>"
      ]
     },
     "execution_count": 13,
     "metadata": {},
     "output_type": "execute_result"
    }
   ],
   "source": [
    "#dboard.state_manager\n",
    "Image(filename='dashboards_data/img_4.png')"
   ]
  },
  {
   "cell_type": "markdown",
   "metadata": {},
   "source": [
    "In this example we are going to modify the following:\n",
    "\n",
    "- **Padding of every component**: 0.5em, dropdown and checkbox 0.25em.\n",
    "- **Justify value of the checkbox**: center\n",
    "- **width of the dropdown**: 100%\n",
    "- **width of the Dashboard**: 22em\n",
    "- **border of the whole Dashboard**: blue solid 0.1em"
   ]
  },
  {
   "cell_type": "markdown",
   "metadata": {},
   "source": [
    "<a id='load_and_save'></a>"
   ]
  },
  {
   "cell_type": "markdown",
   "metadata": {},
   "source": [
    "## 5.2 Accessing, loading and changing the layout"
   ]
  },
  {
   "cell_type": "markdown",
   "metadata": {},
   "source": [
    "[Back to top](#index)"
   ]
  },
  {
   "cell_type": "markdown",
   "metadata": {},
   "source": [
    "The modified layout can be read and changed accesing the *state* attribute of a dashboard, and can be saved as a dict by clicking the save button in the state manager. This way the state dict will be saved as a pickle file. \n",
    "\n",
    "The folowing example illustrates this process. Note that the A widget behaves on its own and the B and C are linked. This is due to both having the same name (the name of the first element of the Dashboard)"
   ]
  },
  {
   "cell_type": "code",
   "execution_count": 15,
   "metadata": {
    "collapsed": false,
    "scrolled": true
   },
   "outputs": [
    {
     "data": {
      "image/png": "[encoded data removed]",
      "text/plain": [
       "<IPython.core.display.Image object>"
      ]
     },
     "execution_count": 15,
     "metadata": {},
     "output_type": "execute_result"
    }
   ],
   "source": [
    "A= Dashboard(test_dash,state='array_scaler.pkl',name='A') #instantiating with the path of a saved layout.\n",
    "custom_layout = dict(A.state)\n",
    "B = Dashboard(test_dash,state=custom_layout) #instantiating with a dict \n",
    "C = Dashboard(test_dash)#Init with default layout.\n",
    "C.state = custom_layout #dinamically changing the layout\n",
    "#Dashboard(['r$N=row',[A,B,C]]).widget #This is the new widgets.Hbox(children=[A.widget, B.widget, C.widget])\n",
    "Image(filename='dashboards_data/img_5.png')"
   ]
  },
  {
   "cell_type": "code",
   "execution_count": 18,
   "metadata": {
    "collapsed": false
   },
   "outputs": [
    {
     "data": {
      "text/plain": [
       "{'array_scaler': {'css_traits': {'align_content': {'target': 'blue solid 0.1em',\n",
       "    'widget': ''},\n",
       "   'align_items': {'target': 'blue solid 0.1em', 'widget': ''},\n",
       "   'align_self': {'target': 'blue solid 0.1em', 'widget': ''},\n",
       "   'border': {'target': 'blue solid 0.1em', 'widget': ''},\n",
       "   'bottom': {'target': 'blue solid 0.1em', 'widget': ''},\n",
       "   'display': {'target': 'blue solid 0.1em', 'widget': ''},\n",
       "   'flex': {'target': 'blue solid 0.1em', 'widget': ''},\n",
       "   'flex_flow': {'target': 'blue solid 0.1em', 'widget': ''},\n",
       "   'height': {'target': '', 'widget': ''},\n",
       "   'justify_content': {'target': 'blue solid 0.1em', 'widget': ''},\n",
       "   'left': {'target': 'blue solid 0.1em', 'widget': ''},\n",
       "   'margin': {'target': 'blue solid 0.1em', 'widget': ''},\n",
       "   'max_height': {'target': '', 'widget': ''},\n",
       "   'max_width': {'target': '', 'widget': ''},\n",
       "   'min_height': {'target': '', 'widget': ''},\n",
       "   'min_width': {'target': '', 'widget': ''},\n",
       "   'overflow': {'target': 'blue solid 0.1em', 'widget': ''},\n",
       "   'padding': {'target': 'blue solid 0.1em', 'widget': ''},\n",
       "   'right': {'target': 'blue solid 0.1em', 'widget': ''},\n",
       "   'top': {'target': 'blue solid 0.1em', 'widget': ''},\n",
       "   'visibility': {'target': 'blue solid 0.1em', 'widget': ''},\n",
       "   'width': {'target': '22.0em', 'widget': ''}},\n",
       "  'widget_attrs': {'visible': True}},\n",
       " 'dd_sel': {'css_traits': {'align_content': {'target': '', 'widget': ''},\n",
       "   'align_items': {'target': '', 'widget': ''},\n",
       "   'align_self': {'target': '', 'widget': ''},\n",
       "   'border': {'target': '', 'widget': ''},\n",
       "   'bottom': {'target': '', 'widget': ''},\n",
       "   'display': {'target': '', 'widget': ''},\n",
       "   'flex': {'target': '', 'widget': ''},\n",
       "   'flex_flow': {'target': '', 'widget': ''},\n",
       "   'height': {'target': '', 'widget': ''},\n",
       "   'justify_content': {'target': 'center', 'widget': ''},\n",
       "   'left': {'target': '', 'widget': ''},\n",
       "   'margin': {'target': '', 'widget': ''},\n",
       "   'max_height': {'target': '', 'widget': ''},\n",
       "   'max_width': {'target': '', 'widget': ''},\n",
       "   'min_height': {'target': '', 'widget': ''},\n",
       "   'min_width': {'target': '', 'widget': ''},\n",
       "   'overflow': {'target': '', 'widget': ''},\n",
       "   'padding': {'target': '', 'widget': '0.25%'},\n",
       "   'right': {'target': '', 'widget': ''},\n",
       "   'top': {'target': '', 'widget': ''},\n",
       "   'visibility': {'target': '', 'widget': ''},\n",
       "   'width': {'target': '100.0%', 'widget': ''}},\n",
       "  'widget_attrs': {'visible': True}},\n",
       " 'main_row': {'css_traits': {'align_content': {'target': '', 'widget': ''},\n",
       "   'align_items': {'target': '', 'widget': ''},\n",
       "   'align_self': {'target': '', 'widget': ''},\n",
       "   'border': {'target': '', 'widget': ''},\n",
       "   'bottom': {'target': '', 'widget': ''},\n",
       "   'display': {'target': '', 'widget': ''},\n",
       "   'flex': {'target': '', 'widget': ''},\n",
       "   'flex_flow': {'target': '', 'widget': ''},\n",
       "   'height': {'target': '', 'widget': ''},\n",
       "   'justify_content': {'target': '', 'widget': ''},\n",
       "   'left': {'target': '', 'widget': ''},\n",
       "   'margin': {'target': '', 'widget': ''},\n",
       "   'max_height': {'target': '', 'widget': ''},\n",
       "   'max_width': {'target': '', 'widget': ''},\n",
       "   'min_height': {'target': '', 'widget': ''},\n",
       "   'min_width': {'target': '', 'widget': ''},\n",
       "   'overflow': {'target': '', 'widget': ''},\n",
       "   'padding': {'target': '', 'widget': '0.5%'},\n",
       "   'right': {'target': '', 'widget': ''},\n",
       "   'top': {'target': '', 'widget': ''},\n",
       "   'visibility': {'target': '', 'widget': ''},\n",
       "   'width': {'target': '', 'widget': ''}},\n",
       "  'widget_attrs': {'visible': True}},\n",
       " 'scale_chk': {'css_traits': {'align_content': {'target': '', 'widget': ''},\n",
       "   'align_items': {'target': '', 'widget': ''},\n",
       "   'align_self': {'target': '', 'widget': ''},\n",
       "   'border': {'target': '', 'widget': ''},\n",
       "   'bottom': {'target': '', 'widget': ''},\n",
       "   'display': {'target': '', 'widget': ''},\n",
       "   'flex': {'target': '', 'widget': ''},\n",
       "   'flex_flow': {'target': '', 'widget': ''},\n",
       "   'height': {'target': '', 'widget': ''},\n",
       "   'justify_content': {'target': 'center', 'widget': ''},\n",
       "   'left': {'target': '', 'widget': ''},\n",
       "   'margin': {'target': '', 'widget': ''},\n",
       "   'max_height': {'target': '', 'widget': ''},\n",
       "   'max_width': {'target': '', 'widget': ''},\n",
       "   'min_height': {'target': '', 'widget': ''},\n",
       "   'min_width': {'target': '', 'widget': ''},\n",
       "   'overflow': {'target': '', 'widget': ''},\n",
       "   'padding': {'target': '', 'widget': '0.25%'},\n",
       "   'right': {'target': '', 'widget': ''},\n",
       "   'top': {'target': '', 'widget': ''},\n",
       "   'visibility': {'target': '', 'widget': ''},\n",
       "   'width': {'target': '', 'widget': ''}},\n",
       "  'widget_attrs': {'visible': True}},\n",
       " 'scale_slider': {'css_traits': {'align_content': {'target': '', 'widget': ''},\n",
       "   'align_items': {'target': '', 'widget': ''},\n",
       "   'align_self': {'target': '', 'widget': ''},\n",
       "   'border': {'target': '', 'widget': ''},\n",
       "   'bottom': {'target': '', 'widget': ''},\n",
       "   'display': {'target': '', 'widget': ''},\n",
       "   'flex': {'target': '', 'widget': ''},\n",
       "   'flex_flow': {'target': '', 'widget': ''},\n",
       "   'height': {'target': '', 'widget': ''},\n",
       "   'justify_content': {'target': '', 'widget': ''},\n",
       "   'left': {'target': '', 'widget': ''},\n",
       "   'margin': {'target': '', 'widget': ''},\n",
       "   'max_height': {'target': '', 'widget': ''},\n",
       "   'max_width': {'target': '', 'widget': ''},\n",
       "   'min_height': {'target': '', 'widget': ''},\n",
       "   'min_width': {'target': '', 'widget': ''},\n",
       "   'overflow': {'target': '', 'widget': ''},\n",
       "   'padding': {'target': '', 'widget': '0.5%'},\n",
       "   'right': {'target': '', 'widget': ''},\n",
       "   'top': {'target': '', 'widget': ''},\n",
       "   'visibility': {'target': '', 'widget': ''},\n",
       "   'width': {'target': '', 'widget': ''}},\n",
       "  'widget_attrs': {'visible': True}}}"
      ]
     },
     "execution_count": 18,
     "metadata": {},
     "output_type": "execute_result"
    }
   ],
   "source": [
    "C.state"
   ]
  }
 ],
 "metadata": {
  "kernelspec": {
   "display_name": "Python 3",
   "language": "python",
   "name": "python3"
  },
  "language_info": {
   "codemirror_mode": {
    "name": "ipython",
    "version": 3
   },
   "file_extension": ".py",
   "mimetype": "text/x-python",
   "name": "python",
   "nbconvert_exporter": "python",
   "pygments_lexer": "ipython3",
   "version": "3.5.1"
  },
  "widgets": {
   "state": {
    "46b6c5b2d66746129c3f0d755d86aef0": {
     "views": []
    },
    "6828e1f3b55c4002a8831991e311365b": {
     "views": []
    },
    "6ef24376a6474f01aa9ab59fc42e7d26": {
     "views": []
    },
    "72ad815ad1584214a0dc04ae4c2804a2": {
     "views": []
    },
    "b648634f9b4b4d83b41974996754d6c5": {
     "views": []
    },
    "b8de3f9071b44167b37fc88397d9d6c0": {
     "views": []
    },
    "d674f23d381e47d68c3179054f5c9155": {
     "views": []
    },
    "e9edc537fa52415ab9d9b10f4d5fff1e": {
     "views": []
    }
   },
   "version": "1.1.2"
  }
 },
 "nbformat": 4,
 "nbformat_minor": 0
}
