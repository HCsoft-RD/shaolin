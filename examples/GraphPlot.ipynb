{
 "cells": [
  {
   "cell_type": "markdown",
   "metadata": {},
   "source": [
    "# GraphPlot tutorial"
   ]
  },
  {
   "cell_type": "markdown",
   "metadata": {},
   "source": [
    "**Tutorial in Working progress**\n",
    "\n",
    "If you have read the previous tutorials you can run this notebook and have fun playing with the widget. If not... play and see what happens!"
   ]
  },
  {
   "cell_type": "markdown",
   "metadata": {},
   "source": [
    "This is a basic tutorial on how to use the shaolin GraphPlot for interactive visualization of graphs."
   ]
  },
  {
   "cell_type": "markdown",
   "metadata": {},
   "source": [
    "### Imports and setup of sample data"
   ]
  },
  {
   "cell_type": "code",
   "execution_count": 1,
   "metadata": {
    "collapsed": false
   },
   "outputs": [
    {
     "data": {
      "text/html": [
       "<style>\n",
       ".container { width:98% !important; }\n",
       ".input{ width:40% !important; }\n",
       ".text_cell{ width:40% !important;\n",
       "            font-size: 16px;}\n",
       ".title {align:center !important;}\n",
       "</style>"
      ],
      "text/plain": [
       "<IPython.core.display.HTML object>"
      ]
     },
     "execution_count": 1,
     "metadata": {},
     "output_type": "execute_result"
    }
   ],
   "source": [
    "#wide screen hack, great for making big plots and have more room for the control panels\n",
    "from IPython.core.display import HTML\n",
    "html ='''<style>\n",
    ".container { width:98% !important; }\n",
    ".input{ width:40% !important; }\n",
    ".text_cell{ width:40% !important;\n",
    "            font-size: 16px;}\n",
    ".title {align:center !important;}\n",
    "</style>'''\n",
    "HTML(html)"
   ]
  },
  {
   "cell_type": "code",
   "execution_count": 1,
   "metadata": {
    "collapsed": true
   },
   "outputs": [],
   "source": [
    "import sys\n",
    "path =\"/home/sergio/github/shaolin-master\"\n",
    "sys.path.append(path)"
   ]
  },
  {
   "cell_type": "code",
   "execution_count": 2,
   "metadata": {
    "collapsed": false
   },
   "outputs": [
    {
     "data": {
      "text/html": [
       "\n",
       "    <div class=\"bk-banner\">\n",
       "        <a href=\"http://bokeh.pydata.org\" target=\"_blank\" class=\"bk-logo bk-logo-small bk-logo-notebook\"></a>\n",
       "        <span id=\"7295694a-e3fb-4aeb-805c-617154c3e5b5\">Loading BokehJS ...</span>\n",
       "    </div>"
      ]
     },
     "metadata": {},
     "output_type": "display_data"
    },
    {
     "data": {
      "application/javascript": [
       "\n",
       "(function(global) {\n",
       "  function now() {\n",
       "    return new Date();\n",
       "  }\n",
       "\n",
       "  if (typeof (window._bokeh_onload_callbacks) === \"undefined\") {\n",
       "    window._bokeh_onload_callbacks = [];\n",
       "  }\n",
       "\n",
       "  function run_callbacks() {\n",
       "    window._bokeh_onload_callbacks.forEach(function(callback) { callback() });\n",
       "    delete window._bokeh_onload_callbacks\n",
       "    console.info(\"Bokeh: all callbacks have finished\");\n",
       "  }\n",
       "\n",
       "  function load_libs(js_urls, callback) {\n",
       "    window._bokeh_onload_callbacks.push(callback);\n",
       "    if (window._bokeh_is_loading > 0) {\n",
       "      console.log(\"Bokeh: BokehJS is being loaded, scheduling callback at\", now());\n",
       "      return null;\n",
       "    }\n",
       "    if (js_urls == null || js_urls.length === 0) {\n",
       "      run_callbacks();\n",
       "      return null;\n",
       "    }\n",
       "    console.log(\"Bokeh: BokehJS not loaded, scheduling load and callback at\", now());\n",
       "    window._bokeh_is_loading = js_urls.length;\n",
       "    for (var i = 0; i < js_urls.length; i++) {\n",
       "      var url = js_urls[i];\n",
       "      var s = document.createElement('script');\n",
       "      s.src = url;\n",
       "      s.async = false;\n",
       "      s.onreadystatechange = s.onload = function() {\n",
       "        window._bokeh_is_loading--;\n",
       "        if (window._bokeh_is_loading === 0) {\n",
       "          console.log(\"Bokeh: all BokehJS libraries loaded\");\n",
       "          run_callbacks()\n",
       "        }\n",
       "      };\n",
       "      s.onerror = function() {\n",
       "        console.warn(\"failed to load library \" + url);\n",
       "      };\n",
       "      console.log(\"Bokeh: injecting script tag for BokehJS library: \", url);\n",
       "      document.getElementsByTagName(\"head\")[0].appendChild(s);\n",
       "    }\n",
       "  };\n",
       "\n",
       "  var js_urls = ['https://cdn.pydata.org/bokeh/release/bokeh-0.11.1.min.js', 'https://cdn.pydata.org/bokeh/release/bokeh-widgets-0.11.1.min.js', 'https://cdn.pydata.org/bokeh/release/bokeh-compiler-0.11.1.min.js'];\n",
       "\n",
       "  var inline_js = [\n",
       "    function(Bokeh) {\n",
       "      Bokeh.set_log_level(\"info\");\n",
       "    },\n",
       "    \n",
       "    function(Bokeh) {\n",
       "      Bokeh.$(\"#7295694a-e3fb-4aeb-805c-617154c3e5b5\").text(\"BokehJS successfully loaded\");\n",
       "    },\n",
       "    function(Bokeh) {\n",
       "      console.log(\"Bokeh: injecting CSS: https://cdn.pydata.org/bokeh/release/bokeh-0.11.1.min.css\");\n",
       "      Bokeh.embed.inject_css(\"https://cdn.pydata.org/bokeh/release/bokeh-0.11.1.min.css\");\n",
       "      console.log(\"Bokeh: injecting CSS: https://cdn.pydata.org/bokeh/release/bokeh-widgets-0.11.1.min.css\");\n",
       "      Bokeh.embed.inject_css(\"https://cdn.pydata.org/bokeh/release/bokeh-widgets-0.11.1.min.css\");\n",
       "    }\n",
       "  ];\n",
       "\n",
       "  function run_inline_js() {\n",
       "    for (var i = 0; i < inline_js.length; i++) {\n",
       "      inline_js[i](window.Bokeh);\n",
       "    }\n",
       "  }\n",
       "\n",
       "  if (window._bokeh_is_loading === 0) {\n",
       "    console.log(\"Bokeh: BokehJS loaded, going straight to plotting\");\n",
       "    run_inline_js();\n",
       "  } else {\n",
       "    load_libs(js_urls, function() {\n",
       "      console.log(\"Bokeh: BokehJS plotting callback run at\", now());\n",
       "      run_inline_js();\n",
       "    });\n",
       "  }\n",
       "}(this));"
      ]
     },
     "metadata": {},
     "output_type": "display_data"
    }
   ],
   "source": [
    "from IPython.display import Image #this is for displaying the widgets in the web version of the notebook\n",
    "import pandas as pd\n",
    "from shaolin.benders.graph import GraphPlot\n",
    "from shaolin.wranglers.graph import GraphCalculator"
   ]
  },
  {
   "cell_type": "code",
   "execution_count": 3,
   "metadata": {
    "collapsed": true
   },
   "outputs": [],
   "source": [
    "node_metrics = pd.read_hdf('gplot_data/sample_node_metrics.h5')\n",
    "matrix_panel = pd.read_hdf('gplot_data/sample_matrix_panel.h5')"
   ]
  },
  {
   "cell_type": "code",
   "execution_count": 4,
   "metadata": {
    "collapsed": true
   },
   "outputs": [],
   "source": [
    "gc = GraphCalculator(node_metrics=node_metrics,matrix_panel=matrix_panel)"
   ]
  },
  {
   "cell_type": "markdown",
   "metadata": {},
   "source": [
    "## Plot initialization"
   ]
  },
  {
   "cell_type": "markdown",
   "metadata": {},
   "source": [
    "To start plotting a graph you only need to instantiate a GraphPlot holding the information we want to visualize. Al the managemen can be done as usual using the *widget* attribute.\n",
    "\n",
    "**Alpha version disclaimer**:\n",
    "\n",
    "- As the GraphCalculator still doesn't handle the *node_metrics* it is necessary to merge them with the *node* Dataframe by hand in order to handle the tooltip info propperly. This will soon be corrected."
   ]
  },
  {
   "cell_type": "code",
   "execution_count": 5,
   "metadata": {
    "collapsed": true
   },
   "outputs": [],
   "source": [
    "gc.node_metrics = gc.node_metrics.T.combine_first(gc.node) #Alpha version hack"
   ]
  },
  {
   "cell_type": "code",
   "execution_count": 6,
   "metadata": {
    "collapsed": false
   },
   "outputs": [],
   "source": [
    "gp = GraphPlot(gc)"
   ]
  },
  {
   "cell_type": "code",
   "execution_count": 9,
   "metadata": {
    "collapsed": false,
    "scrolled": false
   },
   "outputs": [
    {
     "data": {
      "text/html": [
       "\n",
       "\n",
       "    <div class=\"plotdiv\" id=\"cb313497-2c7f-4b2d-b576-92c17fd0fb82\"></div>\n",
       "<script type=\"text/javascript\">\n",
       "  \n",
       "  (function(global) {\n",
       "    function now() {\n",
       "      return new Date();\n",
       "    }\n",
       "  \n",
       "    if (typeof (window._bokeh_onload_callbacks) === \"undefined\") {\n",
       "      window._bokeh_onload_callbacks = [];\n",
       "    }\n",
       "  \n",
       "    function run_callbacks() {\n",
       "      window._bokeh_onload_callbacks.forEach(function(callback) { callback() });\n",
       "      delete window._bokeh_onload_callbacks\n",
       "      console.info(\"Bokeh: all callbacks have finished\");\n",
       "    }\n",
       "  \n",
       "    function load_libs(js_urls, callback) {\n",
       "      window._bokeh_onload_callbacks.push(callback);\n",
       "      if (window._bokeh_is_loading > 0) {\n",
       "        console.log(\"Bokeh: BokehJS is being loaded, scheduling callback at\", now());\n",
       "        return null;\n",
       "      }\n",
       "      if (js_urls == null || js_urls.length === 0) {\n",
       "        run_callbacks();\n",
       "        return null;\n",
       "      }\n",
       "      console.log(\"Bokeh: BokehJS not loaded, scheduling load and callback at\", now());\n",
       "      window._bokeh_is_loading = js_urls.length;\n",
       "      for (var i = 0; i < js_urls.length; i++) {\n",
       "        var url = js_urls[i];\n",
       "        var s = document.createElement('script');\n",
       "        s.src = url;\n",
       "        s.async = false;\n",
       "        s.onreadystatechange = s.onload = function() {\n",
       "          window._bokeh_is_loading--;\n",
       "          if (window._bokeh_is_loading === 0) {\n",
       "            console.log(\"Bokeh: all BokehJS libraries loaded\");\n",
       "            run_callbacks()\n",
       "          }\n",
       "        };\n",
       "        s.onerror = function() {\n",
       "          console.warn(\"failed to load library \" + url);\n",
       "        };\n",
       "        console.log(\"Bokeh: injecting script tag for BokehJS library: \", url);\n",
       "        document.getElementsByTagName(\"head\")[0].appendChild(s);\n",
       "      }\n",
       "    };var element = document.getElementById(\"cb313497-2c7f-4b2d-b576-92c17fd0fb82\");\n",
       "    if (element == null) {\n",
       "      console.log(\"Bokeh: ERROR: autoload.js configured with elementid 'cb313497-2c7f-4b2d-b576-92c17fd0fb82' but no matching script tag was found. \")\n",
       "      return false;\n",
       "    }\n",
       "  \n",
       "    var js_urls = [];\n",
       "  \n",
       "    var inline_js = [\n",
       "      function(Bokeh) {\n",
       "        Bokeh.$(function() {\n",
       "            var docs_json = {\"b5051013-7369-49f6-97d1-bf0d90e15720\":{\"roots\":{\"references\":[{\"attributes\":{\"callback\":null,\"plot\":{\"id\":\"556b14cd-6461-4745-9a33-b02f5adc9b17\",\"subtype\":\"Figure\",\"type\":\"Plot\"},\"renderers\":[{\"id\":\"d386fad6-ae8b-48c6-9689-7eb572ba1364\",\"type\":\"GlyphRenderer\"}],\"tooltips\":[[\"index\",\"$index\"],[\"corr\",\"@corr\"],[\"cov\",\"@cov\"],[\"exchange\",\"@exchange\"],[\"From\",\"@From\"],[\"To\",\"@To\"]]},\"id\":\"735b001c-6c4e-45ce-ad5f-6e4ffadf0c17\",\"type\":\"HoverTool\"},{\"attributes\":{\"line_alpha\":{\"field\":\"line_alpha\"},\"line_color\":{\"field\":\"line_color\"},\"line_width\":{\"field\":\"line_width\"},\"x0\":{\"field\":\"x0\"},\"x1\":{\"field\":\"x1\"},\"y0\":{\"field\":\"y0\"},\"y1\":{\"field\":\"y1\"}},\"id\":\"16dbf428-2fcc-46f1-b3c6-8a6c799c850a\",\"type\":\"Segment\"},{\"attributes\":{\"fill_alpha\":{\"field\":\"fill_alpha\"},\"fill_color\":{\"field\":\"fill_color\"},\"line_alpha\":{\"field\":\"fill_alpha\"},\"line_color\":{\"field\":\"line_color\"},\"line_width\":{\"field\":\"line_width\"},\"size\":{\"field\":\"size\",\"units\":\"screen\"},\"x\":{\"field\":\"cx\"},\"y\":{\"field\":\"cy\"}},\"id\":\"1ac37257-154b-4fb6-9fbc-41c6887fd24e\",\"type\":\"Circle\"},{\"attributes\":{\"data_source\":{\"id\":\"ac40fa8a-fd3b-48a1-8cc8-8d6848e6fda8\",\"type\":\"ColumnDataSource\"},\"glyph\":{\"id\":\"1ac37257-154b-4fb6-9fbc-41c6887fd24e\",\"type\":\"Circle\"},\"hover_glyph\":null,\"nonselection_glyph\":{\"id\":\"5f6c86e1-207e-49b4-93d8-730411c87284\",\"type\":\"Circle\"},\"selection_glyph\":null},\"id\":\"d386fad6-ae8b-48c6-9689-7eb572ba1364\",\"type\":\"GlyphRenderer\"},{\"attributes\":{},\"id\":\"af839099-0971-4e27-abff-3d7208ba6b73\",\"type\":\"ToolEvents\"},{\"attributes\":{\"formatter\":{\"id\":\"3c127317-4f0a-442a-9405-66f3d590bbb8\",\"type\":\"BasicTickFormatter\"},\"plot\":{\"id\":\"556b14cd-6461-4745-9a33-b02f5adc9b17\",\"subtype\":\"Figure\",\"type\":\"Plot\"},\"ticker\":{\"id\":\"0a962f12-ec08-4363-bb19-a95ca15bb612\",\"type\":\"BasicTicker\"}},\"id\":\"dda2017e-4375-4b80-9380-097d5a1dffc4\",\"type\":\"LinearAxis\"},{\"attributes\":{\"overlay\":{\"id\":\"66718346-3287-48d0-a11a-e5d50a91fd43\",\"type\":\"BoxAnnotation\"},\"plot\":{\"id\":\"556b14cd-6461-4745-9a33-b02f5adc9b17\",\"subtype\":\"Figure\",\"type\":\"Plot\"}},\"id\":\"59e4ea49-b762-4990-a5dd-7430830623ca\",\"type\":\"BoxZoomTool\"},{\"attributes\":{\"text\":{\"field\":\"label\"},\"text_align\":\"center\",\"text_color\":{\"value\":\"black\"},\"x\":{\"field\":\"x\"},\"y\":{\"field\":\"y\"}},\"id\":\"d613e8a1-499f-4ccf-914d-b3904f65081f\",\"type\":\"Text\"},{\"attributes\":{\"bottom_units\":\"screen\",\"fill_alpha\":{\"value\":0.5},\"fill_color\":{\"value\":\"lightgrey\"},\"left_units\":\"screen\",\"level\":\"overlay\",\"line_alpha\":{\"value\":1.0},\"line_color\":{\"value\":\"black\"},\"line_dash\":[4,4],\"line_width\":{\"value\":2},\"plot\":null,\"render_mode\":\"css\",\"right_units\":\"screen\",\"top_units\":\"screen\"},\"id\":\"66718346-3287-48d0-a11a-e5d50a91fd43\",\"type\":\"BoxAnnotation\"},{\"attributes\":{},\"id\":\"0a962f12-ec08-4363-bb19-a95ca15bb612\",\"type\":\"BasicTicker\"},{\"attributes\":{\"callback\":null},\"id\":\"5ff17515-c931-443a-8fde-34ac624063ef\",\"type\":\"DataRange1d\"},{\"attributes\":{\"plot\":{\"id\":\"556b14cd-6461-4745-9a33-b02f5adc9b17\",\"subtype\":\"Figure\",\"type\":\"Plot\"}},\"id\":\"fa2d2776-6ec6-49b9-9fbf-0a73bd9833bd\",\"type\":\"ResizeTool\"},{\"attributes\":{\"callback\":null,\"column_names\":[\"fill_color\",\"cz\",\"line_color\",\"fill_alpha\",\"size\",\"line_colormap\",\"fill_colormap\",\"line_alpha\",\"y1\",\"marker\",\"To\",\"exchange\",\"cov\",\"cy\",\"z1\",\"cx\",\"line_width\",\"x0\",\"y0\",\"From\",\"x1\",\"corr\",\"z0\"],\"data\":{\"From\":[\"GBPUSD\",\"GBPUSD\",\"GBPUSD\",\"GBPUSD\",\"GBPUSD\",\"GBPUSD\",\"NZDUSD\",\"NZDUSD\",\"NZDUSD\",\"NZDUSD\",\"NZDUSD\",\"USDCHF\",\"USDCHF\",\"USDCHF\",\"USDCHF\",\"USDJPY\",\"USDJPY\",\"USDJPY\",\"EURUSD\",\"EURUSD\",\"USDCAD\"],\"To\":[\"AUDUSD\",\"EURUSD\",\"NZDUSD\",\"USDCAD\",\"USDCHF\",\"USDJPY\",\"AUDUSD\",\"EURUSD\",\"USDCAD\",\"USDCHF\",\"USDJPY\",\"AUDUSD\",\"EURUSD\",\"USDCAD\",\"USDJPY\",\"AUDUSD\",\"EURUSD\",\"USDCAD\",\"AUDUSD\",\"USDCAD\",\"AUDUSD\"],\"corr\":[0.1465067913046046,0.7948301205940871,0.1548370742870233,0.28308117475343386,-0.5440158198037358,0.14996160996565844,0.8339587542465035,-0.11255632784627985,-0.6445424826037214,0.03978878898822592,0.019936543971425993,0.2343334353213848,-0.7846864296019083,-0.5261958649505623,0.05564144732154627,0.04324882165750797,-0.06318451316051861,-0.2581342285660918,-0.2508993974316972,0.6511653942703972,-0.801004601854655],\"cov\":[3.3473448897452375e-05,8.53401623585364e-05,2.1241748810189028e-05,4.893455260192944e-05,-2.9128568326706015e-05,1.1719841905782412e-05,0.00016472954529997161,-1.044800295602922e-05,-9.632530730328455e-05,1.8418427737473746e-06,1.3470253125808462e-06,1.806564555552382e-05,-2.8428360307096255e-05,-3.0692239944037584e-05,1.467292163974057e-06,4.866621313063313e-06,-3.3411837559335844e-06,-2.1976614905098005e-05,-3.878737436150823e-05,7.616299324479156e-05,-0.0001993660752475475],\"cx\":[-0.21284390977496326,0.6224407163134409,-0.17985755793411856,0.5864684923177599,0.012006774288030625,-0.216010933642945,-0.6375829003359637,0.19770172575244055,0.1617295017567595,-0.41273221627296974,-0.6407499242039454,-0.44571856811381444,0.3895660579745897,0.35359383397890864,-0.4488855919817962,-0.67373627604479,0.16154835004361412,0.12557612604793306,0.16471537391159585,0.964027776004319,0.1287431499159148],\"cy\":[0.29186829130427594,0.6819026501324988,0.22545806312192607,0.7468693277803335,0.06230911675471357,0.30629393599998733,-0.40855419961129213,-0.018519840783069258,0.04644683686476547,-0.6381133741608545,-0.39412855491558074,-0.5717031459785046,-0.18166878715028176,-0.11670210950244703,-0.5572775012827932,-0.3277183267332308,0.062316032094992035,0.12728270974282677,0.04789038739928064,0.5028914238753383,0.11285706504711537],\"cz\":[\"Nan\",\"Nan\",\"Nan\",\"Nan\",\"Nan\",\"Nan\",\"Nan\",\"Nan\",\"Nan\",\"Nan\",\"Nan\",\"Nan\",\"Nan\",\"Nan\",\"Nan\",\"Nan\",\"Nan\",\"Nan\",\"Nan\",\"Nan\",\"Nan\"],\"exchange\":[0.1465067913046046,0.7948301205940871,0.1548370742870233,0.28308117475343386,-0.5440158198037358,0.14996160996565844,0.8339587542465035,-0.11255632784627985,-0.6445424826037214,0.03978878898822592,0.019936543971425993,0.2343334353213848,-0.7846864296019083,-0.5261958649505623,0.05564144732154627,0.04324882165750797,-0.06318451316051861,-0.2581342285660918,-0.2508993974316972,0.6511653942703972,-0.801004601854655],\"fill_alpha\":[0.8,0.8,0.8,0.8,0.8,0.8,0.8,0.8,0.8,0.8,0.8,0.8,0.8,0.8,0.8,0.8,0.8,0.8,0.8,0.8,0.8],\"fill_color\":[\"#107167\",\"#107167\",\"#107167\",\"#107167\",\"#107167\",\"#107167\",\"#107167\",\"#107167\",\"#107167\",\"#107167\",\"#107167\",\"#107167\",\"#107167\",\"#107167\",\"#107167\",\"#107167\",\"#107167\",\"#107167\",\"#107167\",\"#107167\",\"#107167\"],\"fill_colormap\":[\"copper\",\"copper\",\"copper\",\"copper\",\"copper\",\"copper\",\"copper\",\"copper\",\"copper\",\"copper\",\"copper\",\"copper\",\"copper\",\"copper\",\"copper\",\"copper\",\"copper\",\"copper\",\"copper\",\"copper\",\"copper\"],\"line_alpha\":[1,1,1,1,1,1,1,1,1,1,1,1,1,1,1,1,1,1,1,1,1],\"line_color\":[\"black\",\"black\",\"black\",\"black\",\"black\",\"black\",\"black\",\"black\",\"black\",\"black\",\"black\",\"black\",\"black\",\"black\",\"black\",\"black\",\"black\",\"black\",\"black\",\"black\",\"black\"],\"line_colormap\":[\"coolwarm\",\"coolwarm\",\"coolwarm\",\"coolwarm\",\"coolwarm\",\"coolwarm\",\"coolwarm\",\"coolwarm\",\"coolwarm\",\"coolwarm\",\"coolwarm\",\"coolwarm\",\"coolwarm\",\"coolwarm\",\"coolwarm\",\"coolwarm\",\"coolwarm\",\"coolwarm\",\"coolwarm\",\"coolwarm\",\"coolwarm\"],\"line_width\":[3,3,3,3,3,3,3,3,3,3,3,3,3,3,3,3,3,3,3,3,3],\"marker\":[\"circle\",\"circle\",\"circle\",\"circle\",\"circle\",\"circle\",\"circle\",\"circle\",\"circle\",\"circle\",\"circle\",\"circle\",\"circle\",\"circle\",\"circle\",\"circle\",\"circle\",\"circle\",\"circle\",\"circle\",\"circle\"],\"size\":[7,7,7,7,7,7,7,7,7,7,7,7,7,7,7,7,7,7,7,7,7],\"x0\":[0.2448814326268818,0.2448814326268818,0.2448814326268818,0.2448814326268818,0.2448814326268818,0.2448814326268818,-0.6045965484951189,-0.6045965484951189,-0.6045965484951189,-0.6045965484951189,-0.6045965484951189,-0.22086788405082056,-0.22086788405082056,-0.22086788405082056,-0.22086788405082056,-0.6769032999127718,-0.6769032999127718,-0.6769032999127718,1.0,1.0,0.9280555520086379],\"x1\":[-0.6705692521768083,1.0,-0.6045965484951189,0.9280555520086379,-0.22086788405082056,-0.6769032999127718,-0.6705692521768083,1.0,0.9280555520086379,-0.22086788405082056,-0.6769032999127718,-0.6705692521768083,1.0,0.9280555520086379,-0.6769032999127718,-0.6705692521768083,1.0,0.9280555520086379,-0.6705692521768083,0.9280555520086379,-0.6705692521768083],\"y0\":[0.9258805540374941,0.9258805540374941,0.9258805540374941,0.9258805540374941,0.9258805540374941,0.9258805540374941,-0.474964427793642,-0.474964427793642,-0.474964427793642,-0.474964427793642,-0.474964427793642,-0.801262320528067,-0.801262320528067,-0.801262320528067,-0.801262320528067,-0.3132926820375194,-0.3132926820375194,-0.3132926820375194,0.4379247462275035,0.4379247462275035,0.567858101523173],\"y1\":[-0.3421439714289422,0.4379247462275035,-0.474964427793642,0.567858101523173,-0.801262320528067,-0.3132926820375194,-0.3421439714289422,0.4379247462275035,0.567858101523173,-0.801262320528067,-0.3132926820375194,-0.3421439714289422,0.4379247462275035,0.567858101523173,-0.3132926820375194,-0.3421439714289422,0.4379247462275035,0.567858101523173,-0.3421439714289422,0.567858101523173,-0.3421439714289422],\"z0\":[\"Nan\",\"Nan\",\"Nan\",\"Nan\",\"Nan\",\"Nan\",\"Nan\",\"Nan\",\"Nan\",\"Nan\",\"Nan\",\"Nan\",\"Nan\",\"Nan\",\"Nan\",\"Nan\",\"Nan\",\"Nan\",\"Nan\",\"Nan\",\"Nan\"],\"z1\":[\"Nan\",\"Nan\",\"Nan\",\"Nan\",\"Nan\",\"Nan\",\"Nan\",\"Nan\",\"Nan\",\"Nan\",\"Nan\",\"Nan\",\"Nan\",\"Nan\",\"Nan\",\"Nan\",\"Nan\",\"Nan\",\"Nan\",\"Nan\",\"Nan\"]}},\"id\":\"ac40fa8a-fd3b-48a1-8cc8-8d6848e6fda8\",\"type\":\"ColumnDataSource\"},{\"attributes\":{\"fill_alpha\":{\"value\":0.1},\"fill_color\":{\"value\":\"#1f77b4\"},\"line_alpha\":{\"value\":0.1},\"line_color\":{\"value\":\"#1f77b4\"},\"line_width\":{\"field\":\"line_width\"},\"size\":{\"field\":\"size\",\"units\":\"screen\"},\"x\":{\"field\":\"cx\"},\"y\":{\"field\":\"cy\"}},\"id\":\"5f6c86e1-207e-49b4-93d8-730411c87284\",\"type\":\"Circle\"},{\"attributes\":{\"fill_alpha\":{\"value\":0.1},\"fill_color\":{\"value\":\"#1f77b4\"},\"line_alpha\":{\"value\":0.1},\"line_color\":{\"value\":\"#1f77b4\"},\"line_width\":{\"field\":\"line_width\"},\"size\":{\"field\":\"size\",\"units\":\"screen\"},\"x\":{\"field\":\"x\"},\"y\":{\"field\":\"y\"}},\"id\":\"c0f5d209-2f5f-4c98-a322-ed269d38b0d7\",\"type\":\"Circle\"},{\"attributes\":{\"line_alpha\":{\"value\":0.1},\"line_color\":{\"value\":\"#1f77b4\"},\"line_width\":{\"field\":\"line_width\"},\"x0\":{\"field\":\"x0\"},\"x1\":{\"field\":\"x1\"},\"y0\":{\"field\":\"y0\"},\"y1\":{\"field\":\"y1\"}},\"id\":\"4c979f78-1124-4eac-9fdd-1b890698839a\",\"type\":\"Segment\"},{\"attributes\":{\"data_source\":{\"id\":\"7a9eeeaa-6c4c-439b-a40d-046215e0e03b\",\"type\":\"ColumnDataSource\"},\"glyph\":{\"id\":\"8a07425a-cff7-4853-aed0-38abaca30c7b\",\"type\":\"Circle\"},\"hover_glyph\":null,\"nonselection_glyph\":{\"id\":\"c0f5d209-2f5f-4c98-a322-ed269d38b0d7\",\"type\":\"Circle\"},\"selection_glyph\":null},\"id\":\"2e34434c-187d-45ac-831a-f7e63bb5eb1e\",\"type\":\"GlyphRenderer\"},{\"attributes\":{\"plot\":{\"id\":\"556b14cd-6461-4745-9a33-b02f5adc9b17\",\"subtype\":\"Figure\",\"type\":\"Plot\"}},\"id\":\"82b4578e-6f25-4ecf-9728-9755e6009238\",\"type\":\"WheelZoomTool\"},{\"attributes\":{\"plot\":{\"id\":\"556b14cd-6461-4745-9a33-b02f5adc9b17\",\"subtype\":\"Figure\",\"type\":\"Plot\"}},\"id\":\"b444d2d0-fa39-4ac6-8fa3-286f4a1cd3aa\",\"type\":\"PanTool\"},{\"attributes\":{\"callback\":null,\"column_names\":[\"fill_color\",\"label\",\"line_color\",\"XmY\",\"index\",\"line_colormap\",\"Y\",\"fill_colormap\",\"degree_weighted\",\"eigenvector\",\"line_alpha\",\"eccentricity_weighted\",\"marker\",\"closeness\",\"closeness_weighted\",\"y\",\"degree\",\"betweenness\",\"X\",\"XpY\",\"eccentricity\",\"line_width\",\"x\",\"fill_alpha\",\"eigenvector_weighted\",\"betweenness_centrality\",\"betweenness_weighted\",\"size\"],\"data\":{\"X\":[0.6785714285714286,0.5714285714285714,0.7142857142857143,0.6785714285714286,0.5714285714285714,0.5,0.6785714285714286],\"XmY\":[\"NaN\",\"NaN\",\"NaN\",\"NaN\",\"NaN\",\"NaN\",\"NaN\"],\"XpY\":[\"NaN\",\"NaN\",\"NaN\",\"NaN\",\"NaN\",\"NaN\",\"NaN\"],\"Y\":[\"NaN\",\"NaN\",\"NaN\",\"NaN\",\"NaN\",\"NaN\",\"NaN\"],\"betweenness\":[6.0,6.0,6.0,6.0,6.0,6.0,6.0],\"betweenness_centrality\":[5.0,2.0,6.0,5.0,2.0,0.0,5.0],\"betweenness_weighted\":[5.0,2.0,6.0,5.0,2.0,0.0,5.0],\"closeness\":[6.0,6.0,6.0,6.0,6.0,6.0,6.0],\"closeness_weighted\":[\"NaN\",\"NaN\",\"NaN\",\"NaN\",\"NaN\",\"NaN\",\"NaN\"],\"degree\":[6.0,6.0,6.0,6.0,6.0,6.0,6.0],\"degree_weighted\":[6.0,6.0,6.0,6.0,6.0,6.0,6.0],\"eccentricity\":[6.0,6.0,6.0,6.0,6.0,6.0,6.0],\"eccentricity_weighted\":[6.0,6.0,6.0,6.0,6.0,6.0,6.0],\"eigenvector\":[5.0,5.0,6.0,2.0,2.0,2.0,5.0],\"eigenvector_weighted\":[3.0,0.0,1.0,4.0,2.0,6.0,5.0],\"fill_alpha\":[0.8,0.8,0.8,0.8,0.8,0.8,0.8],\"fill_color\":[\"blue\",\"blue\",\"blue\",\"blue\",\"blue\",\"blue\",\"blue\"],\"fill_colormap\":[\"spectral\",\"spectral\",\"spectral\",\"spectral\",\"spectral\",\"spectral\",\"spectral\"],\"index\":[0.0,1.0,2.0,3.0,4.0,5.0,6.0],\"label\":[\"AUDUSD\",\"EURUSD\",\"GBPUSD\",\"NZDUSD\",\"USDCAD\",\"USDCHF\",\"USDJPY\"],\"line_alpha\":[1,1,1,1,1,1,1],\"line_color\":[\"black\",\"black\",\"black\",\"black\",\"black\",\"black\",\"black\"],\"line_colormap\":[\"copper\",\"copper\",\"copper\",\"copper\",\"copper\",\"copper\",\"copper\"],\"line_width\":[2,2,2,2,2,2,2],\"marker\":[\"circle\",\"circle\",\"circle\",\"circle\",\"circle\",\"circle\",\"circle\"],\"size\":[60,60,60,60,60,60,60],\"x\":[-0.6705692521768083,1.0,0.2448814326268818,-0.6045965484951189,0.9280555520086379,-0.22086788405082056,-0.6769032999127718],\"y\":[-0.3421439714289422,0.4379247462275035,0.9258805540374941,-0.474964427793642,0.567858101523173,-0.801262320528067,-0.3132926820375194]}},\"id\":\"7a9eeeaa-6c4c-439b-a40d-046215e0e03b\",\"type\":\"ColumnDataSource\"},{\"attributes\":{\"plot\":{\"id\":\"556b14cd-6461-4745-9a33-b02f5adc9b17\",\"subtype\":\"Figure\",\"type\":\"Plot\"}},\"id\":\"33498075-57a5-4fb9-89dc-33ef2d5e2e90\",\"type\":\"CrosshairTool\"},{\"attributes\":{\"plot\":{\"id\":\"556b14cd-6461-4745-9a33-b02f5adc9b17\",\"subtype\":\"Figure\",\"type\":\"Plot\"},\"ticker\":{\"id\":\"54aa34c5-7793-4cf7-a49a-d44a60221ac7\",\"type\":\"BasicTicker\"}},\"id\":\"5a561632-dfa2-493e-940b-c4d4586dff38\",\"type\":\"Grid\"},{\"attributes\":{\"callback\":null},\"id\":\"ff7baada-e2c9-4cc7-87cf-266b758d2b03\",\"type\":\"DataRange1d\"},{\"attributes\":{\"dimension\":1,\"plot\":{\"id\":\"556b14cd-6461-4745-9a33-b02f5adc9b17\",\"subtype\":\"Figure\",\"type\":\"Plot\"},\"ticker\":{\"id\":\"0a962f12-ec08-4363-bb19-a95ca15bb612\",\"type\":\"BasicTicker\"}},\"id\":\"9fb93417-d17e-4147-be30-c4cb250970e2\",\"type\":\"Grid\"},{\"attributes\":{\"plot\":{\"id\":\"556b14cd-6461-4745-9a33-b02f5adc9b17\",\"subtype\":\"Figure\",\"type\":\"Plot\"}},\"id\":\"490f92c3-cc6d-4972-80d9-2b59ac60442b\",\"type\":\"ResetTool\"},{\"attributes\":{},\"id\":\"3c127317-4f0a-442a-9405-66f3d590bbb8\",\"type\":\"BasicTickFormatter\"},{\"attributes\":{\"data_source\":{\"id\":\"ac40fa8a-fd3b-48a1-8cc8-8d6848e6fda8\",\"type\":\"ColumnDataSource\"},\"glyph\":{\"id\":\"16dbf428-2fcc-46f1-b3c6-8a6c799c850a\",\"type\":\"Segment\"},\"hover_glyph\":null,\"nonselection_glyph\":{\"id\":\"4c979f78-1124-4eac-9fdd-1b890698839a\",\"type\":\"Segment\"},\"selection_glyph\":null},\"id\":\"efef44f2-6d6f-43a7-9837-33c8067ae342\",\"type\":\"GlyphRenderer\"},{\"attributes\":{\"below\":[{\"id\":\"fb2ffaa7-e05e-4d6a-8677-fd697d5d6d8e\",\"type\":\"LinearAxis\"}],\"left\":[{\"id\":\"dda2017e-4375-4b80-9380-097d5a1dffc4\",\"type\":\"LinearAxis\"}],\"renderers\":[{\"id\":\"fb2ffaa7-e05e-4d6a-8677-fd697d5d6d8e\",\"type\":\"LinearAxis\"},{\"id\":\"5a561632-dfa2-493e-940b-c4d4586dff38\",\"type\":\"Grid\"},{\"id\":\"dda2017e-4375-4b80-9380-097d5a1dffc4\",\"type\":\"LinearAxis\"},{\"id\":\"9fb93417-d17e-4147-be30-c4cb250970e2\",\"type\":\"Grid\"},{\"id\":\"66718346-3287-48d0-a11a-e5d50a91fd43\",\"type\":\"BoxAnnotation\"},{\"id\":\"efef44f2-6d6f-43a7-9837-33c8067ae342\",\"type\":\"GlyphRenderer\"},{\"id\":\"d386fad6-ae8b-48c6-9689-7eb572ba1364\",\"type\":\"GlyphRenderer\"},{\"id\":\"2e34434c-187d-45ac-831a-f7e63bb5eb1e\",\"type\":\"GlyphRenderer\"},{\"id\":\"28e861e2-d82d-4b28-8393-2eb2baec2f59\",\"type\":\"GlyphRenderer\"}],\"title\":\"Graph plot\",\"tool_events\":{\"id\":\"af839099-0971-4e27-abff-3d7208ba6b73\",\"type\":\"ToolEvents\"},\"tools\":[{\"id\":\"b444d2d0-fa39-4ac6-8fa3-286f4a1cd3aa\",\"type\":\"PanTool\"},{\"id\":\"82b4578e-6f25-4ecf-9728-9755e6009238\",\"type\":\"WheelZoomTool\"},{\"id\":\"59e4ea49-b762-4990-a5dd-7430830623ca\",\"type\":\"BoxZoomTool\"},{\"id\":\"490f92c3-cc6d-4972-80d9-2b59ac60442b\",\"type\":\"ResetTool\"},{\"id\":\"fa2d2776-6ec6-49b9-9fbf-0a73bd9833bd\",\"type\":\"ResizeTool\"},{\"id\":\"33498075-57a5-4fb9-89dc-33ef2d5e2e90\",\"type\":\"CrosshairTool\"},{\"id\":\"7b9389ab-3cd8-4079-aa22-188342f563cd\",\"type\":\"HoverTool\"},{\"id\":\"735b001c-6c4e-45ce-ad5f-6e4ffadf0c17\",\"type\":\"HoverTool\"}],\"x_range\":{\"id\":\"ff7baada-e2c9-4cc7-87cf-266b758d2b03\",\"type\":\"DataRange1d\"},\"y_range\":{\"id\":\"5ff17515-c931-443a-8fde-34ac624063ef\",\"type\":\"DataRange1d\"}},\"id\":\"556b14cd-6461-4745-9a33-b02f5adc9b17\",\"subtype\":\"Figure\",\"type\":\"Plot\"},{\"attributes\":{\"text\":{\"field\":\"label\"},\"text_align\":\"center\",\"text_alpha\":{\"value\":0.1},\"text_color\":{\"value\":\"black\"},\"x\":{\"field\":\"x\"},\"y\":{\"field\":\"y\"}},\"id\":\"da958f81-0d5b-4444-b406-71d1aee70a8d\",\"type\":\"Text\"},{\"attributes\":{\"fill_alpha\":{\"field\":\"fill_alpha\"},\"fill_color\":{\"field\":\"fill_color\"},\"line_color\":{\"field\":\"line_color\"},\"line_width\":{\"field\":\"line_width\"},\"size\":{\"field\":\"size\",\"units\":\"screen\"},\"x\":{\"field\":\"x\"},\"y\":{\"field\":\"y\"}},\"id\":\"8a07425a-cff7-4853-aed0-38abaca30c7b\",\"type\":\"Circle\"},{\"attributes\":{\"formatter\":{\"id\":\"64f87696-d877-4751-a835-ec7715accf48\",\"type\":\"BasicTickFormatter\"},\"plot\":{\"id\":\"556b14cd-6461-4745-9a33-b02f5adc9b17\",\"subtype\":\"Figure\",\"type\":\"Plot\"},\"ticker\":{\"id\":\"54aa34c5-7793-4cf7-a49a-d44a60221ac7\",\"type\":\"BasicTicker\"}},\"id\":\"fb2ffaa7-e05e-4d6a-8677-fd697d5d6d8e\",\"type\":\"LinearAxis\"},{\"attributes\":{\"callback\":null,\"plot\":{\"id\":\"556b14cd-6461-4745-9a33-b02f5adc9b17\",\"subtype\":\"Figure\",\"type\":\"Plot\"},\"renderers\":[{\"id\":\"2e34434c-187d-45ac-831a-f7e63bb5eb1e\",\"type\":\"GlyphRenderer\"}],\"tooltips\":[[\"index\",\"$index\"],[\"X\",\"@X\"],[\"XmY\",\"@XmY\"],[\"XpY\",\"@XpY\"],[\"Y\",\"@Y\"],[\"betweenness\",\"@betweenness\"],[\"betweenness_cen\",\"@betweenness_centrality\"],[\"betweenness_wei\",\"@betweenness_weighted\"],[\"closeness\",\"@closeness\"],[\"closeness_weigh\",\"@closeness_weighted\"],[\"degree\",\"@degree\"],[\"degree_weighted\",\"@degree_weighted\"],[\"eccentricity\",\"@eccentricity\"],[\"eccentricity_we\",\"@eccentricity_weighted\"],[\"eigenvector\",\"@eigenvector\"],[\"eigenvector_wei\",\"@eigenvector_weighted\"],[\"label\",\"@label\"],[\"index\",\"@index\"]]},\"id\":\"7b9389ab-3cd8-4079-aa22-188342f563cd\",\"type\":\"HoverTool\"},{\"attributes\":{},\"id\":\"64f87696-d877-4751-a835-ec7715accf48\",\"type\":\"BasicTickFormatter\"},{\"attributes\":{},\"id\":\"54aa34c5-7793-4cf7-a49a-d44a60221ac7\",\"type\":\"BasicTicker\"},{\"attributes\":{\"data_source\":{\"id\":\"7a9eeeaa-6c4c-439b-a40d-046215e0e03b\",\"type\":\"ColumnDataSource\"},\"glyph\":{\"id\":\"d613e8a1-499f-4ccf-914d-b3904f65081f\",\"type\":\"Text\"},\"hover_glyph\":null,\"nonselection_glyph\":{\"id\":\"da958f81-0d5b-4444-b406-71d1aee70a8d\",\"type\":\"Text\"},\"selection_glyph\":null},\"id\":\"28e861e2-d82d-4b28-8393-2eb2baec2f59\",\"type\":\"GlyphRenderer\"}],\"root_ids\":[\"556b14cd-6461-4745-9a33-b02f5adc9b17\"]},\"title\":\"Bokeh Application\",\"version\":\"0.11.1\"}};\n",
       "            var render_items = [{\"docid\":\"b5051013-7369-49f6-97d1-bf0d90e15720\",\"elementid\":\"cb313497-2c7f-4b2d-b576-92c17fd0fb82\",\"modelid\":\"556b14cd-6461-4745-9a33-b02f5adc9b17\",\"notebook_comms_target\":\"e73f79df-907a-4626-a1a9-1ffc134c1539\"}];\n",
       "            \n",
       "            Bokeh.embed.embed_items(docs_json, render_items);\n",
       "        });\n",
       "      },\n",
       "      function(Bokeh) {\n",
       "      }\n",
       "    ];\n",
       "  \n",
       "    function run_inline_js() {\n",
       "      for (var i = 0; i < inline_js.length; i++) {\n",
       "        inline_js[i](window.Bokeh);\n",
       "      }\n",
       "    }\n",
       "  \n",
       "    if (window._bokeh_is_loading === 0) {\n",
       "      console.log(\"Bokeh: BokehJS loaded, going straight to plotting\");\n",
       "      run_inline_js();\n",
       "    } else {\n",
       "      load_libs(js_urls, function() {\n",
       "        console.log(\"Bokeh: BokehJS plotting callback run at\", now());\n",
       "        run_inline_js();\n",
       "      });\n",
       "    }\n",
       "  }(this));\n",
       "</script>"
      ]
     },
     "metadata": {},
     "output_type": "display_data"
    },
    {
     "data": {
      "text/html": [
       "<p><code>&lt;Bokeh Notebook handle for <strong>In[9]</strong>&gt;</code></p>"
      ],
      "text/plain": [
       "<bokeh.io._CommsHandle at 0x7f74fe219940>"
      ]
     },
     "metadata": {},
     "output_type": "display_data"
    }
   ],
   "source": [
    "gp.widget"
   ]
  },
  {
   "cell_type": "code",
   "execution_count": null,
   "metadata": {
    "collapsed": true
   },
   "outputs": [],
   "source": []
  }
 ],
 "metadata": {
  "kernelspec": {
   "display_name": "Python 3",
   "language": "python",
   "name": "python3"
  },
  "language_info": {
   "codemirror_mode": {
    "name": "ipython",
    "version": 3
   },
   "file_extension": ".py",
   "mimetype": "text/x-python",
   "name": "python",
   "nbconvert_exporter": "python",
   "pygments_lexer": "ipython3",
   "version": "3.5.1"
  }
 },
 "nbformat": 4,
 "nbformat_minor": 0
}
