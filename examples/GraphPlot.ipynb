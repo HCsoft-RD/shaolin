{
 "cells": [
  {
   "cell_type": "markdown",
   "metadata": {},
   "source": [
    "# GraphPlot tutorial"
   ]
  },
  {
   "cell_type": "markdown",
   "metadata": {},
   "source": [
    "This is a basic tutorial on how to use the shaolin GraphPlot for interactive visualization of graphs."
   ]
  },
  {
   "cell_type": "markdown",
   "metadata": {},
   "source": [
    "### Imports and setup of sample data"
   ]
  },
  {
   "cell_type": "code",
   "execution_count": 1,
   "metadata": {
    "collapsed": false
   },
   "outputs": [
    {
     "data": {
      "text/html": [
       "<style>\n",
       ".container { width:98% !important; }\n",
       ".input{ width:40% !important; }\n",
       ".text_cell{ width:40% !important;\n",
       "            font-size: 16px;}\n",
       ".title {align:center !important;}\n",
       "</style>"
      ],
      "text/plain": [
       "<IPython.core.display.HTML object>"
      ]
     },
     "execution_count": 1,
     "metadata": {},
     "output_type": "execute_result"
    }
   ],
   "source": [
    "#wide screen hack, great for making big plots and have more room for the control panels\n",
    "from IPython.core.display import HTML\n",
    "html ='''<style>\n",
    ".container { width:98% !important; }\n",
    ".input{ width:40% !important; }\n",
    ".text_cell{ width:40% !important;\n",
    "            font-size: 16px;}\n",
    ".title {align:center !important;}\n",
    "</style>'''\n",
    "HTML(html)"
   ]
  },
  {
   "cell_type": "code",
   "execution_count": 1,
   "metadata": {
    "collapsed": true
   },
   "outputs": [],
   "source": [
    "import sys\n",
    "path =\"/home/sergio/github/shaolin-master\"\n",
    "sys.path.append(path)"
   ]
  },
  {
   "cell_type": "code",
   "execution_count": 2,
   "metadata": {
    "collapsed": false
   },
   "outputs": [
    {
     "data": {
      "text/html": [
       "\n",
       "    <div class=\"bk-banner\">\n",
       "        <a href=\"http://bokeh.pydata.org\" target=\"_blank\" class=\"bk-logo bk-logo-small bk-logo-notebook\"></a>\n",
       "        <span id=\"4bb60f16-cbac-4415-909b-97ad362d7e39\">Loading BokehJS ...</span>\n",
       "    </div>"
      ]
     },
     "metadata": {},
     "output_type": "display_data"
    },
    {
     "data": {
      "application/javascript": [
       "\n",
       "(function(global) {\n",
       "  function now() {\n",
       "    return new Date();\n",
       "  }\n",
       "\n",
       "  if (typeof (window._bokeh_onload_callbacks) === \"undefined\") {\n",
       "    window._bokeh_onload_callbacks = [];\n",
       "  }\n",
       "\n",
       "  function run_callbacks() {\n",
       "    window._bokeh_onload_callbacks.forEach(function(callback) { callback() });\n",
       "    delete window._bokeh_onload_callbacks\n",
       "    console.info(\"Bokeh: all callbacks have finished\");\n",
       "  }\n",
       "\n",
       "  function load_libs(js_urls, callback) {\n",
       "    window._bokeh_onload_callbacks.push(callback);\n",
       "    if (window._bokeh_is_loading > 0) {\n",
       "      console.log(\"Bokeh: BokehJS is being loaded, scheduling callback at\", now());\n",
       "      return null;\n",
       "    }\n",
       "    if (js_urls == null || js_urls.length === 0) {\n",
       "      run_callbacks();\n",
       "      return null;\n",
       "    }\n",
       "    console.log(\"Bokeh: BokehJS not loaded, scheduling load and callback at\", now());\n",
       "    window._bokeh_is_loading = js_urls.length;\n",
       "    for (var i = 0; i < js_urls.length; i++) {\n",
       "      var url = js_urls[i];\n",
       "      var s = document.createElement('script');\n",
       "      s.src = url;\n",
       "      s.async = false;\n",
       "      s.onreadystatechange = s.onload = function() {\n",
       "        window._bokeh_is_loading--;\n",
       "        if (window._bokeh_is_loading === 0) {\n",
       "          console.log(\"Bokeh: all BokehJS libraries loaded\");\n",
       "          run_callbacks()\n",
       "        }\n",
       "      };\n",
       "      s.onerror = function() {\n",
       "        console.warn(\"failed to load library \" + url);\n",
       "      };\n",
       "      console.log(\"Bokeh: injecting script tag for BokehJS library: \", url);\n",
       "      document.getElementsByTagName(\"head\")[0].appendChild(s);\n",
       "    }\n",
       "  };\n",
       "\n",
       "  var js_urls = ['https://cdn.pydata.org/bokeh/release/bokeh-0.11.1.min.js', 'https://cdn.pydata.org/bokeh/release/bokeh-widgets-0.11.1.min.js', 'https://cdn.pydata.org/bokeh/release/bokeh-compiler-0.11.1.min.js'];\n",
       "\n",
       "  var inline_js = [\n",
       "    function(Bokeh) {\n",
       "      Bokeh.set_log_level(\"info\");\n",
       "    },\n",
       "    \n",
       "    function(Bokeh) {\n",
       "      Bokeh.$(\"#4bb60f16-cbac-4415-909b-97ad362d7e39\").text(\"BokehJS successfully loaded\");\n",
       "    },\n",
       "    function(Bokeh) {\n",
       "      console.log(\"Bokeh: injecting CSS: https://cdn.pydata.org/bokeh/release/bokeh-0.11.1.min.css\");\n",
       "      Bokeh.embed.inject_css(\"https://cdn.pydata.org/bokeh/release/bokeh-0.11.1.min.css\");\n",
       "      console.log(\"Bokeh: injecting CSS: https://cdn.pydata.org/bokeh/release/bokeh-widgets-0.11.1.min.css\");\n",
       "      Bokeh.embed.inject_css(\"https://cdn.pydata.org/bokeh/release/bokeh-widgets-0.11.1.min.css\");\n",
       "    }\n",
       "  ];\n",
       "\n",
       "  function run_inline_js() {\n",
       "    for (var i = 0; i < inline_js.length; i++) {\n",
       "      inline_js[i](window.Bokeh);\n",
       "    }\n",
       "  }\n",
       "\n",
       "  if (window._bokeh_is_loading === 0) {\n",
       "    console.log(\"Bokeh: BokehJS loaded, going straight to plotting\");\n",
       "    run_inline_js();\n",
       "  } else {\n",
       "    load_libs(js_urls, function() {\n",
       "      console.log(\"Bokeh: BokehJS plotting callback run at\", now());\n",
       "      run_inline_js();\n",
       "    });\n",
       "  }\n",
       "}(this));"
      ]
     },
     "metadata": {},
     "output_type": "display_data"
    }
   ],
   "source": [
    "from IPython.display import Image #this is for displaying the widgets in the web version of the notebook\n",
    "import pandas as pd\n",
    "from shaolin.benders.graph import GraphPlot\n",
    "from shaolin.wranglers.graph import GraphCalculator"
   ]
  },
  {
   "cell_type": "code",
   "execution_count": 3,
   "metadata": {
    "collapsed": true
   },
   "outputs": [],
   "source": [
    "node_metrics = pd.read_hdf('gplot_data/sample_node_metrics.h5')\n",
    "matrix_panel = pd.read_hdf('gplot_data/sample_matrix_panel.h5')"
   ]
  },
  {
   "cell_type": "code",
   "execution_count": 4,
   "metadata": {
    "collapsed": true
   },
   "outputs": [],
   "source": [
    "gc = GraphCalculator(node_metrics=node_metrics,matrix_panel=matrix_panel)"
   ]
  },
  {
   "cell_type": "markdown",
   "metadata": {},
   "source": [
    "## Plot initialization"
   ]
  },
  {
   "cell_type": "markdown",
   "metadata": {},
   "source": [
    "To start plotting a graph you only need to instantiate a GraphPlot holding the information we want to visualize. Al the managemen can be done as usual using the *widget* attribute.\n",
    "\n",
    "**Alpha version disclaimer**:\n",
    "\n",
    "- As the GraphCalculator still doesn't handle the *node_metrics* it is necessary to merge them with the *node* Dataframe by hand in order to handle the tooltip info propperly. This will soon be corrected."
   ]
  },
  {
   "cell_type": "code",
   "execution_count": 5,
   "metadata": {
    "collapsed": true
   },
   "outputs": [],
   "source": [
    "gc.node_metrics = gc.node_metrics.T.combine_first(gc.node) #Alpha version hack"
   ]
  },
  {
   "cell_type": "code",
   "execution_count": 6,
   "metadata": {
    "collapsed": false
   },
   "outputs": [],
   "source": [
    "gp = GraphPlot(gc)"
   ]
  },
  {
   "cell_type": "code",
   "execution_count": 7,
   "metadata": {
    "collapsed": false
   },
   "outputs": [
    {
     "data": {
      "text/html": [
       "\n",
       "\n",
       "    <div class=\"plotdiv\" id=\"29126cc8-2226-4486-833c-2491efd1e84e\"></div>\n",
       "<script type=\"text/javascript\">\n",
       "  \n",
       "  (function(global) {\n",
       "    function now() {\n",
       "      return new Date();\n",
       "    }\n",
       "  \n",
       "    if (typeof (window._bokeh_onload_callbacks) === \"undefined\") {\n",
       "      window._bokeh_onload_callbacks = [];\n",
       "    }\n",
       "  \n",
       "    function run_callbacks() {\n",
       "      window._bokeh_onload_callbacks.forEach(function(callback) { callback() });\n",
       "      delete window._bokeh_onload_callbacks\n",
       "      console.info(\"Bokeh: all callbacks have finished\");\n",
       "    }\n",
       "  \n",
       "    function load_libs(js_urls, callback) {\n",
       "      window._bokeh_onload_callbacks.push(callback);\n",
       "      if (window._bokeh_is_loading > 0) {\n",
       "        console.log(\"Bokeh: BokehJS is being loaded, scheduling callback at\", now());\n",
       "        return null;\n",
       "      }\n",
       "      if (js_urls == null || js_urls.length === 0) {\n",
       "        run_callbacks();\n",
       "        return null;\n",
       "      }\n",
       "      console.log(\"Bokeh: BokehJS not loaded, scheduling load and callback at\", now());\n",
       "      window._bokeh_is_loading = js_urls.length;\n",
       "      for (var i = 0; i < js_urls.length; i++) {\n",
       "        var url = js_urls[i];\n",
       "        var s = document.createElement('script');\n",
       "        s.src = url;\n",
       "        s.async = false;\n",
       "        s.onreadystatechange = s.onload = function() {\n",
       "          window._bokeh_is_loading--;\n",
       "          if (window._bokeh_is_loading === 0) {\n",
       "            console.log(\"Bokeh: all BokehJS libraries loaded\");\n",
       "            run_callbacks()\n",
       "          }\n",
       "        };\n",
       "        s.onerror = function() {\n",
       "          console.warn(\"failed to load library \" + url);\n",
       "        };\n",
       "        console.log(\"Bokeh: injecting script tag for BokehJS library: \", url);\n",
       "        document.getElementsByTagName(\"head\")[0].appendChild(s);\n",
       "      }\n",
       "    };var element = document.getElementById(\"29126cc8-2226-4486-833c-2491efd1e84e\");\n",
       "    if (element == null) {\n",
       "      console.log(\"Bokeh: ERROR: autoload.js configured with elementid '29126cc8-2226-4486-833c-2491efd1e84e' but no matching script tag was found. \")\n",
       "      return false;\n",
       "    }\n",
       "  \n",
       "    var js_urls = [];\n",
       "  \n",
       "    var inline_js = [\n",
       "      function(Bokeh) {\n",
       "        Bokeh.$(function() {\n",
       "            var docs_json = {\"f4f34265-8d43-4660-b24f-27c836f2751a\":{\"roots\":{\"references\":[{\"attributes\":{\"callback\":null,\"plot\":{\"id\":\"0274559f-2b4a-4724-928c-6a459c3dd5e4\",\"subtype\":\"Figure\",\"type\":\"Plot\"},\"renderers\":[{\"id\":\"d31aaeaf-041b-4701-8292-8ae4d62d8bb8\",\"type\":\"GlyphRenderer\"}],\"tooltips\":[[\"index\",\"$index\"],[\"X\",\"@X\"],[\"XmY\",\"@XmY\"],[\"XpY\",\"@XpY\"],[\"Y\",\"@Y\"],[\"betweenness\",\"@betweenness\"],[\"betweenness_cen\",\"@betweenness_centrality\"],[\"betweenness_wei\",\"@betweenness_weighted\"],[\"closeness\",\"@closeness\"],[\"closeness_weigh\",\"@closeness_weighted\"],[\"degree\",\"@degree\"],[\"degree_weighted\",\"@degree_weighted\"],[\"eccentricity\",\"@eccentricity\"],[\"eccentricity_we\",\"@eccentricity_weighted\"],[\"eigenvector\",\"@eigenvector\"],[\"eigenvector_wei\",\"@eigenvector_weighted\"],[\"label\",\"@label\"],[\"index\",\"@index\"]]},\"id\":\"0466e789-aa80-45dc-a5d6-6fa76d6176d0\",\"type\":\"HoverTool\"},{\"attributes\":{\"line_alpha\":{\"value\":0.1},\"line_color\":{\"value\":\"#1f77b4\"},\"line_width\":{\"field\":\"line_width\"},\"x0\":{\"field\":\"x0\"},\"x1\":{\"field\":\"x1\"},\"y0\":{\"field\":\"y0\"},\"y1\":{\"field\":\"y1\"}},\"id\":\"49faaec0-4dac-4fc1-b41d-83d3bd8adc37\",\"type\":\"Segment\"},{\"attributes\":{\"plot\":{\"id\":\"0274559f-2b4a-4724-928c-6a459c3dd5e4\",\"subtype\":\"Figure\",\"type\":\"Plot\"}},\"id\":\"37195066-43e3-473d-8f16-5fc4e3f85a24\",\"type\":\"WheelZoomTool\"},{\"attributes\":{},\"id\":\"9eb48f13-ac58-435e-b56d-1dce7673d18e\",\"type\":\"ToolEvents\"},{\"attributes\":{\"dimension\":1,\"plot\":{\"id\":\"0274559f-2b4a-4724-928c-6a459c3dd5e4\",\"subtype\":\"Figure\",\"type\":\"Plot\"},\"ticker\":{\"id\":\"49b2930c-9814-443b-8124-112b0e01af14\",\"type\":\"BasicTicker\"}},\"id\":\"55ca1f97-9c5a-4b3c-8670-e1071b936729\",\"type\":\"Grid\"},{\"attributes\":{\"fill_alpha\":{\"field\":\"fill_alpha\"},\"fill_color\":{\"field\":\"fill_color\"},\"line_alpha\":{\"field\":\"fill_alpha\"},\"line_color\":{\"field\":\"line_color\"},\"line_width\":{\"field\":\"line_width\"},\"size\":{\"field\":\"size\",\"units\":\"screen\"},\"x\":{\"field\":\"cx\"},\"y\":{\"field\":\"cy\"}},\"id\":\"01b94b94-e2e8-44a7-bd42-086987e08e48\",\"type\":\"Circle\"},{\"attributes\":{\"plot\":{\"id\":\"0274559f-2b4a-4724-928c-6a459c3dd5e4\",\"subtype\":\"Figure\",\"type\":\"Plot\"},\"ticker\":{\"id\":\"3d850786-3300-4423-87bc-2949b59a8c5b\",\"type\":\"BasicTicker\"}},\"id\":\"4b20ebe7-2d5d-4a72-8fbe-7402853afda7\",\"type\":\"Grid\"},{\"attributes\":{\"callback\":null,\"column_names\":[\"eigenvector\",\"eigenvector_weighted\",\"eccentricity\",\"degree\",\"fill_colormap\",\"index\",\"line_alpha\",\"degree_weighted\",\"x\",\"fill_alpha\",\"line_colormap\",\"size\",\"line_color\",\"betweenness\",\"eccentricity_weighted\",\"closeness\",\"Y\",\"y\",\"betweenness_weighted\",\"line_width\",\"fill_color\",\"XmY\",\"marker\",\"X\",\"betweenness_centrality\",\"closeness_weighted\",\"label\",\"XpY\"],\"data\":{\"X\":[0.6785714285714286,0.5714285714285714,0.7142857142857143,0.6785714285714286,0.5714285714285714,0.5,0.6785714285714286],\"XmY\":[\"NaN\",\"NaN\",\"NaN\",\"NaN\",\"NaN\",\"NaN\",\"NaN\"],\"XpY\":[\"NaN\",\"NaN\",\"NaN\",\"NaN\",\"NaN\",\"NaN\",\"NaN\"],\"Y\":[\"NaN\",\"NaN\",\"NaN\",\"NaN\",\"NaN\",\"NaN\",\"NaN\"],\"betweenness\":[6.0,6.0,6.0,6.0,6.0,6.0,6.0],\"betweenness_centrality\":[5.0,2.0,6.0,5.0,2.0,0.0,5.0],\"betweenness_weighted\":[5.0,2.0,6.0,5.0,2.0,0.0,5.0],\"closeness\":[6.0,6.0,6.0,6.0,6.0,6.0,6.0],\"closeness_weighted\":[\"NaN\",\"NaN\",\"NaN\",\"NaN\",\"NaN\",\"NaN\",\"NaN\"],\"degree\":[6.0,6.0,6.0,6.0,6.0,6.0,6.0],\"degree_weighted\":[6.0,6.0,6.0,6.0,6.0,6.0,6.0],\"eccentricity\":[6.0,6.0,6.0,6.0,6.0,6.0,6.0],\"eccentricity_weighted\":[6.0,6.0,6.0,6.0,6.0,6.0,6.0],\"eigenvector\":[2.0,2.0,5.0,6.0,2.0,5.0,5.0],\"eigenvector_weighted\":[3.0,0.0,1.0,4.0,2.0,6.0,5.0],\"fill_alpha\":[0.8,0.8,0.8,0.8,0.8,0.8,0.8],\"fill_color\":[\"blue\",\"blue\",\"blue\",\"blue\",\"blue\",\"blue\",\"blue\"],\"fill_colormap\":[\"spectral\",\"spectral\",\"spectral\",\"spectral\",\"spectral\",\"spectral\",\"spectral\"],\"index\":[0.0,1.0,2.0,3.0,4.0,5.0,6.0],\"label\":[\"AUDUSD\",\"EURUSD\",\"GBPUSD\",\"NZDUSD\",\"USDCAD\",\"USDCHF\",\"USDJPY\"],\"line_alpha\":[1,1,1,1,1,1,1],\"line_color\":[\"black\",\"black\",\"black\",\"black\",\"black\",\"black\",\"black\"],\"line_colormap\":[\"copper\",\"copper\",\"copper\",\"copper\",\"copper\",\"copper\",\"copper\"],\"line_width\":[2,2,2,2,2,2,2],\"marker\":[\"circle\",\"circle\",\"circle\",\"circle\",\"circle\",\"circle\",\"circle\"],\"size\":[60,60,60,60,60,60,60],\"x\":[-0.7278028272394579,0.9926396084413486,1.0,-0.7429079633510525,0.9815519716285585,-0.7554812477966213,-0.7479995416827754],\"y\":[-0.18156480464801955,0.1616461276853967,0.05593768941490741,-0.12322599932291292,0.22444684892469732,-0.03424057034281861,-0.1029992917112504]}},\"id\":\"06c49d6f-28b9-446c-997b-0537d55dc3a3\",\"type\":\"ColumnDataSource\"},{\"attributes\":{\"formatter\":{\"id\":\"a411e125-e800-4af6-8f66-dcb11d617523\",\"type\":\"BasicTickFormatter\"},\"plot\":{\"id\":\"0274559f-2b4a-4724-928c-6a459c3dd5e4\",\"subtype\":\"Figure\",\"type\":\"Plot\"},\"ticker\":{\"id\":\"3d850786-3300-4423-87bc-2949b59a8c5b\",\"type\":\"BasicTicker\"}},\"id\":\"dfdd3ddb-79ea-41b2-8a17-ec165a9ad5e9\",\"type\":\"LinearAxis\"},{\"attributes\":{},\"id\":\"a411e125-e800-4af6-8f66-dcb11d617523\",\"type\":\"BasicTickFormatter\"},{\"attributes\":{\"bottom_units\":\"screen\",\"fill_alpha\":{\"value\":0.5},\"fill_color\":{\"value\":\"lightgrey\"},\"left_units\":\"screen\",\"level\":\"overlay\",\"line_alpha\":{\"value\":1.0},\"line_color\":{\"value\":\"black\"},\"line_dash\":[4,4],\"line_width\":{\"value\":2},\"plot\":null,\"render_mode\":\"css\",\"right_units\":\"screen\",\"top_units\":\"screen\"},\"id\":\"7a5ecfa8-c6dd-4275-b533-b77aafc045fc\",\"type\":\"BoxAnnotation\"},{\"attributes\":{\"formatter\":{\"id\":\"5f3141f6-ea4b-404d-b985-aa5cb33d0284\",\"type\":\"BasicTickFormatter\"},\"plot\":{\"id\":\"0274559f-2b4a-4724-928c-6a459c3dd5e4\",\"subtype\":\"Figure\",\"type\":\"Plot\"},\"ticker\":{\"id\":\"49b2930c-9814-443b-8124-112b0e01af14\",\"type\":\"BasicTicker\"}},\"id\":\"7302e39b-e975-49c9-be90-eff933755ba6\",\"type\":\"LinearAxis\"},{\"attributes\":{\"plot\":{\"id\":\"0274559f-2b4a-4724-928c-6a459c3dd5e4\",\"subtype\":\"Figure\",\"type\":\"Plot\"}},\"id\":\"3d261785-c293-4956-a560-a3b88c52bfb3\",\"type\":\"ResetTool\"},{\"attributes\":{\"plot\":{\"id\":\"0274559f-2b4a-4724-928c-6a459c3dd5e4\",\"subtype\":\"Figure\",\"type\":\"Plot\"}},\"id\":\"5816ab5a-8109-4479-81b7-1fdf2a6fe6c2\",\"type\":\"ResizeTool\"},{\"attributes\":{\"callback\":null},\"id\":\"e081f260-f50c-44ee-993e-a52e33230a91\",\"type\":\"DataRange1d\"},{\"attributes\":{\"data_source\":{\"id\":\"06c49d6f-28b9-446c-997b-0537d55dc3a3\",\"type\":\"ColumnDataSource\"},\"glyph\":{\"id\":\"fa72ea78-be69-4b48-9f58-8e08f0e4a793\",\"type\":\"Circle\"},\"hover_glyph\":null,\"nonselection_glyph\":{\"id\":\"024260fc-1516-41e9-a405-0cd0c8cf31f7\",\"type\":\"Circle\"},\"selection_glyph\":null},\"id\":\"d31aaeaf-041b-4701-8292-8ae4d62d8bb8\",\"type\":\"GlyphRenderer\"},{\"attributes\":{},\"id\":\"3d850786-3300-4423-87bc-2949b59a8c5b\",\"type\":\"BasicTicker\"},{\"attributes\":{\"overlay\":{\"id\":\"7a5ecfa8-c6dd-4275-b533-b77aafc045fc\",\"type\":\"BoxAnnotation\"},\"plot\":{\"id\":\"0274559f-2b4a-4724-928c-6a459c3dd5e4\",\"subtype\":\"Figure\",\"type\":\"Plot\"}},\"id\":\"b89c5494-9f9f-4168-b55e-01cde2a035e4\",\"type\":\"BoxZoomTool\"},{\"attributes\":{\"data_source\":{\"id\":\"5a8443b3-3737-43bd-8535-0a92c1341d27\",\"type\":\"ColumnDataSource\"},\"glyph\":{\"id\":\"01b94b94-e2e8-44a7-bd42-086987e08e48\",\"type\":\"Circle\"},\"hover_glyph\":null,\"nonselection_glyph\":{\"id\":\"9361dc38-ebc5-4b25-a857-086ffc34c506\",\"type\":\"Circle\"},\"selection_glyph\":null},\"id\":\"5fb1041e-c6ca-4cbe-b65a-a7534653062f\",\"type\":\"GlyphRenderer\"},{\"attributes\":{\"text\":{\"field\":\"label\"},\"text_align\":\"center\",\"text_color\":{\"value\":\"black\"},\"x\":{\"field\":\"x\"},\"y\":{\"field\":\"y\"}},\"id\":\"1110d551-38ec-4754-af1b-d72274b75956\",\"type\":\"Text\"},{\"attributes\":{\"data_source\":{\"id\":\"06c49d6f-28b9-446c-997b-0537d55dc3a3\",\"type\":\"ColumnDataSource\"},\"glyph\":{\"id\":\"1110d551-38ec-4754-af1b-d72274b75956\",\"type\":\"Text\"},\"hover_glyph\":null,\"nonselection_glyph\":{\"id\":\"94d7538d-4bd1-43ec-ba95-b0ce5cd95485\",\"type\":\"Text\"},\"selection_glyph\":null},\"id\":\"e15e5ff1-2912-418e-a691-05c77cf6d18e\",\"type\":\"GlyphRenderer\"},{\"attributes\":{\"data_source\":{\"id\":\"5a8443b3-3737-43bd-8535-0a92c1341d27\",\"type\":\"ColumnDataSource\"},\"glyph\":{\"id\":\"50c76345-33ed-4730-a5e4-6575d68cd99e\",\"type\":\"Segment\"},\"hover_glyph\":null,\"nonselection_glyph\":{\"id\":\"49faaec0-4dac-4fc1-b41d-83d3bd8adc37\",\"type\":\"Segment\"},\"selection_glyph\":null},\"id\":\"7b43390a-02bc-435c-9027-687e8927afd4\",\"type\":\"GlyphRenderer\"},{\"attributes\":{\"below\":[{\"id\":\"dfdd3ddb-79ea-41b2-8a17-ec165a9ad5e9\",\"type\":\"LinearAxis\"}],\"left\":[{\"id\":\"7302e39b-e975-49c9-be90-eff933755ba6\",\"type\":\"LinearAxis\"}],\"renderers\":[{\"id\":\"dfdd3ddb-79ea-41b2-8a17-ec165a9ad5e9\",\"type\":\"LinearAxis\"},{\"id\":\"4b20ebe7-2d5d-4a72-8fbe-7402853afda7\",\"type\":\"Grid\"},{\"id\":\"7302e39b-e975-49c9-be90-eff933755ba6\",\"type\":\"LinearAxis\"},{\"id\":\"55ca1f97-9c5a-4b3c-8670-e1071b936729\",\"type\":\"Grid\"},{\"id\":\"7a5ecfa8-c6dd-4275-b533-b77aafc045fc\",\"type\":\"BoxAnnotation\"},{\"id\":\"7b43390a-02bc-435c-9027-687e8927afd4\",\"type\":\"GlyphRenderer\"},{\"id\":\"5fb1041e-c6ca-4cbe-b65a-a7534653062f\",\"type\":\"GlyphRenderer\"},{\"id\":\"d31aaeaf-041b-4701-8292-8ae4d62d8bb8\",\"type\":\"GlyphRenderer\"},{\"id\":\"e15e5ff1-2912-418e-a691-05c77cf6d18e\",\"type\":\"GlyphRenderer\"}],\"title\":\"Graph plot\",\"tool_events\":{\"id\":\"9eb48f13-ac58-435e-b56d-1dce7673d18e\",\"type\":\"ToolEvents\"},\"tools\":[{\"id\":\"67ad9c48-1485-41cc-ace6-df610396664b\",\"type\":\"PanTool\"},{\"id\":\"37195066-43e3-473d-8f16-5fc4e3f85a24\",\"type\":\"WheelZoomTool\"},{\"id\":\"b89c5494-9f9f-4168-b55e-01cde2a035e4\",\"type\":\"BoxZoomTool\"},{\"id\":\"3d261785-c293-4956-a560-a3b88c52bfb3\",\"type\":\"ResetTool\"},{\"id\":\"5816ab5a-8109-4479-81b7-1fdf2a6fe6c2\",\"type\":\"ResizeTool\"},{\"id\":\"f41a9c5d-cc57-47ea-bbd6-c4f2d14b533a\",\"type\":\"CrosshairTool\"},{\"id\":\"0466e789-aa80-45dc-a5d6-6fa76d6176d0\",\"type\":\"HoverTool\"},{\"id\":\"f7ef2790-eca7-43ba-8e22-e6a2344b7868\",\"type\":\"HoverTool\"}],\"x_range\":{\"id\":\"0c8a0c05-2820-4e06-968d-afe8e631013b\",\"type\":\"DataRange1d\"},\"y_range\":{\"id\":\"e081f260-f50c-44ee-993e-a52e33230a91\",\"type\":\"DataRange1d\"}},\"id\":\"0274559f-2b4a-4724-928c-6a459c3dd5e4\",\"subtype\":\"Figure\",\"type\":\"Plot\"},{\"attributes\":{},\"id\":\"5f3141f6-ea4b-404d-b985-aa5cb33d0284\",\"type\":\"BasicTickFormatter\"},{\"attributes\":{},\"id\":\"49b2930c-9814-443b-8124-112b0e01af14\",\"type\":\"BasicTicker\"},{\"attributes\":{\"callback\":null,\"plot\":{\"id\":\"0274559f-2b4a-4724-928c-6a459c3dd5e4\",\"subtype\":\"Figure\",\"type\":\"Plot\"},\"renderers\":[{\"id\":\"5fb1041e-c6ca-4cbe-b65a-a7534653062f\",\"type\":\"GlyphRenderer\"}],\"tooltips\":[[\"index\",\"$index\"],[\"corr\",\"@corr\"],[\"cov\",\"@cov\"],[\"exchange\",\"@exchange\"],[\"From\",\"@From\"],[\"To\",\"@To\"]]},\"id\":\"f7ef2790-eca7-43ba-8e22-e6a2344b7868\",\"type\":\"HoverTool\"},{\"attributes\":{\"plot\":{\"id\":\"0274559f-2b4a-4724-928c-6a459c3dd5e4\",\"subtype\":\"Figure\",\"type\":\"Plot\"}},\"id\":\"f41a9c5d-cc57-47ea-bbd6-c4f2d14b533a\",\"type\":\"CrosshairTool\"},{\"attributes\":{\"fill_alpha\":{\"field\":\"fill_alpha\"},\"fill_color\":{\"field\":\"fill_color\"},\"line_color\":{\"field\":\"line_color\"},\"line_width\":{\"field\":\"line_width\"},\"size\":{\"field\":\"size\",\"units\":\"screen\"},\"x\":{\"field\":\"x\"},\"y\":{\"field\":\"y\"}},\"id\":\"fa72ea78-be69-4b48-9f58-8e08f0e4a793\",\"type\":\"Circle\"},{\"attributes\":{\"fill_alpha\":{\"value\":0.1},\"fill_color\":{\"value\":\"#1f77b4\"},\"line_alpha\":{\"value\":0.1},\"line_color\":{\"value\":\"#1f77b4\"},\"line_width\":{\"field\":\"line_width\"},\"size\":{\"field\":\"size\",\"units\":\"screen\"},\"x\":{\"field\":\"cx\"},\"y\":{\"field\":\"cy\"}},\"id\":\"9361dc38-ebc5-4b25-a857-086ffc34c506\",\"type\":\"Circle\"},{\"attributes\":{\"line_alpha\":{\"field\":\"line_alpha\"},\"line_color\":{\"field\":\"line_color\"},\"line_width\":{\"field\":\"line_width\"},\"x0\":{\"field\":\"x0\"},\"x1\":{\"field\":\"x1\"},\"y0\":{\"field\":\"y0\"},\"y1\":{\"field\":\"y1\"}},\"id\":\"50c76345-33ed-4730-a5e4-6575d68cd99e\",\"type\":\"Segment\"},{\"attributes\":{\"fill_alpha\":{\"value\":0.1},\"fill_color\":{\"value\":\"#1f77b4\"},\"line_alpha\":{\"value\":0.1},\"line_color\":{\"value\":\"#1f77b4\"},\"line_width\":{\"field\":\"line_width\"},\"size\":{\"field\":\"size\",\"units\":\"screen\"},\"x\":{\"field\":\"x\"},\"y\":{\"field\":\"y\"}},\"id\":\"024260fc-1516-41e9-a405-0cd0c8cf31f7\",\"type\":\"Circle\"},{\"attributes\":{\"text\":{\"field\":\"label\"},\"text_align\":\"center\",\"text_alpha\":{\"value\":0.1},\"text_color\":{\"value\":\"black\"},\"x\":{\"field\":\"x\"},\"y\":{\"field\":\"y\"}},\"id\":\"94d7538d-4bd1-43ec-ba95-b0ce5cd95485\",\"type\":\"Text\"},{\"attributes\":{\"callback\":null},\"id\":\"0c8a0c05-2820-4e06-968d-afe8e631013b\",\"type\":\"DataRange1d\"},{\"attributes\":{\"plot\":{\"id\":\"0274559f-2b4a-4724-928c-6a459c3dd5e4\",\"subtype\":\"Figure\",\"type\":\"Plot\"}},\"id\":\"67ad9c48-1485-41cc-ace6-df610396664b\",\"type\":\"PanTool\"},{\"attributes\":{\"callback\":null,\"column_names\":[\"cz\",\"From\",\"z1\",\"fill_colormap\",\"y1\",\"line_alpha\",\"fill_alpha\",\"exchange\",\"line_colormap\",\"size\",\"line_color\",\"z0\",\"x1\",\"cy\",\"To\",\"line_width\",\"fill_color\",\"marker\",\"y0\",\"corr\",\"x0\",\"cov\",\"cx\"],\"data\":{\"From\":[\"USDJPY\",\"USDJPY\",\"USDJPY\",\"USDJPY\",\"USDJPY\",\"USDJPY\",\"NZDUSD\",\"NZDUSD\",\"NZDUSD\",\"NZDUSD\",\"NZDUSD\",\"GBPUSD\",\"GBPUSD\",\"GBPUSD\",\"GBPUSD\",\"USDCAD\",\"USDCAD\",\"USDCAD\",\"USDCHF\",\"USDCHF\",\"EURUSD\"],\"To\":[\"AUDUSD\",\"EURUSD\",\"GBPUSD\",\"NZDUSD\",\"USDCAD\",\"USDCHF\",\"AUDUSD\",\"EURUSD\",\"GBPUSD\",\"USDCAD\",\"USDCHF\",\"AUDUSD\",\"EURUSD\",\"USDCAD\",\"USDCHF\",\"AUDUSD\",\"EURUSD\",\"USDCHF\",\"AUDUSD\",\"EURUSD\",\"AUDUSD\"],\"corr\":[0.04324882165750797,-0.06318451316051861,0.14996160996565844,0.019936543971425993,-0.2581342285660918,0.05564144732154627,0.8339587542465035,-0.11255632784627985,0.1548370742870233,-0.6445424826037214,0.03978878898822592,0.1465067913046046,0.7948301205940871,0.28308117475343386,-0.5440158198037358,-0.801004601854655,0.6511653942703972,-0.5261958649505623,0.2343334353213848,-0.7846864296019083,-0.2508993974316972],\"cov\":[4.866621313063313e-06,-3.3411837559335844e-06,1.1719841905782412e-05,1.3470253125808462e-06,-2.1976614905098005e-05,1.467292163974057e-06,0.00016472954529997161,-1.044800295602922e-05,2.1241748810189028e-05,-9.632530730328455e-05,1.8418427737473746e-06,3.3473448897452375e-05,8.53401623585364e-05,4.893455260192944e-05,-2.9128568326706015e-05,-0.0001993660752475475,7.616299324479156e-05,-3.0692239944037584e-05,1.806564555552382e-05,-2.8428360307096255e-05,-3.878737436150823e-05],\"cx\":[-0.7379011844611166,0.1223200333792866,0.1260002291586123,-0.7454537525169139,0.11677621497289153,-0.7517403947396983,-0.7353553952952552,0.12486582254514805,0.12854601832447377,0.11932200413875299,-0.7491946055738369,0.13609858638027106,0.9963198042206742,0.9907759858142793,0.12225937610168935,0.12687457219455028,0.9870957900349535,0.11303536191596858,-0.7416420375180396,0.11857918032236364,0.13241839060094535],\"cy\":[-0.14228204817963497,0.029323417987073157,-0.023530801148171493,-0.11311264551708167,0.06072377860672346,-0.06861993102703451,-0.15239540198546625,0.019210064181241895,-0.033644154954002754,0.0506104248008922,-0.07873328483286576,-0.06281355761655608,0.10879190855015206,0.14019226916980237,0.0108485595360444,0.021441022138338886,0.193046488305047,0.09510313929093936,-0.10790268749541908,0.06370277867128905,-0.00995933848131142],\"cz\":[\"Nan\",\"Nan\",\"Nan\",\"Nan\",\"Nan\",\"Nan\",\"Nan\",\"Nan\",\"Nan\",\"Nan\",\"Nan\",\"Nan\",\"Nan\",\"Nan\",\"Nan\",\"Nan\",\"Nan\",\"Nan\",\"Nan\",\"Nan\",\"Nan\"],\"exchange\":[0.04324882165750797,-0.06318451316051861,0.14996160996565844,0.019936543971425993,-0.2581342285660918,0.05564144732154627,0.8339587542465035,-0.11255632784627985,0.1548370742870233,-0.6445424826037214,0.03978878898822592,0.1465067913046046,0.7948301205940871,0.28308117475343386,-0.5440158198037358,-0.801004601854655,0.6511653942703972,-0.5261958649505623,0.2343334353213848,-0.7846864296019083,-0.2508993974316972],\"fill_alpha\":[0.8,0.8,0.8,0.8,0.8,0.8,0.8,0.8,0.8,0.8,0.8,0.8,0.8,0.8,0.8,0.8,0.8,0.8,0.8,0.8,0.8],\"fill_color\":[\"#107167\",\"#107167\",\"#107167\",\"#107167\",\"#107167\",\"#107167\",\"#107167\",\"#107167\",\"#107167\",\"#107167\",\"#107167\",\"#107167\",\"#107167\",\"#107167\",\"#107167\",\"#107167\",\"#107167\",\"#107167\",\"#107167\",\"#107167\",\"#107167\"],\"fill_colormap\":[\"copper\",\"copper\",\"copper\",\"copper\",\"copper\",\"copper\",\"copper\",\"copper\",\"copper\",\"copper\",\"copper\",\"copper\",\"copper\",\"copper\",\"copper\",\"copper\",\"copper\",\"copper\",\"copper\",\"copper\",\"copper\"],\"line_alpha\":[1,1,1,1,1,1,1,1,1,1,1,1,1,1,1,1,1,1,1,1,1],\"line_color\":[\"black\",\"black\",\"black\",\"black\",\"black\",\"black\",\"black\",\"black\",\"black\",\"black\",\"black\",\"black\",\"black\",\"black\",\"black\",\"black\",\"black\",\"black\",\"black\",\"black\",\"black\"],\"line_colormap\":[\"coolwarm\",\"coolwarm\",\"coolwarm\",\"coolwarm\",\"coolwarm\",\"coolwarm\",\"coolwarm\",\"coolwarm\",\"coolwarm\",\"coolwarm\",\"coolwarm\",\"coolwarm\",\"coolwarm\",\"coolwarm\",\"coolwarm\",\"coolwarm\",\"coolwarm\",\"coolwarm\",\"coolwarm\",\"coolwarm\",\"coolwarm\"],\"line_width\":[3,3,3,3,3,3,3,3,3,3,3,3,3,3,3,3,3,3,3,3,3],\"marker\":[\"circle\",\"circle\",\"circle\",\"circle\",\"circle\",\"circle\",\"circle\",\"circle\",\"circle\",\"circle\",\"circle\",\"circle\",\"circle\",\"circle\",\"circle\",\"circle\",\"circle\",\"circle\",\"circle\",\"circle\",\"circle\"],\"size\":[7,7,7,7,7,7,7,7,7,7,7,7,7,7,7,7,7,7,7,7,7],\"x0\":[-0.7479995416827754,-0.7479995416827754,-0.7479995416827754,-0.7479995416827754,-0.7479995416827754,-0.7479995416827754,-0.7429079633510525,-0.7429079633510525,-0.7429079633510525,-0.7429079633510525,-0.7429079633510525,1.0,1.0,1.0,1.0,0.9815519716285585,0.9815519716285585,0.9815519716285585,-0.7554812477966213,-0.7554812477966213,0.9926396084413486],\"x1\":[-0.7278028272394579,0.9926396084413486,1.0,-0.7429079633510525,0.9815519716285585,-0.7554812477966213,-0.7278028272394579,0.9926396084413486,1.0,0.9815519716285585,-0.7554812477966213,-0.7278028272394579,0.9926396084413486,0.9815519716285585,-0.7554812477966213,-0.7278028272394579,0.9926396084413486,-0.7554812477966213,-0.7278028272394579,0.9926396084413486,-0.7278028272394579],\"y0\":[-0.1029992917112504,-0.1029992917112504,-0.1029992917112504,-0.1029992917112504,-0.1029992917112504,-0.1029992917112504,-0.12322599932291292,-0.12322599932291292,-0.12322599932291292,-0.12322599932291292,-0.12322599932291292,0.05593768941490741,0.05593768941490741,0.05593768941490741,0.05593768941490741,0.22444684892469732,0.22444684892469732,0.22444684892469732,-0.03424057034281861,-0.03424057034281861,0.1616461276853967],\"y1\":[-0.18156480464801955,0.1616461276853967,0.05593768941490741,-0.12322599932291292,0.22444684892469732,-0.03424057034281861,-0.18156480464801955,0.1616461276853967,0.05593768941490741,0.22444684892469732,-0.03424057034281861,-0.18156480464801955,0.1616461276853967,0.22444684892469732,-0.03424057034281861,-0.18156480464801955,0.1616461276853967,-0.03424057034281861,-0.18156480464801955,0.1616461276853967,-0.18156480464801955],\"z0\":[\"Nan\",\"Nan\",\"Nan\",\"Nan\",\"Nan\",\"Nan\",\"Nan\",\"Nan\",\"Nan\",\"Nan\",\"Nan\",\"Nan\",\"Nan\",\"Nan\",\"Nan\",\"Nan\",\"Nan\",\"Nan\",\"Nan\",\"Nan\",\"Nan\"],\"z1\":[\"Nan\",\"Nan\",\"Nan\",\"Nan\",\"Nan\",\"Nan\",\"Nan\",\"Nan\",\"Nan\",\"Nan\",\"Nan\",\"Nan\",\"Nan\",\"Nan\",\"Nan\",\"Nan\",\"Nan\",\"Nan\",\"Nan\",\"Nan\",\"Nan\"]}},\"id\":\"5a8443b3-3737-43bd-8535-0a92c1341d27\",\"type\":\"ColumnDataSource\"}],\"root_ids\":[\"0274559f-2b4a-4724-928c-6a459c3dd5e4\"]},\"title\":\"Bokeh Application\",\"version\":\"0.11.1\"}};\n",
       "            var render_items = [{\"docid\":\"f4f34265-8d43-4660-b24f-27c836f2751a\",\"elementid\":\"29126cc8-2226-4486-833c-2491efd1e84e\",\"modelid\":\"0274559f-2b4a-4724-928c-6a459c3dd5e4\",\"notebook_comms_target\":\"ab8ce24a-222f-45de-bab8-bd56290d29cd\"}];\n",
       "            \n",
       "            Bokeh.embed.embed_items(docs_json, render_items);\n",
       "        });\n",
       "      },\n",
       "      function(Bokeh) {\n",
       "      }\n",
       "    ];\n",
       "  \n",
       "    function run_inline_js() {\n",
       "      for (var i = 0; i < inline_js.length; i++) {\n",
       "        inline_js[i](window.Bokeh);\n",
       "      }\n",
       "    }\n",
       "  \n",
       "    if (window._bokeh_is_loading === 0) {\n",
       "      console.log(\"Bokeh: BokehJS loaded, going straight to plotting\");\n",
       "      run_inline_js();\n",
       "    } else {\n",
       "      load_libs(js_urls, function() {\n",
       "        console.log(\"Bokeh: BokehJS plotting callback run at\", now());\n",
       "        run_inline_js();\n",
       "      });\n",
       "    }\n",
       "  }(this));\n",
       "</script>"
      ]
     },
     "metadata": {},
     "output_type": "display_data"
    },
    {
     "data": {
      "text/html": [
       "<p><code>&lt;Bokeh Notebook handle for <strong>In[7]</strong>&gt;</code></p>"
      ],
      "text/plain": [
       "<bokeh.io._CommsHandle at 0x7ff13ea48ef0>"
      ]
     },
     "metadata": {},
     "output_type": "display_data"
    }
   ],
   "source": [
    "gp.widget"
   ]
  },
  {
   "cell_type": "code",
   "execution_count": null,
   "metadata": {
    "collapsed": true
   },
   "outputs": [],
   "source": []
  }
 ],
 "metadata": {
  "kernelspec": {
   "display_name": "Python 3",
   "language": "python",
   "name": "python3"
  },
  "language_info": {
   "codemirror_mode": {
    "name": "ipython",
    "version": 3
   },
   "file_extension": ".py",
   "mimetype": "text/x-python",
   "name": "python",
   "nbconvert_exporter": "python",
   "pygments_lexer": "ipython3",
   "version": "3.5.1"
  }
 },
 "nbformat": 4,
 "nbformat_minor": 0
}
