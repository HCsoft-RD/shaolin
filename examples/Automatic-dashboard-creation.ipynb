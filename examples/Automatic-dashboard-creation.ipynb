{
 "cells": [
  {
   "cell_type": "markdown",
   "metadata": {},
   "source": [
    "# How to create dashboards using shaolin KungFu"
   ]
  },
  {
   "cell_type": "markdown",
   "metadata": {},
   "source": [
    "## 1.1 Widgets defined as keyword arguments"
   ]
  },
  {
   "cell_type": "markdown",
   "metadata": {},
   "source": [
    "It is possible to instantiate widgets by instantiating a KungFu object. The widgets will be created from ts keyword arguments as shown below. "
   ]
  },
  {
   "cell_type": "code",
   "execution_count": 1,
   "metadata": {},
   "outputs": [
    {
     "data": {
      "application/vnd.jupyter.widget-view+json": {
       "model_id": "668accfbdc1244b791736af0dfb2f146"
      }
     },
     "metadata": {},
     "output_type": "display_data"
    }
   ],
   "source": [
    "from shaolin import KungFu\n",
    "dashb = KungFu(int_slider=4, text=\"moco\", dropdown=['Hello','World'],float_slider=(2.,10.,1.),box='2r')\n",
    "dashb.widget"
   ]
  },
  {
   "cell_type": "markdown",
   "metadata": {},
   "source": [
    "<img src=\"auto_dashboard_data/image_1.png\"></img>"
   ]
  },
  {
   "cell_type": "markdown",
   "metadata": {},
   "source": [
    "You can use the box parameter to set the layout distribution of the widgets. It is possible to set the desired number of rows or columns that our dashboard will have:"
   ]
  },
  {
   "cell_type": "code",
   "execution_count": 2,
   "metadata": {},
   "outputs": [
    {
     "data": {
      "application/vnd.jupyter.widget-view+json": {
       "model_id": "351fa6618dd14ef88fa0176f5d0690ee"
      }
     },
     "metadata": {},
     "output_type": "display_data"
    }
   ],
   "source": [
    "KungFu(int_slider=4, text=\"moco\", dropdown=['Hello','World'],float_slider=(2.,10.,1.),box='1c')[0]"
   ]
  },
  {
   "cell_type": "markdown",
   "metadata": {},
   "source": [
    "<img src=\"auto_dashboard_data/image_2.png\"></img>"
   ]
  },
  {
   "cell_type": "markdown",
   "metadata": {},
   "source": [
    "# 1.2 Instantiating  from kwargs dict"
   ]
  },
  {
   "cell_type": "markdown",
   "metadata": {},
   "source": [
    "It is possible to create a dashboard containing widgets that control the value of the desired keyword arguments as shown in the following cells. It is possible to use the same syntax that is used in the ipywidgets interact function, shaolin object notation syntax, or shaoscript syntax to define the widgets that will be displayed in the dashboard. "
   ]
  },
  {
   "cell_type": "code",
   "execution_count": 4,
   "metadata": {},
   "outputs": [
    {
     "data": {
      "application/vnd.jupyter.widget-view+json": {
       "model_id": "89494d943dc346a0b29139b134b68a4b"
      }
     },
     "metadata": {},
     "output_type": "display_data"
    }
   ],
   "source": [
    "\n",
    "kwargs = {'num_xbins':(1,40,2,10),\n",
    "         'num_ybins':(1,40,2,10),\n",
    "         'grid': True,\n",
    "         'link_bins':True,\n",
    "         'plot_density':True,\n",
    "         'reg_order':(1,10,1,1),\n",
    "         'ci':\"(1,100,1,95)$N=ci&d=Confidence intervals\",\n",
    "         'robust':[False],\n",
    "         'scatter':True,\n",
    "         'regression':True,\n",
    "         'marginals':(['None','Histogram','KDE','Both'],'Both'),\n",
    "         'bw':(0.001,10,0.05,0.5),\n",
    "         'Title':'#Combining plots$N=title&D=',\n",
    "         'dataset':['ALL','I','II','III','IV'],\n",
    "         'save':False,\n",
    "         #'@kernel':['gau','cos','biw','epa','tri','triw']\n",
    "        }\n",
    "kf = KungFu(**kwargs,box='4c|')# using '|' in the box description sorts the widtgets by its value type\n",
    "kf[0]#indexing with any integer returns the widget"
   ]
  },
  {
   "cell_type": "markdown",
   "metadata": {},
   "source": [
    "<img src=\"auto_dashboard_data/image_3.png\"></img>"
   ]
  },
  {
   "cell_type": "code",
   "execution_count": 5,
   "metadata": {},
   "outputs": [
    {
     "data": {
      "text/plain": [
       "{'bw': 0.5,\n",
       " 'ci': 95,\n",
       " 'dataset': 'ALL',\n",
       " 'grid': True,\n",
       " 'link_bins': True,\n",
       " 'marginals': 'Both',\n",
       " 'num_xbins': 10,\n",
       " 'num_ybins': 10,\n",
       " 'plot_density': True,\n",
       " 'reg_order': 1,\n",
       " 'regression': True,\n",
       " 'robust': False,\n",
       " 'save': False,\n",
       " 'scatter': True}"
      ]
     },
     "execution_count": 5,
     "metadata": {},
     "output_type": "execute_result"
    }
   ],
   "source": [
    "kf() #calling the dashboard returns a kwargs dict"
   ]
  },
  {
   "cell_type": "markdown",
   "metadata": {},
   "source": [
    "## 1.3 Instantiating from shaolin syntax"
   ]
  },
  {
   "cell_type": "markdown",
   "metadata": {},
   "source": [
    "KungFu can be used the same way the Dashboard was used in former version of shaolin to manually define the layout."
   ]
  },
  {
   "cell_type": "code",
   "execution_count": 6,
   "metadata": {
    "collapsed": true
   },
   "outputs": [],
   "source": [
    "from IPython.core.display import display\n",
    "import seaborn as sns\n",
    "%matplotlib inline\n",
    "sns.set(style=\"ticks\")\n",
    "data = sns.load_dataset(\"anscombe\")"
   ]
  },
  {
   "cell_type": "code",
   "execution_count": 7,
   "metadata": {},
   "outputs": [
    {
     "data": {
      "application/vnd.jupyter.widget-view+json": {
       "model_id": "98fe96fa53d844e798a699357f6954db"
      }
     },
     "metadata": {},
     "output_type": "display_data"
    }
   ],
   "source": [
    "#general\n",
    "title = '#Exploratory plots$N=title&D='\n",
    "marginals = \"@['Both','None','Histogram','KDE']$d=Marginals\"\n",
    "dset = \"@['ALL','I','II','III','IV']$D=Dataset\"\n",
    "x_cols = '@dd$D=X column&o='+str(data.columns.values.tolist())\n",
    "y_cols = '@dd$D=Y column&o='+str(data.columns.values.tolist())+'&v='+data.columns[1]\n",
    "save = \"@[False]$D=Save plot&n=save\"\n",
    "data_layout = ['c$N=data_layout',[title,dset,['r$N=sub_row',[x_cols,y_cols]],marginals,save]]\n",
    "\n",
    "#histograms\n",
    "h_title = '#Historam options$N=h_title&D='\n",
    "num_xbins = '@(1,40,2,10)$D=Num xbins&n=num_xbins'\n",
    "num_ybins = '@(1,40,2,10)$D=Num ybins&n=num_ybins'\n",
    "lbins = '@True$D=link_bins'\n",
    "hist_layout = ['c$N=hist_layout',[h_title,num_xbins,num_ybins,lbins]]\n",
    "\n",
    "#scatter\n",
    "s_title = '#Scatterplot options$N=s_title&D='\n",
    "scat = '@[True]$D=Plot Scatter&n=scatter' \n",
    "grid = '@True$D=Grid'\n",
    "scatter_layout = ['c$N=scatter_layout',[s_title,scat,grid]]\n",
    "\n",
    "#regression\n",
    "r_title = '#Regression options$N=r_title&D='\n",
    "reg = '@[True]$D=Plot Regression&n=regression'\n",
    "robust = '@False$D=Robust'\n",
    "reg_order = \"@(1,10,1,1)$D=Reg order\"\n",
    "ci = \"@(1,100,1,95)$N=ci&d=Confidence intervals\"\n",
    "reg_layout = ['c$N=reg_layout',[r_title,reg,reg_order,ci,robust]]\n",
    "\n",
    "#kde\n",
    "k_title = '#KDE plot options$N=k_title&D='\n",
    "kde = '@[True]$D=Plot KDE&n=plot_density'\n",
    "bw =  \"@(0.001,10,0.05,0.5)$D=Bandwidth&n=bw\"\n",
    "kde_layout = ['@c$N=kde_layout',[k_title,kde,bw]]\n",
    "\n",
    "#accordion as top level layout\n",
    "dash = ['ac$N=dae_plot&t=General,Histogram,Scatter,KDE,Regression',[data_layout,\n",
    "                                                                hist_layout,\n",
    "                                                                scatter_layout,\n",
    "                                                                kde_layout,\n",
    "                                                                reg_layout,\n",
    "                                                               ]\n",
    "       ]\n",
    "\n",
    "KungFu(dash=dash)[0]"
   ]
  },
  {
   "cell_type": "markdown",
   "metadata": {},
   "source": [
    "<img src=\"auto_dashboard_data/image_4.png\"></img>"
   ]
  },
  {
   "cell_type": "markdown",
   "metadata": {},
   "source": [
    "# Mimicking the interact function from ipywidgets"
   ]
  },
  {
   "cell_type": "markdown",
   "metadata": {},
   "source": [
    "Lets see how we can copy the functionality of the interact function from ipywidgets. It is possible to use KungFu on a single function the same way interact would work. We can also create a Dashboard from the default arguments of a function.\n",
    "\n",
    "Here we compare how we would use the ipywidgets interact function to build an interactive dashboard, and how we can achieve the same result with shaolin. "
   ]
  },
  {
   "cell_type": "code",
   "execution_count": 8,
   "metadata": {
    "collapsed": true,
    "scrolled": true
   },
   "outputs": [],
   "source": [
    "import numpy as np\n",
    "from ipywidgets import interact, interactive, fixed\n",
    "from IPython.core.display import clear_output,display\n",
    "import matplotlib.pyplot as plt\n",
    "import ipywidgets as widgets\n",
    "import seaborn as sns\n",
    "def draw_example_dist(n=10000):\n",
    "    a = np.random.normal(loc=-15.,scale=3,size=n)\n",
    "    b = np.random.normal(loc=20,scale=3,size=n)\n",
    "    c = np.random.exponential(size=n,scale=3)\n",
    "    return np.hstack([a,b,c])\n",
    "\n",
    "\n",
    "def draw_regions(distribution='normal',\n",
    "                 bins=7,\n",
    "                 bw=0.18,\n",
    "                 normed=False,\n",
    "                 mean=False,\n",
    "                 std=False,\n",
    "                 percents=False,\n",
    "                 hist=True):\n",
    "   \n",
    "    x = draw_example_dist() if distribution=='example_2' else np.random.standard_normal(10000)\n",
    "    #x = draw_regions_data if distribution=='custom' else x\n",
    "    fig = plt.figure(figsize=(14,8))\n",
    "    ax = sns.kdeplot(x, cut=0,color='b',shade=True,alpha=0.3,bw=bw)\n",
    "    \n",
    "    d_bins = np.linspace(x.min(),x.max(),num=bins)\n",
    "    if hist:\n",
    "        n, bins, patches = ax.hist(x,bins=d_bins,normed=normed,rwidth=0.8,alpha=0.7)\n",
    "    else:\n",
    "        n=[1]\n",
    "    maxx = 1 if normed else max(n)\n",
    "    if mean:\n",
    "        \n",
    "        ax.axvline(x=x.mean(), ymin=0, ymax = maxx,\n",
    "                    linewidth=6, color='r',label='Mean: {:.3f}'.format(x.mean()),alpha=1.)\n",
    "    if std:\n",
    "        m = x.mean()\n",
    "        \n",
    "        ax.axvline(x=m+x.std(), ymin=0, ymax = maxx, linewidth=5, color='g',label='Std: {:.3f}'.format(x.std()),alpha=0.8)\n",
    "        ax.axvline(x=m-x.std(), ymin=0, ymax = maxx, linewidth=5, color='g',alpha=0.8)\n",
    "    if percents:\n",
    "        d = pd.Series(x).describe()\n",
    "        ax.axvline(x=d.ix['min'],\n",
    "                    ymin=0, ymax = maxx,\n",
    "                    linewidth=5, \n",
    "                    color=(0.19130826141258903, 0.13147472185630074, 0.09409307479747722),\n",
    "                    label='min: {:.2f}'.format(d.ix['min']),alpha=0.8)\n",
    "        ax.axvline(x=d.ix['25%'],\n",
    "                    ymin=0, ymax = maxx,\n",
    "                    linewidth=5, \n",
    "                    color=(0.38717148143023966, 0.26607979423298955, 0.19042646089965626),\n",
    "                    label='25%: {:.2f}'.format(d.ix['25%']),alpha=0.8)\n",
    "        ax.axvline(x=d.ix['50%'],\n",
    "                    ymin=0, ymax = maxx,\n",
    "                    linewidth=5, \n",
    "                    color=(0.5830347014478903, 0.4006848666096784, 0.2867598470018353),\n",
    "                    label='50%: {:.2f}'.format(d.ix['50%']),alpha=0.8)\n",
    "        ax.axvline(x=d.ix['75%'],\n",
    "                    ymin=0, ymax = maxx,\n",
    "                    linewidth=5, \n",
    "                    color=(0.7743429628604792, 0.5321595884659791, 0.3808529217993126),\n",
    "                    label='75%: {:.2f}'.format(d.ix['75%']),alpha=0.8)\n",
    "        ax.axvline(x=d.ix['max'],\n",
    "                    ymin=0, ymax = maxx,\n",
    "                    linewidth=5, \n",
    "                    color=(0.9415558823529412, 0.663581294117647, 0.47400294117647046),\n",
    "                    label='max%: {:.2f}'.format(d.ix['max']),alpha=0.8)\n",
    "        \n",
    "       # ax.plot((m-0.1, m+0.1), (0,max(n)), 'k-')\n",
    "    plt.grid(linewidth=2)\n",
    "    plt.title(\"Basic statistics\",fontsize=20)\n",
    "    plt.legend(loc='upper left',fontsize=18)\n",
    "    plt.show()\n",
    "    \n",
    "    clear_output(True)\n"
   ]
  },
  {
   "cell_type": "markdown",
   "metadata": {},
   "source": [
    "Using interact to create widgets"
   ]
  },
  {
   "cell_type": "code",
   "execution_count": 9,
   "metadata": {},
   "outputs": [
    {
     "data": {
      "application/vnd.jupyter.widget-view+json": {
       "model_id": "4a1b18ac4dff48edb50b3b7b4b6efc9a"
      }
     },
     "metadata": {},
     "output_type": "display_data"
    },
    {
     "data": {
      "text/plain": [
       "<function __main__.draw_regions>"
      ]
     },
     "metadata": {},
     "output_type": "display_data"
    }
   ],
   "source": [
    "inter = interact(draw_regions,\n",
    "             normed=False,distribution=['Normal','example_2','custom'])\n",
    "display(inter)"
   ]
  },
  {
   "cell_type": "markdown",
   "metadata": {},
   "source": [
    "Same thing using KungFu"
   ]
  },
  {
   "cell_type": "code",
   "execution_count": 11,
   "metadata": {},
   "outputs": [
    {
     "data": {
      "application/vnd.jupyter.widget-view+json": {
       "model_id": "a7eb2f4019d74f1a81d6b237e3d5a2d8"
      }
     },
     "metadata": {},
     "output_type": "display_data"
    }
   ],
   "source": [
    "KungFu(func=draw_regions, interact=True, box='3r')[0]"
   ]
  },
  {
   "cell_type": "markdown",
   "metadata": {},
   "source": [
    "<img src=\"auto_dashboard_data/image_5.png\"></img>"
   ]
  },
  {
   "cell_type": "markdown",
   "metadata": {},
   "source": [
    "It is also possible to overwrite the default values of the function parameters. "
   ]
  },
  {
   "cell_type": "code",
   "execution_count": 12,
   "metadata": {},
   "outputs": [
    {
     "data": {
      "application/vnd.jupyter.widget-view+json": {
       "model_id": "32eb96b1cee94f2ab2c1982f05f95e31"
      }
     },
     "metadata": {},
     "output_type": "display_data"
    }
   ],
   "source": [
    "KungFu(func=draw_regions,\n",
    "       bins=(1,100,2,50),\n",
    "       bw=(0.01,10.,0.025,0.18),\n",
    "       normed=False,\n",
    "       distribution=['Normal','example_2'],\n",
    "       interact=True,box=\"2c\")[0]"
   ]
  },
  {
   "cell_type": "markdown",
   "metadata": {},
   "source": [
    "<img src=\"auto_dashboard_data/image_6.png\"></img>"
   ]
  },
  {
   "cell_type": "markdown",
   "metadata": {},
   "source": [
    "# Shaolin KungFu for automatic dashboard creation"
   ]
  },
  {
   "cell_type": "markdown",
   "metadata": {},
   "source": [
    "Here it is an example on how to build a complex dashboard:"
   ]
  },
  {
   "cell_type": "code",
   "execution_count": 13,
   "metadata": {
    "collapsed": true
   },
   "outputs": [],
   "source": [
    "import numpy as np\n",
    "import pandas as pd\n",
    "import matplotlib.pylab as plt\n",
    "import seaborn as sns\n",
    "from IPython.core.display import clear_output\n",
    "from shaolin import KungFu,Dashboard\n",
    "class DensityPlot(KungFu):\n",
    "    def __init__(self,data):\n",
    "        #Kwargs expanding standard interact syntax with object notation and shaoscript\n",
    "        d_kwargs= {'num_xbins':(1,40,2,10),\n",
    "                 'num_ybins':(1,40,2,10),\n",
    "                 'grid': True,\n",
    "                 'link_bins':True,\n",
    "                 'plot_density':True,\n",
    "                 'reg_order':(1,10,1,1),\n",
    "                 'ci':\"(1,100,1,95)$N=ci&d=Confidence intervals\",\n",
    "                 'robust':[False],\n",
    "                 'scatter':True,\n",
    "                 'regression':True,\n",
    "                 'marginals':(['None','Histogram','KDE','Both'],'Both'),\n",
    "                 'bw':(0.001,10,0.05,0.5),\n",
    "                 'Title':'#Combining plots$N=title&D=',\n",
    "                 'dataset':['ALL','I','II','III','IV'],\n",
    "                 'save':False,\n",
    "                 #'@kernel':['gau','cos','biw','epa','tri','triw']\n",
    "                }\n",
    "        \n",
    "        #general\n",
    "        title = '#Exploratory plots$N=title&D='\n",
    "        marginals = \"@['Both','None','Histogram','KDE']$d=Marginals\"\n",
    "        \n",
    "        dset = \"@['ALL','I','II','III','IV']$D=Dataset\"\n",
    "        x_cols = '@dd$D=X column&o='+str(data.columns.values.tolist())\n",
    "        y_cols = '@dd$D=Y column&o='+str(data.columns.values.tolist())+'&v='+data.columns[1]\n",
    "        save = \"@[False]$D=Save plot&n=save\"\n",
    "        data_layout = ['c$N=data_layout',[title,dset,['r$N=sub_row',[x_cols,y_cols]],marginals,save]]\n",
    "        #histograms\n",
    "        h_title = '#Historam options$N=h_title&D='\n",
    "        num_xbins = '@(1,40,2,10)$D=Num xbins&n=num_xbins'\n",
    "        num_ybins = '@(1,40,2,10)$D=Num ybins&n=num_ybins'\n",
    "        lbins = '@True$D=link_bins'\n",
    "        hist_layout = ['c$N=hist_layout',[h_title,num_xbins,num_ybins,lbins]]\n",
    "        \n",
    "        #scatter\n",
    "        s_title = '#Scatterplot options$N=s_title&D='\n",
    "        scat = '@[True]$D=Plot Scatter&n=scatter' \n",
    "        grid = '@True$D=Grid'\n",
    "        scatter_layout = ['c$N=scatter_layout',[s_title,scat,grid]]\n",
    "        #regression\n",
    "        r_title = '#Regression options$N=r_title&D='\n",
    "        reg = '@[True]$D=Plot Regression&n=regression'\n",
    "        robust = '@False$D=Robust'\n",
    "        reg_order = \"@(1,10,1,1)$D=Reg order\"\n",
    "        ci = \"@(1,100,1,95)$N=ci&d=Confidence intervals\"\n",
    "        reg_layout = ['c$N=reg_layout',[r_title,reg,reg_order,ci,robust]]\n",
    "        #kde\n",
    "        k_title = '#KDE plot options$N=k_title&D='\n",
    "        kde = '@[True]$D=Plot KDE&n=plot_density'\n",
    "        bw =  \"@(0.001,10,0.05,0.5)$D=Bandwidth&n=bw\"\n",
    "        kde_layout = ['@c$N=kde_layout',[k_title,kde,bw]]\n",
    "        dash = ['ac$N=dae_plot&t=General,Histogram,Scatter,KDE,Regression',[data_layout,\n",
    "                                                                        hist_layout,\n",
    "                                                                        scatter_layout,\n",
    "                                                                        kde_layout,\n",
    "                                                                        reg_layout,\n",
    "                                                                       ]\n",
    "               ]\n",
    "        self.data = data\n",
    "        KungFu.__init__(self,dash=dash,mode='interactive')\n",
    "        self.num_xbins.widget.continuous_update=False\n",
    "        self.num_ybins.widget.continuous_update=False\n",
    "        self.density_plot()\n",
    "        self.link_bins.observe(self.link_sliders)\n",
    "        self.observe(self.density_plot)\n",
    "        self.link_sliders()\n",
    "        self._i_plot = 0\n",
    "        \n",
    "        \n",
    "        \n",
    "    \n",
    "    def link_sliders(self,_=None):\n",
    "        if self.link_bins():\n",
    "            self.num_ybins.visible = False\n",
    "            self.link('num_xbins','num_ybins')\n",
    "        else:\n",
    "            self.unlink('num_xbins','num_ybins')\n",
    "            self.num_ybins.visible = True\n",
    "            \n",
    "    def density_plot(self,_=None):\n",
    "        clear_output()\n",
    "        if self.kwargs['dataset']=='ALL':\n",
    "            self.x_column.value = 'x'\n",
    "            self.y_column.value = 'y'\n",
    "            subdf = self.data.copy()\n",
    "        else:\n",
    "            subdf = self.data[self.data['dataset']==self.dataset()].copy()\n",
    "        x,y = subdf[self.x_column()],subdf[self.y_column()]\n",
    "        x_regions = 10\n",
    "        y_regions = 10\n",
    "        x_bins = np.linspace(x.min(),x.max(),num=self.kwargs['num_xbins'])\n",
    "        y_bins = np.linspace(y.min(),y.max(),num=self.kwargs['num_ybins'])\n",
    "        \n",
    "        g = sns.JointGrid(x=self.x_column(), y=self.y_column(), data=subdf)\n",
    "        \n",
    "        g.fig.set_figwidth(14)\n",
    "        g.fig.set_figheight(9)\n",
    "        if self.kwargs['plot_density']:\n",
    "            g = g.plot_joint(sns.kdeplot, shade=True,alpha=0.5,legend=True,bw=self.kwargs['bw'],\n",
    "                             gridsize=int((len(x_bins)+len(y_bins))/2),\n",
    "                             clip=((x.min()*0.95,x.max()*1.05),(y.min()*0.95,y.max()*1.05)))\n",
    "        \n",
    "        if self.kwargs['scatter']:\n",
    "            g = g.plot_joint(plt.scatter,s=80,alpha=0.8)\n",
    "            \n",
    "        \n",
    "        if self.kwargs['marginals'] in ['Histogram','Both']:\n",
    "            _ = g.ax_marg_x.hist(x, alpha=.6,\n",
    "                                  bins=x_bins,normed=True)\n",
    "            _ = g.ax_marg_y.hist(y, alpha=.6,\n",
    "                                   orientation=\"horizontal\",\n",
    "                                   bins=y_bins,normed=True)\n",
    "        if self.kwargs['marginals'] in ['KDE','Both']:\n",
    "            clip = ((x.values.min()*0.95,x.values.max()*1.05),(y.values.min()*0.95,y.values.max()*1.05))\n",
    "            g = g.plot_marginals(sns.kdeplot, shade=True,alpha=0.5,\n",
    "                             gridsize=int((len(x_bins)+len(y_bins))/2))\n",
    "                             \n",
    "        if self.kwargs['regression']:\n",
    "            g = g.plot_joint(sns.regplot,\n",
    "                             robust=self.kwargs['robust'],\n",
    "                             ci=self.kwargs['ci'],\n",
    "                             order=self.kwargs['reg_order'],\n",
    "                             truncate=True,\n",
    "                             scatter_kws={\"s\": 0})\n",
    "        if self.kwargs['grid']:\n",
    "            plt.grid(linewidth=2) \n",
    "            plt.xticks(x_bins)\n",
    "            plt.yticks(y_bins)\n",
    "            \n",
    "        plt.xlim(x.values.min()*0.95,x.values.max()*1.05)\n",
    "        plt.ylim(y.values.min()*0.95,y.values.max()*1.05)\n",
    "         \n",
    "        \n",
    "      \n",
    "        if self.kwargs['save']:\n",
    "            _ =plt.savefig(\"density_plot_{}.png\".format(self._i_plot), dpi=100)\n",
    "            self._i_plot += 1"
   ]
  },
  {
   "cell_type": "code",
   "execution_count": 14,
   "metadata": {},
   "outputs": [
    {
     "data": {
      "application/vnd.jupyter.widget-view+json": {
       "model_id": "12da6048bdc64838bd94c5a97edcc9d6"
      }
     },
     "metadata": {},
     "output_type": "display_data"
    },
    {
     "data": {
      "image/png": "[encoded data removed]",
      "text/plain": [
       "<matplotlib.figure.Figure at 0x7fadfd3bee10>"
      ]
     },
     "metadata": {},
     "output_type": "display_data"
    }
   ],
   "source": [
    "DensityPlot(data)[0]"
   ]
  },
  {
   "cell_type": "code",
   "execution_count": null,
   "metadata": {
    "collapsed": true
   },
   "outputs": [],
   "source": []
  }
 ],
 "metadata": {
  "anaconda-cloud": {},
  "kernelspec": {
   "display_name": "Python [conda root]",
   "language": "python",
   "name": "conda-root-py"
  },
  "language_info": {
   "codemirror_mode": {
    "name": "ipython",
    "version": 3
   },
   "file_extension": ".py",
   "mimetype": "text/x-python",
   "name": "python",
   "nbconvert_exporter": "python",
   "pygments_lexer": "ipython3",
   "version": "3.5.3"
  },
  "widgets": {
   "application/vnd.jupyter.widget-state+json": {
    "state": {
     "01d9863f570c4ee4bf475257fd264457": {
      "model_module": "jupyter-js-widgets",
      "model_module_version": "~2.1.4",
      "model_name": "LayoutModel",
      "state": {
       "_model_module_version": "~2.1.4",
       "_view_module_version": "~2.1.4",
       "display": "",
       "min_width": "100px",
       "visibility": "visible"
      }
     },
     "025d58f27cae4bc2adc8f416dfae16f1": {
      "model_module": "jupyter-js-widgets",
      "model_module_version": "~2.1.4",
      "model_name": "LayoutModel",
      "state": {
       "_model_module_version": "~2.1.4",
       "_view_module_version": "~2.1.4",
       "display": "",
       "max_width": "300px",
       "min_width": "100px",
       "visibility": "visible"
      }
     },
     "02f129bc6a374b669478dbb33c73c9f7": {
      "model_module": "jupyter-js-widgets",
      "model_module_version": "~2.1.4",
      "model_name": "DropdownModel",
      "state": {
       "_model_module_version": "~2.1.4",
       "_options_labels": [
        "Normal",
        "example_2",
        "custom"
       ],
       "_view_module_version": "~2.1.4",
       "description": "distribution",
       "layout": "IPY_MODEL_cbfe4200cbbb447dae3b41657f1589bb",
       "value": "Normal"
      }
     },
     "0346674140af490aa7b910a042a7cbe7": {
      "model_module": "jupyter-js-widgets",
      "model_module_version": "~2.1.4",
      "model_name": "LayoutModel",
      "state": {
       "_model_module_version": "~2.1.4",
       "_view_module_version": "~2.1.4",
       "display": "",
       "max_width": "300px",
       "min_width": "100px",
       "visibility": "visible"
      }
     },
     "03f4411ab1f94170a0c523270db4bdf3": {
      "model_module": "jupyter-js-widgets",
      "model_module_version": "~2.1.4",
      "model_name": "LayoutModel",
      "state": {
       "_model_module_version": "~2.1.4",
       "_view_module_version": "~2.1.4",
       "display": "",
       "min_width": "100px",
       "visibility": "visible"
      }
     },
     "04a5fbecd89c4766a12463a13e6bb52a": {
      "model_module": "jupyter-js-widgets",
      "model_module_version": "~2.1.4",
      "model_name": "LayoutModel",
      "state": {
       "_model_module_version": "~2.1.4",
       "_view_module_version": "~2.1.4",
       "display": "",
       "max_width": "300px",
       "min_width": "100px",
       "visibility": "visible"
      }
     },
     "060014fabad346db9922484806a8547c": {
      "model_module": "jupyter-js-widgets",
      "model_module_version": "~2.1.4",
      "model_name": "ToggleButtonModel",
      "state": {
       "_model_module_version": "~2.1.4",
       "_view_module_version": "~2.1.4",
       "description": "Plot KDE",
       "layout": "IPY_MODEL_48c2d9871f5345fda4843d9df869ab69",
       "value": true
      }
     },
     "0804bf2683ee4fc0a5373ef72a247bff": {
      "model_module": "jupyter-js-widgets",
      "model_module_version": "~2.1.4",
      "model_name": "IntSliderModel",
      "state": {
       "_model_module_version": "~2.1.4",
       "_view_module_version": "~2.1.4",
       "layout": "IPY_MODEL_5ffb852f643840a18cfbbd12a859bdba",
       "max": 40,
       "min": 1,
       "step": 2,
       "style": "IPY_MODEL_9dcf08af36f049a4978ac99c483f40f7",
       "value": 10
      }
     },
     "095856a9a0dd4a60a92de6b5df5724de": {
      "model_module": "jupyter-js-widgets",
      "model_module_version": "~2.1.4",
      "model_name": "HTMLModel",
      "state": {
       "_model_module_version": "~2.1.4",
       "_view_module_version": "~2.1.4",
       "layout": "IPY_MODEL_74bbf8da92364b00b57654dc06c87c05",
       "value": "<h1>historam options</h1>"
      }
     },
     "0ac08c29d7eb4fb1a78489912238ac7a": {
      "model_module": "jupyter-js-widgets",
      "model_module_version": "~2.1.4",
      "model_name": "CheckboxModel",
      "state": {
       "_model_module_version": "~2.1.4",
       "_view_module_version": "~2.1.4",
       "description": "Std",
       "disabled": false,
       "layout": "IPY_MODEL_12818f8d548c41c7b088e88a0d375015",
       "value": false
      }
     },
     "0aeb71aaf1354f119dca4e1b4a56dd93": {
      "model_module": "jupyter-js-widgets",
      "model_module_version": "~2.1.4",
      "model_name": "ToggleButtonModel",
      "state": {
       "_model_module_version": "~2.1.4",
       "_view_module_version": "~2.1.4",
       "description": "Save plot",
       "layout": "IPY_MODEL_15405350481540ed9da3c420c886e6cb"
      }
     },
     "0b2502c20e144e1db7d8f965bc8d6cc3": {
      "model_module": "jupyter-js-widgets",
      "model_module_version": "~2.1.4",
      "model_name": "LayoutModel",
      "state": {
       "_model_module_version": "~2.1.4",
       "_view_module_version": "~2.1.4",
       "display": "",
       "min_width": "100px",
       "visibility": "visible"
      }
     },
     "0b8a5fbe329a4eddb20c230fc8834b27": {
      "model_module": "jupyter-js-widgets",
      "model_module_version": "~2.1.4",
      "model_name": "LayoutModel",
      "state": {
       "_model_module_version": "~2.1.4",
       "_view_module_version": "~2.1.4"
      }
     },
     "0c46ff2d29a74667821bb10c5111712a": {
      "model_module": "jupyter-js-widgets",
      "model_module_version": "~2.1.4",
      "model_name": "CheckboxModel",
      "state": {
       "_model_module_version": "~2.1.4",
       "_view_module_version": "~2.1.4",
       "description": "mean",
       "disabled": false,
       "layout": "IPY_MODEL_89a691a235a04535941b5db336859e43",
       "value": false
      }
     },
     "0d4e16d425fc48158091d3e2ec170425": {
      "model_module": "jupyter-js-widgets",
      "model_module_version": "~2.1.4",
      "model_name": "LayoutModel",
      "state": {
       "_model_module_version": "~2.1.4",
       "_view_module_version": "~2.1.4",
       "display": "",
       "min_width": "100px",
       "visibility": "visible"
      }
     },
     "0d9c8de8004047f6853b4125ede99273": {
      "model_module": "jupyter-js-widgets",
      "model_module_version": "~2.1.4",
      "model_name": "LayoutModel",
      "state": {
       "_model_module_version": "~2.1.4",
       "_view_module_version": "~2.1.4",
       "display": "",
       "max_width": "300px",
       "min_width": "100px",
       "visibility": "visible"
      }
     },
     "0daed0fd215d4a4589c756b5f3a5c864": {
      "model_module": "jupyter-js-widgets",
      "model_module_version": "~2.1.4",
      "model_name": "LayoutModel",
      "state": {
       "_model_module_version": "~2.1.4",
       "_view_module_version": "~2.1.4",
       "display": "",
       "min_width": "100px",
       "visibility": "visible"
      }
     },
     "0dd96782fb254d7eb749148af11b192a": {
      "model_module": "jupyter-js-widgets",
      "model_module_version": "~2.1.4",
      "model_name": "ToggleButtonModel",
      "state": {
       "_model_module_version": "~2.1.4",
       "_view_module_version": "~2.1.4",
       "layout": "IPY_MODEL_c56f52f99fae42f599861014060ac22d",
       "value": true
      }
     },
     "0df25405dbd74bb49810be41a069c09f": {
      "model_module": "jupyter-js-widgets",
      "model_module_version": "~2.1.4",
      "model_name": "LayoutModel",
      "state": {
       "_model_module_version": "~2.1.4",
       "_view_module_version": "~2.1.4",
       "display": "",
       "max_width": "300px",
       "min_width": "100px",
       "visibility": "visible"
      }
     },
     "0eb6294ac6e542b2a2b0102d2bd9f9b0": {
      "model_module": "jupyter-js-widgets",
      "model_module_version": "~2.1.4",
      "model_name": "HBoxModel",
      "state": {
       "_model_module_version": "~2.1.4",
       "_view_module_version": "~2.1.4",
       "children": [
        "IPY_MODEL_8b5d9a96b8ab440d8cd2794d86587fad"
       ],
       "layout": "IPY_MODEL_c25eb383ea934abf980a3851b5373b27"
      }
     },
     "0fb02b344cb44d868c55254df4e8f32a": {
      "model_module": "jupyter-js-widgets",
      "model_module_version": "~2.1.4",
      "model_name": "CheckboxModel",
      "state": {
       "_model_module_version": "~2.1.4",
       "_view_module_version": "~2.1.4",
       "description": "Save",
       "disabled": false,
       "layout": "IPY_MODEL_d544e874719f44309d5ed1018191e1c3",
       "value": false
      }
     },
     "0fd8ee10e2e34d8c87ba716fc78c2d2d": {
      "model_module": "jupyter-js-widgets",
      "model_module_version": "~2.1.4",
      "model_name": "LayoutModel",
      "state": {
       "_model_module_version": "~2.1.4",
       "_view_module_version": "~2.1.4",
       "display": "",
       "max_width": "300px",
       "min_width": "100px",
       "visibility": "visible"
      }
     },
     "10b4aca959384bdb9e60341e46d6c849": {
      "model_module": "jupyter-js-widgets",
      "model_module_version": "~2.1.4",
      "model_name": "LayoutModel",
      "state": {
       "_model_module_version": "~2.1.4",
       "_view_module_version": "~2.1.4",
       "display": "",
       "max_width": "300px",
       "min_width": "100px",
       "visibility": "visible"
      }
     },
     "116c37a6616046f4b9cf491931dc4eac": {
      "model_module": "jupyter-js-widgets",
      "model_module_version": "~2.1.4",
      "model_name": "LayoutModel",
      "state": {
       "_model_module_version": "~2.1.4",
       "_view_module_version": "~2.1.4",
       "display": "",
       "min_width": "100px",
       "visibility": "visible"
      }
     },
     "11f64330571b457990fab35059c8c98d": {
      "model_module": "jupyter-js-widgets",
      "model_module_version": "~2.1.4",
      "model_name": "DropdownModel",
      "state": {
       "_model_module_version": "~2.1.4",
       "_options_labels": [
        "ALL",
        "I",
        "II",
        "III",
        "IV"
       ],
       "_view_module_version": "~2.1.4",
       "layout": "IPY_MODEL_8623997fcd254e54b4b1b6722ea6ba86",
       "value": "ALL"
      }
     },
     "11fad1e8f5fe4c57bb7582401eef5a2f": {
      "model_module": "jupyter-js-widgets",
      "model_module_version": "~2.1.4",
      "model_name": "LayoutModel",
      "state": {
       "_model_module_version": "~2.1.4",
       "_view_module_version": "~2.1.4",
       "display": "",
       "max_width": "300px",
       "min_width": "100px",
       "visibility": "visible"
      }
     },
     "12818f8d548c41c7b088e88a0d375015": {
      "model_module": "jupyter-js-widgets",
      "model_module_version": "~2.1.4",
      "model_name": "LayoutModel",
      "state": {
       "_model_module_version": "~2.1.4",
       "_view_module_version": "~2.1.4",
       "display": "",
       "max_width": "300px",
       "min_width": "100px",
       "visibility": "visible"
      }
     },
     "12da6048bdc64838bd94c5a97edcc9d6": {
      "model_module": "jupyter-js-widgets",
      "model_module_version": "~2.1.4",
      "model_name": "AccordionModel",
      "state": {
       "_model_module_version": "~2.1.4",
       "_titles": {
        "0": "General",
        "1": "Histogram",
        "2": "Scatter",
        "3": "KDE",
        "4": "Regression"
       },
       "_view_module_version": "~2.1.4",
       "children": [
        "IPY_MODEL_be22312d77fa42a1b07e2850750c0f0a",
        "IPY_MODEL_5ba3317ddb934c94841ec563a54a949d",
        "IPY_MODEL_835e7ac7bdb54323b9c67045d077fe33",
        "IPY_MODEL_d7bf298b45b0421db1afce9bb4dc13ee",
        "IPY_MODEL_ecfd8d19e3ea4aa5bc0199aefb9dd5d7"
       ],
       "layout": "IPY_MODEL_b36c5035021348a5959bcdf746006bf9"
      }
     },
     "132c90f4dca749fc926b35f0d98cbc6b": {
      "model_module": "jupyter-js-widgets",
      "model_module_version": "~2.1.4",
      "model_name": "IntSliderModel",
      "state": {
       "_model_module_version": "~2.1.4",
       "_view_module_version": "~2.1.4",
       "description": "Bins",
       "layout": "IPY_MODEL_cc9cfd3f64c14dc683f94628aac29cc0",
       "max": 107,
       "min": -93,
       "style": "IPY_MODEL_8aae69e446f14d89873d54e0ec12cf10",
       "value": 9
      }
     },
     "14931f51953c415b864ed876b6473212": {
      "model_module": "jupyter-js-widgets",
      "model_module_version": "~2.1.4",
      "model_name": "VBoxModel",
      "state": {
       "_model_module_version": "~2.1.4",
       "_view_module_version": "~2.1.4",
       "children": [
        "IPY_MODEL_afd57e7e37e14eb2bef2e0ff8aa2b3f6",
        "IPY_MODEL_8aa8fbf400394e6e995705dab4158543",
        "IPY_MODEL_4f3a4bda32ea48f996cbae4b1757be6b"
       ],
       "layout": "IPY_MODEL_a591c58baee449f3b25c40e36ec02f08"
      }
     },
     "1501801944ff4570b6fd0c719722d667": {
      "model_module": "jupyter-js-widgets",
      "model_module_version": "~2.1.4",
      "model_name": "LayoutModel",
      "state": {
       "_model_module_version": "~2.1.4",
       "_view_module_version": "~2.1.4",
       "display": "",
       "min_width": "100px",
       "visibility": "visible"
      }
     },
     "15405350481540ed9da3c420c886e6cb": {
      "model_module": "jupyter-js-widgets",
      "model_module_version": "~2.1.4",
      "model_name": "LayoutModel",
      "state": {
       "_model_module_version": "~2.1.4",
       "_view_module_version": "~2.1.4",
       "display": "",
       "max_width": "300px",
       "min_width": "100px",
       "visibility": "visible"
      }
     },
     "1595e4f570874491985d0c2ddc31b115": {
      "model_module": "jupyter-js-widgets",
      "model_module_version": "~2.1.4",
      "model_name": "HBoxModel",
      "state": {
       "_model_module_version": "~2.1.4",
       "_view_module_version": "~2.1.4",
       "children": [
        "IPY_MODEL_396324aede79449d9ee631f980c10c86",
        "IPY_MODEL_4fb41d59737042fcb10dcb4beea511f7"
       ],
       "layout": "IPY_MODEL_116c37a6616046f4b9cf491931dc4eac"
      }
     },
     "161168edff4c4ade9837bdba57b357a4": {
      "model_module": "jupyter-js-widgets",
      "model_module_version": "~2.1.4",
      "model_name": "HBoxModel",
      "state": {
       "_model_module_version": "~2.1.4",
       "_view_module_version": "~2.1.4",
       "children": [
        "IPY_MODEL_6d0267bbdd934c479fdc4069d087c539"
       ],
       "layout": "IPY_MODEL_0b2502c20e144e1db7d8f965bc8d6cc3"
      }
     },
     "161b17d0e9544ec8a625cc70b159db32": {
      "model_module": "jupyter-js-widgets",
      "model_module_version": "~2.1.4",
      "model_name": "TextModel",
      "state": {
       "_model_module_version": "~2.1.4",
       "_view_module_version": "~2.1.4",
       "description": "Distribution",
       "layout": "IPY_MODEL_5176aae9f60849c2adb3a1713b42f465",
       "value": "normal"
      }
     },
     "170ed85f830d421990c182b999a03f24": {
      "model_module": "jupyter-js-widgets",
      "model_module_version": "~2.1.4",
      "model_name": "CheckboxModel",
      "state": {
       "_model_module_version": "~2.1.4",
       "_view_module_version": "~2.1.4",
       "description": "Mean",
       "disabled": false,
       "layout": "IPY_MODEL_54c9ca811cf04709b43357a2a1f72cf0",
       "value": false
      }
     },
     "178b70c3944c4978aabcd0278d96a7a3": {
      "model_module": "jupyter-js-widgets",
      "model_module_version": "~2.1.4",
      "model_name": "LayoutModel",
      "state": {
       "_model_module_version": "~2.1.4",
       "_view_module_version": "~2.1.4",
       "display": "",
       "max_width": "300px",
       "min_width": "100px",
       "visibility": "visible"
      }
     },
     "1800bfe81fcc469dad3596efd2674fc2": {
      "model_module": "jupyter-js-widgets",
      "model_module_version": "~2.1.4",
      "model_name": "FloatSliderModel",
      "state": {
       "_model_module_version": "~2.1.4",
       "_view_module_version": "~2.1.4",
       "description": "Bandwidth",
       "layout": "IPY_MODEL_f9e2d2ad3c344826ab4d19036de47798",
       "max": 10,
       "min": 0.001,
       "step": 0.05,
       "value": 0.5
      }
     },
     "1aaa1b0c8a7a4a2a8dc0f82e102c47fd": {
      "model_module": "jupyter-js-widgets",
      "model_module_version": "~2.1.4",
      "model_name": "SliderStyleModel",
      "state": {
       "_model_module_version": "~2.1.4",
       "_view_module_version": "~2.1.4"
      }
     },
     "1b76daa3fa6d443686a1c3b7e466414a": {
      "model_module": "jupyter-js-widgets",
      "model_module_version": "~2.1.4",
      "model_name": "ToggleButtonModel",
      "state": {
       "_model_module_version": "~2.1.4",
       "_view_module_version": "~2.1.4",
       "layout": "IPY_MODEL_6d97f24e4b564754b1a7bc2170d29aa0"
      }
     },
     "1c0e21e8bf1f4ed09b2f6bd621174545": {
      "model_module": "jupyter-js-widgets",
      "model_module_version": "~2.1.4",
      "model_name": "LayoutModel",
      "state": {
       "_model_module_version": "~2.1.4",
       "_view_module_version": "~2.1.4",
       "display": "",
       "max_width": "300px",
       "min_width": "100px",
       "visibility": "visible"
      }
     },
     "1c189e13f0c547b19998f0b07f42f839": {
      "model_module": "jupyter-js-widgets",
      "model_module_version": "~2.1.4",
      "model_name": "LayoutModel",
      "state": {
       "_model_module_version": "~2.1.4",
       "_view_module_version": "~2.1.4",
       "display": "",
       "min_width": "100px",
       "visibility": "visible"
      }
     },
     "1da13993e93a484781d4f63e407febab": {
      "model_module": "jupyter-js-widgets",
      "model_module_version": "~2.1.4",
      "model_name": "LayoutModel",
      "state": {
       "_model_module_version": "~2.1.4",
       "_view_module_version": "~2.1.4",
       "display": "",
       "min_width": "100px",
       "visibility": "visible"
      }
     },
     "1da2be31981449bb954c3a6212a3ec42": {
      "model_module": "jupyter-js-widgets",
      "model_module_version": "~2.1.4",
      "model_name": "IntSliderModel",
      "state": {
       "_model_module_version": "~2.1.4",
       "_view_module_version": "~2.1.4",
       "description": "Confidence intervals",
       "layout": "IPY_MODEL_79b634c640b74a22811244efc6acb21a",
       "min": 1,
       "style": "IPY_MODEL_8c9eeda9f3cf471dba95406c2199e31c",
       "value": 95
      }
     },
     "1df7664eee9a4b7ea9cd36dd54ffa5d6": {
      "model_module": "jupyter-js-widgets",
      "model_module_version": "~2.1.4",
      "model_name": "ToggleButtonModel",
      "state": {
       "_model_module_version": "~2.1.4",
       "_view_module_version": "~2.1.4",
       "layout": "IPY_MODEL_3bdcef1442bf4e0daf3c6ceb38eb42aa",
       "value": true
      }
     },
     "1e262fc0951045afa41a547dd5a7d438": {
      "model_module": "jupyter-js-widgets",
      "model_module_version": "~2.1.4",
      "model_name": "IntSliderModel",
      "state": {
       "_model_module_version": "~2.1.4",
       "_view_module_version": "~2.1.4",
       "description": "Confidence intervals",
       "layout": "IPY_MODEL_c08e994f7f4b4fb18c5943aad9689527",
       "min": 1,
       "style": "IPY_MODEL_cd9b686cc45b4e01835fc54f4eda38ef",
       "value": 95
      }
     },
     "201cd0f605f346cdb4a40a5057ec6b22": {
      "model_module": "jupyter-js-widgets",
      "model_module_version": "~2.1.4",
      "model_name": "CheckboxModel",
      "state": {
       "_model_module_version": "~2.1.4",
       "_view_module_version": "~2.1.4",
       "disabled": false,
       "layout": "IPY_MODEL_fd31ccfab3d6465a80d1ee06d5030013",
       "value": false
      }
     },
     "202470cfbcd148fb824ed4d4f4251426": {
      "model_module": "jupyter-js-widgets",
      "model_module_version": "~2.1.4",
      "model_name": "LayoutModel",
      "state": {
       "_model_module_version": "~2.1.4",
       "_view_module_version": "~2.1.4",
       "display": "",
       "min_width": "100px",
       "visibility": "visible"
      }
     },
     "20248970eccf48e3bc931cbefef12555": {
      "model_module": "jupyter-js-widgets",
      "model_module_version": "~2.1.4",
      "model_name": "HBoxModel",
      "state": {
       "_model_module_version": "~2.1.4",
       "_view_module_version": "~2.1.4",
       "children": [
        "IPY_MODEL_b88db0b82dca4b29bdea1c3f7344301d",
        "IPY_MODEL_578b1ef5767d441c85ed473a8fbf4422"
       ],
       "layout": "IPY_MODEL_616d2bc3b19b4e0f8f67ae503e05d746"
      }
     },
     "205a0693798b4c89bf92978e9c2e3ba5": {
      "model_module": "jupyter-js-widgets",
      "model_module_version": "~2.1.4",
      "model_name": "LayoutModel",
      "state": {
       "_model_module_version": "~2.1.4",
       "_view_module_version": "~2.1.4",
       "display": "",
       "max_width": "300px",
       "min_width": "100px",
       "visibility": "visible"
      }
     },
     "20839fb62bd2480baac9c793b9526207": {
      "model_module": "jupyter-js-widgets",
      "model_module_version": "~2.1.4",
      "model_name": "LayoutModel",
      "state": {
       "_model_module_version": "~2.1.4",
       "_view_module_version": "~2.1.4",
       "display": "",
       "min_width": "100px",
       "visibility": "visible"
      }
     },
     "21fa9d1cba2840f4bcd8c1073efb6500": {
      "model_module": "jupyter-js-widgets",
      "model_module_version": "~2.1.4",
      "model_name": "FloatSliderModel",
      "state": {
       "_model_module_version": "~2.1.4",
       "_view_module_version": "~2.1.4",
       "layout": "IPY_MODEL_aaf8c5ac67654432b206b8529945fbaf",
       "max": 10,
       "min": 0.001,
       "step": 0.05,
       "value": 0.5
      }
     },
     "225f91a620e6492598625df3c544e6c2": {
      "model_module": "jupyter-js-widgets",
      "model_module_version": "~2.1.4",
      "model_name": "LayoutModel",
      "state": {
       "_model_module_version": "~2.1.4",
       "_view_module_version": "~2.1.4",
       "display": "",
       "min_width": "100px",
       "visibility": "visible"
      }
     },
     "2384e3eb4e59494abcdec7ee62038a74": {
      "model_module": "jupyter-js-widgets",
      "model_module_version": "~2.1.4",
      "model_name": "LayoutModel",
      "state": {
       "_model_module_version": "~2.1.4",
       "_view_module_version": "~2.1.4",
       "display": "",
       "max_width": "300px",
       "min_width": "100px",
       "visibility": "visible"
      }
     },
     "24378ada071b4096af92521e0a683e17": {
      "model_module": "jupyter-js-widgets",
      "model_module_version": "~2.1.4",
      "model_name": "SliderStyleModel",
      "state": {
       "_model_module_version": "~2.1.4",
       "_view_module_version": "~2.1.4"
      }
     },
     "2497d39732334db5ad56718645fcfa68": {
      "model_module": "jupyter-js-widgets",
      "model_module_version": "~2.1.4",
      "model_name": "LayoutModel",
      "state": {
       "_model_module_version": "~2.1.4",
       "_view_module_version": "~2.1.4",
       "display": "",
       "min_width": "100px",
       "visibility": "visible"
      }
     },
     "255f888cb3a846689b464be50ec25a4a": {
      "model_module": "jupyter-js-widgets",
      "model_module_version": "~2.1.4",
      "model_name": "CheckboxModel",
      "state": {
       "_model_module_version": "~2.1.4",
       "_view_module_version": "~2.1.4",
       "description": "hist",
       "disabled": false,
       "layout": "IPY_MODEL_f709e0bdd4d64e72ab7fea94742d0ec3",
       "value": true
      }
     },
     "2562203e791449c8a7527d49b59ccfbe": {
      "model_module": "jupyter-js-widgets",
      "model_module_version": "~2.1.4",
      "model_name": "HBoxModel",
      "state": {
       "_model_module_version": "~2.1.4",
       "_view_module_version": "~2.1.4",
       "children": [
        "IPY_MODEL_ced5b655c8244af98a4c3e5b1aece4aa",
        "IPY_MODEL_b5c92697094749a9a98ce2b129d05581"
       ],
       "layout": "IPY_MODEL_ecde44064f534c9b8dd672fe67581985"
      }
     },
     "257278d0a08543b6954789de2ed0ca31": {
      "model_module": "jupyter-js-widgets",
      "model_module_version": "~2.1.4",
      "model_name": "IntSliderModel",
      "state": {
       "_model_module_version": "~2.1.4",
       "_view_module_version": "~2.1.4",
       "description": "Num xbins",
       "layout": "IPY_MODEL_b8d59f6d25104e0caeadcf72fa5d2054",
       "max": 40,
       "min": 1,
       "step": 2,
       "style": "IPY_MODEL_d93c1f2be14949efac87cdae15a676cd",
       "value": 10
      }
     },
     "25e022875c0240ae80e034907b135a0d": {
      "model_module": "jupyter-js-widgets",
      "model_module_version": "~2.1.4",
      "model_name": "LayoutModel",
      "state": {
       "_model_module_version": "~2.1.4",
       "_view_module_version": "~2.1.4",
       "display": "",
       "max_width": "300px",
       "min_width": "100px",
       "visibility": "visible"
      }
     },
     "2612daa8677e4cdca20a5c63237c8eba": {
      "model_module": "jupyter-js-widgets",
      "model_module_version": "~2.1.4",
      "model_name": "LayoutModel",
      "state": {
       "_model_module_version": "~2.1.4",
       "_view_module_version": "~2.1.4",
       "display": "",
       "max_width": "300px",
       "min_width": "100px",
       "visibility": "visible"
      }
     },
     "2679af95ec324cf1a68c43e9dbcef729": {
      "model_module": "jupyter-js-widgets",
      "model_module_version": "~2.1.4",
      "model_name": "CheckboxModel",
      "state": {
       "_model_module_version": "~2.1.4",
       "_view_module_version": "~2.1.4",
       "description": "normed",
       "disabled": false,
       "layout": "IPY_MODEL_b4e5034b9e724766a5d298438b114ec9",
       "value": false
      }
     },
     "2763f8b4a4964d66890b141efad76aa7": {
      "model_module": "jupyter-js-widgets",
      "model_module_version": "~2.1.4",
      "model_name": "LayoutModel",
      "state": {
       "_model_module_version": "~2.1.4",
       "_view_module_version": "~2.1.4",
       "display": "",
       "min_width": "100px",
       "visibility": "visible"
      }
     },
     "29423c25824a49b78151f0862229f1c7": {
      "model_module": "jupyter-js-widgets",
      "model_module_version": "~2.1.4",
      "model_name": "HBoxModel",
      "state": {
       "_model_module_version": "~2.1.4",
       "_view_module_version": "~2.1.4",
       "children": [
        "IPY_MODEL_aadc16a54c0241f7b67a51b519a69792",
        "IPY_MODEL_482263e8047445bda769d7a95c408c5d"
       ],
       "layout": "IPY_MODEL_0daed0fd215d4a4589c756b5f3a5c864"
      }
     },
     "2aaa3ccc886d494c9c107daa9b22f4f0": {
      "model_module": "jupyter-js-widgets",
      "model_module_version": "~2.1.4",
      "model_name": "HBoxModel",
      "state": {
       "_model_module_version": "~2.1.4",
       "_view_module_version": "~2.1.4",
       "layout": "IPY_MODEL_2aef41e6d8b446b39d87e7380c74295d"
      }
     },
     "2ab88e4f5d6d45db9c905c05ee0961fc": {
      "model_module": "jupyter-js-widgets",
      "model_module_version": "~2.1.4",
      "model_name": "HTMLModel",
      "state": {
       "_model_module_version": "~2.1.4",
       "_view_module_version": "~2.1.4",
       "layout": "IPY_MODEL_b08a838161f3492599e0e1b0cec8031c",
       "value": "<h1>kde plot options</h1>"
      }
     },
     "2aef41e6d8b446b39d87e7380c74295d": {
      "model_module": "jupyter-js-widgets",
      "model_module_version": "~2.1.4",
      "model_name": "LayoutModel",
      "state": {
       "_model_module_version": "~2.1.4",
       "_view_module_version": "~2.1.4",
       "display": "",
       "min_width": "100px",
       "visibility": "visible"
      }
     },
     "2b0039c47c6d43fcaa7f67afc945b545": {
      "model_module": "jupyter-js-widgets",
      "model_module_version": "~2.1.4",
      "model_name": "LayoutModel",
      "state": {
       "_model_module_version": "~2.1.4",
       "_view_module_version": "~2.1.4",
       "display": "",
       "max_width": "300px",
       "min_width": "100px",
       "visibility": "visible"
      }
     },
     "2b5c38bbc0754aa1b9466a32b1bdfc53": {
      "model_module": "jupyter-js-widgets",
      "model_module_version": "~2.1.4",
      "model_name": "LayoutModel",
      "state": {
       "_model_module_version": "~2.1.4",
       "_view_module_version": "~2.1.4",
       "display": "",
       "max_width": "300px",
       "min_width": "100px",
       "visibility": "visible"
      }
     },
     "2d2c51fd570b4cc69aef1b777b9ecb48": {
      "model_module": "jupyter-js-widgets",
      "model_module_version": "~2.1.4",
      "model_name": "FloatSliderModel",
      "state": {
       "_model_module_version": "~2.1.4",
       "_view_module_version": "~2.1.4",
       "description": "Bw",
       "layout": "IPY_MODEL_fe7f3baf57a149dfbe46219e0bd64921",
       "max": 10,
       "min": 0.01,
       "step": 0.025,
       "value": 0.18
      }
     },
     "2df3adb8c3a141b981b0c117c49ffc19": {
      "model_module": "jupyter-js-widgets",
      "model_module_version": "~2.1.4",
      "model_name": "DropdownModel",
      "state": {
       "_model_module_version": "~2.1.4",
       "_options_labels": [
        "Hello",
        "World"
       ],
       "_view_module_version": "~2.1.4",
       "description": "Dropdown",
       "layout": "IPY_MODEL_738d1787137545d0905d0073f9b99fb0",
       "value": "Hello"
      }
     },
     "2e97f893187948c3a64b76ebe278f777": {
      "model_module": "jupyter-js-widgets",
      "model_module_version": "~2.1.4",
      "model_name": "VBoxModel",
      "state": {
       "_model_module_version": "~2.1.4",
       "_view_module_version": "~2.1.4",
       "children": [
        "IPY_MODEL_8c4cb38e710a45feb8a8c59a3d71739a"
       ],
       "layout": "IPY_MODEL_66a885cf85964d0f9435b26fc2421013"
      }
     },
     "2ed646f760fa43419c0da223661a2f82": {
      "model_module": "jupyter-js-widgets",
      "model_module_version": "~2.1.4",
      "model_name": "SliderStyleModel",
      "state": {
       "_model_module_version": "~2.1.4",
       "_view_module_version": "~2.1.4"
      }
     },
     "2fd4b2dafb4d4b48b47a86556f5ae115": {
      "model_module": "jupyter-js-widgets",
      "model_module_version": "~2.1.4",
      "model_name": "LayoutModel",
      "state": {
       "_model_module_version": "~2.1.4",
       "_view_module_version": "~2.1.4",
       "display": "",
       "max_width": "300px",
       "min_width": "100px",
       "visibility": "visible"
      }
     },
     "30a354b72025480f9212ec7a1d22326b": {
      "model_module": "jupyter-js-widgets",
      "model_module_version": "~2.1.4",
      "model_name": "LayoutModel",
      "state": {
       "_model_module_version": "~2.1.4",
       "_view_module_version": "~2.1.4",
       "display": "",
       "max_width": "300px",
       "min_width": "100px",
       "visibility": "visible"
      }
     },
     "30a481270c6642dea4170525f4f50f78": {
      "model_module": "jupyter-js-widgets",
      "model_module_version": "~2.1.4",
      "model_name": "VBoxModel",
      "state": {
       "_model_module_version": "~2.1.4",
       "_view_module_version": "~2.1.4",
       "children": [
        "IPY_MODEL_78cef37cfb3e467bb662c92798e47e08",
        "IPY_MODEL_2df3adb8c3a141b981b0c117c49ffc19"
       ],
       "layout": "IPY_MODEL_a447f14023fb470b807870802e79eff9"
      }
     },
     "30afaae59ca8444595a149d92a57ee4b": {
      "model_module": "jupyter-js-widgets",
      "model_module_version": "~2.1.4",
      "model_name": "CheckboxModel",
      "state": {
       "_model_module_version": "~2.1.4",
       "_view_module_version": "~2.1.4",
       "description": "Grid",
       "disabled": false,
       "layout": "IPY_MODEL_d412ee4356b14ae897f36ece046327b1",
       "value": true
      }
     },
     "30bcc2587c2d4a839450eabf8c613a16": {
      "model_module": "jupyter-js-widgets",
      "model_module_version": "~2.1.4",
      "model_name": "CheckboxModel",
      "state": {
       "_model_module_version": "~2.1.4",
       "_view_module_version": "~2.1.4",
       "description": "Normed",
       "disabled": false,
       "layout": "IPY_MODEL_b964f465109349f7a9f624ca632379e8",
       "value": false
      }
     },
     "32cf73c2de8c4ece8c60fb427d61c696": {
      "model_module": "jupyter-js-widgets",
      "model_module_version": "~2.1.4",
      "model_name": "LayoutModel",
      "state": {
       "_model_module_version": "~2.1.4",
       "_view_module_version": "~2.1.4",
       "display": "",
       "max_width": "300px",
       "min_width": "100px",
       "visibility": "visible"
      }
     },
     "32eb96b1cee94f2ab2c1982f05f95e31": {
      "model_module": "jupyter-js-widgets",
      "model_module_version": "~2.1.4",
      "model_name": "VBoxModel",
      "state": {
       "_model_module_version": "~2.1.4",
       "_view_module_version": "~2.1.4",
       "children": [
        "IPY_MODEL_c91a3af21f2e4180b1afe61f5de13b75",
        "IPY_MODEL_2562203e791449c8a7527d49b59ccfbe",
        "IPY_MODEL_ca068304cc8643cea08907b28e8facc2",
        "IPY_MODEL_1595e4f570874491985d0c2ddc31b115",
        "IPY_MODEL_2aaa3ccc886d494c9c107daa9b22f4f0"
       ],
       "layout": "IPY_MODEL_8a05cb55f1f94f7cb95d211a041f071b"
      }
     },
     "34ff8e1c67584e3b8199108f0298801b": {
      "model_module": "jupyter-js-widgets",
      "model_module_version": "~2.1.4",
      "model_name": "LayoutModel",
      "state": {
       "_model_module_version": "~2.1.4",
       "_view_module_version": "~2.1.4",
       "display": "",
       "max_width": "300px",
       "min_width": "100px",
       "visibility": "visible"
      }
     },
     "351fa6618dd14ef88fa0176f5d0690ee": {
      "model_module": "jupyter-js-widgets",
      "model_module_version": "~2.1.4",
      "model_name": "VBoxModel",
      "state": {
       "_model_module_version": "~2.1.4",
       "_view_module_version": "~2.1.4",
       "children": [
        "IPY_MODEL_bf2b3fd69ced44cba70b9c6db206ff94",
        "IPY_MODEL_61906ec33156479bab80d23a276f4881",
        "IPY_MODEL_161168edff4c4ade9837bdba57b357a4",
        "IPY_MODEL_0eb6294ac6e542b2a2b0102d2bd9f9b0",
        "IPY_MODEL_f1295bd3cbdf413d8162c1bae77d1d62"
       ],
       "layout": "IPY_MODEL_5c5cb416c27e4ae5a5a3c074afafb7a4"
      }
     },
     "352d439e4c7940bfb807ea0f365cc4c6": {
      "model_module": "jupyter-js-widgets",
      "model_module_version": "~2.1.4",
      "model_name": "HTMLModel",
      "state": {
       "_model_module_version": "~2.1.4",
       "_view_module_version": "~2.1.4",
       "layout": "IPY_MODEL_b15051d24b4247e48abd3efe3ad20225",
       "value": "<h1>scatterplot options</h1>"
      }
     },
     "353981a50d634c6fbef659fcbee37d42": {
      "model_module": "jupyter-js-widgets",
      "model_module_version": "~2.1.4",
      "model_name": "VBoxModel",
      "state": {
       "_model_module_version": "~2.1.4",
       "_view_module_version": "~2.1.4",
       "children": [
        "IPY_MODEL_f7efc3c1e9b64a349f45642b933728cf",
        "IPY_MODEL_9a65f01de612453a8c2e43c60e0223ac",
        "IPY_MODEL_20248970eccf48e3bc931cbefef12555",
        "IPY_MODEL_88ca3853541c4bd49cfd6025dbefede1",
        "IPY_MODEL_e5d5f5bd8d5a4a7cbca109d3fd715a71"
       ],
       "layout": "IPY_MODEL_1501801944ff4570b6fd0c719722d667"
      }
     },
     "35aa3543541a44d09f35f32daab538f5": {
      "model_module": "jupyter-js-widgets",
      "model_module_version": "~2.1.4",
      "model_name": "LayoutModel",
      "state": {
       "_model_module_version": "~2.1.4",
       "_view_module_version": "~2.1.4",
       "display": "",
       "min_width": "100px",
       "visibility": "visible"
      }
     },
     "369af33315cd4d60a25bc27ae1f8d902": {
      "model_module": "jupyter-js-widgets",
      "model_module_version": "~2.1.4",
      "model_name": "LayoutModel",
      "state": {
       "_model_module_version": "~2.1.4",
       "_view_module_version": "~2.1.4",
       "display": "",
       "min_width": "100px",
       "visibility": "visible"
      }
     },
     "369d7f72dec74ccc9deb330a9f4c2313": {
      "model_module": "jupyter-js-widgets",
      "model_module_version": "~2.1.4",
      "model_name": "LayoutModel",
      "state": {
       "_model_module_version": "~2.1.4",
       "_view_module_version": "~2.1.4",
       "display": "",
       "max_width": "300px",
       "min_width": "100px",
       "visibility": "visible"
      }
     },
     "36c40a0fed304128a2df920206f9607e": {
      "model_module": "jupyter-js-widgets",
      "model_module_version": "~2.1.4",
      "model_name": "LayoutModel",
      "state": {
       "_model_module_version": "~2.1.4",
       "_view_module_version": "~2.1.4",
       "display": "",
       "max_width": "300px",
       "min_width": "100px",
       "visibility": "visible"
      }
     },
     "3858a160d401456e9fe35ce081eb924a": {
      "model_module": "jupyter-js-widgets",
      "model_module_version": "~2.1.4",
      "model_name": "CheckboxModel",
      "state": {
       "_model_module_version": "~2.1.4",
       "_view_module_version": "~2.1.4",
       "disabled": false,
       "layout": "IPY_MODEL_0df25405dbd74bb49810be41a069c09f",
       "value": true
      }
     },
     "3873a0efa25348d8b4e33e0237862bb4": {
      "model_module": "jupyter-js-widgets",
      "model_module_version": "~2.1.4",
      "model_name": "HTMLModel",
      "state": {
       "_model_module_version": "~2.1.4",
       "_view_module_version": "~2.1.4",
       "layout": "IPY_MODEL_7460982dca9c460985e2d0b5c4ce7a59",
       "value": "<h1>regression options</h1>"
      }
     },
     "38fa209f8b064c6e8dfd8b3b2814e708": {
      "model_module": "jupyter-js-widgets",
      "model_module_version": "~2.1.4",
      "model_name": "LayoutModel",
      "state": {
       "_model_module_version": "~2.1.4",
       "_view_module_version": "~2.1.4",
       "display": "",
       "min_width": "100px",
       "visibility": "visible"
      }
     },
     "396324aede79449d9ee631f980c10c86": {
      "model_module": "jupyter-js-widgets",
      "model_module_version": "~2.1.4",
      "model_name": "DropdownModel",
      "state": {
       "_model_module_version": "~2.1.4",
       "_options_labels": [
        "Normal",
        "example_2"
       ],
       "_view_module_version": "~2.1.4",
       "description": "Distribution",
       "layout": "IPY_MODEL_42308605cf3b4c0c8628f9c645cd7cf5",
       "value": "Normal"
      }
     },
     "3982e8d338e047c2a54ddaad51efe232": {
      "model_module": "jupyter-js-widgets",
      "model_module_version": "~2.1.4",
      "model_name": "HTMLModel",
      "state": {
       "_model_module_version": "~2.1.4",
       "_view_module_version": "~2.1.4",
       "layout": "IPY_MODEL_469dc0e3885043ad98da044149ab5773",
       "value": "<h1>historam options</h1>"
      }
     },
     "3aa78145c59e4396846117d92182b107": {
      "model_module": "jupyter-js-widgets",
      "model_module_version": "~2.1.4",
      "model_name": "LayoutModel",
      "state": {
       "_model_module_version": "~2.1.4",
       "_view_module_version": "~2.1.4",
       "display": "",
       "max_width": "300px",
       "min_width": "100px",
       "visibility": "visible"
      }
     },
     "3bc588e32aa74c66afc97c4f43973d1a": {
      "model_module": "jupyter-js-widgets",
      "model_module_version": "~2.1.4",
      "model_name": "LayoutModel",
      "state": {
       "_model_module_version": "~2.1.4",
       "_view_module_version": "~2.1.4",
       "display": "",
       "max_width": "300px",
       "min_width": "100px",
       "visibility": "visible"
      }
     },
     "3bdcef1442bf4e0daf3c6ceb38eb42aa": {
      "model_module": "jupyter-js-widgets",
      "model_module_version": "~2.1.4",
      "model_name": "LayoutModel",
      "state": {
       "_model_module_version": "~2.1.4",
       "_view_module_version": "~2.1.4",
       "display": "",
       "max_width": "300px",
       "min_width": "100px",
       "visibility": "visible"
      }
     },
     "3f26374c6d6448aea07848a541b73822": {
      "model_module": "jupyter-js-widgets",
      "model_module_version": "~2.1.4",
      "model_name": "CheckboxModel",
      "state": {
       "_model_module_version": "~2.1.4",
       "_view_module_version": "~2.1.4",
       "disabled": false,
       "layout": "IPY_MODEL_87fca92faa314ff6a79413cc31decb74",
       "value": false
      }
     },
     "403324cedc524d7eb47af5316b22f558": {
      "model_module": "jupyter-js-widgets",
      "model_module_version": "~2.1.4",
      "model_name": "LayoutModel",
      "state": {
       "_model_module_version": "~2.1.4",
       "_view_module_version": "~2.1.4",
       "display": "",
       "min_width": "100px",
       "visibility": "visible"
      }
     },
     "41479889e97248b08f2b8ccdccc9deb7": {
      "model_module": "jupyter-js-widgets",
      "model_module_version": "~2.1.4",
      "model_name": "LayoutModel",
      "state": {
       "_model_module_version": "~2.1.4",
       "_view_module_version": "~2.1.4",
       "display": "",
       "min_width": "100px",
       "visibility": "visible"
      }
     },
     "42308605cf3b4c0c8628f9c645cd7cf5": {
      "model_module": "jupyter-js-widgets",
      "model_module_version": "~2.1.4",
      "model_name": "LayoutModel",
      "state": {
       "_model_module_version": "~2.1.4",
       "_view_module_version": "~2.1.4",
       "display": "",
       "max_width": "300px",
       "min_width": "100px",
       "visibility": "visible"
      }
     },
     "43dafdd4177941e893b7150f7a863f58": {
      "model_module": "jupyter-js-widgets",
      "model_module_version": "~2.1.4",
      "model_name": "DropdownModel",
      "state": {
       "_model_module_version": "~2.1.4",
       "_options_labels": [
        "ALL",
        "I",
        "II",
        "III",
        "IV"
       ],
       "_view_module_version": "~2.1.4",
       "description": "Dataset",
       "layout": "IPY_MODEL_d3e1a5c6e1924ab390b8fc1b5e546130",
       "value": "ALL"
      }
     },
     "44952254cdd140d888718bc6f3e11202": {
      "model_module": "jupyter-js-widgets",
      "model_module_version": "~2.1.4",
      "model_name": "LayoutModel",
      "state": {
       "_model_module_version": "~2.1.4",
       "_view_module_version": "~2.1.4",
       "display": "",
       "min_width": "100px",
       "visibility": "visible"
      }
     },
     "44e274ffb7984c858a80de93da7814a0": {
      "model_module": "jupyter-js-widgets",
      "model_module_version": "~2.1.4",
      "model_name": "VBoxModel",
      "state": {
       "_model_module_version": "~2.1.4",
       "_view_module_version": "~2.1.4",
       "children": [
        "IPY_MODEL_7e9edbf57d304520b2cc9879885aac8b",
        "IPY_MODEL_5d7484bdbb3c4717836fffb63785d399"
       ],
       "layout": "IPY_MODEL_403324cedc524d7eb47af5316b22f558"
      }
     },
     "45757c36708342a2aca9f227250fd1a9": {
      "model_module": "jupyter-js-widgets",
      "model_module_version": "~2.1.4",
      "model_name": "CheckboxModel",
      "state": {
       "_model_module_version": "~2.1.4",
       "_view_module_version": "~2.1.4",
       "description": "Percents",
       "disabled": false,
       "layout": "IPY_MODEL_2b5c38bbc0754aa1b9466a32b1bdfc53",
       "value": false
      }
     },
     "45872b01882b4158b1bfde93468e73c5": {
      "model_module": "jupyter-js-widgets",
      "model_module_version": "~2.1.4",
      "model_name": "SliderStyleModel",
      "state": {
       "_model_module_version": "~2.1.4",
       "_view_module_version": "~2.1.4"
      }
     },
     "458931f384494931acb88f573f014383": {
      "model_module": "jupyter-js-widgets",
      "model_module_version": "~2.1.4",
      "model_name": "FloatSliderModel",
      "state": {
       "_model_module_version": "~2.1.4",
       "_view_module_version": "~2.1.4",
       "description": "Bandwidth",
       "layout": "IPY_MODEL_fe0cba8ebc9a4030895f39d807c9976a",
       "max": 10,
       "min": 0.001,
       "step": 0.05,
       "value": 0.5
      }
     },
     "45d731b30a3248e4a1909f7a8f175de3": {
      "model_module": "jupyter-js-widgets",
      "model_module_version": "~2.1.4",
      "model_name": "SliderStyleModel",
      "state": {
       "_model_module_version": "~2.1.4",
       "_view_module_version": "~2.1.4"
      }
     },
     "46086ec814554c90a9eaa0f847463f3f": {
      "model_module": "jupyter-js-widgets",
      "model_module_version": "~2.1.4",
      "model_name": "SliderStyleModel",
      "state": {
       "_model_module_version": "~2.1.4",
       "_view_module_version": "~2.1.4"
      }
     },
     "469dc0e3885043ad98da044149ab5773": {
      "model_module": "jupyter-js-widgets",
      "model_module_version": "~2.1.4",
      "model_name": "LayoutModel",
      "state": {
       "_model_module_version": "~2.1.4",
       "_view_module_version": "~2.1.4",
       "display": "",
       "min_width": "100px",
       "visibility": "visible"
      }
     },
     "478d1ba7098e4e478160724ea612eb24": {
      "model_module": "jupyter-js-widgets",
      "model_module_version": "~2.1.4",
      "model_name": "LayoutModel",
      "state": {
       "_model_module_version": "~2.1.4",
       "_view_module_version": "~2.1.4",
       "display": "",
       "max_width": "300px",
       "min_width": "100px",
       "visibility": "visible"
      }
     },
     "482263e8047445bda769d7a95c408c5d": {
      "model_module": "jupyter-js-widgets",
      "model_module_version": "~2.1.4",
      "model_name": "VBoxModel",
      "state": {
       "_model_module_version": "~2.1.4",
       "_view_module_version": "~2.1.4",
       "children": [
        "IPY_MODEL_faa4b0c94d4c421bab564634ca4c8ad2",
        "IPY_MODEL_e072f259607f4907ab7f3506e13b264a",
        "IPY_MODEL_af4015dd86254ffab33f82f474a9cdcc"
       ],
       "layout": "IPY_MODEL_41479889e97248b08f2b8ccdccc9deb7"
      }
     },
     "48506692e47a4736bd3d91276a5cabf4": {
      "model_module": "jupyter-js-widgets",
      "model_module_version": "~2.1.4",
      "model_name": "CheckboxModel",
      "state": {
       "_model_module_version": "~2.1.4",
       "_view_module_version": "~2.1.4",
       "disabled": false,
       "layout": "IPY_MODEL_36c40a0fed304128a2df920206f9607e",
       "value": true
      }
     },
     "48c2d9871f5345fda4843d9df869ab69": {
      "model_module": "jupyter-js-widgets",
      "model_module_version": "~2.1.4",
      "model_name": "LayoutModel",
      "state": {
       "_model_module_version": "~2.1.4",
       "_view_module_version": "~2.1.4",
       "display": "",
       "max_width": "300px",
       "min_width": "100px",
       "visibility": "visible"
      }
     },
     "49577db4436142718ec5a0ba94a7e652": {
      "model_module": "jupyter-js-widgets",
      "model_module_version": "~2.1.4",
      "model_name": "ToggleButtonModel",
      "state": {
       "_model_module_version": "~2.1.4",
       "_view_module_version": "~2.1.4",
       "description": "Plot Regression",
       "layout": "IPY_MODEL_a5f113819636451bad1eead97961a138",
       "value": true
      }
     },
     "4a1b18ac4dff48edb50b3b7b4b6efc9a": {
      "model_module": "jupyter-js-widgets",
      "model_module_version": "~2.1.4",
      "model_name": "VBoxModel",
      "state": {
       "_dom_classes": [
        "widget-interact"
       ],
       "_model_module_version": "~2.1.4",
       "_view_module_version": "~2.1.4",
       "children": [
        "IPY_MODEL_02f129bc6a374b669478dbb33c73c9f7",
        "IPY_MODEL_e487bcc9bdc0490486ac134459147712",
        "IPY_MODEL_cf1026442dc4469d891caf4a9c21f3cf",
        "IPY_MODEL_2679af95ec324cf1a68c43e9dbcef729",
        "IPY_MODEL_0c46ff2d29a74667821bb10c5111712a",
        "IPY_MODEL_fb9d97a6ff23472583d5c5c86b21791c",
        "IPY_MODEL_916b92e48f254a20af0e221b9507f880",
        "IPY_MODEL_255f888cb3a846689b464be50ec25a4a",
        "IPY_MODEL_d709b483f49148629a2aa59a5b29e283"
       ],
       "layout": "IPY_MODEL_9c4c1f49dd1b40cdb93f8e533b81b69d"
      }
     },
     "4d4bd100ef8c46aeb096c013b2e61942": {
      "model_module": "jupyter-js-widgets",
      "model_module_version": "~2.1.4",
      "model_name": "LayoutModel",
      "state": {
       "_model_module_version": "~2.1.4",
       "_view_module_version": "~2.1.4",
       "display": "",
       "max_width": "300px",
       "min_width": "100px",
       "visibility": "visible"
      }
     },
     "4e0493c6e89d4c54a0f5d13fc66a53a0": {
      "model_module": "jupyter-js-widgets",
      "model_module_version": "~2.1.4",
      "model_name": "CheckboxModel",
      "state": {
       "_model_module_version": "~2.1.4",
       "_view_module_version": "~2.1.4",
       "description": "Normed",
       "disabled": false,
       "layout": "IPY_MODEL_99a8669ef1bd4844b1b3979abb40099a",
       "value": true
      }
     },
     "4ec72de0fd6e4c039d82a2ae46eb1ac7": {
      "model_module": "jupyter-js-widgets",
      "model_module_version": "~2.1.4",
      "model_name": "LayoutModel",
      "state": {
       "_model_module_version": "~2.1.4",
       "_view_module_version": "~2.1.4",
       "display": "",
       "max_width": "300px",
       "min_width": "100px",
       "visibility": "visible"
      }
     },
     "4f3a4bda32ea48f996cbae4b1757be6b": {
      "model_module": "jupyter-js-widgets",
      "model_module_version": "~2.1.4",
      "model_name": "CheckboxModel",
      "state": {
       "_model_module_version": "~2.1.4",
       "_view_module_version": "~2.1.4",
       "description": "Mean",
       "disabled": false,
       "layout": "IPY_MODEL_3bc588e32aa74c66afc97c4f43973d1a",
       "value": false
      }
     },
     "4fb41d59737042fcb10dcb4beea511f7": {
      "model_module": "jupyter-js-widgets",
      "model_module_version": "~2.1.4",
      "model_name": "CheckboxModel",
      "state": {
       "_model_module_version": "~2.1.4",
       "_view_module_version": "~2.1.4",
       "description": "Hist",
       "disabled": false,
       "layout": "IPY_MODEL_c491fdfec99243aaa36f46b24245121e",
       "value": true
      }
     },
     "4ffdf5d4c36e4ec7bd406bf0123704d9": {
      "model_module": "jupyter-js-widgets",
      "model_module_version": "~2.1.4",
      "model_name": "VBoxModel",
      "state": {
       "_model_module_version": "~2.1.4",
       "_view_module_version": "~2.1.4",
       "children": [
        "IPY_MODEL_161b17d0e9544ec8a625cc70b159db32",
        "IPY_MODEL_c7e919eed3ca4d9b81fe97ba2f69c128"
       ],
       "layout": "IPY_MODEL_99f486b71a9a4125b2fd0a46304d1a12"
      }
     },
     "5137669787e5413081f1d19251d5e137": {
      "model_module": "jupyter-js-widgets",
      "model_module_version": "~2.1.4",
      "model_name": "DropdownModel",
      "state": {
       "_model_module_version": "~2.1.4",
       "_options_labels": [
        "dataset",
        "x",
        "y"
       ],
       "_view_module_version": "~2.1.4",
       "description": "X column",
       "layout": "IPY_MODEL_94bf7bffac9b4135a88076cbc8bba19f",
       "value": "x"
      }
     },
     "515af41ef15e4cd9a245e912f3a816a6": {
      "model_module": "jupyter-js-widgets",
      "model_module_version": "~2.1.4",
      "model_name": "LayoutModel",
      "state": {
       "_model_module_version": "~2.1.4",
       "_view_module_version": "~2.1.4",
       "display": "",
       "min_width": "100px",
       "visibility": "visible"
      }
     },
     "5176aae9f60849c2adb3a1713b42f465": {
      "model_module": "jupyter-js-widgets",
      "model_module_version": "~2.1.4",
      "model_name": "LayoutModel",
      "state": {
       "_model_module_version": "~2.1.4",
       "_view_module_version": "~2.1.4",
       "display": "",
       "max_width": "300px",
       "min_width": "100px",
       "visibility": "visible"
      }
     },
     "51a764ebaa834941a49e2e91ea03479c": {
      "model_module": "jupyter-js-widgets",
      "model_module_version": "~2.1.4",
      "model_name": "SliderStyleModel",
      "state": {
       "_model_module_version": "~2.1.4",
       "_view_module_version": "~2.1.4"
      }
     },
     "537414b526974e37bece8ecc4e608ba1": {
      "model_module": "jupyter-js-widgets",
      "model_module_version": "~2.1.4",
      "model_name": "ToggleButtonModel",
      "state": {
       "_model_module_version": "~2.1.4",
       "_view_module_version": "~2.1.4",
       "layout": "IPY_MODEL_eeb9726c3d4a47f4ab6ade124fbcc837"
      }
     },
     "5391bd126089444d9228b91ef27fd6d4": {
      "model_module": "jupyter-js-widgets",
      "model_module_version": "~2.1.4",
      "model_name": "DropdownModel",
      "state": {
       "_model_module_version": "~2.1.4",
       "_options_labels": [
        "Both",
        "None",
        "Histogram",
        "KDE"
       ],
       "_view_module_version": "~2.1.4",
       "description": "Marginals",
       "layout": "IPY_MODEL_dd0503cc66e0455ebf308933997e55c0",
       "value": "Both"
      }
     },
     "539bb701d7e94714a2c71a24aac24a9c": {
      "model_module": "jupyter-js-widgets",
      "model_module_version": "~2.1.4",
      "model_name": "LayoutModel",
      "state": {
       "_model_module_version": "~2.1.4",
       "_view_module_version": "~2.1.4",
       "display": "",
       "max_width": "300px",
       "min_width": "100px",
       "visibility": "visible"
      }
     },
     "54c9ca811cf04709b43357a2a1f72cf0": {
      "model_module": "jupyter-js-widgets",
      "model_module_version": "~2.1.4",
      "model_name": "LayoutModel",
      "state": {
       "_model_module_version": "~2.1.4",
       "_view_module_version": "~2.1.4",
       "display": "",
       "max_width": "300px",
       "min_width": "100px",
       "visibility": "visible"
      }
     },
     "5572836dc4794a4f9cf8f86678ab26fd": {
      "model_module": "jupyter-js-widgets",
      "model_module_version": "~2.1.4",
      "model_name": "HBoxModel",
      "state": {
       "_model_module_version": "~2.1.4",
       "_view_module_version": "~2.1.4",
       "children": [
        "IPY_MODEL_8840ae1b3ace493098e44085def08d31"
       ],
       "layout": "IPY_MODEL_369af33315cd4d60a25bc27ae1f8d902"
      }
     },
     "574c4b1078334028b20c37510a3026f2": {
      "model_module": "jupyter-js-widgets",
      "model_module_version": "~2.1.4",
      "model_name": "LayoutModel",
      "state": {
       "_model_module_version": "~2.1.4",
       "_view_module_version": "~2.1.4",
       "display": "",
       "min_width": "100px",
       "visibility": "visible"
      }
     },
     "577b987be64f4fba89417c8547d72aaa": {
      "model_module": "jupyter-js-widgets",
      "model_module_version": "~2.1.4",
      "model_name": "LayoutModel",
      "state": {
       "_model_module_version": "~2.1.4",
       "_view_module_version": "~2.1.4",
       "display": "",
       "max_width": "300px",
       "min_width": "100px",
       "visibility": "visible"
      }
     },
     "578b1ef5767d441c85ed473a8fbf4422": {
      "model_module": "jupyter-js-widgets",
      "model_module_version": "~2.1.4",
      "model_name": "DropdownModel",
      "state": {
       "_model_module_version": "~2.1.4",
       "_options_labels": [
        "dataset",
        "x",
        "y"
       ],
       "_view_module_version": "~2.1.4",
       "description": "Y column",
       "layout": "IPY_MODEL_c77c68e58b6d4c168a7ea3d1f32e9cca",
       "value": "x"
      }
     },
     "58296bf798a346dd9d009d27fdfd30bb": {
      "model_module": "jupyter-js-widgets",
      "model_module_version": "~2.1.4",
      "model_name": "CheckboxModel",
      "state": {
       "_model_module_version": "~2.1.4",
       "_view_module_version": "~2.1.4",
       "description": "Percents",
       "disabled": false,
       "layout": "IPY_MODEL_e9c5fd8d705d4529be5a44bc9e92d93f",
       "value": false
      }
     },
     "587dde9845514cbf9b0df481a3e2c046": {
      "model_module": "jupyter-js-widgets",
      "model_module_version": "~2.1.4",
      "model_name": "ToggleButtonModel",
      "state": {
       "_model_module_version": "~2.1.4",
       "_view_module_version": "~2.1.4",
       "layout": "IPY_MODEL_34ff8e1c67584e3b8199108f0298801b",
       "value": true
      }
     },
     "58edc76185824f8cb6c2f8412dafbd0c": {
      "model_module": "jupyter-js-widgets",
      "model_module_version": "~2.1.4",
      "model_name": "LayoutModel",
      "state": {
       "_model_module_version": "~2.1.4",
       "_view_module_version": "~2.1.4",
       "display": "",
       "max_width": "300px",
       "min_width": "100px",
       "visibility": "visible"
      }
     },
     "592b00dffacb4c1abc473bddbcd305fc": {
      "model_module": "jupyter-js-widgets",
      "model_module_version": "~2.1.4",
      "model_name": "LayoutModel",
      "state": {
       "_model_module_version": "~2.1.4",
       "_view_module_version": "~2.1.4",
       "display": "",
       "max_width": "300px",
       "min_width": "100px",
       "visibility": "visible"
      }
     },
     "595d5432882c467bb91adc4b19076cbd": {
      "model_module": "jupyter-js-widgets",
      "model_module_version": "~2.1.4",
      "model_name": "FloatSliderModel",
      "state": {
       "_model_module_version": "~2.1.4",
       "_view_module_version": "~2.1.4",
       "description": "Float slider",
       "layout": "IPY_MODEL_f6e45b025f544d23ba9056f69c107ced",
       "max": 10,
       "min": 2,
       "value": 2
      }
     },
     "59bfd7a0d9794e4f9b6c24f310fca4e6": {
      "model_module": "jupyter-js-widgets",
      "model_module_version": "~2.1.4",
      "model_name": "LayoutModel",
      "state": {
       "_model_module_version": "~2.1.4",
       "_view_module_version": "~2.1.4",
       "display": "",
       "min_width": "100px",
       "visibility": "visible"
      }
     },
     "5ba3317ddb934c94841ec563a54a949d": {
      "model_module": "jupyter-js-widgets",
      "model_module_version": "~2.1.4",
      "model_name": "VBoxModel",
      "state": {
       "_model_module_version": "~2.1.4",
       "_view_module_version": "~2.1.4",
       "children": [
        "IPY_MODEL_3982e8d338e047c2a54ddaad51efe232",
        "IPY_MODEL_62fb29d576104bd2937f62d9419563b7",
        "IPY_MODEL_61542651a0144e6f862a9a5c20fecffe",
        "IPY_MODEL_fdcd1b65462a4b3faf3c0a04339870ae"
       ],
       "layout": "IPY_MODEL_e26a6094b10a46549e7d013df83dbcd3"
      }
     },
     "5c5cb416c27e4ae5a5a3c074afafb7a4": {
      "model_module": "jupyter-js-widgets",
      "model_module_version": "~2.1.4",
      "model_name": "LayoutModel",
      "state": {
       "_model_module_version": "~2.1.4",
       "_view_module_version": "~2.1.4",
       "display": "",
       "min_width": "100px",
       "visibility": "visible"
      }
     },
     "5d7484bdbb3c4717836fffb63785d399": {
      "model_module": "jupyter-js-widgets",
      "model_module_version": "~2.1.4",
      "model_name": "TextModel",
      "state": {
       "_model_module_version": "~2.1.4",
       "_view_module_version": "~2.1.4",
       "description": "Text",
       "layout": "IPY_MODEL_2384e3eb4e59494abcdec7ee62038a74",
       "value": "moco"
      }
     },
     "5ffb852f643840a18cfbbd12a859bdba": {
      "model_module": "jupyter-js-widgets",
      "model_module_version": "~2.1.4",
      "model_name": "LayoutModel",
      "state": {
       "_model_module_version": "~2.1.4",
       "_view_module_version": "~2.1.4",
       "display": "",
       "max_width": "300px",
       "min_width": "100px",
       "visibility": "visible"
      }
     },
     "60120b6e6f5a4d9b8e7cae6978987ba9": {
      "model_module": "jupyter-js-widgets",
      "model_module_version": "~2.1.4",
      "model_name": "VBoxModel",
      "state": {
       "_model_module_version": "~2.1.4",
       "_view_module_version": "~2.1.4",
       "children": [
        "IPY_MODEL_8d7b23732ad444bbbfe8f8e1a7bba092",
        "IPY_MODEL_49577db4436142718ec5a0ba94a7e652",
        "IPY_MODEL_feb4980aeb2b4e9f886a7a0559b3d195",
        "IPY_MODEL_1e262fc0951045afa41a547dd5a7d438",
        "IPY_MODEL_6f358708fb984c7f81a3ce7c2789771c"
       ],
       "layout": "IPY_MODEL_574c4b1078334028b20c37510a3026f2"
      }
     },
     "61542651a0144e6f862a9a5c20fecffe": {
      "model_module": "jupyter-js-widgets",
      "model_module_version": "~2.1.4",
      "model_name": "IntSliderModel",
      "state": {
       "_model_module_version": "~2.1.4",
       "_view_module_version": "~2.1.4",
       "continuous_update": false,
       "description": "Num ybins",
       "layout": "IPY_MODEL_8c8a230b65a84dcdb7b4377a70cd8831",
       "max": 40,
       "min": 1,
       "step": 2,
       "style": "IPY_MODEL_45d731b30a3248e4a1909f7a8f175de3",
       "value": 10
      }
     },
     "616d2bc3b19b4e0f8f67ae503e05d746": {
      "model_module": "jupyter-js-widgets",
      "model_module_version": "~2.1.4",
      "model_name": "LayoutModel",
      "state": {
       "_model_module_version": "~2.1.4",
       "_view_module_version": "~2.1.4",
       "display": "",
       "min_width": "100px",
       "visibility": "visible"
      }
     },
     "61906ec33156479bab80d23a276f4881": {
      "model_module": "jupyter-js-widgets",
      "model_module_version": "~2.1.4",
      "model_name": "HBoxModel",
      "state": {
       "_model_module_version": "~2.1.4",
       "_view_module_version": "~2.1.4",
       "children": [
        "IPY_MODEL_adcc8b305e5c47a3827d5baf78fc91f4"
       ],
       "layout": "IPY_MODEL_d87765c1a7834c67b6f8abb4b1106924"
      }
     },
     "61982af6ed2942b383b6e5f30ab9e65f": {
      "model_module": "jupyter-js-widgets",
      "model_module_version": "~2.1.4",
      "model_name": "LayoutModel",
      "state": {
       "_model_module_version": "~2.1.4",
       "_view_module_version": "~2.1.4",
       "display": "",
       "max_width": "300px",
       "min_width": "100px",
       "visibility": "visible"
      }
     },
     "62fb29d576104bd2937f62d9419563b7": {
      "model_module": "jupyter-js-widgets",
      "model_module_version": "~2.1.4",
      "model_name": "IntSliderModel",
      "state": {
       "_model_module_version": "~2.1.4",
       "_view_module_version": "~2.1.4",
       "continuous_update": false,
       "description": "Num xbins",
       "layout": "IPY_MODEL_e38b6dacf71f4891b96bb4c5e03e445c",
       "max": 40,
       "min": 1,
       "step": 2,
       "style": "IPY_MODEL_68ad06cf9ec14a5aabaace6e8492b9bd",
       "value": 10
      }
     },
     "6387f6da1130401d810e3ccb5d4b46d8": {
      "model_module": "jupyter-js-widgets",
      "model_module_version": "~2.1.4",
      "model_name": "VBoxModel",
      "state": {
       "_model_module_version": "~2.1.4",
       "_view_module_version": "~2.1.4",
       "layout": "IPY_MODEL_828c703781c043928c9bcfd56e6fa524"
      }
     },
     "64309809bd86490f832c091f3a523641": {
      "model_module": "jupyter-js-widgets",
      "model_module_version": "~2.1.4",
      "model_name": "IntSliderModel",
      "state": {
       "_model_module_version": "~2.1.4",
       "_view_module_version": "~2.1.4",
       "layout": "IPY_MODEL_f86d8475e8074ce198a388cd48cbd0ef",
       "max": 40,
       "min": 1,
       "step": 2,
       "style": "IPY_MODEL_f4463048d4cc4809a0334f8cee0beef5",
       "value": 10
      }
     },
     "65c8b933bb2f4f46a646ae1d100d8872": {
      "model_module": "jupyter-js-widgets",
      "model_module_version": "~2.1.4",
      "model_name": "LayoutModel",
      "state": {
       "_model_module_version": "~2.1.4",
       "_view_module_version": "~2.1.4",
       "display": "",
       "max_width": "300px",
       "min_width": "100px",
       "visibility": "visible"
      }
     },
     "668accfbdc1244b791736af0dfb2f146": {
      "model_module": "jupyter-js-widgets",
      "model_module_version": "~2.1.4",
      "model_name": "HBoxModel",
      "state": {
       "_model_module_version": "~2.1.4",
       "_view_module_version": "~2.1.4",
       "children": [
        "IPY_MODEL_30a481270c6642dea4170525f4f50f78",
        "IPY_MODEL_44e274ffb7984c858a80de93da7814a0",
        "IPY_MODEL_f8b05955583040ae9c6573f61aaf61be"
       ],
       "layout": "IPY_MODEL_94ccff31d0944d57b6f68e3dc3c750b7"
      }
     },
     "66a885cf85964d0f9435b26fc2421013": {
      "model_module": "jupyter-js-widgets",
      "model_module_version": "~2.1.4",
      "model_name": "LayoutModel",
      "state": {
       "_model_module_version": "~2.1.4",
       "_view_module_version": "~2.1.4",
       "display": "",
       "min_width": "100px",
       "visibility": "visible"
      }
     },
     "66c2382bf16149d7b2fa616bb70d444c": {
      "model_module": "jupyter-js-widgets",
      "model_module_version": "~2.1.4",
      "model_name": "LayoutModel",
      "state": {
       "_model_module_version": "~2.1.4",
       "_view_module_version": "~2.1.4",
       "display": "",
       "max_width": "300px",
       "min_width": "100px",
       "visibility": "visible"
      }
     },
     "67a8aa017e894c348c1a6009081f227a": {
      "model_module": "jupyter-js-widgets",
      "model_module_version": "~2.1.4",
      "model_name": "VBoxModel",
      "state": {
       "_model_module_version": "~2.1.4",
       "_view_module_version": "~2.1.4",
       "children": [
        "IPY_MODEL_1da2be31981449bb954c3a6212a3ec42",
        "IPY_MODEL_8fab502536f3411884f8cefad8707da8",
        "IPY_MODEL_d0a5ac944b5848e48c2abe22bc3ed8ca",
        "IPY_MODEL_e5060f4b779f490e9e10dfba9132d9c1"
       ],
       "layout": "IPY_MODEL_f4625b67cb0c49ddbd31bbbd1665af12"
      }
     },
     "68ad06cf9ec14a5aabaace6e8492b9bd": {
      "model_module": "jupyter-js-widgets",
      "model_module_version": "~2.1.4",
      "model_name": "SliderStyleModel",
      "state": {
       "_model_module_version": "~2.1.4",
       "_view_module_version": "~2.1.4"
      }
     },
     "6a21add000a44eeca10c8acc42d2bd2d": {
      "model_module": "jupyter-js-widgets",
      "model_module_version": "~2.1.4",
      "model_name": "LayoutModel",
      "state": {
       "_model_module_version": "~2.1.4",
       "_view_module_version": "~2.1.4",
       "display": "",
       "max_width": "300px",
       "min_width": "100px",
       "visibility": "visible"
      }
     },
     "6bd2dc19900d413c8965d9bafdde001c": {
      "model_module": "jupyter-js-widgets",
      "model_module_version": "~2.1.4",
      "model_name": "HBoxModel",
      "state": {
       "_model_module_version": "~2.1.4",
       "_view_module_version": "~2.1.4",
       "children": [
        "IPY_MODEL_b929a8170bec4f3ca6ffd8415146e93e",
        "IPY_MODEL_772b50191a9848acb0f04b2ac230a78d",
        "IPY_MODEL_df73936a3f5b4f98827b0461ef30dcfa",
        "IPY_MODEL_e8e60008230e4442a4a16e9876ec2973",
        "IPY_MODEL_6387f6da1130401d810e3ccb5d4b46d8"
       ],
       "layout": "IPY_MODEL_b4aaca0946b443eaa40c406ad0dc52f0"
      }
     },
     "6c3e77f8623942cd8d8c27ea56227a00": {
      "model_module": "jupyter-js-widgets",
      "model_module_version": "~2.1.4",
      "model_name": "LayoutModel",
      "state": {
       "_model_module_version": "~2.1.4",
       "_view_module_version": "~2.1.4",
       "display": "",
       "max_width": "300px",
       "min_width": "100px",
       "visibility": "visible"
      }
     },
     "6c9e452f9bcd400682bf2e1b9773933a": {
      "model_module": "jupyter-js-widgets",
      "model_module_version": "~2.1.4",
      "model_name": "FloatSliderModel",
      "state": {
       "_model_module_version": "~2.1.4",
       "_view_module_version": "~2.1.4",
       "description": "Bw",
       "layout": "IPY_MODEL_65c8b933bb2f4f46a646ae1d100d8872",
       "max": 100.18,
       "min": -99.82,
       "step": 0.1,
       "value": 0.18
      }
     },
     "6d0267bbdd934c479fdc4069d087c539": {
      "model_module": "jupyter-js-widgets",
      "model_module_version": "~2.1.4",
      "model_name": "IntSliderModel",
      "state": {
       "_model_module_version": "~2.1.4",
       "_view_module_version": "~2.1.4",
       "description": "Int slider",
       "layout": "IPY_MODEL_a044fb99891d4f378f500b83b3cf4871",
       "max": 104,
       "min": -96,
       "style": "IPY_MODEL_7eec6d6edbfe416194759f48f04e7764",
       "value": 4
      }
     },
     "6d6d6807b4934779af35078166e91460": {
      "model_module": "jupyter-js-widgets",
      "model_module_version": "~2.1.4",
      "model_name": "LayoutModel",
      "state": {
       "_model_module_version": "~2.1.4",
       "_view_module_version": "~2.1.4",
       "display": "",
       "min_width": "100px",
       "visibility": "visible"
      }
     },
     "6d97f24e4b564754b1a7bc2170d29aa0": {
      "model_module": "jupyter-js-widgets",
      "model_module_version": "~2.1.4",
      "model_name": "LayoutModel",
      "state": {
       "_model_module_version": "~2.1.4",
       "_view_module_version": "~2.1.4",
       "display": "",
       "max_width": "300px",
       "min_width": "100px",
       "visibility": "visible"
      }
     },
     "6f358708fb984c7f81a3ce7c2789771c": {
      "model_module": "jupyter-js-widgets",
      "model_module_version": "~2.1.4",
      "model_name": "CheckboxModel",
      "state": {
       "_model_module_version": "~2.1.4",
       "_view_module_version": "~2.1.4",
       "description": "Robust",
       "disabled": false,
       "layout": "IPY_MODEL_577b987be64f4fba89417c8547d72aaa",
       "value": false
      }
     },
     "6f41e50c1b274c1e8028a03bd09d4ccf": {
      "model_module": "jupyter-js-widgets",
      "model_module_version": "~2.1.4",
      "model_name": "HTMLModel",
      "state": {
       "_model_module_version": "~2.1.4",
       "_view_module_version": "~2.1.4",
       "layout": "IPY_MODEL_1da13993e93a484781d4f63e407febab",
       "value": "<h1>scatterplot options</h1>"
      }
     },
     "6f4512fadf6e4532b0cff4cb0bc5006c": {
      "model_module": "jupyter-js-widgets",
      "model_module_version": "~2.1.4",
      "model_name": "LayoutModel",
      "state": {
       "_model_module_version": "~2.1.4",
       "_view_module_version": "~2.1.4"
      }
     },
     "6f568058ef86462c8ae49dbb919cbcce": {
      "model_module": "jupyter-js-widgets",
      "model_module_version": "~2.1.4",
      "model_name": "SliderStyleModel",
      "state": {
       "_model_module_version": "~2.1.4",
       "_view_module_version": "~2.1.4"
      }
     },
     "72a17cf5e07f416cac928bda815f81d0": {
      "model_module": "jupyter-js-widgets",
      "model_module_version": "~2.1.4",
      "model_name": "HBoxModel",
      "state": {
       "_model_module_version": "~2.1.4",
       "_view_module_version": "~2.1.4",
       "children": [
        "IPY_MODEL_c0f2f09fa75d4b4ebd12aac3980e3f51",
        "IPY_MODEL_c2635cfa63db4dfeb5c47aaa4918974b"
       ],
       "layout": "IPY_MODEL_2497d39732334db5ad56718645fcfa68"
      }
     },
     "73092c3cb29f4f319ffea4b8a196cf68": {
      "model_module": "jupyter-js-widgets",
      "model_module_version": "~2.1.4",
      "model_name": "LayoutModel",
      "state": {
       "_model_module_version": "~2.1.4",
       "_view_module_version": "~2.1.4",
       "display": "",
       "max_width": "300px",
       "min_width": "100px",
       "visibility": "visible"
      }
     },
     "736ab2a3a7d2413fbfc0a00261aac560": {
      "model_module": "jupyter-js-widgets",
      "model_module_version": "~2.1.4",
      "model_name": "LayoutModel",
      "state": {
       "_model_module_version": "~2.1.4",
       "_view_module_version": "~2.1.4",
       "display": "",
       "max_width": "300px",
       "min_width": "100px",
       "visibility": "visible"
      }
     },
     "738d1787137545d0905d0073f9b99fb0": {
      "model_module": "jupyter-js-widgets",
      "model_module_version": "~2.1.4",
      "model_name": "LayoutModel",
      "state": {
       "_model_module_version": "~2.1.4",
       "_view_module_version": "~2.1.4",
       "display": "",
       "max_width": "300px",
       "min_width": "100px",
       "visibility": "visible"
      }
     },
     "7446b4783f2b436b9d78984c5fa63f71": {
      "model_module": "jupyter-js-widgets",
      "model_module_version": "~2.1.4",
      "model_name": "SliderStyleModel",
      "state": {
       "_model_module_version": "~2.1.4",
       "_view_module_version": "~2.1.4"
      }
     },
     "744e024dab9d4ec39f415d61758d83dd": {
      "model_module": "jupyter-js-widgets",
      "model_module_version": "~2.1.4",
      "model_name": "HTMLModel",
      "state": {
       "_model_module_version": "~2.1.4",
       "_view_module_version": "~2.1.4",
       "layout": "IPY_MODEL_1c189e13f0c547b19998f0b07f42f839",
       "value": "<h1>kde plot options</h1>"
      }
     },
     "7460982dca9c460985e2d0b5c4ce7a59": {
      "model_module": "jupyter-js-widgets",
      "model_module_version": "~2.1.4",
      "model_name": "LayoutModel",
      "state": {
       "_model_module_version": "~2.1.4",
       "_view_module_version": "~2.1.4",
       "display": "",
       "min_width": "100px",
       "visibility": "visible"
      }
     },
     "74bbf8da92364b00b57654dc06c87c05": {
      "model_module": "jupyter-js-widgets",
      "model_module_version": "~2.1.4",
      "model_name": "LayoutModel",
      "state": {
       "_model_module_version": "~2.1.4",
       "_view_module_version": "~2.1.4",
       "display": "",
       "min_width": "100px",
       "visibility": "visible"
      }
     },
     "772b50191a9848acb0f04b2ac230a78d": {
      "model_module": "jupyter-js-widgets",
      "model_module_version": "~2.1.4",
      "model_name": "VBoxModel",
      "state": {
       "_model_module_version": "~2.1.4",
       "_view_module_version": "~2.1.4",
       "children": [
        "IPY_MODEL_132c90f4dca749fc926b35f0d98cbc6b",
        "IPY_MODEL_0ac08c29d7eb4fb1a78489912238ac7a"
       ],
       "layout": "IPY_MODEL_225f91a620e6492598625df3c544e6c2"
      }
     },
     "78cef37cfb3e467bb662c92798e47e08": {
      "model_module": "jupyter-js-widgets",
      "model_module_version": "~2.1.4",
      "model_name": "FloatSliderModel",
      "state": {
       "_model_module_version": "~2.1.4",
       "_view_module_version": "~2.1.4",
       "description": "Float slider",
       "layout": "IPY_MODEL_a0583436ef76406da76d363a92a9197b",
       "max": 10,
       "min": 2,
       "value": 2
      }
     },
     "79b634c640b74a22811244efc6acb21a": {
      "model_module": "jupyter-js-widgets",
      "model_module_version": "~2.1.4",
      "model_name": "LayoutModel",
      "state": {
       "_model_module_version": "~2.1.4",
       "_view_module_version": "~2.1.4",
       "display": "",
       "max_width": "300px",
       "min_width": "100px",
       "visibility": "visible"
      }
     },
     "79cf08940d724485a07b7df87053cad0": {
      "model_module": "jupyter-js-widgets",
      "model_module_version": "~2.1.4",
      "model_name": "LayoutModel",
      "state": {
       "_model_module_version": "~2.1.4",
       "_view_module_version": "~2.1.4",
       "display": "",
       "min_width": "100px",
       "visibility": "visible"
      }
     },
     "7a18d7b6eb1f41709b01b84cb7add5da": {
      "model_module": "jupyter-js-widgets",
      "model_module_version": "~2.1.4",
      "model_name": "SliderStyleModel",
      "state": {
       "_model_module_version": "~2.1.4",
       "_view_module_version": "~2.1.4"
      }
     },
     "7b0ff4dd3c204e74bed0bebe35a3c269": {
      "model_module": "jupyter-js-widgets",
      "model_module_version": "~2.1.4",
      "model_name": "CheckboxModel",
      "state": {
       "_model_module_version": "~2.1.4",
       "_view_module_version": "~2.1.4",
       "description": "Hist",
       "disabled": false,
       "layout": "IPY_MODEL_88ad73ffaec34a95be405c69a7e95e37",
       "value": true
      }
     },
     "7ce8ecbd5244439eaba7783144e1913f": {
      "model_module": "jupyter-js-widgets",
      "model_module_version": "~2.1.4",
      "model_name": "ToggleButtonModel",
      "state": {
       "_model_module_version": "~2.1.4",
       "_view_module_version": "~2.1.4",
       "layout": "IPY_MODEL_2612daa8677e4cdca20a5c63237c8eba",
       "value": true
      }
     },
     "7e9edbf57d304520b2cc9879885aac8b": {
      "model_module": "jupyter-js-widgets",
      "model_module_version": "~2.1.4",
      "model_name": "IntSliderModel",
      "state": {
       "_model_module_version": "~2.1.4",
       "_view_module_version": "~2.1.4",
       "description": "Int slider",
       "layout": "IPY_MODEL_cbc9cb0e9cd94616aecd73adbefb32f0",
       "max": 104,
       "min": -96,
       "style": "IPY_MODEL_7446b4783f2b436b9d78984c5fa63f71",
       "value": 4
      }
     },
     "7eec6d6edbfe416194759f48f04e7764": {
      "model_module": "jupyter-js-widgets",
      "model_module_version": "~2.1.4",
      "model_name": "SliderStyleModel",
      "state": {
       "_model_module_version": "~2.1.4",
       "_view_module_version": "~2.1.4"
      }
     },
     "8157168145c24e11b078234a14ee3b7f": {
      "model_module": "jupyter-js-widgets",
      "model_module_version": "~2.1.4",
      "model_name": "LayoutModel",
      "state": {
       "_model_module_version": "~2.1.4",
       "_view_module_version": "~2.1.4",
       "display": "",
       "min_width": "100px",
       "visibility": "visible"
      }
     },
     "81fce096dc7e4242a51b45f82f0870d6": {
      "model_module": "jupyter-js-widgets",
      "model_module_version": "~2.1.4",
      "model_name": "IntSliderModel",
      "state": {
       "_model_module_version": "~2.1.4",
       "_view_module_version": "~2.1.4",
       "description": "Confidence intervals",
       "layout": "IPY_MODEL_de77e7e6af6040c58297be583bcd72cd",
       "min": 1,
       "style": "IPY_MODEL_f53333f7078f43c09523578bb48642df",
       "value": 95
      }
     },
     "8259dba137ae4f84bb4328a800b61b67": {
      "model_module": "jupyter-js-widgets",
      "model_module_version": "~2.1.4",
      "model_name": "LayoutModel",
      "state": {
       "_model_module_version": "~2.1.4",
       "_view_module_version": "~2.1.4",
       "display": "",
       "max_width": "300px",
       "min_width": "100px",
       "visibility": "visible"
      }
     },
     "828c703781c043928c9bcfd56e6fa524": {
      "model_module": "jupyter-js-widgets",
      "model_module_version": "~2.1.4",
      "model_name": "LayoutModel",
      "state": {
       "_model_module_version": "~2.1.4",
       "_view_module_version": "~2.1.4",
       "display": "",
       "min_width": "100px",
       "visibility": "visible"
      }
     },
     "82f0429cd16745769b2d1f7f22f938cf": {
      "model_module": "jupyter-js-widgets",
      "model_module_version": "~2.1.4",
      "model_name": "ToggleButtonModel",
      "state": {
       "_model_module_version": "~2.1.4",
       "_view_module_version": "~2.1.4",
       "description": "Robust",
       "layout": "IPY_MODEL_4d4bd100ef8c46aeb096c013b2e61942"
      }
     },
     "835e7ac7bdb54323b9c67045d077fe33": {
      "model_module": "jupyter-js-widgets",
      "model_module_version": "~2.1.4",
      "model_name": "VBoxModel",
      "state": {
       "_model_module_version": "~2.1.4",
       "_view_module_version": "~2.1.4",
       "children": [
        "IPY_MODEL_352d439e4c7940bfb807ea0f365cc4c6",
        "IPY_MODEL_e0ab0af2c3fc45fb9fde38ec1e9eba56",
        "IPY_MODEL_8e944de86cbe4013a614222efefd8573"
       ],
       "layout": "IPY_MODEL_44952254cdd140d888718bc6f3e11202"
      }
     },
     "84cb60a84be64674b91a597c384f2e89": {
      "model_module": "jupyter-js-widgets",
      "model_module_version": "~2.1.4",
      "model_name": "SliderStyleModel",
      "state": {
       "_model_module_version": "~2.1.4",
       "_view_module_version": "~2.1.4"
      }
     },
     "84ccf3d580264e84a29ebf6f56eb15b0": {
      "model_module": "jupyter-js-widgets",
      "model_module_version": "~2.1.4",
      "model_name": "HBoxModel",
      "state": {
       "_model_module_version": "~2.1.4",
       "_view_module_version": "~2.1.4",
       "children": [
        "IPY_MODEL_5137669787e5413081f1d19251d5e137",
        "IPY_MODEL_d1287513be11478eafb4ce54175a76d6"
       ],
       "layout": "IPY_MODEL_bfa9e87a53ee46f48bf06844d0f2f318"
      }
     },
     "8588c3dc906147bdac7ada3b283afe77": {
      "model_module": "jupyter-js-widgets",
      "model_module_version": "~2.1.4",
      "model_name": "LayoutModel",
      "state": {
       "_model_module_version": "~2.1.4",
       "_view_module_version": "~2.1.4",
       "display": "",
       "max_width": "300px",
       "min_width": "100px",
       "visibility": "visible"
      }
     },
     "8623997fcd254e54b4b1b6722ea6ba86": {
      "model_module": "jupyter-js-widgets",
      "model_module_version": "~2.1.4",
      "model_name": "LayoutModel",
      "state": {
       "_model_module_version": "~2.1.4",
       "_view_module_version": "~2.1.4",
       "display": "",
       "max_width": "300px",
       "min_width": "100px",
       "visibility": "visible"
      }
     },
     "87351213fbc6424cbf9b90747b18e471": {
      "model_module": "jupyter-js-widgets",
      "model_module_version": "~2.1.4",
      "model_name": "DropdownModel",
      "state": {
       "_model_module_version": "~2.1.4",
       "_options_labels": [
        "Both",
        "None",
        "Histogram",
        "KDE"
       ],
       "_view_module_version": "~2.1.4",
       "layout": "IPY_MODEL_0d9c8de8004047f6853b4125ede99273",
       "value": "Both"
      }
     },
     "87fca92faa314ff6a79413cc31decb74": {
      "model_module": "jupyter-js-widgets",
      "model_module_version": "~2.1.4",
      "model_name": "LayoutModel",
      "state": {
       "_model_module_version": "~2.1.4",
       "_view_module_version": "~2.1.4",
       "display": "",
       "max_width": "300px",
       "min_width": "100px",
       "visibility": "visible"
      }
     },
     "8840ae1b3ace493098e44085def08d31": {
      "model_module": "jupyter-js-widgets",
      "model_module_version": "~2.1.4",
      "model_name": "HTMLModel",
      "state": {
       "_model_module_version": "~2.1.4",
       "_view_module_version": "~2.1.4",
       "layout": "IPY_MODEL_f4ba2100b1a94ad7a6f8d8b8885c8408",
       "value": "<h1>combining plots</h1>"
      }
     },
     "884a3a20f6c54145b86065e31d4f9d69": {
      "model_module": "jupyter-js-widgets",
      "model_module_version": "~2.1.4",
      "model_name": "LayoutModel",
      "state": {
       "_model_module_version": "~2.1.4",
       "_view_module_version": "~2.1.4",
       "display": "",
       "max_width": "300px",
       "min_width": "100px",
       "visibility": "visible"
      }
     },
     "88ad73ffaec34a95be405c69a7e95e37": {
      "model_module": "jupyter-js-widgets",
      "model_module_version": "~2.1.4",
      "model_name": "LayoutModel",
      "state": {
       "_model_module_version": "~2.1.4",
       "_view_module_version": "~2.1.4",
       "display": "",
       "max_width": "300px",
       "min_width": "100px",
       "visibility": "visible"
      }
     },
     "88ca3853541c4bd49cfd6025dbefede1": {
      "model_module": "jupyter-js-widgets",
      "model_module_version": "~2.1.4",
      "model_name": "DropdownModel",
      "state": {
       "_model_module_version": "~2.1.4",
       "_options_labels": [
        "Both",
        "None",
        "Histogram",
        "KDE"
       ],
       "_view_module_version": "~2.1.4",
       "description": "Marginals",
       "layout": "IPY_MODEL_9c3f5959d764423eb9b0932e6ff276db",
       "value": "Both"
      }
     },
     "89494d943dc346a0b29139b134b68a4b": {
      "model_module": "jupyter-js-widgets",
      "model_module_version": "~2.1.4",
      "model_name": "VBoxModel",
      "state": {
       "_model_module_version": "~2.1.4",
       "_view_module_version": "~2.1.4",
       "children": [
        "IPY_MODEL_5572836dc4794a4f9cf8f86678ab26fd",
        "IPY_MODEL_d834fc4560474b7993f5d780e9eba96a",
        "IPY_MODEL_72a17cf5e07f416cac928bda815f81d0",
        "IPY_MODEL_29423c25824a49b78151f0862229f1c7"
       ],
       "layout": "IPY_MODEL_03f4411ab1f94170a0c523270db4bdf3"
      }
     },
     "89a691a235a04535941b5db336859e43": {
      "model_module": "jupyter-js-widgets",
      "model_module_version": "~2.1.4",
      "model_name": "LayoutModel",
      "state": {
       "_model_module_version": "~2.1.4",
       "_view_module_version": "~2.1.4"
      }
     },
     "8a05cb55f1f94f7cb95d211a041f071b": {
      "model_module": "jupyter-js-widgets",
      "model_module_version": "~2.1.4",
      "model_name": "LayoutModel",
      "state": {
       "_model_module_version": "~2.1.4",
       "_view_module_version": "~2.1.4",
       "display": "",
       "min_width": "100px",
       "visibility": "visible"
      }
     },
     "8a2f18e60f204f3cac03fefb7d5cd56e": {
      "model_module": "jupyter-js-widgets",
      "model_module_version": "~2.1.4",
      "model_name": "LayoutModel",
      "state": {
       "_model_module_version": "~2.1.4",
       "_view_module_version": "~2.1.4"
      }
     },
     "8a766c971f5e411684b24257823acc31": {
      "model_module": "jupyter-js-widgets",
      "model_module_version": "~2.1.4",
      "model_name": "LayoutModel",
      "state": {
       "_model_module_version": "~2.1.4",
       "_view_module_version": "~2.1.4",
       "display": "",
       "min_width": "100px",
       "visibility": "visible"
      }
     },
     "8aa8fbf400394e6e995705dab4158543": {
      "model_module": "jupyter-js-widgets",
      "model_module_version": "~2.1.4",
      "model_name": "FloatSliderModel",
      "state": {
       "_model_module_version": "~2.1.4",
       "_view_module_version": "~2.1.4",
       "description": "Bw",
       "layout": "IPY_MODEL_58edc76185824f8cb6c2f8412dafbd0c",
       "max": 100.18,
       "min": -99.82,
       "step": 0.1,
       "value": 0.18
      }
     },
     "8aae69e446f14d89873d54e0ec12cf10": {
      "model_module": "jupyter-js-widgets",
      "model_module_version": "~2.1.4",
      "model_name": "SliderStyleModel",
      "state": {
       "_model_module_version": "~2.1.4",
       "_view_module_version": "~2.1.4"
      }
     },
     "8b5d9a96b8ab440d8cd2794d86587fad": {
      "model_module": "jupyter-js-widgets",
      "model_module_version": "~2.1.4",
      "model_name": "TextModel",
      "state": {
       "_model_module_version": "~2.1.4",
       "_view_module_version": "~2.1.4",
       "description": "Text",
       "layout": "IPY_MODEL_10b4aca959384bdb9e60341e46d6c849",
       "value": "moco"
      }
     },
     "8c4cb38e710a45feb8a8c59a3d71739a": {
      "model_module": "jupyter-js-widgets",
      "model_module_version": "~2.1.4",
      "model_name": "IntSliderModel",
      "state": {
       "_model_module_version": "~2.1.4",
       "_view_module_version": "~2.1.4",
       "description": "Num ybins",
       "layout": "IPY_MODEL_25e022875c0240ae80e034907b135a0d",
       "max": 40,
       "min": 1,
       "step": 2,
       "style": "IPY_MODEL_c4682602e26b4c018917293ba56fccbb",
       "value": 10
      }
     },
     "8c8a230b65a84dcdb7b4377a70cd8831": {
      "model_module": "jupyter-js-widgets",
      "model_module_version": "~2.1.4",
      "model_name": "LayoutModel",
      "state": {
       "_model_module_version": "~2.1.4",
       "_view_module_version": "~2.1.4",
       "display": "none",
       "max_width": "300px",
       "min_width": "100px",
       "visibility": "hidden"
      }
     },
     "8c9eeda9f3cf471dba95406c2199e31c": {
      "model_module": "jupyter-js-widgets",
      "model_module_version": "~2.1.4",
      "model_name": "SliderStyleModel",
      "state": {
       "_model_module_version": "~2.1.4",
       "_view_module_version": "~2.1.4"
      }
     },
     "8d05bcc579ec4902be8ff00c4c42c1da": {
      "model_module": "jupyter-js-widgets",
      "model_module_version": "~2.1.4",
      "model_name": "LayoutModel",
      "state": {
       "_model_module_version": "~2.1.4",
       "_view_module_version": "~2.1.4",
       "display": "",
       "max_width": "300px",
       "min_width": "100px",
       "visibility": "visible"
      }
     },
     "8d7b23732ad444bbbfe8f8e1a7bba092": {
      "model_module": "jupyter-js-widgets",
      "model_module_version": "~2.1.4",
      "model_name": "HTMLModel",
      "state": {
       "_model_module_version": "~2.1.4",
       "_view_module_version": "~2.1.4",
       "layout": "IPY_MODEL_dc1dc312176f469f9a182e20b962faf1",
       "value": "<h1>regression options</h1>"
      }
     },
     "8e801f0f19254c1785bca4f48ec1014c": {
      "model_module": "jupyter-js-widgets",
      "model_module_version": "~2.1.4",
      "model_name": "LayoutModel",
      "state": {
       "_model_module_version": "~2.1.4",
       "_view_module_version": "~2.1.4",
       "display": "",
       "min_width": "100px",
       "visibility": "visible"
      }
     },
     "8e944de86cbe4013a614222efefd8573": {
      "model_module": "jupyter-js-widgets",
      "model_module_version": "~2.1.4",
      "model_name": "CheckboxModel",
      "state": {
       "_model_module_version": "~2.1.4",
       "_view_module_version": "~2.1.4",
       "description": "Grid",
       "disabled": false,
       "layout": "IPY_MODEL_2b0039c47c6d43fcaa7f67afc945b545",
       "value": true
      }
     },
     "8fab502536f3411884f8cefad8707da8": {
      "model_module": "jupyter-js-widgets",
      "model_module_version": "~2.1.4",
      "model_name": "FloatSliderModel",
      "state": {
       "_model_module_version": "~2.1.4",
       "_view_module_version": "~2.1.4",
       "description": "Bw",
       "layout": "IPY_MODEL_884a3a20f6c54145b86065e31d4f9d69",
       "max": 10,
       "min": 0.001,
       "step": 0.05,
       "value": 0.5
      }
     },
     "900193a066024925a3d6764b13b94c41": {
      "model_module": "jupyter-js-widgets",
      "model_module_version": "~2.1.4",
      "model_name": "HTMLModel",
      "state": {
       "_model_module_version": "~2.1.4",
       "_view_module_version": "~2.1.4",
       "layout": "IPY_MODEL_e381fdec29b944deab9c345124f4dc96",
       "value": "<h1>exploratory plots</h1>"
      }
     },
     "907962c5046d4a15a2ec35d755e6b022": {
      "model_module": "jupyter-js-widgets",
      "model_module_version": "~2.1.4",
      "model_name": "ToggleButtonModel",
      "state": {
       "_model_module_version": "~2.1.4",
       "_view_module_version": "~2.1.4",
       "layout": "IPY_MODEL_478d1ba7098e4e478160724ea612eb24",
       "value": true
      }
     },
     "916b92e48f254a20af0e221b9507f880": {
      "model_module": "jupyter-js-widgets",
      "model_module_version": "~2.1.4",
      "model_name": "CheckboxModel",
      "state": {
       "_model_module_version": "~2.1.4",
       "_view_module_version": "~2.1.4",
       "description": "percents",
       "disabled": false,
       "layout": "IPY_MODEL_6f4512fadf6e4532b0cff4cb0bc5006c",
       "value": false
      }
     },
     "93d036b34fa04031963f75ba6ffa37b4": {
      "model_module": "jupyter-js-widgets",
      "model_module_version": "~2.1.4",
      "model_name": "SliderStyleModel",
      "state": {
       "_model_module_version": "~2.1.4",
       "_view_module_version": "~2.1.4"
      }
     },
     "94bf7bffac9b4135a88076cbc8bba19f": {
      "model_module": "jupyter-js-widgets",
      "model_module_version": "~2.1.4",
      "model_name": "LayoutModel",
      "state": {
       "_model_module_version": "~2.1.4",
       "_view_module_version": "~2.1.4",
       "display": "",
       "max_width": "300px",
       "min_width": "100px",
       "visibility": "visible"
      }
     },
     "94ccff31d0944d57b6f68e3dc3c750b7": {
      "model_module": "jupyter-js-widgets",
      "model_module_version": "~2.1.4",
      "model_name": "LayoutModel",
      "state": {
       "_model_module_version": "~2.1.4",
       "_view_module_version": "~2.1.4",
       "display": "",
       "min_width": "100px",
       "visibility": "visible"
      }
     },
     "971f1d7b2b4c4a719e92f9fae2be2fd5": {
      "model_module": "jupyter-js-widgets",
      "model_module_version": "~2.1.4",
      "model_name": "SliderStyleModel",
      "state": {
       "_model_module_version": "~2.1.4",
       "_view_module_version": "~2.1.4"
      }
     },
     "9745166d9410439b81204ae235703b3e": {
      "model_module": "jupyter-js-widgets",
      "model_module_version": "~2.1.4",
      "model_name": "SliderStyleModel",
      "state": {
       "_model_module_version": "~2.1.4",
       "_view_module_version": "~2.1.4"
      }
     },
     "97b7609ff8b5459fb288b20ab6b4096c": {
      "model_module": "jupyter-js-widgets",
      "model_module_version": "~2.1.4",
      "model_name": "LayoutModel",
      "state": {
       "_model_module_version": "~2.1.4",
       "_view_module_version": "~2.1.4",
       "display": "",
       "max_width": "300px",
       "min_width": "100px",
       "visibility": "visible"
      }
     },
     "98d94a05b34a467ea87b51a99c903eb5": {
      "model_module": "jupyter-js-widgets",
      "model_module_version": "~2.1.4",
      "model_name": "IntSliderModel",
      "state": {
       "_model_module_version": "~2.1.4",
       "_view_module_version": "~2.1.4",
       "layout": "IPY_MODEL_df4b8792f06f4ff9bfe553db7874e0b7",
       "min": 1,
       "style": "IPY_MODEL_cb21da83f9eb479ba81045bd3a530bc4",
       "value": 95
      }
     },
     "98fe96fa53d844e798a699357f6954db": {
      "model_module": "jupyter-js-widgets",
      "model_module_version": "~2.1.4",
      "model_name": "AccordionModel",
      "state": {
       "_model_module_version": "~2.1.4",
       "_titles": {
        "0": "General",
        "1": "Histogram",
        "2": "Scatter",
        "3": "KDE",
        "4": "Regression"
       },
       "_view_module_version": "~2.1.4",
       "children": [
        "IPY_MODEL_353981a50d634c6fbef659fcbee37d42",
        "IPY_MODEL_d1d6ffe9e6914e9eb1687ebcb9076b18",
        "IPY_MODEL_ec01588e6ffe44e092bbfba207621ae0",
        "IPY_MODEL_cfc729f36b1245d6974cd151298a6a38",
        "IPY_MODEL_60120b6e6f5a4d9b8e7cae6978987ba9"
       ],
       "layout": "IPY_MODEL_2763f8b4a4964d66890b141efad76aa7"
      }
     },
     "99a8669ef1bd4844b1b3979abb40099a": {
      "model_module": "jupyter-js-widgets",
      "model_module_version": "~2.1.4",
      "model_name": "LayoutModel",
      "state": {
       "_model_module_version": "~2.1.4",
       "_view_module_version": "~2.1.4",
       "display": "",
       "max_width": "300px",
       "min_width": "100px",
       "visibility": "visible"
      }
     },
     "99f486b71a9a4125b2fd0a46304d1a12": {
      "model_module": "jupyter-js-widgets",
      "model_module_version": "~2.1.4",
      "model_name": "LayoutModel",
      "state": {
       "_model_module_version": "~2.1.4",
       "_view_module_version": "~2.1.4",
       "display": "",
       "min_width": "100px",
       "visibility": "visible"
      }
     },
     "9a65f01de612453a8c2e43c60e0223ac": {
      "model_module": "jupyter-js-widgets",
      "model_module_version": "~2.1.4",
      "model_name": "DropdownModel",
      "state": {
       "_model_module_version": "~2.1.4",
       "_options_labels": [
        "ALL",
        "I",
        "II",
        "III",
        "IV"
       ],
       "_view_module_version": "~2.1.4",
       "description": "Dataset",
       "layout": "IPY_MODEL_04a5fbecd89c4766a12463a13e6bb52a",
       "value": "ALL"
      }
     },
     "9c3f5959d764423eb9b0932e6ff276db": {
      "model_module": "jupyter-js-widgets",
      "model_module_version": "~2.1.4",
      "model_name": "LayoutModel",
      "state": {
       "_model_module_version": "~2.1.4",
       "_view_module_version": "~2.1.4",
       "display": "",
       "max_width": "300px",
       "min_width": "100px",
       "visibility": "visible"
      }
     },
     "9c4c1f49dd1b40cdb93f8e533b81b69d": {
      "model_module": "jupyter-js-widgets",
      "model_module_version": "~2.1.4",
      "model_name": "LayoutModel",
      "state": {
       "_model_module_version": "~2.1.4",
       "_view_module_version": "~2.1.4"
      }
     },
     "9dcf08af36f049a4978ac99c483f40f7": {
      "model_module": "jupyter-js-widgets",
      "model_module_version": "~2.1.4",
      "model_name": "SliderStyleModel",
      "state": {
       "_model_module_version": "~2.1.4",
       "_view_module_version": "~2.1.4"
      }
     },
     "9ddf8f19daf84a9a8f34f613ab5b4ed8": {
      "model_module": "jupyter-js-widgets",
      "model_module_version": "~2.1.4",
      "model_name": "LayoutModel",
      "state": {
       "_model_module_version": "~2.1.4",
       "_view_module_version": "~2.1.4",
       "display": "",
       "max_width": "300px",
       "min_width": "100px",
       "visibility": "visible"
      }
     },
     "a044fb99891d4f378f500b83b3cf4871": {
      "model_module": "jupyter-js-widgets",
      "model_module_version": "~2.1.4",
      "model_name": "LayoutModel",
      "state": {
       "_model_module_version": "~2.1.4",
       "_view_module_version": "~2.1.4",
       "display": "",
       "max_width": "300px",
       "min_width": "100px",
       "visibility": "visible"
      }
     },
     "a0583436ef76406da76d363a92a9197b": {
      "model_module": "jupyter-js-widgets",
      "model_module_version": "~2.1.4",
      "model_name": "LayoutModel",
      "state": {
       "_model_module_version": "~2.1.4",
       "_view_module_version": "~2.1.4",
       "display": "",
       "max_width": "300px",
       "min_width": "100px",
       "visibility": "visible"
      }
     },
     "a447f14023fb470b807870802e79eff9": {
      "model_module": "jupyter-js-widgets",
      "model_module_version": "~2.1.4",
      "model_name": "LayoutModel",
      "state": {
       "_model_module_version": "~2.1.4",
       "_view_module_version": "~2.1.4",
       "display": "",
       "min_width": "100px",
       "visibility": "visible"
      }
     },
     "a466972e3a15454c893cf6b0bdced690": {
      "model_module": "jupyter-js-widgets",
      "model_module_version": "~2.1.4",
      "model_name": "CheckboxModel",
      "state": {
       "_model_module_version": "~2.1.4",
       "_view_module_version": "~2.1.4",
       "description": "Regression",
       "disabled": false,
       "layout": "IPY_MODEL_e4668796013e435da03e22f278745a10",
       "value": true
      }
     },
     "a591c58baee449f3b25c40e36ec02f08": {
      "model_module": "jupyter-js-widgets",
      "model_module_version": "~2.1.4",
      "model_name": "LayoutModel",
      "state": {
       "_model_module_version": "~2.1.4",
       "_view_module_version": "~2.1.4",
       "display": "",
       "min_width": "100px",
       "visibility": "visible"
      }
     },
     "a5f113819636451bad1eead97961a138": {
      "model_module": "jupyter-js-widgets",
      "model_module_version": "~2.1.4",
      "model_name": "LayoutModel",
      "state": {
       "_model_module_version": "~2.1.4",
       "_view_module_version": "~2.1.4",
       "display": "",
       "max_width": "300px",
       "min_width": "100px",
       "visibility": "visible"
      }
     },
     "a7eb2f4019d74f1a81d6b237e3d5a2d8": {
      "model_module": "jupyter-js-widgets",
      "model_module_version": "~2.1.4",
      "model_name": "HBoxModel",
      "state": {
       "_model_module_version": "~2.1.4",
       "_view_module_version": "~2.1.4",
       "children": [
        "IPY_MODEL_d2180ce753024f559a16b2b2ebe418d0",
        "IPY_MODEL_14931f51953c415b864ed876b6473212",
        "IPY_MODEL_4ffdf5d4c36e4ec7bd406bf0123704d9"
       ],
       "layout": "IPY_MODEL_79cf08940d724485a07b7df87053cad0"
      }
     },
     "a926ca70b1f441edaf96d05cadbde91e": {
      "model_module": "jupyter-js-widgets",
      "model_module_version": "~2.1.4",
      "model_name": "TextModel",
      "state": {
       "_model_module_version": "~2.1.4",
       "_view_module_version": "~2.1.4",
       "description": "Distribution",
       "layout": "IPY_MODEL_ba9e6d7bea5e496d8b4b12ce5e6a6b6f",
       "value": "normal"
      }
     },
     "a9a4e0ee8a934b0091776fb9d1c98faa": {
      "model_module": "jupyter-js-widgets",
      "model_module_version": "~2.1.4",
      "model_name": "IntSliderModel",
      "state": {
       "_model_module_version": "~2.1.4",
       "_view_module_version": "~2.1.4",
       "layout": "IPY_MODEL_8588c3dc906147bdac7ada3b283afe77",
       "min": 1,
       "style": "IPY_MODEL_84cb60a84be64674b91a597c384f2e89",
       "value": 95
      }
     },
     "aa2dc3b0d6774f5ba6d93bc626609fc9": {
      "model_module": "jupyter-js-widgets",
      "model_module_version": "~2.1.4",
      "model_name": "CheckboxModel",
      "state": {
       "_model_module_version": "~2.1.4",
       "_view_module_version": "~2.1.4",
       "disabled": false,
       "layout": "IPY_MODEL_73092c3cb29f4f319ffea4b8a196cf68",
       "value": true
      }
     },
     "aa5d6fb6edac4f69bd9a420cf65152d3": {
      "model_module": "jupyter-js-widgets",
      "model_module_version": "~2.1.4",
      "model_name": "LayoutModel",
      "state": {
       "_model_module_version": "~2.1.4",
       "_view_module_version": "~2.1.4",
       "display": "",
       "min_width": "100px",
       "visibility": "visible"
      }
     },
     "aadc16a54c0241f7b67a51b519a69792": {
      "model_module": "jupyter-js-widgets",
      "model_module_version": "~2.1.4",
      "model_name": "VBoxModel",
      "state": {
       "_model_module_version": "~2.1.4",
       "_view_module_version": "~2.1.4",
       "children": [
        "IPY_MODEL_ec73f0a168564734bf88f6ed7b868782",
        "IPY_MODEL_0fb02b344cb44d868c55254df4e8f32a",
        "IPY_MODEL_82f0429cd16745769b2d1f7f22f938cf",
        "IPY_MODEL_a466972e3a15454c893cf6b0bdced690"
       ],
       "layout": "IPY_MODEL_59bfd7a0d9794e4f9b6c24f310fca4e6"
      }
     },
     "aaf8c5ac67654432b206b8529945fbaf": {
      "model_module": "jupyter-js-widgets",
      "model_module_version": "~2.1.4",
      "model_name": "LayoutModel",
      "state": {
       "_model_module_version": "~2.1.4",
       "_view_module_version": "~2.1.4",
       "display": "",
       "max_width": "300px",
       "min_width": "100px",
       "visibility": "visible"
      }
     },
     "adcc8b305e5c47a3827d5baf78fc91f4": {
      "model_module": "jupyter-js-widgets",
      "model_module_version": "~2.1.4",
      "model_name": "DropdownModel",
      "state": {
       "_model_module_version": "~2.1.4",
       "_options_labels": [
        "Hello",
        "World"
       ],
       "_view_module_version": "~2.1.4",
       "description": "Dropdown",
       "layout": "IPY_MODEL_178b70c3944c4978aabcd0278d96a7a3",
       "value": "Hello"
      }
     },
     "af4015dd86254ffab33f82f474a9cdcc": {
      "model_module": "jupyter-js-widgets",
      "model_module_version": "~2.1.4",
      "model_name": "CheckboxModel",
      "state": {
       "_model_module_version": "~2.1.4",
       "_view_module_version": "~2.1.4",
       "description": "Scatter",
       "disabled": false,
       "layout": "IPY_MODEL_eaa91e31009f4dfa9b9aaad7bb7fc96e",
       "value": true
      }
     },
     "afd57e7e37e14eb2bef2e0ff8aa2b3f6": {
      "model_module": "jupyter-js-widgets",
      "model_module_version": "~2.1.4",
      "model_name": "CheckboxModel",
      "state": {
       "_model_module_version": "~2.1.4",
       "_view_module_version": "~2.1.4",
       "description": "Std",
       "disabled": false,
       "layout": "IPY_MODEL_bd2d7781fe184bf081efc0e213eeb301",
       "value": false
      }
     },
     "b08a838161f3492599e0e1b0cec8031c": {
      "model_module": "jupyter-js-widgets",
      "model_module_version": "~2.1.4",
      "model_name": "LayoutModel",
      "state": {
       "_model_module_version": "~2.1.4",
       "_view_module_version": "~2.1.4",
       "display": "",
       "min_width": "100px",
       "visibility": "visible"
      }
     },
     "b15051d24b4247e48abd3efe3ad20225": {
      "model_module": "jupyter-js-widgets",
      "model_module_version": "~2.1.4",
      "model_name": "LayoutModel",
      "state": {
       "_model_module_version": "~2.1.4",
       "_view_module_version": "~2.1.4",
       "display": "",
       "min_width": "100px",
       "visibility": "visible"
      }
     },
     "b36c5035021348a5959bcdf746006bf9": {
      "model_module": "jupyter-js-widgets",
      "model_module_version": "~2.1.4",
      "model_name": "LayoutModel",
      "state": {
       "_model_module_version": "~2.1.4",
       "_view_module_version": "~2.1.4",
       "display": "",
       "min_width": "100px",
       "visibility": "visible"
      }
     },
     "b40b82bcef144d80b1772bc5103ede0c": {
      "model_module": "jupyter-js-widgets",
      "model_module_version": "~2.1.4",
      "model_name": "CheckboxModel",
      "state": {
       "_model_module_version": "~2.1.4",
       "_view_module_version": "~2.1.4",
       "description": "link_bins",
       "disabled": false,
       "layout": "IPY_MODEL_205a0693798b4c89bf92978e9c2e3ba5",
       "value": true
      }
     },
     "b4aaca0946b443eaa40c406ad0dc52f0": {
      "model_module": "jupyter-js-widgets",
      "model_module_version": "~2.1.4",
      "model_name": "LayoutModel",
      "state": {
       "_model_module_version": "~2.1.4",
       "_view_module_version": "~2.1.4",
       "display": "",
       "min_width": "100px",
       "visibility": "visible"
      }
     },
     "b4e5034b9e724766a5d298438b114ec9": {
      "model_module": "jupyter-js-widgets",
      "model_module_version": "~2.1.4",
      "model_name": "LayoutModel",
      "state": {
       "_model_module_version": "~2.1.4",
       "_view_module_version": "~2.1.4"
      }
     },
     "b5c92697094749a9a98ce2b129d05581": {
      "model_module": "jupyter-js-widgets",
      "model_module_version": "~2.1.4",
      "model_name": "CheckboxModel",
      "state": {
       "_model_module_version": "~2.1.4",
       "_view_module_version": "~2.1.4",
       "description": "Std",
       "disabled": false,
       "layout": "IPY_MODEL_bc51fded5a27486cb3290327db295815",
       "value": false
      }
     },
     "b88db0b82dca4b29bdea1c3f7344301d": {
      "model_module": "jupyter-js-widgets",
      "model_module_version": "~2.1.4",
      "model_name": "DropdownModel",
      "state": {
       "_model_module_version": "~2.1.4",
       "_options_labels": [
        "dataset",
        "x",
        "y"
       ],
       "_view_module_version": "~2.1.4",
       "description": "X column",
       "layout": "IPY_MODEL_0346674140af490aa7b910a042a7cbe7",
       "value": "dataset"
      }
     },
     "b8d59f6d25104e0caeadcf72fa5d2054": {
      "model_module": "jupyter-js-widgets",
      "model_module_version": "~2.1.4",
      "model_name": "LayoutModel",
      "state": {
       "_model_module_version": "~2.1.4",
       "_view_module_version": "~2.1.4",
       "display": "",
       "max_width": "300px",
       "min_width": "100px",
       "visibility": "visible"
      }
     },
     "b929a8170bec4f3ca6ffd8415146e93e": {
      "model_module": "jupyter-js-widgets",
      "model_module_version": "~2.1.4",
      "model_name": "VBoxModel",
      "state": {
       "_model_module_version": "~2.1.4",
       "_view_module_version": "~2.1.4",
       "children": [
        "IPY_MODEL_4e0493c6e89d4c54a0f5d13fc66a53a0",
        "IPY_MODEL_58296bf798a346dd9d009d27fdfd30bb"
       ],
       "layout": "IPY_MODEL_d9b9f0efd0ea4b45973210df898e40bf"
      }
     },
     "b964f465109349f7a9f624ca632379e8": {
      "model_module": "jupyter-js-widgets",
      "model_module_version": "~2.1.4",
      "model_name": "LayoutModel",
      "state": {
       "_model_module_version": "~2.1.4",
       "_view_module_version": "~2.1.4",
       "display": "",
       "max_width": "300px",
       "min_width": "100px",
       "visibility": "visible"
      }
     },
     "ba9e6d7bea5e496d8b4b12ce5e6a6b6f": {
      "model_module": "jupyter-js-widgets",
      "model_module_version": "~2.1.4",
      "model_name": "LayoutModel",
      "state": {
       "_model_module_version": "~2.1.4",
       "_view_module_version": "~2.1.4",
       "display": "",
       "max_width": "300px",
       "min_width": "100px",
       "visibility": "visible"
      }
     },
     "baf9055b0d2a4cdbb8db1a397033d1f1": {
      "model_module": "jupyter-js-widgets",
      "model_module_version": "~2.1.4",
      "model_name": "ToggleButtonModel",
      "state": {
       "_model_module_version": "~2.1.4",
       "_view_module_version": "~2.1.4",
       "description": "Plot Scatter",
       "layout": "IPY_MODEL_8259dba137ae4f84bb4328a800b61b67",
       "value": true
      }
     },
     "bbb018b9e4b44d848bc5785a7d0e47d4": {
      "model_module": "jupyter-js-widgets",
      "model_module_version": "~2.1.4",
      "model_name": "IntSliderModel",
      "state": {
       "_model_module_version": "~2.1.4",
       "_view_module_version": "~2.1.4",
       "layout": "IPY_MODEL_0fd8ee10e2e34d8c87ba716fc78c2d2d",
       "max": 10,
       "min": 1,
       "style": "IPY_MODEL_9745166d9410439b81204ae235703b3e",
       "value": 1
      }
     },
     "bc51fded5a27486cb3290327db295815": {
      "model_module": "jupyter-js-widgets",
      "model_module_version": "~2.1.4",
      "model_name": "LayoutModel",
      "state": {
       "_model_module_version": "~2.1.4",
       "_view_module_version": "~2.1.4",
       "display": "",
       "max_width": "300px",
       "min_width": "100px",
       "visibility": "visible"
      }
     },
     "bc58ab519ce041bf8bed19d2ca583215": {
      "model_module": "jupyter-js-widgets",
      "model_module_version": "~2.1.4",
      "model_name": "LayoutModel",
      "state": {
       "_model_module_version": "~2.1.4",
       "_view_module_version": "~2.1.4",
       "display": "",
       "max_width": "300px",
       "min_width": "100px",
       "visibility": "visible"
      }
     },
     "bd2d7781fe184bf081efc0e213eeb301": {
      "model_module": "jupyter-js-widgets",
      "model_module_version": "~2.1.4",
      "model_name": "LayoutModel",
      "state": {
       "_model_module_version": "~2.1.4",
       "_view_module_version": "~2.1.4",
       "display": "",
       "max_width": "300px",
       "min_width": "100px",
       "visibility": "visible"
      }
     },
     "bd8e36caf03940d49f2f2254acf104e3": {
      "model_module": "jupyter-js-widgets",
      "model_module_version": "~2.1.4",
      "model_name": "CheckboxModel",
      "state": {
       "_model_module_version": "~2.1.4",
       "_view_module_version": "~2.1.4",
       "disabled": false,
       "layout": "IPY_MODEL_025d58f27cae4bc2adc8f416dfae16f1",
       "value": true
      }
     },
     "be22312d77fa42a1b07e2850750c0f0a": {
      "model_module": "jupyter-js-widgets",
      "model_module_version": "~2.1.4",
      "model_name": "VBoxModel",
      "state": {
       "_model_module_version": "~2.1.4",
       "_view_module_version": "~2.1.4",
       "children": [
        "IPY_MODEL_900193a066024925a3d6764b13b94c41",
        "IPY_MODEL_43dafdd4177941e893b7150f7a863f58",
        "IPY_MODEL_84ccf3d580264e84a29ebf6f56eb15b0",
        "IPY_MODEL_5391bd126089444d9228b91ef27fd6d4",
        "IPY_MODEL_0aeb71aaf1354f119dca4e1b4a56dd93"
       ],
       "layout": "IPY_MODEL_ebc62713120e429d8cdba9c85af47098"
      }
     },
     "bf06eeec5d5247798cb52319c78c338b": {
      "model_module": "jupyter-js-widgets",
      "model_module_version": "~2.1.4",
      "model_name": "LayoutModel",
      "state": {
       "_model_module_version": "~2.1.4",
       "_view_module_version": "~2.1.4",
       "display": "",
       "min_width": "100px",
       "visibility": "visible"
      }
     },
     "bf2b3fd69ced44cba70b9c6db206ff94": {
      "model_module": "jupyter-js-widgets",
      "model_module_version": "~2.1.4",
      "model_name": "HBoxModel",
      "state": {
       "_model_module_version": "~2.1.4",
       "_view_module_version": "~2.1.4",
       "children": [
        "IPY_MODEL_595d5432882c467bb91adc4b19076cbd"
       ],
       "layout": "IPY_MODEL_aa5d6fb6edac4f69bd9a420cf65152d3"
      }
     },
     "bfa9e87a53ee46f48bf06844d0f2f318": {
      "model_module": "jupyter-js-widgets",
      "model_module_version": "~2.1.4",
      "model_name": "LayoutModel",
      "state": {
       "_model_module_version": "~2.1.4",
       "_view_module_version": "~2.1.4",
       "display": "",
       "min_width": "100px",
       "visibility": "visible"
      }
     },
     "c08020e447a14da381f13a566ad0ff3c": {
      "model_module": "jupyter-js-widgets",
      "model_module_version": "~2.1.4",
      "model_name": "LayoutModel",
      "state": {
       "_model_module_version": "~2.1.4",
       "_view_module_version": "~2.1.4",
       "display": "",
       "max_width": "300px",
       "min_width": "100px",
       "visibility": "visible"
      }
     },
     "c08e994f7f4b4fb18c5943aad9689527": {
      "model_module": "jupyter-js-widgets",
      "model_module_version": "~2.1.4",
      "model_name": "LayoutModel",
      "state": {
       "_model_module_version": "~2.1.4",
       "_view_module_version": "~2.1.4",
       "display": "",
       "max_width": "300px",
       "min_width": "100px",
       "visibility": "visible"
      }
     },
     "c0f2f09fa75d4b4ebd12aac3980e3f51": {
      "model_module": "jupyter-js-widgets",
      "model_module_version": "~2.1.4",
      "model_name": "DropdownModel",
      "state": {
       "_model_module_version": "~2.1.4",
       "_options_labels": [
        "ALL",
        "I",
        "II",
        "III",
        "IV"
       ],
       "_view_module_version": "~2.1.4",
       "description": "Dataset",
       "layout": "IPY_MODEL_e33b90abacbc4fccbb89d4e5c5760acf",
       "value": "ALL"
      }
     },
     "c0f8e003d90d422e98c99008de92c0c4": {
      "model_module": "jupyter-js-widgets",
      "model_module_version": "~2.1.4",
      "model_name": "ToggleButtonModel",
      "state": {
       "_model_module_version": "~2.1.4",
       "_view_module_version": "~2.1.4",
       "layout": "IPY_MODEL_369d7f72dec74ccc9deb330a9f4c2313",
       "value": true
      }
     },
     "c25eb383ea934abf980a3851b5373b27": {
      "model_module": "jupyter-js-widgets",
      "model_module_version": "~2.1.4",
      "model_name": "LayoutModel",
      "state": {
       "_model_module_version": "~2.1.4",
       "_view_module_version": "~2.1.4",
       "display": "",
       "min_width": "100px",
       "visibility": "visible"
      }
     },
     "c2635cfa63db4dfeb5c47aaa4918974b": {
      "model_module": "jupyter-js-widgets",
      "model_module_version": "~2.1.4",
      "model_name": "DropdownModel",
      "state": {
       "_model_module_version": "~2.1.4",
       "_options_labels": [
        "None",
        "Histogram",
        "KDE",
        "Both"
       ],
       "_view_module_version": "~2.1.4",
       "description": "Marginals",
       "layout": "IPY_MODEL_cbe849b666b04bf8a72da41a6af45ca1",
       "value": "Both"
      }
     },
     "c4682602e26b4c018917293ba56fccbb": {
      "model_module": "jupyter-js-widgets",
      "model_module_version": "~2.1.4",
      "model_name": "SliderStyleModel",
      "state": {
       "_model_module_version": "~2.1.4",
       "_view_module_version": "~2.1.4"
      }
     },
     "c491fdfec99243aaa36f46b24245121e": {
      "model_module": "jupyter-js-widgets",
      "model_module_version": "~2.1.4",
      "model_name": "LayoutModel",
      "state": {
       "_model_module_version": "~2.1.4",
       "_view_module_version": "~2.1.4",
       "display": "",
       "max_width": "300px",
       "min_width": "100px",
       "visibility": "visible"
      }
     },
     "c56f52f99fae42f599861014060ac22d": {
      "model_module": "jupyter-js-widgets",
      "model_module_version": "~2.1.4",
      "model_name": "LayoutModel",
      "state": {
       "_model_module_version": "~2.1.4",
       "_view_module_version": "~2.1.4",
       "display": "",
       "max_width": "300px",
       "min_width": "100px",
       "visibility": "visible"
      }
     },
     "c77c68e58b6d4c168a7ea3d1f32e9cca": {
      "model_module": "jupyter-js-widgets",
      "model_module_version": "~2.1.4",
      "model_name": "LayoutModel",
      "state": {
       "_model_module_version": "~2.1.4",
       "_view_module_version": "~2.1.4",
       "display": "",
       "max_width": "300px",
       "min_width": "100px",
       "visibility": "visible"
      }
     },
     "c784d407d48c41fc8e40fa8608cb70c2": {
      "model_module": "jupyter-js-widgets",
      "model_module_version": "~2.1.4",
      "model_name": "IntSliderModel",
      "state": {
       "_model_module_version": "~2.1.4",
       "_view_module_version": "~2.1.4",
       "layout": "IPY_MODEL_66c2382bf16149d7b2fa616bb70d444c",
       "max": 10,
       "min": 1,
       "style": "IPY_MODEL_2ed646f760fa43419c0da223661a2f82",
       "value": 1
      }
     },
     "c7c99cc08eb84a0ba86c6905665fda42": {
      "model_module": "jupyter-js-widgets",
      "model_module_version": "~2.1.4",
      "model_name": "DropdownModel",
      "state": {
       "_model_module_version": "~2.1.4",
       "_options_labels": [
        "ALL",
        "I",
        "II",
        "III",
        "IV"
       ],
       "_view_module_version": "~2.1.4",
       "layout": "IPY_MODEL_539bb701d7e94714a2c71a24aac24a9c",
       "value": "ALL"
      }
     },
     "c7e919eed3ca4d9b81fe97ba2f69c128": {
      "model_module": "jupyter-js-widgets",
      "model_module_version": "~2.1.4",
      "model_name": "CheckboxModel",
      "state": {
       "_model_module_version": "~2.1.4",
       "_view_module_version": "~2.1.4",
       "description": "Hist",
       "disabled": false,
       "layout": "IPY_MODEL_11fad1e8f5fe4c57bb7582401eef5a2f",
       "value": true
      }
     },
     "c91a3af21f2e4180b1afe61f5de13b75": {
      "model_module": "jupyter-js-widgets",
      "model_module_version": "~2.1.4",
      "model_name": "HBoxModel",
      "state": {
       "_model_module_version": "~2.1.4",
       "_view_module_version": "~2.1.4",
       "children": [
        "IPY_MODEL_30bcc2587c2d4a839450eabf8c613a16",
        "IPY_MODEL_cdb38921dc1f4f80a37f9f2236367d40"
       ],
       "layout": "IPY_MODEL_e74fa2d04ecc4ebfa9d3c6881b041546"
      }
     },
     "ca068304cc8643cea08907b28e8facc2": {
      "model_module": "jupyter-js-widgets",
      "model_module_version": "~2.1.4",
      "model_name": "HBoxModel",
      "state": {
       "_model_module_version": "~2.1.4",
       "_view_module_version": "~2.1.4",
       "children": [
        "IPY_MODEL_2d2c51fd570b4cc69aef1b777b9ecb48",
        "IPY_MODEL_f4872eff92b64c4c86a102711161e495"
       ],
       "layout": "IPY_MODEL_515af41ef15e4cd9a245e912f3a816a6"
      }
     },
     "ca5c8f5a22144e13b74bddd3f63d3c96": {
      "model_module": "jupyter-js-widgets",
      "model_module_version": "~2.1.4",
      "model_name": "CheckboxModel",
      "state": {
       "_model_module_version": "~2.1.4",
       "_view_module_version": "~2.1.4",
       "description": "Normed",
       "disabled": false,
       "layout": "IPY_MODEL_4ec72de0fd6e4c039d82a2ae46eb1ac7",
       "value": false
      }
     },
     "cb21da83f9eb479ba81045bd3a530bc4": {
      "model_module": "jupyter-js-widgets",
      "model_module_version": "~2.1.4",
      "model_name": "SliderStyleModel",
      "state": {
       "_model_module_version": "~2.1.4",
       "_view_module_version": "~2.1.4"
      }
     },
     "cbc9cb0e9cd94616aecd73adbefb32f0": {
      "model_module": "jupyter-js-widgets",
      "model_module_version": "~2.1.4",
      "model_name": "LayoutModel",
      "state": {
       "_model_module_version": "~2.1.4",
       "_view_module_version": "~2.1.4",
       "display": "",
       "max_width": "300px",
       "min_width": "100px",
       "visibility": "visible"
      }
     },
     "cbe849b666b04bf8a72da41a6af45ca1": {
      "model_module": "jupyter-js-widgets",
      "model_module_version": "~2.1.4",
      "model_name": "LayoutModel",
      "state": {
       "_model_module_version": "~2.1.4",
       "_view_module_version": "~2.1.4",
       "display": "",
       "max_width": "300px",
       "min_width": "100px",
       "visibility": "visible"
      }
     },
     "cbfe4200cbbb447dae3b41657f1589bb": {
      "model_module": "jupyter-js-widgets",
      "model_module_version": "~2.1.4",
      "model_name": "LayoutModel",
      "state": {
       "_model_module_version": "~2.1.4",
       "_view_module_version": "~2.1.4"
      }
     },
     "cc9cfd3f64c14dc683f94628aac29cc0": {
      "model_module": "jupyter-js-widgets",
      "model_module_version": "~2.1.4",
      "model_name": "LayoutModel",
      "state": {
       "_model_module_version": "~2.1.4",
       "_view_module_version": "~2.1.4",
       "display": "",
       "max_width": "300px",
       "min_width": "100px",
       "visibility": "visible"
      }
     },
     "cd9b686cc45b4e01835fc54f4eda38ef": {
      "model_module": "jupyter-js-widgets",
      "model_module_version": "~2.1.4",
      "model_name": "SliderStyleModel",
      "state": {
       "_model_module_version": "~2.1.4",
       "_view_module_version": "~2.1.4"
      }
     },
     "cdb38921dc1f4f80a37f9f2236367d40": {
      "model_module": "jupyter-js-widgets",
      "model_module_version": "~2.1.4",
      "model_name": "CheckboxModel",
      "state": {
       "_model_module_version": "~2.1.4",
       "_view_module_version": "~2.1.4",
       "description": "Percents",
       "disabled": false,
       "layout": "IPY_MODEL_30a354b72025480f9212ec7a1d22326b",
       "value": false
      }
     },
     "ced5b655c8244af98a4c3e5b1aece4aa": {
      "model_module": "jupyter-js-widgets",
      "model_module_version": "~2.1.4",
      "model_name": "IntSliderModel",
      "state": {
       "_model_module_version": "~2.1.4",
       "_view_module_version": "~2.1.4",
       "description": "Bins",
       "layout": "IPY_MODEL_cfddc8903b2547b787b837a92ca99d24",
       "min": 1,
       "step": 2,
       "style": "IPY_MODEL_d9b07fae01e046279a8259b30f93c42e",
       "value": 50
      }
     },
     "cf1026442dc4469d891caf4a9c21f3cf": {
      "model_module": "jupyter-js-widgets",
      "model_module_version": "~2.1.4",
      "model_name": "FloatSliderModel",
      "state": {
       "_model_module_version": "~2.1.4",
       "_view_module_version": "~2.1.4",
       "description": "bw",
       "layout": "IPY_MODEL_8a2f18e60f204f3cac03fefb7d5cd56e",
       "max": 0.54,
       "min": -0.18,
       "step": 0.1,
       "value": 0.18
      }
     },
     "cfc729f36b1245d6974cd151298a6a38": {
      "model_module": "jupyter-js-widgets",
      "model_module_version": "~2.1.4",
      "model_name": "VBoxModel",
      "state": {
       "_model_module_version": "~2.1.4",
       "_view_module_version": "~2.1.4",
       "children": [
        "IPY_MODEL_744e024dab9d4ec39f415d61758d83dd",
        "IPY_MODEL_f69ebbdfe9c5447abda63125fcb9522e",
        "IPY_MODEL_458931f384494931acb88f573f014383"
       ],
       "layout": "IPY_MODEL_0d4e16d425fc48158091d3e2ec170425"
      }
     },
     "cfddc8903b2547b787b837a92ca99d24": {
      "model_module": "jupyter-js-widgets",
      "model_module_version": "~2.1.4",
      "model_name": "LayoutModel",
      "state": {
       "_model_module_version": "~2.1.4",
       "_view_module_version": "~2.1.4",
       "display": "",
       "max_width": "300px",
       "min_width": "100px",
       "visibility": "visible"
      }
     },
     "d055ed8fbed24e469bfaa911f7d406f3": {
      "model_module": "jupyter-js-widgets",
      "model_module_version": "~2.1.4",
      "model_name": "IntSliderModel",
      "state": {
       "_model_module_version": "~2.1.4",
       "_view_module_version": "~2.1.4",
       "layout": "IPY_MODEL_bc58ab519ce041bf8bed19d2ca583215",
       "max": 40,
       "min": 1,
       "step": 2,
       "style": "IPY_MODEL_6f568058ef86462c8ae49dbb919cbcce",
       "value": 10
      }
     },
     "d0a5ac944b5848e48c2abe22bc3ed8ca": {
      "model_module": "jupyter-js-widgets",
      "model_module_version": "~2.1.4",
      "model_name": "IntSliderModel",
      "state": {
       "_model_module_version": "~2.1.4",
       "_view_module_version": "~2.1.4",
       "description": "Num xbins",
       "layout": "IPY_MODEL_1c0e21e8bf1f4ed09b2f6bd621174545",
       "max": 40,
       "min": 1,
       "step": 2,
       "style": "IPY_MODEL_f0bcb127d5e44aa2a0182e55c1850f37",
       "value": 10
      }
     },
     "d1287513be11478eafb4ce54175a76d6": {
      "model_module": "jupyter-js-widgets",
      "model_module_version": "~2.1.4",
      "model_name": "DropdownModel",
      "state": {
       "_model_module_version": "~2.1.4",
       "_options_labels": [
        "dataset",
        "x",
        "y"
       ],
       "_view_module_version": "~2.1.4",
       "description": "Y column",
       "layout": "IPY_MODEL_e80d197436454ee0b593037a866dc68d",
       "value": "y"
      }
     },
     "d1d6ffe9e6914e9eb1687ebcb9076b18": {
      "model_module": "jupyter-js-widgets",
      "model_module_version": "~2.1.4",
      "model_name": "VBoxModel",
      "state": {
       "_model_module_version": "~2.1.4",
       "_view_module_version": "~2.1.4",
       "children": [
        "IPY_MODEL_095856a9a0dd4a60a92de6b5df5724de",
        "IPY_MODEL_257278d0a08543b6954789de2ed0ca31",
        "IPY_MODEL_f11407cc843847719ef0af037b961536",
        "IPY_MODEL_b40b82bcef144d80b1772bc5103ede0c"
       ],
       "layout": "IPY_MODEL_35aa3543541a44d09f35f32daab538f5"
      }
     },
     "d2180ce753024f559a16b2b2ebe418d0": {
      "model_module": "jupyter-js-widgets",
      "model_module_version": "~2.1.4",
      "model_name": "VBoxModel",
      "state": {
       "_model_module_version": "~2.1.4",
       "_view_module_version": "~2.1.4",
       "children": [
        "IPY_MODEL_ca5c8f5a22144e13b74bddd3f63d3c96",
        "IPY_MODEL_45757c36708342a2aca9f227250fd1a9",
        "IPY_MODEL_e10a80cb586f4e7ab3ef8f8feb369fe7"
       ],
       "layout": "IPY_MODEL_01d9863f570c4ee4bf475257fd264457"
      }
     },
     "d3e1a5c6e1924ab390b8fc1b5e546130": {
      "model_module": "jupyter-js-widgets",
      "model_module_version": "~2.1.4",
      "model_name": "LayoutModel",
      "state": {
       "_model_module_version": "~2.1.4",
       "_view_module_version": "~2.1.4",
       "display": "",
       "max_width": "300px",
       "min_width": "100px",
       "visibility": "visible"
      }
     },
     "d412ee4356b14ae897f36ece046327b1": {
      "model_module": "jupyter-js-widgets",
      "model_module_version": "~2.1.4",
      "model_name": "LayoutModel",
      "state": {
       "_model_module_version": "~2.1.4",
       "_view_module_version": "~2.1.4",
       "display": "",
       "max_width": "300px",
       "min_width": "100px",
       "visibility": "visible"
      }
     },
     "d544e874719f44309d5ed1018191e1c3": {
      "model_module": "jupyter-js-widgets",
      "model_module_version": "~2.1.4",
      "model_name": "LayoutModel",
      "state": {
       "_model_module_version": "~2.1.4",
       "_view_module_version": "~2.1.4",
       "display": "",
       "max_width": "300px",
       "min_width": "100px",
       "visibility": "visible"
      }
     },
     "d61117c73daf44c4b76a5bba52f2b3c7": {
      "model_module": "jupyter-js-widgets",
      "model_module_version": "~2.1.4",
      "model_name": "LayoutModel",
      "state": {
       "_model_module_version": "~2.1.4",
       "_view_module_version": "~2.1.4",
       "display": "",
       "max_width": "300px",
       "min_width": "100px",
       "visibility": "visible"
      }
     },
     "d709b483f49148629a2aa59a5b29e283": {
      "model_module": "jupyter-js-widgets",
      "model_module_version": "~2.1.4",
      "model_name": "OutputModel",
      "state": {
       "_dom_classes": [],
       "_model_module": "jupyter-js-widgets",
       "_model_module_version": "~2.1.4",
       "_view_module": "jupyter-js-widgets",
       "_view_module_version": "~2.1.4",
       "layout": "IPY_MODEL_e05a0c588267489da6706c1a6b540209",
       "msg_throttle": 1
      }
     },
     "d7bf298b45b0421db1afce9bb4dc13ee": {
      "model_module": "jupyter-js-widgets",
      "model_module_version": "~2.1.4",
      "model_name": "VBoxModel",
      "state": {
       "_model_module_version": "~2.1.4",
       "_view_module_version": "~2.1.4",
       "children": [
        "IPY_MODEL_2ab88e4f5d6d45db9c905c05ee0961fc",
        "IPY_MODEL_060014fabad346db9922484806a8547c",
        "IPY_MODEL_1800bfe81fcc469dad3596efd2674fc2"
       ],
       "layout": "IPY_MODEL_6d6d6807b4934779af35078166e91460"
      }
     },
     "d834fc4560474b7993f5d780e9eba96a": {
      "model_module": "jupyter-js-widgets",
      "model_module_version": "~2.1.4",
      "model_name": "HBoxModel",
      "state": {
       "_model_module_version": "~2.1.4",
       "_view_module_version": "~2.1.4",
       "children": [
        "IPY_MODEL_67a8aa017e894c348c1a6009081f227a",
        "IPY_MODEL_2e97f893187948c3a64b76ebe278f777"
       ],
       "layout": "IPY_MODEL_8e801f0f19254c1785bca4f48ec1014c"
      }
     },
     "d87765c1a7834c67b6f8abb4b1106924": {
      "model_module": "jupyter-js-widgets",
      "model_module_version": "~2.1.4",
      "model_name": "LayoutModel",
      "state": {
       "_model_module_version": "~2.1.4",
       "_view_module_version": "~2.1.4",
       "display": "",
       "min_width": "100px",
       "visibility": "visible"
      }
     },
     "d93c1f2be14949efac87cdae15a676cd": {
      "model_module": "jupyter-js-widgets",
      "model_module_version": "~2.1.4",
      "model_name": "SliderStyleModel",
      "state": {
       "_model_module_version": "~2.1.4",
       "_view_module_version": "~2.1.4"
      }
     },
     "d9b07fae01e046279a8259b30f93c42e": {
      "model_module": "jupyter-js-widgets",
      "model_module_version": "~2.1.4",
      "model_name": "SliderStyleModel",
      "state": {
       "_model_module_version": "~2.1.4",
       "_view_module_version": "~2.1.4"
      }
     },
     "d9b9f0efd0ea4b45973210df898e40bf": {
      "model_module": "jupyter-js-widgets",
      "model_module_version": "~2.1.4",
      "model_name": "LayoutModel",
      "state": {
       "_model_module_version": "~2.1.4",
       "_view_module_version": "~2.1.4",
       "display": "",
       "min_width": "100px",
       "visibility": "visible"
      }
     },
     "db5517baa33f4a7b9b7efd151bfccdab": {
      "model_module": "jupyter-js-widgets",
      "model_module_version": "~2.1.4",
      "model_name": "IntSliderModel",
      "state": {
       "_model_module_version": "~2.1.4",
       "_view_module_version": "~2.1.4",
       "layout": "IPY_MODEL_dcc020fd885d4d12b6f02e3395001940",
       "min": 1,
       "style": "IPY_MODEL_971f1d7b2b4c4a719e92f9fae2be2fd5",
       "value": 95
      }
     },
     "dc1dc312176f469f9a182e20b962faf1": {
      "model_module": "jupyter-js-widgets",
      "model_module_version": "~2.1.4",
      "model_name": "LayoutModel",
      "state": {
       "_model_module_version": "~2.1.4",
       "_view_module_version": "~2.1.4",
       "display": "",
       "min_width": "100px",
       "visibility": "visible"
      }
     },
     "dcc020fd885d4d12b6f02e3395001940": {
      "model_module": "jupyter-js-widgets",
      "model_module_version": "~2.1.4",
      "model_name": "LayoutModel",
      "state": {
       "_model_module_version": "~2.1.4",
       "_view_module_version": "~2.1.4",
       "display": "",
       "max_width": "300px",
       "min_width": "100px",
       "visibility": "visible"
      }
     },
     "dd0503cc66e0455ebf308933997e55c0": {
      "model_module": "jupyter-js-widgets",
      "model_module_version": "~2.1.4",
      "model_name": "LayoutModel",
      "state": {
       "_model_module_version": "~2.1.4",
       "_view_module_version": "~2.1.4",
       "display": "",
       "max_width": "300px",
       "min_width": "100px",
       "visibility": "visible"
      }
     },
     "de77e7e6af6040c58297be583bcd72cd": {
      "model_module": "jupyter-js-widgets",
      "model_module_version": "~2.1.4",
      "model_name": "LayoutModel",
      "state": {
       "_model_module_version": "~2.1.4",
       "_view_module_version": "~2.1.4",
       "display": "",
       "max_width": "300px",
       "min_width": "100px",
       "visibility": "visible"
      }
     },
     "df4b8792f06f4ff9bfe553db7874e0b7": {
      "model_module": "jupyter-js-widgets",
      "model_module_version": "~2.1.4",
      "model_name": "LayoutModel",
      "state": {
       "_model_module_version": "~2.1.4",
       "_view_module_version": "~2.1.4",
       "display": "",
       "max_width": "300px",
       "min_width": "100px",
       "visibility": "visible"
      }
     },
     "df73936a3f5b4f98827b0461ef30dcfa": {
      "model_module": "jupyter-js-widgets",
      "model_module_version": "~2.1.4",
      "model_name": "VBoxModel",
      "state": {
       "_model_module_version": "~2.1.4",
       "_view_module_version": "~2.1.4",
       "children": [
        "IPY_MODEL_6c9e452f9bcd400682bf2e1b9773933a",
        "IPY_MODEL_170ed85f830d421990c182b999a03f24"
       ],
       "layout": "IPY_MODEL_20839fb62bd2480baac9c793b9526207"
      }
     },
     "e05a0c588267489da6706c1a6b540209": {
      "model_module": "jupyter-js-widgets",
      "model_module_version": "~2.1.4",
      "model_name": "LayoutModel",
      "state": {
       "_model_module_version": "~2.1.4",
       "_view_module_version": "~2.1.4"
      }
     },
     "e05de7a4de834f0db72bd0beddcbf306": {
      "model_module": "jupyter-js-widgets",
      "model_module_version": "~2.1.4",
      "model_name": "LayoutModel",
      "state": {
       "_model_module_version": "~2.1.4",
       "_view_module_version": "~2.1.4",
       "display": "",
       "max_width": "300px",
       "min_width": "100px",
       "visibility": "visible"
      }
     },
     "e072f259607f4907ab7f3506e13b264a": {
      "model_module": "jupyter-js-widgets",
      "model_module_version": "~2.1.4",
      "model_name": "CheckboxModel",
      "state": {
       "_model_module_version": "~2.1.4",
       "_view_module_version": "~2.1.4",
       "description": "Plot density",
       "disabled": false,
       "layout": "IPY_MODEL_e574040f0bc54871afbba5f427a635c0",
       "value": true
      }
     },
     "e0ab0af2c3fc45fb9fde38ec1e9eba56": {
      "model_module": "jupyter-js-widgets",
      "model_module_version": "~2.1.4",
      "model_name": "ToggleButtonModel",
      "state": {
       "_model_module_version": "~2.1.4",
       "_view_module_version": "~2.1.4",
       "description": "Plot Scatter",
       "layout": "IPY_MODEL_e82ac85466e14d72ba313bf77c57d550",
       "value": true
      }
     },
     "e0be7be7ed184abfb070cca8e8286813": {
      "model_module": "jupyter-js-widgets",
      "model_module_version": "~2.1.4",
      "model_name": "DropdownModel",
      "state": {
       "_model_module_version": "~2.1.4",
       "_options_labels": [
        "Both",
        "None",
        "Histogram",
        "KDE"
       ],
       "_view_module_version": "~2.1.4",
       "layout": "IPY_MODEL_32cf73c2de8c4ece8c60fb427d61c696",
       "value": "Both"
      }
     },
     "e10a80cb586f4e7ab3ef8f8feb369fe7": {
      "model_module": "jupyter-js-widgets",
      "model_module_version": "~2.1.4",
      "model_name": "IntSliderModel",
      "state": {
       "_model_module_version": "~2.1.4",
       "_view_module_version": "~2.1.4",
       "description": "Bins",
       "layout": "IPY_MODEL_6c3e77f8623942cd8d8c27ea56227a00",
       "max": 107,
       "min": -93,
       "style": "IPY_MODEL_24378ada071b4096af92521e0a683e17",
       "value": 7
      }
     },
     "e1cc957d945940aea269835473a3c13a": {
      "model_module": "jupyter-js-widgets",
      "model_module_version": "~2.1.4",
      "model_name": "CheckboxModel",
      "state": {
       "_model_module_version": "~2.1.4",
       "_view_module_version": "~2.1.4",
       "description": "Robust",
       "disabled": false,
       "layout": "IPY_MODEL_6a21add000a44eeca10c8acc42d2bd2d",
       "value": false
      }
     },
     "e2205598809b4396af4a1341c74167f4": {
      "model_module": "jupyter-js-widgets",
      "model_module_version": "~2.1.4",
      "model_name": "FloatSliderModel",
      "state": {
       "_model_module_version": "~2.1.4",
       "_view_module_version": "~2.1.4",
       "layout": "IPY_MODEL_61982af6ed2942b383b6e5f30ab9e65f",
       "max": 10,
       "min": 0.001,
       "step": 0.05,
       "value": 0.5
      }
     },
     "e26a6094b10a46549e7d013df83dbcd3": {
      "model_module": "jupyter-js-widgets",
      "model_module_version": "~2.1.4",
      "model_name": "LayoutModel",
      "state": {
       "_model_module_version": "~2.1.4",
       "_view_module_version": "~2.1.4",
       "display": "",
       "min_width": "100px",
       "visibility": "visible"
      }
     },
     "e33b90abacbc4fccbb89d4e5c5760acf": {
      "model_module": "jupyter-js-widgets",
      "model_module_version": "~2.1.4",
      "model_name": "LayoutModel",
      "state": {
       "_model_module_version": "~2.1.4",
       "_view_module_version": "~2.1.4",
       "display": "",
       "max_width": "300px",
       "min_width": "100px",
       "visibility": "visible"
      }
     },
     "e381fdec29b944deab9c345124f4dc96": {
      "model_module": "jupyter-js-widgets",
      "model_module_version": "~2.1.4",
      "model_name": "LayoutModel",
      "state": {
       "_model_module_version": "~2.1.4",
       "_view_module_version": "~2.1.4",
       "display": "",
       "min_width": "100px",
       "visibility": "visible"
      }
     },
     "e38b6dacf71f4891b96bb4c5e03e445c": {
      "model_module": "jupyter-js-widgets",
      "model_module_version": "~2.1.4",
      "model_name": "LayoutModel",
      "state": {
       "_model_module_version": "~2.1.4",
       "_view_module_version": "~2.1.4",
       "display": "",
       "max_width": "300px",
       "min_width": "100px",
       "visibility": "visible"
      }
     },
     "e4668796013e435da03e22f278745a10": {
      "model_module": "jupyter-js-widgets",
      "model_module_version": "~2.1.4",
      "model_name": "LayoutModel",
      "state": {
       "_model_module_version": "~2.1.4",
       "_view_module_version": "~2.1.4",
       "display": "",
       "max_width": "300px",
       "min_width": "100px",
       "visibility": "visible"
      }
     },
     "e487bcc9bdc0490486ac134459147712": {
      "model_module": "jupyter-js-widgets",
      "model_module_version": "~2.1.4",
      "model_name": "IntSliderModel",
      "state": {
       "_model_module_version": "~2.1.4",
       "_view_module_version": "~2.1.4",
       "description": "bins",
       "layout": "IPY_MODEL_e81cb4880a214638bf3dd484dd97e1cf",
       "max": 21,
       "min": -7,
       "style": "IPY_MODEL_51a764ebaa834941a49e2e91ea03479c",
       "value": 7
      }
     },
     "e5060f4b779f490e9e10dfba9132d9c1": {
      "model_module": "jupyter-js-widgets",
      "model_module_version": "~2.1.4",
      "model_name": "IntSliderModel",
      "state": {
       "_model_module_version": "~2.1.4",
       "_view_module_version": "~2.1.4",
       "description": "Reg order",
       "layout": "IPY_MODEL_736ab2a3a7d2413fbfc0a00261aac560",
       "max": 10,
       "min": 1,
       "style": "IPY_MODEL_45872b01882b4158b1bfde93468e73c5",
       "value": 1
      }
     },
     "e574040f0bc54871afbba5f427a635c0": {
      "model_module": "jupyter-js-widgets",
      "model_module_version": "~2.1.4",
      "model_name": "LayoutModel",
      "state": {
       "_model_module_version": "~2.1.4",
       "_view_module_version": "~2.1.4",
       "display": "",
       "max_width": "300px",
       "min_width": "100px",
       "visibility": "visible"
      }
     },
     "e5d5f5bd8d5a4a7cbca109d3fd715a71": {
      "model_module": "jupyter-js-widgets",
      "model_module_version": "~2.1.4",
      "model_name": "ToggleButtonModel",
      "state": {
       "_model_module_version": "~2.1.4",
       "_view_module_version": "~2.1.4",
       "description": "Save plot",
       "layout": "IPY_MODEL_8d05bcc579ec4902be8ff00c4c42c1da"
      }
     },
     "e74fa2d04ecc4ebfa9d3c6881b041546": {
      "model_module": "jupyter-js-widgets",
      "model_module_version": "~2.1.4",
      "model_name": "LayoutModel",
      "state": {
       "_model_module_version": "~2.1.4",
       "_view_module_version": "~2.1.4",
       "display": "",
       "min_width": "100px",
       "visibility": "visible"
      }
     },
     "e80d197436454ee0b593037a866dc68d": {
      "model_module": "jupyter-js-widgets",
      "model_module_version": "~2.1.4",
      "model_name": "LayoutModel",
      "state": {
       "_model_module_version": "~2.1.4",
       "_view_module_version": "~2.1.4",
       "display": "",
       "max_width": "300px",
       "min_width": "100px",
       "visibility": "visible"
      }
     },
     "e81cb4880a214638bf3dd484dd97e1cf": {
      "model_module": "jupyter-js-widgets",
      "model_module_version": "~2.1.4",
      "model_name": "LayoutModel",
      "state": {
       "_model_module_version": "~2.1.4",
       "_view_module_version": "~2.1.4"
      }
     },
     "e82ac85466e14d72ba313bf77c57d550": {
      "model_module": "jupyter-js-widgets",
      "model_module_version": "~2.1.4",
      "model_name": "LayoutModel",
      "state": {
       "_model_module_version": "~2.1.4",
       "_view_module_version": "~2.1.4",
       "display": "",
       "max_width": "300px",
       "min_width": "100px",
       "visibility": "visible"
      }
     },
     "e8e60008230e4442a4a16e9876ec2973": {
      "model_module": "jupyter-js-widgets",
      "model_module_version": "~2.1.4",
      "model_name": "VBoxModel",
      "state": {
       "_model_module_version": "~2.1.4",
       "_view_module_version": "~2.1.4",
       "children": [
        "IPY_MODEL_a926ca70b1f441edaf96d05cadbde91e",
        "IPY_MODEL_7b0ff4dd3c204e74bed0bebe35a3c269"
       ],
       "layout": "IPY_MODEL_8a766c971f5e411684b24257823acc31"
      }
     },
     "e9c5fd8d705d4529be5a44bc9e92d93f": {
      "model_module": "jupyter-js-widgets",
      "model_module_version": "~2.1.4",
      "model_name": "LayoutModel",
      "state": {
       "_model_module_version": "~2.1.4",
       "_view_module_version": "~2.1.4",
       "display": "",
       "max_width": "300px",
       "min_width": "100px",
       "visibility": "visible"
      }
     },
     "eaa91e31009f4dfa9b9aaad7bb7fc96e": {
      "model_module": "jupyter-js-widgets",
      "model_module_version": "~2.1.4",
      "model_name": "LayoutModel",
      "state": {
       "_model_module_version": "~2.1.4",
       "_view_module_version": "~2.1.4",
       "display": "",
       "max_width": "300px",
       "min_width": "100px",
       "visibility": "visible"
      }
     },
     "ebc62713120e429d8cdba9c85af47098": {
      "model_module": "jupyter-js-widgets",
      "model_module_version": "~2.1.4",
      "model_name": "LayoutModel",
      "state": {
       "_model_module_version": "~2.1.4",
       "_view_module_version": "~2.1.4",
       "display": "",
       "min_width": "100px",
       "visibility": "visible"
      }
     },
     "ec01588e6ffe44e092bbfba207621ae0": {
      "model_module": "jupyter-js-widgets",
      "model_module_version": "~2.1.4",
      "model_name": "VBoxModel",
      "state": {
       "_model_module_version": "~2.1.4",
       "_view_module_version": "~2.1.4",
       "children": [
        "IPY_MODEL_6f41e50c1b274c1e8028a03bd09d4ccf",
        "IPY_MODEL_baf9055b0d2a4cdbb8db1a397033d1f1",
        "IPY_MODEL_30afaae59ca8444595a149d92a57ee4b"
       ],
       "layout": "IPY_MODEL_202470cfbcd148fb824ed4d4f4251426"
      }
     },
     "ec73f0a168564734bf88f6ed7b868782": {
      "model_module": "jupyter-js-widgets",
      "model_module_version": "~2.1.4",
      "model_name": "CheckboxModel",
      "state": {
       "_model_module_version": "~2.1.4",
       "_view_module_version": "~2.1.4",
       "description": "Link bins",
       "disabled": false,
       "layout": "IPY_MODEL_592b00dffacb4c1abc473bddbcd305fc",
       "value": true
      }
     },
     "ecde44064f534c9b8dd672fe67581985": {
      "model_module": "jupyter-js-widgets",
      "model_module_version": "~2.1.4",
      "model_name": "LayoutModel",
      "state": {
       "_model_module_version": "~2.1.4",
       "_view_module_version": "~2.1.4",
       "display": "",
       "min_width": "100px",
       "visibility": "visible"
      }
     },
     "ecfd8d19e3ea4aa5bc0199aefb9dd5d7": {
      "model_module": "jupyter-js-widgets",
      "model_module_version": "~2.1.4",
      "model_name": "VBoxModel",
      "state": {
       "_model_module_version": "~2.1.4",
       "_view_module_version": "~2.1.4",
       "children": [
        "IPY_MODEL_3873a0efa25348d8b4e33e0237862bb4",
        "IPY_MODEL_ff3862076b58496aa800e6d1e111c140",
        "IPY_MODEL_fb501e3c5660441696c965cf8fdd5822",
        "IPY_MODEL_81fce096dc7e4242a51b45f82f0870d6",
        "IPY_MODEL_e1cc957d945940aea269835473a3c13a"
       ],
       "layout": "IPY_MODEL_f258da0f099f4abf803890aa8524a7b6"
      }
     },
     "edbb1ac3545547c89f93653a801ab938": {
      "model_module": "jupyter-js-widgets",
      "model_module_version": "~2.1.4",
      "model_name": "IntSliderModel",
      "state": {
       "_model_module_version": "~2.1.4",
       "_view_module_version": "~2.1.4",
       "layout": "IPY_MODEL_2fd4b2dafb4d4b48b47a86556f5ae115",
       "max": 40,
       "min": 1,
       "step": 2,
       "style": "IPY_MODEL_1aaa1b0c8a7a4a2a8dc0f82e102c47fd",
       "value": 10
      }
     },
     "eeb9726c3d4a47f4ab6ade124fbcc837": {
      "model_module": "jupyter-js-widgets",
      "model_module_version": "~2.1.4",
      "model_name": "LayoutModel",
      "state": {
       "_model_module_version": "~2.1.4",
       "_view_module_version": "~2.1.4",
       "display": "",
       "max_width": "300px",
       "min_width": "100px",
       "visibility": "visible"
      }
     },
     "efe9efc7c7e4460cbea495af72d771f8": {
      "model_module": "jupyter-js-widgets",
      "model_module_version": "~2.1.4",
      "model_name": "LayoutModel",
      "state": {
       "_model_module_version": "~2.1.4",
       "_view_module_version": "~2.1.4",
       "display": "",
       "max_width": "300px",
       "min_width": "100px",
       "visibility": "visible"
      }
     },
     "f0bcb127d5e44aa2a0182e55c1850f37": {
      "model_module": "jupyter-js-widgets",
      "model_module_version": "~2.1.4",
      "model_name": "SliderStyleModel",
      "state": {
       "_model_module_version": "~2.1.4",
       "_view_module_version": "~2.1.4"
      }
     },
     "f11407cc843847719ef0af037b961536": {
      "model_module": "jupyter-js-widgets",
      "model_module_version": "~2.1.4",
      "model_name": "IntSliderModel",
      "state": {
       "_model_module_version": "~2.1.4",
       "_view_module_version": "~2.1.4",
       "description": "Num ybins",
       "layout": "IPY_MODEL_e05de7a4de834f0db72bd0beddcbf306",
       "max": 40,
       "min": 1,
       "step": 2,
       "style": "IPY_MODEL_93d036b34fa04031963f75ba6ffa37b4",
       "value": 10
      }
     },
     "f1295bd3cbdf413d8162c1bae77d1d62": {
      "model_module": "jupyter-js-widgets",
      "model_module_version": "~2.1.4",
      "model_name": "HBoxModel",
      "state": {
       "_model_module_version": "~2.1.4",
       "_view_module_version": "~2.1.4",
       "layout": "IPY_MODEL_bf06eeec5d5247798cb52319c78c338b"
      }
     },
     "f258da0f099f4abf803890aa8524a7b6": {
      "model_module": "jupyter-js-widgets",
      "model_module_version": "~2.1.4",
      "model_name": "LayoutModel",
      "state": {
       "_model_module_version": "~2.1.4",
       "_view_module_version": "~2.1.4",
       "display": "",
       "min_width": "100px",
       "visibility": "visible"
      }
     },
     "f4463048d4cc4809a0334f8cee0beef5": {
      "model_module": "jupyter-js-widgets",
      "model_module_version": "~2.1.4",
      "model_name": "SliderStyleModel",
      "state": {
       "_model_module_version": "~2.1.4",
       "_view_module_version": "~2.1.4"
      }
     },
     "f4625b67cb0c49ddbd31bbbd1665af12": {
      "model_module": "jupyter-js-widgets",
      "model_module_version": "~2.1.4",
      "model_name": "LayoutModel",
      "state": {
       "_model_module_version": "~2.1.4",
       "_view_module_version": "~2.1.4",
       "display": "",
       "min_width": "100px",
       "visibility": "visible"
      }
     },
     "f4872eff92b64c4c86a102711161e495": {
      "model_module": "jupyter-js-widgets",
      "model_module_version": "~2.1.4",
      "model_name": "CheckboxModel",
      "state": {
       "_model_module_version": "~2.1.4",
       "_view_module_version": "~2.1.4",
       "description": "Mean",
       "disabled": false,
       "layout": "IPY_MODEL_f735c60e2db143868ef559406e83598f",
       "value": false
      }
     },
     "f4ba2100b1a94ad7a6f8d8b8885c8408": {
      "model_module": "jupyter-js-widgets",
      "model_module_version": "~2.1.4",
      "model_name": "LayoutModel",
      "state": {
       "_model_module_version": "~2.1.4",
       "_view_module_version": "~2.1.4",
       "display": "",
       "min_width": "100px",
       "visibility": "visible"
      }
     },
     "f53333f7078f43c09523578bb48642df": {
      "model_module": "jupyter-js-widgets",
      "model_module_version": "~2.1.4",
      "model_name": "SliderStyleModel",
      "state": {
       "_model_module_version": "~2.1.4",
       "_view_module_version": "~2.1.4"
      }
     },
     "f69ebbdfe9c5447abda63125fcb9522e": {
      "model_module": "jupyter-js-widgets",
      "model_module_version": "~2.1.4",
      "model_name": "ToggleButtonModel",
      "state": {
       "_model_module_version": "~2.1.4",
       "_view_module_version": "~2.1.4",
       "description": "Plot KDE",
       "layout": "IPY_MODEL_c08020e447a14da381f13a566ad0ff3c",
       "value": true
      }
     },
     "f6e45b025f544d23ba9056f69c107ced": {
      "model_module": "jupyter-js-widgets",
      "model_module_version": "~2.1.4",
      "model_name": "LayoutModel",
      "state": {
       "_model_module_version": "~2.1.4",
       "_view_module_version": "~2.1.4",
       "display": "",
       "max_width": "300px",
       "min_width": "100px",
       "visibility": "visible"
      }
     },
     "f709e0bdd4d64e72ab7fea94742d0ec3": {
      "model_module": "jupyter-js-widgets",
      "model_module_version": "~2.1.4",
      "model_name": "LayoutModel",
      "state": {
       "_model_module_version": "~2.1.4",
       "_view_module_version": "~2.1.4"
      }
     },
     "f735c60e2db143868ef559406e83598f": {
      "model_module": "jupyter-js-widgets",
      "model_module_version": "~2.1.4",
      "model_name": "LayoutModel",
      "state": {
       "_model_module_version": "~2.1.4",
       "_view_module_version": "~2.1.4",
       "display": "",
       "max_width": "300px",
       "min_width": "100px",
       "visibility": "visible"
      }
     },
     "f7efc3c1e9b64a349f45642b933728cf": {
      "model_module": "jupyter-js-widgets",
      "model_module_version": "~2.1.4",
      "model_name": "HTMLModel",
      "state": {
       "_model_module_version": "~2.1.4",
       "_view_module_version": "~2.1.4",
       "layout": "IPY_MODEL_8157168145c24e11b078234a14ee3b7f",
       "value": "<h1>exploratory plots</h1>"
      }
     },
     "f86d8475e8074ce198a388cd48cbd0ef": {
      "model_module": "jupyter-js-widgets",
      "model_module_version": "~2.1.4",
      "model_name": "LayoutModel",
      "state": {
       "_model_module_version": "~2.1.4",
       "_view_module_version": "~2.1.4",
       "display": "",
       "max_width": "300px",
       "min_width": "100px",
       "visibility": "visible"
      }
     },
     "f8b05955583040ae9c6573f61aaf61be": {
      "model_module": "jupyter-js-widgets",
      "model_module_version": "~2.1.4",
      "model_name": "VBoxModel",
      "state": {
       "_model_module_version": "~2.1.4",
       "_view_module_version": "~2.1.4",
       "layout": "IPY_MODEL_38fa209f8b064c6e8dfd8b3b2814e708"
      }
     },
     "f9e2d2ad3c344826ab4d19036de47798": {
      "model_module": "jupyter-js-widgets",
      "model_module_version": "~2.1.4",
      "model_name": "LayoutModel",
      "state": {
       "_model_module_version": "~2.1.4",
       "_view_module_version": "~2.1.4",
       "display": "",
       "max_width": "300px",
       "min_width": "100px",
       "visibility": "visible"
      }
     },
     "faa4b0c94d4c421bab564634ca4c8ad2": {
      "model_module": "jupyter-js-widgets",
      "model_module_version": "~2.1.4",
      "model_name": "CheckboxModel",
      "state": {
       "_model_module_version": "~2.1.4",
       "_view_module_version": "~2.1.4",
       "description": "Grid",
       "disabled": false,
       "layout": "IPY_MODEL_9ddf8f19daf84a9a8f34f613ab5b4ed8",
       "value": true
      }
     },
     "fb501e3c5660441696c965cf8fdd5822": {
      "model_module": "jupyter-js-widgets",
      "model_module_version": "~2.1.4",
      "model_name": "IntSliderModel",
      "state": {
       "_model_module_version": "~2.1.4",
       "_view_module_version": "~2.1.4",
       "description": "Reg order",
       "layout": "IPY_MODEL_d61117c73daf44c4b76a5bba52f2b3c7",
       "max": 10,
       "min": 1,
       "style": "IPY_MODEL_7a18d7b6eb1f41709b01b84cb7add5da",
       "value": 1
      }
     },
     "fb9d97a6ff23472583d5c5c86b21791c": {
      "model_module": "jupyter-js-widgets",
      "model_module_version": "~2.1.4",
      "model_name": "CheckboxModel",
      "state": {
       "_model_module_version": "~2.1.4",
       "_view_module_version": "~2.1.4",
       "description": "std",
       "disabled": false,
       "layout": "IPY_MODEL_0b8a5fbe329a4eddb20c230fc8834b27",
       "value": false
      }
     },
     "fd31ccfab3d6465a80d1ee06d5030013": {
      "model_module": "jupyter-js-widgets",
      "model_module_version": "~2.1.4",
      "model_name": "LayoutModel",
      "state": {
       "_model_module_version": "~2.1.4",
       "_view_module_version": "~2.1.4",
       "display": "",
       "max_width": "300px",
       "min_width": "100px",
       "visibility": "visible"
      }
     },
     "fdcd1b65462a4b3faf3c0a04339870ae": {
      "model_module": "jupyter-js-widgets",
      "model_module_version": "~2.1.4",
      "model_name": "CheckboxModel",
      "state": {
       "_model_module_version": "~2.1.4",
       "_view_module_version": "~2.1.4",
       "description": "link_bins",
       "disabled": false,
       "layout": "IPY_MODEL_97b7609ff8b5459fb288b20ab6b4096c",
       "value": true
      }
     },
     "fe0cba8ebc9a4030895f39d807c9976a": {
      "model_module": "jupyter-js-widgets",
      "model_module_version": "~2.1.4",
      "model_name": "LayoutModel",
      "state": {
       "_model_module_version": "~2.1.4",
       "_view_module_version": "~2.1.4",
       "display": "",
       "max_width": "300px",
       "min_width": "100px",
       "visibility": "visible"
      }
     },
     "fe7f3baf57a149dfbe46219e0bd64921": {
      "model_module": "jupyter-js-widgets",
      "model_module_version": "~2.1.4",
      "model_name": "LayoutModel",
      "state": {
       "_model_module_version": "~2.1.4",
       "_view_module_version": "~2.1.4",
       "display": "",
       "max_width": "300px",
       "min_width": "100px",
       "visibility": "visible"
      }
     },
     "feb4980aeb2b4e9f886a7a0559b3d195": {
      "model_module": "jupyter-js-widgets",
      "model_module_version": "~2.1.4",
      "model_name": "IntSliderModel",
      "state": {
       "_model_module_version": "~2.1.4",
       "_view_module_version": "~2.1.4",
       "description": "Reg order",
       "layout": "IPY_MODEL_efe9efc7c7e4460cbea495af72d771f8",
       "max": 10,
       "min": 1,
       "style": "IPY_MODEL_46086ec814554c90a9eaa0f847463f3f",
       "value": 1
      }
     },
     "ff3862076b58496aa800e6d1e111c140": {
      "model_module": "jupyter-js-widgets",
      "model_module_version": "~2.1.4",
      "model_name": "ToggleButtonModel",
      "state": {
       "_model_module_version": "~2.1.4",
       "_view_module_version": "~2.1.4",
       "description": "Plot Regression",
       "layout": "IPY_MODEL_3aa78145c59e4396846117d92182b107",
       "value": true
      }
     }
    },
    "version_major": 1,
    "version_minor": 0
   }
  }
 },
 "nbformat": 4,
 "nbformat_minor": 2
}
