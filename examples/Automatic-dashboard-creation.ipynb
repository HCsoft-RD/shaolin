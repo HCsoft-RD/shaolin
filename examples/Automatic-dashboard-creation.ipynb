{
 "cells": [
  {
   "cell_type": "markdown",
   "metadata": {},
   "source": [
    "# How to create dashboards using shaolin KungFu"
   ]
  },
  {
   "cell_type": "markdown",
   "metadata": {},
   "source": [
    "## 1.1 Widgets defined as keyword arguments"
   ]
  },
  {
   "cell_type": "markdown",
   "metadata": {},
   "source": [
    "It is possible to instantiate widgets by instantiating a KungFu object. The widgets will be created from ts keyword arguments as shown below. "
   ]
  },
  {
   "cell_type": "code",
   "execution_count": 8,
   "metadata": {
    "collapsed": false
   },
   "outputs": [
    {
     "data": {
      "application/vnd.jupyter.widget-view+json": {
       "model_id": "84bae647800440debb5a92218d0e42a0"
      }
     },
     "metadata": {},
     "output_type": "display_data"
    }
   ],
   "source": [
    "from shaolin import KungFu\n",
    "dashb = KungFu(int_slider=4, text=\"moco\", dropdown=['Hello','World'],float_slider=(2.,10.,1.),box='2r')\n",
    "dashb.widget"
   ]
  },
  {
   "cell_type": "markdown",
   "metadata": {},
   "source": [
    "You can use the box parameter to set the layout distribution of the widgets. It is possible to set the desired number of rows or columns that our dashboard will have:"
   ]
  },
  {
   "cell_type": "code",
   "execution_count": 11,
   "metadata": {
    "collapsed": false
   },
   "outputs": [
    {
     "data": {
      "application/vnd.jupyter.widget-view+json": {
       "model_id": "1481428222a7460face56a33916fdb7e"
      }
     },
     "metadata": {},
     "output_type": "display_data"
    }
   ],
   "source": [
    "KungFu(int_slider=4, text=\"moco\", dropdown=['Hello','World'],float_slider=(2.,10.,1.),box='1c')[0]"
   ]
  },
  {
   "cell_type": "markdown",
   "metadata": {
    "deletable": true,
    "editable": true
   },
   "source": [
    "# 1.2 Instantiating  from kwargs dict"
   ]
  },
  {
   "cell_type": "markdown",
   "metadata": {},
   "source": [
    "It is possible to create a dashboard containing widgets that control the value of the desired keyword arguments as shown in the following cells. It is possible to use the same syntax that is used in the ipywidgets interact function, shaolin object notation syntax, or shaoscript syntax to define the widgets that will be displayed in the dashboard. "
   ]
  },
  {
   "cell_type": "code",
   "execution_count": 1,
   "metadata": {
    "collapsed": false,
    "deletable": true,
    "editable": true
   },
   "outputs": [
    {
     "data": {
      "application/vnd.jupyter.widget-view+json": {
       "model_id": "c9d391852e574756ad9b52af268eeffd"
      }
     },
     "metadata": {},
     "output_type": "display_data"
    }
   ],
   "source": [
    "\n",
    "kwargs = {'num_xbins':(1,40,2,10),\n",
    "         'num_ybins':(1,40,2,10),\n",
    "         'grid': True,\n",
    "         'link_bins':True,\n",
    "         'plot_density':True,\n",
    "         'reg_order':(1,10,1,1),\n",
    "         'ci':\"(1,100,1,95)$N=ci&d=Confidence intervals\",\n",
    "         'robust':[False],\n",
    "         'scatter':True,\n",
    "         'regression':True,\n",
    "         'marginals':(['None','Histogram','KDE','Both'],'Both'),\n",
    "         'bw':(0.001,10,0.05,0.5),\n",
    "         'Title':'#Combining plots$N=title&D=',\n",
    "         'dataset':['ALL','I','II','III','IV'],\n",
    "         'save':False,\n",
    "         #'@kernel':['gau','cos','biw','epa','tri','triw']\n",
    "        }\n",
    "kf = KungFu(**kwargs,box='4c|')# using '|' in the box description sorts the widtgets by its value type\n",
    "kf[0]#indexing with any integer returns the widget"
   ]
  },
  {
   "cell_type": "code",
   "execution_count": 25,
   "metadata": {
    "collapsed": false,
    "deletable": true,
    "editable": true
   },
   "outputs": [
    {
     "data": {
      "text/plain": [
       "{'bw': 0.5,\n",
       " 'ci': 95,\n",
       " 'dataset': 'ALL',\n",
       " 'grid': True,\n",
       " 'link_bins': True,\n",
       " 'marginals': 'Both',\n",
       " 'num_xbins': 10,\n",
       " 'num_ybins': 10,\n",
       " 'plot_density': True,\n",
       " 'reg_order': 1,\n",
       " 'regression': True,\n",
       " 'robust': False,\n",
       " 'save': False,\n",
       " 'scatter': True}"
      ]
     },
     "execution_count": 25,
     "metadata": {},
     "output_type": "execute_result"
    }
   ],
   "source": [
    "kf() #calling the dashboard returns a kwargs dict"
   ]
  },
  {
   "cell_type": "markdown",
   "metadata": {
    "deletable": true,
    "editable": true
   },
   "source": [
    "## 1.3 Instantiating from shaolin syntax"
   ]
  },
  {
   "cell_type": "markdown",
   "metadata": {},
   "source": [
    "KungFu can be used the same way the Dashboard was used in former version of shaolin to manually define the layout."
   ]
  },
  {
   "cell_type": "code",
   "execution_count": 12,
   "metadata": {
    "collapsed": false,
    "deletable": true,
    "editable": true
   },
   "outputs": [],
   "source": [
    "from IPython.core.display import display\n",
    "import seaborn as sns\n",
    "%matplotlib inline\n",
    "sns.set(style=\"ticks\")\n",
    "data = sns.load_dataset(\"anscombe\")"
   ]
  },
  {
   "cell_type": "code",
   "execution_count": 13,
   "metadata": {
    "collapsed": false,
    "deletable": true,
    "editable": true
   },
   "outputs": [
    {
     "data": {
      "application/vnd.jupyter.widget-view+json": {
       "model_id": "8bf5c7b40915494aae44f06b94aecd35"
      }
     },
     "metadata": {},
     "output_type": "display_data"
    }
   ],
   "source": [
    "#general\n",
    "title = '#Exploratory plots$N=title&D='\n",
    "marginals = \"@['Both','None','Histogram','KDE']$d=Marginals\"\n",
    "dset = \"@['ALL','I','II','III','IV']$D=Dataset\"\n",
    "x_cols = '@dd$D=X column&o='+str(data.columns.values.tolist())\n",
    "y_cols = '@dd$D=Y column&o='+str(data.columns.values.tolist())+'&v='+data.columns[1]\n",
    "save = \"@[False]$D=Save plot&n=save\"\n",
    "data_layout = ['c$N=data_layout',[title,dset,['r$N=sub_row',[x_cols,y_cols]],marginals,save]]\n",
    "\n",
    "#histograms\n",
    "h_title = '#Historam options$N=h_title&D='\n",
    "num_xbins = '@(1,40,2,10)$D=Num xbins&n=num_xbins'\n",
    "num_ybins = '@(1,40,2,10)$D=Num ybins&n=num_ybins'\n",
    "lbins = '@True$D=link_bins'\n",
    "hist_layout = ['c$N=hist_layout',[h_title,num_xbins,num_ybins,lbins]]\n",
    "\n",
    "#scatter\n",
    "s_title = '#Scatterplot options$N=s_title&D='\n",
    "scat = '@[True]$D=Plot Scatter&n=scatter' \n",
    "grid = '@True$D=Grid'\n",
    "scatter_layout = ['c$N=scatter_layout',[s_title,scat,grid]]\n",
    "\n",
    "#regression\n",
    "r_title = '#Regression options$N=r_title&D='\n",
    "reg = '@[True]$D=Plot Regression&n=regression'\n",
    "robust = '@False$D=Robust'\n",
    "reg_order = \"@(1,10,1,1)$D=Reg order\"\n",
    "ci = \"@(1,100,1,95)$N=ci&d=Confidence intervals\"\n",
    "reg_layout = ['c$N=reg_layout',[r_title,reg,reg_order,ci,robust]]\n",
    "\n",
    "#kde\n",
    "k_title = '#KDE plot options$N=k_title&D='\n",
    "kde = '@[True]$D=Plot KDE&n=plot_density'\n",
    "bw =  \"@(0.001,10,0.05,0.5)$D=Bandwidth&n=bw\"\n",
    "kde_layout = ['@c$N=kde_layout',[k_title,kde,bw]]\n",
    "\n",
    "#accordion as top level layout\n",
    "dash = ['ac$N=dae_plot&t=General,Histogram,Scatter,KDE,Regression',[data_layout,\n",
    "                                                                hist_layout,\n",
    "                                                                scatter_layout,\n",
    "                                                                kde_layout,\n",
    "                                                                reg_layout,\n",
    "                                                               ]\n",
    "       ]\n",
    "\n",
    "KungFu(dash=dash)[0]"
   ]
  },
  {
   "cell_type": "markdown",
   "metadata": {
    "deletable": true,
    "editable": true
   },
   "source": [
    "# Mimicking the interact function from ipywidgets"
   ]
  },
  {
   "cell_type": "markdown",
   "metadata": {},
   "source": [
    "Lets see how we can copy the functionality of the interact function from ipywidgets. It is possible to use KungFu on a single function the same way interact would work. We can also create a Dashboard from the default arguments of a function.\n",
    "\n",
    "Here we compare how we would use the ipywidgets interact function to build an interactive dashboard, and how we can achieve the same result with shaolin. "
   ]
  },
  {
   "cell_type": "code",
   "execution_count": 14,
   "metadata": {
    "collapsed": false,
    "deletable": true,
    "editable": true,
    "scrolled": true
   },
   "outputs": [],
   "source": [
    "import numpy as np\n",
    "from ipywidgets import interact, interactive, fixed\n",
    "from IPython.core.display import clear_output,display\n",
    "import matplotlib.pyplot as plt\n",
    "import ipywidgets as widgets\n",
    "import seaborn as sns\n",
    "def draw_example_dist(n=10000):\n",
    "    a = np.random.normal(loc=-15.,scale=3,size=n)\n",
    "    b = np.random.normal(loc=20,scale=3,size=n)\n",
    "    c = np.random.exponential(size=n,scale=3)\n",
    "    return np.hstack([a,b,c])\n",
    "\n",
    "\n",
    "def draw_regions(distribution='normal',\n",
    "                 bins=7,\n",
    "                 bw=0.18,\n",
    "                 normed=False,\n",
    "                 mean=False,\n",
    "                 std=False,\n",
    "                 percents=False,\n",
    "                 hist=True):\n",
    "   \n",
    "    x = draw_example_dist() if distribution=='example_2' else np.random.standard_normal(10000)\n",
    "    #x = draw_regions_data if distribution=='custom' else x\n",
    "    fig = plt.figure(figsize=(14,8))\n",
    "    ax = sns.kdeplot(x, cut=0,color='b',shade=True,alpha=0.3,bw=bw)\n",
    "    \n",
    "    d_bins = np.linspace(x.min(),x.max(),num=bins)\n",
    "    if hist:\n",
    "        n, bins, patches = ax.hist(x,bins=d_bins,normed=normed,rwidth=0.8,alpha=0.7)\n",
    "    else:\n",
    "        n=[1]\n",
    "    maxx = 1 if normed else max(n)\n",
    "    if mean:\n",
    "        \n",
    "        ax.axvline(x=x.mean(), ymin=0, ymax = maxx,\n",
    "                    linewidth=6, color='r',label='Mean: {:.3f}'.format(x.mean()),alpha=1.)\n",
    "    if std:\n",
    "        m = x.mean()\n",
    "        \n",
    "        ax.axvline(x=m+x.std(), ymin=0, ymax = maxx, linewidth=5, color='g',label='Std: {:.3f}'.format(x.std()),alpha=0.8)\n",
    "        ax.axvline(x=m-x.std(), ymin=0, ymax = maxx, linewidth=5, color='g',alpha=0.8)\n",
    "    if percents:\n",
    "        d = pd.Series(x).describe()\n",
    "        ax.axvline(x=d.ix['min'],\n",
    "                    ymin=0, ymax = maxx,\n",
    "                    linewidth=5, \n",
    "                    color=(0.19130826141258903, 0.13147472185630074, 0.09409307479747722),\n",
    "                    label='min: {:.2f}'.format(d.ix['min']),alpha=0.8)\n",
    "        ax.axvline(x=d.ix['25%'],\n",
    "                    ymin=0, ymax = maxx,\n",
    "                    linewidth=5, \n",
    "                    color=(0.38717148143023966, 0.26607979423298955, 0.19042646089965626),\n",
    "                    label='25%: {:.2f}'.format(d.ix['25%']),alpha=0.8)\n",
    "        ax.axvline(x=d.ix['50%'],\n",
    "                    ymin=0, ymax = maxx,\n",
    "                    linewidth=5, \n",
    "                    color=(0.5830347014478903, 0.4006848666096784, 0.2867598470018353),\n",
    "                    label='50%: {:.2f}'.format(d.ix['50%']),alpha=0.8)\n",
    "        ax.axvline(x=d.ix['75%'],\n",
    "                    ymin=0, ymax = maxx,\n",
    "                    linewidth=5, \n",
    "                    color=(0.7743429628604792, 0.5321595884659791, 0.3808529217993126),\n",
    "                    label='75%: {:.2f}'.format(d.ix['75%']),alpha=0.8)\n",
    "        ax.axvline(x=d.ix['max'],\n",
    "                    ymin=0, ymax = maxx,\n",
    "                    linewidth=5, \n",
    "                    color=(0.9415558823529412, 0.663581294117647, 0.47400294117647046),\n",
    "                    label='max%: {:.2f}'.format(d.ix['max']),alpha=0.8)\n",
    "        \n",
    "       # ax.plot((m-0.1, m+0.1), (0,max(n)), 'k-')\n",
    "    plt.grid(linewidth=2)\n",
    "    plt.title(\"Basic statistics\",fontsize=20)\n",
    "    plt.legend(loc='upper left',fontsize=18)\n",
    "    plt.show()\n",
    "    \n",
    "    clear_output(True)\n"
   ]
  },
  {
   "cell_type": "markdown",
   "metadata": {},
   "source": [
    "Using interact to create widgets"
   ]
  },
  {
   "cell_type": "code",
   "execution_count": 15,
   "metadata": {
    "collapsed": false,
    "deletable": true,
    "editable": true
   },
   "outputs": [
    {
     "data": {
      "application/vnd.jupyter.widget-view+json": {
       "model_id": "ef68fd4d4f4941ed8a48c185c91c6d12"
      }
     },
     "metadata": {},
     "output_type": "display_data"
    },
    {
     "data": {
      "text/plain": [
       "<function __main__.draw_regions>"
      ]
     },
     "metadata": {},
     "output_type": "display_data"
    }
   ],
   "source": [
    "inter = interact(draw_regions,\n",
    "             normed=False,distribution=['Normal','example_2','custom'])\n",
    "display(inter)"
   ]
  },
  {
   "cell_type": "markdown",
   "metadata": {},
   "source": [
    "Same thing using KungFu"
   ]
  },
  {
   "cell_type": "code",
   "execution_count": 16,
   "metadata": {
    "collapsed": false,
    "deletable": true,
    "editable": true
   },
   "outputs": [
    {
     "data": {
      "image/png": "[encoded data removed]",
      "text/plain": [
       "<matplotlib.figure.Figure at 0x7f8288d7b748>"
      ]
     },
     "metadata": {},
     "output_type": "display_data"
    }
   ],
   "source": [
    "KungFu(func=draw_regions, interact=True, box='2r')[0]"
   ]
  },
  {
   "cell_type": "markdown",
   "metadata": {},
   "source": [
    "It is also possible to overwrite the default values of the function parameters. "
   ]
  },
  {
   "cell_type": "code",
   "execution_count": 18,
   "metadata": {
    "collapsed": false,
    "deletable": true,
    "editable": true
   },
   "outputs": [
    {
     "data": {
      "application/vnd.jupyter.widget-view+json": {
       "model_id": "de7fdc866f2a4c40add292f8ff14a059"
      }
     },
     "metadata": {},
     "output_type": "display_data"
    }
   ],
   "source": [
    "KungFu(func=draw_regions,\n",
    "       bins=(1,100,2,50),\n",
    "       bw=(0.01,10.,0.025,0.18),\n",
    "       normed=False,\n",
    "       distribution=['Normal','example_2'],\n",
    "       interact=True,box=\"2c\")[0]"
   ]
  },
  {
   "cell_type": "markdown",
   "metadata": {
    "deletable": true,
    "editable": true
   },
   "source": [
    "# Shaolin KungFu for automatic dashboard creation"
   ]
  },
  {
   "cell_type": "markdown",
   "metadata": {
    "deletable": true,
    "editable": true
   },
   "source": [
    "Here it is an example on how to build a complex dashboard:"
   ]
  },
  {
   "cell_type": "code",
   "execution_count": 20,
   "metadata": {
    "collapsed": true,
    "deletable": true,
    "editable": true
   },
   "outputs": [],
   "source": [
    "import numpy as np\n",
    "import pandas as pd\n",
    "import matplotlib.pylab as plt\n",
    "import seaborn as sns\n",
    "from IPython.core.display import clear_output\n",
    "from shaolin import KungFu,Dashboard\n",
    "class DensityPlot(KungFu):\n",
    "    def __init__(self,data):\n",
    "        #Kwargs expanding standard interact syntax with object notation and shaoscript\n",
    "        d_kwargs= {'num_xbins':(1,40,2,10),\n",
    "                 'num_ybins':(1,40,2,10),\n",
    "                 'grid': True,\n",
    "                 'link_bins':True,\n",
    "                 'plot_density':True,\n",
    "                 'reg_order':(1,10,1,1),\n",
    "                 'ci':\"(1,100,1,95)$N=ci&d=Confidence intervals\",\n",
    "                 'robust':[False],\n",
    "                 'scatter':True,\n",
    "                 'regression':True,\n",
    "                 'marginals':(['None','Histogram','KDE','Both'],'Both'),\n",
    "                 'bw':(0.001,10,0.05,0.5),\n",
    "                 'Title':'#Combining plots$N=title&D=',\n",
    "                 'dataset':['ALL','I','II','III','IV'],\n",
    "                 'save':False,\n",
    "                 #'@kernel':['gau','cos','biw','epa','tri','triw']\n",
    "                }\n",
    "        \n",
    "        #general\n",
    "        title = '#Exploratory plots$N=title&D='\n",
    "        marginals = \"@['Both','None','Histogram','KDE']$d=Marginals\"\n",
    "        \n",
    "        dset = \"@['ALL','I','II','III','IV']$D=Dataset\"\n",
    "        x_cols = '@dd$D=X column&o='+str(data.columns.values.tolist())\n",
    "        y_cols = '@dd$D=Y column&o='+str(data.columns.values.tolist())+'&v='+data.columns[1]\n",
    "        save = \"@[False]$D=Save plot&n=save\"\n",
    "        data_layout = ['c$N=data_layout',[title,dset,['r$N=sub_row',[x_cols,y_cols]],marginals,save]]\n",
    "        #histograms\n",
    "        h_title = '#Historam options$N=h_title&D='\n",
    "        num_xbins = '@(1,40,2,10)$D=Num xbins&n=num_xbins'\n",
    "        num_ybins = '@(1,40,2,10)$D=Num ybins&n=num_ybins'\n",
    "        lbins = '@True$D=link_bins'\n",
    "        hist_layout = ['c$N=hist_layout',[h_title,num_xbins,num_ybins,lbins]]\n",
    "        \n",
    "        #scatter\n",
    "        s_title = '#Scatterplot options$N=s_title&D='\n",
    "        scat = '@[True]$D=Plot Scatter&n=scatter' \n",
    "        grid = '@True$D=Grid'\n",
    "        scatter_layout = ['c$N=scatter_layout',[s_title,scat,grid]]\n",
    "        #regression\n",
    "        r_title = '#Regression options$N=r_title&D='\n",
    "        reg = '@[True]$D=Plot Regression&n=regression'\n",
    "        robust = '@False$D=Robust'\n",
    "        reg_order = \"@(1,10,1,1)$D=Reg order\"\n",
    "        ci = \"@(1,100,1,95)$N=ci&d=Confidence intervals\"\n",
    "        reg_layout = ['c$N=reg_layout',[r_title,reg,reg_order,ci,robust]]\n",
    "        #kde\n",
    "        k_title = '#KDE plot options$N=k_title&D='\n",
    "        kde = '@[True]$D=Plot KDE&n=plot_density'\n",
    "        bw =  \"@(0.001,10,0.05,0.5)$D=Bandwidth&n=bw\"\n",
    "        kde_layout = ['@c$N=kde_layout',[k_title,kde,bw]]\n",
    "        dash = ['ac$N=dae_plot&t=General,Histogram,Scatter,KDE,Regression',[data_layout,\n",
    "                                                                        hist_layout,\n",
    "                                                                        scatter_layout,\n",
    "                                                                        kde_layout,\n",
    "                                                                        reg_layout,\n",
    "                                                                       ]\n",
    "               ]\n",
    "        self.data = data\n",
    "        KungFu.__init__(self,dash=dash,mode='interactive')\n",
    "        self.num_xbins.widget.continuous_update=False\n",
    "        self.num_ybins.widget.continuous_update=False\n",
    "        self.density_plot()\n",
    "        self.link_bins.observe(self.link_sliders)\n",
    "        self.observe(self.density_plot)\n",
    "        self.link_sliders()\n",
    "        self._i_plot = 0\n",
    "        \n",
    "        \n",
    "        \n",
    "    \n",
    "    def link_sliders(self,_=None):\n",
    "        if self.link_bins():\n",
    "            self.num_ybins.visible = False\n",
    "            self.link('num_xbins','num_ybins')\n",
    "        else:\n",
    "            self.unlink('num_xbins','num_ybins')\n",
    "            self.num_ybins.visible = True\n",
    "            \n",
    "    def density_plot(self,_=None):\n",
    "        clear_output()\n",
    "        if self.kwargs['dataset']=='ALL':\n",
    "            self.x_column.value = 'x'\n",
    "            self.y_column.value = 'y'\n",
    "            subdf = self.data.copy()\n",
    "        else:\n",
    "            subdf = self.data[self.data['dataset']==self.dataset()].copy()\n",
    "        x,y = subdf[self.x_column()],subdf[self.y_column()]\n",
    "        x_regions = 10\n",
    "        y_regions = 10\n",
    "        x_bins = np.linspace(x.min(),x.max(),num=self.kwargs['num_xbins'])\n",
    "        y_bins = np.linspace(y.min(),y.max(),num=self.kwargs['num_ybins'])\n",
    "        \n",
    "        g = sns.JointGrid(x=self.x_column(), y=self.y_column(), data=subdf)\n",
    "        \n",
    "        g.fig.set_figwidth(14)\n",
    "        g.fig.set_figheight(9)\n",
    "        if self.kwargs['plot_density']:\n",
    "            g = g.plot_joint(sns.kdeplot, shade=True,alpha=0.5,legend=True,bw=self.kwargs['bw'],\n",
    "                             gridsize=int((len(x_bins)+len(y_bins))/2),\n",
    "                             clip=((x.min()*0.95,x.max()*1.05),(y.min()*0.95,y.max()*1.05)))\n",
    "        \n",
    "        if self.kwargs['scatter']:\n",
    "            g = g.plot_joint(plt.scatter,s=80,alpha=0.8)\n",
    "            \n",
    "        \n",
    "        if self.kwargs['marginals'] in ['Histogram','Both']:\n",
    "            _ = g.ax_marg_x.hist(x, alpha=.6,\n",
    "                                  bins=x_bins,normed=True)\n",
    "            _ = g.ax_marg_y.hist(y, alpha=.6,\n",
    "                                   orientation=\"horizontal\",\n",
    "                                   bins=y_bins,normed=True)\n",
    "        if self.kwargs['marginals'] in ['KDE','Both']:\n",
    "            clip = ((x.values.min()*0.95,x.values.max()*1.05),(y.values.min()*0.95,y.values.max()*1.05))\n",
    "            g = g.plot_marginals(sns.kdeplot, shade=True,alpha=0.5,\n",
    "                             gridsize=int((len(x_bins)+len(y_bins))/2))\n",
    "                             \n",
    "        if self.kwargs['regression']:\n",
    "            g = g.plot_joint(sns.regplot,\n",
    "                             robust=self.kwargs['robust'],\n",
    "                             ci=self.kwargs['ci'],\n",
    "                             order=self.kwargs['reg_order'],\n",
    "                             truncate=True,\n",
    "                             scatter_kws={\"s\": 0})\n",
    "        if self.kwargs['grid']:\n",
    "            plt.grid(linewidth=2) \n",
    "            plt.xticks(x_bins)\n",
    "            plt.yticks(y_bins)\n",
    "            \n",
    "        plt.xlim(x.values.min()*0.95,x.values.max()*1.05)\n",
    "        plt.ylim(y.values.min()*0.95,y.values.max()*1.05)\n",
    "         \n",
    "        \n",
    "      \n",
    "        if self.kwargs['save']:\n",
    "            _ =plt.savefig(\"density_plot_{}.png\".format(self._i_plot), dpi=100)\n",
    "            self._i_plot += 1"
   ]
  },
  {
   "cell_type": "code",
   "execution_count": 21,
   "metadata": {
    "collapsed": false,
    "deletable": true,
    "editable": true
   },
   "outputs": [
    {
     "data": {
      "image/png": "[encoded data removed]",
      "text/plain": [
       "<matplotlib.figure.Figure at 0x7f827b4cd198>"
      ]
     },
     "metadata": {},
     "output_type": "display_data"
    }
   ],
   "source": [
    "DensityPlot(data)[0]"
   ]
  },
  {
   "cell_type": "code",
   "execution_count": null,
   "metadata": {
    "collapsed": true,
    "deletable": true,
    "editable": true
   },
   "outputs": [],
   "source": []
  }
 ],
 "metadata": {
  "anaconda-cloud": {},
  "kernelspec": {
   "display_name": "Python [conda root]",
   "language": "python",
   "name": "conda-root-py"
  },
  "language_info": {
   "codemirror_mode": {
    "name": "ipython",
    "version": 3
   },
   "file_extension": ".py",
   "mimetype": "text/x-python",
   "name": "python",
   "nbconvert_exporter": "python",
   "pygments_lexer": "ipython3",
   "version": "3.5.3"
  },
  "widgets": {
   "application/vnd.jupyter.widget-state+json": {
    "state": {
     "00db9ed3d49b4db6aca5391749f199fd": {
      "model_module": "jupyter-js-widgets",
      "model_module_version": "~2.1.4",
      "model_name": "LayoutModel",
      "state": {
       "_model_module_version": "~2.1.4",
       "_view_module_version": "~2.1.4",
       "display": "",
       "max_width": "300px",
       "min_width": "100px",
       "visibility": "visible"
      }
     },
     "011a5c4f5b0f46b0adeca81f40077841": {
      "model_module": "jupyter-js-widgets",
      "model_module_version": "~2.1.4",
      "model_name": "TextModel",
      "state": {
       "_model_module_version": "~2.1.4",
       "_view_module_version": "~2.1.4",
       "description": "Text",
       "layout": "IPY_MODEL_623b9c8a56f54b89a248c3183cf34f3f",
       "value": "moco"
      }
     },
     "011b10a3f9854a47869ea22fa4a94061": {
      "model_module": "jupyter-js-widgets",
      "model_module_version": "~2.1.4",
      "model_name": "LayoutModel",
      "state": {
       "_model_module_version": "~2.1.4",
       "_view_module_version": "~2.1.4",
       "display": "",
       "min_width": "100px",
       "visibility": "visible"
      }
     },
     "019b338fd22a4112ac0bff6dff306436": {
      "model_module": "jupyter-js-widgets",
      "model_module_version": "~2.1.4",
      "model_name": "LayoutModel",
      "state": {
       "_model_module_version": "~2.1.4",
       "_view_module_version": "~2.1.4",
       "display": "",
       "min_width": "100px",
       "visibility": "visible"
      }
     },
     "02282a6f26764b32bae4d109c4af3e85": {
      "model_module": "jupyter-js-widgets",
      "model_module_version": "~2.1.4",
      "model_name": "TextModel",
      "state": {
       "_model_module_version": "~2.1.4",
       "_view_module_version": "~2.1.4",
       "description": "Text",
       "layout": "IPY_MODEL_58a76aa4d8a241499e3766b55925528b",
       "value": "moco"
      }
     },
     "024125a40e9b40fb8f5317198fa211bb": {
      "model_module": "jupyter-js-widgets",
      "model_module_version": "~2.1.4",
      "model_name": "LayoutModel",
      "state": {
       "_model_module_version": "~2.1.4",
       "_view_module_version": "~2.1.4",
       "display": "",
       "max_width": "300px",
       "min_width": "100px",
       "visibility": "visible"
      }
     },
     "02e647ec088c434c9f0a076a5c7a0c7c": {
      "model_module": "jupyter-js-widgets",
      "model_module_version": "~2.1.4",
      "model_name": "LayoutModel",
      "state": {
       "_model_module_version": "~2.1.4",
       "_view_module_version": "~2.1.4",
       "display": "",
       "min_width": "100px",
       "visibility": "visible"
      }
     },
     "0368c4f0de5147b58be3c07fc2246b16": {
      "model_module": "jupyter-js-widgets",
      "model_module_version": "~2.1.4",
      "model_name": "IntSliderModel",
      "state": {
       "_model_module_version": "~2.1.4",
       "_view_module_version": "~2.1.4",
       "layout": "IPY_MODEL_efc8f8a739ab4c71be2f5cd09bf399b8",
       "max": 40,
       "min": 1,
       "step": 2,
       "style": "IPY_MODEL_754a6abd88ea4969a79e66402d30a375",
       "value": 10
      }
     },
     "03740cee47a7411eb1abb974a21504dc": {
      "model_module": "jupyter-js-widgets",
      "model_module_version": "~2.1.4",
      "model_name": "SliderStyleModel",
      "state": {
       "_model_module_version": "~2.1.4",
       "_view_module_version": "~2.1.4"
      }
     },
     "0387b13f8d74469e95acdec8066383a2": {
      "model_module": "jupyter-js-widgets",
      "model_module_version": "~2.1.4",
      "model_name": "LayoutModel",
      "state": {
       "_model_module_version": "~2.1.4",
       "_view_module_version": "~2.1.4",
       "display": "",
       "min_width": "100px",
       "visibility": "visible"
      }
     },
     "046bd54b368c432c8195eabc246e4c4f": {
      "model_module": "jupyter-js-widgets",
      "model_module_version": "~2.1.4",
      "model_name": "LayoutModel",
      "state": {
       "_model_module_version": "~2.1.4",
       "_view_module_version": "~2.1.4",
       "display": "",
       "max_width": "300px",
       "min_width": "100px",
       "visibility": "visible"
      }
     },
     "046f33505cb04fdaa1058f0cd0bb22bd": {
      "model_module": "jupyter-js-widgets",
      "model_module_version": "~2.1.4",
      "model_name": "SliderStyleModel",
      "state": {
       "_model_module_version": "~2.1.4",
       "_view_module_version": "~2.1.4"
      }
     },
     "052bd1291ba04035b23fccbdca444237": {
      "model_module": "jupyter-js-widgets",
      "model_module_version": "~2.1.4",
      "model_name": "IntSliderModel",
      "state": {
       "_model_module_version": "~2.1.4",
       "_view_module_version": "~2.1.4",
       "description": "Int slider",
       "layout": "IPY_MODEL_88ce7a899b0c45a09a2788596cfd794e",
       "max": 104,
       "min": -96,
       "style": "IPY_MODEL_46c3eb09148c43b68933010ff9e544cf",
       "value": 4
      }
     },
     "055a692bd42c4df9855afb6959f738e6": {
      "model_module": "jupyter-js-widgets",
      "model_module_version": "~2.1.4",
      "model_name": "LayoutModel",
      "state": {
       "_model_module_version": "~2.1.4",
       "_view_module_version": "~2.1.4",
       "display": "",
       "max_width": "300px",
       "min_width": "100px",
       "visibility": "visible"
      }
     },
     "056f91fce5644c508380f2165ed6ada5": {
      "model_module": "jupyter-js-widgets",
      "model_module_version": "~2.1.4",
      "model_name": "CheckboxModel",
      "state": {
       "_model_module_version": "~2.1.4",
       "_view_module_version": "~2.1.4",
       "description": "Percents",
       "disabled": false,
       "layout": "IPY_MODEL_6c40fb963e02407e98d7299e05ff4fb4",
       "value": false
      }
     },
     "0577824f83ca49c6a9bfb06dce3ce7c8": {
      "model_module": "jupyter-js-widgets",
      "model_module_version": "~2.1.4",
      "model_name": "LayoutModel",
      "state": {
       "_model_module_version": "~2.1.4",
       "_view_module_version": "~2.1.4",
       "display": "",
       "max_width": "300px",
       "min_width": "100px",
       "visibility": "visible"
      }
     },
     "05cc426282f248a79c07432cacf6b133": {
      "model_module": "jupyter-js-widgets",
      "model_module_version": "~2.1.4",
      "model_name": "DropdownModel",
      "state": {
       "_model_module_version": "~2.1.4",
       "_options_labels": [
        "Hello",
        "World"
       ],
       "_view_module_version": "~2.1.4",
       "description": "Dropdown",
       "layout": "IPY_MODEL_9e5a13d08fc6493880b626f59105581c",
       "value": "Hello"
      }
     },
     "069a6180afba4b6db4e18f74ee69f953": {
      "model_module": "jupyter-js-widgets",
      "model_module_version": "~2.1.4",
      "model_name": "LayoutModel",
      "state": {
       "_model_module_version": "~2.1.4",
       "_view_module_version": "~2.1.4",
       "display": "",
       "max_width": "300px",
       "min_width": "100px",
       "visibility": "visible"
      }
     },
     "06bac6d6455f4b3f8be931c11d79fc9e": {
      "model_module": "jupyter-js-widgets",
      "model_module_version": "~2.1.4",
      "model_name": "HBoxModel",
      "state": {
       "_model_module_version": "~2.1.4",
       "_view_module_version": "~2.1.4",
       "children": [
        "IPY_MODEL_32921da6aa2e46999d2483608cc8e234",
        "IPY_MODEL_e9fa0063ca824064ad146be1f0b574e5"
       ],
       "layout": "IPY_MODEL_bfa0d6e1fe2d496fb290be8b8dd1fd64"
      }
     },
     "06e1fab7ca444fa2b669006eee407522": {
      "model_module": "jupyter-js-widgets",
      "model_module_version": "~2.1.4",
      "model_name": "LayoutModel",
      "state": {
       "_model_module_version": "~2.1.4",
       "_view_module_version": "~2.1.4",
       "display": "",
       "max_width": "300px",
       "min_width": "100px",
       "visibility": "visible"
      }
     },
     "073b32a7cfa34c6698b72133ba17489e": {
      "model_module": "jupyter-js-widgets",
      "model_module_version": "~2.1.4",
      "model_name": "LayoutModel",
      "state": {
       "_model_module_version": "~2.1.4",
       "_view_module_version": "~2.1.4"
      }
     },
     "089a9ca5b9674907a4e9902818cddbc5": {
      "model_module": "jupyter-js-widgets",
      "model_module_version": "~2.1.4",
      "model_name": "DropdownModel",
      "state": {
       "_model_module_version": "~2.1.4",
       "_options_labels": [
        "Normal",
        "example_2",
        "custom"
       ],
       "_view_module_version": "~2.1.4",
       "description": "distribution",
       "layout": "IPY_MODEL_30ff4a21222543cea5980b686353b9d8",
       "value": "Normal"
      }
     },
     "08b972d6fefe49b5bb21b9b2ebb72597": {
      "model_module": "jupyter-js-widgets",
      "model_module_version": "~2.1.4",
      "model_name": "LayoutModel",
      "state": {
       "_model_module_version": "~2.1.4",
       "_view_module_version": "~2.1.4",
       "display": "",
       "min_width": "100px",
       "visibility": "visible"
      }
     },
     "08ffc4fe181f44899c1939d3722ddb4c": {
      "model_module": "jupyter-js-widgets",
      "model_module_version": "~2.1.4",
      "model_name": "LayoutModel",
      "state": {
       "_model_module_version": "~2.1.4",
       "_view_module_version": "~2.1.4",
       "display": "",
       "min_width": "100px",
       "visibility": "visible"
      }
     },
     "094ec1c828434063a9e275e699b62002": {
      "model_module": "jupyter-js-widgets",
      "model_module_version": "~2.1.4",
      "model_name": "DropdownModel",
      "state": {
       "_model_module_version": "~2.1.4",
       "_options_labels": [
        "Hello",
        "World"
       ],
       "_view_module_version": "~2.1.4",
       "description": "Dropdown",
       "layout": "IPY_MODEL_e0fadabbe7114eeba2d216c0e3f92998",
       "value": "Hello"
      }
     },
     "0a25c4e4d43e4cfbbc7610da3bc54398": {
      "model_module": "jupyter-js-widgets",
      "model_module_version": "~2.1.4",
      "model_name": "LayoutModel",
      "state": {
       "_model_module_version": "~2.1.4",
       "_view_module_version": "~2.1.4",
       "display": "",
       "max_width": "300px",
       "min_width": "100px",
       "visibility": "visible"
      }
     },
     "0ad7e19139814d0c9a82f9846993111e": {
      "model_module": "jupyter-js-widgets",
      "model_module_version": "~2.1.4",
      "model_name": "LayoutModel",
      "state": {
       "_model_module_version": "~2.1.4",
       "_view_module_version": "~2.1.4",
       "display": "",
       "min_width": "100px",
       "visibility": "visible"
      }
     },
     "0ae7ec9520eb438883a1bccdbd74d3e4": {
      "model_module": "jupyter-js-widgets",
      "model_module_version": "~2.1.4",
      "model_name": "FloatSliderModel",
      "state": {
       "_model_module_version": "~2.1.4",
       "_view_module_version": "~2.1.4",
       "description": "Float slider",
       "layout": "IPY_MODEL_a2dd89dac8d84769aae662e3328222b8",
       "max": 10
      }
     },
     "0bb05b26010e464daf7de0db1d5534ce": {
      "model_module": "jupyter-js-widgets",
      "model_module_version": "~2.1.4",
      "model_name": "LayoutModel",
      "state": {
       "_model_module_version": "~2.1.4",
       "_view_module_version": "~2.1.4",
       "display": "",
       "min_width": "100px",
       "visibility": "visible"
      }
     },
     "0be3a539736c47eab244c53dad416c89": {
      "model_module": "jupyter-js-widgets",
      "model_module_version": "~2.1.4",
      "model_name": "LayoutModel",
      "state": {
       "_model_module_version": "~2.1.4",
       "_view_module_version": "~2.1.4",
       "display": "",
       "max_width": "300px",
       "min_width": "100px",
       "visibility": "visible"
      }
     },
     "0c5356224def40e7a99a5a00851e7078": {
      "model_module": "jupyter-js-widgets",
      "model_module_version": "~2.1.4",
      "model_name": "VBoxModel",
      "state": {
       "_model_module_version": "~2.1.4",
       "_view_module_version": "~2.1.4",
       "children": [
        "IPY_MODEL_b099b76271ca46508afda7df7a1c3e5e",
        "IPY_MODEL_056f91fce5644c508380f2165ed6ada5"
       ],
       "layout": "IPY_MODEL_60d82ffd67ba404996beddd9c350794b"
      }
     },
     "0ca2e37259f24c30ac68cbbf2a24a86a": {
      "model_module": "jupyter-js-widgets",
      "model_module_version": "~2.1.4",
      "model_name": "LayoutModel",
      "state": {
       "_model_module_version": "~2.1.4",
       "_view_module_version": "~2.1.4",
       "display": "",
       "min_width": "100px",
       "visibility": "visible"
      }
     },
     "0ca9221532bc4d66bb6ca534be4b4a0f": {
      "model_module": "jupyter-js-widgets",
      "model_module_version": "~2.1.4",
      "model_name": "IntSliderModel",
      "state": {
       "_model_module_version": "~2.1.4",
       "_view_module_version": "~2.1.4",
       "description": "Int slider",
       "layout": "IPY_MODEL_b01ee7106f744a16b9a072bb285c44d8",
       "max": 104,
       "min": -96,
       "style": "IPY_MODEL_c94f9654b5f744bb91076c2a83611e49",
       "value": 4
      }
     },
     "0cafa66017704d3da3e66d64fac8e96a": {
      "model_module": "jupyter-js-widgets",
      "model_module_version": "~2.1.4",
      "model_name": "LayoutModel",
      "state": {
       "_model_module_version": "~2.1.4",
       "_view_module_version": "~2.1.4",
       "display": "",
       "min_width": "100px",
       "visibility": "visible"
      }
     },
     "0cbbddaf0344408d90ec005214fba46c": {
      "model_module": "jupyter-js-widgets",
      "model_module_version": "~2.1.4",
      "model_name": "TextModel",
      "state": {
       "_model_module_version": "~2.1.4",
       "_view_module_version": "~2.1.4",
       "description": "Text",
       "layout": "IPY_MODEL_b681667180864ca08b5090390bb986fe",
       "value": "moco"
      }
     },
     "0d3253543e0344f884a114689b9ee399": {
      "model_module": "jupyter-js-widgets",
      "model_module_version": "~2.1.4",
      "model_name": "FloatSliderModel",
      "state": {
       "_model_module_version": "~2.1.4",
       "_view_module_version": "~2.1.4",
       "description": "Bandwidth",
       "layout": "IPY_MODEL_a935c3df669843da91cf39a0189f96c8",
       "max": 10,
       "min": 0.001,
       "step": 0.05,
       "value": 0.5
      }
     },
     "0e1be8255bee42f8a798fffcc89efdd8": {
      "model_module": "jupyter-js-widgets",
      "model_module_version": "~2.1.4",
      "model_name": "SliderStyleModel",
      "state": {
       "_model_module_version": "~2.1.4",
       "_view_module_version": "~2.1.4"
      }
     },
     "0eb0427a7eeb4d849d672590e322e795": {
      "model_module": "jupyter-js-widgets",
      "model_module_version": "~2.1.4",
      "model_name": "HTMLModel",
      "state": {
       "_model_module_version": "~2.1.4",
       "_view_module_version": "~2.1.4",
       "layout": "IPY_MODEL_0cafa66017704d3da3e66d64fac8e96a",
       "value": "<h1>historam options</h1>"
      }
     },
     "0ec1463a5cff4763989a829cc9b55309": {
      "model_module": "jupyter-js-widgets",
      "model_module_version": "~2.1.4",
      "model_name": "LayoutModel",
      "state": {
       "_model_module_version": "~2.1.4",
       "_view_module_version": "~2.1.4"
      }
     },
     "0f97850260074b638c19064d61adac02": {
      "model_module": "jupyter-js-widgets",
      "model_module_version": "~2.1.4",
      "model_name": "LayoutModel",
      "state": {
       "_model_module_version": "~2.1.4",
       "_view_module_version": "~2.1.4",
       "display": "",
       "min_width": "100px",
       "visibility": "visible"
      }
     },
     "0fee03f168b5461e896eeb3d23ffc50d": {
      "model_module": "jupyter-js-widgets",
      "model_module_version": "~2.1.4",
      "model_name": "LayoutModel",
      "state": {
       "_model_module_version": "~2.1.4",
       "_view_module_version": "~2.1.4",
       "display": "",
       "max_width": "300px",
       "min_width": "100px",
       "visibility": "visible"
      }
     },
     "1085ca2e51584f928408dd7cb17f0dda": {
      "model_module": "jupyter-js-widgets",
      "model_module_version": "~2.1.4",
      "model_name": "LayoutModel",
      "state": {
       "_model_module_version": "~2.1.4",
       "_view_module_version": "~2.1.4",
       "display": "",
       "max_width": "300px",
       "min_width": "100px",
       "visibility": "visible"
      }
     },
     "10a53eced76644c8aed91b4ba0cad770": {
      "model_module": "jupyter-js-widgets",
      "model_module_version": "~2.1.4",
      "model_name": "VBoxModel",
      "state": {
       "_model_module_version": "~2.1.4",
       "_view_module_version": "~2.1.4",
       "children": [
        "IPY_MODEL_0eb0427a7eeb4d849d672590e322e795",
        "IPY_MODEL_71a0b48252804afab6a15b9df70d45e3",
        "IPY_MODEL_856514b43a6e4e33970e40e514805f7f",
        "IPY_MODEL_2be7aaa64614416792da6e26ddafae31"
       ],
       "layout": "IPY_MODEL_b5d62c39f06840368574667280586fd8"
      }
     },
     "10de499da3ce4c999d0fc478d16e04f2": {
      "model_module": "jupyter-js-widgets",
      "model_module_version": "~2.1.4",
      "model_name": "SliderStyleModel",
      "state": {
       "_model_module_version": "~2.1.4",
       "_view_module_version": "~2.1.4"
      }
     },
     "12ea348f6b3a4aae97e1760808d7910d": {
      "model_module": "jupyter-js-widgets",
      "model_module_version": "~2.1.4",
      "model_name": "ToggleButtonModel",
      "state": {
       "_model_module_version": "~2.1.4",
       "_view_module_version": "~2.1.4",
       "description": "Plot KDE",
       "layout": "IPY_MODEL_2739dc08901a47c8aab1dc8804d63116",
       "value": true
      }
     },
     "132be6f9195d47f6927c1d435317142d": {
      "model_module": "jupyter-js-widgets",
      "model_module_version": "~2.1.4",
      "model_name": "LayoutModel",
      "state": {
       "_model_module_version": "~2.1.4",
       "_view_module_version": "~2.1.4"
      }
     },
     "13e68778e18a4753a8f724122b4053d9": {
      "model_module": "jupyter-js-widgets",
      "model_module_version": "~2.1.4",
      "model_name": "FloatSliderModel",
      "state": {
       "_model_module_version": "~2.1.4",
       "_view_module_version": "~2.1.4",
       "description": "Float slider",
       "layout": "IPY_MODEL_0a25c4e4d43e4cfbbc7610da3bc54398",
       "max": 10,
       "min": 2,
       "value": 2
      }
     },
     "1481428222a7460face56a33916fdb7e": {
      "model_module": "jupyter-js-widgets",
      "model_module_version": "~2.1.4",
      "model_name": "VBoxModel",
      "state": {
       "_model_module_version": "~2.1.4",
       "_view_module_version": "~2.1.4",
       "children": [
        "IPY_MODEL_9aa1888ea251481f8c307806d1b3d623",
        "IPY_MODEL_82caccf339314f1dbd2b17cbcf0b5114",
        "IPY_MODEL_923994a930d7416eb4e726aee6950d7d",
        "IPY_MODEL_93978e7270de46bbb540122a3e391fa3",
        "IPY_MODEL_ee51402c53e34ddaabf9ab5b2167c6b3"
       ],
       "layout": "IPY_MODEL_019b338fd22a4112ac0bff6dff306436"
      }
     },
     "1520eca501884db8b249ef4ab7284195": {
      "model_module": "jupyter-js-widgets",
      "model_module_version": "~2.1.4",
      "model_name": "SliderStyleModel",
      "state": {
       "_model_module_version": "~2.1.4",
       "_view_module_version": "~2.1.4"
      }
     },
     "15861ab68deb46468c113965543e1df4": {
      "model_module": "jupyter-js-widgets",
      "model_module_version": "~2.1.4",
      "model_name": "HBoxModel",
      "state": {
       "_model_module_version": "~2.1.4",
       "_view_module_version": "~2.1.4",
       "children": [
        "IPY_MODEL_0ca9221532bc4d66bb6ca534be4b4a0f",
        "IPY_MODEL_011a5c4f5b0f46b0adeca81f40077841",
        "IPY_MODEL_f0d48550fdda4f3a8f6e5992cd92a22b"
       ],
       "layout": "IPY_MODEL_2463342398154b6d9c7cd78a60522e88"
      }
     },
     "1586c3fcc6f74f03a802df856bb23f29": {
      "model_module": "jupyter-js-widgets",
      "model_module_version": "~2.1.4",
      "model_name": "LayoutModel",
      "state": {
       "_model_module_version": "~2.1.4",
       "_view_module_version": "~2.1.4",
       "display": "",
       "min_width": "100px",
       "visibility": "visible"
      }
     },
     "15ec95f78052456faa23bc01591631ae": {
      "model_module": "jupyter-js-widgets",
      "model_module_version": "~2.1.4",
      "model_name": "LayoutModel",
      "state": {
       "_model_module_version": "~2.1.4",
       "_view_module_version": "~2.1.4",
       "display": "",
       "max_width": "300px",
       "min_width": "100px",
       "visibility": "visible"
      }
     },
     "171840e0ff714e7da61009c1f3cc8bb5": {
      "model_module": "jupyter-js-widgets",
      "model_module_version": "~2.1.4",
      "model_name": "LayoutModel",
      "state": {
       "_model_module_version": "~2.1.4",
       "_view_module_version": "~2.1.4"
      }
     },
     "178f8b08d1974e6b9ab8a72003546321": {
      "model_module": "jupyter-js-widgets",
      "model_module_version": "~2.1.4",
      "model_name": "LayoutModel",
      "state": {
       "_model_module_version": "~2.1.4",
       "_view_module_version": "~2.1.4",
       "display": "",
       "max_width": "300px",
       "min_width": "100px",
       "visibility": "visible"
      }
     },
     "1af1c1f37cc6437abda5569177571d98": {
      "model_module": "jupyter-js-widgets",
      "model_module_version": "~2.1.4",
      "model_name": "CheckboxModel",
      "state": {
       "_model_module_version": "~2.1.4",
       "_view_module_version": "~2.1.4",
       "description": "std",
       "disabled": false,
       "layout": "IPY_MODEL_073b32a7cfa34c6698b72133ba17489e",
       "value": false
      }
     },
     "1bab8a9349774f2daae19327cb843c7f": {
      "model_module": "jupyter-js-widgets",
      "model_module_version": "~2.1.4",
      "model_name": "HBoxModel",
      "state": {
       "_model_module_version": "~2.1.4",
       "_view_module_version": "~2.1.4",
       "children": [
        "IPY_MODEL_b86cc78537f24f4c86d72b3b2cd03659",
        "IPY_MODEL_f4a2843d5f3543bbbe2e5e115700c704"
       ],
       "layout": "IPY_MODEL_87a77f36434d455f9a82de7576299833"
      }
     },
     "1c5f777e7b8244baabc01f2b51561b43": {
      "model_module": "jupyter-js-widgets",
      "model_module_version": "~2.1.4",
      "model_name": "LayoutModel",
      "state": {
       "_model_module_version": "~2.1.4",
       "_view_module_version": "~2.1.4",
       "display": "",
       "min_width": "100px",
       "visibility": "visible"
      }
     },
     "1ce7d3ea4f34452097c69b2efc36de18": {
      "model_module": "jupyter-js-widgets",
      "model_module_version": "~2.1.4",
      "model_name": "LayoutModel",
      "state": {
       "_model_module_version": "~2.1.4",
       "_view_module_version": "~2.1.4",
       "display": "",
       "max_width": "300px",
       "min_width": "100px",
       "visibility": "visible"
      }
     },
     "1e13bf9f240f48c6b598a5ce3d1623b8": {
      "model_module": "jupyter-js-widgets",
      "model_module_version": "~2.1.4",
      "model_name": "LayoutModel",
      "state": {
       "_model_module_version": "~2.1.4",
       "_view_module_version": "~2.1.4",
       "display": "",
       "max_width": "300px",
       "min_width": "100px",
       "visibility": "visible"
      }
     },
     "1e778ba465644a4da4ca5f8b7abad9cd": {
      "model_module": "jupyter-js-widgets",
      "model_module_version": "~2.1.4",
      "model_name": "CheckboxModel",
      "state": {
       "_model_module_version": "~2.1.4",
       "_view_module_version": "~2.1.4",
       "description": "normed",
       "disabled": false,
       "layout": "IPY_MODEL_132be6f9195d47f6927c1d435317142d",
       "value": false
      }
     },
     "1ea4ab9a364b4e82ad2d652ccd216f7f": {
      "model_module": "jupyter-js-widgets",
      "model_module_version": "~2.1.4",
      "model_name": "IntSliderModel",
      "state": {
       "_model_module_version": "~2.1.4",
       "_view_module_version": "~2.1.4",
       "layout": "IPY_MODEL_41cb6977a39b4162a1e600171affd0b4",
       "max": 40,
       "min": 1,
       "step": 2,
       "style": "IPY_MODEL_ee26d414171c498b8df2217849973109",
       "value": 10
      }
     },
     "1f9746be86bd4292ba338b1c767f8568": {
      "model_module": "jupyter-js-widgets",
      "model_module_version": "~2.1.4",
      "model_name": "LayoutModel",
      "state": {
       "_model_module_version": "~2.1.4",
       "_view_module_version": "~2.1.4",
       "display": "",
       "max_width": "300px",
       "min_width": "100px",
       "visibility": "visible"
      }
     },
     "1feaaa608b14424ebfd6fa3eb93d1691": {
      "model_module": "jupyter-js-widgets",
      "model_module_version": "~2.1.4",
      "model_name": "ToggleButtonModel",
      "state": {
       "_model_module_version": "~2.1.4",
       "_view_module_version": "~2.1.4",
       "description": "Plot Scatter",
       "layout": "IPY_MODEL_ac538ab062b54291b187f266518a2acb",
       "value": true
      }
     },
     "201c9ed084a44320a9ad1b3d09e77663": {
      "model_module": "jupyter-js-widgets",
      "model_module_version": "~2.1.4",
      "model_name": "LayoutModel",
      "state": {
       "_model_module_version": "~2.1.4",
       "_view_module_version": "~2.1.4",
       "display": "",
       "min_width": "100px",
       "visibility": "visible"
      }
     },
     "21024aace2b04224808fb62bf9388719": {
      "model_module": "jupyter-js-widgets",
      "model_module_version": "~2.1.4",
      "model_name": "VBoxModel",
      "state": {
       "_model_module_version": "~2.1.4",
       "_view_module_version": "~2.1.4",
       "children": [
        "IPY_MODEL_a1fd6c0235e5428380c1099573a3af93"
       ],
       "layout": "IPY_MODEL_2ba545478d6d4f8f956742ace777dc9e"
      }
     },
     "2103987926304037869d76b321441ede": {
      "model_module": "jupyter-js-widgets",
      "model_module_version": "~2.1.4",
      "model_name": "LayoutModel",
      "state": {
       "_model_module_version": "~2.1.4",
       "_view_module_version": "~2.1.4",
       "display": "",
       "max_width": "300px",
       "min_width": "100px",
       "visibility": "visible"
      }
     },
     "215a1040db1647f49702101d94e12d21": {
      "model_module": "jupyter-js-widgets",
      "model_module_version": "~2.1.4",
      "model_name": "CheckboxModel",
      "state": {
       "_model_module_version": "~2.1.4",
       "_view_module_version": "~2.1.4",
       "description": "percents",
       "disabled": false,
       "layout": "IPY_MODEL_ca4b8d2444214a5fae4852c6e38d6b70",
       "value": false
      }
     },
     "215a9a3487744180904ec643c9cbf7eb": {
      "model_module": "jupyter-js-widgets",
      "model_module_version": "~2.1.4",
      "model_name": "LayoutModel",
      "state": {
       "_model_module_version": "~2.1.4",
       "_view_module_version": "~2.1.4",
       "display": "",
       "max_width": "300px",
       "min_width": "100px",
       "visibility": "visible"
      }
     },
     "21ed3f570cd04417a2d125d22868b960": {
      "model_module": "jupyter-js-widgets",
      "model_module_version": "~2.1.4",
      "model_name": "LayoutModel",
      "state": {
       "_model_module_version": "~2.1.4",
       "_view_module_version": "~2.1.4",
       "display": "none",
       "max_width": "300px",
       "min_width": "100px",
       "visibility": "hidden"
      }
     },
     "230bb895200948efa44eb02b84e40c42": {
      "model_module": "jupyter-js-widgets",
      "model_module_version": "~2.1.4",
      "model_name": "LayoutModel",
      "state": {
       "_model_module_version": "~2.1.4",
       "_view_module_version": "~2.1.4",
       "display": "",
       "max_width": "300px",
       "min_width": "100px",
       "visibility": "visible"
      }
     },
     "2463342398154b6d9c7cd78a60522e88": {
      "model_module": "jupyter-js-widgets",
      "model_module_version": "~2.1.4",
      "model_name": "LayoutModel",
      "state": {
       "_model_module_version": "~2.1.4",
       "_view_module_version": "~2.1.4",
       "display": "",
       "min_width": "100px",
       "visibility": "visible"
      }
     },
     "246c5777b7084190a5ba60475e4640bd": {
      "model_module": "jupyter-js-widgets",
      "model_module_version": "~2.1.4",
      "model_name": "HBoxModel",
      "state": {
       "_model_module_version": "~2.1.4",
       "_view_module_version": "~2.1.4",
       "children": [
        "IPY_MODEL_87206cef6c1843018bac193248304834"
       ],
       "layout": "IPY_MODEL_951f7bdf4d6f4418b887aad5f01e5233"
      }
     },
     "25438f10cda546848bac7313162cb313": {
      "model_module": "jupyter-js-widgets",
      "model_module_version": "~2.1.4",
      "model_name": "CheckboxModel",
      "state": {
       "_model_module_version": "~2.1.4",
       "_view_module_version": "~2.1.4",
       "description": "Percents",
       "disabled": false,
       "layout": "IPY_MODEL_c11cbaf539e2481bac701c760760f858",
       "value": false
      }
     },
     "25cc4108e11b47149312ec263d6af38f": {
      "model_module": "jupyter-js-widgets",
      "model_module_version": "~2.1.4",
      "model_name": "CheckboxModel",
      "state": {
       "_model_module_version": "~2.1.4",
       "_view_module_version": "~2.1.4",
       "description": "hist",
       "disabled": false,
       "layout": "IPY_MODEL_400857ef2a76487a96bfba817017a437",
       "value": true
      }
     },
     "264e3ef8a15045bc8b611740cb977dd5": {
      "model_module": "jupyter-js-widgets",
      "model_module_version": "~2.1.4",
      "model_name": "LayoutModel",
      "state": {
       "_model_module_version": "~2.1.4",
       "_view_module_version": "~2.1.4",
       "display": "",
       "max_width": "300px",
       "min_width": "100px",
       "visibility": "visible"
      }
     },
     "2677bfaad972403581c0b11895cf3326": {
      "model_module": "jupyter-js-widgets",
      "model_module_version": "~2.1.4",
      "model_name": "VBoxModel",
      "state": {
       "_model_module_version": "~2.1.4",
       "_view_module_version": "~2.1.4",
       "children": [
        "IPY_MODEL_9291087e3e99423caba76cd0b9ceeb87"
       ],
       "layout": "IPY_MODEL_501d1c8cc9b04c308c99187b98d525de"
      }
     },
     "2739dc08901a47c8aab1dc8804d63116": {
      "model_module": "jupyter-js-widgets",
      "model_module_version": "~2.1.4",
      "model_name": "LayoutModel",
      "state": {
       "_model_module_version": "~2.1.4",
       "_view_module_version": "~2.1.4",
       "display": "",
       "max_width": "300px",
       "min_width": "100px",
       "visibility": "visible"
      }
     },
     "274556d9c2b44279994b13b5bbeaf6e5": {
      "model_module": "jupyter-js-widgets",
      "model_module_version": "~2.1.4",
      "model_name": "HBoxModel",
      "state": {
       "_model_module_version": "~2.1.4",
       "_view_module_version": "~2.1.4",
       "children": [
        "IPY_MODEL_052bd1291ba04035b23fccbdca444237",
        "IPY_MODEL_0cbbddaf0344408d90ec005214fba46c",
        "IPY_MODEL_094ec1c828434063a9e275e699b62002"
       ],
       "layout": "IPY_MODEL_ad7e7a9697b649ac9db739b21ff05b3e"
      }
     },
     "2865a849072249f4b6e36336086d06a5": {
      "model_module": "jupyter-js-widgets",
      "model_module_version": "~2.1.4",
      "model_name": "VBoxModel",
      "state": {
       "_model_module_version": "~2.1.4",
       "_view_module_version": "~2.1.4",
       "children": [
        "IPY_MODEL_8606ff08122548bca1d6dc7217774ece",
        "IPY_MODEL_97b3fd51f3cd47a2aad05c2638ed152a"
       ],
       "layout": "IPY_MODEL_b2bb790638794da694e7450d9743a3db"
      }
     },
     "29752de1629a4cc8b273442d7980ee05": {
      "model_module": "jupyter-js-widgets",
      "model_module_version": "~2.1.4",
      "model_name": "SliderStyleModel",
      "state": {
       "_model_module_version": "~2.1.4",
       "_view_module_version": "~2.1.4"
      }
     },
     "29cac6c8cbef4bc4a9bfc8d1bb507a66": {
      "model_module": "jupyter-js-widgets",
      "model_module_version": "~2.1.4",
      "model_name": "DropdownModel",
      "state": {
       "_model_module_version": "~2.1.4",
       "_options_labels": [
        "Normal",
        "example_2"
       ],
       "_view_module_version": "~2.1.4",
       "description": "Distribution",
       "layout": "IPY_MODEL_87b44948073f495e8931d0d6d2f5b98a",
       "value": "Normal"
      }
     },
     "2ab0b20b0c994ac59fe7393edc07ef64": {
      "model_module": "jupyter-js-widgets",
      "model_module_version": "~2.1.4",
      "model_name": "LayoutModel",
      "state": {
       "_model_module_version": "~2.1.4",
       "_view_module_version": "~2.1.4",
       "display": "",
       "max_width": "300px",
       "min_width": "100px",
       "visibility": "visible"
      }
     },
     "2ae58ef4f26e4ce1bf20948aaec35583": {
      "model_module": "jupyter-js-widgets",
      "model_module_version": "~2.1.4",
      "model_name": "LayoutModel",
      "state": {
       "_model_module_version": "~2.1.4",
       "_view_module_version": "~2.1.4",
       "display": "",
       "max_width": "300px",
       "min_width": "100px",
       "visibility": "visible"
      }
     },
     "2b0f5b6d99014b13bfe4b694a20ce722": {
      "model_module": "jupyter-js-widgets",
      "model_module_version": "~2.1.4",
      "model_name": "VBoxModel",
      "state": {
       "_model_module_version": "~2.1.4",
       "_view_module_version": "~2.1.4",
       "children": [
        "IPY_MODEL_ab55d25657ac4754a99a6c842bd135e1",
        "IPY_MODEL_3e0a289235854c5ea6929bda6220afa0",
        "IPY_MODEL_f98c2fbcb45c40ac8822f8ede94da814",
        "IPY_MODEL_7a9cf82486c540aca1d358efcd84a0dc"
       ],
       "layout": "IPY_MODEL_b0701ced65e34f4cb3960217eae3d2e4"
      }
     },
     "2b1ca11f335445c382f2147a520f4947": {
      "model_module": "jupyter-js-widgets",
      "model_module_version": "~2.1.4",
      "model_name": "VBoxModel",
      "state": {
       "_model_module_version": "~2.1.4",
       "_view_module_version": "~2.1.4",
       "children": [
        "IPY_MODEL_9cacf96f13724ad2b985593197676500",
        "IPY_MODEL_13e68778e18a4753a8f724122b4053d9"
       ],
       "layout": "IPY_MODEL_7b11a7a7b1174ddbbb3ced7a3a3663ff"
      }
     },
     "2b90f1d2055c4dc586704a6078eb0815": {
      "model_module": "jupyter-js-widgets",
      "model_module_version": "~2.1.4",
      "model_name": "ToggleButtonModel",
      "state": {
       "_model_module_version": "~2.1.4",
       "_view_module_version": "~2.1.4",
       "layout": "IPY_MODEL_6de7c717d04740f383970a9df480676e",
       "value": true
      }
     },
     "2ba545478d6d4f8f956742ace777dc9e": {
      "model_module": "jupyter-js-widgets",
      "model_module_version": "~2.1.4",
      "model_name": "LayoutModel",
      "state": {
       "_model_module_version": "~2.1.4",
       "_view_module_version": "~2.1.4",
       "display": "",
       "min_width": "100px",
       "visibility": "visible"
      }
     },
     "2bce76f4a7d648ea86f62d6f062fa5cc": {
      "model_module": "jupyter-js-widgets",
      "model_module_version": "~2.1.4",
      "model_name": "VBoxModel",
      "state": {
       "_model_module_version": "~2.1.4",
       "_view_module_version": "~2.1.4",
       "children": [
        "IPY_MODEL_d9691969bbb6402aa44f550deba95b12",
        "IPY_MODEL_e460e42da7f44cfd84756becb1c99fb6",
        "IPY_MODEL_9601ad290a6d4730a223b92e0a15d6a8",
        "IPY_MODEL_c74a576853ef4edb8993878162ce01d6",
        "IPY_MODEL_39b71b024541435494a95949f6164bb5"
       ],
       "layout": "IPY_MODEL_5f31ab0d94c241289059fd613146e96a"
      }
     },
     "2be7aaa64614416792da6e26ddafae31": {
      "model_module": "jupyter-js-widgets",
      "model_module_version": "~2.1.4",
      "model_name": "CheckboxModel",
      "state": {
       "_model_module_version": "~2.1.4",
       "_view_module_version": "~2.1.4",
       "description": "link_bins",
       "disabled": false,
       "layout": "IPY_MODEL_4829fc9608a64a5081ea2debbb81d974",
       "value": true
      }
     },
     "2c49cb18ba97429fa91d68feecbedb98": {
      "model_module": "jupyter-js-widgets",
      "model_module_version": "~2.1.4",
      "model_name": "DropdownModel",
      "state": {
       "_model_module_version": "~2.1.4",
       "_options_labels": [
        "ALL",
        "I",
        "II",
        "III",
        "IV"
       ],
       "_view_module_version": "~2.1.4",
       "description": "Dataset",
       "layout": "IPY_MODEL_82ae1e5699dc45b2bab7b72fbafcbd1b",
       "value": "ALL"
      }
     },
     "2c91c0dce2ab48ac972cfc0945833bda": {
      "model_module": "jupyter-js-widgets",
      "model_module_version": "~2.1.4",
      "model_name": "LayoutModel",
      "state": {
       "_model_module_version": "~2.1.4",
       "_view_module_version": "~2.1.4",
       "display": "",
       "min_width": "100px",
       "visibility": "visible"
      }
     },
     "2ddb709ca4924d6992bac529bb15d55a": {
      "model_module": "jupyter-js-widgets",
      "model_module_version": "~2.1.4",
      "model_name": "LayoutModel",
      "state": {
       "_model_module_version": "~2.1.4",
       "_view_module_version": "~2.1.4",
       "display": "",
       "min_width": "100px",
       "visibility": "visible"
      }
     },
     "2e7c722c37254d39849d6e4a2862e944": {
      "model_module": "jupyter-js-widgets",
      "model_module_version": "~2.1.4",
      "model_name": "LayoutModel",
      "state": {
       "_model_module_version": "~2.1.4",
       "_view_module_version": "~2.1.4",
       "display": "",
       "max_width": "300px",
       "min_width": "100px",
       "visibility": "visible"
      }
     },
     "2f7f1778f5bb40f5981c9483999d816d": {
      "model_module": "jupyter-js-widgets",
      "model_module_version": "~2.1.4",
      "model_name": "VBoxModel",
      "state": {
       "_model_module_version": "~2.1.4",
       "_view_module_version": "~2.1.4",
       "children": [
        "IPY_MODEL_9b050f6968194e4da4aeca347af165aa",
        "IPY_MODEL_0ae7ec9520eb438883a1bccdbd74d3e4"
       ],
       "layout": "IPY_MODEL_4707ca7aeac9488e9b04a5787ce71478"
      }
     },
     "2f8da49cc43541a7b961fa46a40e4d09": {
      "model_module": "jupyter-js-widgets",
      "model_module_version": "~2.1.4",
      "model_name": "VBoxModel",
      "state": {
       "_model_module_version": "~2.1.4",
       "_view_module_version": "~2.1.4",
       "children": [
        "IPY_MODEL_5e263b58da5040c187738c3962b5b964",
        "IPY_MODEL_73b53ace398f4211b6ac3ff97c5e665b",
        "IPY_MODEL_49c6ead6d60348d8804c6cb28a36c035",
        "IPY_MODEL_dbcbfa53a770438c8828b52b38b28fad"
       ],
       "layout": "IPY_MODEL_7d19dab33e6a455eb7b7050e33952cc1"
      }
     },
     "2f90c1e12a924fc2ad16d9a0d8bc986b": {
      "model_module": "jupyter-js-widgets",
      "model_module_version": "~2.1.4",
      "model_name": "CheckboxModel",
      "state": {
       "_model_module_version": "~2.1.4",
       "_view_module_version": "~2.1.4",
       "description": "Normed",
       "disabled": false,
       "layout": "IPY_MODEL_00db9ed3d49b4db6aca5391749f199fd",
       "value": false
      }
     },
     "30ff4a21222543cea5980b686353b9d8": {
      "model_module": "jupyter-js-widgets",
      "model_module_version": "~2.1.4",
      "model_name": "LayoutModel",
      "state": {
       "_model_module_version": "~2.1.4",
       "_view_module_version": "~2.1.4"
      }
     },
     "31566a2fa0754d4c930bbb61578dbc28": {
      "model_module": "jupyter-js-widgets",
      "model_module_version": "~2.1.4",
      "model_name": "IntSliderModel",
      "state": {
       "_model_module_version": "~2.1.4",
       "_view_module_version": "~2.1.4",
       "description": "Reg order",
       "layout": "IPY_MODEL_d10115f7208045548db0d1a37d27714d",
       "max": 10,
       "min": 1,
       "style": "IPY_MODEL_b1b6536b730a463ba946148aa4c4d3b9",
       "value": 1
      }
     },
     "3208cdb0227c445d9cf81c5a2a21f988": {
      "model_module": "jupyter-js-widgets",
      "model_module_version": "~2.1.4",
      "model_name": "LayoutModel",
      "state": {
       "_model_module_version": "~2.1.4",
       "_view_module_version": "~2.1.4",
       "display": "",
       "max_width": "300px",
       "min_width": "100px",
       "visibility": "visible"
      }
     },
     "320d7925d2ef43dc8eb1aed75c83d157": {
      "model_module": "jupyter-js-widgets",
      "model_module_version": "~2.1.4",
      "model_name": "SliderStyleModel",
      "state": {
       "_model_module_version": "~2.1.4",
       "_view_module_version": "~2.1.4"
      }
     },
     "32921da6aa2e46999d2483608cc8e234": {
      "model_module": "jupyter-js-widgets",
      "model_module_version": "~2.1.4",
      "model_name": "FloatSliderModel",
      "state": {
       "_model_module_version": "~2.1.4",
       "_view_module_version": "~2.1.4",
       "description": "Bw",
       "layout": "IPY_MODEL_f1ce3b3a78954926b3cf02a9c1351180",
       "max": 10,
       "min": 0.01,
       "step": 0.025,
       "value": 0.18
      }
     },
     "339f9fa56cf64a3b93cf153f91b30c05": {
      "model_module": "jupyter-js-widgets",
      "model_module_version": "~2.1.4",
      "model_name": "LayoutModel",
      "state": {
       "_model_module_version": "~2.1.4",
       "_view_module_version": "~2.1.4",
       "display": "",
       "max_width": "300px",
       "min_width": "100px",
       "visibility": "visible"
      }
     },
     "33d6eafa5c704f0a92ef972c30071ea9": {
      "model_module": "jupyter-js-widgets",
      "model_module_version": "~2.1.4",
      "model_name": "LayoutModel",
      "state": {
       "_model_module_version": "~2.1.4",
       "_view_module_version": "~2.1.4",
       "display": "",
       "max_width": "300px",
       "min_width": "100px",
       "visibility": "visible"
      }
     },
     "3454845175fd411f8f6fffef025803db": {
      "model_module": "jupyter-js-widgets",
      "model_module_version": "~2.1.4",
      "model_name": "DropdownModel",
      "state": {
       "_model_module_version": "~2.1.4",
       "_options_labels": [
        "Both",
        "None",
        "Histogram",
        "KDE"
       ],
       "_view_module_version": "~2.1.4",
       "description": "Marginals",
       "layout": "IPY_MODEL_9a3e66a02cb54c90b5e71a5346f2de04",
       "value": "Both"
      }
     },
     "346d31ed8f8d478b9507578c8a903758": {
      "model_module": "jupyter-js-widgets",
      "model_module_version": "~2.1.4",
      "model_name": "LayoutModel",
      "state": {
       "_model_module_version": "~2.1.4",
       "_view_module_version": "~2.1.4",
       "display": "",
       "min_width": "100px",
       "visibility": "visible"
      }
     },
     "3483d3aa131041c69dd1a8840b240c6f": {
      "model_module": "jupyter-js-widgets",
      "model_module_version": "~2.1.4",
      "model_name": "CheckboxModel",
      "state": {
       "_model_module_version": "~2.1.4",
       "_view_module_version": "~2.1.4",
       "disabled": false,
       "layout": "IPY_MODEL_739a5ad6499044efa64005f99d0dc259",
       "value": true
      }
     },
     "349f026a6ee0458d84f6d84285e68aa7": {
      "model_module": "jupyter-js-widgets",
      "model_module_version": "~2.1.4",
      "model_name": "LayoutModel",
      "state": {
       "_model_module_version": "~2.1.4",
       "_view_module_version": "~2.1.4",
       "display": "",
       "max_width": "300px",
       "min_width": "100px",
       "visibility": "visible"
      }
     },
     "351cb39588b742038722bdee15c2164b": {
      "model_module": "jupyter-js-widgets",
      "model_module_version": "~2.1.4",
      "model_name": "ToggleButtonModel",
      "state": {
       "_model_module_version": "~2.1.4",
       "_view_module_version": "~2.1.4",
       "layout": "IPY_MODEL_7d8483435fec44949b1588ff8db5d237"
      }
     },
     "35750248c5dd42289f23d617a7822995": {
      "model_module": "jupyter-js-widgets",
      "model_module_version": "~2.1.4",
      "model_name": "LayoutModel",
      "state": {
       "_model_module_version": "~2.1.4",
       "_view_module_version": "~2.1.4",
       "display": "",
       "max_width": "300px",
       "min_width": "100px",
       "visibility": "visible"
      }
     },
     "36810ed429b14f6f8aaad6e52c6eab74": {
      "model_module": "jupyter-js-widgets",
      "model_module_version": "~2.1.4",
      "model_name": "LayoutModel",
      "state": {
       "_model_module_version": "~2.1.4",
       "_view_module_version": "~2.1.4",
       "display": "",
       "max_width": "300px",
       "min_width": "100px",
       "visibility": "visible"
      }
     },
     "37b83e37e1eb42b18edc2bf320831c55": {
      "model_module": "jupyter-js-widgets",
      "model_module_version": "~2.1.4",
      "model_name": "LayoutModel",
      "state": {
       "_model_module_version": "~2.1.4",
       "_view_module_version": "~2.1.4",
       "display": "",
       "max_width": "300px",
       "min_width": "100px",
       "visibility": "visible"
      }
     },
     "38d1b57a9f694f49a856ebe04f425218": {
      "model_module": "jupyter-js-widgets",
      "model_module_version": "~2.1.4",
      "model_name": "LayoutModel",
      "state": {
       "_model_module_version": "~2.1.4",
       "_view_module_version": "~2.1.4",
       "display": "",
       "min_width": "100px",
       "visibility": "visible"
      }
     },
     "39123c3fc7684d7080ac9f223fb505be": {
      "model_module": "jupyter-js-widgets",
      "model_module_version": "~2.1.4",
      "model_name": "LayoutModel",
      "state": {
       "_model_module_version": "~2.1.4",
       "_view_module_version": "~2.1.4",
       "display": "",
       "max_width": "300px",
       "min_width": "100px",
       "visibility": "visible"
      }
     },
     "399cc5f4e36249779d31f6b151b18fd8": {
      "model_module": "jupyter-js-widgets",
      "model_module_version": "~2.1.4",
      "model_name": "CheckboxModel",
      "state": {
       "_model_module_version": "~2.1.4",
       "_view_module_version": "~2.1.4",
       "description": "Grid",
       "disabled": false,
       "layout": "IPY_MODEL_2ab0b20b0c994ac59fe7393edc07ef64",
       "value": true
      }
     },
     "39b71b024541435494a95949f6164bb5": {
      "model_module": "jupyter-js-widgets",
      "model_module_version": "~2.1.4",
      "model_name": "CheckboxModel",
      "state": {
       "_model_module_version": "~2.1.4",
       "_view_module_version": "~2.1.4",
       "description": "Robust",
       "disabled": false,
       "layout": "IPY_MODEL_46d4beb1886d47b89c0ba0e220d4bbc3",
       "value": false
      }
     },
     "3a21acddaa964ea88bd9f013aff9e0c6": {
      "model_module": "jupyter-js-widgets",
      "model_module_version": "~2.1.4",
      "model_name": "LayoutModel",
      "state": {
       "_model_module_version": "~2.1.4",
       "_view_module_version": "~2.1.4",
       "display": "",
       "min_width": "100px",
       "visibility": "visible"
      }
     },
     "3a444c55e03b46b68798cf93ad466aba": {
      "model_module": "jupyter-js-widgets",
      "model_module_version": "~2.1.4",
      "model_name": "HBoxModel",
      "state": {
       "_model_module_version": "~2.1.4",
       "_view_module_version": "~2.1.4",
       "layout": "IPY_MODEL_3a21acddaa964ea88bd9f013aff9e0c6"
      }
     },
     "3b8915cae20d4a4a9fac3ca754ab1cbb": {
      "model_module": "jupyter-js-widgets",
      "model_module_version": "~2.1.4",
      "model_name": "LayoutModel",
      "state": {
       "_model_module_version": "~2.1.4",
       "_view_module_version": "~2.1.4"
      }
     },
     "3bb790cb3e2840109390fb72efc2ad4e": {
      "model_module": "jupyter-js-widgets",
      "model_module_version": "~2.1.4",
      "model_name": "LayoutModel",
      "state": {
       "_model_module_version": "~2.1.4",
       "_view_module_version": "~2.1.4",
       "display": "",
       "min_width": "100px",
       "visibility": "visible"
      }
     },
     "3c092df6033c46c39743edaeb90a8724": {
      "model_module": "jupyter-js-widgets",
      "model_module_version": "~2.1.4",
      "model_name": "LayoutModel",
      "state": {
       "_model_module_version": "~2.1.4",
       "_view_module_version": "~2.1.4",
       "display": "",
       "min_width": "100px",
       "visibility": "visible"
      }
     },
     "3c2ece28f8c248fba01dfba0ea639c69": {
      "model_module": "jupyter-js-widgets",
      "model_module_version": "~2.1.4",
      "model_name": "LayoutModel",
      "state": {
       "_model_module_version": "~2.1.4",
       "_view_module_version": "~2.1.4",
       "display": "",
       "max_width": "300px",
       "min_width": "100px",
       "visibility": "visible"
      }
     },
     "3daac626e1984119a3ef7ee030b2e5ba": {
      "model_module": "jupyter-js-widgets",
      "model_module_version": "~2.1.4",
      "model_name": "DropdownModel",
      "state": {
       "_model_module_version": "~2.1.4",
       "_options_labels": [
        "ALL",
        "I",
        "II",
        "III",
        "IV"
       ],
       "_view_module_version": "~2.1.4",
       "layout": "IPY_MODEL_47c0e9c9789e44e98a5fe06bbf33fb84",
       "value": "ALL"
      }
     },
     "3e0a289235854c5ea6929bda6220afa0": {
      "model_module": "jupyter-js-widgets",
      "model_module_version": "~2.1.4",
      "model_name": "FloatSliderModel",
      "state": {
       "_model_module_version": "~2.1.4",
       "_view_module_version": "~2.1.4",
       "description": "Bw",
       "layout": "IPY_MODEL_4442d8ab5d694beeb1b21404e6b85be0",
       "max": 10,
       "min": 0.001,
       "step": 0.05,
       "value": 0.5
      }
     },
     "3e9880c08a374e728cfbe581e6b03b95": {
      "model_module": "jupyter-js-widgets",
      "model_module_version": "~2.1.4",
      "model_name": "VBoxModel",
      "state": {
       "_model_module_version": "~2.1.4",
       "_view_module_version": "~2.1.4",
       "children": [
        "IPY_MODEL_15861ab68deb46468c113965543e1df4",
        "IPY_MODEL_a3bc486d14b04f529e3bbda6e0fe3898"
       ],
       "layout": "IPY_MODEL_a7ba55a081f3427ba7e4baf1c1fd3726"
      }
     },
     "3f5de02a7e2d41ada97503cee4a81181": {
      "model_module": "jupyter-js-widgets",
      "model_module_version": "~2.1.4",
      "model_name": "LayoutModel",
      "state": {
       "_model_module_version": "~2.1.4",
       "_view_module_version": "~2.1.4",
       "display": "",
       "max_width": "300px",
       "min_width": "100px",
       "visibility": "visible"
      }
     },
     "400857ef2a76487a96bfba817017a437": {
      "model_module": "jupyter-js-widgets",
      "model_module_version": "~2.1.4",
      "model_name": "LayoutModel",
      "state": {
       "_model_module_version": "~2.1.4",
       "_view_module_version": "~2.1.4"
      }
     },
     "40170c29b3794130937f0a472e39ea19": {
      "model_module": "jupyter-js-widgets",
      "model_module_version": "~2.1.4",
      "model_name": "LayoutModel",
      "state": {
       "_model_module_version": "~2.1.4",
       "_view_module_version": "~2.1.4",
       "display": "",
       "max_width": "300px",
       "min_width": "100px",
       "visibility": "visible"
      }
     },
     "41509337c2a5472d895842ac31ffb94a": {
      "model_module": "jupyter-js-widgets",
      "model_module_version": "~2.1.4",
      "model_name": "LayoutModel",
      "state": {
       "_model_module_version": "~2.1.4",
       "_view_module_version": "~2.1.4",
       "display": "",
       "min_width": "100px",
       "visibility": "visible"
      }
     },
     "41cb6977a39b4162a1e600171affd0b4": {
      "model_module": "jupyter-js-widgets",
      "model_module_version": "~2.1.4",
      "model_name": "LayoutModel",
      "state": {
       "_model_module_version": "~2.1.4",
       "_view_module_version": "~2.1.4",
       "display": "",
       "max_width": "300px",
       "min_width": "100px",
       "visibility": "visible"
      }
     },
     "41ff33d76daa46a9ad1315f9ff661817": {
      "model_module": "jupyter-js-widgets",
      "model_module_version": "~2.1.4",
      "model_name": "LayoutModel",
      "state": {
       "_model_module_version": "~2.1.4",
       "_view_module_version": "~2.1.4",
       "display": "",
       "max_width": "300px",
       "min_width": "100px",
       "visibility": "visible"
      }
     },
     "43299d47f5d745e18327adbded9eef48": {
      "model_module": "jupyter-js-widgets",
      "model_module_version": "~2.1.4",
      "model_name": "VBoxModel",
      "state": {
       "_model_module_version": "~2.1.4",
       "_view_module_version": "~2.1.4",
       "children": [
        "IPY_MODEL_a0d1d72e711f4f94bacf52554939d769",
        "IPY_MODEL_884da662add84d15a4bc1a55ea257724",
        "IPY_MODEL_786771551e114e97925cc85480aa4e18",
        "IPY_MODEL_81cf79a7829b48d19e565495d226df3b",
        "IPY_MODEL_488cd261108849ee964ad5ebd82152fd"
       ],
       "layout": "IPY_MODEL_57f535acce8148208cd42f0396f8b7fb"
      }
     },
     "436dc376dfba48f3b1a07afbf0f87424": {
      "model_module": "jupyter-js-widgets",
      "model_module_version": "~2.1.4",
      "model_name": "LayoutModel",
      "state": {
       "_model_module_version": "~2.1.4",
       "_view_module_version": "~2.1.4",
       "display": "",
       "min_width": "100px",
       "visibility": "visible"
      }
     },
     "437a6b4a4e1e4edfaa3be910b13934f8": {
      "model_module": "jupyter-js-widgets",
      "model_module_version": "~2.1.4",
      "model_name": "LayoutModel",
      "state": {
       "_model_module_version": "~2.1.4",
       "_view_module_version": "~2.1.4",
       "display": "",
       "max_width": "300px",
       "min_width": "100px",
       "visibility": "visible"
      }
     },
     "4442d8ab5d694beeb1b21404e6b85be0": {
      "model_module": "jupyter-js-widgets",
      "model_module_version": "~2.1.4",
      "model_name": "LayoutModel",
      "state": {
       "_model_module_version": "~2.1.4",
       "_view_module_version": "~2.1.4",
       "display": "",
       "max_width": "300px",
       "min_width": "100px",
       "visibility": "visible"
      }
     },
     "4472a8cd61044c499f66bc954f766f06": {
      "model_module": "jupyter-js-widgets",
      "model_module_version": "~2.1.4",
      "model_name": "HBoxModel",
      "state": {
       "_model_module_version": "~2.1.4",
       "_view_module_version": "~2.1.4",
       "children": [
        "IPY_MODEL_2b0f5b6d99014b13bfe4b694a20ce722",
        "IPY_MODEL_2677bfaad972403581c0b11895cf3326"
       ],
       "layout": "IPY_MODEL_6256eecec2b142ebbb50ffdc960a0937"
      }
     },
     "4622df78cabe45bf8bdf51a4702f930b": {
      "model_module": "jupyter-js-widgets",
      "model_module_version": "~2.1.4",
      "model_name": "LayoutModel",
      "state": {
       "_model_module_version": "~2.1.4",
       "_view_module_version": "~2.1.4",
       "display": "",
       "max_width": "300px",
       "min_width": "100px",
       "visibility": "visible"
      }
     },
     "4683a5b4c3234cf4a328694528ec32a7": {
      "model_module": "jupyter-js-widgets",
      "model_module_version": "~2.1.4",
      "model_name": "IntSliderModel",
      "state": {
       "_model_module_version": "~2.1.4",
       "_view_module_version": "~2.1.4",
       "description": "Bins",
       "layout": "IPY_MODEL_1e13bf9f240f48c6b598a5ce3d1623b8",
       "max": 107,
       "min": -93,
       "style": "IPY_MODEL_679728602404487087f3ceb2fc1dd106",
       "value": 7
      }
     },
     "46c3eb09148c43b68933010ff9e544cf": {
      "model_module": "jupyter-js-widgets",
      "model_module_version": "~2.1.4",
      "model_name": "SliderStyleModel",
      "state": {
       "_model_module_version": "~2.1.4",
       "_view_module_version": "~2.1.4"
      }
     },
     "46d4beb1886d47b89c0ba0e220d4bbc3": {
      "model_module": "jupyter-js-widgets",
      "model_module_version": "~2.1.4",
      "model_name": "LayoutModel",
      "state": {
       "_model_module_version": "~2.1.4",
       "_view_module_version": "~2.1.4",
       "display": "",
       "max_width": "300px",
       "min_width": "100px",
       "visibility": "visible"
      }
     },
     "4707ca7aeac9488e9b04a5787ce71478": {
      "model_module": "jupyter-js-widgets",
      "model_module_version": "~2.1.4",
      "model_name": "LayoutModel",
      "state": {
       "_model_module_version": "~2.1.4",
       "_view_module_version": "~2.1.4",
       "display": "",
       "min_width": "100px",
       "visibility": "visible"
      }
     },
     "4745781f04074dc9a62984cd608519c8": {
      "model_module": "jupyter-js-widgets",
      "model_module_version": "~2.1.4",
      "model_name": "ToggleButtonModel",
      "state": {
       "_model_module_version": "~2.1.4",
       "_view_module_version": "~2.1.4",
       "layout": "IPY_MODEL_4fcb3c38e9974efaa659270d8b005b13",
       "value": true
      }
     },
     "47c0e9c9789e44e98a5fe06bbf33fb84": {
      "model_module": "jupyter-js-widgets",
      "model_module_version": "~2.1.4",
      "model_name": "LayoutModel",
      "state": {
       "_model_module_version": "~2.1.4",
       "_view_module_version": "~2.1.4",
       "display": "",
       "max_width": "300px",
       "min_width": "100px",
       "visibility": "visible"
      }
     },
     "47cd15c2982845d0b55e3d5ca255db6f": {
      "model_module": "jupyter-js-widgets",
      "model_module_version": "~2.1.4",
      "model_name": "FloatSliderModel",
      "state": {
       "_model_module_version": "~2.1.4",
       "_view_module_version": "~2.1.4",
       "description": "Float slider",
       "layout": "IPY_MODEL_ec243547b8964df899b0ddb56062bd98",
       "max": 10,
       "min": 2,
       "value": 2
      }
     },
     "4829fc9608a64a5081ea2debbb81d974": {
      "model_module": "jupyter-js-widgets",
      "model_module_version": "~2.1.4",
      "model_name": "LayoutModel",
      "state": {
       "_model_module_version": "~2.1.4",
       "_view_module_version": "~2.1.4",
       "display": "",
       "max_width": "300px",
       "min_width": "100px",
       "visibility": "visible"
      }
     },
     "483009ca9db74f2ab1ecac86b41f9fc4": {
      "model_module": "jupyter-js-widgets",
      "model_module_version": "~2.1.4",
      "model_name": "DropdownModel",
      "state": {
       "_model_module_version": "~2.1.4",
       "_options_labels": [
        "Hello",
        "World"
       ],
       "_view_module_version": "~2.1.4",
       "description": "Dropdown",
       "layout": "IPY_MODEL_bcd994d060024fdb8ee21b4fd6797880",
       "value": "Hello"
      }
     },
     "488cd261108849ee964ad5ebd82152fd": {
      "model_module": "jupyter-js-widgets",
      "model_module_version": "~2.1.4",
      "model_name": "ToggleButtonModel",
      "state": {
       "_model_module_version": "~2.1.4",
       "_view_module_version": "~2.1.4",
       "description": "Save plot",
       "layout": "IPY_MODEL_72d69014db5641009a5b8da260fb26fb"
      }
     },
     "49c6ead6d60348d8804c6cb28a36c035": {
      "model_module": "jupyter-js-widgets",
      "model_module_version": "~2.1.4",
      "model_name": "IntSliderModel",
      "state": {
       "_model_module_version": "~2.1.4",
       "_view_module_version": "~2.1.4",
       "description": "Num ybins",
       "layout": "IPY_MODEL_ce07f466fc6d4859a9535f95043535e0",
       "max": 40,
       "min": 1,
       "step": 2,
       "style": "IPY_MODEL_046f33505cb04fdaa1058f0cd0bb22bd",
       "value": 10
      }
     },
     "49d8f8ef0b714369af562a6f307c0172": {
      "model_module": "jupyter-js-widgets",
      "model_module_version": "~2.1.4",
      "model_name": "HBoxModel",
      "state": {
       "_model_module_version": "~2.1.4",
       "_view_module_version": "~2.1.4",
       "children": [
        "IPY_MODEL_4bef655c9ed6438b95b94993366f4842",
        "IPY_MODEL_8a05674bfe7a4dafaace000f4bfe0074"
       ],
       "layout": "IPY_MODEL_77079921993c496da9ae87f948360183"
      }
     },
     "4a1149f0ee044fb4a802f7a99bebdf9f": {
      "model_module": "jupyter-js-widgets",
      "model_module_version": "~2.1.4",
      "model_name": "FloatSliderModel",
      "state": {
       "_model_module_version": "~2.1.4",
       "_view_module_version": "~2.1.4",
       "description": "Bandwidth",
       "layout": "IPY_MODEL_0be3a539736c47eab244c53dad416c89",
       "max": 10,
       "min": 0.001,
       "step": 0.05,
       "value": 0.5
      }
     },
     "4a869261272b41b49042a74ce5467288": {
      "model_module": "jupyter-js-widgets",
      "model_module_version": "~2.1.4",
      "model_name": "LayoutModel",
      "state": {
       "_model_module_version": "~2.1.4",
       "_view_module_version": "~2.1.4",
       "display": "",
       "min_width": "100px",
       "visibility": "visible"
      }
     },
     "4b52da7b43e24c3c8100d84fad744c50": {
      "model_module": "jupyter-js-widgets",
      "model_module_version": "~2.1.4",
      "model_name": "CheckboxModel",
      "state": {
       "_model_module_version": "~2.1.4",
       "_view_module_version": "~2.1.4",
       "disabled": false,
       "layout": "IPY_MODEL_3208cdb0227c445d9cf81c5a2a21f988",
       "value": false
      }
     },
     "4be48f6daf8540c78ecab9a315aa855f": {
      "model_module": "jupyter-js-widgets",
      "model_module_version": "~2.1.4",
      "model_name": "SliderStyleModel",
      "state": {
       "_model_module_version": "~2.1.4",
       "_view_module_version": "~2.1.4"
      }
     },
     "4bef655c9ed6438b95b94993366f4842": {
      "model_module": "jupyter-js-widgets",
      "model_module_version": "~2.1.4",
      "model_name": "VBoxModel",
      "state": {
       "_model_module_version": "~2.1.4",
       "_view_module_version": "~2.1.4",
       "children": [
        "IPY_MODEL_f611123f78974e669d08bd09b1dee6b1",
        "IPY_MODEL_a3aef4b0a83844cd8a82553dea18231f",
        "IPY_MODEL_e8ad4a8611314d689ae3496993332990",
        "IPY_MODEL_f21bfce1c40b4668a00285857e3839cc"
       ],
       "layout": "IPY_MODEL_c907a6f54066404fb1907d7e5cbe6d57"
      }
     },
     "4c3c19a130854d75ac112114294516db": {
      "model_module": "jupyter-js-widgets",
      "model_module_version": "~2.1.4",
      "model_name": "LayoutModel",
      "state": {
       "_model_module_version": "~2.1.4",
       "_view_module_version": "~2.1.4",
       "display": "",
       "min_width": "100px",
       "visibility": "visible"
      }
     },
     "4d154871e57e43eebbf8143349aafa21": {
      "model_module": "jupyter-js-widgets",
      "model_module_version": "~2.1.4",
      "model_name": "SliderStyleModel",
      "state": {
       "_model_module_version": "~2.1.4",
       "_view_module_version": "~2.1.4"
      }
     },
     "4de9602a0c8a41f1bb48335ebe078600": {
      "model_module": "jupyter-js-widgets",
      "model_module_version": "~2.1.4",
      "model_name": "LayoutModel",
      "state": {
       "_model_module_version": "~2.1.4",
       "_view_module_version": "~2.1.4",
       "display": "",
       "min_width": "100px",
       "visibility": "visible"
      }
     },
     "4f22199604e9412c99632ec228c83270": {
      "model_module": "jupyter-js-widgets",
      "model_module_version": "~2.1.4",
      "model_name": "SliderStyleModel",
      "state": {
       "_model_module_version": "~2.1.4",
       "_view_module_version": "~2.1.4"
      }
     },
     "4f29de254d234c7b86dc49dad79d117a": {
      "model_module": "jupyter-js-widgets",
      "model_module_version": "~2.1.4",
      "model_name": "LayoutModel",
      "state": {
       "_model_module_version": "~2.1.4",
       "_view_module_version": "~2.1.4",
       "display": "",
       "min_width": "100px",
       "visibility": "visible"
      }
     },
     "4f6d58e9f7504afd85ea57d641188a16": {
      "model_module": "jupyter-js-widgets",
      "model_module_version": "~2.1.4",
      "model_name": "FloatSliderModel",
      "state": {
       "_model_module_version": "~2.1.4",
       "_view_module_version": "~2.1.4",
       "layout": "IPY_MODEL_da94db44bde2446abd70c88e71c28135",
       "max": 10,
       "min": 0.001,
       "step": 0.05,
       "value": 0.5
      }
     },
     "4faaf11c89a145adb0cfe1bc1c9a68c5": {
      "model_module": "jupyter-js-widgets",
      "model_module_version": "~2.1.4",
      "model_name": "CheckboxModel",
      "state": {
       "_model_module_version": "~2.1.4",
       "_view_module_version": "~2.1.4",
       "description": "Grid",
       "disabled": false,
       "layout": "IPY_MODEL_215a9a3487744180904ec643c9cbf7eb",
       "value": true
      }
     },
     "4fcb3c38e9974efaa659270d8b005b13": {
      "model_module": "jupyter-js-widgets",
      "model_module_version": "~2.1.4",
      "model_name": "LayoutModel",
      "state": {
       "_model_module_version": "~2.1.4",
       "_view_module_version": "~2.1.4",
       "display": "",
       "max_width": "300px",
       "min_width": "100px",
       "visibility": "visible"
      }
     },
     "501a9a84bc48460199c56457658e588e": {
      "model_module": "jupyter-js-widgets",
      "model_module_version": "~2.1.4",
      "model_name": "LayoutModel",
      "state": {
       "_model_module_version": "~2.1.4",
       "_view_module_version": "~2.1.4",
       "display": "",
       "max_width": "300px",
       "min_width": "100px",
       "visibility": "visible"
      }
     },
     "501d1c8cc9b04c308c99187b98d525de": {
      "model_module": "jupyter-js-widgets",
      "model_module_version": "~2.1.4",
      "model_name": "LayoutModel",
      "state": {
       "_model_module_version": "~2.1.4",
       "_view_module_version": "~2.1.4",
       "display": "",
       "min_width": "100px",
       "visibility": "visible"
      }
     },
     "507de6ad04b54a269b117c76a842f4b9": {
      "model_module": "jupyter-js-widgets",
      "model_module_version": "~2.1.4",
      "model_name": "ToggleButtonModel",
      "state": {
       "_model_module_version": "~2.1.4",
       "_view_module_version": "~2.1.4",
       "layout": "IPY_MODEL_dea6b928096f4a7aac0697835a53e8c0",
       "value": true
      }
     },
     "542da287650c42db8e4ac372e6369e95": {
      "model_module": "jupyter-js-widgets",
      "model_module_version": "~2.1.4",
      "model_name": "LayoutModel",
      "state": {
       "_model_module_version": "~2.1.4",
       "_view_module_version": "~2.1.4",
       "display": "",
       "max_width": "300px",
       "min_width": "100px",
       "visibility": "visible"
      }
     },
     "5487c4faac654f33ace16c501c445f5c": {
      "model_module": "jupyter-js-widgets",
      "model_module_version": "~2.1.4",
      "model_name": "LayoutModel",
      "state": {
       "_model_module_version": "~2.1.4",
       "_view_module_version": "~2.1.4",
       "display": "",
       "min_width": "100px",
       "visibility": "visible"
      }
     },
     "55409fdf41f6453585823efbc77427b8": {
      "model_module": "jupyter-js-widgets",
      "model_module_version": "~2.1.4",
      "model_name": "CheckboxModel",
      "state": {
       "_model_module_version": "~2.1.4",
       "_view_module_version": "~2.1.4",
       "description": "Std",
       "disabled": false,
       "layout": "IPY_MODEL_349f026a6ee0458d84f6d84285e68aa7",
       "value": false
      }
     },
     "55aefc487bc649c1b715b0a5f1d3baa9": {
      "model_module": "jupyter-js-widgets",
      "model_module_version": "~2.1.4",
      "model_name": "LayoutModel",
      "state": {
       "_model_module_version": "~2.1.4",
       "_view_module_version": "~2.1.4",
       "display": "",
       "min_width": "100px",
       "visibility": "visible"
      }
     },
     "56b7ba590f6347a289167742d8558123": {
      "model_module": "jupyter-js-widgets",
      "model_module_version": "~2.1.4",
      "model_name": "LayoutModel",
      "state": {
       "_model_module_version": "~2.1.4",
       "_view_module_version": "~2.1.4",
       "display": "",
       "min_width": "100px",
       "visibility": "visible"
      }
     },
     "573449c1382a472ba86efce7eebd1406": {
      "model_module": "jupyter-js-widgets",
      "model_module_version": "~2.1.4",
      "model_name": "SliderStyleModel",
      "state": {
       "_model_module_version": "~2.1.4",
       "_view_module_version": "~2.1.4"
      }
     },
     "57f535acce8148208cd42f0396f8b7fb": {
      "model_module": "jupyter-js-widgets",
      "model_module_version": "~2.1.4",
      "model_name": "LayoutModel",
      "state": {
       "_model_module_version": "~2.1.4",
       "_view_module_version": "~2.1.4",
       "display": "",
       "min_width": "100px",
       "visibility": "visible"
      }
     },
     "585a7aced0e34b6b8d929173689a3541": {
      "model_module": "jupyter-js-widgets",
      "model_module_version": "~2.1.4",
      "model_name": "HTMLModel",
      "state": {
       "_model_module_version": "~2.1.4",
       "_view_module_version": "~2.1.4",
       "layout": "IPY_MODEL_ec920c63cd834dd6ae0e8b26ddbd9215",
       "value": "<h1>scatterplot options</h1>"
      }
     },
     "5895ce8761294f71b09b744b9469a493": {
      "model_module": "jupyter-js-widgets",
      "model_module_version": "~2.1.4",
      "model_name": "TextModel",
      "state": {
       "_model_module_version": "~2.1.4",
       "_view_module_version": "~2.1.4",
       "description": "Text",
       "layout": "IPY_MODEL_e037bb4b943f445198b732df2a79f4ef",
       "value": "moco"
      }
     },
     "58a76aa4d8a241499e3766b55925528b": {
      "model_module": "jupyter-js-widgets",
      "model_module_version": "~2.1.4",
      "model_name": "LayoutModel",
      "state": {
       "_model_module_version": "~2.1.4",
       "_view_module_version": "~2.1.4",
       "display": "",
       "max_width": "300px",
       "min_width": "100px",
       "visibility": "visible"
      }
     },
     "58d83b88d3b440e5a532b50f8a839ec2": {
      "model_module": "jupyter-js-widgets",
      "model_module_version": "~2.1.4",
      "model_name": "SliderStyleModel",
      "state": {
       "_model_module_version": "~2.1.4",
       "_view_module_version": "~2.1.4"
      }
     },
     "594679deb1ff4b62a76ef0d867b21d5d": {
      "model_module": "jupyter-js-widgets",
      "model_module_version": "~2.1.4",
      "model_name": "LayoutModel",
      "state": {
       "_model_module_version": "~2.1.4",
       "_view_module_version": "~2.1.4",
       "display": "",
       "max_width": "300px",
       "min_width": "100px",
       "visibility": "visible"
      }
     },
     "5a0fa883e4c844e4910e659e06b1a25e": {
      "model_module": "jupyter-js-widgets",
      "model_module_version": "~2.1.4",
      "model_name": "LayoutModel",
      "state": {
       "_model_module_version": "~2.1.4",
       "_view_module_version": "~2.1.4",
       "display": "",
       "max_width": "300px",
       "min_width": "100px",
       "visibility": "visible"
      }
     },
     "5ab03a9f50794b50816de4dea80596cc": {
      "model_module": "jupyter-js-widgets",
      "model_module_version": "~2.1.4",
      "model_name": "LayoutModel",
      "state": {
       "_model_module_version": "~2.1.4",
       "_view_module_version": "~2.1.4",
       "display": "",
       "max_width": "300px",
       "min_width": "100px",
       "visibility": "visible"
      }
     },
     "5adbbe699a104e5d89177872b4c13de3": {
      "model_module": "jupyter-js-widgets",
      "model_module_version": "~2.1.4",
      "model_name": "FloatSliderModel",
      "state": {
       "_model_module_version": "~2.1.4",
       "_view_module_version": "~2.1.4",
       "description": "Float slider",
       "layout": "IPY_MODEL_055a692bd42c4df9855afb6959f738e6",
       "max": 10
      }
     },
     "5b4160e854f54c2fa82900172af9b4b2": {
      "model_module": "jupyter-js-widgets",
      "model_module_version": "~2.1.4",
      "model_name": "VBoxModel",
      "state": {
       "_model_module_version": "~2.1.4",
       "_view_module_version": "~2.1.4",
       "children": [
        "IPY_MODEL_483009ca9db74f2ab1ecac86b41f9fc4",
        "IPY_MODEL_de1561417a8a48e782dfd86ff02f1144"
       ],
       "layout": "IPY_MODEL_2ddb709ca4924d6992bac529bb15d55a"
      }
     },
     "5bac4047eb5c4b579c4d9604d9902fd3": {
      "model_module": "jupyter-js-widgets",
      "model_module_version": "~2.1.4",
      "model_name": "LayoutModel",
      "state": {
       "_model_module_version": "~2.1.4",
       "_view_module_version": "~2.1.4",
       "display": "",
       "max_width": "300px",
       "min_width": "100px",
       "visibility": "visible"
      }
     },
     "5c23593c2c9f44a4b20e7dc528d959d1": {
      "model_module": "jupyter-js-widgets",
      "model_module_version": "~2.1.4",
      "model_name": "LayoutModel",
      "state": {
       "_model_module_version": "~2.1.4",
       "_view_module_version": "~2.1.4",
       "display": "",
       "max_width": "300px",
       "min_width": "100px",
       "visibility": "visible"
      }
     },
     "5e263b58da5040c187738c3962b5b964": {
      "model_module": "jupyter-js-widgets",
      "model_module_version": "~2.1.4",
      "model_name": "HTMLModel",
      "state": {
       "_model_module_version": "~2.1.4",
       "_view_module_version": "~2.1.4",
       "layout": "IPY_MODEL_e89546131c45408ba190f2cae157aaf3",
       "value": "<h1>historam options</h1>"
      }
     },
     "5e9e0398bc5f434bb3dd450ec5f51ac1": {
      "model_module": "jupyter-js-widgets",
      "model_module_version": "~2.1.4",
      "model_name": "LayoutModel",
      "state": {
       "_model_module_version": "~2.1.4",
       "_view_module_version": "~2.1.4",
       "display": "",
       "max_width": "300px",
       "min_width": "100px",
       "visibility": "visible"
      }
     },
     "5f31ab0d94c241289059fd613146e96a": {
      "model_module": "jupyter-js-widgets",
      "model_module_version": "~2.1.4",
      "model_name": "LayoutModel",
      "state": {
       "_model_module_version": "~2.1.4",
       "_view_module_version": "~2.1.4",
       "display": "",
       "min_width": "100px",
       "visibility": "visible"
      }
     },
     "605c47b030a640a78270d0a645a7f512": {
      "model_module": "jupyter-js-widgets",
      "model_module_version": "~2.1.4",
      "model_name": "CheckboxModel",
      "state": {
       "_model_module_version": "~2.1.4",
       "_view_module_version": "~2.1.4",
       "description": "Mean",
       "disabled": false,
       "layout": "IPY_MODEL_e955e41fd6a74276802b7c659a285346",
       "value": false
      }
     },
     "60bcc64c70684760bea3c4a93b5e3a72": {
      "model_module": "jupyter-js-widgets",
      "model_module_version": "~2.1.4",
      "model_name": "LayoutModel",
      "state": {
       "_model_module_version": "~2.1.4",
       "_view_module_version": "~2.1.4",
       "display": "",
       "min_width": "100px",
       "visibility": "visible"
      }
     },
     "60d82ffd67ba404996beddd9c350794b": {
      "model_module": "jupyter-js-widgets",
      "model_module_version": "~2.1.4",
      "model_name": "LayoutModel",
      "state": {
       "_model_module_version": "~2.1.4",
       "_view_module_version": "~2.1.4",
       "display": "",
       "min_width": "100px",
       "visibility": "visible"
      }
     },
     "623b9c8a56f54b89a248c3183cf34f3f": {
      "model_module": "jupyter-js-widgets",
      "model_module_version": "~2.1.4",
      "model_name": "LayoutModel",
      "state": {
       "_model_module_version": "~2.1.4",
       "_view_module_version": "~2.1.4",
       "display": "",
       "max_width": "300px",
       "min_width": "100px",
       "visibility": "visible"
      }
     },
     "6250dff7bad441369d1f83c98ed876d8": {
      "model_module": "jupyter-js-widgets",
      "model_module_version": "~2.1.4",
      "model_name": "FloatSliderModel",
      "state": {
       "_model_module_version": "~2.1.4",
       "_view_module_version": "~2.1.4",
       "description": "Float slider",
       "layout": "IPY_MODEL_1085ca2e51584f928408dd7cb17f0dda",
       "max": 10,
       "min": 2,
       "value": 2
      }
     },
     "6256eecec2b142ebbb50ffdc960a0937": {
      "model_module": "jupyter-js-widgets",
      "model_module_version": "~2.1.4",
      "model_name": "LayoutModel",
      "state": {
       "_model_module_version": "~2.1.4",
       "_view_module_version": "~2.1.4",
       "display": "",
       "min_width": "100px",
       "visibility": "visible"
      }
     },
     "625c19b7697e447481416275885ad8e2": {
      "model_module": "jupyter-js-widgets",
      "model_module_version": "~2.1.4",
      "model_name": "HBoxModel",
      "state": {
       "_model_module_version": "~2.1.4",
       "_view_module_version": "~2.1.4",
       "children": [
        "IPY_MODEL_c4d8c0bafc554e19b1583b662f0dd177",
        "IPY_MODEL_2f7f1778f5bb40f5981c9483999d816d",
        "IPY_MODEL_e26c633fd6db4b4a83adba5e573f239c"
       ],
       "layout": "IPY_MODEL_b1be5ca517ea4e22bbb720bb3db3dd7b"
      }
     },
     "62b15811302748f38a947dad25dc2d49": {
      "model_module": "jupyter-js-widgets",
      "model_module_version": "~2.1.4",
      "model_name": "LayoutModel",
      "state": {
       "_model_module_version": "~2.1.4",
       "_view_module_version": "~2.1.4",
       "display": "",
       "max_width": "300px",
       "min_width": "100px",
       "visibility": "visible"
      }
     },
     "64a9a2f65e2348f89f49e4e83a273e44": {
      "model_module": "jupyter-js-widgets",
      "model_module_version": "~2.1.4",
      "model_name": "LayoutModel",
      "state": {
       "_model_module_version": "~2.1.4",
       "_view_module_version": "~2.1.4",
       "display": "",
       "min_width": "100px",
       "visibility": "visible"
      }
     },
     "670012d758524abf9c1a3c00b95e1d81": {
      "model_module": "jupyter-js-widgets",
      "model_module_version": "~2.1.4",
      "model_name": "FloatSliderModel",
      "state": {
       "_model_module_version": "~2.1.4",
       "_view_module_version": "~2.1.4",
       "layout": "IPY_MODEL_a6b9d844d47840cca1234f8d30909309",
       "max": 10,
       "min": 0.001,
       "step": 0.05,
       "value": 0.5
      }
     },
     "679728602404487087f3ceb2fc1dd106": {
      "model_module": "jupyter-js-widgets",
      "model_module_version": "~2.1.4",
      "model_name": "SliderStyleModel",
      "state": {
       "_model_module_version": "~2.1.4",
       "_view_module_version": "~2.1.4"
      }
     },
     "693ce9f1817b4639b14a66d748b6d028": {
      "model_module": "jupyter-js-widgets",
      "model_module_version": "~2.1.4",
      "model_name": "VBoxModel",
      "state": {
       "_model_module_version": "~2.1.4",
       "_view_module_version": "~2.1.4",
       "children": [
        "IPY_MODEL_c34deac34e864e4bb0e4b5a19ec9e76a",
        "IPY_MODEL_be32636ea73d4cc3bcc54b5ed8d506f8",
        "IPY_MODEL_31566a2fa0754d4c930bbb61578dbc28",
        "IPY_MODEL_8723b06ac9b240cda58b3ee9e32ab1c9",
        "IPY_MODEL_e59b883a4dd04bd1a8a206f479281e10"
       ],
       "layout": "IPY_MODEL_aaf752d7c43041ff8f29b03f1971e6d2"
      }
     },
     "69b30611b9a0432fa2edac9e61ab840a": {
      "model_module": "jupyter-js-widgets",
      "model_module_version": "~2.1.4",
      "model_name": "LayoutModel",
      "state": {
       "_model_module_version": "~2.1.4",
       "_view_module_version": "~2.1.4",
       "display": "",
       "max_width": "300px",
       "min_width": "100px",
       "visibility": "visible"
      }
     },
     "6c1825cd35d24a5d9d93ad58f909833b": {
      "model_module": "jupyter-js-widgets",
      "model_module_version": "~2.1.4",
      "model_name": "ToggleButtonModel",
      "state": {
       "_model_module_version": "~2.1.4",
       "_view_module_version": "~2.1.4",
       "layout": "IPY_MODEL_96e3cb1ae76d449a8b7415ae6d652093",
       "value": true
      }
     },
     "6c40fb963e02407e98d7299e05ff4fb4": {
      "model_module": "jupyter-js-widgets",
      "model_module_version": "~2.1.4",
      "model_name": "LayoutModel",
      "state": {
       "_model_module_version": "~2.1.4",
       "_view_module_version": "~2.1.4",
       "display": "",
       "max_width": "300px",
       "min_width": "100px",
       "visibility": "visible"
      }
     },
     "6de7c717d04740f383970a9df480676e": {
      "model_module": "jupyter-js-widgets",
      "model_module_version": "~2.1.4",
      "model_name": "LayoutModel",
      "state": {
       "_model_module_version": "~2.1.4",
       "_view_module_version": "~2.1.4",
       "display": "",
       "max_width": "300px",
       "min_width": "100px",
       "visibility": "visible"
      }
     },
     "6e0ac737404340c38fb727f5fa197b23": {
      "model_module": "jupyter-js-widgets",
      "model_module_version": "~2.1.4",
      "model_name": "LayoutModel",
      "state": {
       "_model_module_version": "~2.1.4",
       "_view_module_version": "~2.1.4",
       "display": "",
       "max_width": "300px",
       "min_width": "100px",
       "visibility": "visible"
      }
     },
     "6e6514ec351342a1879767b6e1d0c255": {
      "model_module": "jupyter-js-widgets",
      "model_module_version": "~2.1.4",
      "model_name": "CheckboxModel",
      "state": {
       "_model_module_version": "~2.1.4",
       "_view_module_version": "~2.1.4",
       "description": "Std",
       "disabled": false,
       "layout": "IPY_MODEL_71878e7242d84de5a7e9a82834ba3cae",
       "value": false
      }
     },
     "6f8a257b165447589d126f02b0d8f256": {
      "model_module": "jupyter-js-widgets",
      "model_module_version": "~2.1.4",
      "model_name": "ToggleButtonModel",
      "state": {
       "_model_module_version": "~2.1.4",
       "_view_module_version": "~2.1.4",
       "layout": "IPY_MODEL_8e1c281316794863aed7f976b69400eb",
       "value": true
      }
     },
     "6fda93be8c8f413b9a2101c0339b1ddd": {
      "model_module": "jupyter-js-widgets",
      "model_module_version": "~2.1.4",
      "model_name": "CheckboxModel",
      "state": {
       "_model_module_version": "~2.1.4",
       "_view_module_version": "~2.1.4",
       "description": "Percents",
       "disabled": false,
       "layout": "IPY_MODEL_c2f9a73f2be4408bad2e8e4cc9af3cad",
       "value": false
      }
     },
     "7078bd1d9fcc4edd97b8e847e8bd1d87": {
      "model_module": "jupyter-js-widgets",
      "model_module_version": "~2.1.4",
      "model_name": "TextModel",
      "state": {
       "_model_module_version": "~2.1.4",
       "_view_module_version": "~2.1.4",
       "description": "Text",
       "layout": "IPY_MODEL_339f9fa56cf64a3b93cf153f91b30c05",
       "value": "moco"
      }
     },
     "70f1393857524f26b7a50bbda6b00249": {
      "model_module": "jupyter-js-widgets",
      "model_module_version": "~2.1.4",
      "model_name": "VBoxModel",
      "state": {
       "_model_module_version": "~2.1.4",
       "_view_module_version": "~2.1.4",
       "children": [
        "IPY_MODEL_2f90c1e12a924fc2ad16d9a0d8bc986b",
        "IPY_MODEL_55409fdf41f6453585823efbc77427b8"
       ],
       "layout": "IPY_MODEL_8a20db52d51f41f6937b7bff460f1298"
      }
     },
     "713379b4ed3648e19beb8770c5507310": {
      "model_module": "jupyter-js-widgets",
      "model_module_version": "~2.1.4",
      "model_name": "SliderStyleModel",
      "state": {
       "_model_module_version": "~2.1.4",
       "_view_module_version": "~2.1.4"
      }
     },
     "71878e7242d84de5a7e9a82834ba3cae": {
      "model_module": "jupyter-js-widgets",
      "model_module_version": "~2.1.4",
      "model_name": "LayoutModel",
      "state": {
       "_model_module_version": "~2.1.4",
       "_view_module_version": "~2.1.4",
       "display": "",
       "max_width": "300px",
       "min_width": "100px",
       "visibility": "visible"
      }
     },
     "71a0b48252804afab6a15b9df70d45e3": {
      "model_module": "jupyter-js-widgets",
      "model_module_version": "~2.1.4",
      "model_name": "IntSliderModel",
      "state": {
       "_model_module_version": "~2.1.4",
       "_view_module_version": "~2.1.4",
       "continuous_update": false,
       "description": "Num xbins",
       "layout": "IPY_MODEL_2103987926304037869d76b321441ede",
       "max": 40,
       "min": 1,
       "step": 2,
       "style": "IPY_MODEL_d907065fff9449d2a7becbd614ddb426",
       "value": 10
      }
     },
     "71dad6003d4e4db294e632fdbf349027": {
      "model_module": "jupyter-js-widgets",
      "model_module_version": "~2.1.4",
      "model_name": "HTMLModel",
      "state": {
       "_model_module_version": "~2.1.4",
       "_view_module_version": "~2.1.4",
       "layout": "IPY_MODEL_77a5756feeb44dc6a2b9d0ece22f6cc5",
       "value": "<h1>scatterplot options</h1>"
      }
     },
     "71ff18a04b4b4b97883799693ea81bf8": {
      "model_module": "jupyter-js-widgets",
      "model_module_version": "~2.1.4",
      "model_name": "VBoxModel",
      "state": {
       "_model_module_version": "~2.1.4",
       "_view_module_version": "~2.1.4",
       "children": [
        "IPY_MODEL_769453882ffc4d1795f3848ba6fe63ee",
        "IPY_MODEL_e3343ab716fe48c69c617cfa0126a68b",
        "IPY_MODEL_05cc426282f248a79c07432cacf6b133"
       ],
       "layout": "IPY_MODEL_afc8fb6e0ef94ea6a88cbd32a80c7a89"
      }
     },
     "72a0c22d5bb643f683a1a23c44c07fab": {
      "model_module": "jupyter-js-widgets",
      "model_module_version": "~2.1.4",
      "model_name": "LayoutModel",
      "state": {
       "_model_module_version": "~2.1.4",
       "_view_module_version": "~2.1.4",
       "display": "",
       "max_width": "300px",
       "min_width": "100px",
       "visibility": "visible"
      }
     },
     "72d69014db5641009a5b8da260fb26fb": {
      "model_module": "jupyter-js-widgets",
      "model_module_version": "~2.1.4",
      "model_name": "LayoutModel",
      "state": {
       "_model_module_version": "~2.1.4",
       "_view_module_version": "~2.1.4",
       "display": "",
       "max_width": "300px",
       "min_width": "100px",
       "visibility": "visible"
      }
     },
     "731a1010513d45ada3b3279dfebb1a18": {
      "model_module": "jupyter-js-widgets",
      "model_module_version": "~2.1.4",
      "model_name": "LayoutModel",
      "state": {
       "_model_module_version": "~2.1.4",
       "_view_module_version": "~2.1.4",
       "display": "",
       "min_width": "100px",
       "visibility": "visible"
      }
     },
     "739a5ad6499044efa64005f99d0dc259": {
      "model_module": "jupyter-js-widgets",
      "model_module_version": "~2.1.4",
      "model_name": "LayoutModel",
      "state": {
       "_model_module_version": "~2.1.4",
       "_view_module_version": "~2.1.4",
       "display": "",
       "max_width": "300px",
       "min_width": "100px",
       "visibility": "visible"
      }
     },
     "73ab5230c65a4449862d1b043140194e": {
      "model_module": "jupyter-js-widgets",
      "model_module_version": "~2.1.4",
      "model_name": "IntSliderModel",
      "state": {
       "_model_module_version": "~2.1.4",
       "_view_module_version": "~2.1.4",
       "layout": "IPY_MODEL_94b3375301294eefa1a0035fcfd1c5f8",
       "max": 10,
       "min": 1,
       "style": "IPY_MODEL_eab61f19b0a5489b9d1db972127082d3",
       "value": 1
      }
     },
     "73b53ace398f4211b6ac3ff97c5e665b": {
      "model_module": "jupyter-js-widgets",
      "model_module_version": "~2.1.4",
      "model_name": "IntSliderModel",
      "state": {
       "_model_module_version": "~2.1.4",
       "_view_module_version": "~2.1.4",
       "description": "Num xbins",
       "layout": "IPY_MODEL_8bb8c6aeca144272a500ec2bf2b993d0",
       "max": 40,
       "min": 1,
       "step": 2,
       "style": "IPY_MODEL_4f22199604e9412c99632ec228c83270",
       "value": 10
      }
     },
     "73fc994c02984b11805102c5f742144c": {
      "model_module": "jupyter-js-widgets",
      "model_module_version": "~2.1.4",
      "model_name": "LayoutModel",
      "state": {
       "_model_module_version": "~2.1.4",
       "_view_module_version": "~2.1.4",
       "display": "",
       "min_width": "100px",
       "visibility": "visible"
      }
     },
     "750befada49043ebb79a013b2ff893a3": {
      "model_module": "jupyter-js-widgets",
      "model_module_version": "~2.1.4",
      "model_name": "LayoutModel",
      "state": {
       "_model_module_version": "~2.1.4",
       "_view_module_version": "~2.1.4",
       "display": "",
       "max_width": "300px",
       "min_width": "100px",
       "visibility": "visible"
      }
     },
     "754a6abd88ea4969a79e66402d30a375": {
      "model_module": "jupyter-js-widgets",
      "model_module_version": "~2.1.4",
      "model_name": "SliderStyleModel",
      "state": {
       "_model_module_version": "~2.1.4",
       "_view_module_version": "~2.1.4"
      }
     },
     "7576dd5323a74aeb99ed0aa21fa5b971": {
      "model_module": "jupyter-js-widgets",
      "model_module_version": "~2.1.4",
      "model_name": "HBoxModel",
      "state": {
       "_model_module_version": "~2.1.4",
       "_view_module_version": "~2.1.4",
       "children": [
        "IPY_MODEL_605c47b030a640a78270d0a645a7f512"
       ],
       "layout": "IPY_MODEL_7ee59fe27c8f49a68c71ca0279d431a7"
      }
     },
     "7601d942892b4597a6054d34e4319916": {
      "model_module": "jupyter-js-widgets",
      "model_module_version": "~2.1.4",
      "model_name": "LayoutModel",
      "state": {
       "_model_module_version": "~2.1.4",
       "_view_module_version": "~2.1.4",
       "display": "",
       "min_width": "100px",
       "visibility": "visible"
      }
     },
     "765f47e8b38a4ec1a5080b35126dacf6": {
      "model_module": "jupyter-js-widgets",
      "model_module_version": "~2.1.4",
      "model_name": "HTMLModel",
      "state": {
       "_model_module_version": "~2.1.4",
       "_view_module_version": "~2.1.4",
       "layout": "IPY_MODEL_346d31ed8f8d478b9507578c8a903758",
       "value": "<h1>exploratory plots</h1>"
      }
     },
     "767ac6f4807f4af3857010f3904b919d": {
      "model_module": "jupyter-js-widgets",
      "model_module_version": "~2.1.4",
      "model_name": "DropdownModel",
      "state": {
       "_model_module_version": "~2.1.4",
       "_options_labels": [
        "dataset",
        "x",
        "y"
       ],
       "_view_module_version": "~2.1.4",
       "description": "Y column",
       "layout": "IPY_MODEL_39123c3fc7684d7080ac9f223fb505be",
       "value": "y"
      }
     },
     "769453882ffc4d1795f3848ba6fe63ee": {
      "model_module": "jupyter-js-widgets",
      "model_module_version": "~2.1.4",
      "model_name": "IntSliderModel",
      "state": {
       "_model_module_version": "~2.1.4",
       "_view_module_version": "~2.1.4",
       "description": "Int slider",
       "layout": "IPY_MODEL_ef40ae05937a4183a9214c87226eb1b1",
       "max": 104,
       "min": -96,
       "style": "IPY_MODEL_d72775acce9344a9b5a4e901b78e11c8",
       "value": 4
      }
     },
     "77079921993c496da9ae87f948360183": {
      "model_module": "jupyter-js-widgets",
      "model_module_version": "~2.1.4",
      "model_name": "LayoutModel",
      "state": {
       "_model_module_version": "~2.1.4",
       "_view_module_version": "~2.1.4",
       "display": "",
       "min_width": "100px",
       "visibility": "visible"
      }
     },
     "7757924fe70a4977826f984659e92526": {
      "model_module": "jupyter-js-widgets",
      "model_module_version": "~2.1.4",
      "model_name": "LayoutModel",
      "state": {
       "_model_module_version": "~2.1.4",
       "_view_module_version": "~2.1.4",
       "display": "",
       "min_width": "100px",
       "visibility": "visible"
      }
     },
     "778feb566e5f424bb5bc66b31f648f53": {
      "model_module": "jupyter-js-widgets",
      "model_module_version": "~2.1.4",
      "model_name": "FloatSliderModel",
      "state": {
       "_model_module_version": "~2.1.4",
       "_view_module_version": "~2.1.4",
       "description": "Float slider",
       "layout": "IPY_MODEL_dc674fb343c74950922dd1fab41aaa3e",
       "max": 10
      }
     },
     "7797efba12af4ff48eb9c2022e4f5cbd": {
      "model_module": "jupyter-js-widgets",
      "model_module_version": "~2.1.4",
      "model_name": "SliderStyleModel",
      "state": {
       "_model_module_version": "~2.1.4",
       "_view_module_version": "~2.1.4"
      }
     },
     "77a5756feeb44dc6a2b9d0ece22f6cc5": {
      "model_module": "jupyter-js-widgets",
      "model_module_version": "~2.1.4",
      "model_name": "LayoutModel",
      "state": {
       "_model_module_version": "~2.1.4",
       "_view_module_version": "~2.1.4",
       "display": "",
       "min_width": "100px",
       "visibility": "visible"
      }
     },
     "786771551e114e97925cc85480aa4e18": {
      "model_module": "jupyter-js-widgets",
      "model_module_version": "~2.1.4",
      "model_name": "HBoxModel",
      "state": {
       "_model_module_version": "~2.1.4",
       "_view_module_version": "~2.1.4",
       "children": [
        "IPY_MODEL_a7b865505ae64a7a8511f4a784203084",
        "IPY_MODEL_767ac6f4807f4af3857010f3904b919d"
       ],
       "layout": "IPY_MODEL_93bedf2211164780b3e5942098734eb5"
      }
     },
     "7868b9c7bcd547aa99ca7f0f752734c8": {
      "model_module": "jupyter-js-widgets",
      "model_module_version": "~2.1.4",
      "model_name": "VBoxModel",
      "state": {
       "_model_module_version": "~2.1.4",
       "_view_module_version": "~2.1.4",
       "layout": "IPY_MODEL_dff831ec0abd433ea0f338a168a51440"
      }
     },
     "78bfde3d1d3b46959fdc555f8b521566": {
      "model_module": "jupyter-js-widgets",
      "model_module_version": "~2.1.4",
      "model_name": "LayoutModel",
      "state": {
       "_model_module_version": "~2.1.4",
       "_view_module_version": "~2.1.4",
       "display": "",
       "min_width": "100px",
       "visibility": "visible"
      }
     },
     "793605f709674e789ed2ee96b18695d6": {
      "model_module": "jupyter-js-widgets",
      "model_module_version": "~2.1.4",
      "model_name": "CheckboxModel",
      "state": {
       "_model_module_version": "~2.1.4",
       "_view_module_version": "~2.1.4",
       "description": "Normed",
       "disabled": false,
       "layout": "IPY_MODEL_d5c98cf5f8d748bf8302427acf6eea91",
       "value": false
      }
     },
     "79874ea80a884d68b3cb69a9835fb633": {
      "model_module": "jupyter-js-widgets",
      "model_module_version": "~2.1.4",
      "model_name": "IntSliderModel",
      "state": {
       "_model_module_version": "~2.1.4",
       "_view_module_version": "~2.1.4",
       "description": "bins",
       "layout": "IPY_MODEL_995e83c14637473ba934c9c506e880e1",
       "max": 21,
       "min": -7,
       "style": "IPY_MODEL_9988b8590e8a42038bab31c55ad71ea3",
       "value": 8
      }
     },
     "79eb520cbb17404b9c56cbaaed1020c8": {
      "model_module": "jupyter-js-widgets",
      "model_module_version": "~2.1.4",
      "model_name": "IntSliderModel",
      "state": {
       "_model_module_version": "~2.1.4",
       "_view_module_version": "~2.1.4",
       "layout": "IPY_MODEL_5e9e0398bc5f434bb3dd450ec5f51ac1",
       "min": 1,
       "style": "IPY_MODEL_58d83b88d3b440e5a532b50f8a839ec2",
       "value": 95
      }
     },
     "7a6326615de5408a80a9ecb006d937c3": {
      "model_module": "jupyter-js-widgets",
      "model_module_version": "~2.1.4",
      "model_name": "LayoutModel",
      "state": {
       "_model_module_version": "~2.1.4",
       "_view_module_version": "~2.1.4",
       "display": "",
       "max_width": "300px",
       "min_width": "100px",
       "visibility": "visible"
      }
     },
     "7a9cf82486c540aca1d358efcd84a0dc": {
      "model_module": "jupyter-js-widgets",
      "model_module_version": "~2.1.4",
      "model_name": "IntSliderModel",
      "state": {
       "_model_module_version": "~2.1.4",
       "_view_module_version": "~2.1.4",
       "description": "Reg order",
       "layout": "IPY_MODEL_69b30611b9a0432fa2edac9e61ab840a",
       "max": 10,
       "min": 1,
       "style": "IPY_MODEL_fa9ab7d8ddbe41f882c0d4502db208fd",
       "value": 1
      }
     },
     "7b11a7a7b1174ddbbb3ced7a3a3663ff": {
      "model_module": "jupyter-js-widgets",
      "model_module_version": "~2.1.4",
      "model_name": "LayoutModel",
      "state": {
       "_model_module_version": "~2.1.4",
       "_view_module_version": "~2.1.4",
       "display": "",
       "min_width": "100px",
       "visibility": "visible"
      }
     },
     "7b65819303604fd1b27bc27304b907cd": {
      "model_module": "jupyter-js-widgets",
      "model_module_version": "~2.1.4",
      "model_name": "LayoutModel",
      "state": {
       "_model_module_version": "~2.1.4",
       "_view_module_version": "~2.1.4",
       "display": "",
       "max_width": "300px",
       "min_width": "100px",
       "visibility": "visible"
      }
     },
     "7d19dab33e6a455eb7b7050e33952cc1": {
      "model_module": "jupyter-js-widgets",
      "model_module_version": "~2.1.4",
      "model_name": "LayoutModel",
      "state": {
       "_model_module_version": "~2.1.4",
       "_view_module_version": "~2.1.4",
       "display": "",
       "min_width": "100px",
       "visibility": "visible"
      }
     },
     "7d8483435fec44949b1588ff8db5d237": {
      "model_module": "jupyter-js-widgets",
      "model_module_version": "~2.1.4",
      "model_name": "LayoutModel",
      "state": {
       "_model_module_version": "~2.1.4",
       "_view_module_version": "~2.1.4",
       "display": "",
       "max_width": "300px",
       "min_width": "100px",
       "visibility": "visible"
      }
     },
     "7daf73fff95a424dae30a300b53321c1": {
      "model_module": "jupyter-js-widgets",
      "model_module_version": "~2.1.4",
      "model_name": "LayoutModel",
      "state": {
       "_model_module_version": "~2.1.4",
       "_view_module_version": "~2.1.4",
       "display": "",
       "max_width": "300px",
       "min_width": "100px",
       "visibility": "visible"
      }
     },
     "7df8a3b21cc44e65bf89c605316dc920": {
      "model_module": "jupyter-js-widgets",
      "model_module_version": "~2.1.4",
      "model_name": "IntSliderModel",
      "state": {
       "_model_module_version": "~2.1.4",
       "_view_module_version": "~2.1.4",
       "layout": "IPY_MODEL_35750248c5dd42289f23d617a7822995",
       "min": 1,
       "style": "IPY_MODEL_c006d5a4893d488b8b1ce188012f3f39",
       "value": 95
      }
     },
     "7e8e8629a6724166858b93efde0067fe": {
      "model_module": "jupyter-js-widgets",
      "model_module_version": "~2.1.4",
      "model_name": "IntSliderModel",
      "state": {
       "_model_module_version": "~2.1.4",
       "_view_module_version": "~2.1.4",
       "description": "Int slider",
       "layout": "IPY_MODEL_bb4670af2cb04885a13d8a7c48009ab3",
       "max": 104,
       "min": -96,
       "style": "IPY_MODEL_1520eca501884db8b249ef4ab7284195",
       "value": 4
      }
     },
     "7ee59fe27c8f49a68c71ca0279d431a7": {
      "model_module": "jupyter-js-widgets",
      "model_module_version": "~2.1.4",
      "model_name": "LayoutModel",
      "state": {
       "_model_module_version": "~2.1.4",
       "_view_module_version": "~2.1.4",
       "display": "",
       "min_width": "100px",
       "visibility": "visible"
      }
     },
     "7ee81927bfc94e4e9c6f90903d4284ae": {
      "model_module": "jupyter-js-widgets",
      "model_module_version": "~2.1.4",
      "model_name": "OutputModel",
      "state": {
       "_dom_classes": [],
       "_model_module": "jupyter-js-widgets",
       "_model_module_version": "~2.1.4",
       "_view_module": "jupyter-js-widgets",
       "_view_module_version": "~2.1.4",
       "layout": "IPY_MODEL_0ec1463a5cff4763989a829cc9b55309",
       "msg_throttle": 1
      }
     },
     "7f601a332f9a4d839cba967b99143f62": {
      "model_module": "jupyter-js-widgets",
      "model_module_version": "~2.1.4",
      "model_name": "SliderStyleModel",
      "state": {
       "_model_module_version": "~2.1.4",
       "_view_module_version": "~2.1.4"
      }
     },
     "7f763efd1cc849a2a36f719f994804e5": {
      "model_module": "jupyter-js-widgets",
      "model_module_version": "~2.1.4",
      "model_name": "FloatSliderModel",
      "state": {
       "_model_module_version": "~2.1.4",
       "_view_module_version": "~2.1.4",
       "description": "bw",
       "layout": "IPY_MODEL_3b8915cae20d4a4a9fac3ca754ab1cbb",
       "max": 0.54,
       "min": -0.18,
       "step": 0.1,
       "value": 0.18
      }
     },
     "81cf79a7829b48d19e565495d226df3b": {
      "model_module": "jupyter-js-widgets",
      "model_module_version": "~2.1.4",
      "model_name": "DropdownModel",
      "state": {
       "_model_module_version": "~2.1.4",
       "_options_labels": [
        "Both",
        "None",
        "Histogram",
        "KDE"
       ],
       "_view_module_version": "~2.1.4",
       "description": "Marginals",
       "layout": "IPY_MODEL_d1d36eb9d6f64471b3b23638f39b9a89",
       "value": "Both"
      }
     },
     "822a3dad54984097a1586b1f865b2ced": {
      "model_module": "jupyter-js-widgets",
      "model_module_version": "~2.1.4",
      "model_name": "VBoxModel",
      "state": {
       "_model_module_version": "~2.1.4",
       "_view_module_version": "~2.1.4",
       "children": [
        "IPY_MODEL_71dad6003d4e4db294e632fdbf349027",
        "IPY_MODEL_994a574b2fc449cf9991f7a4a571b2f9",
        "IPY_MODEL_4faaf11c89a145adb0cfe1bc1c9a68c5"
       ],
       "layout": "IPY_MODEL_201c9ed084a44320a9ad1b3d09e77663"
      }
     },
     "825183ed24cd48b080b91c6566e07a12": {
      "model_module": "jupyter-js-widgets",
      "model_module_version": "~2.1.4",
      "model_name": "HBoxModel",
      "state": {
       "_model_module_version": "~2.1.4",
       "_view_module_version": "~2.1.4",
       "children": [
        "IPY_MODEL_2865a849072249f4b6e36336086d06a5",
        "IPY_MODEL_a9e2e58862ae49b69e0feec14ff9ff14",
        "IPY_MODEL_a7553a51b5864df2ab107bcab6ec3873"
       ],
       "layout": "IPY_MODEL_df851eb5bc5d4550989ee66dcb13ce74"
      }
     },
     "828eca4e2f1b43d0aabc4ab19e84ae45": {
      "model_module": "jupyter-js-widgets",
      "model_module_version": "~2.1.4",
      "model_name": "HBoxModel",
      "state": {
       "_model_module_version": "~2.1.4",
       "_view_module_version": "~2.1.4",
       "children": [
        "IPY_MODEL_916293cab79b42eea611f9adc6f65e40",
        "IPY_MODEL_5895ce8761294f71b09b744b9469a493",
        "IPY_MODEL_da15eea97129445392c3a29f90f718ee"
       ],
       "layout": "IPY_MODEL_fea19de9ebd7444db848862a5b151a45"
      }
     },
     "82a45f5c82b7485c9c627ce9aa35ddb2": {
      "model_module": "jupyter-js-widgets",
      "model_module_version": "~2.1.4",
      "model_name": "LayoutModel",
      "state": {
       "_model_module_version": "~2.1.4",
       "_view_module_version": "~2.1.4",
       "display": "",
       "max_width": "300px",
       "min_width": "100px",
       "visibility": "visible"
      }
     },
     "82ae1e5699dc45b2bab7b72fbafcbd1b": {
      "model_module": "jupyter-js-widgets",
      "model_module_version": "~2.1.4",
      "model_name": "LayoutModel",
      "state": {
       "_model_module_version": "~2.1.4",
       "_view_module_version": "~2.1.4",
       "display": "",
       "max_width": "300px",
       "min_width": "100px",
       "visibility": "visible"
      }
     },
     "82caccf339314f1dbd2b17cbcf0b5114": {
      "model_module": "jupyter-js-widgets",
      "model_module_version": "~2.1.4",
      "model_name": "HBoxModel",
      "state": {
       "_model_module_version": "~2.1.4",
       "_view_module_version": "~2.1.4",
       "children": [
        "IPY_MODEL_02282a6f26764b32bae4d109c4af3e85"
       ],
       "layout": "IPY_MODEL_38d1b57a9f694f49a856ebe04f425218"
      }
     },
     "843af6c306304bc7b65bcb988bbe2465": {
      "model_module": "jupyter-js-widgets",
      "model_module_version": "~2.1.4",
      "model_name": "LayoutModel",
      "state": {
       "_model_module_version": "~2.1.4",
       "_view_module_version": "~2.1.4",
       "display": "",
       "min_width": "100px",
       "visibility": "visible"
      }
     },
     "845794400fb04c82bb1d2726f57e0064": {
      "model_module": "jupyter-js-widgets",
      "model_module_version": "~2.1.4",
      "model_name": "LayoutModel",
      "state": {
       "_model_module_version": "~2.1.4",
       "_view_module_version": "~2.1.4",
       "display": "",
       "max_width": "300px",
       "min_width": "100px",
       "visibility": "visible"
      }
     },
     "84bae647800440debb5a92218d0e42a0": {
      "model_module": "jupyter-js-widgets",
      "model_module_version": "~2.1.4",
      "model_name": "HBoxModel",
      "state": {
       "_model_module_version": "~2.1.4",
       "_view_module_version": "~2.1.4",
       "children": [
        "IPY_MODEL_914c5bf4d3294e599dd94747d217a146",
        "IPY_MODEL_2b1ca11f335445c382f2147a520f4947",
        "IPY_MODEL_7868b9c7bcd547aa99ca7f0f752734c8"
       ],
       "layout": "IPY_MODEL_f0acff9dd91d45dd9fae71a76d15b6e3"
      }
     },
     "8549fff8cecf4ebf8b4e901753675a96": {
      "model_module": "jupyter-js-widgets",
      "model_module_version": "~2.1.4",
      "model_name": "VBoxModel",
      "state": {
       "_model_module_version": "~2.1.4",
       "_view_module_version": "~2.1.4",
       "layout": "IPY_MODEL_4f29de254d234c7b86dc49dad79d117a"
      }
     },
     "854aa3f26d1a4ae897127a2564068027": {
      "model_module": "jupyter-js-widgets",
      "model_module_version": "~2.1.4",
      "model_name": "CheckboxModel",
      "state": {
       "_model_module_version": "~2.1.4",
       "_view_module_version": "~2.1.4",
       "disabled": false,
       "layout": "IPY_MODEL_33d6eafa5c704f0a92ef972c30071ea9",
       "value": true
      }
     },
     "856514b43a6e4e33970e40e514805f7f": {
      "model_module": "jupyter-js-widgets",
      "model_module_version": "~2.1.4",
      "model_name": "IntSliderModel",
      "state": {
       "_model_module_version": "~2.1.4",
       "_view_module_version": "~2.1.4",
       "continuous_update": false,
       "description": "Num ybins",
       "layout": "IPY_MODEL_21ed3f570cd04417a2d125d22868b960",
       "max": 40,
       "min": 1,
       "step": 2,
       "style": "IPY_MODEL_4d154871e57e43eebbf8143349aafa21",
       "value": 10
      }
     },
     "8606ff08122548bca1d6dc7217774ece": {
      "model_module": "jupyter-js-widgets",
      "model_module_version": "~2.1.4",
      "model_name": "IntSliderModel",
      "state": {
       "_model_module_version": "~2.1.4",
       "_view_module_version": "~2.1.4",
       "description": "Int slider",
       "layout": "IPY_MODEL_2ae58ef4f26e4ce1bf20948aaec35583",
       "max": 104,
       "min": -96,
       "style": "IPY_MODEL_cea5af095a0c43689abe17e7e7088c13",
       "value": 4
      }
     },
     "86333a8e94584f4cb8dc4176da14de92": {
      "model_module": "jupyter-js-widgets",
      "model_module_version": "~2.1.4",
      "model_name": "LayoutModel",
      "state": {
       "_model_module_version": "~2.1.4",
       "_view_module_version": "~2.1.4",
       "display": "",
       "max_width": "300px",
       "min_width": "100px",
       "visibility": "visible"
      }
     },
     "87206cef6c1843018bac193248304834": {
      "model_module": "jupyter-js-widgets",
      "model_module_version": "~2.1.4",
      "model_name": "CheckboxModel",
      "state": {
       "_model_module_version": "~2.1.4",
       "_view_module_version": "~2.1.4",
       "description": "Std",
       "disabled": false,
       "layout": "IPY_MODEL_37b83e37e1eb42b18edc2bf320831c55",
       "value": false
      }
     },
     "8723b06ac9b240cda58b3ee9e32ab1c9": {
      "model_module": "jupyter-js-widgets",
      "model_module_version": "~2.1.4",
      "model_name": "IntSliderModel",
      "state": {
       "_model_module_version": "~2.1.4",
       "_view_module_version": "~2.1.4",
       "description": "Confidence intervals",
       "layout": "IPY_MODEL_178f8b08d1974e6b9ab8a72003546321",
       "min": 1,
       "style": "IPY_MODEL_b71a9a1a23b14c478e8855f05bcf424b",
       "value": 95
      }
     },
     "876fb5d8e82f400e8264ceeff73525bc": {
      "model_module": "jupyter-js-widgets",
      "model_module_version": "~2.1.4",
      "model_name": "LayoutModel",
      "state": {
       "_model_module_version": "~2.1.4",
       "_view_module_version": "~2.1.4",
       "display": "",
       "max_width": "300px",
       "min_width": "100px",
       "visibility": "visible"
      }
     },
     "879903d07341409da856cb8d907f888b": {
      "model_module": "jupyter-js-widgets",
      "model_module_version": "~2.1.4",
      "model_name": "CheckboxModel",
      "state": {
       "_model_module_version": "~2.1.4",
       "_view_module_version": "~2.1.4",
       "description": "Hist",
       "disabled": false,
       "layout": "IPY_MODEL_c708c72b361c433796c728da64ebf427",
       "value": true
      }
     },
     "87a77f36434d455f9a82de7576299833": {
      "model_module": "jupyter-js-widgets",
      "model_module_version": "~2.1.4",
      "model_name": "LayoutModel",
      "state": {
       "_model_module_version": "~2.1.4",
       "_view_module_version": "~2.1.4",
       "display": "",
       "min_width": "100px",
       "visibility": "visible"
      }
     },
     "87b44948073f495e8931d0d6d2f5b98a": {
      "model_module": "jupyter-js-widgets",
      "model_module_version": "~2.1.4",
      "model_name": "LayoutModel",
      "state": {
       "_model_module_version": "~2.1.4",
       "_view_module_version": "~2.1.4",
       "display": "",
       "max_width": "300px",
       "min_width": "100px",
       "visibility": "visible"
      }
     },
     "884da662add84d15a4bc1a55ea257724": {
      "model_module": "jupyter-js-widgets",
      "model_module_version": "~2.1.4",
      "model_name": "DropdownModel",
      "state": {
       "_model_module_version": "~2.1.4",
       "_options_labels": [
        "ALL",
        "I",
        "II",
        "III",
        "IV"
       ],
       "_view_module_version": "~2.1.4",
       "description": "Dataset",
       "layout": "IPY_MODEL_542da287650c42db8e4ac372e6369e95",
       "value": "ALL"
      }
     },
     "88ce7a899b0c45a09a2788596cfd794e": {
      "model_module": "jupyter-js-widgets",
      "model_module_version": "~2.1.4",
      "model_name": "LayoutModel",
      "state": {
       "_model_module_version": "~2.1.4",
       "_view_module_version": "~2.1.4",
       "display": "",
       "max_width": "300px",
       "min_width": "100px",
       "visibility": "visible"
      }
     },
     "88eeaf7b37b04b36b93e531b8ef0abab": {
      "model_module": "jupyter-js-widgets",
      "model_module_version": "~2.1.4",
      "model_name": "LayoutModel",
      "state": {
       "_model_module_version": "~2.1.4",
       "_view_module_version": "~2.1.4",
       "display": "",
       "max_width": "300px",
       "min_width": "100px",
       "visibility": "visible"
      }
     },
     "892e8bda7fa041aa86815137219ce1c5": {
      "model_module": "jupyter-js-widgets",
      "model_module_version": "~2.1.4",
      "model_name": "LayoutModel",
      "state": {
       "_model_module_version": "~2.1.4",
       "_view_module_version": "~2.1.4",
       "display": "",
       "min_width": "100px",
       "visibility": "visible"
      }
     },
     "898becd135784fbd9b5d4096a34aee9d": {
      "model_module": "jupyter-js-widgets",
      "model_module_version": "~2.1.4",
      "model_name": "LayoutModel",
      "state": {
       "_model_module_version": "~2.1.4",
       "_view_module_version": "~2.1.4",
       "display": "",
       "min_width": "100px",
       "visibility": "visible"
      }
     },
     "899701ccd5f7464ba1e08f9f230ede57": {
      "model_module": "jupyter-js-widgets",
      "model_module_version": "~2.1.4",
      "model_name": "LayoutModel",
      "state": {
       "_model_module_version": "~2.1.4",
       "_view_module_version": "~2.1.4",
       "display": "",
       "max_width": "300px",
       "min_width": "100px",
       "visibility": "visible"
      }
     },
     "89b010b99d2e437c89848fa3d66334b7": {
      "model_module": "jupyter-js-widgets",
      "model_module_version": "~2.1.4",
      "model_name": "LayoutModel",
      "state": {
       "_model_module_version": "~2.1.4",
       "_view_module_version": "~2.1.4",
       "display": "",
       "max_width": "300px",
       "min_width": "100px",
       "visibility": "visible"
      }
     },
     "8a05674bfe7a4dafaace000f4bfe0074": {
      "model_module": "jupyter-js-widgets",
      "model_module_version": "~2.1.4",
      "model_name": "VBoxModel",
      "state": {
       "_model_module_version": "~2.1.4",
       "_view_module_version": "~2.1.4",
       "children": [
        "IPY_MODEL_99deab3f055d4360bda8c15c9e21bc46",
        "IPY_MODEL_dba0c4e1a18846f88d4f9caafd4a95ab",
        "IPY_MODEL_e3ec2f02f0b74b67906e3da0aeb60c80"
       ],
       "layout": "IPY_MODEL_892e8bda7fa041aa86815137219ce1c5"
      }
     },
     "8a20db52d51f41f6937b7bff460f1298": {
      "model_module": "jupyter-js-widgets",
      "model_module_version": "~2.1.4",
      "model_name": "LayoutModel",
      "state": {
       "_model_module_version": "~2.1.4",
       "_view_module_version": "~2.1.4",
       "display": "",
       "min_width": "100px",
       "visibility": "visible"
      }
     },
     "8ac267f3ba0a4349936a5d8b3e024367": {
      "model_module": "jupyter-js-widgets",
      "model_module_version": "~2.1.4",
      "model_name": "HTMLModel",
      "state": {
       "_model_module_version": "~2.1.4",
       "_view_module_version": "~2.1.4",
       "layout": "IPY_MODEL_3bb790cb3e2840109390fb72efc2ad4e",
       "value": "<h1>kde plot options</h1>"
      }
     },
     "8bb8c6aeca144272a500ec2bf2b993d0": {
      "model_module": "jupyter-js-widgets",
      "model_module_version": "~2.1.4",
      "model_name": "LayoutModel",
      "state": {
       "_model_module_version": "~2.1.4",
       "_view_module_version": "~2.1.4",
       "display": "",
       "max_width": "300px",
       "min_width": "100px",
       "visibility": "visible"
      }
     },
     "8bf5c7b40915494aae44f06b94aecd35": {
      "model_module": "jupyter-js-widgets",
      "model_module_version": "~2.1.4",
      "model_name": "AccordionModel",
      "state": {
       "_model_module_version": "~2.1.4",
       "_titles": {
        "0": "General",
        "1": "Histogram",
        "2": "Scatter",
        "3": "KDE",
        "4": "Regression"
       },
       "_view_module_version": "~2.1.4",
       "children": [
        "IPY_MODEL_92de47681a45472e91f9c4ca55465d55",
        "IPY_MODEL_2f8da49cc43541a7b961fa46a40e4d09",
        "IPY_MODEL_822a3dad54984097a1586b1f865b2ced",
        "IPY_MODEL_a4e78ecb2751417884bae999e7077a14",
        "IPY_MODEL_693ce9f1817b4639b14a66d748b6d028"
       ],
       "layout": "IPY_MODEL_436dc376dfba48f3b1a07afbf0f87424"
      }
     },
     "8d8a52c5506a4603b43cfa97be75f907": {
      "model_module": "jupyter-js-widgets",
      "model_module_version": "~2.1.4",
      "model_name": "HBoxModel",
      "state": {
       "_model_module_version": "~2.1.4",
       "_view_module_version": "~2.1.4",
       "children": [
        "IPY_MODEL_9d7083d845c444aca68607b09e813750",
        "IPY_MODEL_6e6514ec351342a1879767b6e1d0c255"
       ],
       "layout": "IPY_MODEL_db3bebee716745a68104e56ff37dceff"
      }
     },
     "8e1c281316794863aed7f976b69400eb": {
      "model_module": "jupyter-js-widgets",
      "model_module_version": "~2.1.4",
      "model_name": "LayoutModel",
      "state": {
       "_model_module_version": "~2.1.4",
       "_view_module_version": "~2.1.4",
       "display": "",
       "max_width": "300px",
       "min_width": "100px",
       "visibility": "visible"
      }
     },
     "914c5bf4d3294e599dd94747d217a146": {
      "model_module": "jupyter-js-widgets",
      "model_module_version": "~2.1.4",
      "model_name": "VBoxModel",
      "state": {
       "_model_module_version": "~2.1.4",
       "_view_module_version": "~2.1.4",
       "children": [
        "IPY_MODEL_7e8e8629a6724166858b93efde0067fe",
        "IPY_MODEL_a93ea9513cd14d7e9043f45786887ba1"
       ],
       "layout": "IPY_MODEL_d4fc9abc75444da5895efcf975fa9660"
      }
     },
     "916293cab79b42eea611f9adc6f65e40": {
      "model_module": "jupyter-js-widgets",
      "model_module_version": "~2.1.4",
      "model_name": "IntSliderModel",
      "state": {
       "_model_module_version": "~2.1.4",
       "_view_module_version": "~2.1.4",
       "description": "Int slider",
       "layout": "IPY_MODEL_d8688f3fbb8744ada2c0c4aca5dcd935",
       "max": 104,
       "min": -96,
       "style": "IPY_MODEL_4be48f6daf8540c78ecab9a315aa855f",
       "value": 4
      }
     },
     "923994a930d7416eb4e726aee6950d7d": {
      "model_module": "jupyter-js-widgets",
      "model_module_version": "~2.1.4",
      "model_name": "HBoxModel",
      "state": {
       "_model_module_version": "~2.1.4",
       "_view_module_version": "~2.1.4",
       "children": [
        "IPY_MODEL_a037195106c54e8aa8121df974a68bf4"
       ],
       "layout": "IPY_MODEL_9a692b2379f34a338c13769f2743bace"
      }
     },
     "9291087e3e99423caba76cd0b9ceeb87": {
      "model_module": "jupyter-js-widgets",
      "model_module_version": "~2.1.4",
      "model_name": "IntSliderModel",
      "state": {
       "_model_module_version": "~2.1.4",
       "_view_module_version": "~2.1.4",
       "description": "Num xbins",
       "layout": "IPY_MODEL_b7c17abbdef14f268d55c43866dbcaaf",
       "max": 40,
       "min": 1,
       "step": 2,
       "style": "IPY_MODEL_e9b26b716e5a46aaa01bd65acdec6584",
       "value": 10
      }
     },
     "92de47681a45472e91f9c4ca55465d55": {
      "model_module": "jupyter-js-widgets",
      "model_module_version": "~2.1.4",
      "model_name": "VBoxModel",
      "state": {
       "_model_module_version": "~2.1.4",
       "_view_module_version": "~2.1.4",
       "children": [
        "IPY_MODEL_765f47e8b38a4ec1a5080b35126dacf6",
        "IPY_MODEL_2c49cb18ba97429fa91d68feecbedb98",
        "IPY_MODEL_e14a7b0a1b4543fd8fd5f2ce320b4671",
        "IPY_MODEL_3454845175fd411f8f6fffef025803db",
        "IPY_MODEL_e1980a89636d45468cf002108b0c2011"
       ],
       "layout": "IPY_MODEL_73fc994c02984b11805102c5f742144c"
      }
     },
     "93978e7270de46bbb540122a3e391fa3": {
      "model_module": "jupyter-js-widgets",
      "model_module_version": "~2.1.4",
      "model_name": "HBoxModel",
      "state": {
       "_model_module_version": "~2.1.4",
       "_view_module_version": "~2.1.4",
       "children": [
        "IPY_MODEL_47cd15c2982845d0b55e3d5ca255db6f"
       ],
       "layout": "IPY_MODEL_02e647ec088c434c9f0a076a5c7a0c7c"
      }
     },
     "93bedf2211164780b3e5942098734eb5": {
      "model_module": "jupyter-js-widgets",
      "model_module_version": "~2.1.4",
      "model_name": "LayoutModel",
      "state": {
       "_model_module_version": "~2.1.4",
       "_view_module_version": "~2.1.4",
       "display": "",
       "min_width": "100px",
       "visibility": "visible"
      }
     },
     "94b3375301294eefa1a0035fcfd1c5f8": {
      "model_module": "jupyter-js-widgets",
      "model_module_version": "~2.1.4",
      "model_name": "LayoutModel",
      "state": {
       "_model_module_version": "~2.1.4",
       "_view_module_version": "~2.1.4",
       "display": "",
       "max_width": "300px",
       "min_width": "100px",
       "visibility": "visible"
      }
     },
     "94b7a76426a24b03bf2b7c220a27d844": {
      "model_module": "jupyter-js-widgets",
      "model_module_version": "~2.1.4",
      "model_name": "SliderStyleModel",
      "state": {
       "_model_module_version": "~2.1.4",
       "_view_module_version": "~2.1.4"
      }
     },
     "94e32610a3cd4a4ca99168f33ca1883b": {
      "model_module": "jupyter-js-widgets",
      "model_module_version": "~2.1.4",
      "model_name": "CheckboxModel",
      "state": {
       "_model_module_version": "~2.1.4",
       "_view_module_version": "~2.1.4",
       "description": "Hist",
       "disabled": false,
       "layout": "IPY_MODEL_e3aaf42feac644878be35e8d273a0517",
       "value": true
      }
     },
     "94fa3d90ee0847f397f9644e86d2f593": {
      "model_module": "jupyter-js-widgets",
      "model_module_version": "~2.1.4",
      "model_name": "LayoutModel",
      "state": {
       "_model_module_version": "~2.1.4",
       "_view_module_version": "~2.1.4",
       "display": "",
       "min_width": "100px",
       "visibility": "visible"
      }
     },
     "951f7bdf4d6f4418b887aad5f01e5233": {
      "model_module": "jupyter-js-widgets",
      "model_module_version": "~2.1.4",
      "model_name": "LayoutModel",
      "state": {
       "_model_module_version": "~2.1.4",
       "_view_module_version": "~2.1.4",
       "display": "",
       "min_width": "100px",
       "visibility": "visible"
      }
     },
     "9601ad290a6d4730a223b92e0a15d6a8": {
      "model_module": "jupyter-js-widgets",
      "model_module_version": "~2.1.4",
      "model_name": "IntSliderModel",
      "state": {
       "_model_module_version": "~2.1.4",
       "_view_module_version": "~2.1.4",
       "description": "Reg order",
       "layout": "IPY_MODEL_40170c29b3794130937f0a472e39ea19",
       "max": 10,
       "min": 1,
       "style": "IPY_MODEL_573449c1382a472ba86efce7eebd1406",
       "value": 1
      }
     },
     "966c16d9b3164ee1a2433f1c64b6eaa2": {
      "model_module": "jupyter-js-widgets",
      "model_module_version": "~2.1.4",
      "model_name": "LayoutModel",
      "state": {
       "_model_module_version": "~2.1.4",
       "_view_module_version": "~2.1.4",
       "display": "",
       "max_width": "300px",
       "min_width": "100px",
       "visibility": "visible"
      }
     },
     "96e3cb1ae76d449a8b7415ae6d652093": {
      "model_module": "jupyter-js-widgets",
      "model_module_version": "~2.1.4",
      "model_name": "LayoutModel",
      "state": {
       "_model_module_version": "~2.1.4",
       "_view_module_version": "~2.1.4",
       "display": "",
       "max_width": "300px",
       "min_width": "100px",
       "visibility": "visible"
      }
     },
     "97b3fd51f3cd47a2aad05c2638ed152a": {
      "model_module": "jupyter-js-widgets",
      "model_module_version": "~2.1.4",
      "model_name": "TextModel",
      "state": {
       "_model_module_version": "~2.1.4",
       "_view_module_version": "~2.1.4",
       "description": "Text",
       "layout": "IPY_MODEL_876fb5d8e82f400e8264ceeff73525bc",
       "value": "moco"
      }
     },
     "98ae5c673afc46548d42a44c2f9aaa79": {
      "model_module": "jupyter-js-widgets",
      "model_module_version": "~2.1.4",
      "model_name": "HBoxModel",
      "state": {
       "_model_module_version": "~2.1.4",
       "_view_module_version": "~2.1.4",
       "children": [
        "IPY_MODEL_ae6ddf0996e24bc8bffd0c9be1ce354d"
       ],
       "layout": "IPY_MODEL_843af6c306304bc7b65bcb988bbe2465"
      }
     },
     "98f86eaaad4a40859b15e5583ad2af6f": {
      "model_module": "jupyter-js-widgets",
      "model_module_version": "~2.1.4",
      "model_name": "DropdownModel",
      "state": {
       "_model_module_version": "~2.1.4",
       "_options_labels": [
        "ALL",
        "I",
        "II",
        "III",
        "IV"
       ],
       "_view_module_version": "~2.1.4",
       "layout": "IPY_MODEL_7daf73fff95a424dae30a300b53321c1",
       "value": "ALL"
      }
     },
     "991262e23f6c42e286cc015e7984408d": {
      "model_module": "jupyter-js-widgets",
      "model_module_version": "~2.1.4",
      "model_name": "HBoxModel",
      "state": {
       "_model_module_version": "~2.1.4",
       "_view_module_version": "~2.1.4",
       "children": [
        "IPY_MODEL_71ff18a04b4b4b97883799693ea81bf8",
        "IPY_MODEL_b4e2a018490c4aed94b96e7fa6dcbcaf"
       ],
       "layout": "IPY_MODEL_9c87864754b84b5d90658cf098343fe9"
      }
     },
     "994a574b2fc449cf9991f7a4a571b2f9": {
      "model_module": "jupyter-js-widgets",
      "model_module_version": "~2.1.4",
      "model_name": "ToggleButtonModel",
      "state": {
       "_model_module_version": "~2.1.4",
       "_view_module_version": "~2.1.4",
       "description": "Plot Scatter",
       "layout": "IPY_MODEL_cf6d949ad150442195f4f65eb7a67218",
       "value": true
      }
     },
     "995e83c14637473ba934c9c506e880e1": {
      "model_module": "jupyter-js-widgets",
      "model_module_version": "~2.1.4",
      "model_name": "LayoutModel",
      "state": {
       "_model_module_version": "~2.1.4",
       "_view_module_version": "~2.1.4"
      }
     },
     "9988b8590e8a42038bab31c55ad71ea3": {
      "model_module": "jupyter-js-widgets",
      "model_module_version": "~2.1.4",
      "model_name": "SliderStyleModel",
      "state": {
       "_model_module_version": "~2.1.4",
       "_view_module_version": "~2.1.4"
      }
     },
     "99deab3f055d4360bda8c15c9e21bc46": {
      "model_module": "jupyter-js-widgets",
      "model_module_version": "~2.1.4",
      "model_name": "CheckboxModel",
      "state": {
       "_model_module_version": "~2.1.4",
       "_view_module_version": "~2.1.4",
       "description": "Scatter",
       "disabled": false,
       "layout": "IPY_MODEL_a40aa4362e054d3eabec9f53baf059f8",
       "value": true
      }
     },
     "9a3e66a02cb54c90b5e71a5346f2de04": {
      "model_module": "jupyter-js-widgets",
      "model_module_version": "~2.1.4",
      "model_name": "LayoutModel",
      "state": {
       "_model_module_version": "~2.1.4",
       "_view_module_version": "~2.1.4",
       "display": "",
       "max_width": "300px",
       "min_width": "100px",
       "visibility": "visible"
      }
     },
     "9a692b2379f34a338c13769f2743bace": {
      "model_module": "jupyter-js-widgets",
      "model_module_version": "~2.1.4",
      "model_name": "LayoutModel",
      "state": {
       "_model_module_version": "~2.1.4",
       "_view_module_version": "~2.1.4",
       "display": "",
       "min_width": "100px",
       "visibility": "visible"
      }
     },
     "9aa1888ea251481f8c307806d1b3d623": {
      "model_module": "jupyter-js-widgets",
      "model_module_version": "~2.1.4",
      "model_name": "HBoxModel",
      "state": {
       "_model_module_version": "~2.1.4",
       "_view_module_version": "~2.1.4",
       "children": [
        "IPY_MODEL_db16888233404aa4ac3ed7b99c2f92cc"
       ],
       "layout": "IPY_MODEL_e4f1ba47ae264a3dbd9bed9d64123638"
      }
     },
     "9b050f6968194e4da4aeca347af165aa": {
      "model_module": "jupyter-js-widgets",
      "model_module_version": "~2.1.4",
      "model_name": "DropdownModel",
      "state": {
       "_model_module_version": "~2.1.4",
       "_options_labels": [
        "Hello",
        "World"
       ],
       "_view_module_version": "~2.1.4",
       "description": "Dropdown",
       "layout": "IPY_MODEL_5a0fa883e4c844e4910e659e06b1a25e",
       "value": "Hello"
      }
     },
     "9b1ed44579b74411bebcbcb6edd04c29": {
      "model_module": "jupyter-js-widgets",
      "model_module_version": "~2.1.4",
      "model_name": "ToggleButtonModel",
      "state": {
       "_model_module_version": "~2.1.4",
       "_view_module_version": "~2.1.4",
       "layout": "IPY_MODEL_ad75a13386144061b9438dc756d84da6"
      }
     },
     "9c87864754b84b5d90658cf098343fe9": {
      "model_module": "jupyter-js-widgets",
      "model_module_version": "~2.1.4",
      "model_name": "LayoutModel",
      "state": {
       "_model_module_version": "~2.1.4",
       "_view_module_version": "~2.1.4",
       "display": "",
       "min_width": "100px",
       "visibility": "visible"
      }
     },
     "9cacf96f13724ad2b985593197676500": {
      "model_module": "jupyter-js-widgets",
      "model_module_version": "~2.1.4",
      "model_name": "DropdownModel",
      "state": {
       "_model_module_version": "~2.1.4",
       "_options_labels": [
        "Hello",
        "World"
       ],
       "_view_module_version": "~2.1.4",
       "description": "Dropdown",
       "layout": "IPY_MODEL_41ff33d76daa46a9ad1315f9ff661817",
       "value": "Hello"
      }
     },
     "9d7083d845c444aca68607b09e813750": {
      "model_module": "jupyter-js-widgets",
      "model_module_version": "~2.1.4",
      "model_name": "CheckboxModel",
      "state": {
       "_model_module_version": "~2.1.4",
       "_view_module_version": "~2.1.4",
       "description": "Normed",
       "disabled": false,
       "layout": "IPY_MODEL_7b65819303604fd1b27bc27304b907cd",
       "value": false
      }
     },
     "9e5a13d08fc6493880b626f59105581c": {
      "model_module": "jupyter-js-widgets",
      "model_module_version": "~2.1.4",
      "model_name": "LayoutModel",
      "state": {
       "_model_module_version": "~2.1.4",
       "_view_module_version": "~2.1.4",
       "display": "",
       "max_width": "300px",
       "min_width": "100px",
       "visibility": "visible"
      }
     },
     "9f35c8dd535442b78a0d1b115a02197d": {
      "model_module": "jupyter-js-widgets",
      "model_module_version": "~2.1.4",
      "model_name": "VBoxModel",
      "state": {
       "_model_module_version": "~2.1.4",
       "_view_module_version": "~2.1.4",
       "children": [
        "IPY_MODEL_ed6ec5baf7154af39e091335d98ba342",
        "IPY_MODEL_12ea348f6b3a4aae97e1760808d7910d",
        "IPY_MODEL_0d3253543e0344f884a114689b9ee399"
       ],
       "layout": "IPY_MODEL_afb4c66bcd9a4f839f0f5d9ac829a8df"
      }
     },
     "a037195106c54e8aa8121df974a68bf4": {
      "model_module": "jupyter-js-widgets",
      "model_module_version": "~2.1.4",
      "model_name": "DropdownModel",
      "state": {
       "_model_module_version": "~2.1.4",
       "_options_labels": [
        "Hello",
        "World"
       ],
       "_view_module_version": "~2.1.4",
       "description": "Dropdown",
       "layout": "IPY_MODEL_efeda2d3e6f54941954c91de08acad61",
       "value": "Hello"
      }
     },
     "a0d1d72e711f4f94bacf52554939d769": {
      "model_module": "jupyter-js-widgets",
      "model_module_version": "~2.1.4",
      "model_name": "HTMLModel",
      "state": {
       "_model_module_version": "~2.1.4",
       "_view_module_version": "~2.1.4",
       "layout": "IPY_MODEL_1586c3fcc6f74f03a802df856bb23f29",
       "value": "<h1>exploratory plots</h1>"
      }
     },
     "a1294c372f0f467e9affc466a650c79e": {
      "model_module": "jupyter-js-widgets",
      "model_module_version": "~2.1.4",
      "model_name": "LayoutModel",
      "state": {
       "_model_module_version": "~2.1.4",
       "_view_module_version": "~2.1.4",
       "display": "",
       "max_width": "300px",
       "min_width": "100px",
       "visibility": "visible"
      }
     },
     "a1cd093c85a6492a87c00c59f635bfd4": {
      "model_module": "jupyter-js-widgets",
      "model_module_version": "~2.1.4",
      "model_name": "IntSliderModel",
      "state": {
       "_model_module_version": "~2.1.4",
       "_view_module_version": "~2.1.4",
       "layout": "IPY_MODEL_024125a40e9b40fb8f5317198fa211bb",
       "min": 1,
       "style": "IPY_MODEL_320d7925d2ef43dc8eb1aed75c83d157",
       "value": 95
      }
     },
     "a1fd6c0235e5428380c1099573a3af93": {
      "model_module": "jupyter-js-widgets",
      "model_module_version": "~2.1.4",
      "model_name": "IntSliderModel",
      "state": {
       "_model_module_version": "~2.1.4",
       "_view_module_version": "~2.1.4",
       "description": "Num xbins",
       "layout": "IPY_MODEL_845794400fb04c82bb1d2726f57e0064",
       "max": 104,
       "min": -96,
       "style": "IPY_MODEL_b62b98c305dd463cba207a26f4bbdf45",
       "value": 4
      }
     },
     "a2d843dbda0f42afad2ec98065ae91c4": {
      "model_module": "jupyter-js-widgets",
      "model_module_version": "~2.1.4",
      "model_name": "LayoutModel",
      "state": {
       "_model_module_version": "~2.1.4",
       "_view_module_version": "~2.1.4",
       "display": "",
       "min_width": "100px",
       "visibility": "visible"
      }
     },
     "a2dd89dac8d84769aae662e3328222b8": {
      "model_module": "jupyter-js-widgets",
      "model_module_version": "~2.1.4",
      "model_name": "LayoutModel",
      "state": {
       "_model_module_version": "~2.1.4",
       "_view_module_version": "~2.1.4",
       "display": "",
       "max_width": "300px",
       "min_width": "100px",
       "visibility": "visible"
      }
     },
     "a3985d52bde4494f999a4f974f657a6b": {
      "model_module": "jupyter-js-widgets",
      "model_module_version": "~2.1.4",
      "model_name": "CheckboxModel",
      "state": {
       "_model_module_version": "~2.1.4",
       "_view_module_version": "~2.1.4",
       "disabled": false,
       "layout": "IPY_MODEL_750befada49043ebb79a013b2ff893a3",
       "value": true
      }
     },
     "a3aef4b0a83844cd8a82553dea18231f": {
      "model_module": "jupyter-js-widgets",
      "model_module_version": "~2.1.4",
      "model_name": "ToggleButtonModel",
      "state": {
       "_model_module_version": "~2.1.4",
       "_view_module_version": "~2.1.4",
       "description": "Robust",
       "layout": "IPY_MODEL_06e1fab7ca444fa2b669006eee407522"
      }
     },
     "a3bc486d14b04f529e3bbda6e0fe3898": {
      "model_module": "jupyter-js-widgets",
      "model_module_version": "~2.1.4",
      "model_name": "HBoxModel",
      "state": {
       "_model_module_version": "~2.1.4",
       "_view_module_version": "~2.1.4",
       "children": [
        "IPY_MODEL_eaf95aa2a605429e86b56c6db58dcf09"
       ],
       "layout": "IPY_MODEL_bdeb8555830b497d9d8aa4a86ec67f87"
      }
     },
     "a40aa4362e054d3eabec9f53baf059f8": {
      "model_module": "jupyter-js-widgets",
      "model_module_version": "~2.1.4",
      "model_name": "LayoutModel",
      "state": {
       "_model_module_version": "~2.1.4",
       "_view_module_version": "~2.1.4",
       "display": "",
       "max_width": "300px",
       "min_width": "100px",
       "visibility": "visible"
      }
     },
     "a45b9ab1609c477e8adc21c1ff7b06ab": {
      "model_module": "jupyter-js-widgets",
      "model_module_version": "~2.1.4",
      "model_name": "LayoutModel",
      "state": {
       "_model_module_version": "~2.1.4",
       "_view_module_version": "~2.1.4",
       "display": "",
       "max_width": "300px",
       "min_width": "100px",
       "visibility": "visible"
      }
     },
     "a4e78ecb2751417884bae999e7077a14": {
      "model_module": "jupyter-js-widgets",
      "model_module_version": "~2.1.4",
      "model_name": "VBoxModel",
      "state": {
       "_model_module_version": "~2.1.4",
       "_view_module_version": "~2.1.4",
       "children": [
        "IPY_MODEL_8ac267f3ba0a4349936a5d8b3e024367",
        "IPY_MODEL_b8e5b1e8f841491bb5226971c2e18bb1",
        "IPY_MODEL_4a1149f0ee044fb4a802f7a99bebdf9f"
       ],
       "layout": "IPY_MODEL_08b972d6fefe49b5bb21b9b2ebb72597"
      }
     },
     "a4e91e6dda7a4bf486b3d743babee94b": {
      "model_module": "jupyter-js-widgets",
      "model_module_version": "~2.1.4",
      "model_name": "IntSliderModel",
      "state": {
       "_model_module_version": "~2.1.4",
       "_view_module_version": "~2.1.4",
       "layout": "IPY_MODEL_046bd54b368c432c8195eabc246e4c4f",
       "max": 40,
       "min": 1,
       "step": 2,
       "style": "IPY_MODEL_713379b4ed3648e19beb8770c5507310",
       "value": 10
      }
     },
     "a4f7909f261647b5be1efbbd76c31e01": {
      "model_module": "jupyter-js-widgets",
      "model_module_version": "~2.1.4",
      "model_name": "DropdownModel",
      "state": {
       "_model_module_version": "~2.1.4",
       "_options_labels": [
        "Normal",
        "example_2"
       ],
       "_view_module_version": "~2.1.4",
       "description": "Distribution",
       "layout": "IPY_MODEL_d10db9fe9e914c71b81de31ac26b7fb1",
       "value": "Normal"
      }
     },
     "a64e382d2ecb46a2a73bfe62e6b9dff8": {
      "model_module": "jupyter-js-widgets",
      "model_module_version": "~2.1.4",
      "model_name": "CheckboxModel",
      "state": {
       "_model_module_version": "~2.1.4",
       "_view_module_version": "~2.1.4",
       "description": "mean",
       "disabled": false,
       "layout": "IPY_MODEL_171840e0ff714e7da61009c1f3cc8bb5",
       "value": false
      }
     },
     "a6b9d844d47840cca1234f8d30909309": {
      "model_module": "jupyter-js-widgets",
      "model_module_version": "~2.1.4",
      "model_name": "LayoutModel",
      "state": {
       "_model_module_version": "~2.1.4",
       "_view_module_version": "~2.1.4",
       "display": "",
       "max_width": "300px",
       "min_width": "100px",
       "visibility": "visible"
      }
     },
     "a6bcca95e5614d979c5d343d837ee5c3": {
      "model_module": "jupyter-js-widgets",
      "model_module_version": "~2.1.4",
      "model_name": "VBoxModel",
      "state": {
       "_model_module_version": "~2.1.4",
       "_view_module_version": "~2.1.4",
       "children": [
        "IPY_MODEL_274556d9c2b44279994b13b5bbeaf6e5",
        "IPY_MODEL_bcc910d8bc094a608e748fdcd4d26a1d"
       ],
       "layout": "IPY_MODEL_4a869261272b41b49042a74ce5467288"
      }
     },
     "a7553a51b5864df2ab107bcab6ec3873": {
      "model_module": "jupyter-js-widgets",
      "model_module_version": "~2.1.4",
      "model_name": "VBoxModel",
      "state": {
       "_model_module_version": "~2.1.4",
       "_view_module_version": "~2.1.4",
       "layout": "IPY_MODEL_3c092df6033c46c39743edaeb90a8724"
      }
     },
     "a790bbf4184f4b10b6a51cf98dc075fb": {
      "model_module": "jupyter-js-widgets",
      "model_module_version": "~2.1.4",
      "model_name": "VBoxModel",
      "state": {
       "_model_module_version": "~2.1.4",
       "_view_module_version": "~2.1.4",
       "children": [
        "IPY_MODEL_bd8dd5841f05470da3a0c98c274b1458",
        "IPY_MODEL_e014f9868eb54710bfc0229a29624ba9"
       ],
       "layout": "IPY_MODEL_78bfde3d1d3b46959fdc555f8b521566"
      }
     },
     "a7b865505ae64a7a8511f4a784203084": {
      "model_module": "jupyter-js-widgets",
      "model_module_version": "~2.1.4",
      "model_name": "DropdownModel",
      "state": {
       "_model_module_version": "~2.1.4",
       "_options_labels": [
        "dataset",
        "x",
        "y"
       ],
       "_view_module_version": "~2.1.4",
       "description": "X column",
       "layout": "IPY_MODEL_3c2ece28f8c248fba01dfba0ea639c69",
       "value": "x"
      }
     },
     "a7ba55a081f3427ba7e4baf1c1fd3726": {
      "model_module": "jupyter-js-widgets",
      "model_module_version": "~2.1.4",
      "model_name": "LayoutModel",
      "state": {
       "_model_module_version": "~2.1.4",
       "_view_module_version": "~2.1.4",
       "display": "",
       "min_width": "100px",
       "visibility": "visible"
      }
     },
     "a935c3df669843da91cf39a0189f96c8": {
      "model_module": "jupyter-js-widgets",
      "model_module_version": "~2.1.4",
      "model_name": "LayoutModel",
      "state": {
       "_model_module_version": "~2.1.4",
       "_view_module_version": "~2.1.4",
       "display": "",
       "max_width": "300px",
       "min_width": "100px",
       "visibility": "visible"
      }
     },
     "a93ea9513cd14d7e9043f45786887ba1": {
      "model_module": "jupyter-js-widgets",
      "model_module_version": "~2.1.4",
      "model_name": "TextModel",
      "state": {
       "_model_module_version": "~2.1.4",
       "_view_module_version": "~2.1.4",
       "description": "Text",
       "layout": "IPY_MODEL_88eeaf7b37b04b36b93e531b8ef0abab",
       "value": "moco"
      }
     },
     "a9e2e58862ae49b69e0feec14ff9ff14": {
      "model_module": "jupyter-js-widgets",
      "model_module_version": "~2.1.4",
      "model_name": "VBoxModel",
      "state": {
       "_model_module_version": "~2.1.4",
       "_view_module_version": "~2.1.4",
       "children": [
        "IPY_MODEL_deb46c19d6d243a196127db2c4321765",
        "IPY_MODEL_778feb566e5f424bb5bc66b31f648f53"
       ],
       "layout": "IPY_MODEL_60bcc64c70684760bea3c4a93b5e3a72"
      }
     },
     "aa14d312e70845f8a3037d33258097ec": {
      "model_module": "jupyter-js-widgets",
      "model_module_version": "~2.1.4",
      "model_name": "LayoutModel",
      "state": {
       "_model_module_version": "~2.1.4",
       "_view_module_version": "~2.1.4",
       "display": "",
       "max_width": "300px",
       "min_width": "100px",
       "visibility": "visible"
      }
     },
     "aaf752d7c43041ff8f29b03f1971e6d2": {
      "model_module": "jupyter-js-widgets",
      "model_module_version": "~2.1.4",
      "model_name": "LayoutModel",
      "state": {
       "_model_module_version": "~2.1.4",
       "_view_module_version": "~2.1.4",
       "display": "",
       "min_width": "100px",
       "visibility": "visible"
      }
     },
     "ab55d25657ac4754a99a6c842bd135e1": {
      "model_module": "jupyter-js-widgets",
      "model_module_version": "~2.1.4",
      "model_name": "IntSliderModel",
      "state": {
       "_model_module_version": "~2.1.4",
       "_view_module_version": "~2.1.4",
       "description": "Confidence intervals",
       "layout": "IPY_MODEL_36810ed429b14f6f8aaad6e52c6eab74",
       "min": 1,
       "style": "IPY_MODEL_7797efba12af4ff48eb9c2022e4f5cbd",
       "value": 95
      }
     },
     "ab652b3f019a42cf9b4b84bcbce994d5": {
      "model_module": "jupyter-js-widgets",
      "model_module_version": "~2.1.4",
      "model_name": "LayoutModel",
      "state": {
       "_model_module_version": "~2.1.4",
       "_view_module_version": "~2.1.4",
       "display": "",
       "min_width": "100px",
       "visibility": "visible"
      }
     },
     "ac1718ccd7e444679b1fb943e6545733": {
      "model_module": "jupyter-js-widgets",
      "model_module_version": "~2.1.4",
      "model_name": "LayoutModel",
      "state": {
       "_model_module_version": "~2.1.4",
       "_view_module_version": "~2.1.4",
       "display": "",
       "max_width": "300px",
       "min_width": "100px",
       "visibility": "visible"
      }
     },
     "ac538ab062b54291b187f266518a2acb": {
      "model_module": "jupyter-js-widgets",
      "model_module_version": "~2.1.4",
      "model_name": "LayoutModel",
      "state": {
       "_model_module_version": "~2.1.4",
       "_view_module_version": "~2.1.4",
       "display": "",
       "max_width": "300px",
       "min_width": "100px",
       "visibility": "visible"
      }
     },
     "ad25f57f4d13468ea13ab12692c95476": {
      "model_module": "jupyter-js-widgets",
      "model_module_version": "~2.1.4",
      "model_name": "DropdownModel",
      "state": {
       "_model_module_version": "~2.1.4",
       "_options_labels": [
        "Both",
        "None",
        "Histogram",
        "KDE"
       ],
       "_view_module_version": "~2.1.4",
       "layout": "IPY_MODEL_7a6326615de5408a80a9ecb006d937c3",
       "value": "Both"
      }
     },
     "ad3896fc20df45d9839d86919d06ce62": {
      "model_module": "jupyter-js-widgets",
      "model_module_version": "~2.1.4",
      "model_name": "HBoxModel",
      "state": {
       "_model_module_version": "~2.1.4",
       "_view_module_version": "~2.1.4",
       "children": [
        "IPY_MODEL_fbb5a5a7660b4671a8b99c635ab0b260"
       ],
       "layout": "IPY_MODEL_d6136de71b1141d9af4f46593356c29f"
      }
     },
     "ad75a13386144061b9438dc756d84da6": {
      "model_module": "jupyter-js-widgets",
      "model_module_version": "~2.1.4",
      "model_name": "LayoutModel",
      "state": {
       "_model_module_version": "~2.1.4",
       "_view_module_version": "~2.1.4",
       "display": "",
       "max_width": "300px",
       "min_width": "100px",
       "visibility": "visible"
      }
     },
     "ad7e7a9697b649ac9db739b21ff05b3e": {
      "model_module": "jupyter-js-widgets",
      "model_module_version": "~2.1.4",
      "model_name": "LayoutModel",
      "state": {
       "_model_module_version": "~2.1.4",
       "_view_module_version": "~2.1.4",
       "display": "",
       "min_width": "100px",
       "visibility": "visible"
      }
     },
     "ae55e3567af84b9492b5e65341f733bc": {
      "model_module": "jupyter-js-widgets",
      "model_module_version": "~2.1.4",
      "model_name": "LayoutModel",
      "state": {
       "_model_module_version": "~2.1.4",
       "_view_module_version": "~2.1.4",
       "display": "",
       "max_width": "300px",
       "min_width": "100px",
       "visibility": "visible"
      }
     },
     "ae6ddf0996e24bc8bffd0c9be1ce354d": {
      "model_module": "jupyter-js-widgets",
      "model_module_version": "~2.1.4",
      "model_name": "HTMLModel",
      "state": {
       "_model_module_version": "~2.1.4",
       "_view_module_version": "~2.1.4",
       "layout": "IPY_MODEL_4c3c19a130854d75ac112114294516db",
       "value": "<h1>combining plots</h1>"
      }
     },
     "afb4c66bcd9a4f839f0f5d9ac829a8df": {
      "model_module": "jupyter-js-widgets",
      "model_module_version": "~2.1.4",
      "model_name": "LayoutModel",
      "state": {
       "_model_module_version": "~2.1.4",
       "_view_module_version": "~2.1.4",
       "display": "",
       "min_width": "100px",
       "visibility": "visible"
      }
     },
     "afc8fb6e0ef94ea6a88cbd32a80c7a89": {
      "model_module": "jupyter-js-widgets",
      "model_module_version": "~2.1.4",
      "model_name": "LayoutModel",
      "state": {
       "_model_module_version": "~2.1.4",
       "_view_module_version": "~2.1.4",
       "display": "",
       "min_width": "100px",
       "visibility": "visible"
      }
     },
     "b01ee7106f744a16b9a072bb285c44d8": {
      "model_module": "jupyter-js-widgets",
      "model_module_version": "~2.1.4",
      "model_name": "LayoutModel",
      "state": {
       "_model_module_version": "~2.1.4",
       "_view_module_version": "~2.1.4",
       "display": "",
       "max_width": "300px",
       "min_width": "100px",
       "visibility": "visible"
      }
     },
     "b0701ced65e34f4cb3960217eae3d2e4": {
      "model_module": "jupyter-js-widgets",
      "model_module_version": "~2.1.4",
      "model_name": "LayoutModel",
      "state": {
       "_model_module_version": "~2.1.4",
       "_view_module_version": "~2.1.4",
       "display": "",
       "min_width": "100px",
       "visibility": "visible"
      }
     },
     "b099b76271ca46508afda7df7a1c3e5e": {
      "model_module": "jupyter-js-widgets",
      "model_module_version": "~2.1.4",
      "model_name": "CheckboxModel",
      "state": {
       "_model_module_version": "~2.1.4",
       "_view_module_version": "~2.1.4",
       "description": "Mean",
       "disabled": false,
       "layout": "IPY_MODEL_dc994f0df47546209b718813b934c33f",
       "value": false
      }
     },
     "b176c4baf5ff481ab591670c58810c4e": {
      "model_module": "jupyter-js-widgets",
      "model_module_version": "~2.1.4",
      "model_name": "LayoutModel",
      "state": {
       "_model_module_version": "~2.1.4",
       "_view_module_version": "~2.1.4",
       "display": "",
       "max_width": "300px",
       "min_width": "100px",
       "visibility": "visible"
      }
     },
     "b183e2c1258d4711aec8d2dd53bff95c": {
      "model_module": "jupyter-js-widgets",
      "model_module_version": "~2.1.4",
      "model_name": "LayoutModel",
      "state": {
       "_model_module_version": "~2.1.4",
       "_view_module_version": "~2.1.4",
       "display": "",
       "min_width": "100px",
       "visibility": "visible"
      }
     },
     "b196ad894ea84286b4554f03852e153d": {
      "model_module": "jupyter-js-widgets",
      "model_module_version": "~2.1.4",
      "model_name": "LayoutModel",
      "state": {
       "_model_module_version": "~2.1.4",
       "_view_module_version": "~2.1.4",
       "display": "",
       "max_width": "300px",
       "min_width": "100px",
       "visibility": "visible"
      }
     },
     "b1a854b14d6a4e04bc9fe7337ea39cf1": {
      "model_module": "jupyter-js-widgets",
      "model_module_version": "~2.1.4",
      "model_name": "AccordionModel",
      "state": {
       "_model_module_version": "~2.1.4",
       "_titles": {
        "0": "General",
        "1": "Histogram",
        "2": "Scatter",
        "3": "KDE",
        "4": "Regression"
       },
       "_view_module_version": "~2.1.4",
       "children": [
        "IPY_MODEL_43299d47f5d745e18327adbded9eef48",
        "IPY_MODEL_10a53eced76644c8aed91b4ba0cad770",
        "IPY_MODEL_e30faed79dd74cab91e3385d38cdb11a",
        "IPY_MODEL_9f35c8dd535442b78a0d1b115a02197d",
        "IPY_MODEL_2bce76f4a7d648ea86f62d6f062fa5cc"
       ],
       "layout": "IPY_MODEL_f5158fe8199b4750857af63e4dc2904b"
      }
     },
     "b1b6536b730a463ba946148aa4c4d3b9": {
      "model_module": "jupyter-js-widgets",
      "model_module_version": "~2.1.4",
      "model_name": "SliderStyleModel",
      "state": {
       "_model_module_version": "~2.1.4",
       "_view_module_version": "~2.1.4"
      }
     },
     "b1be5ca517ea4e22bbb720bb3db3dd7b": {
      "model_module": "jupyter-js-widgets",
      "model_module_version": "~2.1.4",
      "model_name": "LayoutModel",
      "state": {
       "_model_module_version": "~2.1.4",
       "_view_module_version": "~2.1.4",
       "display": "",
       "min_width": "100px",
       "visibility": "visible"
      }
     },
     "b26f4e6b1a1749e2ad4f976cd3b4461b": {
      "model_module": "jupyter-js-widgets",
      "model_module_version": "~2.1.4",
      "model_name": "HBoxModel",
      "state": {
       "_model_module_version": "~2.1.4",
       "_view_module_version": "~2.1.4",
       "children": [
        "IPY_MODEL_21024aace2b04224808fb62bf9388719",
        "IPY_MODEL_e131e0e2dcc748b3bed41d1d854c2169"
       ],
       "layout": "IPY_MODEL_41509337c2a5472d895842ac31ffb94a"
      }
     },
     "b2bb790638794da694e7450d9743a3db": {
      "model_module": "jupyter-js-widgets",
      "model_module_version": "~2.1.4",
      "model_name": "LayoutModel",
      "state": {
       "_model_module_version": "~2.1.4",
       "_view_module_version": "~2.1.4",
       "display": "",
       "min_width": "100px",
       "visibility": "visible"
      }
     },
     "b35745a19435432eb98e186f118ab631": {
      "model_module": "jupyter-js-widgets",
      "model_module_version": "~2.1.4",
      "model_name": "LayoutModel",
      "state": {
       "_model_module_version": "~2.1.4",
       "_view_module_version": "~2.1.4",
       "display": "",
       "min_width": "100px",
       "visibility": "visible"
      }
     },
     "b3b76926603b4d288efacd09fe4be7b4": {
      "model_module": "jupyter-js-widgets",
      "model_module_version": "~2.1.4",
      "model_name": "SliderStyleModel",
      "state": {
       "_model_module_version": "~2.1.4",
       "_view_module_version": "~2.1.4"
      }
     },
     "b3c600651adf47d49200ad681630ccb2": {
      "model_module": "jupyter-js-widgets",
      "model_module_version": "~2.1.4",
      "model_name": "HBoxModel",
      "state": {
       "_model_module_version": "~2.1.4",
       "_view_module_version": "~2.1.4",
       "children": [
        "IPY_MODEL_fa5966dd25bc453fbb2889424340d1d8",
        "IPY_MODEL_25438f10cda546848bac7313162cb313"
       ],
       "layout": "IPY_MODEL_c3d064580dd8417e9eaf7f055d1dfad3"
      }
     },
     "b405663b143c48f791faac197a95b7c0": {
      "model_module": "jupyter-js-widgets",
      "model_module_version": "~2.1.4",
      "model_name": "HBoxModel",
      "state": {
       "_model_module_version": "~2.1.4",
       "_view_module_version": "~2.1.4",
       "children": [
        "IPY_MODEL_879903d07341409da856cb8d907f888b"
       ],
       "layout": "IPY_MODEL_0ca2e37259f24c30ac68cbbf2a24a86a"
      }
     },
     "b45f5e75d9dc4a8c94aac659ba01c42a": {
      "model_module": "jupyter-js-widgets",
      "model_module_version": "~2.1.4",
      "model_name": "SliderStyleModel",
      "state": {
       "_model_module_version": "~2.1.4",
       "_view_module_version": "~2.1.4"
      }
     },
     "b4e2a018490c4aed94b96e7fa6dcbcaf": {
      "model_module": "jupyter-js-widgets",
      "model_module_version": "~2.1.4",
      "model_name": "VBoxModel",
      "state": {
       "_model_module_version": "~2.1.4",
       "_view_module_version": "~2.1.4",
       "children": [
        "IPY_MODEL_5adbbe699a104e5d89177872b4c13de3"
       ],
       "layout": "IPY_MODEL_1c5f777e7b8244baabc01f2b51561b43"
      }
     },
     "b5d62c39f06840368574667280586fd8": {
      "model_module": "jupyter-js-widgets",
      "model_module_version": "~2.1.4",
      "model_name": "LayoutModel",
      "state": {
       "_model_module_version": "~2.1.4",
       "_view_module_version": "~2.1.4",
       "display": "",
       "min_width": "100px",
       "visibility": "visible"
      }
     },
     "b5f1588522c04effad70caefbfb55a57": {
      "model_module": "jupyter-js-widgets",
      "model_module_version": "~2.1.4",
      "model_name": "VBoxModel",
      "state": {
       "_model_module_version": "~2.1.4",
       "_view_module_version": "~2.1.4",
       "layout": "IPY_MODEL_011b10a3f9854a47869ea22fa4a94061"
      }
     },
     "b62b98c305dd463cba207a26f4bbdf45": {
      "model_module": "jupyter-js-widgets",
      "model_module_version": "~2.1.4",
      "model_name": "SliderStyleModel",
      "state": {
       "_model_module_version": "~2.1.4",
       "_view_module_version": "~2.1.4"
      }
     },
     "b681667180864ca08b5090390bb986fe": {
      "model_module": "jupyter-js-widgets",
      "model_module_version": "~2.1.4",
      "model_name": "LayoutModel",
      "state": {
       "_model_module_version": "~2.1.4",
       "_view_module_version": "~2.1.4",
       "display": "",
       "max_width": "300px",
       "min_width": "100px",
       "visibility": "visible"
      }
     },
     "b71a9a1a23b14c478e8855f05bcf424b": {
      "model_module": "jupyter-js-widgets",
      "model_module_version": "~2.1.4",
      "model_name": "SliderStyleModel",
      "state": {
       "_model_module_version": "~2.1.4",
       "_view_module_version": "~2.1.4"
      }
     },
     "b781c01335a046d1bf792337922b2356": {
      "model_module": "jupyter-js-widgets",
      "model_module_version": "~2.1.4",
      "model_name": "FloatSliderModel",
      "state": {
       "_model_module_version": "~2.1.4",
       "_view_module_version": "~2.1.4",
       "description": "Bw",
       "layout": "IPY_MODEL_15ec95f78052456faa23bc01591631ae",
       "max": 100.18,
       "min": -99.82,
       "step": 0.1,
       "value": 0.28
      }
     },
     "b7c17abbdef14f268d55c43866dbcaaf": {
      "model_module": "jupyter-js-widgets",
      "model_module_version": "~2.1.4",
      "model_name": "LayoutModel",
      "state": {
       "_model_module_version": "~2.1.4",
       "_view_module_version": "~2.1.4",
       "display": "",
       "max_width": "300px",
       "min_width": "100px",
       "visibility": "visible"
      }
     },
     "b86cc78537f24f4c86d72b3b2cd03659": {
      "model_module": "jupyter-js-widgets",
      "model_module_version": "~2.1.4",
      "model_name": "DropdownModel",
      "state": {
       "_model_module_version": "~2.1.4",
       "_options_labels": [
        "None",
        "Histogram",
        "KDE",
        "Both"
       ],
       "_view_module_version": "~2.1.4",
       "description": "Marginals",
       "layout": "IPY_MODEL_6e0ac737404340c38fb727f5fa197b23",
       "value": "Both"
      }
     },
     "b8e5b1e8f841491bb5226971c2e18bb1": {
      "model_module": "jupyter-js-widgets",
      "model_module_version": "~2.1.4",
      "model_name": "ToggleButtonModel",
      "state": {
       "_model_module_version": "~2.1.4",
       "_view_module_version": "~2.1.4",
       "description": "Plot KDE",
       "layout": "IPY_MODEL_2e7c722c37254d39849d6e4a2862e944",
       "value": true
      }
     },
     "baa64e7b77034537986c52861ba7e0cc": {
      "model_module": "jupyter-js-widgets",
      "model_module_version": "~2.1.4",
      "model_name": "HBoxModel",
      "state": {
       "_model_module_version": "~2.1.4",
       "_view_module_version": "~2.1.4",
       "children": [
        "IPY_MODEL_793605f709674e789ed2ee96b18695d6"
       ],
       "layout": "IPY_MODEL_4de9602a0c8a41f1bb48335ebe078600"
      }
     },
     "bb4670af2cb04885a13d8a7c48009ab3": {
      "model_module": "jupyter-js-widgets",
      "model_module_version": "~2.1.4",
      "model_name": "LayoutModel",
      "state": {
       "_model_module_version": "~2.1.4",
       "_view_module_version": "~2.1.4",
       "display": "",
       "max_width": "300px",
       "min_width": "100px",
       "visibility": "visible"
      }
     },
     "bcc910d8bc094a608e748fdcd4d26a1d": {
      "model_module": "jupyter-js-widgets",
      "model_module_version": "~2.1.4",
      "model_name": "HBoxModel",
      "state": {
       "_model_module_version": "~2.1.4",
       "_view_module_version": "~2.1.4",
       "children": [
        "IPY_MODEL_6250dff7bad441369d1f83c98ed876d8"
       ],
       "layout": "IPY_MODEL_0ad7e19139814d0c9a82f9846993111e"
      }
     },
     "bcd994d060024fdb8ee21b4fd6797880": {
      "model_module": "jupyter-js-widgets",
      "model_module_version": "~2.1.4",
      "model_name": "LayoutModel",
      "state": {
       "_model_module_version": "~2.1.4",
       "_view_module_version": "~2.1.4",
       "display": "",
       "max_width": "300px",
       "min_width": "100px",
       "visibility": "visible"
      }
     },
     "bd8dd5841f05470da3a0c98c274b1458": {
      "model_module": "jupyter-js-widgets",
      "model_module_version": "~2.1.4",
      "model_name": "IntSliderModel",
      "state": {
       "_model_module_version": "~2.1.4",
       "_view_module_version": "~2.1.4",
       "description": "Int slider",
       "layout": "IPY_MODEL_72a0c22d5bb643f683a1a23c44c07fab",
       "max": 104,
       "min": -96,
       "style": "IPY_MODEL_7f601a332f9a4d839cba967b99143f62",
       "value": 4
      }
     },
     "bdeb8555830b497d9d8aa4a86ec67f87": {
      "model_module": "jupyter-js-widgets",
      "model_module_version": "~2.1.4",
      "model_name": "LayoutModel",
      "state": {
       "_model_module_version": "~2.1.4",
       "_view_module_version": "~2.1.4",
       "display": "",
       "min_width": "100px",
       "visibility": "visible"
      }
     },
     "be32636ea73d4cc3bcc54b5ed8d506f8": {
      "model_module": "jupyter-js-widgets",
      "model_module_version": "~2.1.4",
      "model_name": "ToggleButtonModel",
      "state": {
       "_model_module_version": "~2.1.4",
       "_view_module_version": "~2.1.4",
       "description": "Plot Regression",
       "layout": "IPY_MODEL_5c23593c2c9f44a4b20e7dc528d959d1",
       "value": true
      }
     },
     "bf67d7dbc16744b79e7f1ff761dd311a": {
      "model_module": "jupyter-js-widgets",
      "model_module_version": "~2.1.4",
      "model_name": "CheckboxModel",
      "state": {
       "_model_module_version": "~2.1.4",
       "_view_module_version": "~2.1.4",
       "disabled": false,
       "layout": "IPY_MODEL_5ab03a9f50794b50816de4dea80596cc",
       "value": false
      }
     },
     "bfa0d6e1fe2d496fb290be8b8dd1fd64": {
      "model_module": "jupyter-js-widgets",
      "model_module_version": "~2.1.4",
      "model_name": "LayoutModel",
      "state": {
       "_model_module_version": "~2.1.4",
       "_view_module_version": "~2.1.4",
       "display": "",
       "min_width": "100px",
       "visibility": "visible"
      }
     },
     "bfa798f4402546649ba959bcc0b6129e": {
      "model_module": "jupyter-js-widgets",
      "model_module_version": "~2.1.4",
      "model_name": "LayoutModel",
      "state": {
       "_model_module_version": "~2.1.4",
       "_view_module_version": "~2.1.4",
       "display": "",
       "max_width": "300px",
       "min_width": "100px",
       "visibility": "visible"
      }
     },
     "bfbfef11edb544d8a9678ac841e94126": {
      "model_module": "jupyter-js-widgets",
      "model_module_version": "~2.1.4",
      "model_name": "HBoxModel",
      "state": {
       "_model_module_version": "~2.1.4",
       "_view_module_version": "~2.1.4",
       "children": [
        "IPY_MODEL_a4f7909f261647b5be1efbbd76c31e01",
        "IPY_MODEL_fc05eec6283f4fe5a333ecd962702291"
       ],
       "layout": "IPY_MODEL_ab652b3f019a42cf9b4b84bcbce994d5"
      }
     },
     "c006d5a4893d488b8b1ce188012f3f39": {
      "model_module": "jupyter-js-widgets",
      "model_module_version": "~2.1.4",
      "model_name": "SliderStyleModel",
      "state": {
       "_model_module_version": "~2.1.4",
       "_view_module_version": "~2.1.4"
      }
     },
     "c00f287b48de4a399df0f1aec41121ef": {
      "model_module": "jupyter-js-widgets",
      "model_module_version": "~2.1.4",
      "model_name": "VBoxModel",
      "state": {
       "_model_module_version": "~2.1.4",
       "_view_module_version": "~2.1.4",
       "children": [
        "IPY_MODEL_d47eee48f89a426f81f25c0ee15e3b0a",
        "IPY_MODEL_4683a5b4c3234cf4a328694528ec32a7"
       ],
       "layout": "IPY_MODEL_94fa3d90ee0847f397f9644e86d2f593"
      }
     },
     "c04ae8b3e33641fe992098bd64fdf0b1": {
      "model_module": "jupyter-js-widgets",
      "model_module_version": "~2.1.4",
      "model_name": "LayoutModel",
      "state": {
       "_model_module_version": "~2.1.4",
       "_view_module_version": "~2.1.4",
       "display": "",
       "max_width": "300px",
       "min_width": "100px",
       "visibility": "visible"
      }
     },
     "c11cbaf539e2481bac701c760760f858": {
      "model_module": "jupyter-js-widgets",
      "model_module_version": "~2.1.4",
      "model_name": "LayoutModel",
      "state": {
       "_model_module_version": "~2.1.4",
       "_view_module_version": "~2.1.4",
       "display": "",
       "max_width": "300px",
       "min_width": "100px",
       "visibility": "visible"
      }
     },
     "c2f9a73f2be4408bad2e8e4cc9af3cad": {
      "model_module": "jupyter-js-widgets",
      "model_module_version": "~2.1.4",
      "model_name": "LayoutModel",
      "state": {
       "_model_module_version": "~2.1.4",
       "_view_module_version": "~2.1.4",
       "display": "",
       "max_width": "300px",
       "min_width": "100px",
       "visibility": "visible"
      }
     },
     "c34deac34e864e4bb0e4b5a19ec9e76a": {
      "model_module": "jupyter-js-widgets",
      "model_module_version": "~2.1.4",
      "model_name": "HTMLModel",
      "state": {
       "_model_module_version": "~2.1.4",
       "_view_module_version": "~2.1.4",
       "layout": "IPY_MODEL_0bb05b26010e464daf7de0db1d5534ce",
       "value": "<h1>regression options</h1>"
      }
     },
     "c3d064580dd8417e9eaf7f055d1dfad3": {
      "model_module": "jupyter-js-widgets",
      "model_module_version": "~2.1.4",
      "model_name": "LayoutModel",
      "state": {
       "_model_module_version": "~2.1.4",
       "_view_module_version": "~2.1.4",
       "display": "",
       "min_width": "100px",
       "visibility": "visible"
      }
     },
     "c46b281da0e545769cb4058025bcfc39": {
      "model_module": "jupyter-js-widgets",
      "model_module_version": "~2.1.4",
      "model_name": "LayoutModel",
      "state": {
       "_model_module_version": "~2.1.4",
       "_view_module_version": "~2.1.4",
       "display": "",
       "min_width": "100px",
       "visibility": "visible"
      }
     },
     "c4942ca7b3d84f8cb1b663d936efd0ce": {
      "model_module": "jupyter-js-widgets",
      "model_module_version": "~2.1.4",
      "model_name": "VBoxModel",
      "state": {
       "_model_module_version": "~2.1.4",
       "_view_module_version": "~2.1.4",
       "children": [
        "IPY_MODEL_b781c01335a046d1bf792337922b2356",
        "IPY_MODEL_94e32610a3cd4a4ca99168f33ca1883b"
       ],
       "layout": "IPY_MODEL_c46b281da0e545769cb4058025bcfc39"
      }
     },
     "c4d8c0bafc554e19b1583b662f0dd177": {
      "model_module": "jupyter-js-widgets",
      "model_module_version": "~2.1.4",
      "model_name": "VBoxModel",
      "state": {
       "_model_module_version": "~2.1.4",
       "_view_module_version": "~2.1.4",
       "children": [
        "IPY_MODEL_dfe4d319bdc24e0c99d95ea9b4657a72",
        "IPY_MODEL_7078bd1d9fcc4edd97b8e847e8bd1d87"
       ],
       "layout": "IPY_MODEL_2c91c0dce2ab48ac972cfc0945833bda"
      }
     },
     "c6f160e2b0ad49459b97f3238dbc05dd": {
      "model_module": "jupyter-js-widgets",
      "model_module_version": "~2.1.4",
      "model_name": "DropdownModel",
      "state": {
       "_model_module_version": "~2.1.4",
       "_options_labels": [
        "Both",
        "None",
        "Histogram",
        "KDE"
       ],
       "_view_module_version": "~2.1.4",
       "layout": "IPY_MODEL_86333a8e94584f4cb8dc4176da14de92",
       "value": "Both"
      }
     },
     "c708c72b361c433796c728da64ebf427": {
      "model_module": "jupyter-js-widgets",
      "model_module_version": "~2.1.4",
      "model_name": "LayoutModel",
      "state": {
       "_model_module_version": "~2.1.4",
       "_view_module_version": "~2.1.4",
       "display": "",
       "max_width": "300px",
       "min_width": "100px",
       "visibility": "visible"
      }
     },
     "c74a576853ef4edb8993878162ce01d6": {
      "model_module": "jupyter-js-widgets",
      "model_module_version": "~2.1.4",
      "model_name": "IntSliderModel",
      "state": {
       "_model_module_version": "~2.1.4",
       "_view_module_version": "~2.1.4",
       "description": "Confidence intervals",
       "layout": "IPY_MODEL_62b15811302748f38a947dad25dc2d49",
       "min": 1,
       "style": "IPY_MODEL_03740cee47a7411eb1abb974a21504dc",
       "value": 95
      }
     },
     "c907a6f54066404fb1907d7e5cbe6d57": {
      "model_module": "jupyter-js-widgets",
      "model_module_version": "~2.1.4",
      "model_name": "LayoutModel",
      "state": {
       "_model_module_version": "~2.1.4",
       "_view_module_version": "~2.1.4",
       "display": "",
       "min_width": "100px",
       "visibility": "visible"
      }
     },
     "c94f9654b5f744bb91076c2a83611e49": {
      "model_module": "jupyter-js-widgets",
      "model_module_version": "~2.1.4",
      "model_name": "SliderStyleModel",
      "state": {
       "_model_module_version": "~2.1.4",
       "_view_module_version": "~2.1.4"
      }
     },
     "c9d391852e574756ad9b52af268eeffd": {
      "model_module": "jupyter-js-widgets",
      "model_module_version": "~2.1.4",
      "model_name": "VBoxModel",
      "state": {
       "_model_module_version": "~2.1.4",
       "_view_module_version": "~2.1.4",
       "children": [
        "IPY_MODEL_98ae5c673afc46548d42a44c2f9aaa79",
        "IPY_MODEL_4472a8cd61044c499f66bc954f766f06",
        "IPY_MODEL_1bab8a9349774f2daae19327cb843c7f",
        "IPY_MODEL_49d8f8ef0b714369af562a6f307c0172"
       ],
       "layout": "IPY_MODEL_898becd135784fbd9b5d4096a34aee9d"
      }
     },
     "ca4b8d2444214a5fae4852c6e38d6b70": {
      "model_module": "jupyter-js-widgets",
      "model_module_version": "~2.1.4",
      "model_name": "LayoutModel",
      "state": {
       "_model_module_version": "~2.1.4",
       "_view_module_version": "~2.1.4"
      }
     },
     "ce07f466fc6d4859a9535f95043535e0": {
      "model_module": "jupyter-js-widgets",
      "model_module_version": "~2.1.4",
      "model_name": "LayoutModel",
      "state": {
       "_model_module_version": "~2.1.4",
       "_view_module_version": "~2.1.4",
       "display": "",
       "max_width": "300px",
       "min_width": "100px",
       "visibility": "visible"
      }
     },
     "cea5af095a0c43689abe17e7e7088c13": {
      "model_module": "jupyter-js-widgets",
      "model_module_version": "~2.1.4",
      "model_name": "SliderStyleModel",
      "state": {
       "_model_module_version": "~2.1.4",
       "_view_module_version": "~2.1.4"
      }
     },
     "cf6d949ad150442195f4f65eb7a67218": {
      "model_module": "jupyter-js-widgets",
      "model_module_version": "~2.1.4",
      "model_name": "LayoutModel",
      "state": {
       "_model_module_version": "~2.1.4",
       "_view_module_version": "~2.1.4",
       "display": "",
       "max_width": "300px",
       "min_width": "100px",
       "visibility": "visible"
      }
     },
     "d10115f7208045548db0d1a37d27714d": {
      "model_module": "jupyter-js-widgets",
      "model_module_version": "~2.1.4",
      "model_name": "LayoutModel",
      "state": {
       "_model_module_version": "~2.1.4",
       "_view_module_version": "~2.1.4",
       "display": "",
       "max_width": "300px",
       "min_width": "100px",
       "visibility": "visible"
      }
     },
     "d10db9fe9e914c71b81de31ac26b7fb1": {
      "model_module": "jupyter-js-widgets",
      "model_module_version": "~2.1.4",
      "model_name": "LayoutModel",
      "state": {
       "_model_module_version": "~2.1.4",
       "_view_module_version": "~2.1.4",
       "display": "",
       "max_width": "300px",
       "min_width": "100px",
       "visibility": "visible"
      }
     },
     "d1d36eb9d6f64471b3b23638f39b9a89": {
      "model_module": "jupyter-js-widgets",
      "model_module_version": "~2.1.4",
      "model_name": "LayoutModel",
      "state": {
       "_model_module_version": "~2.1.4",
       "_view_module_version": "~2.1.4",
       "display": "",
       "max_width": "300px",
       "min_width": "100px",
       "visibility": "visible"
      }
     },
     "d3105b341bfc4c9ab1bb90103362287c": {
      "model_module": "jupyter-js-widgets",
      "model_module_version": "~2.1.4",
      "model_name": "SliderStyleModel",
      "state": {
       "_model_module_version": "~2.1.4",
       "_view_module_version": "~2.1.4"
      }
     },
     "d47eee48f89a426f81f25c0ee15e3b0a": {
      "model_module": "jupyter-js-widgets",
      "model_module_version": "~2.1.4",
      "model_name": "TextModel",
      "state": {
       "_model_module_version": "~2.1.4",
       "_view_module_version": "~2.1.4",
       "description": "Distribution",
       "layout": "IPY_MODEL_f96509d7af914010af4218481ba96102",
       "value": "normal"
      }
     },
     "d4fc9abc75444da5895efcf975fa9660": {
      "model_module": "jupyter-js-widgets",
      "model_module_version": "~2.1.4",
      "model_name": "LayoutModel",
      "state": {
       "_model_module_version": "~2.1.4",
       "_view_module_version": "~2.1.4",
       "display": "",
       "min_width": "100px",
       "visibility": "visible"
      }
     },
     "d535479c45db4c13ab5ba5500eec9ace": {
      "model_module": "jupyter-js-widgets",
      "model_module_version": "~2.1.4",
      "model_name": "HBoxModel",
      "state": {
       "_model_module_version": "~2.1.4",
       "_view_module_version": "~2.1.4",
       "children": [
        "IPY_MODEL_c00f287b48de4a399df0f1aec41121ef",
        "IPY_MODEL_70f1393857524f26b7a50bbda6b00249",
        "IPY_MODEL_c4942ca7b3d84f8cb1b663d936efd0ce",
        "IPY_MODEL_0c5356224def40e7a99a5a00851e7078",
        "IPY_MODEL_b5f1588522c04effad70caefbfb55a57"
       ],
       "layout": "IPY_MODEL_b35745a19435432eb98e186f118ab631"
      }
     },
     "d5c98cf5f8d748bf8302427acf6eea91": {
      "model_module": "jupyter-js-widgets",
      "model_module_version": "~2.1.4",
      "model_name": "LayoutModel",
      "state": {
       "_model_module_version": "~2.1.4",
       "_view_module_version": "~2.1.4",
       "display": "",
       "max_width": "300px",
       "min_width": "100px",
       "visibility": "visible"
      }
     },
     "d6136de71b1141d9af4f46593356c29f": {
      "model_module": "jupyter-js-widgets",
      "model_module_version": "~2.1.4",
      "model_name": "LayoutModel",
      "state": {
       "_model_module_version": "~2.1.4",
       "_view_module_version": "~2.1.4",
       "display": "",
       "min_width": "100px",
       "visibility": "visible"
      }
     },
     "d72775acce9344a9b5a4e901b78e11c8": {
      "model_module": "jupyter-js-widgets",
      "model_module_version": "~2.1.4",
      "model_name": "SliderStyleModel",
      "state": {
       "_model_module_version": "~2.1.4",
       "_view_module_version": "~2.1.4"
      }
     },
     "d7ca4ae1446944748c750768a92277fe": {
      "model_module": "jupyter-js-widgets",
      "model_module_version": "~2.1.4",
      "model_name": "VBoxModel",
      "state": {
       "_model_module_version": "~2.1.4",
       "_view_module_version": "~2.1.4",
       "children": [
        "IPY_MODEL_df2dabd4a37a44c4825753d055cd3d73",
        "IPY_MODEL_ad3896fc20df45d9839d86919d06ce62",
        "IPY_MODEL_baa64e7b77034537986c52861ba7e0cc",
        "IPY_MODEL_246c5777b7084190a5ba60475e4640bd",
        "IPY_MODEL_ee0ff4cd25f747a4a52be6f7b7fbcc95",
        "IPY_MODEL_b405663b143c48f791faac197a95b7c0",
        "IPY_MODEL_7576dd5323a74aeb99ed0aa21fa5b971",
        "IPY_MODEL_f1e7f7b23f3d45b1922785d5cbf79800",
        "IPY_MODEL_f75bea046f804dc88051f17dfcaca6c2"
       ],
       "layout": "IPY_MODEL_a2d843dbda0f42afad2ec98065ae91c4"
      }
     },
     "d8688f3fbb8744ada2c0c4aca5dcd935": {
      "model_module": "jupyter-js-widgets",
      "model_module_version": "~2.1.4",
      "model_name": "LayoutModel",
      "state": {
       "_model_module_version": "~2.1.4",
       "_view_module_version": "~2.1.4",
       "display": "",
       "max_width": "300px",
       "min_width": "100px",
       "visibility": "visible"
      }
     },
     "d907065fff9449d2a7becbd614ddb426": {
      "model_module": "jupyter-js-widgets",
      "model_module_version": "~2.1.4",
      "model_name": "SliderStyleModel",
      "state": {
       "_model_module_version": "~2.1.4",
       "_view_module_version": "~2.1.4"
      }
     },
     "d9691969bbb6402aa44f550deba95b12": {
      "model_module": "jupyter-js-widgets",
      "model_module_version": "~2.1.4",
      "model_name": "HTMLModel",
      "state": {
       "_model_module_version": "~2.1.4",
       "_view_module_version": "~2.1.4",
       "layout": "IPY_MODEL_dcbe42613d504ed8841563e7a9b00e78",
       "value": "<h1>regression options</h1>"
      }
     },
     "da15eea97129445392c3a29f90f718ee": {
      "model_module": "jupyter-js-widgets",
      "model_module_version": "~2.1.4",
      "model_name": "DropdownModel",
      "state": {
       "_model_module_version": "~2.1.4",
       "_options_labels": [
        "Hello",
        "World"
       ],
       "_view_module_version": "~2.1.4",
       "description": "Dropdpwn",
       "layout": "IPY_MODEL_89b010b99d2e437c89848fa3d66334b7",
       "value": "Hello"
      }
     },
     "da94db44bde2446abd70c88e71c28135": {
      "model_module": "jupyter-js-widgets",
      "model_module_version": "~2.1.4",
      "model_name": "LayoutModel",
      "state": {
       "_model_module_version": "~2.1.4",
       "_view_module_version": "~2.1.4",
       "display": "",
       "max_width": "300px",
       "min_width": "100px",
       "visibility": "visible"
      }
     },
     "db16888233404aa4ac3ed7b99c2f92cc": {
      "model_module": "jupyter-js-widgets",
      "model_module_version": "~2.1.4",
      "model_name": "IntSliderModel",
      "state": {
       "_model_module_version": "~2.1.4",
       "_view_module_version": "~2.1.4",
       "description": "Int slider",
       "layout": "IPY_MODEL_0fee03f168b5461e896eeb3d23ffc50d",
       "max": 104,
       "min": -96,
       "style": "IPY_MODEL_10de499da3ce4c999d0fc478d16e04f2",
       "value": 4
      }
     },
     "db3bebee716745a68104e56ff37dceff": {
      "model_module": "jupyter-js-widgets",
      "model_module_version": "~2.1.4",
      "model_name": "LayoutModel",
      "state": {
       "_model_module_version": "~2.1.4",
       "_view_module_version": "~2.1.4",
       "display": "",
       "min_width": "100px",
       "visibility": "visible"
      }
     },
     "dba0c4e1a18846f88d4f9caafd4a95ab": {
      "model_module": "jupyter-js-widgets",
      "model_module_version": "~2.1.4",
      "model_name": "CheckboxModel",
      "state": {
       "_model_module_version": "~2.1.4",
       "_view_module_version": "~2.1.4",
       "description": "Link bins",
       "disabled": false,
       "layout": "IPY_MODEL_b176c4baf5ff481ab591670c58810c4e",
       "value": true
      }
     },
     "dbcbfa53a770438c8828b52b38b28fad": {
      "model_module": "jupyter-js-widgets",
      "model_module_version": "~2.1.4",
      "model_name": "CheckboxModel",
      "state": {
       "_model_module_version": "~2.1.4",
       "_view_module_version": "~2.1.4",
       "description": "link_bins",
       "disabled": false,
       "layout": "IPY_MODEL_230bb895200948efa44eb02b84e40c42",
       "value": true
      }
     },
     "dc674fb343c74950922dd1fab41aaa3e": {
      "model_module": "jupyter-js-widgets",
      "model_module_version": "~2.1.4",
      "model_name": "LayoutModel",
      "state": {
       "_model_module_version": "~2.1.4",
       "_view_module_version": "~2.1.4",
       "display": "",
       "max_width": "300px",
       "min_width": "100px",
       "visibility": "visible"
      }
     },
     "dc994f0df47546209b718813b934c33f": {
      "model_module": "jupyter-js-widgets",
      "model_module_version": "~2.1.4",
      "model_name": "LayoutModel",
      "state": {
       "_model_module_version": "~2.1.4",
       "_view_module_version": "~2.1.4",
       "display": "",
       "max_width": "300px",
       "min_width": "100px",
       "visibility": "visible"
      }
     },
     "dcbe42613d504ed8841563e7a9b00e78": {
      "model_module": "jupyter-js-widgets",
      "model_module_version": "~2.1.4",
      "model_name": "LayoutModel",
      "state": {
       "_model_module_version": "~2.1.4",
       "_view_module_version": "~2.1.4",
       "display": "",
       "min_width": "100px",
       "visibility": "visible"
      }
     },
     "de1561417a8a48e782dfd86ff02f1144": {
      "model_module": "jupyter-js-widgets",
      "model_module_version": "~2.1.4",
      "model_name": "FloatSliderModel",
      "state": {
       "_model_module_version": "~2.1.4",
       "_view_module_version": "~2.1.4",
       "description": "Float slider",
       "layout": "IPY_MODEL_c04ae8b3e33641fe992098bd64fdf0b1",
       "max": 10
      }
     },
     "de7fdc866f2a4c40add292f8ff14a059": {
      "model_module": "jupyter-js-widgets",
      "model_module_version": "~2.1.4",
      "model_name": "VBoxModel",
      "state": {
       "_model_module_version": "~2.1.4",
       "_view_module_version": "~2.1.4",
       "children": [
        "IPY_MODEL_bfbfef11edb544d8a9678ac841e94126",
        "IPY_MODEL_8d8a52c5506a4603b43cfa97be75f907",
        "IPY_MODEL_06bac6d6455f4b3f8be931c11d79fc9e",
        "IPY_MODEL_b3c600651adf47d49200ad681630ccb2",
        "IPY_MODEL_3a444c55e03b46b68798cf93ad466aba"
       ],
       "layout": "IPY_MODEL_731a1010513d45ada3b3279dfebb1a18"
      }
     },
     "dea6b928096f4a7aac0697835a53e8c0": {
      "model_module": "jupyter-js-widgets",
      "model_module_version": "~2.1.4",
      "model_name": "LayoutModel",
      "state": {
       "_model_module_version": "~2.1.4",
       "_view_module_version": "~2.1.4",
       "display": "",
       "max_width": "300px",
       "min_width": "100px",
       "visibility": "visible"
      }
     },
     "dea86dee841a491893c085a9da54c6f9": {
      "model_module": "jupyter-js-widgets",
      "model_module_version": "~2.1.4",
      "model_name": "LayoutModel",
      "state": {
       "_model_module_version": "~2.1.4",
       "_view_module_version": "~2.1.4",
       "display": "",
       "max_width": "300px",
       "min_width": "100px",
       "visibility": "visible"
      }
     },
     "deb46c19d6d243a196127db2c4321765": {
      "model_module": "jupyter-js-widgets",
      "model_module_version": "~2.1.4",
      "model_name": "DropdownModel",
      "state": {
       "_model_module_version": "~2.1.4",
       "_options_labels": [
        "Hello",
        "World"
       ],
       "_view_module_version": "~2.1.4",
       "description": "Dropdown",
       "layout": "IPY_MODEL_f4bd6f8fef2047a99c5e08da72faa3b5",
       "value": "Hello"
      }
     },
     "df2dabd4a37a44c4825753d055cd3d73": {
      "model_module": "jupyter-js-widgets",
      "model_module_version": "~2.1.4",
      "model_name": "HBoxModel",
      "state": {
       "_model_module_version": "~2.1.4",
       "_view_module_version": "~2.1.4",
       "children": [
        "IPY_MODEL_29cac6c8cbef4bc4a9bfc8d1bb507a66"
       ],
       "layout": "IPY_MODEL_5487c4faac654f33ace16c501c445f5c"
      }
     },
     "df851eb5bc5d4550989ee66dcb13ce74": {
      "model_module": "jupyter-js-widgets",
      "model_module_version": "~2.1.4",
      "model_name": "LayoutModel",
      "state": {
       "_model_module_version": "~2.1.4",
       "_view_module_version": "~2.1.4",
       "display": "",
       "min_width": "100px",
       "visibility": "visible"
      }
     },
     "dfe4d319bdc24e0c99d95ea9b4657a72": {
      "model_module": "jupyter-js-widgets",
      "model_module_version": "~2.1.4",
      "model_name": "IntSliderModel",
      "state": {
       "_model_module_version": "~2.1.4",
       "_view_module_version": "~2.1.4",
       "description": "Int slider",
       "layout": "IPY_MODEL_966c16d9b3164ee1a2433f1c64b6eaa2",
       "max": 104,
       "min": -96,
       "style": "IPY_MODEL_b3b76926603b4d288efacd09fe4be7b4",
       "value": 4
      }
     },
     "dff831ec0abd433ea0f338a168a51440": {
      "model_module": "jupyter-js-widgets",
      "model_module_version": "~2.1.4",
      "model_name": "LayoutModel",
      "state": {
       "_model_module_version": "~2.1.4",
       "_view_module_version": "~2.1.4",
       "display": "",
       "min_width": "100px",
       "visibility": "visible"
      }
     },
     "e014f9868eb54710bfc0229a29624ba9": {
      "model_module": "jupyter-js-widgets",
      "model_module_version": "~2.1.4",
      "model_name": "TextModel",
      "state": {
       "_model_module_version": "~2.1.4",
       "_view_module_version": "~2.1.4",
       "description": "Text",
       "layout": "IPY_MODEL_1ce7d3ea4f34452097c69b2efc36de18",
       "value": "moco"
      }
     },
     "e037bb4b943f445198b732df2a79f4ef": {
      "model_module": "jupyter-js-widgets",
      "model_module_version": "~2.1.4",
      "model_name": "LayoutModel",
      "state": {
       "_model_module_version": "~2.1.4",
       "_view_module_version": "~2.1.4",
       "display": "",
       "max_width": "300px",
       "min_width": "100px",
       "visibility": "visible"
      }
     },
     "e0fadabbe7114eeba2d216c0e3f92998": {
      "model_module": "jupyter-js-widgets",
      "model_module_version": "~2.1.4",
      "model_name": "LayoutModel",
      "state": {
       "_model_module_version": "~2.1.4",
       "_view_module_version": "~2.1.4",
       "display": "",
       "max_width": "300px",
       "min_width": "100px",
       "visibility": "visible"
      }
     },
     "e131e0e2dcc748b3bed41d1d854c2169": {
      "model_module": "jupyter-js-widgets",
      "model_module_version": "~2.1.4",
      "model_name": "VBoxModel",
      "state": {
       "_model_module_version": "~2.1.4",
       "_view_module_version": "~2.1.4",
       "children": [
        "IPY_MODEL_fe76f3bbe1844cfc971bf6f21af9c7ad"
       ],
       "layout": "IPY_MODEL_b183e2c1258d4711aec8d2dd53bff95c"
      }
     },
     "e14a7b0a1b4543fd8fd5f2ce320b4671": {
      "model_module": "jupyter-js-widgets",
      "model_module_version": "~2.1.4",
      "model_name": "HBoxModel",
      "state": {
       "_model_module_version": "~2.1.4",
       "_view_module_version": "~2.1.4",
       "children": [
        "IPY_MODEL_f2f890d22b4547dd837ee82dd9308b80",
        "IPY_MODEL_ff2bc7400ec9468ba247f3eec8a0f654"
       ],
       "layout": "IPY_MODEL_64a9a2f65e2348f89f49e4e83a273e44"
      }
     },
     "e14bff3358124240aee3004d896610c2": {
      "model_module": "jupyter-js-widgets",
      "model_module_version": "~2.1.4",
      "model_name": "ToggleButtonModel",
      "state": {
       "_model_module_version": "~2.1.4",
       "_view_module_version": "~2.1.4",
       "layout": "IPY_MODEL_501a9a84bc48460199c56457658e588e",
       "value": true
      }
     },
     "e1980a89636d45468cf002108b0c2011": {
      "model_module": "jupyter-js-widgets",
      "model_module_version": "~2.1.4",
      "model_name": "ToggleButtonModel",
      "state": {
       "_model_module_version": "~2.1.4",
       "_view_module_version": "~2.1.4",
       "description": "Save plot",
       "layout": "IPY_MODEL_ac1718ccd7e444679b1fb943e6545733"
      }
     },
     "e26c633fd6db4b4a83adba5e573f239c": {
      "model_module": "jupyter-js-widgets",
      "model_module_version": "~2.1.4",
      "model_name": "VBoxModel",
      "state": {
       "_model_module_version": "~2.1.4",
       "_view_module_version": "~2.1.4",
       "layout": "IPY_MODEL_08ffc4fe181f44899c1939d3722ddb4c"
      }
     },
     "e30faed79dd74cab91e3385d38cdb11a": {
      "model_module": "jupyter-js-widgets",
      "model_module_version": "~2.1.4",
      "model_name": "VBoxModel",
      "state": {
       "_model_module_version": "~2.1.4",
       "_view_module_version": "~2.1.4",
       "children": [
        "IPY_MODEL_585a7aced0e34b6b8d929173689a3541",
        "IPY_MODEL_1feaaa608b14424ebfd6fa3eb93d1691",
        "IPY_MODEL_399cc5f4e36249779d31f6b151b18fd8"
       ],
       "layout": "IPY_MODEL_eb055493b6a84269aee7ada8eeb90bbf"
      }
     },
     "e3343ab716fe48c69c617cfa0126a68b": {
      "model_module": "jupyter-js-widgets",
      "model_module_version": "~2.1.4",
      "model_name": "TextModel",
      "state": {
       "_model_module_version": "~2.1.4",
       "_view_module_version": "~2.1.4",
       "description": "Text",
       "layout": "IPY_MODEL_a1294c372f0f467e9affc466a650c79e",
       "value": "moco"
      }
     },
     "e35e371ab1d240ec92bf6cb7009f9562": {
      "model_module": "jupyter-js-widgets",
      "model_module_version": "~2.1.4",
      "model_name": "LayoutModel",
      "state": {
       "_model_module_version": "~2.1.4",
       "_view_module_version": "~2.1.4"
      }
     },
     "e3aaf42feac644878be35e8d273a0517": {
      "model_module": "jupyter-js-widgets",
      "model_module_version": "~2.1.4",
      "model_name": "LayoutModel",
      "state": {
       "_model_module_version": "~2.1.4",
       "_view_module_version": "~2.1.4",
       "display": "",
       "max_width": "300px",
       "min_width": "100px",
       "visibility": "visible"
      }
     },
     "e3ec2f02f0b74b67906e3da0aeb60c80": {
      "model_module": "jupyter-js-widgets",
      "model_module_version": "~2.1.4",
      "model_name": "CheckboxModel",
      "state": {
       "_model_module_version": "~2.1.4",
       "_view_module_version": "~2.1.4",
       "description": "Save",
       "disabled": false,
       "layout": "IPY_MODEL_bfa798f4402546649ba959bcc0b6129e",
       "value": false
      }
     },
     "e42b69cf333849f0916f6e8535f3bdb9": {
      "model_module": "jupyter-js-widgets",
      "model_module_version": "~2.1.4",
      "model_name": "LayoutModel",
      "state": {
       "_model_module_version": "~2.1.4",
       "_view_module_version": "~2.1.4",
       "display": "",
       "max_width": "300px",
       "min_width": "100px",
       "visibility": "visible"
      }
     },
     "e460e42da7f44cfd84756becb1c99fb6": {
      "model_module": "jupyter-js-widgets",
      "model_module_version": "~2.1.4",
      "model_name": "ToggleButtonModel",
      "state": {
       "_model_module_version": "~2.1.4",
       "_view_module_version": "~2.1.4",
       "description": "Plot Regression",
       "layout": "IPY_MODEL_fb1f09097cbd488bb5692388ad601e73",
       "value": true
      }
     },
     "e4f1ba47ae264a3dbd9bed9d64123638": {
      "model_module": "jupyter-js-widgets",
      "model_module_version": "~2.1.4",
      "model_name": "LayoutModel",
      "state": {
       "_model_module_version": "~2.1.4",
       "_view_module_version": "~2.1.4",
       "display": "",
       "min_width": "100px",
       "visibility": "visible"
      }
     },
     "e59b883a4dd04bd1a8a206f479281e10": {
      "model_module": "jupyter-js-widgets",
      "model_module_version": "~2.1.4",
      "model_name": "CheckboxModel",
      "state": {
       "_model_module_version": "~2.1.4",
       "_view_module_version": "~2.1.4",
       "description": "Robust",
       "disabled": false,
       "layout": "IPY_MODEL_e42b69cf333849f0916f6e8535f3bdb9",
       "value": false
      }
     },
     "e59f54df20814a15bf29edeee058fafe": {
      "model_module": "jupyter-js-widgets",
      "model_module_version": "~2.1.4",
      "model_name": "IntSliderModel",
      "state": {
       "_model_module_version": "~2.1.4",
       "_view_module_version": "~2.1.4",
       "layout": "IPY_MODEL_899701ccd5f7464ba1e08f9f230ede57",
       "max": 40,
       "min": 1,
       "step": 2,
       "style": "IPY_MODEL_0e1be8255bee42f8a798fffcc89efdd8",
       "value": 10
      }
     },
     "e89546131c45408ba190f2cae157aaf3": {
      "model_module": "jupyter-js-widgets",
      "model_module_version": "~2.1.4",
      "model_name": "LayoutModel",
      "state": {
       "_model_module_version": "~2.1.4",
       "_view_module_version": "~2.1.4",
       "display": "",
       "min_width": "100px",
       "visibility": "visible"
      }
     },
     "e8ad4a8611314d689ae3496993332990": {
      "model_module": "jupyter-js-widgets",
      "model_module_version": "~2.1.4",
      "model_name": "CheckboxModel",
      "state": {
       "_model_module_version": "~2.1.4",
       "_view_module_version": "~2.1.4",
       "description": "Grid",
       "disabled": false,
       "layout": "IPY_MODEL_a45b9ab1609c477e8adc21c1ff7b06ab",
       "value": true
      }
     },
     "e955e41fd6a74276802b7c659a285346": {
      "model_module": "jupyter-js-widgets",
      "model_module_version": "~2.1.4",
      "model_name": "LayoutModel",
      "state": {
       "_model_module_version": "~2.1.4",
       "_view_module_version": "~2.1.4",
       "display": "",
       "max_width": "300px",
       "min_width": "100px",
       "visibility": "visible"
      }
     },
     "e9b26b716e5a46aaa01bd65acdec6584": {
      "model_module": "jupyter-js-widgets",
      "model_module_version": "~2.1.4",
      "model_name": "SliderStyleModel",
      "state": {
       "_model_module_version": "~2.1.4",
       "_view_module_version": "~2.1.4"
      }
     },
     "e9fa0063ca824064ad146be1f0b574e5": {
      "model_module": "jupyter-js-widgets",
      "model_module_version": "~2.1.4",
      "model_name": "CheckboxModel",
      "state": {
       "_model_module_version": "~2.1.4",
       "_view_module_version": "~2.1.4",
       "description": "Hist",
       "disabled": false,
       "layout": "IPY_MODEL_f42bed46d6004b5ea60b6264c625b2d6",
       "value": true
      }
     },
     "eab61f19b0a5489b9d1db972127082d3": {
      "model_module": "jupyter-js-widgets",
      "model_module_version": "~2.1.4",
      "model_name": "SliderStyleModel",
      "state": {
       "_model_module_version": "~2.1.4",
       "_view_module_version": "~2.1.4"
      }
     },
     "eaf95aa2a605429e86b56c6db58dcf09": {
      "model_module": "jupyter-js-widgets",
      "model_module_version": "~2.1.4",
      "model_name": "FloatSliderModel",
      "state": {
       "_model_module_version": "~2.1.4",
       "_view_module_version": "~2.1.4",
       "description": "Float slider",
       "layout": "IPY_MODEL_264e3ef8a15045bc8b611740cb977dd5",
       "max": 10,
       "min": 2,
       "value": 2
      }
     },
     "eb055493b6a84269aee7ada8eeb90bbf": {
      "model_module": "jupyter-js-widgets",
      "model_module_version": "~2.1.4",
      "model_name": "LayoutModel",
      "state": {
       "_model_module_version": "~2.1.4",
       "_view_module_version": "~2.1.4",
       "display": "",
       "min_width": "100px",
       "visibility": "visible"
      }
     },
     "ec243547b8964df899b0ddb56062bd98": {
      "model_module": "jupyter-js-widgets",
      "model_module_version": "~2.1.4",
      "model_name": "LayoutModel",
      "state": {
       "_model_module_version": "~2.1.4",
       "_view_module_version": "~2.1.4",
       "display": "",
       "max_width": "300px",
       "min_width": "100px",
       "visibility": "visible"
      }
     },
     "ec920c63cd834dd6ae0e8b26ddbd9215": {
      "model_module": "jupyter-js-widgets",
      "model_module_version": "~2.1.4",
      "model_name": "LayoutModel",
      "state": {
       "_model_module_version": "~2.1.4",
       "_view_module_version": "~2.1.4",
       "display": "",
       "min_width": "100px",
       "visibility": "visible"
      }
     },
     "ecb4047de29f429d9e3837cb060e68d3": {
      "model_module": "jupyter-js-widgets",
      "model_module_version": "~2.1.4",
      "model_name": "LayoutModel",
      "state": {
       "_model_module_version": "~2.1.4",
       "_view_module_version": "~2.1.4",
       "display": "",
       "max_width": "300px",
       "min_width": "100px",
       "visibility": "visible"
      }
     },
     "ed6ec5baf7154af39e091335d98ba342": {
      "model_module": "jupyter-js-widgets",
      "model_module_version": "~2.1.4",
      "model_name": "HTMLModel",
      "state": {
       "_model_module_version": "~2.1.4",
       "_view_module_version": "~2.1.4",
       "layout": "IPY_MODEL_0f97850260074b638c19064d61adac02",
       "value": "<h1>kde plot options</h1>"
      }
     },
     "ee0ff4cd25f747a4a52be6f7b7fbcc95": {
      "model_module": "jupyter-js-widgets",
      "model_module_version": "~2.1.4",
      "model_name": "HBoxModel",
      "state": {
       "_model_module_version": "~2.1.4",
       "_view_module_version": "~2.1.4",
       "children": [
        "IPY_MODEL_ff1b46d694db4f1b9559ab85bb7393ff"
       ],
       "layout": "IPY_MODEL_0387b13f8d74469e95acdec8066383a2"
      }
     },
     "ee26d414171c498b8df2217849973109": {
      "model_module": "jupyter-js-widgets",
      "model_module_version": "~2.1.4",
      "model_name": "SliderStyleModel",
      "state": {
       "_model_module_version": "~2.1.4",
       "_view_module_version": "~2.1.4"
      }
     },
     "ee51402c53e34ddaabf9ab5b2167c6b3": {
      "model_module": "jupyter-js-widgets",
      "model_module_version": "~2.1.4",
      "model_name": "HBoxModel",
      "state": {
       "_model_module_version": "~2.1.4",
       "_view_module_version": "~2.1.4",
       "layout": "IPY_MODEL_55aefc487bc649c1b715b0a5f1d3baa9"
      }
     },
     "ef40ae05937a4183a9214c87226eb1b1": {
      "model_module": "jupyter-js-widgets",
      "model_module_version": "~2.1.4",
      "model_name": "LayoutModel",
      "state": {
       "_model_module_version": "~2.1.4",
       "_view_module_version": "~2.1.4",
       "display": "",
       "max_width": "300px",
       "min_width": "100px",
       "visibility": "visible"
      }
     },
     "ef68fd4d4f4941ed8a48c185c91c6d12": {
      "model_module": "jupyter-js-widgets",
      "model_module_version": "~2.1.4",
      "model_name": "VBoxModel",
      "state": {
       "_dom_classes": [
        "widget-interact"
       ],
       "_model_module_version": "~2.1.4",
       "_view_module_version": "~2.1.4",
       "children": [
        "IPY_MODEL_089a9ca5b9674907a4e9902818cddbc5",
        "IPY_MODEL_79874ea80a884d68b3cb69a9835fb633",
        "IPY_MODEL_7f763efd1cc849a2a36f719f994804e5",
        "IPY_MODEL_1e778ba465644a4da4ca5f8b7abad9cd",
        "IPY_MODEL_a64e382d2ecb46a2a73bfe62e6b9dff8",
        "IPY_MODEL_1af1c1f37cc6437abda5569177571d98",
        "IPY_MODEL_215a1040db1647f49702101d94e12d21",
        "IPY_MODEL_25cc4108e11b47149312ec263d6af38f",
        "IPY_MODEL_7ee81927bfc94e4e9c6f90903d4284ae"
       ],
       "layout": "IPY_MODEL_e35e371ab1d240ec92bf6cb7009f9562"
      }
     },
     "efc8f8a739ab4c71be2f5cd09bf399b8": {
      "model_module": "jupyter-js-widgets",
      "model_module_version": "~2.1.4",
      "model_name": "LayoutModel",
      "state": {
       "_model_module_version": "~2.1.4",
       "_view_module_version": "~2.1.4",
       "display": "",
       "max_width": "300px",
       "min_width": "100px",
       "visibility": "visible"
      }
     },
     "efeda2d3e6f54941954c91de08acad61": {
      "model_module": "jupyter-js-widgets",
      "model_module_version": "~2.1.4",
      "model_name": "LayoutModel",
      "state": {
       "_model_module_version": "~2.1.4",
       "_view_module_version": "~2.1.4",
       "display": "",
       "max_width": "300px",
       "min_width": "100px",
       "visibility": "visible"
      }
     },
     "f0acff9dd91d45dd9fae71a76d15b6e3": {
      "model_module": "jupyter-js-widgets",
      "model_module_version": "~2.1.4",
      "model_name": "LayoutModel",
      "state": {
       "_model_module_version": "~2.1.4",
       "_view_module_version": "~2.1.4",
       "display": "",
       "min_width": "100px",
       "visibility": "visible"
      }
     },
     "f0d48550fdda4f3a8f6e5992cd92a22b": {
      "model_module": "jupyter-js-widgets",
      "model_module_version": "~2.1.4",
      "model_name": "DropdownModel",
      "state": {
       "_model_module_version": "~2.1.4",
       "_options_labels": [
        "Hello",
        "World"
       ],
       "_view_module_version": "~2.1.4",
       "description": "Dropdown",
       "layout": "IPY_MODEL_594679deb1ff4b62a76ef0d867b21d5d",
       "value": "Hello"
      }
     },
     "f1ce3b3a78954926b3cf02a9c1351180": {
      "model_module": "jupyter-js-widgets",
      "model_module_version": "~2.1.4",
      "model_name": "LayoutModel",
      "state": {
       "_model_module_version": "~2.1.4",
       "_view_module_version": "~2.1.4",
       "display": "",
       "max_width": "300px",
       "min_width": "100px",
       "visibility": "visible"
      }
     },
     "f1e7f7b23f3d45b1922785d5cbf79800": {
      "model_module": "jupyter-js-widgets",
      "model_module_version": "~2.1.4",
      "model_name": "HBoxModel",
      "state": {
       "_model_module_version": "~2.1.4",
       "_view_module_version": "~2.1.4",
       "children": [
        "IPY_MODEL_6fda93be8c8f413b9a2101c0339b1ddd"
       ],
       "layout": "IPY_MODEL_7757924fe70a4977826f984659e92526"
      }
     },
     "f21bfce1c40b4668a00285857e3839cc": {
      "model_module": "jupyter-js-widgets",
      "model_module_version": "~2.1.4",
      "model_name": "CheckboxModel",
      "state": {
       "_model_module_version": "~2.1.4",
       "_view_module_version": "~2.1.4",
       "description": "Plot density",
       "disabled": false,
       "layout": "IPY_MODEL_3f5de02a7e2d41ada97503cee4a81181",
       "value": true
      }
     },
     "f2f890d22b4547dd837ee82dd9308b80": {
      "model_module": "jupyter-js-widgets",
      "model_module_version": "~2.1.4",
      "model_name": "DropdownModel",
      "state": {
       "_model_module_version": "~2.1.4",
       "_options_labels": [
        "dataset",
        "x",
        "y"
       ],
       "_view_module_version": "~2.1.4",
       "description": "X column",
       "layout": "IPY_MODEL_4622df78cabe45bf8bdf51a4702f930b",
       "value": "dataset"
      }
     },
     "f372f64cd2db4bc6a1b45e3bedebba0e": {
      "model_module": "jupyter-js-widgets",
      "model_module_version": "~2.1.4",
      "model_name": "CheckboxModel",
      "state": {
       "_model_module_version": "~2.1.4",
       "_view_module_version": "~2.1.4",
       "disabled": false,
       "layout": "IPY_MODEL_b196ad894ea84286b4554f03852e153d",
       "value": true
      }
     },
     "f3a1c622074a47efa31c85af4e139cfd": {
      "model_module": "jupyter-js-widgets",
      "model_module_version": "~2.1.4",
      "model_name": "IntSliderModel",
      "state": {
       "_model_module_version": "~2.1.4",
       "_view_module_version": "~2.1.4",
       "layout": "IPY_MODEL_0577824f83ca49c6a9bfb06dce3ce7c8",
       "max": 10,
       "min": 1,
       "style": "IPY_MODEL_94b7a76426a24b03bf2b7c220a27d844",
       "value": 1
      }
     },
     "f42bed46d6004b5ea60b6264c625b2d6": {
      "model_module": "jupyter-js-widgets",
      "model_module_version": "~2.1.4",
      "model_name": "LayoutModel",
      "state": {
       "_model_module_version": "~2.1.4",
       "_view_module_version": "~2.1.4",
       "display": "",
       "max_width": "300px",
       "min_width": "100px",
       "visibility": "visible"
      }
     },
     "f4a2843d5f3543bbbe2e5e115700c704": {
      "model_module": "jupyter-js-widgets",
      "model_module_version": "~2.1.4",
      "model_name": "DropdownModel",
      "state": {
       "_model_module_version": "~2.1.4",
       "_options_labels": [
        "ALL",
        "I",
        "II",
        "III",
        "IV"
       ],
       "_view_module_version": "~2.1.4",
       "description": "Dataset",
       "layout": "IPY_MODEL_1f9746be86bd4292ba338b1c767f8568",
       "value": "ALL"
      }
     },
     "f4bd6f8fef2047a99c5e08da72faa3b5": {
      "model_module": "jupyter-js-widgets",
      "model_module_version": "~2.1.4",
      "model_name": "LayoutModel",
      "state": {
       "_model_module_version": "~2.1.4",
       "_view_module_version": "~2.1.4",
       "display": "",
       "max_width": "300px",
       "min_width": "100px",
       "visibility": "visible"
      }
     },
     "f5158fe8199b4750857af63e4dc2904b": {
      "model_module": "jupyter-js-widgets",
      "model_module_version": "~2.1.4",
      "model_name": "LayoutModel",
      "state": {
       "_model_module_version": "~2.1.4",
       "_view_module_version": "~2.1.4",
       "display": "",
       "min_width": "100px",
       "visibility": "visible"
      }
     },
     "f611123f78974e669d08bd09b1dee6b1": {
      "model_module": "jupyter-js-widgets",
      "model_module_version": "~2.1.4",
      "model_name": "CheckboxModel",
      "state": {
       "_model_module_version": "~2.1.4",
       "_view_module_version": "~2.1.4",
       "description": "Regression",
       "disabled": false,
       "layout": "IPY_MODEL_ecb4047de29f429d9e3837cb060e68d3",
       "value": true
      }
     },
     "f75bea046f804dc88051f17dfcaca6c2": {
      "model_module": "jupyter-js-widgets",
      "model_module_version": "~2.1.4",
      "model_name": "HBoxModel",
      "state": {
       "_model_module_version": "~2.1.4",
       "_view_module_version": "~2.1.4",
       "layout": "IPY_MODEL_7601d942892b4597a6054d34e4319916"
      }
     },
     "f96509d7af914010af4218481ba96102": {
      "model_module": "jupyter-js-widgets",
      "model_module_version": "~2.1.4",
      "model_name": "LayoutModel",
      "state": {
       "_model_module_version": "~2.1.4",
       "_view_module_version": "~2.1.4",
       "display": "",
       "max_width": "300px",
       "min_width": "100px",
       "visibility": "visible"
      }
     },
     "f98c2fbcb45c40ac8822f8ede94da814": {
      "model_module": "jupyter-js-widgets",
      "model_module_version": "~2.1.4",
      "model_name": "IntSliderModel",
      "state": {
       "_model_module_version": "~2.1.4",
       "_view_module_version": "~2.1.4",
       "description": "Num ybins",
       "layout": "IPY_MODEL_5bac4047eb5c4b579c4d9604d9902fd3",
       "max": 40,
       "min": 1,
       "step": 2,
       "style": "IPY_MODEL_29752de1629a4cc8b273442d7980ee05",
       "value": 10
      }
     },
     "fa5966dd25bc453fbb2889424340d1d8": {
      "model_module": "jupyter-js-widgets",
      "model_module_version": "~2.1.4",
      "model_name": "CheckboxModel",
      "state": {
       "_model_module_version": "~2.1.4",
       "_view_module_version": "~2.1.4",
       "description": "Mean",
       "disabled": false,
       "layout": "IPY_MODEL_82a45f5c82b7485c9c627ce9aa35ddb2",
       "value": false
      }
     },
     "fa9ab7d8ddbe41f882c0d4502db208fd": {
      "model_module": "jupyter-js-widgets",
      "model_module_version": "~2.1.4",
      "model_name": "SliderStyleModel",
      "state": {
       "_model_module_version": "~2.1.4",
       "_view_module_version": "~2.1.4"
      }
     },
     "fae0b06dd0cc4ed182edff8e29881ffc": {
      "model_module": "jupyter-js-widgets",
      "model_module_version": "~2.1.4",
      "model_name": "HBoxModel",
      "state": {
       "_model_module_version": "~2.1.4",
       "_view_module_version": "~2.1.4",
       "children": [
        "IPY_MODEL_a790bbf4184f4b10b6a51cf98dc075fb",
        "IPY_MODEL_5b4160e854f54c2fa82900172af9b4b2",
        "IPY_MODEL_8549fff8cecf4ebf8b4e901753675a96"
       ],
       "layout": "IPY_MODEL_56b7ba590f6347a289167742d8558123"
      }
     },
     "fb1f09097cbd488bb5692388ad601e73": {
      "model_module": "jupyter-js-widgets",
      "model_module_version": "~2.1.4",
      "model_name": "LayoutModel",
      "state": {
       "_model_module_version": "~2.1.4",
       "_view_module_version": "~2.1.4",
       "display": "",
       "max_width": "300px",
       "min_width": "100px",
       "visibility": "visible"
      }
     },
     "fbb5a5a7660b4671a8b99c635ab0b260": {
      "model_module": "jupyter-js-widgets",
      "model_module_version": "~2.1.4",
      "model_name": "IntSliderModel",
      "state": {
       "_model_module_version": "~2.1.4",
       "_view_module_version": "~2.1.4",
       "description": "Bins",
       "layout": "IPY_MODEL_dea86dee841a491893c085a9da54c6f9",
       "min": 1,
       "step": 2,
       "style": "IPY_MODEL_b45f5e75d9dc4a8c94aac659ba01c42a",
       "value": 50
      }
     },
     "fc05eec6283f4fe5a333ecd962702291": {
      "model_module": "jupyter-js-widgets",
      "model_module_version": "~2.1.4",
      "model_name": "IntSliderModel",
      "state": {
       "_model_module_version": "~2.1.4",
       "_view_module_version": "~2.1.4",
       "description": "Bins",
       "layout": "IPY_MODEL_069a6180afba4b6db4e18f74ee69f953",
       "min": 1,
       "step": 2,
       "style": "IPY_MODEL_d3105b341bfc4c9ab1bb90103362287c",
       "value": 50
      }
     },
     "fe76f3bbe1844cfc971bf6f21af9c7ad": {
      "model_module": "jupyter-js-widgets",
      "model_module_version": "~2.1.4",
      "model_name": "TextModel",
      "state": {
       "_model_module_version": "~2.1.4",
       "_view_module_version": "~2.1.4",
       "description": "Patata",
       "layout": "IPY_MODEL_ae55e3567af84b9492b5e65341f733bc",
       "value": "moco"
      }
     },
     "fea19de9ebd7444db848862a5b151a45": {
      "model_module": "jupyter-js-widgets",
      "model_module_version": "~2.1.4",
      "model_name": "LayoutModel",
      "state": {
       "_model_module_version": "~2.1.4",
       "_view_module_version": "~2.1.4",
       "display": "",
       "min_width": "100px",
       "visibility": "visible"
      }
     },
     "ff1b46d694db4f1b9559ab85bb7393ff": {
      "model_module": "jupyter-js-widgets",
      "model_module_version": "~2.1.4",
      "model_name": "FloatSliderModel",
      "state": {
       "_model_module_version": "~2.1.4",
       "_view_module_version": "~2.1.4",
       "description": "Bw",
       "layout": "IPY_MODEL_aa14d312e70845f8a3037d33258097ec",
       "max": 10,
       "min": 0.01,
       "step": 0.025,
       "value": 0.18
      }
     },
     "ff2bc7400ec9468ba247f3eec8a0f654": {
      "model_module": "jupyter-js-widgets",
      "model_module_version": "~2.1.4",
      "model_name": "DropdownModel",
      "state": {
       "_model_module_version": "~2.1.4",
       "_options_labels": [
        "dataset",
        "x",
        "y"
       ],
       "_view_module_version": "~2.1.4",
       "description": "Y column",
       "layout": "IPY_MODEL_437a6b4a4e1e4edfaa3be910b13934f8",
       "value": "x"
      }
     }
    },
    "version_major": 1,
    "version_minor": 0
   }
  }
 },
 "nbformat": 4,
 "nbformat_minor": 2
}
