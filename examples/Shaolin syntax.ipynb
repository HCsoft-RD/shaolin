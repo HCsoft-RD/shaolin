{
 "cells": [
  {
   "cell_type": "code",
   "execution_count": 2,
   "metadata": {
    "collapsed": true
   },
   "outputs": [],
   "source": [
    "import sys\n",
    "path =\"/home/sergio/github/shaolin-master\"\n",
    "sys.path.append(path)"
   ]
  },
  {
   "cell_type": "markdown",
   "metadata": {},
   "source": [
    "# Introduction to Shaolin Widgets"
   ]
  },
  {
   "cell_type": "markdown",
   "metadata": {},
   "source": [
    "<a id='index'></a>"
   ]
  },
  {
   "cell_type": "markdown",
   "metadata": {},
   "source": [
    "## Index "
   ]
  },
  {
   "cell_type": "markdown",
   "metadata": {},
   "source": [
    "- [1 Introduction](#intro)\n",
    "- [2 Widget Basics](#widget_basics)\n",
    "   - [2.1 Structure](#widget_structure)\n",
    "   - [2.2 Attributes](#widget_attributes)\n",
    "   - [2.3 Creation](#widget_creation)\n",
    "       - [2.3.1 Using the Widget class](#widget_creation_class)\n",
    "       - [2.3.2 Using shaoscript](#widget_creation_shaoscript)\n",
    "- [3 Shaoscript](#shaoscript)\n",
    "   - [3.1 widget object](#shaoscript)\n",
    "   - [3.2 Object notation](#object_notation)\n",
    "   - [3.3 String notation](#string_notation)\n",
    "   - [3.4 Parameters](#string_notation_parameters)\n",
    "\n",
    "- [4 Dashboard Basics](#dashboard_basics)\n",
    "   - [4.1 Types](#dashboard_types)\n",
    "   - [4.2 Structure](#dashboard_structure)\n",
    "   - [4.3 Attributes](#dashboard_attributes)\n",
    "   - [4.4 Functions](#dashboard_functions)\n",
    "\n"
   ]
  },
  {
   "cell_type": "markdown",
   "metadata": {},
   "source": [
    "<a id='introduction'></a>"
   ]
  },
  {
   "cell_type": "markdown",
   "metadata": {},
   "source": [
    "# 1 Introduction"
   ]
  },
  {
   "cell_type": "markdown",
   "metadata": {},
   "source": [
    "[Back to top](#index)"
   ]
  },
  {
   "cell_type": "markdown",
   "metadata": {},
   "source": [
    "**Shaolin** (**S**tructure **H**elper for d**A**shb**O**ards **LIN**king) is a framework that aims to simplify the process of writing  interactive dashboards. Shaolin can be seen as an interface that provides an additional layer of functionality to the ipywidgets library, extending its capabilities and providing en easier way to write complex GUIs composed of multiple widgets and different levels of interactivity.\n",
    "\n",
    "This framework is build around the concept of Dashboard. A Dashboard could be interpreted as \"black box\" object that can be completely managed trhough a GUI comprised of widgets that will allow us to interact with its internal code. A dashboard can be used to generate an arbitrary dictionary of parameters or it can also execute an arbitrary piece of code using its GUI to manage the code parameters.\n"
   ]
  },
  {
   "cell_type": "markdown",
   "metadata": {},
   "source": [
    "<a id='widget_basics'></a>"
   ]
  },
  {
   "cell_type": "markdown",
   "metadata": {},
   "source": [
    "# 2 Widgets Basics"
   ]
  },
  {
   "cell_type": "markdown",
   "metadata": {},
   "source": [
    "[Back to top](#index)"
   ]
  },
  {
   "cell_type": "markdown",
   "metadata": {},
   "source": [
    "A widget is the most basic component a Dashboard can have. A Shaolin widget is just a wrapper for an ipywidgets widget to decouple the shaolin framework from ipywidgets, improve scalability and making it easier to create a new widged using a minified syntax.\n",
    "\n",
    "Any widget compatible with the ipywidgets package can be used as a shaolin widget. [Here](http://ipywidgets.readthedocs.io/en/latest/examples/Widget%20List.html) you can fin a list of available widgets, but shaolin is also compatible with custom widgets.\n"
   ]
  },
  {
   "cell_type": "markdown",
   "metadata": {},
   "source": [
    "<a id='widget_structure'></a>"
   ]
  },
  {
   "cell_type": "markdown",
   "metadata": {},
   "source": [
    "## 2.1 Widget structure"
   ]
  },
  {
   "cell_type": "markdown",
   "metadata": {},
   "source": [
    "A Shaolin Widget is an object that mimics the ipywidgets interface and adds additional functionality. Its displayed using its widget attribute and internally it has two main elements:\n",
    "\n",
    "- **widget**: An ipywidgets.Box that wraps an ipywidgets widget called target.\n",
    "- **target**: A widget compatible with ipywidgets.\n",
    "\n"
   ]
  },
  {
   "cell_type": "markdown",
   "metadata": {},
   "source": [
    "The following code is mean to illustrate the structure of a Shaolin widget:"
   ]
  },
  {
   "cell_type": "code",
   "execution_count": 3,
   "metadata": {
    "collapsed": false
   },
   "outputs": [
    {
     "data": {
      "text/plain": [
       "(ipywidgets.widgets.widget_box.Box,\n",
       " ipywidgets.widgets.widget_float.FloatSlider)"
      ]
     },
     "execution_count": 3,
     "metadata": {},
     "output_type": "execute_result"
    }
   ],
   "source": [
    "from shaolin.core.shaoscript import shaoscript\n",
    "wid = shaoscript('fs') #this creates a FloatSlider widget\n",
    "\n",
    "type(wid.widget), type(wid.target)"
   ]
  },
  {
   "cell_type": "code",
   "execution_count": 4,
   "metadata": {
    "collapsed": true
   },
   "outputs": [],
   "source": [
    "wid.target.layout.border = 'red solid'\n",
    "wid.widget.layout.border = 'blue solid'\n",
    "wid.widget"
   ]
  },
  {
   "cell_type": "markdown",
   "metadata": {},
   "source": [
    "<a id='widget_attributes'></a>"
   ]
  },
  {
   "cell_type": "markdown",
   "metadata": {},
   "source": [
    "## 2.2 Widget attributes"
   ]
  },
  {
   "cell_type": "markdown",
   "metadata": {},
   "source": [
    "As all the interactive logic will be using the target attribute a set of aliases and functions have been defined in order to simplify accessing the most common widget attributes. A widget has the following aliases:\n",
    "\n",
    "- **value**: widget.target.value\n",
    "- **options**: widget.target.options\n",
    "- **orientation**: widget.target.orientation\n",
    "- **visible**: Mimics the old ipywidgets interface. A True value will make a widget visible and a False value will hide it."
   ]
  },
  {
   "cell_type": "markdown",
   "metadata": {},
   "source": [
    "<a id='widget_creation'></a>"
   ]
  },
  {
   "cell_type": "markdown",
   "metadata": {},
   "source": [
    "## 2.3 Widget creation"
   ]
  },
  {
   "cell_type": "markdown",
   "metadata": {},
   "source": [
    "[Back to top](#index)"
   ]
  },
  {
   "cell_type": "markdown",
   "metadata": {},
   "source": [
    "Although using shaoscript to create a widget is the recommended way of instantiating a widget this can also be done usgint the shaolin widget class directly as a wrapper for an ipywidget Widget. "
   ]
  },
  {
   "cell_type": "markdown",
   "metadata": {},
   "source": [
    "<a id='widget_creation_class'></a>"
   ]
  },
  {
   "cell_type": "markdown",
   "metadata": {},
   "source": [
    "### 2.3.1 Using the Widget class"
   ]
  },
  {
   "cell_type": "markdown",
   "metadata": {},
   "source": [
    "A shaolin widget can be instantiated using the Widget object from the shaolin.core module. All the attributes passed besides the widget type are meant to be passed to the target widget."
   ]
  },
  {
   "cell_type": "code",
   "execution_count": 5,
   "metadata": {
    "collapsed": true
   },
   "outputs": [],
   "source": [
    "from shaolin.core.widgets import Widget\n",
    "import ipywidgets as widgets"
   ]
  },
  {
   "cell_type": "code",
   "execution_count": 6,
   "metadata": {
    "collapsed": true
   },
   "outputs": [],
   "source": [
    "class_wid = Widget(widgets.FloatSlider, description='Fs', value=15.3)\n",
    "\n",
    "target_kwargs = {'orientation':'vertical',\n",
    "          'value':13.,\n",
    "          'description':'Example'\n",
    "         }\n",
    "class_wid2 = Widget(widgets.FloatSlider,**target_kwargs)\n",
    "widgets.HBox(children = [class_wid2.widget,class_wid.widget])"
   ]
  },
  {
   "cell_type": "markdown",
   "metadata": {},
   "source": [
    "<a id='widget_creation_shaoscript'></a>"
   ]
  },
  {
   "cell_type": "markdown",
   "metadata": {},
   "source": [
    "### 2.3.2 Using shaoscript"
   ]
  },
  {
   "cell_type": "markdown",
   "metadata": {},
   "source": [
    "The recommended way for creating a shaolin widget is using what is called shaoscript. Shaoscript is a minified syntax that allows for faster widget creation. This can be done the following way:"
   ]
  },
  {
   "cell_type": "code",
   "execution_count": 7,
   "metadata": {
    "collapsed": false
   },
   "outputs": [],
   "source": [
    "from shaolin.core.shaoscript import shaoscript\n",
    "\n",
    "wid = shaoscript('fs') #this creates a FloatSlider widget\n",
    "\n",
    "wid.widget"
   ]
  },
  {
   "cell_type": "markdown",
   "metadata": {},
   "source": [
    "<a id='shaoscript'></a>"
   ]
  },
  {
   "cell_type": "markdown",
   "metadata": {},
   "source": [
    "# 3 Shaoscript"
   ]
  },
  {
   "cell_type": "markdown",
   "metadata": {},
   "source": [
    "[Back to top](#index)"
   ]
  },
  {
   "cell_type": "markdown",
   "metadata": {},
   "source": [
    "There are two ways of creating a Shaolin widget using shaoscript:"
   ]
  },
  {
   "cell_type": "markdown",
   "metadata": {},
   "source": [
    "<a id='object_notation'></a>"
   ]
  },
  {
   "cell_type": "markdown",
   "metadata": {},
   "source": [
    "## 3.1 Object notation"
   ]
  },
  {
   "cell_type": "markdown",
   "metadata": {},
   "source": [
    "The object notation is an extension of the syntax used for the [interact function](http://ipywidgets.readthedocs.io/en/latest/examples/Using%20Interact.html) of the ipywidgets package that allows to define a numeric or boolean widget by passing a python object (a tuple or a list). this object is called an object notation word.\n",
    "\n",
    "The syntax rules fro creating widgets using object notation are the following:"
   ]
  },
  {
   "cell_type": "markdown",
   "metadata": {},
   "source": [
    "- ### Slider widgets\n",
    "\n",
    "    - #### Data types\n",
    "         Set by the element of the tuple containing the value parameter.\n",
    "         Compatible types are:\n",
    "\n",
    "         - **float** --> FloatSlider widget.\n",
    "         - **int** --> IntSlider widget.\n",
    "         - **tuple of int** --> IntRangeSlider widet.\n",
    "         - **tuple of float** --> FloatRangeSlider widet.\n",
    "\n",
    "    - #### Syntax\n",
    "         - Extended object notation: **(min,max,step,value)**\n",
    "         - Compact notation: **(value)**"
   ]
  },
  {
   "cell_type": "code",
   "execution_count": 8,
   "metadata": {
    "collapsed": true
   },
   "outputs": [],
   "source": [
    "extended_islid = shaoscript(1)\n",
    "compact_islid = shaoscript((0,10,1,5))\n",
    "widgets.HBox(children=[extended_islid.widget,compact_islid.widget])"
   ]
  },
  {
   "cell_type": "markdown",
   "metadata": {},
   "source": [
    "- ### Numeric text box widgets\n",
    "\n",
    "    - #### Data types\n",
    "         Set by the element of the list containing the value parameter.\n",
    "         Compatible types are:\n",
    "\n",
    "         - **list of float** --> FloatText widget.\n",
    "         - **list of int** --> IntText widget.\n",
    "\n",
    "    - #### Syntax\n",
    "         - Extended object notation: **[min,max,value]**:\n",
    "         - Compact notation: **[value]**"
   ]
  },
  {
   "cell_type": "code",
   "execution_count": 9,
   "metadata": {
    "collapsed": true
   },
   "outputs": [],
   "source": [
    "extended_ftxt = shaoscript([1.])\n",
    "compact_ftxt = shaoscript([0.,10.,2.16])\n",
    "widgets.HBox(children=[extended_ftxt.widget,compact_ftxt.widget])"
   ]
  },
  {
   "cell_type": "markdown",
   "metadata": {},
   "source": [
    "- ### Boolean widgets:\n",
    "    - #### Data types:\n",
    "         Value must be a bool.\n",
    "\n",
    "         - **True,False** --> Checkbox widget.\n",
    "         - **tuple** --> Checkbox widget.\n",
    "         - **list** --> ToggleButton widet.\n",
    "         - **[(bool,)]** --> Valid Widget\n",
    "\n",
    "    - #### CheckBox\n",
    "         - Extended object notation:\n",
    "           - **(value,description)**, \n",
    "           - **(value)**\n",
    "         - Compact notation: **value**\n",
    "\n",
    "    - #### ToggleButton\n",
    "         - Extended object notation:\n",
    "           **[value, description]**\n",
    "         - Compact notation: **[value]**\n",
    "\n",
    "    - #### Valid\n",
    "         - Compact notation:\n",
    "           - **[[value]]**\n",
    "           - **[(value,)]**"
   ]
  },
  {
   "cell_type": "code",
   "execution_count": 10,
   "metadata": {
    "collapsed": true
   },
   "outputs": [],
   "source": [
    "checkbox = shaoscript(True)\n",
    "checkbx_2 = shaoscript((True,'check'))\n",
    "togglebutton = shaoscript([False, 'toggle'])\n",
    "valid = shaoscript([[False]])\n",
    "widgets.HBox(children=[checkbox.widget,checkbx_2.widget, togglebutton.widget,valid.widget])"
   ]
  },
  {
   "cell_type": "markdown",
   "metadata": {},
   "source": [
    "- ### Options widgets:\n",
    "\n",
    "    - #### Data types\n",
    "         - **tuple** --> Dropdown widget.\n",
    "         - **list** --> SelectMultiple widget.\n",
    "         \n",
    "    - #### Dropdown\n",
    "\n",
    "        - Extended object notation:\n",
    "          **(options,value)**\n",
    "        - Compact notation: **(options)**\n",
    "\n",
    "    - #### SelectMultiple\n",
    "\n",
    "        - Extended object notation:\n",
    "          **[options,value]**\n",
    "        - Compact notation: **[options]**\n",
    "\n",
    "    "
   ]
  },
  {
   "cell_type": "code",
   "execution_count": 11,
   "metadata": {
    "collapsed": false,
    "scrolled": false
   },
   "outputs": [],
   "source": [
    "ddown = shaoscript((['opt1','opt2'],'opt1'))\n",
    "selmul = shaoscript([('opt1','opt2'),('opt1',)])\n",
    "\n",
    "widgets.HBox(children=[ddown.widget,selmul.widget])"
   ]
  },
  {
   "cell_type": "markdown",
   "metadata": {},
   "source": [
    "<a id='string_notation'></a>"
   ]
  },
  {
   "cell_type": "markdown",
   "metadata": {},
   "source": [
    "## 3.2 String notation"
   ]
  },
  {
   "cell_type": "markdown",
   "metadata": {},
   "source": [
    "[Back to top](#index)"
   ]
  },
  {
   "cell_type": "markdown",
   "metadata": {},
   "source": [
    "Any Shaolin Widget can be created passing a string as a shaoscript parameter. This is the recommended way of instantiating widgets and the only way a Dashboard component can be stated. A widget can be created using its string keyword or a string which its literal evaluation is an object notation word.\n",
    "\n",
    "Each type of widget has multiple valid aliases. The available words for defining each type of widget are:"
   ]
  },
  {
   "cell_type": "markdown",
   "metadata": {},
   "source": [
    "- ### **Layout and Markdown**\n",
    "    - **HBox** -->   ['r', 'row', 'HBox', 'R', 'Box', 'H']\n",
    "    - **VBox** --> ['c', 'col', 'column', 'VBox', 'V']\n",
    "    - **Title** --> ['title', 'h1', '#', 't']\n",
    "    - **SubTitle** --> ['subtitle', 'h2', '##', 'sub', 's']\n",
    "    - **SubSubTitle** --> ['subsubtitle', 'h3', '###', 'subsub', 'ss']\n",
    "- ### Numeric widgets\n",
    "    - **FloatSlider** --> ['float_slider', 'floatslider', 'fsld', 'fs']\n",
    "    - **IntSlider** --> ['int_slider', 'intslider', 'isld', 'is']\n",
    "    - **FloatText** --> ['float_text', 'floattext', 'ftxt', 'ft']\n",
    "    - **IntText** -->  ['int_text', 'inttext', 'itxt', 'it']\n",
    "    - **FloatRange** --> ['float_range', 'floatprogress', 'fprog', 'fp']\n",
    "    - **IntRange** --> ['int_range', 'intrange', 'irng', 'ir']\n",
    "    - **FloatProgress** --> ['float_progress', 'floatprogress', 'fprog', 'fp']\n",
    "    - **IntProgress** --> ['int_progress', 'intprogress', 'iprog', 'ip']\n",
    "- ### Boolean widgets:\n",
    "    - **ToggleButton** --> ['toggle_button', 'toggle', 'tog']\n",
    "    - **Other boolean widgets** --> Use an object notation compliant string.\n",
    "- ### Selection widgets\n",
    "    - **Select** --> ['select', 'sel']\n",
    "    - **SelectMultiple** --> ['select_multiple', 'selmul', 'sm']\n",
    "    - **SelectionSlider** --> ['selection_slider', 'selslider', 'ss']\n",
    "    - **Dropdown** --> ['dropdown', 'dd', 'ddown'\n",
    "    - **ToggleButtons** --> ['toggle_buttons', 'toggles', 'togs']\n",
    "    - **RadioButtons** --> ['radio_buttons', 'radio', 'rad','rs']\n",
    "- ### String widgets\n",
    "    - **Text** --> ['text', 'txt','str','string']\n",
    "    - **TextArea** --> ['TextArea', 'texta', 'textarea', 'text_area']\n",
    "- ### Other widgets\n",
    "    - **HTML** --> ['html', 'HTML']\n",
    "    - **ColorPicker** --> ['color', 'colorpicker','cp','cpicker']\n",
    "    - **Button** --> ['button', 'btn', 'b']\n",
    "    - **Label** --> Any other value."
   ]
  },
  {
   "cell_type": "markdown",
   "metadata": {},
   "source": [
    "<a id='string_notation_parameters'></a>"
   ]
  },
  {
   "cell_type": "markdown",
   "metadata": {},
   "source": [
    "### 3.3 String notation with parameters"
   ]
  },
  {
   "cell_type": "markdown",
   "metadata": {},
   "source": [
    "It is also possible to set the parameters of the widgets using string notation. This way it's easier and shorter to instantiate a widget with non default params. \n",
    "\n",
    "The syntax for writing a string notation widget with custom parameters is the following:"
   ]
  },
  {
   "cell_type": "markdown",
   "metadata": {},
   "source": [
    "<img src=\"syntax_color.png\"></img>"
   ]
  },
  {
   "cell_type": "markdown",
   "metadata": {},
   "source": [
    "This means that the widget name provided as a string representation of the object notation or its string notation will be separated from the parameters by a dollar sign $ and each of the parameters will be separated by an & sign.\n",
    "\n",
    "In a general case the name of the parameter and its value will be separated by a = sign, and the value will be a literal evaluation of the string. "
   ]
  },
  {
   "cell_type": "markdown",
   "metadata": {},
   "source": [
    "<a id='parameters'></a>"
   ]
  },
  {
   "cell_type": "markdown",
   "metadata": {},
   "source": [
    "## 3.4 Parameters"
   ]
  },
  {
   "cell_type": "markdown",
   "metadata": {},
   "source": [
    "[Back to top](#index)"
   ]
  },
  {
   "cell_type": "markdown",
   "metadata": {},
   "source": [
    "There are some of the most common parameters that have special shorcuts in order to save tiem when defining a widget. These are the parameters that behave in a non default way:"
   ]
  },
  {
   "cell_type": "markdown",
   "metadata": {},
   "source": [
    "- **name**\n",
    "    - alias: name, n, N\n",
    "    - parsing: as string (No need to write string quotes)\n",
    "- **description**\n",
    "    - alias: description, d ,D\n",
    "    - parsing: as string. Setting the description and not the name will set the name param as \"description\".lower().replace(\" \",\"_\")\n",
    "- **visible**\n",
    "    - alias: visible, vis, v\n",
    "    - parsing: 0, False as False, else True\n",
    "- **orientation**\n",
    "    - alias: orientation, ori\n",
    "    - parsing: as string. if val in ['v', 'vertical'] val='vertical' elif val in ['h','horizontal'] val='horizontal'\n",
    "- **value**\n",
    "    - alias: value, val\n",
    "    - parsing: literal evaluation.\n",
    "- **mode**\n",
    "    - aias: mode, m\n",
    "    - parsing: as string.\n"
   ]
  },
  {
   "cell_type": "markdown",
   "metadata": {},
   "source": [
    "<a id='examples'></a>"
   ]
  },
  {
   "cell_type": "markdown",
   "metadata": {},
   "source": [
    "# 4 Examples"
   ]
  },
  {
   "cell_type": "markdown",
   "metadata": {},
   "source": [
    "[Back to top](#index)"
   ]
  },
  {
   "cell_type": "markdown",
   "metadata": {},
   "source": [
    "Here are some examples of using a widget with shaoscript versus using the standard ipywidgets package for defining them."
   ]
  },
  {
   "cell_type": "markdown",
   "metadata": {},
   "source": [
    "<a id='examples_sliders'></a>"
   ]
  },
  {
   "cell_type": "markdown",
   "metadata": {},
   "source": [
    "## 4.1 sliders with different sintaxes"
   ]
  },
  {
   "cell_type": "code",
   "execution_count": 16,
   "metadata": {
    "collapsed": true
   },
   "outputs": [],
   "source": [
    "fs_wid = widgets.FloatSlider(description='slider',\n",
    "                             min=3.14,\n",
    "                             max=15,\n",
    "                             step=0.16,\n",
    "                             value=6.0290\n",
    "                            )\n",
    "fs_shao_objn = shaoscript('(3.14,15,0.16,6.0290)$d=slider')#object notation\n",
    "fs_shao_strn = shaoscript('fs$d=slider&min=3.14&max=15&step=0.16&val=6.0290')#string notation\n",
    "widgets.HBox(children=[fs_wid,fs_shao_objn.widget,fs_shao_strn.widget])"
   ]
  },
  {
   "cell_type": "markdown",
   "metadata": {},
   "source": [
    "<a id='examples_markdown'></a>"
   ]
  },
  {
   "cell_type": "markdown",
   "metadata": {},
   "source": [
    "## 4.2 Markdown"
   ]
  },
  {
   "cell_type": "markdown",
   "metadata": {},
   "source": [
    "It is possible to write a shorcut por creating different kinds of text widgets according to markdown syntax"
   ]
  },
  {
   "cell_type": "code",
   "execution_count": 20,
   "metadata": {
    "collapsed": true
   },
   "outputs": [],
   "source": [
    "title = shaoscript('#This is a title')\n",
    "title.widget"
   ]
  },
  {
   "cell_type": "code",
   "execution_count": 21,
   "metadata": {
    "collapsed": true
   },
   "outputs": [],
   "source": [
    "title = shaoscript('##This is a subtitle')\n",
    "title.widget"
   ]
  },
  {
   "cell_type": "code",
   "execution_count": 23,
   "metadata": {
    "collapsed": true
   },
   "outputs": [],
   "source": [
    "title = shaoscript('###This is strong')\n",
    "title.widget"
   ]
  }
 ],
 "metadata": {
  "kernelspec": {
   "display_name": "Python 3",
   "language": "python",
   "name": "python3"
  },
  "language_info": {
   "codemirror_mode": {
    "name": "ipython",
    "version": 3
   },
   "file_extension": ".py",
   "mimetype": "text/x-python",
   "name": "python",
   "nbconvert_exporter": "python",
   "pygments_lexer": "ipython3",
   "version": "3.5.1"
  },
  "widgets": {
   "state": {
    "0279cfcef90e42bf924ccf0c3e69fd77": {
     "views": []
    },
    "0396663174ce4430bddac763513084ec": {
     "views": []
    },
    "04d8af123c4e4b4598d93f500812ceb2": {
     "views": []
    },
    "08293006782043e8aa1b70bbfbfc1e90": {
     "views": []
    },
    "091100c8d0bc4321b2c6470f87563273": {
     "views": []
    },
    "0b3df39d87c64e29b39ae30abab7a01b": {
     "views": []
    },
    "0cd4ff78779146cba5c347a4fedcb0fe": {
     "views": []
    },
    "0cd7c7442fac460595bf22de0fdb58d2": {
     "views": [
      {
       "cell_index": 41
      }
     ]
    },
    "0d42522c4b24428a9c7bc0aa1da41003": {
     "views": [
      {
       "cell_index": 39
      }
     ]
    },
    "0d9001214614491ab2ccb7f2ccfca26b": {
     "views": [
      {
       "cell_index": 37
      }
     ]
    },
    "0e87aecc73be487982d55997d426c582": {
     "views": []
    },
    "0ef224ac8c4b427db5c4cc719aa42e4f": {
     "views": []
    },
    "1314592e0ada4f5d8ae575c8ac247f07": {
     "views": []
    },
    "1556779bd9f648539ec114e911cf28cc": {
     "views": []
    },
    "15f3ada9bdaf4cc694d46e000c76dfeb": {
     "views": []
    },
    "16ea41751cc34eb6888b652739c5caa2": {
     "views": []
    },
    "23279bdca18a488f9080d6de06570fa1": {
     "views": []
    },
    "23ed220effb7485190d9b1d5d90e4166": {
     "views": []
    },
    "23fcee5be217460a8f4c2eed3bbd9220": {
     "views": []
    },
    "272396b075cf429f8dca7ae44b724d7d": {
     "views": [
      {
       "cell_index": 25
      }
     ]
    },
    "2bb232d0cc9e40df87021d5c069376b5": {
     "views": []
    },
    "2be5edfe62a2414396e70b1ff49ed216": {
     "views": []
    },
    "2d69f9a30f084d0bba69477232e492a1": {
     "views": [
      {
       "cell_index": 29
      }
     ]
    },
    "2fe0a01007d047b0be475802944fa72d": {
     "views": []
    },
    "397d64e1a7e1416cae133049da8e2e74": {
     "views": []
    },
    "3daa23d1e5704b88a5f1860dc64834a0": {
     "views": []
    },
    "40ce78be872f4c969be3a950ef988817": {
     "views": []
    },
    "42155e6b84d447b7a7b88439832944e9": {
     "views": []
    },
    "44d8e799df0f4689bd7dae10073ff8f7": {
     "views": []
    },
    "4733fb81f8af49b290e0c622269f9cfd": {
     "views": []
    },
    "4b9f4fc2d76d4bfebb2eb0bdbea258db": {
     "views": [
      {
       "cell_index": 67
      }
     ]
    },
    "4bfc8cea51a146e7b5cbbd789e4814b7": {
     "views": []
    },
    "4f0e5e03ed334158a6cb253b60a12629": {
     "views": []
    },
    "50465fcd3ec44e79b49718a1b7d59d30": {
     "views": []
    },
    "537f3cf5fcdf4c2a901d7dd9eb721043": {
     "views": [
      {
       "cell_index": 66
      }
     ]
    },
    "5aa65a808d164afa8994459f7fce7dea": {
     "views": []
    },
    "5b83ef8093fa416cae29a75ea610ca6b": {
     "views": []
    },
    "5efca6f8644c4e75a2b0da95eb0b6d5b": {
     "views": []
    },
    "5f63fdf57be84cd0b3dd9c8a4f9d0688": {
     "views": []
    },
    "5fa60b31cb7241678aeaa586fb8ba81a": {
     "views": []
    },
    "6324b96ae85746178c810be7518b73ab": {
     "views": []
    },
    "63d3d01cd96a4494852581a21a251741": {
     "views": []
    },
    "64bdb8257ac243769fd98989d553f8a6": {
     "views": [
      {
       "cell_index": 14
      }
     ]
    },
    "6510538b164144e6b8f5a53e972bc2b6": {
     "views": [
      {
       "cell_index": 43
      }
     ]
    },
    "6691c917a99d4342824bb7d4a43cf289": {
     "views": []
    },
    "6769a50cb9694b8597560cf145bf79dd": {
     "views": []
    },
    "6a2dc94f1da6402cb9c155021c1de1b0": {
     "views": []
    },
    "6a30d64f30f947838029b022c2395c6a": {
     "views": []
    },
    "6b1f28b3dbd14ab49d264aa9b9de5c35": {
     "views": []
    },
    "6c1983b007cd4702b0b20ba140e3fe02": {
     "views": []
    },
    "6d788c734e1448d1b9e90c7b55eea250": {
     "views": []
    },
    "6e7e2958f2b24745a4f6ebde58149b27": {
     "views": []
    },
    "6eed3b0a247d41b086f674073ddbc3b8": {
     "views": []
    },
    "7bafec3d327c4cfaae1cd7c097391475": {
     "views": []
    },
    "7be8aa3fceda456e855850b3d8b9c351": {
     "views": []
    },
    "7c868bff54f64e57943e3c7b4c39ad53": {
     "views": []
    },
    "819741af98cd464bbdc1ad259a0db0d4": {
     "views": []
    },
    "82fd73f318294cb1a8ddbed96b59b6c4": {
     "views": []
    },
    "8379bce563bf4136adf21f0928a3fa39": {
     "views": []
    },
    "84850493267549609fa49e2a4c1ae549": {
     "views": []
    },
    "84c75650aefe45268c1268aaaef6f5ae": {
     "views": []
    },
    "854eabf3495d4aefa7288f28896922f5": {
     "views": []
    },
    "8616391b7b854dd6b7eb2aa5b281a53f": {
     "views": []
    },
    "86be37a634eb4b8bbdf7ebe2c6f7abd7": {
     "views": [
      {
       "cell_index": 58
      }
     ]
    },
    "88deb09c2d894d31a01460a4f8bc4c84": {
     "views": []
    },
    "8a1ab152277247069850e7af4d4f7176": {
     "views": []
    },
    "8a55e5a4ce2e402883ae6f57b949ac2f": {
     "views": []
    },
    "8a71047abbd64a3bab765bd3b5a2f5ef": {
     "views": []
    },
    "8a939410520a4aa28d037882bb77f63e": {
     "views": []
    },
    "8d4993d38b1f47b6aac9e88e3a58fe43": {
     "views": []
    },
    "8edfd7a650144a5292fedaa6b3c396c5": {
     "views": []
    },
    "8efdd7c8e4404686b008bbc42dc246f5": {
     "views": []
    },
    "8fad6b506bf74d7bbe553a9633f2331b": {
     "views": []
    },
    "906ffa7a1b5840438fcad7fbb9bff376": {
     "views": []
    },
    "92c05bfc6c6a45c89afc49e7651d9aae": {
     "views": []
    },
    "948871bf5ca641418c652c19e1dec3b6": {
     "views": []
    },
    "9556a8e1863e4670965f13aa02155696": {
     "views": []
    },
    "973dbf33bd5b45fab0190eb1ec2d424a": {
     "views": []
    },
    "97d02ab943d34ff280f3d20d0fd404dd": {
     "views": []
    },
    "981470fb92454cf184c78ac486dcd82b": {
     "views": []
    },
    "9a882231d2eb493ebfc40ae8ae999a92": {
     "views": []
    },
    "9a9e8c6a146e4d18aa797158d02dbb5c": {
     "views": [
      {
       "cell_index": 65
      }
     ]
    },
    "9b0107028e2448c2ace54209621ef873": {
     "views": []
    },
    "9e840f27682b4498bb805be0f7fd0be4": {
     "views": []
    },
    "a10b192e64c74d0f88f511b5f77c4e79": {
     "views": []
    },
    "a1b4ae0b3672407f804a5767e22595fa": {
     "views": []
    },
    "a1ce6a07de9941cda266723fd5261762": {
     "views": [
      {
       "cell_index": 58
      }
     ]
    },
    "a27335152b4f467088b6a17a0626e973": {
     "views": []
    },
    "a5d533da77b34269914f217f58f3ad8e": {
     "views": []
    },
    "a70df306401d49018bfcd1ce6049ab8a": {
     "views": []
    },
    "a9631effee414783a84693ea5955e569": {
     "views": []
    },
    "ad1f9f578ccf4131a78a79aa0b8111a7": {
     "views": []
    },
    "b0da1ab0073548d09f79e09f9442300c": {
     "views": []
    },
    "b11fd607285e4b088fd109dd2a442c24": {
     "views": []
    },
    "b2787ac9514044bbb9ae02e32738870e": {
     "views": []
    },
    "b2d4072dda564283862ea654b1dd4595": {
     "views": []
    },
    "b3a238e64dc74446ad3c6135c79833f3": {
     "views": []
    },
    "b8817d3ca43f4700bdbfdd0cb2ba635a": {
     "views": []
    },
    "ba3b99d077f741e2994f5d4d8ef1a313": {
     "views": []
    },
    "bbcb9b00bbce4fcd9994f0fc0418e4c2": {
     "views": []
    },
    "bd9cc96d3e2443f0812854047dbae593": {
     "views": []
    },
    "c54b6c6cbd6c44618c117c9bb93697ec": {
     "views": []
    },
    "c8a587726c5b445aa07e9b04c5678f7f": {
     "views": []
    },
    "cc80057c4f994877954e4c638e94b159": {
     "views": []
    },
    "cfda29edf1d5485c8c4b5f5bc4dc3d3c": {
     "views": []
    },
    "d12b31669ce148308730bca953c86995": {
     "views": []
    },
    "d2506269fa6243abba5aecebe8c023bd": {
     "views": []
    },
    "d65cbc74038a401490d03a6835da0321": {
     "views": []
    },
    "da0deee526514c0da2a7519e4a539670": {
     "views": []
    },
    "db96f8d3d4d64fb8abdc0f2f4464bc7c": {
     "views": []
    },
    "de074aa086f043a4994485dae0ccaf61": {
     "views": []
    },
    "e3a6328e93a545abb49c148a937c89e1": {
     "views": []
    },
    "e4e83c8289064ce2a512247a477be242": {
     "views": []
    },
    "e54d05fdb1ce4fcfb541cbea456b2c60": {
     "views": []
    },
    "e5a06c07d290497486a1da2dd2e91658": {
     "views": []
    },
    "eae428ec47a14f4cb63a0ae2408db599": {
     "views": []
    },
    "f195cde4a613434d8688857064a39505": {
     "views": []
    },
    "f24cd127029d42f983384ef0655fa9c4": {
     "views": []
    },
    "f4705c5888b2441498bae5f14688b096": {
     "views": []
    },
    "fa9f27b619424b20b059a3ec3917a461": {
     "views": []
    },
    "fb457dd0ccc74e6c95e661186fd007c6": {
     "views": []
    },
    "fc21bc982431482982b094071f483cd7": {
     "views": []
    },
    "fcd7299e84114008a7830fb4e54d6ea3": {
     "views": []
    },
    "ff129f08e81a4fc48e2dc3b9af3d0b9d": {
     "views": []
    }
   },
   "version": "1.1.2"
  }
 },
 "nbformat": 4,
 "nbformat_minor": 0
}
