{
 "cells": [
  {
   "cell_type": "code",
   "execution_count": 1,
   "metadata": {
    "collapsed": true
   },
   "outputs": [],
   "source": [
    "import sys\n",
    "path =\"/home/sergio/github/shaolin-master\"\n",
    "sys.path.append(path)"
   ]
  },
  {
   "cell_type": "markdown",
   "metadata": {},
   "source": [
    "# Introduction to Shaolin"
   ]
  },
  {
   "cell_type": "markdown",
   "metadata": {},
   "source": [
    "<a id='index'></a>"
   ]
  },
  {
   "cell_type": "markdown",
   "metadata": {},
   "source": [
    "## Index "
   ]
  },
  {
   "cell_type": "markdown",
   "metadata": {},
   "source": [
    "- [1 Introduction](#intro)\n",
    "- [2 Widget Basics](#widget_basics)\n",
    "   - [2.1 Structure](#widget_structure)\n",
    "   - [2.2 Attributes](#widget_attributes)\n",
    "   - [2.3 Creation](#widget_creation)\n",
    "       - [2.3.1 Using the Widget class](#widget_creation_class)\n",
    "       - [2.3.2 Using shaoscript](#widget_creation_shaoscript)\n",
    "- [3 Shaoscript](#shaoscript)\n",
    "   - [3.1 widget object](#shaoscript)\n",
    "   - [3.2 Object notation](#object_notation)\n",
    "   - [3.3 String notation](#string_notation)\n",
    "   - [3.4 Parameters](#string_notation_parameters)\n",
    "\n",
    "- [4 Dashboard Basics](#dashboard_basics)\n",
    "   - [4.1 Types](#dashboard_types)\n",
    "   - [4.2 Structure](#dashboard_structure)\n",
    "   - [4.3 Attributes](#dashboard_attributes)\n",
    "   - [4.4 Functions](#dashboard_functions)\n",
    "\n"
   ]
  },
  {
   "cell_type": "markdown",
   "metadata": {},
   "source": [
    "<a id='introduction'></a>"
   ]
  },
  {
   "cell_type": "markdown",
   "metadata": {},
   "source": [
    "# 1 Introduction"
   ]
  },
  {
   "cell_type": "markdown",
   "metadata": {},
   "source": [
    "[Back to top](#index)"
   ]
  },
  {
   "cell_type": "markdown",
   "metadata": {},
   "source": [
    "**Shaolin** (**S**tructure **H**elper for d**A**shb**O**ards **LIN**king) is a framework that aims to simplify the process of writing  interactive dashboards. Shaolin can be seen as an interface that provides an additional layer of functionality to the ipywidgets library, extending its capabilities and providing en easier way to write complex GUIs composed of multiple widgets and different levels of interactivity.\n",
    "\n",
    "This framework is build around the concept of Dashboard. A Dashboard could be interpreted as \"black box\" object that can be completely managed trhough a GUI comprised of widgets that will allow us to interact with its internal code. A dashboard can be used to generate an arbitrary dictionary of parameters or it can also execute an arbitrary piece of code using its GUI to manage the code parameters.\n"
   ]
  },
  {
   "cell_type": "markdown",
   "metadata": {},
   "source": [
    "<a id='widget_basics'></a>"
   ]
  },
  {
   "cell_type": "markdown",
   "metadata": {},
   "source": [
    "# 2 Widgets Basics"
   ]
  },
  {
   "cell_type": "markdown",
   "metadata": {},
   "source": [
    "[Back to top](#index)"
   ]
  },
  {
   "cell_type": "markdown",
   "metadata": {},
   "source": [
    "A widget is the most basic component a Dashboard can have. A Shaolin widget is just a wrapper for an ipywidgets widget to decouple the shaolin framework from ipywidgets, improve scalability and making it easier to create a new widged using a minified syntax.\n",
    "\n",
    "Any widget compatible with the ipywidgets package can be used as a shaolin widget. [Here](http://ipywidgets.readthedocs.io/en/latest/examples/Widget%20List.html) you can fin a list of available widgets, but shaolin is also compatible with custom widgets.\n"
   ]
  },
  {
   "cell_type": "markdown",
   "metadata": {},
   "source": [
    "<a id='widget_structure'></a>"
   ]
  },
  {
   "cell_type": "markdown",
   "metadata": {},
   "source": [
    "## 2.1 Widget structure"
   ]
  },
  {
   "cell_type": "markdown",
   "metadata": {},
   "source": [
    "A Shaolin Widget is an object that mimics the ipywidgets interface and adds additional functionality. Its displayed using its widget attribute and internally it has two main elements:\n",
    "\n",
    "- **widget**: An ipywidgets.Box that wraps an ipywidgets widget called target.\n",
    "- **target**: A widget compatible with ipywidgets.\n",
    "\n"
   ]
  },
  {
   "cell_type": "markdown",
   "metadata": {},
   "source": [
    "The following code is mean to illustrate the structure of a Shaolin widget:"
   ]
  },
  {
   "cell_type": "code",
   "execution_count": 2,
   "metadata": {
    "collapsed": false
   },
   "outputs": [
    {
     "data": {
      "text/plain": [
       "(ipywidgets.widgets.widget_box.Box,\n",
       " ipywidgets.widgets.widget_float.FloatSlider)"
      ]
     },
     "execution_count": 2,
     "metadata": {},
     "output_type": "execute_result"
    }
   ],
   "source": [
    "from IPython.display import Image #this is for displaying the widgets in the web version of the notebook\n",
    "from shaolin.core.shaoscript import shaoscript\n",
    "wid = shaoscript('fs') #this creates a FloatSlider widget\n",
    "type(wid.widget), type(wid.target)"
   ]
  },
  {
   "cell_type": "code",
   "execution_count": 3,
   "metadata": {
    "collapsed": false
   },
   "outputs": [
    {
     "data": {
      "image/png": "[encoded data removed]",
      "text/plain": [
       "<IPython.core.display.Image object>"
      ]
     },
     "execution_count": 3,
     "metadata": {},
     "output_type": "execute_result"
    }
   ],
   "source": [
    "wid.target.layout.border = 'red solid'\n",
    "wid.widget.layout.border = 'blue solid'\n",
    "#wid.widget\n",
    "Image(filename='shaolin_syntax_data/img_1.png')"
   ]
  },
  {
   "cell_type": "markdown",
   "metadata": {},
   "source": [
    "<a id='widget_attributes'></a>"
   ]
  },
  {
   "cell_type": "markdown",
   "metadata": {},
   "source": [
    "## 2.2 Widget attributes"
   ]
  },
  {
   "cell_type": "markdown",
   "metadata": {},
   "source": [
    "As all the interactive logic will be using the target attribute a set of aliases and functions have been defined in order to simplify accessing the most common widget attributes. A widget has the following aliases:\n",
    "\n",
    "- **value**: widget.target.value\n",
    "- **options**: widget.target.options\n",
    "- **orientation**: widget.target.orientation\n",
    "- **visible**: Mimics the old ipywidgets interface. A True value will make a widget visible and a False value will hide it."
   ]
  },
  {
   "cell_type": "markdown",
   "metadata": {},
   "source": [
    "<a id='widget_creation'></a>"
   ]
  },
  {
   "cell_type": "markdown",
   "metadata": {},
   "source": [
    "## 2.3 Widget creation"
   ]
  },
  {
   "cell_type": "markdown",
   "metadata": {},
   "source": [
    "[Back to top](#index)"
   ]
  },
  {
   "cell_type": "markdown",
   "metadata": {},
   "source": [
    "Although using shaoscript to create a widget is the recommended way of instantiating a widget this can also be done usgint the shaolin widget class directly as a wrapper for an ipywidget Widget. "
   ]
  },
  {
   "cell_type": "markdown",
   "metadata": {},
   "source": [
    "<a id='widget_creation_class'></a>"
   ]
  },
  {
   "cell_type": "markdown",
   "metadata": {},
   "source": [
    "### 2.3.1 Using the Widget class"
   ]
  },
  {
   "cell_type": "markdown",
   "metadata": {},
   "source": [
    "A shaolin widget can be instantiated using the Widget object from the shaolin.core module. All the attributes passed besides the widget type are meant to be passed to the target widget."
   ]
  },
  {
   "cell_type": "code",
   "execution_count": 4,
   "metadata": {
    "collapsed": true
   },
   "outputs": [],
   "source": [
    "from shaolin.core.widgets import Widget\n",
    "import ipywidgets as widgets"
   ]
  },
  {
   "cell_type": "code",
   "execution_count": 5,
   "metadata": {
    "collapsed": false
   },
   "outputs": [
    {
     "data": {
      "image/png": "[encoded data removed]",
      "text/plain": [
       "<IPython.core.display.Image object>"
      ]
     },
     "execution_count": 5,
     "metadata": {},
     "output_type": "execute_result"
    }
   ],
   "source": [
    "class_wid = Widget(widgets.FloatSlider, description='Fs', value=15.3)\n",
    "\n",
    "target_kwargs = {'orientation':'vertical',\n",
    "          'value':13.,\n",
    "          'description':'Example'\n",
    "         }\n",
    "class_wid2 = Widget(widgets.FloatSlider,**target_kwargs)\n",
    "#widgets.HBox(children = [class_wid2.widget,class_wid.widget])\n",
    "Image(filename='shaolin_syntax_data/img_2.png')"
   ]
  },
  {
   "cell_type": "markdown",
   "metadata": {},
   "source": [
    "<a id='widget_creation_shaoscript'></a>"
   ]
  },
  {
   "cell_type": "markdown",
   "metadata": {},
   "source": [
    "### 2.3.2 Using shaoscript"
   ]
  },
  {
   "cell_type": "markdown",
   "metadata": {},
   "source": [
    "The recommended way for creating a shaolin widget is using what is called shaoscript. Shaoscript is a minified syntax that allows for faster widget creation. This can be done the following way:"
   ]
  },
  {
   "cell_type": "code",
   "execution_count": 6,
   "metadata": {
    "collapsed": false
   },
   "outputs": [
    {
     "data": {
      "image/png": "[encoded data removed]",
      "text/plain": [
       "<IPython.core.display.Image object>"
      ]
     },
     "execution_count": 6,
     "metadata": {},
     "output_type": "execute_result"
    }
   ],
   "source": [
    "from shaolin.core.shaoscript import shaoscript\n",
    "\n",
    "wid = shaoscript('fs') #this creates a FloatSlider widget\n",
    "#wid.widget\n",
    "Image(filename='shaolin_syntax_data/img_3.png')"
   ]
  },
  {
   "cell_type": "markdown",
   "metadata": {},
   "source": [
    "<a id='shaoscript'></a>"
   ]
  },
  {
   "cell_type": "markdown",
   "metadata": {},
   "source": [
    "# 3 Shaoscript"
   ]
  },
  {
   "cell_type": "markdown",
   "metadata": {},
   "source": [
    "[Back to top](#index)"
   ]
  },
  {
   "cell_type": "markdown",
   "metadata": {},
   "source": [
    "There are two ways of creating a Shaolin widget using shaoscript:"
   ]
  },
  {
   "cell_type": "markdown",
   "metadata": {},
   "source": [
    "<a id='object_notation'></a>"
   ]
  },
  {
   "cell_type": "markdown",
   "metadata": {},
   "source": [
    "## 3.1 Object notation"
   ]
  },
  {
   "cell_type": "markdown",
   "metadata": {},
   "source": [
    "The object notation is an extension of the syntax used for the [interact function](http://ipywidgets.readthedocs.io/en/latest/examples/Using%20Interact.html) of the ipywidgets package that allows to define a numeric or boolean widget by passing a python object (a tuple or a list). this object is called an object notation word.\n",
    "\n",
    "The syntax rules fro creating widgets using object notation are the following:"
   ]
  },
  {
   "cell_type": "markdown",
   "metadata": {},
   "source": [
    "- ### Slider widgets\n",
    "\n",
    "    - #### Data types\n",
    "         Set by the element of the tuple containing the value parameter.\n",
    "         Compatible types are:\n",
    "\n",
    "         - **float** --> FloatSlider widget.\n",
    "         - **int** --> IntSlider widget.\n",
    "         - **tuple of int** --> IntRangeSlider widet.\n",
    "         - **tuple of float** --> FloatRangeSlider widet.\n",
    "\n",
    "    - #### Syntax\n",
    "         - Extended object notation: **(min,max,step,value)**\n",
    "         - Compact notation: **(value)**"
   ]
  },
  {
   "cell_type": "code",
   "execution_count": 7,
   "metadata": {
    "collapsed": false
   },
   "outputs": [
    {
     "data": {
      "image/png": "[encoded data removed]",
      "text/plain": [
       "<IPython.core.display.Image object>"
      ]
     },
     "execution_count": 7,
     "metadata": {},
     "output_type": "execute_result"
    }
   ],
   "source": [
    "extended_islid = shaoscript(1)\n",
    "compact_islid = shaoscript((0,10,1,5))\n",
    "#widgets.HBox(children=[extended_islid.widget,compact_islid.widget])\n",
    "Image(filename='shaolin_syntax_data/img_4.png')"
   ]
  },
  {
   "cell_type": "markdown",
   "metadata": {},
   "source": [
    "- ### Numeric text box widgets\n",
    "\n",
    "    - #### Data types\n",
    "         Set by the element of the list containing the value parameter.\n",
    "         Compatible types are:\n",
    "\n",
    "         - **list of float** --> FloatText widget.\n",
    "         - **list of int** --> IntText widget.\n",
    "\n",
    "    - #### Syntax\n",
    "         - Extended object notation: **[min,max,value]**:\n",
    "         - Compact notation: **[value]**"
   ]
  },
  {
   "cell_type": "code",
   "execution_count": 8,
   "metadata": {
    "collapsed": false
   },
   "outputs": [
    {
     "data": {
      "image/png": "[encoded data removed]",
      "text/plain": [
       "<IPython.core.display.Image object>"
      ]
     },
     "execution_count": 8,
     "metadata": {},
     "output_type": "execute_result"
    }
   ],
   "source": [
    "extended_ftxt = shaoscript([1.])\n",
    "compact_ftxt = shaoscript([0.,10.,2.16])\n",
    "#widgets.HBox(children=[extended_ftxt.widget,compact_ftxt.widget])\n",
    "Image(filename='shaolin_syntax_data/img_5.png')"
   ]
  },
  {
   "cell_type": "markdown",
   "metadata": {},
   "source": [
    "- ### Boolean widgets:\n",
    "    - #### Data types:\n",
    "         Value must be a bool.\n",
    "\n",
    "         - **True,False** --> Checkbox widget.\n",
    "         - **tuple** --> Checkbox widget.\n",
    "         - **list** --> ToggleButton widet.\n",
    "         - **[(bool,)]** --> Valid Widget\n",
    "\n",
    "    - #### CheckBox\n",
    "         - Extended object notation:\n",
    "           - **(value,description)**, \n",
    "           - **(value)**\n",
    "         - Compact notation: **value**\n",
    "\n",
    "    - #### ToggleButton\n",
    "         - Extended object notation:\n",
    "           **[value, description]**\n",
    "         - Compact notation: **[value]**\n",
    "\n",
    "    - #### Valid\n",
    "         - Compact notation:\n",
    "           - **[[value]]**\n",
    "           - **[(value,)]**"
   ]
  },
  {
   "cell_type": "code",
   "execution_count": 9,
   "metadata": {
    "collapsed": false
   },
   "outputs": [
    {
     "data": {
      "image/png": "[encoded data removed]",
      "text/plain": [
       "<IPython.core.display.Image object>"
      ]
     },
     "execution_count": 9,
     "metadata": {},
     "output_type": "execute_result"
    }
   ],
   "source": [
    "checkbox = shaoscript(True)\n",
    "checkbx_2 = shaoscript((True,'check'))\n",
    "togglebutton = shaoscript([False, 'toggle'])\n",
    "valid = shaoscript([[False]])\n",
    "#widgets.HBox(children=[checkbox.widget,checkbx_2.widget, togglebutton.widget,valid.widget])\n",
    "Image(filename='shaolin_syntax_data/img_6.png')"
   ]
  },
  {
   "cell_type": "markdown",
   "metadata": {},
   "source": [
    "- ### Options widgets:\n",
    "\n",
    "    - #### Data types\n",
    "         - **tuple** --> Dropdown widget.\n",
    "         - **list** --> SelectMultiple widget.\n",
    "         \n",
    "    - #### Dropdown\n",
    "\n",
    "        - Extended object notation:\n",
    "          **(options,value)**\n",
    "        - Compact notation: **(options)**\n",
    "\n",
    "    - #### SelectMultiple\n",
    "\n",
    "        - Extended object notation:\n",
    "          **[options,value]**\n",
    "        - Compact notation: **[options]**\n",
    "\n",
    "    "
   ]
  },
  {
   "cell_type": "code",
   "execution_count": 10,
   "metadata": {
    "collapsed": false,
    "scrolled": false
   },
   "outputs": [
    {
     "data": {
      "image/png": "[encoded data removed]",
      "text/plain": [
       "<IPython.core.display.Image object>"
      ]
     },
     "execution_count": 10,
     "metadata": {},
     "output_type": "execute_result"
    }
   ],
   "source": [
    "ddown = shaoscript((['opt1','opt2'],'opt1'))\n",
    "selmul = shaoscript([('opt1','opt2'),('opt1',)])\n",
    "\n",
    "#widgets.HBox(children=[ddown.widget,selmul.widget])\n",
    "Image(filename='shaolin_syntax_data/img_7.png')"
   ]
  },
  {
   "cell_type": "markdown",
   "metadata": {},
   "source": [
    "<a id='string_notation'></a>"
   ]
  },
  {
   "cell_type": "markdown",
   "metadata": {},
   "source": [
    "## 3.2 String notation"
   ]
  },
  {
   "cell_type": "markdown",
   "metadata": {},
   "source": [
    "[Back to top](#index)"
   ]
  },
  {
   "cell_type": "markdown",
   "metadata": {},
   "source": [
    "Any Shaolin Widget can be created passing a string as a shaoscript parameter. This is the recommended way of instantiating widgets and the only way a Dashboard component can be stated. A widget can be created using its string keyword or a string which its literal evaluation is an object notation word.\n",
    "\n",
    "Each type of widget has multiple valid aliases. The available words for defining each type of widget are:"
   ]
  },
  {
   "cell_type": "markdown",
   "metadata": {},
   "source": [
    "- ### **Layout and Markdown**\n",
    "    - **HBox** -->   ['r', 'row', 'HBox', 'R', 'Box', 'H']\n",
    "    - **VBox** --> ['c', 'col', 'column', 'VBox', 'V']\n",
    "    - **Title** --> ['title', 'h1', '#', 't']\n",
    "    - **SubTitle** --> ['subtitle', 'h2', '##', 'sub', 's']\n",
    "    - **SubSubTitle** --> ['subsubtitle', 'h3', '###', 'subsub', 'ss']\n",
    "- ### Numeric widgets\n",
    "    - **FloatSlider** --> ['float_slider', 'floatslider', 'fsld', 'fs']\n",
    "    - **IntSlider** --> ['int_slider', 'intslider', 'isld', 'is']\n",
    "    - **FloatText** --> ['float_text', 'floattext', 'ftxt', 'ft']\n",
    "    - **IntText** -->  ['int_text', 'inttext', 'itxt', 'it']\n",
    "    - **FloatRange** --> ['float_range', 'floatprogress', 'fprog', 'fp']\n",
    "    - **IntRange** --> ['int_range', 'intrange', 'irng', 'ir']\n",
    "    - **FloatProgress** --> ['float_progress', 'floatprogress', 'fprog', 'fp']\n",
    "    - **IntProgress** --> ['int_progress', 'intprogress', 'iprog', 'ip']\n",
    "- ### Boolean widgets:\n",
    "    - **ToggleButton** --> ['toggle_button', 'toggle', 'tog']\n",
    "    - **Other boolean widgets** --> Use an object notation compliant string.\n",
    "- ### Selection widgets\n",
    "    - **Select** --> ['select', 'sel']\n",
    "    - **SelectMultiple** --> ['select_multiple', 'selmul', 'sm']\n",
    "    - **SelectionSlider** --> ['selection_slider', 'selslider', 'ss']\n",
    "    - **Dropdown** --> ['dropdown', 'dd', 'ddown'\n",
    "    - **ToggleButtons** --> ['toggle_buttons', 'toggles', 'togs']\n",
    "    - **RadioButtons** --> ['radio_buttons', 'radio', 'rad','rs']\n",
    "- ### String widgets\n",
    "    - **Text** --> ['text', 'txt','str','string']\n",
    "    - **TextArea** --> ['TextArea', 'texta', 'textarea', 'text_area']\n",
    "- ### Other widgets\n",
    "    - **HTML** --> ['html', 'HTML']\n",
    "    - **ColorPicker** --> ['color', 'colorpicker','cp','cpicker']\n",
    "    - **Button** --> ['button', 'btn', 'b']\n",
    "    - **Label** --> Any other value."
   ]
  },
  {
   "cell_type": "markdown",
   "metadata": {},
   "source": [
    "<a id='string_notation_parameters'></a>"
   ]
  },
  {
   "cell_type": "markdown",
   "metadata": {},
   "source": [
    "### 3.3 String notation with parameters"
   ]
  },
  {
   "cell_type": "markdown",
   "metadata": {},
   "source": [
    "It is also possible to set the parameters of the widgets using string notation. This way it's easier and shorter to instantiate a widget with non default params. \n",
    "\n",
    "The syntax for writing a string notation widget with custom parameters is the following:"
   ]
  },
  {
   "cell_type": "markdown",
   "metadata": {},
   "source": [
    "<img src=\"syntax_color.png\"></img>"
   ]
  },
  {
   "cell_type": "markdown",
   "metadata": {},
   "source": [
    "This means that the widget name provided as a string representation of the object notation or its string notation will be separated from the parameters by a dollar sign $ and each of the parameters will be separated by an & sign.\n",
    "\n",
    "In a general case the name of the parameter and its value will be separated by a = sign, and the value will be a literal evaluation of the string. "
   ]
  },
  {
   "cell_type": "markdown",
   "metadata": {},
   "source": [
    "<a id='parameters'></a>"
   ]
  },
  {
   "cell_type": "markdown",
   "metadata": {},
   "source": [
    "## 3.4 Parameters"
   ]
  },
  {
   "cell_type": "markdown",
   "metadata": {},
   "source": [
    "[Back to top](#index)"
   ]
  },
  {
   "cell_type": "markdown",
   "metadata": {},
   "source": [
    "There are some of the most common parameters that have special shorcuts in order to save tiem when defining a widget. These are the parameters that behave in a non default way:"
   ]
  },
  {
   "cell_type": "markdown",
   "metadata": {},
   "source": [
    "- **name**\n",
    "    - alias: name, n, N\n",
    "    - parsing: as string (No need to write string quotes)\n",
    "- **description**\n",
    "    - alias: description, d ,D\n",
    "    - parsing: as string. Setting the description and not the name will set the name param as \"description\".lower().replace(\" \",\"_\")\n",
    "- **visible**\n",
    "    - alias: visible, vis, v\n",
    "    - parsing: 0, False as False, else True\n",
    "- **orientation**\n",
    "    - alias: orientation, ori\n",
    "    - parsing: as string. if val in ['v', 'vertical'] val='vertical' elif val in ['h','horizontal'] val='horizontal'\n",
    "- **value**\n",
    "    - alias: value, val\n",
    "    - parsing: literal evaluation.\n",
    "- **mode**\n",
    "    - aias: mode, m\n",
    "    - parsing: as string.\n"
   ]
  },
  {
   "cell_type": "markdown",
   "metadata": {},
   "source": [
    "<a id='examples'></a>"
   ]
  },
  {
   "cell_type": "markdown",
   "metadata": {},
   "source": [
    "# 4 Examples"
   ]
  },
  {
   "cell_type": "markdown",
   "metadata": {},
   "source": [
    "[Back to top](#index)"
   ]
  },
  {
   "cell_type": "markdown",
   "metadata": {},
   "source": [
    "Here are some examples of using a widget with shaoscript versus using the standard ipywidgets package for defining them."
   ]
  },
  {
   "cell_type": "markdown",
   "metadata": {},
   "source": [
    "<a id='examples_sliders'></a>"
   ]
  },
  {
   "cell_type": "markdown",
   "metadata": {},
   "source": [
    "## 4.1 sliders with different sintaxes"
   ]
  },
  {
   "cell_type": "code",
   "execution_count": 11,
   "metadata": {
    "collapsed": false
   },
   "outputs": [
    {
     "data": {
      "image/png": "[encoded data removed]",
      "text/plain": [
       "<IPython.core.display.Image object>"
      ]
     },
     "execution_count": 11,
     "metadata": {},
     "output_type": "execute_result"
    }
   ],
   "source": [
    "fs_wid = widgets.FloatSlider(description='slider',\n",
    "                             min=3.14,\n",
    "                             max=15,\n",
    "                             step=0.16,\n",
    "                             value=6.0290\n",
    "                            )\n",
    "fs_shao_objn = shaoscript('(3.14,15,0.16,6.0290)$d=slider')#object notation\n",
    "fs_shao_strn = shaoscript('fs$d=slider&min=3.14&max=15&step=0.16&val=6.0290')#string notation\n",
    "#widgets.HBox(children=[fs_wid,fs_shao_objn.widget,fs_shao_strn.widget])\n",
    "Image(filename='shaolin_syntax_data/img_8.png')"
   ]
  },
  {
   "cell_type": "markdown",
   "metadata": {},
   "source": [
    "<a id='examples_markdown'></a>"
   ]
  },
  {
   "cell_type": "markdown",
   "metadata": {},
   "source": [
    "## 4.2 Markdown"
   ]
  },
  {
   "cell_type": "markdown",
   "metadata": {},
   "source": [
    "It is possible to write a shorcut por creating different kinds of text widgets according to markdown syntax"
   ]
  },
  {
   "cell_type": "code",
   "execution_count": 12,
   "metadata": {
    "collapsed": false
   },
   "outputs": [
    {
     "data": {
      "image/png": "[encoded data removed]",
      "text/plain": [
       "<IPython.core.display.Image object>"
      ]
     },
     "execution_count": 12,
     "metadata": {},
     "output_type": "execute_result"
    }
   ],
   "source": [
    "title = shaoscript('#This is a title')\n",
    "#title.widget\n",
    "Image(filename='shaolin_syntax_data/img_9.png')"
   ]
  },
  {
   "cell_type": "code",
   "execution_count": 13,
   "metadata": {
    "collapsed": false
   },
   "outputs": [
    {
     "data": {
      "image/png": "[encoded data removed]",
      "text/plain": [
       "<IPython.core.display.Image object>"
      ]
     },
     "execution_count": 13,
     "metadata": {},
     "output_type": "execute_result"
    }
   ],
   "source": [
    "title = shaoscript('##This is a subtitle')\n",
    "#title.widget\n",
    "Image(filename='shaolin_syntax_data/img_10.png')"
   ]
  },
  {
   "cell_type": "code",
   "execution_count": 14,
   "metadata": {
    "collapsed": false
   },
   "outputs": [
    {
     "data": {
      "image/png": "[encoded data removed]",
      "text/plain": [
       "<IPython.core.display.Image object>"
      ]
     },
     "execution_count": 14,
     "metadata": {},
     "output_type": "execute_result"
    }
   ],
   "source": [
    "title = shaoscript('###This is strong')\n",
    "#title.widget\n",
    "Image(filename='shaolin_syntax_data/img_11.png')"
   ]
  },
  {
   "cell_type": "code",
   "execution_count": null,
   "metadata": {
    "collapsed": true
   },
   "outputs": [],
   "source": []
  }
 ],
 "metadata": {
  "kernelspec": {
   "display_name": "Python 3",
   "language": "python",
   "name": "python3"
  },
  "language_info": {
   "codemirror_mode": {
    "name": "ipython",
    "version": 3
   },
   "file_extension": ".py",
   "mimetype": "text/x-python",
   "name": "python",
   "nbconvert_exporter": "python",
   "pygments_lexer": "ipython3",
   "version": "3.5.1"
  },
  "widgets": {
   "state": {
    "058697d8da09433080fa2845c38ce2df": {
     "views": []
    },
    "08a9c48d7c194a118bf0451db6484a7f": {
     "views": []
    },
    "0ead9275785f46b9811d304c228f81c7": {
     "views": []
    },
    "129f4da234bc423ea98cae6ffa04b2cc": {
     "views": []
    },
    "1346d3b8ca2d4d9ba8630406b0ea9e62": {
     "views": []
    },
    "1525c98e34164b678a4191205ba31e7b": {
     "views": []
    },
    "15db7065c2c74798b7f442e928d76d56": {
     "views": []
    },
    "18007cdac2ca40f3be89327a34100019": {
     "views": []
    },
    "1a3dc5cb28934511b1e395af21a4e763": {
     "views": []
    },
    "1c44609fd9fb4255b581ccfb4dad58fb": {
     "views": []
    },
    "200536e896c94d63a4da24857d099f06": {
     "views": []
    },
    "207474a1b40342e0862e71ee5841aa36": {
     "views": []
    },
    "2809f3235f9247f3b756cfce44b4be8e": {
     "views": []
    },
    "2820572c6d4d4c5aaf8cd9e70b831dec": {
     "views": []
    },
    "2922e41c0f9c4e5691e859734c1b1dbd": {
     "views": []
    },
    "2ee4c57148c6468e8ccb5d1f0e77f178": {
     "views": []
    },
    "2f64e59bbfd2448abb570087c9c9316a": {
     "views": []
    },
    "306b5d6bbf304e72af1f542ed2345d9a": {
     "views": []
    },
    "3530d670dfe24581804e464b43592668": {
     "views": []
    },
    "3b26ea266071451abceeef1ee44037a1": {
     "views": []
    },
    "412caec9d45b4cc682611a2408a45d1d": {
     "views": []
    },
    "42ba630adb9343818b34411c9be4f8f9": {
     "views": []
    },
    "4646f46ee12c47d5bdebcf229b2c152e": {
     "views": []
    },
    "46b90330339d4a7ea4c5e3d83c52b14b": {
     "views": []
    },
    "46cfcf40757547aa9723f9cc1d4c097c": {
     "views": []
    },
    "52217a4a212d43b6b2dec81464dd4dd3": {
     "views": []
    },
    "554914d8df4e4b14b7e13552092918d3": {
     "views": []
    },
    "580598e2a8454fafb49a8f1bcd5701a5": {
     "views": []
    },
    "5c3f203be89d4481a8c4bc4ed70ff151": {
     "views": []
    },
    "64496e42ede94754a2cd1f8fa84fc29a": {
     "views": []
    },
    "67c5f665539a4fd4ab38e7fc1cc8c48e": {
     "views": []
    },
    "6bba123cdaf94e3d817417fab3c2147a": {
     "views": []
    },
    "6bec1794a05544b8a12b6a8265910247": {
     "views": []
    },
    "6bfab44ba360466495dd04be4f4482c3": {
     "views": []
    },
    "6d79420b259e4069a893d7b084511158": {
     "views": []
    },
    "700a228fbc4240b5a8483d60fa1981a2": {
     "views": []
    },
    "70512eea24ee4306bb2aa905ca9a9ad3": {
     "views": []
    },
    "70be2e8d1a184f2e9dc3f3bbf4595554": {
     "views": []
    },
    "7295383269fe49cba23c0dba858bd2df": {
     "views": []
    },
    "7eb8c5ac3b3d40af9f265a897eb98090": {
     "views": []
    },
    "7fb57a1eeda94a0c88e7254d8cae8f8a": {
     "views": []
    },
    "831eb53a050c4051972510a6481d8a3e": {
     "views": []
    },
    "8445dc19e2914c189b8bc8b7afde6656": {
     "views": []
    },
    "87976cc5864f4da886cff6c68e66ad68": {
     "views": []
    },
    "8b9ae1fc399042729de8fc52a94ca4f0": {
     "views": []
    },
    "8d07eda854fb49a8ac5ccab8612cbe9b": {
     "views": []
    },
    "8dbe93f60ace4380a2a8e7bc14c2fa27": {
     "views": []
    },
    "904d961cb0d846139e0153566c2fca5b": {
     "views": []
    },
    "9244af02e43444ca8f42c64286bb3a2d": {
     "views": []
    },
    "985304a387ff472a88055b3ba0fe6b1e": {
     "views": []
    },
    "9b82f32383e34b3a8edc427a99435545": {
     "views": []
    },
    "9b913420589c43ff85cb9fed52b61e78": {
     "views": []
    },
    "9c48db37c92e4f0c8a51e05c618f9eec": {
     "views": []
    },
    "a04db7a4f66d4264960faf82bde10913": {
     "views": []
    },
    "a7998381c4634c72bebc9ce98c9fe609": {
     "views": []
    },
    "aaa97b56a3374848865f2b0ef716e8d7": {
     "views": []
    },
    "ad6105d1bbb44e1e89c4d2078b1c8c20": {
     "views": []
    },
    "b61171f1a3c94b8d9f8da3e1a79b8cb9": {
     "views": []
    },
    "b824330af7a7478da3389338794daf1f": {
     "views": []
    },
    "b96d28cdf375487dab6f54968f177a6d": {
     "views": []
    },
    "ba788b2397364fa1b58dc9208913912e": {
     "views": []
    },
    "bf5bf8101f44475ea0513f5c321f50a2": {
     "views": []
    },
    "c3ed1e5ecb674e6ab77d1765faafbee0": {
     "views": []
    },
    "c93c29c88f7a46418a2ce36e1c4e37a3": {
     "views": []
    },
    "cacae28d871a4e5ea8096cced496e231": {
     "views": []
    },
    "cf13a31045f84551a9b14aa2a339ea4f": {
     "views": []
    },
    "d2581482cd4742fcb6a042995f2d7d20": {
     "views": []
    },
    "d274d43fffc0486a88d194a6b420b911": {
     "views": []
    },
    "d603ad891a2f4c56b0a262d07da91c0d": {
     "views": []
    },
    "dbdbfac28c9946549a8b081d002aacd8": {
     "views": []
    },
    "dbfbfdfda0b0442aadd887b8b799b518": {
     "views": []
    },
    "dfe987a3da5b430d8c342dc689b5cdf8": {
     "views": []
    },
    "e2c2f8b2ff614498a4c058e03f2afdc6": {
     "views": []
    },
    "e3ecbe6b33d449c286a81048302c02d2": {
     "views": []
    },
    "eb8df01931af425c9c69d1cb34a0993c": {
     "views": []
    },
    "f10f58de37354adcb8f647f675a070b4": {
     "views": []
    },
    "f12c60b9664841858b3e25de0be74be2": {
     "views": []
    },
    "f8a2052fdd16440297e4fdc77cd1a0fb": {
     "views": []
    },
    "f97838c076d24686b23aa83a4fa6d5b4": {
     "views": []
    },
    "fb7b3b7d21ea4daab6d418ec618747be": {
     "views": []
    },
    "fc94af71378449778257a60352ae3b8c": {
     "views": []
    },
    "fd47da18a62647b98911675560077766": {
     "views": []
    }
   },
   "version": "1.1.2"
  }
 },
 "nbformat": 4,
 "nbformat_minor": 0
}
