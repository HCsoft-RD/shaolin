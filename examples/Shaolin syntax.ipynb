{
 "cells": [
  {
   "cell_type": "code",
   "execution_count": 1,
   "metadata": {
    "collapsed": true
   },
   "outputs": [],
   "source": [
    "import sys\n",
    "path =\"/home/sergio/github/shaolin-master\"\n",
    "sys.path.append(path)"
   ]
  },
  {
   "cell_type": "markdown",
   "metadata": {},
   "source": [
    "# Introduction to Shaolin"
   ]
  },
  {
   "cell_type": "markdown",
   "metadata": {},
   "source": [
    "<a id='index'></a>"
   ]
  },
  {
   "cell_type": "markdown",
   "metadata": {},
   "source": [
    "## Index "
   ]
  },
  {
   "cell_type": "markdown",
   "metadata": {},
   "source": [
    "- [1 Introduction](#intro)\n",
    "- [2 Widget Basics](#widget_basics)\n",
    "   - [2.1 Structure](#widget_structure)\n",
    "   - [2.2 Attributes](#widget_attributes)\n",
    "   - [2.3 Creation](#widget_creation)\n",
    "       - [2.3.1 Using the Widget class](#widget_creation_class)\n",
    "       - [2.3.2 Using shaoscript](#widget_creation_shaoscript)\n",
    "- [3 Shaoscript](#shaoscript)\n",
    "   - [3.1 widget object](#shaoscript)\n",
    "   - [3.2 Object notation](#object_notation)\n",
    "   - [3.3 String notation](#string_notation)\n",
    "   - [3.4 Parameters](#string_notation_parameters)\n",
    "\n",
    "- [4 Dashboard Basics](#dashboard_basics)\n",
    "   - [4.1 Types](#dashboard_types)\n",
    "   - [4.2 Structure](#dashboard_structure)\n",
    "   - [4.3 Attributes](#dashboard_attributes)\n",
    "   - [4.4 Functions](#dashboard_functions)\n",
    "\n"
   ]
  },
  {
   "cell_type": "markdown",
   "metadata": {},
   "source": [
    "<a id='introduction'></a>"
   ]
  },
  {
   "cell_type": "markdown",
   "metadata": {},
   "source": [
    "# 1 Introduction"
   ]
  },
  {
   "cell_type": "markdown",
   "metadata": {},
   "source": [
    "[Back to top](#index)"
   ]
  },
  {
   "cell_type": "markdown",
   "metadata": {},
   "source": [
    "**Shaolin** (**S**tructure **H**elper for d**A**shb**O**ards **LIN**king) is a framework that aims to simplify the process of writing  interactive dashboards. Shaolin can be seen as an interface that provides an additional layer of functionality to the ipywidgets library, extending its capabilities and providing en easier way to write complex GUIs composed of multiple widgets and different levels of interactivity.\n",
    "\n",
    "This framework is build around the concept of Dashboard. A Dashboard could be interpreted as \"black box\" object that can be completely managed trhough a GUI comprised of widgets that will allow us to interact with its internal code. A dashboard can be used to generate an arbitrary dictionary of parameters or it can also execute an arbitrary piece of code using its GUI to manage the code parameters.\n"
   ]
  },
  {
   "cell_type": "markdown",
   "metadata": {},
   "source": [
    "<a id='widget_basics'></a>"
   ]
  },
  {
   "cell_type": "markdown",
   "metadata": {},
   "source": [
    "# 2 Widgets Basics"
   ]
  },
  {
   "cell_type": "markdown",
   "metadata": {},
   "source": [
    "[Back to top](#index)"
   ]
  },
  {
   "cell_type": "markdown",
   "metadata": {},
   "source": [
    "A widget is the most basic component a Dashboard can have. A Shaolin widget is just a wrapper for an ipywidgets widget to decouple the shaolin framework from ipywidgets, improve scalability and making it easier to create a new widged using a minified syntax.\n",
    "\n",
    "Any widget compatible with the ipywidgets package can be used as a shaolin widget. [Here](http://ipywidgets.readthedocs.io/en/latest/examples/Widget%20List.html) you can fin a list of available widgets, but shaolin is also compatible with custom widgets.\n"
   ]
  },
  {
   "cell_type": "markdown",
   "metadata": {},
   "source": [
    "<a id='widget_structure'></a>"
   ]
  },
  {
   "cell_type": "markdown",
   "metadata": {},
   "source": [
    "## 2.1 Widget structure"
   ]
  },
  {
   "cell_type": "markdown",
   "metadata": {},
   "source": [
    "A Shaolin Widget is an object that mimics the ipywidgets interface and adds additional functionality. Its displayed using its widget attribute and internally it has two main elements:\n",
    "\n",
    "- **widget**: An ipywidgets.Box that wraps an ipywidgets widget called target.\n",
    "- **target**: A widget compatible with ipywidgets.\n",
    "\n"
   ]
  },
  {
   "cell_type": "markdown",
   "metadata": {},
   "source": [
    "The following code is mean to illustrate the structure of a Shaolin widget:"
   ]
  },
  {
   "cell_type": "code",
   "execution_count": 2,
   "metadata": {
    "collapsed": false
   },
   "outputs": [
    {
     "data": {
      "text/plain": [
       "(ipywidgets.widgets.widget_box.Box,\n",
       " ipywidgets.widgets.widget_float.FloatSlider)"
      ]
     },
     "execution_count": 2,
     "metadata": {},
     "output_type": "execute_result"
    }
   ],
   "source": [
    "from IPython.display import Image #this is for displaying the widgets in the web version of the notebook\n",
    "from shaolin.core.shaoscript import shaoscript\n",
    "wid = shaoscript('fs') #this creates a FloatSlider widget\n",
    "\n",
    "type(wid.widget), type(wid.target)"
   ]
  },
  {
   "cell_type": "code",
   "execution_count": 15,
   "metadata": {
    "collapsed": false
   },
   "outputs": [
    {
     "data": {
      "image/png": "[encoded data removed]",
      "text/plain": [
       "<IPython.core.display.Image object>"
      ]
     },
     "execution_count": 15,
     "metadata": {},
     "output_type": "execute_result"
    }
   ],
   "source": [
    "wid.target.layout.border = 'red solid'\n",
    "wid.widget.layout.border = 'blue solid'\n",
    "#wid.widget\n",
    "Image(filename='shaolin_syntax_data/img_1.png')"
   ]
  },
  {
   "cell_type": "markdown",
   "metadata": {},
   "source": [
    "<a id='widget_attributes'></a>"
   ]
  },
  {
   "cell_type": "markdown",
   "metadata": {},
   "source": [
    "## 2.2 Widget attributes"
   ]
  },
  {
   "cell_type": "markdown",
   "metadata": {},
   "source": [
    "As all the interactive logic will be using the target attribute a set of aliases and functions have been defined in order to simplify accessing the most common widget attributes. A widget has the following aliases:\n",
    "\n",
    "- **value**: widget.target.value\n",
    "- **options**: widget.target.options\n",
    "- **orientation**: widget.target.orientation\n",
    "- **visible**: Mimics the old ipywidgets interface. A True value will make a widget visible and a False value will hide it."
   ]
  },
  {
   "cell_type": "markdown",
   "metadata": {},
   "source": [
    "<a id='widget_creation'></a>"
   ]
  },
  {
   "cell_type": "markdown",
   "metadata": {},
   "source": [
    "## 2.3 Widget creation"
   ]
  },
  {
   "cell_type": "markdown",
   "metadata": {},
   "source": [
    "[Back to top](#index)"
   ]
  },
  {
   "cell_type": "markdown",
   "metadata": {},
   "source": [
    "Although using shaoscript to create a widget is the recommended way of instantiating a widget this can also be done usgint the shaolin widget class directly as a wrapper for an ipywidget Widget. "
   ]
  },
  {
   "cell_type": "markdown",
   "metadata": {},
   "source": [
    "<a id='widget_creation_class'></a>"
   ]
  },
  {
   "cell_type": "markdown",
   "metadata": {},
   "source": [
    "### 2.3.1 Using the Widget class"
   ]
  },
  {
   "cell_type": "markdown",
   "metadata": {},
   "source": [
    "A shaolin widget can be instantiated using the Widget object from the shaolin.core module. All the attributes passed besides the widget type are meant to be passed to the target widget."
   ]
  },
  {
   "cell_type": "code",
   "execution_count": 4,
   "metadata": {
    "collapsed": true
   },
   "outputs": [],
   "source": [
    "from shaolin.core.widgets import Widget\n",
    "import ipywidgets as widgets"
   ]
  },
  {
   "cell_type": "code",
   "execution_count": 17,
   "metadata": {
    "collapsed": false
   },
   "outputs": [
    {
     "data": {
      "image/png": "[encoded data removed]",
      "text/plain": [
       "<IPython.core.display.Image object>"
      ]
     },
     "execution_count": 17,
     "metadata": {},
     "output_type": "execute_result"
    }
   ],
   "source": [
    "class_wid = Widget(widgets.FloatSlider, description='Fs', value=15.3)\n",
    "\n",
    "target_kwargs = {'orientation':'vertical',\n",
    "          'value':13.,\n",
    "          'description':'Example'\n",
    "         }\n",
    "class_wid2 = Widget(widgets.FloatSlider,**target_kwargs)\n",
    "#widgets.HBox(children = [class_wid2.widget,class_wid.widget])\n",
    "Image(filename='shaolin_syntax_data/img_2.png')"
   ]
  },
  {
   "cell_type": "markdown",
   "metadata": {},
   "source": [
    "<a id='widget_creation_shaoscript'></a>"
   ]
  },
  {
   "cell_type": "markdown",
   "metadata": {},
   "source": [
    "### 2.3.2 Using shaoscript"
   ]
  },
  {
   "cell_type": "markdown",
   "metadata": {},
   "source": [
    "The recommended way for creating a shaolin widget is using what is called shaoscript. Shaoscript is a minified syntax that allows for faster widget creation. This can be done the following way:"
   ]
  },
  {
   "cell_type": "code",
   "execution_count": 19,
   "metadata": {
    "collapsed": false
   },
   "outputs": [
    {
     "data": {
      "image/png": "[encoded data removed]",
      "text/plain": [
       "<IPython.core.display.Image object>"
      ]
     },
     "execution_count": 19,
     "metadata": {},
     "output_type": "execute_result"
    }
   ],
   "source": [
    "from shaolin.core.shaoscript import shaoscript\n",
    "\n",
    "wid = shaoscript('fs') #this creates a FloatSlider widget\n",
    "#wid.widget\n",
    "Image(filename='shaolin_syntax_data/img_3.png')"
   ]
  },
  {
   "cell_type": "markdown",
   "metadata": {},
   "source": [
    "<a id='shaoscript'></a>"
   ]
  },
  {
   "cell_type": "markdown",
   "metadata": {},
   "source": [
    "# 3 Shaoscript"
   ]
  },
  {
   "cell_type": "markdown",
   "metadata": {},
   "source": [
    "[Back to top](#index)"
   ]
  },
  {
   "cell_type": "markdown",
   "metadata": {},
   "source": [
    "There are two ways of creating a Shaolin widget using shaoscript:"
   ]
  },
  {
   "cell_type": "markdown",
   "metadata": {},
   "source": [
    "<a id='object_notation'></a>"
   ]
  },
  {
   "cell_type": "markdown",
   "metadata": {},
   "source": [
    "## 3.1 Object notation"
   ]
  },
  {
   "cell_type": "markdown",
   "metadata": {},
   "source": [
    "The object notation is an extension of the syntax used for the [interact function](http://ipywidgets.readthedocs.io/en/latest/examples/Using%20Interact.html) of the ipywidgets package that allows to define a numeric or boolean widget by passing a python object (a tuple or a list). this object is called an object notation word.\n",
    "\n",
    "The syntax rules fro creating widgets using object notation are the following:"
   ]
  },
  {
   "cell_type": "markdown",
   "metadata": {},
   "source": [
    "- ### Slider widgets\n",
    "\n",
    "    - #### Data types\n",
    "         Set by the element of the tuple containing the value parameter.\n",
    "         Compatible types are:\n",
    "\n",
    "         - **float** --> FloatSlider widget.\n",
    "         - **int** --> IntSlider widget.\n",
    "         - **tuple of int** --> IntRangeSlider widet.\n",
    "         - **tuple of float** --> FloatRangeSlider widet.\n",
    "\n",
    "    - #### Syntax\n",
    "         - Extended object notation: **(min,max,step,value)**\n",
    "         - Compact notation: **(value)**"
   ]
  },
  {
   "cell_type": "code",
   "execution_count": 20,
   "metadata": {
    "collapsed": false
   },
   "outputs": [
    {
     "data": {
      "image/png": "[encoded data removed]",
      "text/plain": [
       "<IPython.core.display.Image object>"
      ]
     },
     "execution_count": 20,
     "metadata": {},
     "output_type": "execute_result"
    }
   ],
   "source": [
    "extended_islid = shaoscript(1)\n",
    "compact_islid = shaoscript((0,10,1,5))\n",
    "#widgets.HBox(children=[extended_islid.widget,compact_islid.widget])\n",
    "Image(filename='shaolin_syntax_data/img_4.png')"
   ]
  },
  {
   "cell_type": "markdown",
   "metadata": {},
   "source": [
    "- ### Numeric text box widgets\n",
    "\n",
    "    - #### Data types\n",
    "         Set by the element of the list containing the value parameter.\n",
    "         Compatible types are:\n",
    "\n",
    "         - **list of float** --> FloatText widget.\n",
    "         - **list of int** --> IntText widget.\n",
    "\n",
    "    - #### Syntax\n",
    "         - Extended object notation: **[min,max,value]**:\n",
    "         - Compact notation: **[value]**"
   ]
  },
  {
   "cell_type": "code",
   "execution_count": 8,
   "metadata": {
    "collapsed": true
   },
   "outputs": [],
   "source": [
    "extended_ftxt = shaoscript([1.])\n",
    "compact_ftxt = shaoscript([0.,10.,2.16])\n",
    "#widgets.HBox(children=[extended_ftxt.widget,compact_ftxt.widget])\n",
    "Image(filename='shaolin_syntax_data/img_5.png')"
   ]
  },
  {
   "cell_type": "markdown",
   "metadata": {},
   "source": [
    "- ### Boolean widgets:\n",
    "    - #### Data types:\n",
    "         Value must be a bool.\n",
    "\n",
    "         - **True,False** --> Checkbox widget.\n",
    "         - **tuple** --> Checkbox widget.\n",
    "         - **list** --> ToggleButton widet.\n",
    "         - **[(bool,)]** --> Valid Widget\n",
    "\n",
    "    - #### CheckBox\n",
    "         - Extended object notation:\n",
    "           - **(value,description)**, \n",
    "           - **(value)**\n",
    "         - Compact notation: **value**\n",
    "\n",
    "    - #### ToggleButton\n",
    "         - Extended object notation:\n",
    "           **[value, description]**\n",
    "         - Compact notation: **[value]**\n",
    "\n",
    "    - #### Valid\n",
    "         - Compact notation:\n",
    "           - **[[value]]**\n",
    "           - **[(value,)]**"
   ]
  },
  {
   "cell_type": "code",
   "execution_count": 21,
   "metadata": {
    "collapsed": false
   },
   "outputs": [
    {
     "data": {
      "image/png": "[encoded data removed]",
      "text/plain": [
       "<IPython.core.display.Image object>"
      ]
     },
     "execution_count": 21,
     "metadata": {},
     "output_type": "execute_result"
    }
   ],
   "source": [
    "checkbox = shaoscript(True)\n",
    "checkbx_2 = shaoscript((True,'check'))\n",
    "togglebutton = shaoscript([False, 'toggle'])\n",
    "valid = shaoscript([[False]])\n",
    "#widgets.HBox(children=[checkbox.widget,checkbx_2.widget, togglebutton.widget,valid.widget])\n",
    "Image(filename='shaolin_syntax_data/img_6.png')"
   ]
  },
  {
   "cell_type": "markdown",
   "metadata": {},
   "source": [
    "- ### Options widgets:\n",
    "\n",
    "    - #### Data types\n",
    "         - **tuple** --> Dropdown widget.\n",
    "         - **list** --> SelectMultiple widget.\n",
    "         \n",
    "    - #### Dropdown\n",
    "\n",
    "        - Extended object notation:\n",
    "          **(options,value)**\n",
    "        - Compact notation: **(options)**\n",
    "\n",
    "    - #### SelectMultiple\n",
    "\n",
    "        - Extended object notation:\n",
    "          **[options,value]**\n",
    "        - Compact notation: **[options]**\n",
    "\n",
    "    "
   ]
  },
  {
   "cell_type": "code",
   "execution_count": 23,
   "metadata": {
    "collapsed": false,
    "scrolled": false
   },
   "outputs": [
    {
     "data": {
      "image/png": "[encoded data removed]",
      "text/plain": [
       "<IPython.core.display.Image object>"
      ]
     },
     "execution_count": 23,
     "metadata": {},
     "output_type": "execute_result"
    }
   ],
   "source": [
    "ddown = shaoscript((['opt1','opt2'],'opt1'))\n",
    "selmul = shaoscript([('opt1','opt2'),('opt1',)])\n",
    "\n",
    "#widgets.HBox(children=[ddown.widget,selmul.widget])\n",
    "Image(filename='shaolin_syntax_data/img_7.png')"
   ]
  },
  {
   "cell_type": "markdown",
   "metadata": {},
   "source": [
    "<a id='string_notation'></a>"
   ]
  },
  {
   "cell_type": "markdown",
   "metadata": {},
   "source": [
    "## 3.2 String notation"
   ]
  },
  {
   "cell_type": "markdown",
   "metadata": {},
   "source": [
    "[Back to top](#index)"
   ]
  },
  {
   "cell_type": "markdown",
   "metadata": {},
   "source": [
    "Any Shaolin Widget can be created passing a string as a shaoscript parameter. This is the recommended way of instantiating widgets and the only way a Dashboard component can be stated. A widget can be created using its string keyword or a string which its literal evaluation is an object notation word.\n",
    "\n",
    "Each type of widget has multiple valid aliases. The available words for defining each type of widget are:"
   ]
  },
  {
   "cell_type": "markdown",
   "metadata": {},
   "source": [
    "- ### **Layout and Markdown**\n",
    "    - **HBox** -->   ['r', 'row', 'HBox', 'R', 'Box', 'H']\n",
    "    - **VBox** --> ['c', 'col', 'column', 'VBox', 'V']\n",
    "    - **Title** --> ['title', 'h1', '#', 't']\n",
    "    - **SubTitle** --> ['subtitle', 'h2', '##', 'sub', 's']\n",
    "    - **SubSubTitle** --> ['subsubtitle', 'h3', '###', 'subsub', 'ss']\n",
    "- ### Numeric widgets\n",
    "    - **FloatSlider** --> ['float_slider', 'floatslider', 'fsld', 'fs']\n",
    "    - **IntSlider** --> ['int_slider', 'intslider', 'isld', 'is']\n",
    "    - **FloatText** --> ['float_text', 'floattext', 'ftxt', 'ft']\n",
    "    - **IntText** -->  ['int_text', 'inttext', 'itxt', 'it']\n",
    "    - **FloatRange** --> ['float_range', 'floatprogress', 'fprog', 'fp']\n",
    "    - **IntRange** --> ['int_range', 'intrange', 'irng', 'ir']\n",
    "    - **FloatProgress** --> ['float_progress', 'floatprogress', 'fprog', 'fp']\n",
    "    - **IntProgress** --> ['int_progress', 'intprogress', 'iprog', 'ip']\n",
    "- ### Boolean widgets:\n",
    "    - **ToggleButton** --> ['toggle_button', 'toggle', 'tog']\n",
    "    - **Other boolean widgets** --> Use an object notation compliant string.\n",
    "- ### Selection widgets\n",
    "    - **Select** --> ['select', 'sel']\n",
    "    - **SelectMultiple** --> ['select_multiple', 'selmul', 'sm']\n",
    "    - **SelectionSlider** --> ['selection_slider', 'selslider', 'ss']\n",
    "    - **Dropdown** --> ['dropdown', 'dd', 'ddown'\n",
    "    - **ToggleButtons** --> ['toggle_buttons', 'toggles', 'togs']\n",
    "    - **RadioButtons** --> ['radio_buttons', 'radio', 'rad','rs']\n",
    "- ### String widgets\n",
    "    - **Text** --> ['text', 'txt','str','string']\n",
    "    - **TextArea** --> ['TextArea', 'texta', 'textarea', 'text_area']\n",
    "- ### Other widgets\n",
    "    - **HTML** --> ['html', 'HTML']\n",
    "    - **ColorPicker** --> ['color', 'colorpicker','cp','cpicker']\n",
    "    - **Button** --> ['button', 'btn', 'b']\n",
    "    - **Label** --> Any other value."
   ]
  },
  {
   "cell_type": "markdown",
   "metadata": {},
   "source": [
    "<a id='string_notation_parameters'></a>"
   ]
  },
  {
   "cell_type": "markdown",
   "metadata": {},
   "source": [
    "### 3.3 String notation with parameters"
   ]
  },
  {
   "cell_type": "markdown",
   "metadata": {},
   "source": [
    "It is also possible to set the parameters of the widgets using string notation. This way it's easier and shorter to instantiate a widget with non default params. \n",
    "\n",
    "The syntax for writing a string notation widget with custom parameters is the following:"
   ]
  },
  {
   "cell_type": "markdown",
   "metadata": {},
   "source": [
    "<img src=\"syntax_color.png\"></img>"
   ]
  },
  {
   "cell_type": "markdown",
   "metadata": {},
   "source": [
    "This means that the widget name provided as a string representation of the object notation or its string notation will be separated from the parameters by a dollar sign $ and each of the parameters will be separated by an & sign.\n",
    "\n",
    "In a general case the name of the parameter and its value will be separated by a = sign, and the value will be a literal evaluation of the string. "
   ]
  },
  {
   "cell_type": "markdown",
   "metadata": {},
   "source": [
    "<a id='parameters'></a>"
   ]
  },
  {
   "cell_type": "markdown",
   "metadata": {},
   "source": [
    "## 3.4 Parameters"
   ]
  },
  {
   "cell_type": "markdown",
   "metadata": {},
   "source": [
    "[Back to top](#index)"
   ]
  },
  {
   "cell_type": "markdown",
   "metadata": {},
   "source": [
    "There are some of the most common parameters that have special shorcuts in order to save tiem when defining a widget. These are the parameters that behave in a non default way:"
   ]
  },
  {
   "cell_type": "markdown",
   "metadata": {},
   "source": [
    "- **name**\n",
    "    - alias: name, n, N\n",
    "    - parsing: as string (No need to write string quotes)\n",
    "- **description**\n",
    "    - alias: description, d ,D\n",
    "    - parsing: as string. Setting the description and not the name will set the name param as \"description\".lower().replace(\" \",\"_\")\n",
    "- **visible**\n",
    "    - alias: visible, vis, v\n",
    "    - parsing: 0, False as False, else True\n",
    "- **orientation**\n",
    "    - alias: orientation, ori\n",
    "    - parsing: as string. if val in ['v', 'vertical'] val='vertical' elif val in ['h','horizontal'] val='horizontal'\n",
    "- **value**\n",
    "    - alias: value, val\n",
    "    - parsing: literal evaluation.\n",
    "- **mode**\n",
    "    - aias: mode, m\n",
    "    - parsing: as string.\n"
   ]
  },
  {
   "cell_type": "markdown",
   "metadata": {},
   "source": [
    "<a id='examples'></a>"
   ]
  },
  {
   "cell_type": "markdown",
   "metadata": {},
   "source": [
    "# 4 Examples"
   ]
  },
  {
   "cell_type": "markdown",
   "metadata": {},
   "source": [
    "[Back to top](#index)"
   ]
  },
  {
   "cell_type": "markdown",
   "metadata": {},
   "source": [
    "Here are some examples of using a widget with shaoscript versus using the standard ipywidgets package for defining them."
   ]
  },
  {
   "cell_type": "markdown",
   "metadata": {},
   "source": [
    "<a id='examples_sliders'></a>"
   ]
  },
  {
   "cell_type": "markdown",
   "metadata": {},
   "source": [
    "## 4.1 sliders with different sintaxes"
   ]
  },
  {
   "cell_type": "code",
   "execution_count": 24,
   "metadata": {
    "collapsed": false
   },
   "outputs": [
    {
     "data": {
      "image/png": "[encoded data removed]",
      "text/plain": [
       "<IPython.core.display.Image object>"
      ]
     },
     "execution_count": 24,
     "metadata": {},
     "output_type": "execute_result"
    }
   ],
   "source": [
    "fs_wid = widgets.FloatSlider(description='slider',\n",
    "                             min=3.14,\n",
    "                             max=15,\n",
    "                             step=0.16,\n",
    "                             value=6.0290\n",
    "                            )\n",
    "fs_shao_objn = shaoscript('(3.14,15,0.16,6.0290)$d=slider')#object notation\n",
    "fs_shao_strn = shaoscript('fs$d=slider&min=3.14&max=15&step=0.16&val=6.0290')#string notation\n",
    "#widgets.HBox(children=[fs_wid,fs_shao_objn.widget,fs_shao_strn.widget])\n",
    "Image(filename='shaolin_syntax_data/img_8.png')"
   ]
  },
  {
   "cell_type": "markdown",
   "metadata": {},
   "source": [
    "<a id='examples_markdown'></a>"
   ]
  },
  {
   "cell_type": "markdown",
   "metadata": {},
   "source": [
    "## 4.2 Markdown"
   ]
  },
  {
   "cell_type": "markdown",
   "metadata": {},
   "source": [
    "It is possible to write a shorcut por creating different kinds of text widgets according to markdown syntax"
   ]
  },
  {
   "cell_type": "code",
   "execution_count": 25,
   "metadata": {
    "collapsed": false
   },
   "outputs": [
    {
     "data": {
      "image/png": "[encoded data removed]",
      "text/plain": [
       "<IPython.core.display.Image object>"
      ]
     },
     "execution_count": 25,
     "metadata": {},
     "output_type": "execute_result"
    }
   ],
   "source": [
    "title = shaoscript('#This is a title')\n",
    "#title.widget\n",
    "Image(filename='shaolin_syntax_data/img_9.png')"
   ]
  },
  {
   "cell_type": "code",
   "execution_count": 26,
   "metadata": {
    "collapsed": false
   },
   "outputs": [
    {
     "data": {
      "image/png": "[encoded data removed]",
      "text/plain": [
       "<IPython.core.display.Image object>"
      ]
     },
     "execution_count": 26,
     "metadata": {},
     "output_type": "execute_result"
    }
   ],
   "source": [
    "title = shaoscript('##This is a subtitle')\n",
    "#title.widget\n",
    "Image(filename='shaolin_syntax_data/img_10.png')"
   ]
  },
  {
   "cell_type": "code",
   "execution_count": 27,
   "metadata": {
    "collapsed": false
   },
   "outputs": [
    {
     "data": {
      "image/png": "[encoded data removed]",
      "text/plain": [
       "<IPython.core.display.Image object>"
      ]
     },
     "execution_count": 27,
     "metadata": {},
     "output_type": "execute_result"
    }
   ],
   "source": [
    "title = shaoscript('###This is strong')\n",
    "#title.widget\n",
    "Image(filename='shaolin_syntax_data/img_11.png')"
   ]
  }
 ],
 "metadata": {
  "kernelspec": {
   "display_name": "Python 3",
   "language": "python",
   "name": "python3"
  },
  "language_info": {
   "codemirror_mode": {
    "name": "ipython",
    "version": 3
   },
   "file_extension": ".py",
   "mimetype": "text/x-python",
   "name": "python",
   "nbconvert_exporter": "python",
   "pygments_lexer": "ipython3",
   "version": "3.5.1"
  },
  "widgets": {
   "state": {
    "02e59f86b1304c7ca410ecc823c913e7": {
     "views": []
    },
    "04a954b701764f2d8c980b172c93490d": {
     "views": []
    },
    "0509faf01ba24ec99055e23e97134c98": {
     "views": []
    },
    "06e9daeb164a4eb59d3e8ca6654517c5": {
     "views": []
    },
    "08948860c9ec413090777d8cfc659abf": {
     "views": []
    },
    "0a422b43491146c78397cee90db77ddb": {
     "views": []
    },
    "0a472f767d7344f3835440328a4419fa": {
     "views": []
    },
    "0b9fc2c8f06b4d5fb90215394696fe00": {
     "views": []
    },
    "0c927d213cf54baf911a3a5c2c3d89ae": {
     "views": []
    },
    "0cccc00ef8184bffa5056868c5ff6100": {
     "views": []
    },
    "0e0c56f8cc9949e88332f531ca11a032": {
     "views": []
    },
    "0ef709ae686c408e86e432723ba4bbb7": {
     "views": []
    },
    "117f3e3988ca4945925ea400cf2a56a8": {
     "views": []
    },
    "1268ae2fb9924e25a6d2d045a4da48b2": {
     "views": []
    },
    "15a1c70615b948f79ad21904f5a2cd12": {
     "views": []
    },
    "17f5dea4d89444f485c930ee5c9db88f": {
     "views": []
    },
    "1adf5ef1b1834a29b76c3b99599eaf71": {
     "views": []
    },
    "1b9cdf2e84b9438eaa363336160ba3c6": {
     "views": []
    },
    "1c63beaf57244912bc8cecf4990a4d4d": {
     "views": []
    },
    "1cd4b1612ab74322ade330b1e16cb600": {
     "views": []
    },
    "1f6ffb254b3c40a48fc4301d7195e05e": {
     "views": []
    },
    "226009bc56cb4994aac9acf6c2b132f2": {
     "views": []
    },
    "2387a365c1eb428184d5a01bc3472fe0": {
     "views": []
    },
    "250672c5326e44c7b5c164a28521b4a3": {
     "views": []
    },
    "2655a42d41184a4baec0ff5b762e985a": {
     "views": []
    },
    "2857f62952294932a0e0b8fed9042933": {
     "views": []
    },
    "2c86473e40704bc4baee7e5e69deb3db": {
     "views": []
    },
    "2cb2c3fbb8c249adabe2fd4eb22f696a": {
     "views": []
    },
    "2d29dabf7ac84b4a84812231f682bc35": {
     "views": []
    },
    "303474dfb9764534a6e0f668c9b1dca8": {
     "views": []
    },
    "32a8e5c65c67413e92e5ec3bf961412b": {
     "views": []
    },
    "3428ffb46fc24354be1930a189beb1ad": {
     "views": []
    },
    "34bf0f76c0e148f3b9c624c697262124": {
     "views": []
    },
    "3509f497c76b47aeae4ef25e6197a5c3": {
     "views": []
    },
    "367e62f02600420f88ef2551b0808617": {
     "views": []
    },
    "369301aeea4d4e32880f661a53fcfa11": {
     "views": []
    },
    "374dd1e4b6ce40a891fc0e7481855ff9": {
     "views": []
    },
    "3769d472afe749669929f1f92272ea07": {
     "views": []
    },
    "395c66f869e24ff3a57d0d8b525fb6dc": {
     "views": []
    },
    "405ec282dbe547609fed2b1378515172": {
     "views": []
    },
    "40a285fa6e54457f8f453a6108556181": {
     "views": []
    },
    "41ed511fbf674fff8736018c3eb62770": {
     "views": []
    },
    "460d7eb7b7a14fa788b57eecc3f1d729": {
     "views": []
    },
    "466bf99bbde54196ba867d5ec842451d": {
     "views": []
    },
    "491c2f24c2824ecbacf7921079ed080a": {
     "views": []
    },
    "4b6f05e9801c445fb6a4788fe7668547": {
     "views": []
    },
    "4d1efe0ba17441b08738eff779a422da": {
     "views": []
    },
    "4de9611b904942cab7cd289b1b7c3dc5": {
     "views": []
    },
    "4ec67ee92edd443b90ade65f7a2b2b7f": {
     "views": []
    },
    "51327c9803df472388bc5b2623572279": {
     "views": []
    },
    "51f032c5e656467884e215c504f61a99": {
     "views": []
    },
    "5407cf7e755d46dfa9d14c5e10167f23": {
     "views": []
    },
    "54db691998d040c59838569083a7ca8d": {
     "views": []
    },
    "5649225e27da442696632360afb18f10": {
     "views": []
    },
    "56ddc9af5800408dac3132b181d91771": {
     "views": []
    },
    "57a9434218be44d390773432f8ba7166": {
     "views": []
    },
    "58259c441a75406b8818c94db3cc1059": {
     "views": []
    },
    "59e153873e664165bcb94951a0fdbd8c": {
     "views": []
    },
    "5a343f5bb3454696b36f3bcdb25dc099": {
     "views": []
    },
    "5cd1eb8e790c48fea9b7f8d90399fdc8": {
     "views": []
    },
    "600407f5ae00469891ea1158a4cecad9": {
     "views": []
    },
    "646d9d58fb26420ca1d7bd49c0be9ceb": {
     "views": []
    },
    "67a84609cd85451c982a80d3bbb0c6f2": {
     "views": []
    },
    "68287a1d8bde44b291f015e3a750deba": {
     "views": []
    },
    "685c111cd2b74825800ef484e2e27adc": {
     "views": []
    },
    "689353d8389f4364944a2ccb80383d29": {
     "views": []
    },
    "6a5fb91da4e94cc0960918b079fc9d9e": {
     "views": []
    },
    "6d7a304069f848198c373e7e91e27cd6": {
     "views": []
    },
    "6dd9ce86e731462f9b57235783db82cc": {
     "views": []
    },
    "6f8ebb50e41a499eb28d1521324615d5": {
     "views": []
    },
    "6f9e7872787548b1b2aae272baf1b651": {
     "views": []
    },
    "70391c7c6ffc4667868c0a6ad52f889a": {
     "views": []
    },
    "724b0cbfa7bb488d8d31882293f47ee7": {
     "views": []
    },
    "745abf07c634400481699dd8ad15ac72": {
     "views": []
    },
    "75ad8a3712cf43d4b47b8fe83b231bba": {
     "views": []
    },
    "76ab34b894794146a723ba08335b6a46": {
     "views": []
    },
    "7966d605ce2e4469b74284110753e06b": {
     "views": []
    },
    "7b6ec9d185de4120b44b06491bf07212": {
     "views": []
    },
    "7cf97ccfbfeb43bc967591490902f3d2": {
     "views": []
    },
    "7d2997038a29455e9fa0766e4cd3f29e": {
     "views": []
    },
    "7dc336d5836a40269c482a156fedfd2e": {
     "views": []
    },
    "7f42a79d04d3443abd69774c5c994da3": {
     "views": []
    },
    "7f51aee31fbc45b296d07020150ff290": {
     "views": []
    },
    "7fa22c5d66fd478a9a16a1a84a5f65df": {
     "views": []
    },
    "7ff803b2ba0547b386b458b1dd79dfd3": {
     "views": []
    },
    "815cec0eaa24456696d9cccde8839ce0": {
     "views": []
    },
    "8365f751b29c4a8f8e888245f37f6674": {
     "views": []
    },
    "87f03e4931644e8fb5f6058bc1ecd743": {
     "views": []
    },
    "88e5c968ad3b477c9bde6b023e61b4c4": {
     "views": []
    },
    "892550a785384f5c95076130f96f3593": {
     "views": []
    },
    "89cffd460b5c443cb9038942f698ecdd": {
     "views": []
    },
    "8b7feab34bd04ca8b1c311c32fb4a689": {
     "views": []
    },
    "8c93ad43f3af49d6aebe41b1276cf974": {
     "views": []
    },
    "8db6fa0f6c7143e6a7f3f4ba7dd18f19": {
     "views": []
    },
    "8dfabb9917254d77b4415053e1f79b70": {
     "views": []
    },
    "8eef1e4e61db47ec8c720447176b984e": {
     "views": []
    },
    "945824278d674c39a03927fea22e73b6": {
     "views": []
    },
    "94ad13f0512d49b29c30949611f35764": {
     "views": []
    },
    "96905745b7e84ef8af57e260f5be43a9": {
     "views": []
    },
    "9d43b83c8b7f4a998c7dce14b4cfe991": {
     "views": []
    },
    "9e7eb5ba9cc14d4e93df0fc67cbd6489": {
     "views": []
    },
    "a2404af1e21c4684921123f3b43bbad2": {
     "views": []
    },
    "a2cd225ba943400a9d830ac99eeab5a7": {
     "views": []
    },
    "a31f7b94ad494c1a970772d91ddae867": {
     "views": []
    },
    "a41a0b45b5b146d588a3cd9b353e807c": {
     "views": []
    },
    "a4d359d959124398941d0b815860b1a0": {
     "views": []
    },
    "a835db7fc43641bfa2a9febb7e9903ec": {
     "views": []
    },
    "ab791c4400864e82961d2a50f64633b7": {
     "views": []
    },
    "ac67f7c8d2c348cbbfe4158ce257b58b": {
     "views": []
    },
    "ae3e93d971d14e2b8684a4fe8ce7271e": {
     "views": []
    },
    "ae501efd10634ac694f8f313030dc447": {
     "views": []
    },
    "b29918c37f684fbab7bd284c539d828d": {
     "views": []
    },
    "b2a217479eb34d91bf986c30b39bdee5": {
     "views": []
    },
    "b32f801c996042399aca897707700f07": {
     "views": []
    },
    "b6b9231272b7412e8bddda02f1616dda": {
     "views": []
    },
    "b6debfecdb98460da1e439b014daee36": {
     "views": []
    },
    "b7bb03dcf4304774b6ef0cb4e6d43079": {
     "views": []
    },
    "ba2412d274994f1aad88ecf0adc9981b": {
     "views": []
    },
    "badd6dc56b16482fbcfda66141c2e912": {
     "views": []
    },
    "bbb59d2eff6e4542a93d7bc53d5d143d": {
     "views": []
    },
    "bc2661a9ee5d4991a0ed21b6003df5aa": {
     "views": []
    },
    "bc2d52e7e0d0429b8e43c63f460e3b45": {
     "views": []
    },
    "bc5ce5af6ff548808852e237c3e111cd": {
     "views": []
    },
    "bcec653f7ad24815ae1a8d9e6bed04fa": {
     "views": []
    },
    "be7c84b78a604efc90771cce1dc34ca9": {
     "views": []
    },
    "bf699dde6d4b484a8795122c1e0ef089": {
     "views": []
    },
    "c172be4036a741189fc39d359cfad5cc": {
     "views": []
    },
    "c3d152b436e843909ac15e642e9e41c4": {
     "views": []
    },
    "c4d3072fc6f341c49ddaab2a3aa4e7d4": {
     "views": []
    },
    "c4f234fe5c8f4803881a8c5ea57b4461": {
     "views": []
    },
    "c6fa7d2e02f04523919c5d47033f0b9d": {
     "views": []
    },
    "c8dec1541db2474783cd83b3ec96bd07": {
     "views": []
    },
    "c97fc7c6ccd24d798dd96291464a09d9": {
     "views": []
    },
    "cae4587ef13342cd840b8483c60d48d0": {
     "views": []
    },
    "cb4197336bff4fc18f53f4a84b63e58b": {
     "views": []
    },
    "cb77ddd8748f485696a0ab674e602598": {
     "views": []
    },
    "cbb38e692f944c9791698edf889f2721": {
     "views": []
    },
    "ccea1092e8c8402b9173094651f5b7f0": {
     "views": []
    },
    "ccf9d98f13834a8faed6777d9d259e36": {
     "views": []
    },
    "ccfb9d56ab354682bb4072997d46c9d1": {
     "views": []
    },
    "cd0ee23674274b76b9646593b70c2577": {
     "views": []
    },
    "cd5cd36c05544708b55250080b0ac919": {
     "views": []
    },
    "ce0987c7dad448c7a35690d3774fdb91": {
     "views": []
    },
    "ce218963d518442a93ea45f8c40fea7e": {
     "views": []
    },
    "cf8b6a697d344861becc42a5d46bbc36": {
     "views": []
    },
    "d014a5d335ea4df8b94bf07e84b55f5e": {
     "views": []
    },
    "d2bf06d577ac453aba3cc2c48193e7d7": {
     "views": [
      {
       "cell_index": 45
      }
     ]
    },
    "d407024af3474dbbaee692876a902491": {
     "views": []
    },
    "d40de2fabc994e43a0ae2d749c507eec": {
     "views": []
    },
    "d5a504509e3941b5a8f351b9152aa0d5": {
     "views": []
    },
    "d5fa139134cd449b877002fe3b11ce93": {
     "views": []
    },
    "d6a1b47a52b44bd09f918bb6235e6fc8": {
     "views": []
    },
    "dace44894aec4316a0eda8176dbc8ac1": {
     "views": []
    },
    "dafe80a5f18040e59949f8c83a9080a5": {
     "views": []
    },
    "db0b31da6fc54f52b128ff83e23bd378": {
     "views": []
    },
    "dec19c5e40004c4397fca50c93c4102b": {
     "views": []
    },
    "decd839b392744c6bace938e44889710": {
     "views": []
    },
    "df1f6d52d89a402aa09dd39b70fb8bc1": {
     "views": []
    },
    "e2d155f3181a47a19334acbed1052f63": {
     "views": []
    },
    "e31e1e303bd745aeb4a0a9a72077b297": {
     "views": []
    },
    "e45c605cdd3b452e993e9975e8858e5e": {
     "views": []
    },
    "e546f0874e5445a79ce970e07370e80c": {
     "views": []
    },
    "e7a66827a1674fb6a34c79462ea25c39": {
     "views": []
    },
    "e7f3c772845c44cdb29702aa58b4393c": {
     "views": []
    },
    "e8d52697198445a7bb6efc686ffe85cc": {
     "views": []
    },
    "e9f3731b85424c6497984c7815aebb2a": {
     "views": []
    },
    "ea5a1cf2a1774cea989b299a915e6659": {
     "views": []
    },
    "eca488d6de8647d5938c3272cf7dbdf5": {
     "views": []
    },
    "eccd5ddaad33458886b91cb0bf1fd35b": {
     "views": []
    },
    "ed8d528721be45e2b2d18b98fd535d44": {
     "views": []
    },
    "eef756505bd64f85a0a410e67f710eba": {
     "views": []
    },
    "ef398574034f44169f154b6b33611fa2": {
     "views": []
    },
    "f0ad401e18864bbf9f076baaf5129184": {
     "views": []
    },
    "f12ff2bd21d247dbb7430000855649fc": {
     "views": []
    },
    "f4ddbb94cadf404cbab7c177a90a1897": {
     "views": []
    },
    "f6ef512ab5864cf38e63f8c64253398e": {
     "views": []
    },
    "f8c26481f3ca4eadafbcc12339920505": {
     "views": []
    },
    "f9a3112def424732b7a1ee98cb642612": {
     "views": []
    },
    "f9e6b3c92dbc43b1930408b4573e8158": {
     "views": []
    },
    "fa4c6328e14f46718710987b552fe223": {
     "views": []
    },
    "fa80c2a601744321aa74e030d5a317c1": {
     "views": []
    },
    "fb9a1fbb40ac4079b189f4d3ee9bea1c": {
     "views": []
    },
    "fffc0c1a84f347388ccfd530c849c30a": {
     "views": []
    },
    "ffff0f48422243c493c1ff2dca2b27a2": {
     "views": []
    }
   },
   "version": "1.1.2"
  }
 },
 "nbformat": 4,
 "nbformat_minor": 0
}
